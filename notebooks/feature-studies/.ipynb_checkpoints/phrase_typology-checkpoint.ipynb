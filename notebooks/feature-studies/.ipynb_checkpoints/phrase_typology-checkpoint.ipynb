{
 "metadata": {
  "name": ""
 },
 "nbformat": 3,
 "nbformat_minor": 0,
 "worksheets": [
  {
   "cells": [
    {
     "cell_type": "markdown",
     "metadata": {},
     "source": [
      "<a href=\"http://laf-fabric.readthedocs.org/en/latest/\" target=\"_blank\"><img src=\"files/laf-fabric-small.png\"/></a>\n",
      "<a href=\"http://www.godgeleerdheid.vu.nl/etcbc\" target=\"_blank\"><img src=\"files/VU-ETCBC-small.png\"/></a>\n",
      "<a href=\"http://tla.mpi.nl\" target=\"_blank\"><img src=\"files/TLA-small.png\"/></a>\n",
      "<a href=\"http://www.dans.knaw.nl\" target=\"_blank\"><img src=\"files/DANS-small.png\"/></a>"
     ]
    },
    {
     "cell_type": "heading",
     "level": 1,
     "metadata": {},
     "source": [
      "Phrase typology"
     ]
    },
    {
     "cell_type": "markdown",
     "metadata": {},
     "source": [
      "We explore the features *phrase_function* and *phrase_type* on phrases.\n",
      "\n",
      "First an inventory of the possible values."
     ]
    },
    {
     "cell_type": "code",
     "collapsed": false,
     "input": [
      "import sys\n",
      "import collections\n",
      "import laf\n",
      "from laf.notebook import Notebook\n",
      "processor = Notebook()"
     ],
     "language": "python",
     "metadata": {},
     "outputs": [],
     "prompt_number": 2
    },
    {
     "cell_type": "code",
     "collapsed": false,
     "input": [
      "processor.init('bhs3.txt.hdr', '--', 'phrases', {\n",
      "    \"xmlids\": {\n",
      "        \"node\": False,\n",
      "        \"edge\": False,\n",
      "    },\n",
      "    \"features\": {\n",
      "        \"shebanq\": {\n",
      "            \"node\": [\n",
      "                \"db.otype\",\n",
      "                \"sft.verse_label\",\n",
      "                \"ft.text\",\n",
      "                \"ft.phrase_function,phrase_type\",\n",
      "            ],\n",
      "            \"edge\": [\n",
      "            ],\n",
      "        },\n",
      "    },\n",
      "    \"primary\": False,\n",
      "})\n",
      "\n",
      "API = processor.API()\n",
      "F = API['F']\n",
      "NN = API['NN']\n",
      "msg = API['msg']\n",
      "C = API['C']\n",
      "Ci = API['Ci']"
     ],
     "language": "python",
     "metadata": {},
     "outputs": [
      {
       "output_type": "stream",
       "stream": "stderr",
       "text": [
        "  0.00s COMPILING source: UP TO DATE\n"
       ]
      },
      {
       "output_type": "stream",
       "stream": "stderr",
       "text": [
        "  0.00s COMPILING annox: UP TO DATE\n"
       ]
      },
      {
       "output_type": "stream",
       "stream": "stderr",
       "text": [
        "  0.00s loading common: node_anchor_min ... \n"
       ]
      },
      {
       "output_type": "stream",
       "stream": "stderr",
       "text": [
        "  0.16s loading common: node_anchor_max ... \n"
       ]
      },
      {
       "output_type": "stream",
       "stream": "stderr",
       "text": [
        "  0.32s loading common: node_events ... \n"
       ]
      },
      {
       "output_type": "stream",
       "stream": "stderr",
       "text": [
        "  1.23s loading common: node_events_n ... \n"
       ]
      },
      {
       "output_type": "stream",
       "stream": "stderr",
       "text": [
        "  1.58s loading common: node_events_k ... \n"
       ]
      },
      {
       "output_type": "stream",
       "stream": "stderr",
       "text": [
        "  1.80s loading common: node_sort ... \n"
       ]
      },
      {
       "output_type": "stream",
       "stream": "stderr",
       "text": [
        "  1.92s loading common: node_out ... \n"
       ]
      },
      {
       "output_type": "stream",
       "stream": "stderr",
       "text": [
        "  2.21s loading common: node_in ... \n"
       ]
      },
      {
       "output_type": "stream",
       "stream": "stderr",
       "text": [
        "  2.53s loading common: edges_from ... \n"
       ]
      },
      {
       "output_type": "stream",
       "stream": "stderr",
       "text": [
        "  2.65s loading common: edges_to ... \n"
       ]
      },
      {
       "output_type": "stream",
       "stream": "stderr",
       "text": [
        "  2.76s loading feature: feature ('shebanq', 'sft', 'verse_label', 'node') ... \n"
       ]
      },
      {
       "output_type": "stream",
       "stream": "stderr",
       "text": [
        "  2.79s loading feature: feature ('shebanq', 'ft', 'text', 'node') ... \n"
       ]
      },
      {
       "output_type": "stream",
       "stream": "stderr",
       "text": [
        "  3.38s loading feature: feature ('shebanq', 'ft', 'phrase_function', 'node') ... \n"
       ]
      },
      {
       "output_type": "stream",
       "stream": "stderr",
       "text": [
        "  3.58s loading feature: feature ('shebanq', 'db', 'otype', 'node') ... \n"
       ]
      },
      {
       "output_type": "stream",
       "stream": "stderr",
       "text": [
        "  4.98s loading feature: feature ('shebanq', 'ft', 'phrase_type', 'node') ... \n"
       ]
      },
      {
       "output_type": "stream",
       "stream": "stderr",
       "text": [
        "  5.20s loading annox: xfeature ('shebanq', 'sft', 'verse_label', 'node') ... \n"
       ]
      },
      {
       "output_type": "stream",
       "stream": "stderr",
       "text": [
        "  5.20s loading annox: xfeature ('shebanq', 'ft', 'text', 'node') ... \n"
       ]
      },
      {
       "output_type": "stream",
       "stream": "stderr",
       "text": [
        "  5.21s loading annox: xfeature ('shebanq', 'ft', 'phrase_function', 'node') ... \n"
       ]
      },
      {
       "output_type": "stream",
       "stream": "stderr",
       "text": [
        "  5.21s loading annox: xfeature ('shebanq', 'db', 'otype', 'node') ... \n"
       ]
      },
      {
       "output_type": "stream",
       "stream": "stderr",
       "text": [
        "  5.21s loading annox: xfeature ('shebanq', 'ft', 'phrase_type', 'node') ... \n"
       ]
      },
      {
       "output_type": "stream",
       "stream": "stderr",
       "text": [
        "  6.21s present feature: shebanq:ft.phrase_type (node) from source bhs3.txt.hdr, annox --\n"
       ]
      },
      {
       "output_type": "stream",
       "stream": "stderr",
       "text": [
        "  6.21s present feature: shebanq:sft.verse_label (node) from source bhs3.txt.hdr, annox --\n"
       ]
      },
      {
       "output_type": "stream",
       "stream": "stderr",
       "text": [
        "  6.21s present feature: shebanq:ft.phrase_function (node) from source bhs3.txt.hdr, annox --\n"
       ]
      },
      {
       "output_type": "stream",
       "stream": "stderr",
       "text": [
        "  6.21s present feature: shebanq:db.otype (node) from source bhs3.txt.hdr, annox --\n"
       ]
      },
      {
       "output_type": "stream",
       "stream": "stderr",
       "text": [
        "  6.21s present feature: shebanq:ft.text (node) from source bhs3.txt.hdr, annox --\n"
       ]
      },
      {
       "output_type": "stream",
       "stream": "stderr",
       "text": [
        "  0.00s LOGFILE=/Users/dirk/Scratch/shebanq/results/bhs3.txt.hdr/participle/__log__participle.txt\n"
       ]
      },
      {
       "output_type": "stream",
       "stream": "stderr",
       "text": [
        "  0.00s BEGIN TASK=participle SOURCE=bhs3.txt.hdr\n"
       ]
      }
     ],
     "prompt_number": 3
    },
    {
     "cell_type": "heading",
     "level": 1,
     "metadata": {},
     "source": [
      "Trees"
     ]
    },
    {
     "cell_type": "markdown",
     "metadata": {},
     "source": [
      "We need trees in order to connect to sentences and words to clauses and sentences.\n",
      "Our trees are based on the *parents* edges.\n",
      "\n",
      "First we have to find starting points, the top nodes, which are the sentence objects.\n",
      "We find them by starting with each word and move along the parents edges until there are no more parents. We collect these top nodes in a set (so duplicates are filtered out automatically).\n",
      "\n",
      "In another notebook I have verified that we get *all* sentence objects this way and *only* sentence objects. "
     ]
    },
    {
     "cell_type": "code",
     "collapsed": false,
     "input": [
      "phrase_types = collections.defaultdict(int)\n",
      "phrase_functions = collections.defaultdict(int)\n",
      "n_phrase = 0\n",
      "\n",
      "for node in NN(test=F.shebanq_db_otype.v, value='phrase'):\n",
      "    phrase_type = F.shebanq_ft_phrase_type.v(node)\n",
      "    phrase_types[phrase_type] += 1\n",
      "    phrase_function = F.shebanq_ft_phrase_function.v(node)\n",
      "    phrase_functions[phrase_function] += 1\n",
      "    n_phrase += 1\n",
      "\n",
      "msg(\"{} phrases\".format(n_phrase))\n",
      "print(\"Phrase types\")\n",
      "for phrase_type in phrase_types:\n",
      "    print(\"{:<6}: {:>6}x \".format(\n",
      "            phrase_type,\n",
      "            phrase_types[phrase_type],\n",
      "    ))\n",
      "print(\"Phrase functions\")\n",
      "for phrase_function in phrase_functions:\n",
      "    print(\"{:<6}: {:>6}x \".format(\n",
      "            phrase_function,\n",
      "            phrase_functions[phrase_function],\n",
      "    ))"
     ],
     "language": "python",
     "metadata": {},
     "outputs": [
      {
       "output_type": "stream",
       "stream": "stderr",
       "text": [
        " 7m 05s 257109 phrases\n"
       ]
      },
      {
       "output_type": "stream",
       "stream": "stdout",
       "text": [
        "Phrase types\n",
        "PP    :  59258x \n",
        "PrNP  :  10468x \n",
        "IPrP  :    926x \n",
        "PPrP  :   4315x \n",
        "InrP  :   1280x \n",
        "NegP  :   6786x \n",
        "AdvP  :   4730x \n",
        "InjP  :   2031x \n",
        "DPrP  :    857x \n",
        "CP    :  53116x \n",
        "VP    :  68983x \n",
        "AdjP  :   1961x \n",
        "NP    :  42398x \n",
        "Phrase functions\n",
        "IrpO  :    135x \n",
        "Modi  :   3217x \n",
        "PreS  :    639x \n",
        "IntS  :    162x \n",
        "PtSp  :      2x \n",
        "ModS  :     29x \n",
        "IrpC  :     22x \n",
        "NegS  :     50x \n",
        "Rela  :   5447x \n",
        "Supp  :    331x \n",
        "Frnt  :    841x \n",
        "Adju  :   6360x \n",
        "PreC  :  14904x \n",
        "Loca  :   2184x \n",
        "Voct  :    856x \n",
        "PreO  :   5691x \n",
        "ExsS  :      7x \n",
        "IrpS  :    196x \n",
        "Time  :   2903x \n",
        "IrpP  :    154x \n",
        "Conj  :  33649x \n",
        "PtcO  :    108x \n",
        "Unkn  :  55498x \n",
        "Cmpl  :  22729x \n",
        "Intj  :   1264x \n",
        "Subj  :  21733x \n",
        "Objc  :  15768x \n",
        "Pred  :  56451x \n",
        "Ques  :    899x \n",
        "Nega  :   4775x \n",
        "Exst  :    105x \n"
       ]
      }
     ],
     "prompt_number": 7
    },
    {
     "cell_type": "heading",
     "level": 1,
     "metadata": {},
     "source": [
      "Definitions"
     ]
    },
    {
     "cell_type": "markdown",
     "metadata": {},
     "source": [
      "**SW** means that a phrase marked with this parsing label consists of one word only.\n",
      "\n",
      "### IrpS \n",
      "**SW** Interrogative pronoun functioning as as a subject.\n",
      "\n",
      "### IrpO\n",
      "\n",
      "**SW** Interrogative pronoun functioning as as an object.\n",
      "\n",
      "### IrpC \n",
      "\n",
      "**SW** Interrogative pronoun functioning as as a complement.\n",
      "\n",
      "### IrpP\n",
      "\n",
      "**SW** Interrogative pronoun functioning as as a nominal predicate.\n",
      "\n",
      "### Modi\n",
      "\n",
      "**SW** Adverb indicating the manner of the verb is performed.\n",
      "\n",
      "### PreS\n",
      "\n",
      "**SW** Verbal infinitive with suffix functioning as subject.\n",
      "\n",
      "### IntS\n",
      "\n",
      "**SW** Interjection with suffix functioning as subject. (e.g. hinneni)\n",
      "\n",
      "### PtSp\n",
      "\n",
      "**SW** Participium with suffix which is possessive.\n",
      "\n",
      "### ModS\n",
      "\n",
      "**SW** Modifier/particle with a subject suffix. (ayin wav daleth)\n",
      "\n",
      "NegS  :     50x \n",
      "Rela  :   5447x \n",
      "Supp  :    331x \n",
      "Frnt  :    841x \n",
      "Adju  :   6360x \n",
      "PreC  :  14904x \n",
      "Loca  :   2184x \n",
      "Voct  :    856x \n",
      "PreO  :   5691x \n",
      "ExsS  :      7x \n",
      "Time  :   2903x \n",
      "Conj  :  33649x \n",
      "PtcO  :    108x \n",
      "Unkn  :  55498x \n",
      "Cmpl  :  22729x \n",
      "Intj  :   1264x \n",
      "Subj  :  21733x \n",
      "Objc  :  15768x \n",
      "Pred  :  56451x \n",
      "Ques  :    899x \n",
      "Nega  :   4775x \n",
      "Exst  :    105x "
     ]
    },
    {
     "cell_type": "code",
     "collapsed": false,
     "input": [],
     "language": "python",
     "metadata": {},
     "outputs": []
    }
   ],
   "metadata": {}
  }
 ]
}