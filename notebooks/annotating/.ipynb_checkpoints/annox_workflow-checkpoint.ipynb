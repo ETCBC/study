{
 "metadata": {
  "name": ""
 },
 "nbformat": 3,
 "nbformat_minor": 0,
 "worksheets": [
  {
   "cells": [
    {
     "cell_type": "markdown",
     "metadata": {},
     "source": [
      "<a href=\"http://laf-fabric.readthedocs.org/en/latest/\" target=\"_blank\"><img src=\"files/images/laf-fabric-small.png\"/></a>\n",
      "<a href=\"http://www.dans.knaw.nl\" target=\"_blank\"><img src=\"files/images/DANS-small.png\"/></a>\n",
      "<a href=\"http://tla.mpi.nl\" target=\"_blank\"><img src=\"files/images/TLA-small.png\"/></a>\n",
      "<a href=\"http://www.godgeleerdheid.vu.nl/etcbc\" target=\"_blank\"><img src=\"files/images/VU-ETCBC-small.png\"/></a>"
     ]
    },
    {
     "cell_type": "heading",
     "level": 1,
     "metadata": {},
     "source": [
      "Making new annotations"
     ]
    },
    {
     "cell_type": "markdown",
     "metadata": {},
     "source": [
      "It is possible to make your own annotations to the existing nodes and edges of a LAF resource, and use them later on.\n",
      "\n",
      "This notebook shows how that can be done.\n",
      "\n",
      "**The original LAF source will not be changed**.\n",
      "\n",
      "You make your own annotations and they will be saved in a file.\n",
      "By putting this file in a location where LAF-Fabric can find it, and by instructing LAF-Fabric to include this file, you can do analysis on the original source plus your new annotations.\n",
      "\n",
      "Annotations are organized by annotation spaces. \n",
      "If you choose a space that is different from the annotation spaces inthe main source your own annotations will be distinguishable from the original annotations.\n",
      "\n",
      "But you can also choose to override original annotations with your own ones.\n",
      "In that case you have to create your annotations in the ``shebanq`` space.\n",
      "\n",
      "This notebook is not honed by practice yet. \n",
      "There are clumsy things such as manually copy files and putting them into directories, and editing certain header files.\n",
      "\n",
      "That said, this notebook performs the LAF specific things, and further adaptations do not involve deep dives into the LAF-Fabric."
     ]
    },
    {
     "cell_type": "heading",
     "level": 2,
     "metadata": {},
     "source": [
      "Preparation"
     ]
    },
    {
     "cell_type": "markdown",
     "metadata": {},
     "source": [
      "In order to run this notebook, it is necessary to have an extra annotations package called ``testannots`` on your system.\n",
      "If you have downloaded data from the given link, you have that directory."
     ]
    },
    {
     "cell_type": "code",
     "collapsed": false,
     "input": [
      "import sys\n",
      "import collections\n",
      "\n",
      "import pandas\n",
      "from IPython.display import display\n",
      "pandas.set_option('display.notebook_repr_html', True)\n",
      "\n",
      "import laf\n",
      "from laf.notebook import Notebook\n",
      "from GenForm import GenForm\n",
      "\n",
      "processor = Notebook()"
     ],
     "language": "python",
     "metadata": {},
     "outputs": [],
     "prompt_number": 1
    },
    {
     "cell_type": "code",
     "collapsed": false,
     "input": [
      "processor.init('bhs3.txt.hdr', '--', 'annox_workflow', {\n",
      "    \"primary\": True,\n",
      "    \"xmlids\": {\n",
      "        \"node\": True,\n",
      "        \"edge\": False,\n",
      "    },\n",
      "    \"features\": {\n",
      "        \"shebanq\": {\n",
      "            \"node\": [\n",
      "                \"db.otype,oid,monads\",\n",
      "                \"ft.phrase_type,part_of_speech\",\n",
      "                \"sft.book,chapter,verse\",\n",
      "            ],\n",
      "            \"edge\": [\n",
      "            ],\n",
      "        },\n",
      "    },\n",
      "})\n",
      "API = processor.API()\n",
      "F = API['F']\n",
      "P = API['P']\n",
      "X = API['X']\n",
      "NN = API['NN']\n",
      "msg = API['msg']\n",
      "my_file = API['my_file']"
     ],
     "language": "python",
     "metadata": {},
     "outputs": [
      {
       "output_type": "stream",
       "stream": "stderr",
       "text": [
        "  0.00s COMPILING source: UP TO DATE\n"
       ]
      },
      {
       "output_type": "stream",
       "stream": "stderr",
       "text": [
        "  0.00s COMPILING annox: UP TO DATE\n"
       ]
      },
      {
       "output_type": "stream",
       "stream": "stderr",
       "text": [
        "  0.00s loading common: node_anchor_min ... \n"
       ]
      },
      {
       "output_type": "stream",
       "stream": "stderr",
       "text": [
        "  0.17s loading common: node_anchor_max ... \n"
       ]
      },
      {
       "output_type": "stream",
       "stream": "stderr",
       "text": [
        "  0.31s loading common: node_events ... \n"
       ]
      },
      {
       "output_type": "stream",
       "stream": "stderr",
       "text": [
        "  1.25s loading common: node_events_n ... \n"
       ]
      },
      {
       "output_type": "stream",
       "stream": "stderr",
       "text": [
        "  1.62s loading common: node_events_k ... \n"
       ]
      },
      {
       "output_type": "stream",
       "stream": "stderr",
       "text": [
        "  1.85s loading common: node_sort ... \n"
       ]
      },
      {
       "output_type": "stream",
       "stream": "stderr",
       "text": [
        "  1.97s loading common: node_out ... \n"
       ]
      },
      {
       "output_type": "stream",
       "stream": "stderr",
       "text": [
        "  2.26s loading common: node_in ... \n"
       ]
      },
      {
       "output_type": "stream",
       "stream": "stderr",
       "text": [
        "  2.57s loading common: edges_from ... \n"
       ]
      },
      {
       "output_type": "stream",
       "stream": "stderr",
       "text": [
        "  2.68s loading common: edges_to ... \n"
       ]
      },
      {
       "output_type": "stream",
       "stream": "stderr",
       "text": [
        "  2.80s loading primary: data ... \n"
       ]
      },
      {
       "output_type": "stream",
       "stream": "stderr",
       "text": [
        "  2.82s loading primary: node_anchor ... \n"
       ]
      },
      {
       "output_type": "stream",
       "stream": "stderr",
       "text": [
        "  3.44s loading xmlids: xid node ... \n"
       ]
      },
      {
       "output_type": "stream",
       "stream": "stderr",
       "text": [
        "  5.21s loading feature: feature ('shebanq', 'sft', 'chapter', 'node') ... \n"
       ]
      },
      {
       "output_type": "stream",
       "stream": "stderr",
       "text": [
        "  5.23s loading feature: feature ('shebanq', 'sft', 'book', 'node') ... \n"
       ]
      },
      {
       "output_type": "stream",
       "stream": "stderr",
       "text": [
        "  5.26s loading feature: feature ('shebanq', 'sft', 'verse', 'node') ... \n"
       ]
      },
      {
       "output_type": "stream",
       "stream": "stderr",
       "text": [
        "  5.27s loading feature: feature ('shebanq', 'ft', 'part_of_speech', 'node') ... \n"
       ]
      },
      {
       "output_type": "stream",
       "stream": "stderr",
       "text": [
        "  5.60s loading feature: feature ('shebanq', 'db', 'otype', 'node') ... \n"
       ]
      },
      {
       "output_type": "stream",
       "stream": "stderr",
       "text": [
        "  6.72s loading feature: feature ('shebanq', 'ft', 'phrase_type', 'node') ... \n"
       ]
      },
      {
       "output_type": "stream",
       "stream": "stderr",
       "text": [
        "  6.90s loading feature: feature ('shebanq', 'db', 'oid', 'node') ... \n"
       ]
      },
      {
       "output_type": "stream",
       "stream": "stderr",
       "text": [
        "  8.20s loading feature: feature ('shebanq', 'db', 'monads', 'node') ... \n"
       ]
      },
      {
       "output_type": "stream",
       "stream": "stderr",
       "text": [
        "  9.86s loading annox: xfeature ('shebanq', 'sft', 'chapter', 'node') ... \n"
       ]
      },
      {
       "output_type": "stream",
       "stream": "stderr",
       "text": [
        "  9.86s loading annox: xfeature ('shebanq', 'sft', 'book', 'node') ... \n"
       ]
      },
      {
       "output_type": "stream",
       "stream": "stderr",
       "text": [
        "  9.86s loading annox: xfeature ('shebanq', 'sft', 'verse', 'node') ... \n"
       ]
      },
      {
       "output_type": "stream",
       "stream": "stderr",
       "text": [
        "  9.86s loading annox: xfeature ('shebanq', 'ft', 'part_of_speech', 'node') ... \n"
       ]
      },
      {
       "output_type": "stream",
       "stream": "stderr",
       "text": [
        "  9.86s loading annox: xfeature ('shebanq', 'db', 'otype', 'node') ... \n"
       ]
      },
      {
       "output_type": "stream",
       "stream": "stderr",
       "text": [
        "  9.86s loading annox: xfeature ('shebanq', 'ft', 'phrase_type', 'node') ... \n"
       ]
      },
      {
       "output_type": "stream",
       "stream": "stderr",
       "text": [
        "  9.86s loading annox: xfeature ('shebanq', 'db', 'oid', 'node') ... \n"
       ]
      },
      {
       "output_type": "stream",
       "stream": "stderr",
       "text": [
        "  9.86s loading annox: xfeature ('shebanq', 'db', 'monads', 'node') ... \n"
       ]
      },
      {
       "output_type": "stream",
       "stream": "stderr",
       "text": [
        "    11s present xmlids: node\n"
       ]
      },
      {
       "output_type": "stream",
       "stream": "stderr",
       "text": [
        "    11s present feature: shebanq:sft.chapter (node) from annox --, source bhs3.txt.hdr\n"
       ]
      },
      {
       "output_type": "stream",
       "stream": "stderr",
       "text": [
        "    11s present feature: shebanq:sft.book (node) from annox --, source bhs3.txt.hdr\n"
       ]
      },
      {
       "output_type": "stream",
       "stream": "stderr",
       "text": [
        "    11s present feature: shebanq:sft.verse (node) from annox --, source bhs3.txt.hdr\n"
       ]
      },
      {
       "output_type": "stream",
       "stream": "stderr",
       "text": [
        "    11s present feature: shebanq:ft.part_of_speech (node) from annox --, source bhs3.txt.hdr\n"
       ]
      },
      {
       "output_type": "stream",
       "stream": "stderr",
       "text": [
        "    11s present feature: shebanq:db.otype (node) from annox --, source bhs3.txt.hdr\n"
       ]
      },
      {
       "output_type": "stream",
       "stream": "stderr",
       "text": [
        "    11s present feature: shebanq:ft.phrase_type (node) from annox --, source bhs3.txt.hdr\n"
       ]
      },
      {
       "output_type": "stream",
       "stream": "stderr",
       "text": [
        "    11s present feature: shebanq:db.oid (node) from annox --, source bhs3.txt.hdr\n"
       ]
      },
      {
       "output_type": "stream",
       "stream": "stderr",
       "text": [
        "    11s present feature: shebanq:db.monads (node) from annox --, source bhs3.txt.hdr\n"
       ]
      },
      {
       "output_type": "stream",
       "stream": "stderr",
       "text": [
        "  0.00s LOGFILE=/Users/dirk/Scratch/laf-fabric-data/bhs3.txt.hdr/annox_workflow/__log__annox_workflow.txt\n"
       ]
      },
      {
       "output_type": "stream",
       "stream": "stderr",
       "text": [
        "  0.00s BEGIN TASK=annox_workflow SOURCE=bhs3.txt.hdr\n"
       ]
      },
      {
       "output_type": "stream",
       "stream": "stderr",
       "text": [
        "  0.00s Loading API\n"
       ]
      },
      {
       "output_type": "stream",
       "stream": "stderr",
       "text": [
        "  0.26s P: Primary Data\n"
       ]
      },
      {
       "output_type": "stream",
       "stream": "stderr",
       "text": [
        "  0.27s NN, NE: Next Node and Node Events\n"
       ]
      },
      {
       "output_type": "stream",
       "stream": "stderr",
       "text": [
        "  0.27s F: Features\n"
       ]
      },
      {
       "output_type": "stream",
       "stream": "stderr",
       "text": [
        "  0.27s C, Ci: Connections\n"
       ]
      },
      {
       "output_type": "stream",
       "stream": "stderr",
       "text": [
        "  0.27s X: XML ids\n"
       ]
      },
      {
       "output_type": "stream",
       "stream": "stderr",
       "text": [
        "  0.27s API loaded\n"
       ]
      }
     ],
     "prompt_number": 2
    },
    {
     "cell_type": "heading",
     "level": 1,
     "metadata": {},
     "source": [
      "Workflow"
     ]
    },
    {
     "cell_type": "markdown",
     "metadata": {},
     "source": [
      "This is the workflow for new annotation data:\n",
      "\n",
      "1. First tell LAF-Fabric to construct a spreadsheet\n",
      "2. Fill in that spreadsheet\n",
      "3. Ask LAF-Fabric to read the filled in spreadsheet and turn it into a LAF file.\n",
      "4. Place the new annotations file in the right place.\n",
      "5. Use the new annotations."
     ]
    },
    {
     "cell_type": "heading",
     "level": 2,
     "metadata": {},
     "source": [
      "Step 1: Construct a spreadsheet"
     ]
    },
    {
     "cell_type": "markdown",
     "metadata": {},
     "source": [
      "In the dictionary config below, you can specify a spreadsheet with rows and colomns.\n",
      "\n",
      "On each row you see the textual representation of the objects you specify, from the passages you specify.\n",
      "You can also ask for other columns with feature information for reference.\n",
      "There are extra columns for new features, with names that you specify.\n",
      "\n",
      "The first column is reserved for the XML identifier in the LAF resource of the node that corresponds with the information you are looking at in that row.\n",
      "\n",
      "In this example the second column shows words, the third column shows phrases, and the fourth column shows empty cells for the new feature ``dirk_part_intro`` and the fifth column shows empty cells for the new feature ``dirk_part_role``."
     ]
    },
    {
     "cell_type": "code",
     "collapsed": false,
     "input": [
      "form = GenForm(API, \"dirk_intro_role\", {\n",
      "    'target_types': [\n",
      "        'word',\n",
      "        'phrase',\n",
      "    ],\n",
      "    'show_features': {\n",
      "        'shebanq': {\n",
      "            'node': [\n",
      "                \"ft.phrase_type,part_of_speech\",\n",
      "            ],\n",
      "        },\n",
      "    },\n",
      "    'new_features': {\n",
      "        'dirk': {\n",
      "            'node': [\n",
      "                \"part.intro,role\",\n",
      "            ],\n",
      "        },\n",
      "    },\n",
      "    'passages': {\n",
      "        'Genesis': '1-3',\n",
      "        'Isaiah': '40,66',\n",
      "    },\n",
      "})"
     ],
     "language": "python",
     "metadata": {},
     "outputs": [],
     "prompt_number": 3
    },
    {
     "cell_type": "heading",
     "level": 3,
     "metadata": {},
     "source": [
      "The form create function"
     ]
    },
    {
     "cell_type": "markdown",
     "metadata": {},
     "source": [
      "Run the make_form function:"
     ]
    },
    {
     "cell_type": "code",
     "collapsed": false,
     "input": [
      "form.make_form()"
     ],
     "language": "python",
     "metadata": {},
     "outputs": [
      {
       "output_type": "stream",
       "stream": "stderr",
       "text": [
        "    20s Reading the data ...\n"
       ]
      },
      {
       "output_type": "stream",
       "stream": "stderr",
       "text": [
        "Genesis1,2,3,"
       ]
      },
      {
       "output_type": "stream",
       "stream": "stderr",
       "text": [
        "**"
       ]
      },
      {
       "output_type": "stream",
       "stream": "stderr",
       "text": [
        "**"
       ]
      },
      {
       "output_type": "stream",
       "stream": "stderr",
       "text": [
        "***"
       ]
      },
      {
       "output_type": "stream",
       "stream": "stderr",
       "text": [
        "***"
       ]
      },
      {
       "output_type": "stream",
       "stream": "stderr",
       "text": [
        "Isaiah40,66,"
       ]
      },
      {
       "output_type": "stream",
       "stream": "stderr",
       "text": [
        "**"
       ]
      },
      {
       "output_type": "stream",
       "stream": "stderr",
       "text": [
        "**********"
       ]
      },
      {
       "output_type": "stream",
       "stream": "stderr",
       "text": [
        "****"
       ]
      },
      {
       "output_type": "stream",
       "stream": "stderr",
       "text": [
        "****"
       ]
      },
      {
       "output_type": "stream",
       "stream": "stderr",
       "text": [
        "****"
       ]
      },
      {
       "output_type": "stream",
       "stream": "stderr",
       "text": [
        "***"
       ]
      },
      {
       "output_type": "stream",
       "stream": "stderr",
       "text": [
        "    22s Done\n"
       ]
      }
     ],
     "prompt_number": 4
    },
    {
     "cell_type": "markdown",
     "metadata": {},
     "source": [
      "Look at the form in its text form:"
     ]
    },
    {
     "cell_type": "code",
     "collapsed": false,
     "input": [
      "form_data = pandas.read_csv(my_file(\"form_{}.csv\".format(form.name)), sep='\\t', na_filter=False)\n",
      "form_data.head(15)"
     ],
     "language": "python",
     "metadata": {},
     "outputs": [
      {
       "html": [
        "<div style=\"max-height:1000px;max-width:1500px;overflow:auto;\">\n",
        "<table border=\"1\" class=\"dataframe\">\n",
        "  <thead>\n",
        "    <tr style=\"text-align: right;\">\n",
        "      <th></th>\n",
        "      <th>passage</th>\n",
        "      <th>word</th>\n",
        "      <th>phrase</th>\n",
        "      <th>phrase type</th>\n",
        "      <th>part of speech</th>\n",
        "      <th>dirk:part.intro</th>\n",
        "      <th>dirk:part.role</th>\n",
        "    </tr>\n",
        "  </thead>\n",
        "  <tbody>\n",
        "    <tr>\n",
        "      <th>0 </th>\n",
        "      <td> #Genesis 1:1</td>\n",
        "      <td>           </td>\n",
        "      <td>                                  </td>\n",
        "      <td>   </td>\n",
        "      <td>            </td>\n",
        "      <td> </td>\n",
        "      <td> </td>\n",
        "    </tr>\n",
        "    <tr>\n",
        "      <th>1 </th>\n",
        "      <td>       n59556</td>\n",
        "      <td>           </td>\n",
        "      <td>                      \u05d1\u05b0\u05bc\u05e8\u05b5\u05d0\u05e9\u05b4\u05c1\u0596\u05d9\u05ea</td>\n",
        "      <td> PP</td>\n",
        "      <td>            </td>\n",
        "      <td> </td>\n",
        "      <td> </td>\n",
        "    </tr>\n",
        "    <tr>\n",
        "      <th>2 </th>\n",
        "      <td>           n2</td>\n",
        "      <td>        \u05d1\u05b0\u05bc</td>\n",
        "      <td>                                  </td>\n",
        "      <td>   </td>\n",
        "      <td> preposition</td>\n",
        "      <td> </td>\n",
        "      <td> </td>\n",
        "    </tr>\n",
        "    <tr>\n",
        "      <th>3 </th>\n",
        "      <td>           n3</td>\n",
        "      <td>  \u05e8\u05b5\u05d0\u05e9\u05b4\u05c1\u0596\u05d9\u05ea</td>\n",
        "      <td>                                  </td>\n",
        "      <td>   </td>\n",
        "      <td>        noun</td>\n",
        "      <td> </td>\n",
        "      <td> </td>\n",
        "    </tr>\n",
        "    <tr>\n",
        "      <th>4 </th>\n",
        "      <td>           n4</td>\n",
        "      <td>    \u05d1\u05b8\u05bc\u05e8\u05b8\u05a3\u05d0</td>\n",
        "      <td>                                  </td>\n",
        "      <td>   </td>\n",
        "      <td>        verb</td>\n",
        "      <td> </td>\n",
        "      <td> </td>\n",
        "    </tr>\n",
        "    <tr>\n",
        "      <th>5 </th>\n",
        "      <td>       n59557</td>\n",
        "      <td>           </td>\n",
        "      <td>                           \u05d1\u05b8\u05bc\u05e8\u05b8\u05a3\u05d0</td>\n",
        "      <td> VP</td>\n",
        "      <td>            </td>\n",
        "      <td> </td>\n",
        "      <td> </td>\n",
        "    </tr>\n",
        "    <tr>\n",
        "      <th>6 </th>\n",
        "      <td>           n5</td>\n",
        "      <td>  \u05d0\u05b1\u05dc\u05b9\u05d4\u05b4\u0591\u05d9\u05dd</td>\n",
        "      <td>                                  </td>\n",
        "      <td>   </td>\n",
        "      <td>        noun</td>\n",
        "      <td> </td>\n",
        "      <td> </td>\n",
        "    </tr>\n",
        "    <tr>\n",
        "      <th>7 </th>\n",
        "      <td>       n59558</td>\n",
        "      <td>           </td>\n",
        "      <td>                         \u05d0\u05b1\u05dc\u05b9\u05d4\u05b4\u0591\u05d9\u05dd</td>\n",
        "      <td> NP</td>\n",
        "      <td>            </td>\n",
        "      <td> </td>\n",
        "      <td> </td>\n",
        "    </tr>\n",
        "    <tr>\n",
        "      <th>8 </th>\n",
        "      <td>       n59559</td>\n",
        "      <td>           </td>\n",
        "      <td> \u05d0\u05b5\u05a5\u05ea \u05d4\u05b7\u05e9\u05b8\u05bc\u05c1\u05de\u05b7\u0596\u05d9\u05b4\u05dd \u05d5\u05b0\u05d0\u05b5\u05a5\u05ea \u05d4\u05b8\u05d0\u05b8\u05bd\u05e8\u05b6\u05e5</td>\n",
        "      <td> PP</td>\n",
        "      <td>            </td>\n",
        "      <td> </td>\n",
        "      <td> </td>\n",
        "    </tr>\n",
        "    <tr>\n",
        "      <th>9 </th>\n",
        "      <td>           n6</td>\n",
        "      <td>       \u05d0\u05b5\u05a5\u05ea</td>\n",
        "      <td>                                  </td>\n",
        "      <td>   </td>\n",
        "      <td> preposition</td>\n",
        "      <td> </td>\n",
        "      <td> </td>\n",
        "    </tr>\n",
        "    <tr>\n",
        "      <th>10</th>\n",
        "      <td>           n7</td>\n",
        "      <td>         \u05d4\u05b7</td>\n",
        "      <td>                                  </td>\n",
        "      <td>   </td>\n",
        "      <td>     article</td>\n",
        "      <td> </td>\n",
        "      <td> </td>\n",
        "    </tr>\n",
        "    <tr>\n",
        "      <th>11</th>\n",
        "      <td>           n8</td>\n",
        "      <td> \u05e9\u05b8\u05bc\u05c1\u05de\u05b7\u0596\u05d9\u05b4\u05dd</td>\n",
        "      <td>                                  </td>\n",
        "      <td>   </td>\n",
        "      <td>        noun</td>\n",
        "      <td> </td>\n",
        "      <td> </td>\n",
        "    </tr>\n",
        "    <tr>\n",
        "      <th>12</th>\n",
        "      <td>           n9</td>\n",
        "      <td>         \u05d5\u05b0</td>\n",
        "      <td>                                  </td>\n",
        "      <td>   </td>\n",
        "      <td> conjunction</td>\n",
        "      <td> </td>\n",
        "      <td> </td>\n",
        "    </tr>\n",
        "    <tr>\n",
        "      <th>13</th>\n",
        "      <td>          n10</td>\n",
        "      <td>       \u05d0\u05b5\u05a5\u05ea</td>\n",
        "      <td>                                  </td>\n",
        "      <td>   </td>\n",
        "      <td> preposition</td>\n",
        "      <td> </td>\n",
        "      <td> </td>\n",
        "    </tr>\n",
        "    <tr>\n",
        "      <th>14</th>\n",
        "      <td>          n11</td>\n",
        "      <td>         \u05d4\u05b8</td>\n",
        "      <td>                                  </td>\n",
        "      <td>   </td>\n",
        "      <td>     article</td>\n",
        "      <td> </td>\n",
        "      <td> </td>\n",
        "    </tr>\n",
        "  </tbody>\n",
        "</table>\n",
        "</div>"
       ],
       "metadata": {},
       "output_type": "pyout",
       "prompt_number": 5,
       "text": [
        "         passage        word                             phrase phrase type  \\\n",
        "0   #Genesis 1:1                                                              \n",
        "1         n59556                                   \u05d1\u05b0\u05bc\u05e8\u05b5\u05d0\u05e9\u05b4\u05c1\u0596\u05d9\u05ea          PP   \n",
        "2             n2         \u05d1\u05b0\u05bc                                                  \n",
        "3             n3   \u05e8\u05b5\u05d0\u05e9\u05b4\u05c1\u0596\u05d9\u05ea                                                  \n",
        "4             n4     \u05d1\u05b8\u05bc\u05e8\u05b8\u05a3\u05d0                                                  \n",
        "5         n59557                                        \u05d1\u05b8\u05bc\u05e8\u05b8\u05a3\u05d0          VP   \n",
        "6             n5   \u05d0\u05b1\u05dc\u05b9\u05d4\u05b4\u0591\u05d9\u05dd                                                  \n",
        "7         n59558                                      \u05d0\u05b1\u05dc\u05b9\u05d4\u05b4\u0591\u05d9\u05dd          NP   \n",
        "8         n59559              \u05d0\u05b5\u05a5\u05ea \u05d4\u05b7\u05e9\u05b8\u05bc\u05c1\u05de\u05b7\u0596\u05d9\u05b4\u05dd \u05d5\u05b0\u05d0\u05b5\u05a5\u05ea \u05d4\u05b8\u05d0\u05b8\u05bd\u05e8\u05b6\u05e5          PP   \n",
        "9             n6        \u05d0\u05b5\u05a5\u05ea                                                  \n",
        "10            n7          \u05d4\u05b7                                                  \n",
        "11            n8  \u05e9\u05b8\u05bc\u05c1\u05de\u05b7\u0596\u05d9\u05b4\u05dd                                                  \n",
        "12            n9          \u05d5\u05b0                                                  \n",
        "13           n10        \u05d0\u05b5\u05a5\u05ea                                                  \n",
        "14           n11          \u05d4\u05b8                                                  \n",
        "\n",
        "   part of speech dirk:part.intro dirk:part.role  \n",
        "0                                                 \n",
        "1                                                 \n",
        "2     preposition                                 \n",
        "3            noun                                 \n",
        "4            verb                                 \n",
        "5                                                 \n",
        "6            noun                                 \n",
        "7                                                 \n",
        "8                                                 \n",
        "9     preposition                                 \n",
        "10        article                                 \n",
        "11           noun                                 \n",
        "12    conjunction                                 \n",
        "13    preposition                                 \n",
        "14        article                                 "
       ]
      }
     ],
     "prompt_number": 5
    },
    {
     "cell_type": "heading",
     "level": 2,
     "metadata": {},
     "source": [
      "Step 2: Fill in the spreadsheet"
     ]
    },
    {
     "cell_type": "markdown",
     "metadata": {},
     "source": [
      "It is time to fill in your form. \n",
      "First rename it, so that when you create a new blank form, it will not overwrite any data you have already filled in.\n",
      "\n",
      "Replace the ``form`` prefix in your file name by ``data``.\n",
      "It is here: \n",
      "\n"
     ]
    },
    {
     "cell_type": "code",
     "collapsed": false,
     "input": [
      "my_file(\"form_{}.csv\".format(form.name))"
     ],
     "language": "python",
     "metadata": {},
     "outputs": [
      {
       "metadata": {},
       "output_type": "pyout",
       "prompt_number": 7,
       "text": [
        "'/Users/dirk/Scratch/laf-fabric-data/bhs3.txt.hdr/annox_workflow/form_dirk_intro_role.csv'"
       ]
      }
     ],
     "prompt_number": 7
    },
    {
     "cell_type": "markdown",
     "metadata": {},
     "source": [
      "Open the ``data`` file as a spreadsheet.\n",
      "OpenOffice is recommended for that, because it handles unicode well.\n",
      "\n",
      "Fill any your feature values as desired and save.\n",
      "\n",
      "Here you see the latest content of the form:"
     ]
    },
    {
     "cell_type": "code",
     "collapsed": false,
     "input": [
      "form_data = pandas.read_csv(my_file(\"data_{}.csv\".format(form.name)), sep='\\t', na_filter=False)\n",
      "form_data.head(15)"
     ],
     "language": "python",
     "metadata": {},
     "outputs": [
      {
       "html": [
        "<div style=\"max-height:1000px;max-width:1500px;overflow:auto;\">\n",
        "<table border=\"1\" class=\"dataframe\">\n",
        "  <thead>\n",
        "    <tr style=\"text-align: right;\">\n",
        "      <th></th>\n",
        "      <th>passage</th>\n",
        "      <th>word</th>\n",
        "      <th>phrase</th>\n",
        "      <th>phrase type</th>\n",
        "      <th>part of speech</th>\n",
        "      <th>dirk:part.intro</th>\n",
        "      <th>dirk:part.role</th>\n",
        "    </tr>\n",
        "  </thead>\n",
        "  <tbody>\n",
        "    <tr>\n",
        "      <th>0 </th>\n",
        "      <td> #Genesis 1:1</td>\n",
        "      <td>           </td>\n",
        "      <td>                                  </td>\n",
        "      <td>   </td>\n",
        "      <td>            </td>\n",
        "      <td>       </td>\n",
        "      <td>        </td>\n",
        "    </tr>\n",
        "    <tr>\n",
        "      <th>1 </th>\n",
        "      <td>       n59556</td>\n",
        "      <td>           </td>\n",
        "      <td>                      \u05d1\u05b0\u05bc\u05e8\u05b5\u05d0\u05e9\u05b4\u05c1\u0596\u05d9\u05ea</td>\n",
        "      <td> PP</td>\n",
        "      <td>            </td>\n",
        "      <td>   QQQQ</td>\n",
        "      <td>        </td>\n",
        "    </tr>\n",
        "    <tr>\n",
        "      <th>2 </th>\n",
        "      <td>           n2</td>\n",
        "      <td>        \u05d1\u05b0\u05bc</td>\n",
        "      <td>                                  </td>\n",
        "      <td>   </td>\n",
        "      <td> preposition</td>\n",
        "      <td>    ppp</td>\n",
        "      <td> X-x-x-x</td>\n",
        "    </tr>\n",
        "    <tr>\n",
        "      <th>3 </th>\n",
        "      <td>           n3</td>\n",
        "      <td>  \u05e8\u05b5\u05d0\u05e9\u05b4\u05c1\u0596\u05d9\u05ea</td>\n",
        "      <td>                                  </td>\n",
        "      <td>   </td>\n",
        "      <td>        noun</td>\n",
        "      <td> AAAAAA</td>\n",
        "      <td>        </td>\n",
        "    </tr>\n",
        "    <tr>\n",
        "      <th>4 </th>\n",
        "      <td>           n4</td>\n",
        "      <td>    \u05d1\u05b8\u05bc\u05e8\u05b8\u05a3\u05d0</td>\n",
        "      <td>                                  </td>\n",
        "      <td>   </td>\n",
        "      <td>        verb</td>\n",
        "      <td> VVVVVV</td>\n",
        "      <td>        </td>\n",
        "    </tr>\n",
        "    <tr>\n",
        "      <th>5 </th>\n",
        "      <td>       n59557</td>\n",
        "      <td>           </td>\n",
        "      <td>                           \u05d1\u05b8\u05bc\u05e8\u05b8\u05a3\u05d0</td>\n",
        "      <td> VP</td>\n",
        "      <td>            </td>\n",
        "      <td>   RRRR</td>\n",
        "      <td> V-v-v-v</td>\n",
        "    </tr>\n",
        "    <tr>\n",
        "      <th>6 </th>\n",
        "      <td>           n5</td>\n",
        "      <td>  \u05d0\u05b1\u05dc\u05b9\u05d4\u05b4\u0591\u05d9\u05dd</td>\n",
        "      <td>                                  </td>\n",
        "      <td>   </td>\n",
        "      <td>        noun</td>\n",
        "      <td> BBBBBB</td>\n",
        "      <td>        </td>\n",
        "    </tr>\n",
        "    <tr>\n",
        "      <th>7 </th>\n",
        "      <td>       n59558</td>\n",
        "      <td>           </td>\n",
        "      <td>                         \u05d0\u05b1\u05dc\u05b9\u05d4\u05b4\u0591\u05d9\u05dd</td>\n",
        "      <td> NP</td>\n",
        "      <td>            </td>\n",
        "      <td>       </td>\n",
        "      <td>        </td>\n",
        "    </tr>\n",
        "    <tr>\n",
        "      <th>8 </th>\n",
        "      <td>       n59559</td>\n",
        "      <td>           </td>\n",
        "      <td> \u05d0\u05b5\u05a5\u05ea \u05d4\u05b7\u05e9\u05b8\u05bc\u05c1\u05de\u05b7\u0596\u05d9\u05b4\u05dd \u05d5\u05b0\u05d0\u05b5\u05a5\u05ea \u05d4\u05b8\u05d0\u05b8\u05bd\u05e8\u05b6\u05e5</td>\n",
        "      <td> PP</td>\n",
        "      <td>            </td>\n",
        "      <td>       </td>\n",
        "      <td>        </td>\n",
        "    </tr>\n",
        "    <tr>\n",
        "      <th>9 </th>\n",
        "      <td>           n6</td>\n",
        "      <td>       \u05d0\u05b5\u05a5\u05ea</td>\n",
        "      <td>                                  </td>\n",
        "      <td>   </td>\n",
        "      <td> preposition</td>\n",
        "      <td>       </td>\n",
        "      <td> Y-y-y-y</td>\n",
        "    </tr>\n",
        "    <tr>\n",
        "      <th>10</th>\n",
        "      <td>           n7</td>\n",
        "      <td>         \u05d4\u05b7</td>\n",
        "      <td>                                  </td>\n",
        "      <td>   </td>\n",
        "      <td>     article</td>\n",
        "      <td>       </td>\n",
        "      <td>        </td>\n",
        "    </tr>\n",
        "    <tr>\n",
        "      <th>11</th>\n",
        "      <td>           n8</td>\n",
        "      <td> \u05e9\u05b8\u05bc\u05c1\u05de\u05b7\u0596\u05d9\u05b4\u05dd</td>\n",
        "      <td>                                  </td>\n",
        "      <td>   </td>\n",
        "      <td>        noun</td>\n",
        "      <td> CCCCCC</td>\n",
        "      <td>        </td>\n",
        "    </tr>\n",
        "    <tr>\n",
        "      <th>12</th>\n",
        "      <td>           n9</td>\n",
        "      <td>         \u05d5\u05b0</td>\n",
        "      <td>                                  </td>\n",
        "      <td>   </td>\n",
        "      <td> conjunction</td>\n",
        "      <td>       </td>\n",
        "      <td>        </td>\n",
        "    </tr>\n",
        "    <tr>\n",
        "      <th>13</th>\n",
        "      <td>          n10</td>\n",
        "      <td>       \u05d0\u05b5\u05a5\u05ea</td>\n",
        "      <td>                                  </td>\n",
        "      <td>   </td>\n",
        "      <td> preposition</td>\n",
        "      <td>       </td>\n",
        "      <td> Z-z-z-z</td>\n",
        "    </tr>\n",
        "    <tr>\n",
        "      <th>14</th>\n",
        "      <td>          n11</td>\n",
        "      <td>         \u05d4\u05b8</td>\n",
        "      <td>                                  </td>\n",
        "      <td>   </td>\n",
        "      <td>     article</td>\n",
        "      <td>       </td>\n",
        "      <td>        </td>\n",
        "    </tr>\n",
        "  </tbody>\n",
        "</table>\n",
        "</div>"
       ],
       "metadata": {},
       "output_type": "pyout",
       "prompt_number": 8,
       "text": [
        "         passage        word                             phrase phrase type  \\\n",
        "0   #Genesis 1:1                                                              \n",
        "1         n59556                                   \u05d1\u05b0\u05bc\u05e8\u05b5\u05d0\u05e9\u05b4\u05c1\u0596\u05d9\u05ea          PP   \n",
        "2             n2         \u05d1\u05b0\u05bc                                                  \n",
        "3             n3   \u05e8\u05b5\u05d0\u05e9\u05b4\u05c1\u0596\u05d9\u05ea                                                  \n",
        "4             n4     \u05d1\u05b8\u05bc\u05e8\u05b8\u05a3\u05d0                                                  \n",
        "5         n59557                                        \u05d1\u05b8\u05bc\u05e8\u05b8\u05a3\u05d0          VP   \n",
        "6             n5   \u05d0\u05b1\u05dc\u05b9\u05d4\u05b4\u0591\u05d9\u05dd                                                  \n",
        "7         n59558                                      \u05d0\u05b1\u05dc\u05b9\u05d4\u05b4\u0591\u05d9\u05dd          NP   \n",
        "8         n59559              \u05d0\u05b5\u05a5\u05ea \u05d4\u05b7\u05e9\u05b8\u05bc\u05c1\u05de\u05b7\u0596\u05d9\u05b4\u05dd \u05d5\u05b0\u05d0\u05b5\u05a5\u05ea \u05d4\u05b8\u05d0\u05b8\u05bd\u05e8\u05b6\u05e5          PP   \n",
        "9             n6        \u05d0\u05b5\u05a5\u05ea                                                  \n",
        "10            n7          \u05d4\u05b7                                                  \n",
        "11            n8  \u05e9\u05b8\u05bc\u05c1\u05de\u05b7\u0596\u05d9\u05b4\u05dd                                                  \n",
        "12            n9          \u05d5\u05b0                                                  \n",
        "13           n10        \u05d0\u05b5\u05a5\u05ea                                                  \n",
        "14           n11          \u05d4\u05b8                                                  \n",
        "\n",
        "   part of speech dirk:part.intro dirk:part.role  \n",
        "0                                                 \n",
        "1                            QQQQ                 \n",
        "2     preposition             ppp        X-x-x-x  \n",
        "3            noun          AAAAAA                 \n",
        "4            verb          VVVVVV                 \n",
        "5                            RRRR        V-v-v-v  \n",
        "6            noun          BBBBBB                 \n",
        "7                                                 \n",
        "8                                                 \n",
        "9     preposition                        Y-y-y-y  \n",
        "10        article                                 \n",
        "11           noun          CCCCCC                 \n",
        "12    conjunction                                 \n",
        "13    preposition                        Z-z-z-z  \n",
        "14        article                                 "
       ]
      }
     ],
     "prompt_number": 8
    },
    {
     "cell_type": "heading",
     "level": 2,
     "metadata": {},
     "source": [
      "Step 3: Turn the spreadsheet into annotations"
     ]
    },
    {
     "cell_type": "markdown",
     "metadata": {},
     "source": [
      "The ``data`` file is going to be turned into an XML file with annotations to the original LAF resource.\n",
      "\n",
      "Here is the function doing that."
     ]
    },
    {
     "cell_type": "code",
     "collapsed": false,
     "input": [
      "form.make_annots()"
     ],
     "language": "python",
     "metadata": {},
     "outputs": [],
     "prompt_number": 9
    },
    {
     "cell_type": "markdown",
     "metadata": {},
     "source": [
      "Look at the freshly created annotations."
     ]
    },
    {
     "cell_type": "code",
     "collapsed": false,
     "input": [
      "!cat {my_file(\"annot_{}.xml\".format(form.name))}"
     ],
     "language": "python",
     "metadata": {},
     "outputs": [
      {
       "output_type": "stream",
       "stream": "stdout",
       "text": [
        "<?xml version=\"1.0\" encoding=\"UTF-8\"?>\r\n",
        "    <graph xmlns=\"http://www.xces.org/ns/GrAF/1.0/\" xmlns:graf=\"http://www.xces.org/ns/GrAF/1.0/\">\r\n",
        "    <graphHeader>\r\n",
        "        <labelsDecl/>\r\n",
        "        <dependencies/>\r\n",
        "        <annotationSpaces/>\r\n",
        "    </graphHeader>\r\n",
        "    <a xml:id=\"a1\" as=\"dirk\" label=\"part\" ref=\"n16\"><fs>\r\n",
        "\t<f name=\"intro\" value=\"WWWWW\"/>\r\n",
        "</fs></a>\r\n",
        "<a xml:id=\"a2\" as=\"dirk\" label=\"part\" ref=\"n6\"><fs>\r\n",
        "\t<f name=\"role\" value=\"Y-y-y-y\"/>\r\n",
        "</fs></a>\r\n",
        "<a xml:id=\"a3\" as=\"dirk\" label=\"part\" ref=\"n5\"><fs>\r\n",
        "\t<f name=\"intro\" value=\"BBBBBB\"/>\r\n",
        "</fs></a>\r\n",
        "<a xml:id=\"a4\" as=\"dirk\" label=\"part\" ref=\"n4\"><fs>\r\n",
        "\t<f name=\"intro\" value=\"VVVVVV\"/>\r\n",
        "</fs></a>\r\n",
        "<a xml:id=\"a5\" as=\"dirk\" label=\"part\" ref=\"n3\"><fs>\r\n",
        "\t<f name=\"intro\" value=\"AAAAAA\"/>\r\n",
        "</fs></a>\r\n",
        "<a xml:id=\"a6\" as=\"dirk\" label=\"part\" ref=\"n2\"><fs>\r\n",
        "\t<f name=\"intro\" value=\"ppp\"/>\r\n",
        "\t<f name=\"role\" value=\"X-x-x-x\"/>\r\n",
        "</fs></a>\r\n",
        "<a xml:id=\"a7\" as=\"dirk\" label=\"part\" ref=\"n14\"><fs>\r\n",
        "\t<f name=\"intro\" value=\"UUUUUU\"/>\r\n",
        "\t<f name=\"role\" value=\"H-h-h\"/>\r\n",
        "</fs></a>\r\n",
        "<a xml:id=\"a8\" as=\"dirk\" label=\"part\" ref=\"n8\"><fs>\r\n",
        "\t<f name=\"intro\" value=\"CCCCCC\"/>\r\n",
        "</fs></a>\r\n",
        "<a xml:id=\"a9\" as=\"dirk\" label=\"part\" ref=\"n10\"><fs>\r\n",
        "\t<f name=\"role\" value=\"Z-z-z-z\"/>\r\n",
        "</fs></a>\r\n",
        "<a xml:id=\"a10\" as=\"dirk\" label=\"part\" ref=\"n59557\"><fs>\r\n",
        "\t<f name=\"intro\" value=\"RRRR\"/>\r\n",
        "\t<f name=\"role\" value=\"V-v-v-v\"/>\r\n",
        "</fs></a>\r\n",
        "<a xml:id=\"a11\" as=\"dirk\" label=\"part\" ref=\"n59556\"><fs>\r\n",
        "\t<f name=\"intro\" value=\"QQQQ\"/>\r\n",
        "</fs></a>\r\n",
        "<a xml:id=\"a12\" as=\"dirk\" label=\"part\" ref=\"n59560\"><fs>\r\n",
        "\t<f name=\"intro\" value=\"FFFF\"/>\r\n",
        "</fs></a>\r\n",
        "<a xml:id=\"a13\" as=\"dirk\" label=\"part\" ref=\"n59561\"><fs>\r\n",
        "\t<f name=\"intro\" value=\"GGGG\"/>\r\n",
        "\t<f name=\"role\" value=\"T-t-t-t-t\"/>\r\n",
        "</fs></a>\r\n",
        "</graph>\r\n"
       ]
      }
     ],
     "prompt_number": 10
    },
    {
     "cell_type": "heading",
     "level": 2,
     "metadata": {},
     "source": [
      "Step 4: Place the new annotation file in the right directory."
     ]
    },
    {
     "cell_type": "markdown",
     "metadata": {},
     "source": [
      "Here is the directory, we call it the *annox* directory."
     ]
    },
    {
     "cell_type": "code",
     "collapsed": false,
     "input": [
      "processor.settings.settings['locations']['annox_dir']"
     ],
     "language": "python",
     "metadata": {},
     "outputs": [
      {
       "metadata": {},
       "output_type": "pyout",
       "prompt_number": 11,
       "text": [
        "'/Users/dirk/Scratch/laf-fabric-data/annotations'"
       ]
      }
     ],
     "prompt_number": 11
    },
    {
     "cell_type": "markdown",
     "metadata": {},
     "source": [
      "Extra annotations are organized in packages.\n",
      "You can place multiple new annotation files in a package.\n",
      "\n",
      "Let us add this file to the existing package called ``testannots``.\n",
      "It is the *annox* directory.\n",
      "\n",
      "Put the new file in that directory.\n",
      "\n",
      "If you have more files, you can place them in the same directory, and for each file you have to add a line to the *header file* in that directory, like the existing line, resulting in:\n",
      "\n",
      "    <annotation f.id=\"f_dirk1\" loc=\"annot_dirk_intro_role.xml\"/>\n",
      "    <annotation f.id=\"f_dirk2\" loc=\"annot_dirk_other.xml\"/>\n",
      "\n",
      "The files in the package must be mentioned in the header file, that's the point."
     ]
    },
    {
     "cell_type": "heading",
     "level": 2,
     "metadata": {},
     "source": [
      "Step 5. Use the new annotations."
     ]
    },
    {
     "cell_type": "markdown",
     "metadata": {},
     "source": [
      "You can invoke an extra annotation package by mentioning it in the statement where you initialize the processor.\n",
      "\n",
      "The processor looks for the package, checks whether it has to be compiled, and if so, compiles it.\n",
      "Then the data corresponding to ``testannots`` is loaded after the main source has been loaded.\n",
      "\n",
      "What ever task you perform, it will have access to the new annotations."
     ]
    },
    {
     "cell_type": "code",
     "collapsed": false,
     "input": [
      "processor.init('bhs3.txt.hdr', 'testannots', 'annox_workflow', {\n",
      "    \"primary\": True,\n",
      "    \"xmlids\": {\n",
      "        \"node\": True,\n",
      "        \"edge\": False,\n",
      "    },\n",
      "    \"features\": {\n",
      "        \"shebanq\": {\n",
      "            \"node\": [\n",
      "                \"db.otype\",\n",
      "                \"sft.verse_label\",\n",
      "            ],\n",
      "            \"edge\": [\n",
      "            ],\n",
      "        },\n",
      "        \"dirk\": {\n",
      "            \"node\": [\n",
      "                \"part.intro,role\",\n",
      "            ],\n",
      "        }\n",
      "    },\n",
      "})\n",
      "API = processor.API()\n",
      "F = API['F']\n",
      "P = API['P']\n",
      "X = API['X']\n",
      "NN = API['NN']\n",
      "msg = API['msg']"
     ],
     "language": "python",
     "metadata": {},
     "outputs": [
      {
       "output_type": "stream",
       "stream": "stderr",
       "text": [
        "  0.00s COMPILING source: UP TO DATE\n"
       ]
      },
      {
       "output_type": "stream",
       "stream": "stderr",
       "text": [
        "  0.00s COMPILING annox: UP TO DATE\n"
       ]
      },
      {
       "output_type": "stream",
       "stream": "stderr",
       "text": [
        "  0.00s keeping xmlids: node ...\n"
       ]
      },
      {
       "output_type": "stream",
       "stream": "stderr",
       "text": [
        "  0.00s keeping feature: shebanq:db.otype (node) ...\n"
       ]
      },
      {
       "output_type": "stream",
       "stream": "stderr",
       "text": [
        "  0.00s clearing feature: feature - shebanq:sft.chapter (node) ...\n"
       ]
      },
      {
       "output_type": "stream",
       "stream": "stderr",
       "text": [
        "  0.00s clearing feature: feature - shebanq:sft.book (node) ...\n"
       ]
      },
      {
       "output_type": "stream",
       "stream": "stderr",
       "text": [
        "  0.01s clearing feature: feature - shebanq:sft.verse (node) ...\n"
       ]
      },
      {
       "output_type": "stream",
       "stream": "stderr",
       "text": [
        "  0.01s clearing feature: feature - shebanq:ft.part_of_speech (node) ...\n"
       ]
      },
      {
       "output_type": "stream",
       "stream": "stderr",
       "text": [
        "  0.06s clearing feature: feature - shebanq:ft.phrase_type (node) ...\n"
       ]
      },
      {
       "output_type": "stream",
       "stream": "stderr",
       "text": [
        "  0.07s clearing feature: feature - shebanq:db.oid (node) ...\n"
       ]
      },
      {
       "output_type": "stream",
       "stream": "stderr",
       "text": [
        "  0.17s clearing feature: feature - shebanq:db.monads (node) ...\n"
       ]
      },
      {
       "output_type": "stream",
       "stream": "stderr",
       "text": [
        "  0.25s loading feature: feature ('shebanq', 'sft', 'verse_label', 'node') ... \n"
       ]
      },
      {
       "output_type": "stream",
       "stream": "stderr",
       "text": [
        "  0.27s loading feature: feature ('dirk', 'part', 'intro', 'node') ... \n"
       ]
      },
      {
       "output_type": "stream",
       "stream": "stderr",
       "text": [
        "  0.27s loading feature: feature ('dirk', 'part', 'role', 'node') ... \n"
       ]
      },
      {
       "output_type": "stream",
       "stream": "stderr",
       "text": [
        "  0.27s keeping annox: shebanq:db.otype (node) ...\n"
       ]
      },
      {
       "output_type": "stream",
       "stream": "stderr",
       "text": [
        "  0.27s clearing annox: xfeature ...\n"
       ]
      },
      {
       "output_type": "stream",
       "stream": "stderr",
       "text": [
        "  0.27s loading annox: xfeature ('shebanq', 'sft', 'verse_label', 'node') ... \n"
       ]
      },
      {
       "output_type": "stream",
       "stream": "stderr",
       "text": [
        "  0.27s loading annox: xfeature ('dirk', 'part', 'intro', 'node') ... \n"
       ]
      },
      {
       "output_type": "stream",
       "stream": "stderr",
       "text": [
        "  0.28s loading annox: xfeature ('dirk', 'part', 'role', 'node') ... \n"
       ]
      },
      {
       "output_type": "stream",
       "stream": "stderr",
       "text": [
        "  1.35s present xmlids: node\n"
       ]
      },
      {
       "output_type": "stream",
       "stream": "stderr",
       "text": [
        "  1.35s present feature: shebanq:db.otype (node) from source bhs3.txt.hdr\n"
       ]
      },
      {
       "output_type": "stream",
       "stream": "stderr",
       "text": [
        "  1.35s present feature: shebanq:sft.verse_label (node) from annox testannots, source bhs3.txt.hdr\n"
       ]
      },
      {
       "output_type": "stream",
       "stream": "stderr",
       "text": [
        "  1.35s present feature: dirk:part.intro (node) from annox testannots, source bhs3.txt.hdr\n"
       ]
      },
      {
       "output_type": "stream",
       "stream": "stderr",
       "text": [
        "  1.36s present feature: dirk:part.role (node) from annox testannots, source bhs3.txt.hdr\n"
       ]
      },
      {
       "output_type": "stream",
       "stream": "stderr",
       "text": [
        "  0.00s LOGFILE=/Users/dirk/Scratch/laf-fabric-data/bhs3.txt.hdr/annox_workflow/__log__annox_workflow.txt\n"
       ]
      },
      {
       "output_type": "stream",
       "stream": "stderr",
       "text": [
        "  0.00s BEGIN TASK=annox_workflow SOURCE=bhs3.txt.hdr\n"
       ]
      },
      {
       "output_type": "stream",
       "stream": "stderr",
       "text": [
        "  0.00s Loading API\n"
       ]
      },
      {
       "output_type": "stream",
       "stream": "stderr",
       "text": [
        "  0.20s P: Primary Data\n"
       ]
      },
      {
       "output_type": "stream",
       "stream": "stderr",
       "text": [
        "  0.20s NN, NE: Next Node and Node Events\n"
       ]
      },
      {
       "output_type": "stream",
       "stream": "stderr",
       "text": [
        "  0.20s F: Features\n"
       ]
      },
      {
       "output_type": "stream",
       "stream": "stderr",
       "text": [
        "  0.20s C, Ci: Connections\n"
       ]
      },
      {
       "output_type": "stream",
       "stream": "stderr",
       "text": [
        "  0.21s X: XML ids\n"
       ]
      },
      {
       "output_type": "stream",
       "stream": "stderr",
       "text": [
        "  0.21s API loaded\n"
       ]
      }
     ],
     "prompt_number": 12
    },
    {
     "cell_type": "markdown",
     "metadata": {},
     "source": [
      "So let us check which objects have got annotations.\n",
      "\n",
      "For every object we show its type, its XML id in the LAF source, its primary data and the two new feature values, if applicable."
     ]
    },
    {
     "cell_type": "code",
     "collapsed": false,
     "input": [
      "msg(\"Looking for fresh annotations ...\")\n",
      "cur_verse = None\n",
      "\n",
      "for node in NN():\n",
      "    otype = F.shebanq_db_otype.v(node)\n",
      "    if otype == 'verse':\n",
      "        cur_verse = node\n",
      "        continue\n",
      "    intro = F.dirk_part_intro.v(node)\n",
      "    role = F.dirk_part_role.v(node)\n",
      "    if intro != None or role != None:\n",
      "        verse = F.shebanq_sft_verse_label.v(cur_verse)\n",
      "        text = \" \".join([txt for (n, txt) in P.data(node)])\n",
      "        xmlid = X.node.r(node)\n",
      "        print(\"{:<12} {:<6} id={:<8} {:<17}{:<16} {:<20}\".format(\n",
      "            verse,\n",
      "            otype, \n",
      "            xmlid, \n",
      "            \"intro={:<10} \".format(intro) if intro != None else '',\n",
      "            \"role={:<10} \".format(role) if role != None else '',\n",
      "            text,\n",
      "        ))\n",
      "msg(\"Done\")"
     ],
     "language": "python",
     "metadata": {},
     "outputs": [
      {
       "output_type": "stream",
       "stream": "stderr",
       "text": [
        "  4.92s Looking for fresh annotations ...\n"
       ]
      },
      {
       "output_type": "stream",
       "stream": "stderr",
       "text": [
        "  9.12s Done\n"
       ]
      },
      {
       "output_type": "stream",
       "stream": "stdout",
       "text": [
        " GEN 01,01   phrase id=n59556   intro=QQQQ                        \u05d1\u05b0\u05bc\u05e8\u05b5\u05d0\u05e9\u05b4\u05c1\u0596\u05d9\u05ea        \n",
        " GEN 01,01   word   id=n2       intro=ppp        role=X-x-x-x     \u05d1\u05b0\u05bc                 \n",
        " GEN 01,01   word   id=n3       intro=AAAAAA                      \u05e8\u05b5\u05d0\u05e9\u05b4\u05c1\u0596\u05d9\u05ea           \n",
        " GEN 01,01   word   id=n4       intro=VVVVVV                      \u05d1\u05b8\u05bc\u05e8\u05b8\u05a3\u05d0             \n",
        " GEN 01,01   phrase id=n59557   intro=RRRR       role=V-v-v-v     \u05d1\u05b8\u05bc\u05e8\u05b8\u05a3\u05d0             \n",
        " GEN 01,01   word   id=n5       intro=BBBBBB                      \u05d0\u05b1\u05dc\u05b9\u05d4\u05b4\u0591\u05d9\u05dd           \n",
        " GEN 01,01   word   id=n6                        role=Y-y-y-y     \u05d0\u05b5\u05a5\u05ea                \n",
        " GEN 01,01   word   id=n8       intro=CCCCCC                      \u05e9\u05b8\u05bc\u05c1\u05de\u05b7\u0596\u05d9\u05b4\u05dd          \n",
        " GEN 01,01   word   id=n10                       role=Z-z-z-z     \u05d0\u05b5\u05a5\u05ea                \n",
        " GEN 01,02   phrase id=n59560   intro=FFFF                        \u05d5\u05b0                  \n",
        " GEN 01,02   phrase id=n59561   intro=GGGG       role=T-t-t-t-t   \u05d4\u05b8\u05d0\u05b8\u0597\u05e8\u05b6\u05e5            \n",
        " GEN 01,02   word   id=n14      intro=UUUUUU     role=H-h-h       \u05d4\u05b8                  \n",
        " GEN 01,02   word   id=n16      intro=WWWWW                       \u05d4\u05b8\u05d9\u05b0\u05ea\u05b8\u05a5\u05d4            \n"
       ]
      }
     ],
     "prompt_number": 13
    }
   ],
   "metadata": {}
  }
 ]
}