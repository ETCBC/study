{
 "metadata": {
  "name": ""
 },
 "nbformat": 3,
 "nbformat_minor": 0,
 "worksheets": [
  {
   "cells": [
    {
     "cell_type": "markdown",
     "metadata": {},
     "source": [
      "<a href=\"http://laf-fabric.readthedocs.org/en/latest/\" target=\"_blank\"><img src=\"files/laf-fabric-small.png\"/></a>\n",
      "<a href=\"http://www.godgeleerdheid.vu.nl/etcbc\" target=\"_blank\"><img src=\"files/VU-ETCBC-small.png\"/></a>\n",
      "<a href=\"http://tla.mpi.nl\" target=\"_blank\"><img src=\"files/TLA-small.png\"/></a>\n",
      "<a href=\"http://www.dans.knaw.nl\" target=\"_blank\"><img src=\"files/DANS-small.png\"/></a>"
     ]
    },
    {
     "cell_type": "heading",
     "level": 1,
     "metadata": {},
     "source": [
      "Feature clause_constituent_relation"
     ]
    },
    {
     "cell_type": "markdown",
     "metadata": {},
     "source": [
      "The feature *clause_constituent_relation* on clauses indicates what function the clause has as *constituent* in the sentence in which occurs. It could function as a subject, object, and much more.\n",
      "\n",
      "The maning is quite involved.\n",
      "\n",
      "In this notebook we explore the feature. We see the values it can take, we describe the meanings of the values, and we give examples.\n",
      "\n",
      "In constructing the examples, we show how we can find the sentence nodes above clauses, and how we can find the words for clauses and sentences. We also provide verse labels.\n",
      "\n",
      "So it is a good example of how to get data from three different natures combined: words, linguistic objects, and sections (verses)."
     ]
    },
    {
     "cell_type": "code",
     "collapsed": false,
     "input": [
      "import sys\n",
      "import collections\n",
      "import laf\n",
      "from laf.notebook import Notebook\n",
      "processor = Notebook()"
     ],
     "language": "python",
     "metadata": {},
     "outputs": [],
     "prompt_number": 1
    },
    {
     "cell_type": "code",
     "collapsed": false,
     "input": [
      "processor.init('bhs3.txt.hdr', '--', 'participle', {\n",
      "    \"xmlids\": {\n",
      "        \"node\": False,\n",
      "        \"edge\": False,\n",
      "    },\n",
      "    \"features\": {\n",
      "        \"shebanq\": {\n",
      "            \"node\": [\n",
      "                \"db.otype\",\n",
      "                \"sft.verse_label\",\n",
      "                \"ft.text\",\n",
      "                \"ft.clause_constituent_relation,clause_type\",\n",
      "            ],\n",
      "            \"edge\": [\n",
      "                \"parents.\",\n",
      "                \"mother.\",\n",
      "            ],\n",
      "        },\n",
      "    },\n",
      "    \"primary\": False,\n",
      "})\n",
      "\n",
      "API = processor.API()\n",
      "F = API['F']\n",
      "NN = API['NN']\n",
      "msg = API['msg']\n",
      "C = API['C']\n",
      "Ci = API['Ci']"
     ],
     "language": "python",
     "metadata": {},
     "outputs": [
      {
       "output_type": "stream",
       "stream": "stderr",
       "text": [
        "  0.00s COMPILING source: UP TO DATE\n"
       ]
      },
      {
       "output_type": "stream",
       "stream": "stderr",
       "text": [
        "  0.00s COMPILING annox: UP TO DATE\n"
       ]
      },
      {
       "output_type": "stream",
       "stream": "stderr",
       "text": [
        "  0.00s keeping feature: shebanq:db.otype (node) ...\n"
       ]
      },
      {
       "output_type": "stream",
       "stream": "stderr",
       "text": [
        "  0.00s keeping feature: shebanq:ft.clause_constituent_relation (node) ...\n"
       ]
      },
      {
       "output_type": "stream",
       "stream": "stderr",
       "text": [
        "  0.00s keeping feature: shebanq:ft.text (node) ...\n"
       ]
      },
      {
       "output_type": "stream",
       "stream": "stderr",
       "text": [
        "  0.00s keeping feature: shebanq:mother. (edge) ...\n"
       ]
      },
      {
       "output_type": "stream",
       "stream": "stderr",
       "text": [
        "  0.00s keeping feature: shebanq:parents. (edge) ...\n"
       ]
      },
      {
       "output_type": "stream",
       "stream": "stderr",
       "text": [
        "  0.00s keeping feature: shebanq:sft.verse_label (node) ...\n"
       ]
      },
      {
       "output_type": "stream",
       "stream": "stderr",
       "text": [
        "  0.01s loading feature: feature ('shebanq', 'ft', 'clause_type', 'node') ... \n"
       ]
      },
      {
       "output_type": "stream",
       "stream": "stderr",
       "text": [
        "  0.83s keeping annox: shebanq:db.otype (node) ...\n"
       ]
      },
      {
       "output_type": "stream",
       "stream": "stderr",
       "text": [
        "  0.83s keeping annox: shebanq:ft.clause_constituent_relation (node) ...\n"
       ]
      },
      {
       "output_type": "stream",
       "stream": "stderr",
       "text": [
        "  0.83s keeping annox: shebanq:ft.text (node) ...\n"
       ]
      },
      {
       "output_type": "stream",
       "stream": "stderr",
       "text": [
        "  0.83s keeping annox: shebanq:mother. (edge) ...\n"
       ]
      },
      {
       "output_type": "stream",
       "stream": "stderr",
       "text": [
        "  0.83s keeping annox: shebanq:parents. (edge) ...\n"
       ]
      },
      {
       "output_type": "stream",
       "stream": "stderr",
       "text": [
        "  0.83s keeping annox: shebanq:sft.verse_label (node) ...\n"
       ]
      },
      {
       "output_type": "stream",
       "stream": "stderr",
       "text": [
        "  0.83s loading annox: xfeature ('shebanq', 'ft', 'clause_type', 'node') ... \n"
       ]
      },
      {
       "output_type": "stream",
       "stream": "stderr",
       "text": [
        "  1.47s present feature: shebanq:ft.clause_constituent_relation (node) from source bhs3.txt.hdr, annox --\n"
       ]
      },
      {
       "output_type": "stream",
       "stream": "stderr",
       "text": [
        "  1.48s present feature: shebanq:ft.text (node) from source bhs3.txt.hdr, annox --\n"
       ]
      },
      {
       "output_type": "stream",
       "stream": "stderr",
       "text": [
        "  1.48s present feature: shebanq:mother. (edge) from source bhs3.txt.hdr, annox --\n"
       ]
      },
      {
       "output_type": "stream",
       "stream": "stderr",
       "text": [
        "  1.48s present feature: shebanq:ft.clause_type (node) from source bhs3.txt.hdr, annox --\n"
       ]
      },
      {
       "output_type": "stream",
       "stream": "stderr",
       "text": [
        "  1.48s present feature: shebanq:db.otype (node) from source bhs3.txt.hdr, annox --\n"
       ]
      },
      {
       "output_type": "stream",
       "stream": "stderr",
       "text": [
        "  1.48s present feature: shebanq:parents. (edge) from source bhs3.txt.hdr, annox --\n"
       ]
      },
      {
       "output_type": "stream",
       "stream": "stderr",
       "text": [
        "  1.48s present feature: shebanq:sft.verse_label (node) from source bhs3.txt.hdr, annox --\n"
       ]
      },
      {
       "output_type": "stream",
       "stream": "stderr",
       "text": [
        "  0.00s LOGFILE=/Users/dirk/Scratch/shebanq/results/bhs3.txt.hdr/participle/__log__participle.txt\n"
       ]
      },
      {
       "output_type": "stream",
       "stream": "stderr",
       "text": [
        "  0.00s BEGIN TASK=participle SOURCE=bhs3.txt.hdr\n"
       ]
      }
     ],
     "prompt_number": 59
    },
    {
     "cell_type": "heading",
     "level": 1,
     "metadata": {},
     "source": [
      "Trees"
     ]
    },
    {
     "cell_type": "markdown",
     "metadata": {},
     "source": [
      "We need trees in order to connect clauses to sentences and words to clauses and sentences.\n",
      "Our trees are based on the *parents* edges.\n",
      "\n",
      "First we have to find starting points, the top nodes, which are the sentence objects.\n",
      "We find them by starting with each word and move along the parents edges until there are no more parents. We collect these top nodes in a set (so duplicates are filtered out automatically).\n",
      "\n",
      "In another notebook I have verified that we get *all* sentence objects this way and *only* sentence objects. "
     ]
    },
    {
     "cell_type": "code",
     "collapsed": false,
     "input": [
      "top_nodes = set()\n",
      "top_node_types = collections.defaultdict(lambda: 0)\n",
      "\n",
      "msg(\"Finding top nodes ... \")\n",
      "for node in NN(test=F.shebanq_db_otype.v, value='word'):\n",
      "    startnodes = set((node,))\n",
      "    level = 0\n",
      "    while startnodes:\n",
      "        if level > 100:\n",
      "            msg('WARNING: Deep nesting. Probably endless loop. Breaking out')\n",
      "            break\n",
      "        upnodes = set()\n",
      "        for startnode in startnodes:\n",
      "            otype = F.shebanq_db_otype.v(startnode)\n",
      "            parents = C.shebanq_parents_[''][startnode]\n",
      "            upnodes |= parents\n",
      "        if not upnodes:\n",
      "            top_nodes |= startnodes\n",
      "        startnodes = upnodes\n",
      "        level += 1\n",
      "msg(\"Top nodes found: {}\".format(len(top_nodes)))"
     ],
     "language": "python",
     "metadata": {},
     "outputs": [
      {
       "output_type": "stream",
       "stream": "stderr",
       "text": [
        "  7.79s Finding top nodes ... \n"
       ]
      },
      {
       "output_type": "stream",
       "stream": "stderr",
       "text": [
        "    15s Top nodes found: 71354\n"
       ]
      }
     ],
     "prompt_number": 3
    },
    {
     "cell_type": "markdown",
     "metadata": {},
     "source": [
      "Now we are going to *walk* the trees, from sentence node downwards to all the children and so on.\n",
      "\n",
      "We are not going to cnstruct those trees. We only need to collect certain kinds of information while we go:\n",
      "\n",
      "**to_sentence[node] = top_node** For each node we encounter we store the top node of which it is a descendant.\n",
      "\n",
      "**clause_words[clause] = set of clause's word nodes** For each clause we encounter we collect the word nodes that are descendants of that clause.\n",
      "\n",
      "**sentence_words[sentence] = set of sentence's word nodes** Likewise for sentences.\n",
      "\n",
      "**sentence_verse[sentence] = verse label of sentence** The passage thesentence belongs to.\n",
      "\n",
      "**clauses_of[sentence] = set of sentence's clause nodes** The 'immediate' children of type clause of a sentence. We need this later when we want to check how many clauses coincide with their sentence. 'Immediate' means: with only a node of type *sentence_atom* in between.\n",
      "\n",
      "**N.B. 1** We gather word *nodes*, not words themselves. Multiple occurrences of the same word are still distinct word nodes. Yet we loose the ordering. But the numeric ordering of the nodes corresponds with the textual ordering of the words. This is an undocumented property. Alternatively, we could have extracted the *monad* number of the owrds, and sorted on that. The monad numbers are guaranteed to correspond with the textual order.\n",
      "\n",
      "**N.B. 2** In practice, the *parents* edges are not a pure tree, but a directed acyclic graph. So we will visit some words multiple times. The algorithm below detects that and prevents multiple visits. That is the function of **nodes_seen**.\n"
     ]
    },
    {
     "cell_type": "code",
     "collapsed": false,
     "input": [
      "nodes_seen = set()\n",
      "to_sentence = {}\n",
      "clause_words = collections.defaultdict(lambda: set())\n",
      "sentence_words = collections.defaultdict(lambda: set())\n",
      "sentence_verse = {}\n",
      "clauses_of = collections.defaultdict(lambda: set())\n",
      "verse_label = None\n",
      "\n",
      "# we add extra parameters to the walk function: \n",
      "#    sentence is the top node above node\n",
      "#    clause is the clause node above node\n",
      "\n",
      "def walk_tree(node, sentence, clause):\n",
      "    if node in nodes_seen:\n",
      "        return\n",
      "    \n",
      "    nodes_seen.add(node)\n",
      "    to_sentence[node] = sentence\n",
      "    new_clause = clause\n",
      "\n",
      "    otype = F.shebanq_db_otype.v(node)\n",
      "    if otype == 'clause':\n",
      "        new_clause = node\n",
      "    if otype == 'word':\n",
      "        clause_words[clause].add(node)\n",
      "        sentence_words[sentence].add(node)\n",
      "    \n",
      "    children = Ci.shebanq_parents_[''][node]\n",
      "    for child in children:\n",
      "        if F.shebanq_db_otype.v(node) == 'sentence_atom' and F.shebanq_db_otype.v(child) == 'clause':\n",
      "            clauses_of[sentence].add(child)\n",
      "        walk_tree(child, sentence, new_clause)\n",
      "\n",
      "# we count the trees we visit, mainly to give progress messages        \n",
      "s = 0\n",
      "sc = 0\n",
      "chunk = 10000 # we only issue a message every chunk many trees\n",
      "\n",
      "# Walk through all top nodes and verse nodes in document order\n",
      "\n",
      "for node in NN(test=lambda n: n in top_nodes or F.shebanq_db_otype.v(n) == 'verse', value=True):\n",
      "    if F.shebanq_db_otype.v(node) == 'verse':\n",
      "        verse_label = F.shebanq_sft_verse_label.v(node)\n",
      "        continue\n",
      "    sentence_verse[node] = verse_label\n",
      "    nodes_seen = set()\n",
      "    walk_tree(node, node, None)\n",
      "    s += 1\n",
      "    sc += 1\n",
      "    if sc == chunk:\n",
      "        msg(\"{} trees visited\".format(s))\n",
      "        sc = 0\n",
      "    \n",
      "msg(\"{} trees visited\".format(s))"
     ],
     "language": "python",
     "metadata": {},
     "outputs": [
      {
       "output_type": "stream",
       "stream": "stderr",
       "text": [
        "20m 02s 10000 trees visited\n"
       ]
      },
      {
       "output_type": "stream",
       "stream": "stderr",
       "text": [
        "20m 03s 20000 trees visited\n"
       ]
      },
      {
       "output_type": "stream",
       "stream": "stderr",
       "text": [
        "20m 04s 30000 trees visited\n"
       ]
      },
      {
       "output_type": "stream",
       "stream": "stderr",
       "text": [
        "20m 04s 40000 trees visited\n"
       ]
      },
      {
       "output_type": "stream",
       "stream": "stderr",
       "text": [
        "20m 05s 50000 trees visited\n"
       ]
      },
      {
       "output_type": "stream",
       "stream": "stderr",
       "text": [
        "20m 06s 60000 trees visited\n"
       ]
      },
      {
       "output_type": "stream",
       "stream": "stderr",
       "text": [
        "20m 06s 70000 trees visited\n"
       ]
      },
      {
       "output_type": "stream",
       "stream": "stderr",
       "text": [
        "20m 06s 71354 trees visited\n"
       ]
      }
     ],
     "prompt_number": 12
    },
    {
     "cell_type": "heading",
     "level": 1,
     "metadata": {},
     "source": [
      "Clause constituent relations"
     ]
    },
    {
     "cell_type": "markdown",
     "metadata": {},
     "source": [
      "Let's have a look at the values that clause constituent relations can take.\n",
      "\n",
      "We collect examples on the fly. By setting **nr_of_examples** below you can specify how much examples you want to generate per value."
     ]
    },
    {
     "cell_type": "code",
     "collapsed": false,
     "input": [
      "nr_of_examples = 3\n",
      "\n",
      "rels = collections.defaultdict(int)\n",
      "examples = collections.defaultdict(lambda: set())\n",
      "for i in NN(test=F.shebanq_db_otype.v, values=['clause']):\n",
      "    ccr = F.shebanq_ft_clause_constituent_relation.v(i)\n",
      "    rels[ccr] += 1\n",
      "    if len(examples[ccr]) < nr_of_examples:\n",
      "        examples[ccr].add(i)"
     ],
     "language": "python",
     "metadata": {},
     "outputs": [],
     "prompt_number": 5
    },
    {
     "cell_type": "markdown",
     "metadata": {},
     "source": [
      "Let us print out how often each value occurs:"
     ]
    },
    {
     "cell_type": "code",
     "collapsed": false,
     "input": [
      "for ccr in rels:\n",
      "    print(\"{}: {:>6} x\".format(ccr, rels[ccr]))"
     ],
     "language": "python",
     "metadata": {},
     "outputs": [
      {
       "output_type": "stream",
       "stream": "stdout",
       "text": [
        "RgRc:    114 x\n",
        "Adju:   4910 x\n",
        "Coor:    908 x\n",
        "Resu:    976 x\n",
        "none:  75059 x\n",
        "Pred:     91 x\n",
        "Attr:   4804 x\n",
        "Objc:   1066 x\n",
        "Subj:    241 x\n",
        "CoVo:    143 x\n",
        "Cmpl:     75 x\n"
       ]
      }
     ],
     "prompt_number": 6
    },
    {
     "cell_type": "heading",
     "level": 1,
     "metadata": {},
     "source": [
      "Description of the values"
     ]
    },
    {
     "cell_type": "markdown",
     "metadata": {},
     "source": [
      "Here are the values themselves, with a short description:\n",
      "\n",
      "     'Adju': 'adjunct clause',\n",
      "     'Attr': 'attributive clause',\n",
      "     'Cmpl': 'complement clause, but not subject or object',\n",
      "     'CoVo': 'continuation of the vocative',\n",
      "     'Coor': 'coordination',\n",
      "     'Objc': 'object clause',\n",
      "     'Pred': 'predicative clause',\n",
      "     'Resu': 'clause after resumptive extrapolated fronted element',\n",
      "     'RgRc': 'Regens rectum (governing governed)',\n",
      "     'Subj': 'subject clause',\n",
      "     'none': 'not marked',\n",
      "\n",
      "And here are the explanations:\n",
      "\n",
      "### Subject\n",
      "clause that has the function of subject\n",
      "\n",
      "### Object\n",
      "clause that has the function of object\n",
      "\n",
      "### Complement\n",
      "clause that has a function of a verb complement, but not subject or object \n",
      "\n",
      "### Attributive\n",
      "clause that has an attributive function (often with a relative pronoun)\n",
      "\n",
      "### Adjunct\n",
      "clauses with additional information, usually without a finite verb\n",
      "\n",
      "### Predicative clause\n",
      "clause that has a predicative function\n",
      "\n",
      "### Coordination\n",
      "multiple dependent clauses coordinated (with and, or etc) to each other under the same head (a main clause or a phrase (asher))\n",
      "\n",
      "### Continuation of the vocative\n",
      "clause that follows after a vocative: *Adam*, where are you.\n",
      "\n",
      "### Resumptive\n",
      "King David, Nathan the prohpet spoke severly to *him* [here King David is *casus pendens* or extrapolated element.\n",
      "\n",
      "### Regens Rectum\n",
      "You shall reign over the birds and the animals and **all** *creeps on the face of the earth* [Here **all** governs the *reptiles*]\n",
      "\n",
      "### none\n",
      "No clause constituent relation marked."
     ]
    },
    {
     "cell_type": "heading",
     "level": 2,
     "metadata": {},
     "source": [
      "None values"
     ]
    },
    {
     "cell_type": "markdown",
     "metadata": {},
     "source": [
      "Why so many ``none`` values? \n",
      "Do all clauses have a mother?\n",
      "Let us check."
     ]
    },
    {
     "cell_type": "code",
     "collapsed": false,
     "input": [
      "n_clauses = 0\n",
      "mothers_empty = 0\n",
      "mothers_empty_none = 0\n",
      "for node in NN(test=F.shebanq_db_otype.v, value='clause'):\n",
      "    n_clauses += 1\n",
      "    these_mothers = C.shebanq_mother_[''][node]\n",
      "    if len(these_mothers) == 0:\n",
      "        mothers_empty += 1\n",
      "        if F.shebanq_ft_clause_constituent_relation.v(node) == 'none':\n",
      "            mothers_empty_none += 1\n",
      "print(\"{:<20}: {:>6} x\\n{:<20}: {:>6} x\\n{:<20}: {:>6} x\".format(\n",
      "    'Clauses', n_clauses, \n",
      "    'Mother empty', mothers_empty, \n",
      "    'Mother empty + none', mothers_empty_none\n",
      "))"
     ],
     "language": "python",
     "metadata": {},
     "outputs": [
      {
       "output_type": "stream",
       "stream": "stdout",
       "text": [
        "Clauses             :  88387 x\n",
        "Mother empty        :  75059 x\n",
        "Mother empty + none :  75059 x\n"
       ]
      }
     ],
     "prompt_number": 43
    },
    {
     "cell_type": "markdown",
     "metadata": {},
     "source": [
      "So, indeed, the motherless clauses are exactly the ones that have the value ``none`` for the *clause_constituent_relation* feature.\n",
      "\n",
      "What are motherless clauses? Probably those that are not dependent on another word, clause, or phrase.\n",
      "\n",
      "Which ones are they?\n",
      "Maybe they are the clauses that coincide with the sentences they are part of.\n",
      "Let us check."
     ]
    },
    {
     "cell_type": "code",
     "collapsed": false,
     "input": [
      "n_sentences = 0\n",
      "n_sg_clause = 0\n",
      "n_sg_clause_none = 0\n",
      "for sentence in clauses_of:\n",
      "    n_sentences += 1\n",
      "    clauses = clauses_of[sentence]\n",
      "    if len(clauses) == 1:\n",
      "        n_sg_clause += 1\n",
      "        ccrs = [F.shebanq_ft_clause_constituent_relation.v(i) for i in clauses]\n",
      "        if ccrs[0] == 'none':\n",
      "            n_sg_clause_none += 1\n",
      "print(\"{:<25}: {:>6} x\\n{:<25}: {:>6} x\\n{:<25}: {:>6} x\\n{:<25}: {:>6} x\".format(\n",
      "    'Sentences', n_sentences, \n",
      "    'Single clauses', n_sg_clause, \n",
      "    'Single clause + none', n_sg_clause_none,\n",
      "    'Remaining none clauses', mothers_empty - n_sg_clause_none,\n",
      "))\n",
      "        "
     ],
     "language": "python",
     "metadata": {},
     "outputs": [
      {
       "output_type": "stream",
       "stream": "stdout",
       "text": [
        "Sentences                :  71354 x\n",
        "Single clauses           :  60901 x\n",
        "Single clause + none     :  60901 x\n",
        "Remaining none clauses   :  14158 x\n"
       ]
      }
     ],
     "prompt_number": 46
    },
    {
     "cell_type": "markdown",
     "metadata": {},
     "source": [
      "Indeed, this accounts for the majority of ``none`` values of the *clause_constituent_relation* feature.\n",
      "Can we pinpoint the remaining 14,158 ?"
     ]
    },
    {
     "cell_type": "markdown",
     "metadata": {},
     "source": [
      "Are all clauses part of a sentence atom?"
     ]
    },
    {
     "cell_type": "code",
     "collapsed": false,
     "input": [
      "clause_parents = set()\n",
      "for node in NN(test=F.shebanq_db_otype.v, value='clause'):\n",
      "    clause_parents |= set([F.shebanq_db_otype.v(p) for p in C.shebanq_parents_[''][node]])\n",
      "clause_parents"
     ],
     "language": "python",
     "metadata": {},
     "outputs": [
      {
       "metadata": {},
       "output_type": "pyout",
       "prompt_number": 48,
       "text": [
        "{'sentence_atom'}"
       ]
      }
     ],
     "prompt_number": 48
    },
    {
     "cell_type": "markdown",
     "metadata": {},
     "source": [
      "Let us see what the children patterns are of sentence atoms.\n",
      "A clause with *clause_constituent_relation* = ``none`` will be marked as *."
     ]
    },
    {
     "cell_type": "code",
     "collapsed": false,
     "input": [
      "abbrev = {\n",
      "    'sentence': 'S',\n",
      "    'sentence_atom': 's',\n",
      "    'clause': 'C',\n",
      "    'clause_atom': 'c',\n",
      "    'phrase': 'P',\n",
      "    'phrase_atom': 'p',\n",
      "    'subphrase': 'b',\n",
      "    'word': 'w',\n",
      "}\n",
      "\n",
      "patterns = collections.defaultdict(int)\n",
      "\n",
      "for node in NN(test=F.shebanq_db_otype.v, value='sentence_atom'):\n",
      "    patterns[''.join([\n",
      "        abbrev[F.shebanq_db_otype.v(c)]\n",
      "            if F.shebanq_db_otype.v(c) != 'clause' or F.shebanq_ft_clause_constituent_relation.v(c) != 'none'\n",
      "            else '*' for c in Ci.shebanq_parents_[''][node]\n",
      "    ])] += 1\n",
      "\n",
      "for (pat, occ) in sorted(patterns.items(), key=lambda x: (-x[1], x[0])):\n",
      "    print(\"{:>5} x: {}\".format(occ, pat))"
     ],
     "language": "python",
     "metadata": {},
     "outputs": [
      {
       "output_type": "stream",
       "stream": "stdout",
       "text": [
        "61256 x: *\n",
        " 4945 x: *C\n",
        " 1130 x: **\n",
        "  947 x: C*\n",
        "  916 x: *CC\n",
        "  305 x: *C*\n",
        "  193 x: **C\n",
        "  188 x: C*C\n",
        "  179 x: CC*\n",
        "  174 x: *CCC\n",
        "  116 x: *CC*\n",
        "   87 x: ***\n",
        "   79 x: C**\n",
        "   68 x: *C*C\n",
        "   63 x: C\n",
        "   59 x: *CCCC\n",
        "   46 x: **CC\n",
        "   45 x: CC*C\n",
        "   44 x: CCC*\n",
        "   43 x: C*C*\n",
        "   42 x: C*CC\n",
        "   32 x: *C**\n",
        "   28 x: C**C\n",
        "   28 x: CC**\n",
        "   25 x: ****\n",
        "   24 x: *CC*C\n",
        "   24 x: *CCC*\n",
        "   23 x: *CCCCC\n",
        "   20 x: CC*CC\n",
        "   19 x: C*CCC\n",
        "   19 x: CC\n",
        "   19 x: CCCC*\n",
        "   17 x: **C*\n",
        "   16 x: *C*CC\n",
        "   16 x: *CCC*C\n",
        "   16 x: *CCCC*\n",
        "   15 x: ***C\n",
        "   14 x: **CCC\n",
        "   14 x: C***\n",
        "   14 x: CCC*C\n",
        "   11 x: CCC**\n",
        "   10 x: **CCCC\n",
        "   10 x: *CC*CC\n",
        "   10 x: *CCCCCC\n",
        "   10 x: CCC\n",
        "    9 x: *C*CC*\n",
        "    9 x: *CC*C*\n",
        "    9 x: *CCCC*C\n",
        "    9 x: C*C*C\n",
        "    8 x: ***C*C*\n",
        "    8 x: ***CC\n",
        "    8 x: CC*C*\n",
        "    7 x: **C*C\n",
        "    7 x: *C**C\n",
        "    7 x: *C*C*\n",
        "    7 x: *CC**\n",
        "    7 x: *CCCCC*\n",
        "    7 x: C*CC*\n",
        "    7 x: CC**C\n",
        "    6 x: *C*CCC\n",
        "    6 x: *CC**C\n",
        "    6 x: *CCCCCCC\n",
        "    6 x: C**CC\n",
        "    5 x: *CCC**\n",
        "    5 x: *CCC*CC\n",
        "    5 x: CC*C**\n",
        "    4 x: *****\n",
        "    4 x: ******\n",
        "    4 x: *******\n",
        "    4 x: **CC*\n",
        "    4 x: *C***\n",
        "    4 x: *C*C*C\n",
        "    4 x: *C*CCCC\n",
        "    4 x: *CC*CCC\n",
        "    4 x: *CCC*CCC\n",
        "    4 x: CC***\n",
        "    4 x: CCCC\n",
        "    3 x: *****C\n",
        "    3 x: **C**\n",
        "    3 x: **C*CC\n",
        "    3 x: *C*C**\n",
        "    3 x: *CC*CC*\n",
        "    3 x: *CCCC**\n",
        "    3 x: C**C*\n",
        "    3 x: C**CCC*\n",
        "    3 x: C*C**\n",
        "    2 x: **CC*C\n",
        "    2 x: **CCCCCCC\n",
        "    2 x: *C**C*\n",
        "    2 x: *C*C*C*\n",
        "    2 x: *C*CCC*\n",
        "    2 x: *C*CCCCC\n",
        "    2 x: *CC**CC\n",
        "    2 x: *CCC*C*\n",
        "    2 x: *CCC*C*C\n",
        "    2 x: *CCC*CCCC\n",
        "    2 x: *CCCC*CC\n",
        "    2 x: *CCCCC**\n",
        "    2 x: C**CCC\n",
        "    2 x: CC***C\n",
        "    2 x: CC**CC\n",
        "    2 x: CC*CCC\n",
        "    2 x: CC*CCC*\n",
        "    1 x: ********\n",
        "    1 x: **********\n",
        "    1 x: ***********\n",
        "    1 x: ************\n",
        "    1 x: **************\n",
        "    1 x: *******************************\n",
        "    1 x: *********C\n",
        "    1 x: *********CCC**\n",
        "    1 x: *******C**CC\n",
        "    1 x: ******C\n",
        "    1 x: ******C*C*\n",
        "    1 x: *****C*\n",
        "    1 x: *****CC\n",
        "    1 x: ****C\n",
        "    1 x: ****CCCCCCC\n",
        "    1 x: ***C*****\n",
        "    1 x: ***C*C**\n",
        "    1 x: ***CC*CCCC\n",
        "    1 x: ***CCCC\n",
        "    1 x: **C********C\n",
        "    1 x: **C**C\n",
        "    1 x: **C*C**\n",
        "    1 x: **C*C*C\n",
        "    1 x: **C*C*CC\n",
        "    1 x: **C*CCCCCCCC\n",
        "    1 x: **CC**\n",
        "    1 x: **CC**CC*CC\n",
        "    1 x: **CCC*C\n",
        "    1 x: **CCCC*\n",
        "    1 x: **CCCC*CC\n",
        "    1 x: **CCCC*CC*\n",
        "    1 x: **CCCC*CCC\n",
        "    1 x: **CCCCC\n",
        "    1 x: **CCCCC*\n",
        "    1 x: **CCCCCC\n",
        "    1 x: *C****\n",
        "    1 x: *C*****\n",
        "    1 x: *C******C***\n",
        "    1 x: *C***C\n",
        "    1 x: *C**C*C*\n",
        "    1 x: *C**CC\n",
        "    1 x: *C**CCC\n",
        "    1 x: *C*C****\n",
        "    1 x: *C*C****C**C****C\n",
        "    1 x: *C*C***C*\n",
        "    1 x: *C*CC*C\n",
        "    1 x: *C*CC*C*\n",
        "    1 x: *C*CC*C**\n",
        "    1 x: *CC***\n",
        "    1 x: *CC******\n",
        "    1 x: *CC***C\n",
        "    1 x: *CC**C**\n",
        "    1 x: *CC*C**\n",
        "    1 x: *CC*C*C\n",
        "    1 x: *CC*C*C*\n",
        "    1 x: *CC*C*CC\n",
        "    1 x: *CC*C*CC*\n",
        "    1 x: *CC*CCC**CC**\n",
        "    1 x: *CC*CCCC\n",
        "    1 x: *CC*CCCCCCCCCC\n",
        "    1 x: *CCC**C\n",
        "    1 x: *CCC*C**C\n",
        "    1 x: *CCC*C*CCC\n",
        "    1 x: *CCC*CC*\n",
        "    1 x: *CCC*CCCC*CCCC*C\n",
        "    1 x: *CCCC**C\n",
        "    1 x: *CCCC*C*\n",
        "    1 x: *CCCC*C*C*C\n",
        "    1 x: *CCCC*CCC\n",
        "    1 x: *CCCCC**C\n",
        "    1 x: *CCCCC*C\n",
        "    1 x: *CCCCC*CC\n",
        "    1 x: *CCCCC*CCC\n",
        "    1 x: *CCCCCC*\n",
        "    1 x: *CCCCCC*CCCC\n",
        "    1 x: *CCCCCCCC\n",
        "    1 x: *CCCCCCCCC\n",
        "    1 x: *CCCCCCCCCC\n",
        "    1 x: C****\n",
        "    1 x: C*********\n",
        "    1 x: C****C*\n",
        "    1 x: C***C\n",
        "    1 x: C***C*C\n",
        "    1 x: C***CC*CCC******\n",
        "    1 x: C**C***\n",
        "    1 x: C**C*CCCCC\n",
        "    1 x: C**CCCC\n",
        "    1 x: C*C****\n",
        "    1 x: C*C***C***\n",
        "    1 x: C*C*CC***\n",
        "    1 x: C*CC**\n",
        "    1 x: C*CC*C\n",
        "    1 x: C*CC*CCCCC\n",
        "    1 x: C*CCCC\n",
        "    1 x: C*CCCC*CC*\n",
        "    1 x: C*CCCCC**C\n",
        "    1 x: C*CCCCCC\n",
        "    1 x: C*CCCCCCCCCCCCC\n",
        "    1 x: CC**CC*CC\n",
        "    1 x: CC*C*C**\n",
        "    1 x: CC*CC*\n",
        "    1 x: CC*CCCC\n",
        "    1 x: CC*CCCC**\n",
        "    1 x: CCC**C\n",
        "    1 x: CCC**C**\n",
        "    1 x: CCC*C*C\n",
        "    1 x: CCC*CC\n",
        "    1 x: CCC*CC*CCCC\n",
        "    1 x: CCCC**CC*\n",
        "    1 x: CCCC**CCC*C*\n",
        "    1 x: CCCC*C\n",
        "    1 x: CCCC*CC*CC\n",
        "    1 x: CCCCCC*CC*CCCCC*C\n",
        "    1 x: CCCCCCC**\n",
        "    1 x: CCCCCCC*C*\n"
       ]
      }
     ],
     "prompt_number": 56
    },
    {
     "cell_type": "markdown",
     "metadata": {},
     "source": [
      "Hmm.\n",
      "\n",
      "Maybe the *clause_type* feature tells us something more."
     ]
    },
    {
     "cell_type": "code",
     "collapsed": false,
     "input": [
      "clause_types_all = collections.defaultdict(int)\n",
      "clause_types_nnone = collections.defaultdict(int)\n",
      "clause_types_none = collections.defaultdict(int)\n",
      "\n",
      "for node in NN(test=F.shebanq_db_otype.v, value='clause'):\n",
      "    clause_type = F.shebanq_ft_clause_type.v(node)\n",
      "    clause_types_all[clause_type] += 1\n",
      "    if F.shebanq_ft_clause_constituent_relation.v(node) == 'none':\n",
      "        clause_types_none[clause_type] += 1\n",
      "    else:\n",
      "        clause_types_nnone[clause_type] += 1\n",
      "\n",
      "for clause_type in clause_types_all:\n",
      "    print(\"{:<6} All={:>5} None={:>5} Notnone={:>5}\".format(\n",
      "            clause_type,\n",
      "            clause_types_all[clause_type],\n",
      "            clause_types_none[clause_type],\n",
      "            clause_types_nnone[clause_type], \n",
      "    ))"
     ],
     "language": "python",
     "metadata": {},
     "outputs": [
      {
       "output_type": "stream",
       "stream": "stdout",
       "text": [
        "Impv   All= 4287 None= 4238 Notnone=   49\n",
        "CPen   All=  898 None=  859 Notnone=   39\n",
        "WxQt   All= 2494 None= 2411 Notnone=   83\n",
        "MSyn   All=  461 None=  452 Notnone=    9\n",
        "Wey0   All= 1283 None= 1272 Notnone=   11\n",
        "AjCl   All= 1483 None= 1161 Notnone=  322\n",
        "WayX   All= 4920 None= 4908 Notnone=   12\n",
        "xQtl   All= 8632 None= 5952 Notnone= 2680\n",
        "XxQt   All=   21 None=   21 Notnone=    0\n",
        "XYqt   All=  391 None=  345 Notnone=   46\n",
        "WxYq   All= 3453 None= 3380 Notnone=   73\n",
        "NullYqt All= 2175 None= 2063 Notnone=  112\n",
        "WXQt   All=  707 None=  692 Notnone=   15\n",
        "PtcP   All=  601 None=  386 Notnone=  215\n",
        "PtcA   All= 4895 None= 3261 Notnone= 1634\n",
        "Ellp   All= 1469 None= 1437 Notnone=   32\n",
        "InfC   All= 6620 None= 1948 Notnone= 4672\n",
        "InfA   All=  234 None=  192 Notnone=   42\n",
        "NullQtl All= 2342 None= 2226 Notnone=  116\n",
        "WeyX   All=  148 None=  146 Notnone=    2\n",
        "Voct   All=  826 None=  799 Notnone=   27\n",
        "XQtl   All=  427 None=  397 Notnone=   30\n",
        "xYqt   All= 8145 None= 6910 Notnone= 1235\n",
        "Way0   All=10053 None= 9993 Notnone=   60\n",
        "WQtl   All= 6500 None= 6388 Notnone=  112\n",
        "XxYq   All=   44 None=   40 Notnone=    4\n",
        "NmCl   All=14430 None=12737 Notnone= 1693\n",
        "WXYq   All=  448 None=  445 Notnone=    3\n"
       ]
      }
     ],
     "prompt_number": 61
    },
    {
     "cell_type": "heading",
     "level": 1,
     "metadata": {},
     "source": [
      "Examples"
     ]
    },
    {
     "cell_type": "markdown",
     "metadata": {},
     "source": [
      "Let us compile and print out the examples.\n",
      "\n",
      "Here we use the information we collected when we walked the trees, above.\n",
      "\n",
      "For each example we print two lines:\n",
      "\n",
      "    value of clause constituent relation    passage (verse label)    the words of the clause in question\n",
      "        the words of the whole sentence in which the clause occurs"
     ]
    },
    {
     "cell_type": "code",
     "collapsed": false,
     "input": [
      "for ccr in sorted(examples):\n",
      "    for clause in examples[ccr]:\n",
      "        sentence = to_sentence[clause]\n",
      "        cwords = sorted(clause_words[clause])\n",
      "        swords = sorted(sentence_words[sentence])\n",
      "        vlabel = sentence_verse[sentence]\n",
      "        print(\"{:<4} {:<10} {}\\n{:<16}{}\".format(\n",
      "            ccr, \n",
      "            vlabel, \n",
      "            \" \".join([F.shebanq_ft_text.v(word) for word in cwords]),\n",
      "            '',\n",
      "            \" \".join([F.shebanq_ft_text.v(word) for word in swords]),\n",
      "        ))"
     ],
     "language": "python",
     "metadata": {},
     "outputs": [
      {
       "output_type": "stream",
       "stream": "stdout",
       "text": [
        "Adju  GEN 01,16 \u05dc\u05b0 \u05d4\u05b8\u05d0\u05b4\u0596\u05d9\u05e8 \u05e2\u05b7\u05dc \u05d4\u05b8 \u05d0\u05b8\u05bd\u05e8\u05b6\u05e5\n",
        "                \u05d5\u05b7 \u05d9\u05b4\u05bc\u05ea\u05b5\u05bc\u05a5\u05df \u05d0\u05b9\u05ea\u05b8\u059b\u05dd \u05d0\u05b1\u05dc\u05b9\u05d4\u05b4\u0596\u05d9\u05dd \u05d1\u05b4\u05bc \u05e8\u05b0\u05e7\u05b4\u05a3\u05d9\u05e2\u05b7 \u05d4\u05b7 \u05e9\u05b8\u05bc\u05c1\u05de\u05b8\u0591\u05d9\u05b4\u05dd \u05dc\u05b0 \u05d4\u05b8\u05d0\u05b4\u0596\u05d9\u05e8 \u05e2\u05b7\u05dc \u05d4\u05b8 \u05d0\u05b8\u05bd\u05e8\u05b6\u05e5 \u05d5\u05b0 \u05dc\u05b4 \u05de\u05b0\u05e9\u05b9\u05c1\u05dc\u0599 \u05d1\u05b7\u05bc  \u05d9\u05b9\u05bc\u05a3\u05d5\u05dd \u05d5\u05bc \u05d1\u05b7  \u05dc\u05b7\u05bc\u0594\u05d9\u05b0\u05dc\u05b8\u05d4 \u05d5\u05bc\u05bd \u05dc\u05b2 \u05d4\u05b7\u05d1\u05b0\u05d3\u05b4\u05bc\u0594\u05d9\u05dc \u05d1\u05b5\u05bc\u05a5\u05d9\u05df \u05d4\u05b8 \u05d0\u05b9\u0596\u05d5\u05e8 \u05d5\u05bc \u05d1\u05b5\u05a3\u05d9\u05df \u05d4\u05b7 \u05d7\u05b9\u0591\u05e9\u05b6\u05c1\u05da\u05b0\n",
        "Adju  GEN 01,15 \u05dc\u05b0 \u05d4\u05b8\u05d0\u05b4\u0596\u05d9\u05e8 \u05e2\u05b7\u05dc \u05d4\u05b8 \u05d0\u05b8\u0591\u05e8\u05b6\u05e5\n",
        "                \u05d5\u05b0 \u05d4\u05b8\u05d9\u05a4\u05d5\u05bc \u05dc\u05b4 \u05de\u05b0\u05d0\u05b9\u05d5\u05e8\u05b9\u05ea\u0599 \u05d1\u05b4\u05bc \u05e8\u05b0\u05e7\u05b4\u05a3\u05d9\u05e2\u05b7 \u05d4\u05b7 \u05e9\u05b8\u05bc\u05c1\u05de\u05b7\u0594\u05d9\u05b4\u05dd \u05dc\u05b0 \u05d4\u05b8\u05d0\u05b4\u0596\u05d9\u05e8 \u05e2\u05b7\u05dc \u05d4\u05b8 \u05d0\u05b8\u0591\u05e8\u05b6\u05e5\n",
        "Adju  GEN 01,14 \u05dc\u05b0 \u05d4\u05b7\u05d1\u05b0\u05d3\u05b4\u05bc\u0595\u05d9\u05dc \u05d1\u05b5\u05bc\u05a5\u05d9\u05df \u05d4\u05b7 \u05d9\u05b9\u05bc\u0596\u05d5\u05dd \u05d5\u05bc \u05d1\u05b5\u05a3\u05d9\u05df \u05d4\u05b7 \u05dc\u05b8\u05bc\u0591\u05d9\u05b0\u05dc\u05b8\u05d4\n",
        "                \u05d9\u05b0\u05d4\u05b4\u05a4\u05d9 \u05de\u05b0\u05d0\u05b9\u05e8\u05b9\u05ea\u0599 \u05d1\u05b4\u05bc \u05e8\u05b0\u05e7\u05b4\u05a3\u05d9\u05e2\u05b7 \u05d4\u05b7 \u05e9\u05b8\u05bc\u05c1\u05de\u05b7\u0594\u05d9\u05b4\u05dd \u05dc\u05b0 \u05d4\u05b7\u05d1\u05b0\u05d3\u05b4\u05bc\u0595\u05d9\u05dc \u05d1\u05b5\u05bc\u05a5\u05d9\u05df \u05d4\u05b7 \u05d9\u05b9\u05bc\u0596\u05d5\u05dd \u05d5\u05bc \u05d1\u05b5\u05a3\u05d9\u05df \u05d4\u05b7 \u05dc\u05b8\u05bc\u0591\u05d9\u05b0\u05dc\u05b8\u05d4\n",
        "Attr  GEN 01,07 \u05d0\u05b2\u05e9\u05b6\u05c1\u0596\u05e8 \u05de\u05b5 \u05e2\u05b7\u05a3\u05dc \u05dc\u05b8  \u05e8\u05b8\u05e7\u05b4\u0591\u05d9\u05e2\u05b7\n",
        "                \u05d5\u05b7 \u05d9\u05b7\u05bc\u05d1\u05b0\u05d3\u05b5\u05bc\u0597\u05dc \u05d1\u05b5\u05bc\u05a4\u05d9\u05df \u05d4\u05b7 \u05de\u05b7\u05bc\u05a8\u05d9\u05b4\u05dd\u0599 \u05d0\u05b2\u05e9\u05b6\u05c1\u05e8\u0599 \u05de\u05b4 \u05ea\u05b7\u05bc\u05a3\u05d7\u05b7\u05ea \u05dc\u05b8  \u05e8\u05b8\u05e7\u05b4\u0594\u05d9\u05e2\u05b7 \u05d5\u05bc \u05d1\u05b5\u05a3\u05d9\u05df \u05d4\u05b7 \u05de\u05b7\u05bc\u0594\u05d9\u05b4\u05dd \u05d0\u05b2\u05e9\u05b6\u05c1\u0596\u05e8 \u05de\u05b5 \u05e2\u05b7\u05a3\u05dc \u05dc\u05b8  \u05e8\u05b8\u05e7\u05b4\u0591\u05d9\u05e2\u05b7\n",
        "Attr  GEN 01,11 \u05de\u05b7\u05d6\u05b0\u05e8\u05b4\u05a3\u05d9\u05e2\u05b7 \u05d6\u05b6\u0594\u05e8\u05b7\u05e2\n",
        "                \u05ea\u05b7\u05bc\u05bd\u05d3\u05b0\u05e9\u05b5\u05c1\u05a4\u05d0 \u05d4\u05b8 \u05d0\u05b8\u05a8\u05e8\u05b6\u05e5\u0599 \u05d3\u05b6\u05bc\u0594\u05e9\u05b6\u05c1\u05d0 \u05e2\u05b5\u059a\u05e9\u05b6\u05c2\u05d1 \u05de\u05b7\u05d6\u05b0\u05e8\u05b4\u05a3\u05d9\u05e2\u05b7 \u05d6\u05b6\u0594\u05e8\u05b7\u05e2 \u05e2\u05b5\u05a3\u05e5 \u05e4\u05b0\u05bc\u05e8\u05b4\u059e\u05d9 \u05e2\u05b9\u05a4\u05e9\u05b6\u05c2\u05d4 \u05e4\u05b0\u05bc\u05e8\u05b4\u05d9\u0599 \u05dc\u05b0 \u05de\u05b4\u05d9\u05e0\u05b9\u0594\u05d5 \u05d0\u05b2\u05e9\u05b6\u05c1\u05a5\u05e8 \u05d6\u05b7\u05e8\u05b0\u05e2\u05b9\u05d5 \u05d1\u05b9\u0596\u05d5 \u05e2\u05b7\u05dc \u05d4\u05b8 \u05d0\u05b8\u0591\u05e8\u05b6\u05e5\n",
        "Attr  GEN 01,07 \u05d0\u05b2\u05e9\u05b6\u05c1\u05e8\u0599 \u05de\u05b4 \u05ea\u05b7\u05bc\u05a3\u05d7\u05b7\u05ea \u05dc\u05b8  \u05e8\u05b8\u05e7\u05b4\u0594\u05d9\u05e2\u05b7\n",
        "                \u05d5\u05b7 \u05d9\u05b7\u05bc\u05d1\u05b0\u05d3\u05b5\u05bc\u0597\u05dc \u05d1\u05b5\u05bc\u05a4\u05d9\u05df \u05d4\u05b7 \u05de\u05b7\u05bc\u05a8\u05d9\u05b4\u05dd\u0599 \u05d0\u05b2\u05e9\u05b6\u05c1\u05e8\u0599 \u05de\u05b4 \u05ea\u05b7\u05bc\u05a3\u05d7\u05b7\u05ea \u05dc\u05b8  \u05e8\u05b8\u05e7\u05b4\u0594\u05d9\u05e2\u05b7 \u05d5\u05bc \u05d1\u05b5\u05a3\u05d9\u05df \u05d4\u05b7 \u05de\u05b7\u05bc\u0594\u05d9\u05b4\u05dd \u05d0\u05b2\u05e9\u05b6\u05c1\u0596\u05e8 \u05de\u05b5 \u05e2\u05b7\u05a3\u05dc \u05dc\u05b8  \u05e8\u05b8\u05e7\u05b4\u0591\u05d9\u05e2\u05b7\n",
        "Cmpl  GEN 32,14 \u05de\u05b4\u05df \u05d4\u05b7 \u05d1\u05b8\u05bc\u05a7\u05d0 \u05d1\u05b0 \u05d9\u05b8\u05d3\u05b9\u059b\u05d5\n",
        "                \u05d5\u05b7 \u05d9\u05b4\u05bc\u05e7\u05b7\u05bc\u059e\u05d7 \u05de\u05b4\u05df \u05d4\u05b7 \u05d1\u05b8\u05bc\u05a7\u05d0 \u05d1\u05b0 \u05d9\u05b8\u05d3\u05b9\u059b\u05d5 \u05de\u05b4\u05e0\u05b0\u05d7\u05b8\u0596\u05d4 \u05dc\u05b0 \u05e2\u05b5\u05e9\u05b8\u05c2\u05a5\u05d5 \u05d0\u05b8\u05d7\u05b4\u05bd\u05d9\u05d5 \u05e2\u05b4\u05d6\u05b4\u05bc\u05a3\u05d9\u05dd \u05de\u05b8\u05d0\u05ea\u05b7\u0594\u05d9\u05b4\u05dd \u05d5\u05bc \u05ea\u05b0\u05d9\u05b8\u05e9\u05b4\u05c1\u0596\u05d9\u05dd \u05e2\u05b6\u05e9\u05b0\u05c2\u05e8\u05b4\u0591\u05d9\u05dd \u05e8\u05b0\u05d7\u05b5\u05dc\u05b4\u05a5\u05d9\u05dd \u05de\u05b8\u05d0\u05ea\u05b7\u0596\u05d9\u05b4\u05dd \u05d5\u05b0 \u05d0\u05b5\u05d9\u05dc\u05b4\u05a5\u05d9\u05dd \u05e2\u05b6\u05e9\u05b0\u05c2\u05e8\u05b4\u05bd\u05d9\u05dd \u05d2\u05b0\u05bc\u05de\u05b7\u05dc\u05b4\u05bc\u05a7\u05d9\u05dd \u05de\u05b5\u05d9\u05e0\u05b4\u05d9\u05e7\u05b9\u059b\u05d5\u05ea \u05d5\u05bc \u05d1\u05b0\u05e0\u05b5\u05d9\u05d4\u05b6\u0596\u05dd \u05e9\u05b0\u05c1\u05dc\u05b9\u05e9\u05b4\u05c1\u0591\u05d9\u05dd \u05e4\u05b8\u05bc\u05e8\u05b9\u05a4\u05d5\u05ea \u05d0\u05b7\u05e8\u05b0\u05d1\u05b8\u05bc\u05e2\u05b4\u05d9\u05dd\u0599 \u05d5\u05bc \u05e4\u05b8\u05e8\u05b4\u05a3\u05d9\u05dd \u05e2\u05b2\u05e9\u05b8\u05c2\u05e8\u05b8\u0594\u05d4 \u05d0\u05b2\u05ea\u05b9\u05e0\u05b9\u05a3\u05ea \u05e2\u05b6\u05e9\u05b0\u05c2\u05e8\u05b4\u0594\u05d9\u05dd \u05d5\u05b7 \u05e2\u05b0\u05d9\u05b8\u05e8\u05b4\u0596\u05dd \u05e2\u05b2\u05e9\u05b8\u05c2\u05e8\u05b8\u05bd\u05d4\n",
        "Cmpl  GEN 31,01 \u05d5\u05bc \u05de\u05b5 \u05d0\u05b2\u05e9\u05b6\u05c1\u05a3\u05e8 \u05dc\u05b0 \u05d0\u05b8\u05d1\u05b4\u0594\u05d9\u05e0\u05d5\u05bc\n",
        "                \u05d5\u05bc \u05de\u05b5 \u05d0\u05b2\u05e9\u05b6\u05c1\u05a3\u05e8 \u05dc\u05b0 \u05d0\u05b8\u05d1\u05b4\u0594\u05d9\u05e0\u05d5\u05bc \u05e2\u05b8\u05e9\u05b8\u05c2\u0595\u05d4 \u05d0\u05b5\u05a5\u05ea \u05db\u05b8\u05bc\u05dc \u05d4\u05b7 \u05db\u05b8\u05bc\u05d1\u05b9\u0596\u05d3 \u05d4\u05b7 \u05d6\u05b6\u05bc\u05bd\u05d4\n",
        "Cmpl  GEN 30,18 \u05d0\u05b2\u05e9\u05b6\u05c1\u05e8 \u05e0\u05b8\u05ea\u05b7\u05a5\u05ea\u05b4\u05bc\u05d9 \u05e9\u05b4\u05c1\u05e4\u05b0\u05d7\u05b8\u05ea\u05b4\u0596\u05d9 \u05dc\u05b0 \u05d0\u05b4\u05d9\u05e9\u05b4\u05c1\u0591\u05d9\n",
        "                \u05e0\u05b8\u05ea\u05b7\u05a4\u05df \u05d0\u05b1\u05dc\u05b9\u05d4\u05b4\u05d9\u05dd\u0599 \u05e9\u05b0\u05c2\u05db\u05b8\u05e8\u05b4\u0594\u05d9 \u05d0\u05b2\u05e9\u05b6\u05c1\u05e8 \u05e0\u05b8\u05ea\u05b7\u05a5\u05ea\u05b4\u05bc\u05d9 \u05e9\u05b4\u05c1\u05e4\u05b0\u05d7\u05b8\u05ea\u05b4\u0596\u05d9 \u05dc\u05b0 \u05d0\u05b4\u05d9\u05e9\u05b4\u05c1\u0591\u05d9\n",
        "CoVo  GEN 24,12 \u05d4\u05b7\u05e7\u05b0\u05e8\u05b5\u05d4 \u05e0\u05b8\u05a5\u05d0 \u05dc\u05b0 \u05e4\u05b8\u05e0\u05b7\u0596\u05d9 \u05d4\u05b7 \u05d9\u05b9\u05bc\u0591\u05d5\u05dd\n",
        "                \u05d9\u05b0\u05d4\u05d5\u05b8\u0597\u05d4 \u05d0\u05b1\u05dc\u05b9\u05d4\u05b5\u05d9\u0599 \u05d0\u05b2\u05d3\u05b9\u05e0\u05b4\u05a3\u05d9 \u05d0\u05b7\u05d1\u05b0\u05e8\u05b8\u05d4\u05b8\u0594\u05dd \u05d4\u05b7\u05e7\u05b0\u05e8\u05b5\u05d4 \u05e0\u05b8\u05a5\u05d0 \u05dc\u05b0 \u05e4\u05b8\u05e0\u05b7\u0596\u05d9 \u05d4\u05b7 \u05d9\u05b9\u05bc\u0591\u05d5\u05dd \u05d5\u05b7 \u05e2\u05b2\u05e9\u05b5\u05c2\u05d4 \u05d7\u05b6\u0595\u05e1\u05b6\u05d3 \u05e2\u05b4\u0596\u05dd \u05d0\u05b2\u05d3\u05b9\u05e0\u05b4\u05a5\u05d9 \u05d0\u05b7\u05d1\u05b0\u05e8\u05b8\u05d4\u05b8\u05bd\u05dd \u05d4\u05b4\u05e0\u05b5\u05bc\u059b\u05d4 \u05d0\u05b8\u05e0\u05b9\u05db\u05b4\u05a5\u05d9 \u05e0\u05b4\u05e6\u05b8\u05bc\u0596\u05d1 \u05e2\u05b7\u05dc \u05e2\u05b5\u05a3\u05d9\u05df \u05d4\u05b7 \u05de\u05b8\u05bc\u0591\u05d9\u05b4\u05dd\n",
        "CoVo  GEN 16,08 \u05d0\u05b5\u05bd\u05d9 \u05de\u05b4 \u05d6\u05b6\u05bc\u05a5\u05d4 \u05d1\u05b8\u0596\u05d0\u05ea\n",
        "                \u05d4\u05b8\u05d2\u05b8\u059e\u05e8 \u05e9\u05b4\u05c1\u05e4\u05b0\u05d7\u05b7\u05a5\u05ea \u05e9\u05b8\u05c2\u05e8\u05b7\u059b\u05d9 \u05d0\u05b5\u05bd\u05d9 \u05de\u05b4 \u05d6\u05b6\u05bc\u05a5\u05d4 \u05d1\u05b8\u0596\u05d0\u05ea \u05d5\u05b0 \u05d0\u05b8\u05a3\u05e0\u05b8\u05d4 \u05ea\u05b5\u05dc\u05b5\u0591\u05db\u05b4\u05d9\n",
        "CoVo  GEN 15,02 \u05de\u05b7\u05d4 \u05ea\u05b4\u05bc\u05ea\u05b6\u05bc\u05df \u05dc\u05b4\u0594\u05d9\n",
        "                \u05d0\u05b2\u05d3\u05b9\u05e0\u05b8\u05a4\u05d9 \u05d9\u05b1\u05d4\u05d5\u05b4\u05d4\u0599 \u05de\u05b7\u05d4 \u05ea\u05b4\u05bc\u05ea\u05b6\u05bc\u05df \u05dc\u05b4\u0594\u05d9 \u05d5\u05b0 \u05d0\u05b8\u05e0\u05b9\u05db\u05b4\u0596\u05d9 \u05d4\u05b9\u05d5\u05dc\u05b5\u05a3\u05da\u05b0 \u05e2\u05b2\u05e8\u05b4\u05d9\u05e8\u05b4\u0591\u05d9\n",
        "Coor  GEN 02,09 \u05d5\u05b0 \u05d8\u05b9\u05a3\u05d5\u05d1 \u05dc\u05b0 \u05de\u05b7\u05d0\u05b2\u05db\u05b8\u0591\u05dc\n",
        "                \u05d5\u05b7 \u05d9\u05b7\u05bc\u05e6\u05b0\u05de\u05b7\u059e\u05d7 \u05d9\u05b0\u05d4\u05d5\u05b8\u05a4\u05d4 \u05d0\u05b1\u05dc\u05b9\u05d4\u05b4\u05d9\u05dd\u0599 \u05de\u05b4\u05df \u05d4\u05b8\u05a3 \u05d0\u05b2\u05d3\u05b8\u05de\u05b8\u0594\u05d4 \u05db\u05b8\u05bc\u05dc \u05e2\u05b5\u059b\u05e5 \u05e0\u05b6\u05d7\u05b0\u05de\u05b8\u05a5\u05d3 \u05dc\u05b0 \u05de\u05b7\u05e8\u05b0\u05d0\u05b6\u0596\u05d4 \u05d5\u05b0 \u05d8\u05b9\u05a3\u05d5\u05d1 \u05dc\u05b0 \u05de\u05b7\u05d0\u05b2\u05db\u05b8\u0591\u05dc \u05d5\u05b0 \u05e2\u05b5\u05a4\u05e5 \u05d4\u05b7\u05bd \u05d7\u05b7\u05d9\u05b4\u05bc\u05d9\u05dd\u0599 \u05d1\u05b0\u05bc \u05ea\u05b9\u05a3\u05d5\u05da\u05b0 \u05d4\u05b7 \u05d2\u05b8\u05bc\u0594\u05df \u05d5\u05b0 \u05e2\u05b5\u0595\u05e5 \u05d4\u05b7 \u05d3\u05b7\u05bc\u0596\u05e2\u05b7\u05ea \u05d8\u05b9\u05a5\u05d5\u05d1 \u05d5\u05b8 \u05e8\u05b8\u05bd\u05e2\n",
        "Coor  GEN 01,16 \u05d5\u05b0 \u05dc\u05b4 \u05de\u05b0\u05e9\u05b9\u05c1\u05dc\u0599 \u05d1\u05b7\u05bc  \u05d9\u05b9\u05bc\u05a3\u05d5\u05dd \u05d5\u05bc \u05d1\u05b7  \u05dc\u05b7\u05bc\u0594\u05d9\u05b0\u05dc\u05b8\u05d4\n",
        "                \u05d5\u05b7 \u05d9\u05b4\u05bc\u05ea\u05b5\u05bc\u05a5\u05df \u05d0\u05b9\u05ea\u05b8\u059b\u05dd \u05d0\u05b1\u05dc\u05b9\u05d4\u05b4\u0596\u05d9\u05dd \u05d1\u05b4\u05bc \u05e8\u05b0\u05e7\u05b4\u05a3\u05d9\u05e2\u05b7 \u05d4\u05b7 \u05e9\u05b8\u05bc\u05c1\u05de\u05b8\u0591\u05d9\u05b4\u05dd \u05dc\u05b0 \u05d4\u05b8\u05d0\u05b4\u0596\u05d9\u05e8 \u05e2\u05b7\u05dc \u05d4\u05b8 \u05d0\u05b8\u05bd\u05e8\u05b6\u05e5 \u05d5\u05b0 \u05dc\u05b4 \u05de\u05b0\u05e9\u05b9\u05c1\u05dc\u0599 \u05d1\u05b7\u05bc  \u05d9\u05b9\u05bc\u05a3\u05d5\u05dd \u05d5\u05bc \u05d1\u05b7  \u05dc\u05b7\u05bc\u0594\u05d9\u05b0\u05dc\u05b8\u05d4 \u05d5\u05bc\u05bd \u05dc\u05b2 \u05d4\u05b7\u05d1\u05b0\u05d3\u05b4\u05bc\u0594\u05d9\u05dc \u05d1\u05b5\u05bc\u05a5\u05d9\u05df \u05d4\u05b8 \u05d0\u05b9\u0596\u05d5\u05e8 \u05d5\u05bc \u05d1\u05b5\u05a3\u05d9\u05df \u05d4\u05b7 \u05d7\u05b9\u0591\u05e9\u05b6\u05c1\u05da\u05b0\n",
        "Coor  GEN 01,16 \u05d5\u05bc\u05bd \u05dc\u05b2 \u05d4\u05b7\u05d1\u05b0\u05d3\u05b4\u05bc\u0594\u05d9\u05dc \u05d1\u05b5\u05bc\u05a5\u05d9\u05df \u05d4\u05b8 \u05d0\u05b9\u0596\u05d5\u05e8 \u05d5\u05bc \u05d1\u05b5\u05a3\u05d9\u05df \u05d4\u05b7 \u05d7\u05b9\u0591\u05e9\u05b6\u05c1\u05da\u05b0\n",
        "                \u05d5\u05b7 \u05d9\u05b4\u05bc\u05ea\u05b5\u05bc\u05a5\u05df \u05d0\u05b9\u05ea\u05b8\u059b\u05dd \u05d0\u05b1\u05dc\u05b9\u05d4\u05b4\u0596\u05d9\u05dd \u05d1\u05b4\u05bc \u05e8\u05b0\u05e7\u05b4\u05a3\u05d9\u05e2\u05b7 \u05d4\u05b7 \u05e9\u05b8\u05bc\u05c1\u05de\u05b8\u0591\u05d9\u05b4\u05dd \u05dc\u05b0 \u05d4\u05b8\u05d0\u05b4\u0596\u05d9\u05e8 \u05e2\u05b7\u05dc \u05d4\u05b8 \u05d0\u05b8\u05bd\u05e8\u05b6\u05e5 \u05d5\u05b0 \u05dc\u05b4 \u05de\u05b0\u05e9\u05b9\u05c1\u05dc\u0599 \u05d1\u05b7\u05bc  \u05d9\u05b9\u05bc\u05a3\u05d5\u05dd \u05d5\u05bc \u05d1\u05b7  \u05dc\u05b7\u05bc\u0594\u05d9\u05b0\u05dc\u05b8\u05d4 \u05d5\u05bc\u05bd \u05dc\u05b2 \u05d4\u05b7\u05d1\u05b0\u05d3\u05b4\u05bc\u0594\u05d9\u05dc \u05d1\u05b5\u05bc\u05a5\u05d9\u05df \u05d4\u05b8 \u05d0\u05b9\u0596\u05d5\u05e8 \u05d5\u05bc \u05d1\u05b5\u05a3\u05d9\u05df \u05d4\u05b7 \u05d7\u05b9\u0591\u05e9\u05b6\u05c1\u05da\u05b0\n",
        "Objc  GEN 01,12 \u05db\u05b4\u05bc\u05d9 \u05d8\u05b9\u05bd\u05d5\u05d1\n",
        "                \u05d5\u05b7 \u05d9\u05b7\u05bc\u05a5\u05e8\u05b0\u05d0 \u05d0\u05b1\u05dc\u05b9\u05d4\u05b4\u0596\u05d9\u05dd \u05db\u05b4\u05bc\u05d9 \u05d8\u05b9\u05bd\u05d5\u05d1\n",
        "Objc  GEN 01,04 \u05db\u05b4\u05bc\u05d9 \u05d8\u05b9\u0591\u05d5\u05d1\n",
        "                \u05d5\u05b7 \u05d9\u05b7\u05bc\u05a7\u05e8\u05b0\u05d0 \u05d0\u05b1\u05dc\u05b9\u05d4\u05b4\u059b\u05d9\u05dd \u05d0\u05b6\u05ea \u05d4\u05b8 \u05d0\u05b9\u0596\u05d5\u05e8 \u05db\u05b4\u05bc\u05d9 \u05d8\u05b9\u0591\u05d5\u05d1\n",
        "Objc  GEN 01,10 \u05db\u05b4\u05bc\u05d9 \u05d8\u05b9\u05bd\u05d5\u05d1\n",
        "                \u05d5\u05b7 \u05d9\u05b7\u05bc\u05a5\u05e8\u05b0\u05d0 \u05d0\u05b1\u05dc\u05b9\u05d4\u05b4\u0596\u05d9\u05dd \u05db\u05b4\u05bc\u05d9 \u05d8\u05b9\u05bd\u05d5\u05d1\n",
        "Pred  GEN 02,11 \u05d4\u05b7 \u05e1\u05b9\u05bc\u05d1\u05b5\u0597\u05d1 \u05d0\u05b5\u059a\u05ea \u05db\u05b8\u05bc\u05dc \u05d0\u05b6\u05a3\u05e8\u05b6\u05e5 \u05d4\u05b7\u05bd \u05d7\u05b2\u05d5\u05b4\u05d9\u05dc\u05b8\u0594\u05d4\n",
        "                \u05e9\u05b5\u05c1\u05a5\u05dd \u05d4\u05b8\u05bd \u05d0\u05b6\u05d7\u05b8\u0596\u05d3 \u05e4\u05b4\u05bc\u05d9\u05e9\u05b9\u05c1\u0591\u05d5\u05df \u05d4\u05a3\u05d5\u05bc\u05d0 \u05d4\u05b7 \u05e1\u05b9\u05bc\u05d1\u05b5\u0597\u05d1 \u05d0\u05b5\u059a\u05ea \u05db\u05b8\u05bc\u05dc \u05d0\u05b6\u05a3\u05e8\u05b6\u05e5 \u05d4\u05b7\u05bd \u05d7\u05b2\u05d5\u05b4\u05d9\u05dc\u05b8\u0594\u05d4 \u05d0\u05b2\u05e9\u05b6\u05c1\u05e8 \u05e9\u05b8\u05c1\u0596\u05dd \u05d4\u05b7 \u05d6\u05b8\u05bc\u05d4\u05b8\u05bd\u05d1\n",
        "Pred  GEN 02,14 \u05d4\u05b7\u05bd \u05d4\u05b9\u05dc\u05b5\u0596\u05da\u05b0 \u05e7\u05b4\u05d3\u05b0\u05de\u05b7\u05a3\u05ea \u05d0\u05b7\u05e9\u05bc\u05c1\u0591\u05d5\u05bc\u05e8\n",
        "                \u05d5\u05b0 \u05e9\u05b5\u05c1\u05a8\u05dd \u05d4\u05b7 \u05e0\u05b8\u05bc\u05d4\u05b8\u05a4\u05e8 \u05d4\u05b7 \u05e9\u05b0\u05bc\u05c1\u05dc\u05b4\u05d9\u05e9\u05b4\u05c1\u05d9\u0599 \u05d7\u05b4\u05d3\u05b6\u05bc\u0594\u05e7\u05b6\u05dc \u05d4\u05a5\u05d5\u05bc\u05d0 \u05d4\u05b7\u05bd \u05d4\u05b9\u05dc\u05b5\u0596\u05da\u05b0 \u05e7\u05b4\u05d3\u05b0\u05de\u05b7\u05a3\u05ea \u05d0\u05b7\u05e9\u05bc\u05c1\u0591\u05d5\u05bc\u05e8\n",
        "Pred  GEN 02,13 \u05d4\u05b7 \u05e1\u05b9\u05bc\u05d5\u05d1\u05b5\u0594\u05d1 \u05d0\u05b5\u0596\u05ea \u05db\u05b8\u05bc\u05dc \u05d0\u05b6\u05a5\u05e8\u05b6\u05e5 \u05db\u05bc\u05bd\u05d5\u05bc\u05e9\u05c1\n",
        "                \u05d5\u05b0 \u05e9\u05b5\u05bd\u05c1\u05dd \u05d4\u05b7 \u05e0\u05b8\u05bc\u05d4\u05b8\u05a5\u05e8 \u05d4\u05b7 \u05e9\u05b5\u05bc\u05c1\u05e0\u05b4\u0596\u05d9 \u05d2\u05b4\u05bc\u05d9\u05d7\u05b9\u0591\u05d5\u05df \u05d4\u05a3\u05d5\u05bc\u05d0 \u05d4\u05b7 \u05e1\u05b9\u05bc\u05d5\u05d1\u05b5\u0594\u05d1 \u05d0\u05b5\u0596\u05ea \u05db\u05b8\u05bc\u05dc \u05d0\u05b6\u05a5\u05e8\u05b6\u05e5 \u05db\u05bc\u05bd\u05d5\u05bc\u05e9\u05c1\n",
        "Resu  GEN 02,04 \u05d5\u05b0 \u05db\u05b9\u05a3\u05dc \u05e9\u05b4\u05c2\u05a3\u05d9\u05d7\u05b7 \u05d4\u05b7 \u05e9\u05b8\u05bc\u05c2\u05d3\u05b6\u0597\u05d4 \u05d8\u05b6\u059a\u05e8\u05b6\u05dd \u05d9\u05b4\u05bd\u05d4\u05b0\u05d9\u05b6\u05a3\u05d4 \u05d1\u05b8  \u05d0\u05b8\u0594\u05e8\u05b6\u05e5\n",
        "                \u05d1\u05b0\u05bc \u05d9\u05b9\u0597\u05d5\u05dd \u05e2\u05b2\u05e9\u05b9\u05c2\u059b\u05d5\u05ea \u05d9\u05b0\u05d4\u05d5\u05b8\u05a5\u05d4 \u05d0\u05b1\u05dc\u05b9\u05d4\u05b4\u0596\u05d9\u05dd \u05d0\u05b6\u05a5\u05e8\u05b6\u05e5 \u05d5\u05b0 \u05e9\u05b8\u05c1\u05de\u05b8\u05bd\u05d9\u05b4\u05dd \u05d5\u05b0 \u05db\u05b9\u05a3\u05dc \u05e9\u05b4\u05c2\u05a3\u05d9\u05d7\u05b7 \u05d4\u05b7 \u05e9\u05b8\u05bc\u05c2\u05d3\u05b6\u0597\u05d4 \u05d8\u05b6\u059a\u05e8\u05b6\u05dd \u05d9\u05b4\u05bd\u05d4\u05b0\u05d9\u05b6\u05a3\u05d4 \u05d1\u05b8  \u05d0\u05b8\u0594\u05e8\u05b6\u05e5 \u05d5\u05b0 \u05db\u05b8\u05dc \u05e2\u05b5\u05a5\u05e9\u05b6\u05c2\u05d1 \u05d4\u05b7 \u05e9\u05b8\u05bc\u05c2\u05d3\u05b6\u0596\u05d4 \u05d8\u05b6\u05a3\u05e8\u05b6\u05dd \u05d9\u05b4\u05e6\u05b0\u05de\u05b8\u0591\u05d7\n",
        "Resu  GEN 02,14 \u05d4\u05a5\u05d5\u05bc\u05d0 \u05e4\u05b0\u05e8\u05b8\u05bd\u05ea\n",
        "                \u05d5\u05b0 \u05d4\u05b7 \u05e0\u05b8\u05bc\u05d4\u05b8\u05a5\u05e8 \u05d4\u05b8\u05bd \u05e8\u05b0\u05d1\u05b4\u05d9\u05e2\u05b4\u0596\u05d9 \u05d4\u05a5\u05d5\u05bc\u05d0 \u05e4\u05b0\u05e8\u05b8\u05bd\u05ea\n",
        "Resu  GEN 02,17 \u05dc\u05b9\u05a5\u05d0 \u05ea\u05b9\u05d0\u05db\u05b7\u0596\u05dc \u05de\u05b4\u05de\u05b6\u05bc\u0591\u05e0\u05bc\u05d5\u05bc\n",
        "                \u05d5\u05bc \u05de\u05b5 \u05e2\u05b5\u0597\u05e5 \u05d4\u05b7 \u05d3\u05b7\u05bc\u05a8\u05e2\u05b7\u05ea\u0599 \u05d8\u05b9\u05a3\u05d5\u05d1 \u05d5\u05b8 \u05e8\u05b8\u0594\u05e2 \u05dc\u05b9\u05a5\u05d0 \u05ea\u05b9\u05d0\u05db\u05b7\u0596\u05dc \u05de\u05b4\u05de\u05b6\u05bc\u0591\u05e0\u05bc\u05d5\u05bc \u05db\u05b4\u05bc\u0597\u05d9 \u05d1\u05b0\u05bc \u05d9\u05b9\u059b\u05d5\u05dd \u05d0\u05b2\u05db\u05b8\u05dc\u05b0\u05da\u05b8\u05a5 \u05de\u05b4\u05de\u05b6\u05bc\u0596\u05e0\u05bc\u05d5\u05bc \u05de\u05b9\u05a5\u05d5\u05ea \u05ea\u05b8\u05bc\u05de\u05bd\u05d5\u05bc\u05ea\n",
        "RgRc  GEN 16,13 \u05e8\u05b9\u05d0\u05b4\u05bd\u05d9\n",
        "                \u05d4\u05b2 \u05d2\u05b7\u05a5\u05dd \u05d4\u05b2\u05dc\u05b9\u059b\u05dd \u05e8\u05b8\u05d0\u05b4\u0596\u05d9\u05ea\u05b4\u05d9 \u05d0\u05b7\u05d7\u05b2\u05e8\u05b5\u05a5\u05d9 \u05e8\u05b9\u05d0\u05b4\u05bd\u05d9\n",
        "RgRc  GEN 03,05 \u05d0\u05b2\u05db\u05b8\u05dc\u05b0\u05db\u05b6\u05a3\u05dd \u05de\u05b4\u05de\u05b6\u05bc\u0594\u05e0\u05bc\u05d5\u05bc\n",
        "                \u05db\u05b4\u05bc\u059a\u05d9 \u05d9\u05b9\u05d3\u05b5\u05a3\u05e2\u05b7 \u05d0\u05b1\u05dc\u05b9\u05d4\u05b4\u0594\u05d9\u05dd \u05db\u05b4\u05bc\u0597\u05d9 \u05d1\u05b0\u05bc \u05d9\u05b9\u05d5\u05dd\u0599 \u05d0\u05b2\u05db\u05b8\u05dc\u05b0\u05db\u05b6\u05a3\u05dd \u05de\u05b4\u05de\u05b6\u05bc\u0594\u05e0\u05bc\u05d5\u05bc \u05d5\u05b0 \u05e0\u05b4\u05e4\u05b0\u05e7\u05b0\u05d7\u0596\u05d5\u05bc \u05e2\u05b5\u05bd\u05d9\u05e0\u05b5\u05d9\u05db\u05b6\u0591\u05dd \u05d5\u05b4 \u05d4\u05b0\u05d9\u05b4\u05d9\u05ea\u05b6\u05dd\u0599 \u05db\u05b5\u05bc\u05bd \u05d0\u05dc\u05b9\u05d4\u05b4\u0594\u05d9\u05dd \u05d9\u05b9\u05d3\u05b0\u05e2\u05b5\u0596\u05d9 \u05d8\u05b9\u05a5\u05d5\u05d1 \u05d5\u05b8 \u05e8\u05b8\u05bd\u05e2\n",
        "RgRc  GEN 02,17 \u05d0\u05b2\u05db\u05b8\u05dc\u05b0\u05da\u05b8\u05a5 \u05de\u05b4\u05de\u05b6\u05bc\u0596\u05e0\u05bc\u05d5\u05bc\n",
        "                \u05d5\u05bc \u05de\u05b5 \u05e2\u05b5\u0597\u05e5 \u05d4\u05b7 \u05d3\u05b7\u05bc\u05a8\u05e2\u05b7\u05ea\u0599 \u05d8\u05b9\u05a3\u05d5\u05d1 \u05d5\u05b8 \u05e8\u05b8\u0594\u05e2 \u05dc\u05b9\u05a5\u05d0 \u05ea\u05b9\u05d0\u05db\u05b7\u0596\u05dc \u05de\u05b4\u05de\u05b6\u05bc\u0591\u05e0\u05bc\u05d5\u05bc \u05db\u05b4\u05bc\u0597\u05d9 \u05d1\u05b0\u05bc \u05d9\u05b9\u059b\u05d5\u05dd \u05d0\u05b2\u05db\u05b8\u05dc\u05b0\u05da\u05b8\u05a5 \u05de\u05b4\u05de\u05b6\u05bc\u0596\u05e0\u05bc\u05d5\u05bc \u05de\u05b9\u05a5\u05d5\u05ea \u05ea\u05b8\u05bc\u05de\u05bd\u05d5\u05bc\u05ea\n",
        "Subj  GEN 02,11 \u05d4\u05a3\u05d5\u05bc\u05d0\n",
        "                \u05e9\u05b5\u05c1\u05a5\u05dd \u05d4\u05b8\u05bd \u05d0\u05b6\u05d7\u05b8\u0596\u05d3 \u05e4\u05b4\u05bc\u05d9\u05e9\u05b9\u05c1\u0591\u05d5\u05df \u05d4\u05a3\u05d5\u05bc\u05d0 \u05d4\u05b7 \u05e1\u05b9\u05bc\u05d1\u05b5\u0597\u05d1 \u05d0\u05b5\u059a\u05ea \u05db\u05b8\u05bc\u05dc \u05d0\u05b6\u05a3\u05e8\u05b6\u05e5 \u05d4\u05b7\u05bd \u05d7\u05b2\u05d5\u05b4\u05d9\u05dc\u05b8\u0594\u05d4 \u05d0\u05b2\u05e9\u05b6\u05c1\u05e8 \u05e9\u05b8\u05c1\u0596\u05dd \u05d4\u05b7 \u05d6\u05b8\u05bc\u05d4\u05b8\u05bd\u05d1\n",
        "Subj  GEN 02,14 \u05d4\u05a5\u05d5\u05bc\u05d0\n",
        "                \u05d5\u05b0 \u05e9\u05b5\u05c1\u05a8\u05dd \u05d4\u05b7 \u05e0\u05b8\u05bc\u05d4\u05b8\u05a4\u05e8 \u05d4\u05b7 \u05e9\u05b0\u05bc\u05c1\u05dc\u05b4\u05d9\u05e9\u05b4\u05c1\u05d9\u0599 \u05d7\u05b4\u05d3\u05b6\u05bc\u0594\u05e7\u05b6\u05dc \u05d4\u05a5\u05d5\u05bc\u05d0 \u05d4\u05b7\u05bd \u05d4\u05b9\u05dc\u05b5\u0596\u05da\u05b0 \u05e7\u05b4\u05d3\u05b0\u05de\u05b7\u05a3\u05ea \u05d0\u05b7\u05e9\u05bc\u05c1\u0591\u05d5\u05bc\u05e8\n",
        "Subj  GEN 02,13 \u05d4\u05a3\u05d5\u05bc\u05d0\n",
        "                \u05d5\u05b0 \u05e9\u05b5\u05bd\u05c1\u05dd \u05d4\u05b7 \u05e0\u05b8\u05bc\u05d4\u05b8\u05a5\u05e8 \u05d4\u05b7 \u05e9\u05b5\u05bc\u05c1\u05e0\u05b4\u0596\u05d9 \u05d2\u05b4\u05bc\u05d9\u05d7\u05b9\u0591\u05d5\u05df \u05d4\u05a3\u05d5\u05bc\u05d0 \u05d4\u05b7 \u05e1\u05b9\u05bc\u05d5\u05d1\u05b5\u0594\u05d1 \u05d0\u05b5\u0596\u05ea \u05db\u05b8\u05bc\u05dc \u05d0\u05b6\u05a5\u05e8\u05b6\u05e5 \u05db\u05bc\u05bd\u05d5\u05bc\u05e9\u05c1\n",
        "none  GEN 01,01 \u05d1\u05b0\u05bc \u05e8\u05b5\u05d0\u05e9\u05b4\u05c1\u0596\u05d9\u05ea \u05d1\u05b8\u05bc\u05e8\u05b8\u05a3\u05d0 \u05d0\u05b1\u05dc\u05b9\u05d4\u05b4\u0591\u05d9\u05dd \u05d0\u05b5\u05a5\u05ea \u05d4\u05b7 \u05e9\u05b8\u05bc\u05c1\u05de\u05b7\u0596\u05d9\u05b4\u05dd \u05d5\u05b0 \u05d0\u05b5\u05a5\u05ea \u05d4\u05b8 \u05d0\u05b8\u05bd\u05e8\u05b6\u05e5\n",
        "                \u05d1\u05b0\u05bc \u05e8\u05b5\u05d0\u05e9\u05b4\u05c1\u0596\u05d9\u05ea \u05d1\u05b8\u05bc\u05e8\u05b8\u05a3\u05d0 \u05d0\u05b1\u05dc\u05b9\u05d4\u05b4\u0591\u05d9\u05dd \u05d0\u05b5\u05a5\u05ea \u05d4\u05b7 \u05e9\u05b8\u05bc\u05c1\u05de\u05b7\u0596\u05d9\u05b4\u05dd \u05d5\u05b0 \u05d0\u05b5\u05a5\u05ea \u05d4\u05b8 \u05d0\u05b8\u05bd\u05e8\u05b6\u05e5\n",
        "none  GEN 01,02 \u05d5\u05b0 \u05d4\u05b8 \u05d0\u05b8\u0597\u05e8\u05b6\u05e5 \u05d4\u05b8\u05d9\u05b0\u05ea\u05b8\u05a5\u05d4 \u05ea\u05b9\u05a8\u05d4\u05d5\u05bc\u0599 \u05d5\u05b8 \u05d1\u05b9\u0594\u05d4\u05d5\u05bc\n",
        "                \u05d5\u05b0 \u05d4\u05b8 \u05d0\u05b8\u0597\u05e8\u05b6\u05e5 \u05d4\u05b8\u05d9\u05b0\u05ea\u05b8\u05a5\u05d4 \u05ea\u05b9\u05a8\u05d4\u05d5\u05bc\u0599 \u05d5\u05b8 \u05d1\u05b9\u0594\u05d4\u05d5\u05bc\n",
        "none  GEN 01,02 \u05d5\u05b0 \u05d7\u05b9\u0596\u05e9\u05b6\u05c1\u05da\u05b0 \u05e2\u05b7\u05dc \u05e4\u05b0\u05bc\u05e0\u05b5\u05a3\u05d9 \u05ea\u05b0\u05d4\u05b9\u0591\u05d5\u05dd\n",
        "                \u05d5\u05b0 \u05d7\u05b9\u0596\u05e9\u05b6\u05c1\u05da\u05b0 \u05e2\u05b7\u05dc \u05e4\u05b0\u05bc\u05e0\u05b5\u05a3\u05d9 \u05ea\u05b0\u05d4\u05b9\u0591\u05d5\u05dd\n"
       ]
      }
     ],
     "prompt_number": 7
    },
    {
     "cell_type": "code",
     "collapsed": false,
     "input": [],
     "language": "python",
     "metadata": {},
     "outputs": []
    }
   ],
   "metadata": {}
  }
 ]
}