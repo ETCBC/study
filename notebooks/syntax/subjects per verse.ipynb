{
 "metadata": {
  "name": ""
 },
 "nbformat": 3,
 "nbformat_minor": 0,
 "worksheets": [
  {
   "cells": [
    {
     "cell_type": "code",
     "collapsed": false,
     "input": [
      "import sys\n",
      "import collections\n",
      "\n",
      "import laf\n",
      "from laf.notebook import Notebook\n",
      "\n",
      "processor = Notebook()\n",
      "\n",
      "def show(n):\n",
      "    i = 0\n",
      "    for node in NN(test=F.shebanq_db_otype.v, value='verse'):\n",
      "        i += 1\n",
      "        if i > n:\n",
      "            break\n",
      "        print(\"{:>3} {}\".format(\n",
      "            i,\n",
      "            ''.join(\n",
      "                [\"{}{}\".format(\n",
      "                        F.shebanq_ft_text.v(t),\n",
      "                        F.shebanq_ft_suffix.v(t)\n",
      "                    ) for t in verses[node]\n",
      "                ])\n",
      "        ))"
     ],
     "language": "python",
     "metadata": {},
     "outputs": [
      {
       "output_type": "stream",
       "stream": "stderr",
       "text": [
        "This is LAF-Fabric 3.7.0\n"
       ]
      }
     ],
     "prompt_number": 2
    },
    {
     "cell_type": "code",
     "collapsed": false,
     "input": [
      "processor.init('bhs3.txt.hdr', '--', 'plain', {\n",
      "    \"xmlids\": {\n",
      "        \"node\": False,\n",
      "        \"edge\": False,\n",
      "    },\n",
      "    \"features\": {\n",
      "        \"shebanq\": {\n",
      "            \"node\": [\n",
      "                \"db.otype\",\n",
      "                \"ft.text,text_plain,suffix\",\n",
      "                \"ft.graphical_word,surface_consonants\",\n",
      "                \"ft.lexeme_utf8,part_of_speech\",\n",
      "                \"sft.book,chapter,verse,verse_label\",\n",
      "                \"ft.phrase_function\",\n",
      "            ],\n",
      "            \"edge\": [\n",
      "            ],\n",
      "        },\n",
      "    },\n",
      "    \"primary\": True,\n",
      "})\n",
      "\n",
      "API = processor.API()\n",
      "F = API['F']\n",
      "NN = API['NN']\n",
      "P = API['P']\n",
      "msg = API['msg']\n",
      "outfile = API['outfile']\n",
      "my_file = API['my_file']"
     ],
     "language": "python",
     "metadata": {},
     "outputs": [
      {
       "output_type": "stream",
       "stream": "stderr",
       "text": [
        "  0.00s COMPILING source: UP TO DATE\n"
       ]
      },
      {
       "output_type": "stream",
       "stream": "stderr",
       "text": [
        "  0.00s COMPILING annox: UP TO DATE\n"
       ]
      },
      {
       "output_type": "stream",
       "stream": "stderr",
       "text": [
        "  0.00s LOADING DATA: please wait ...\n"
       ]
      },
      {
       "output_type": "stream",
       "stream": "stderr",
       "text": [
        "  5.31s LOADING DATA: DONE\n"
       ]
      },
      {
       "output_type": "stream",
       "stream": "stderr",
       "text": [
        "  0.00s LOGFILE=/Users/judith/bhs3.txt.hdr/plain/__log__plain.txt\n"
       ]
      },
      {
       "output_type": "stream",
       "stream": "stderr",
       "text": [
        "  0.00s BEGIN TASK=plain SOURCE=bhs3.txt.hdr\n"
       ]
      },
      {
       "output_type": "stream",
       "stream": "stderr",
       "text": [
        "  0.00s LOADING API: please wait ... \n"
       ]
      },
      {
       "output_type": "stream",
       "stream": "stderr",
       "text": [
        "  0.21s LOADING API: DONE\n"
       ]
      }
     ],
     "prompt_number": 3
    },
    {
     "cell_type": "code",
     "collapsed": false,
     "input": [
      "verses = collections.defaultdict(list)\n",
      "cur_verse = None\n",
      "\n",
      "for node in NN(test=F.shebanq_db_otype.v, values=['verse', 'word']):\n",
      "    if F.shebanq_db_otype.v(node) == 'verse':\n",
      "        cur_verse = node\n",
      "    else:\n",
      "        verses[cur_verse].append(node)      \n",
      "\n",
      "msg(\"end walking through verses\")\n",
      "\n",
      "show(5)\n",
      "\n",
      "\n",
      "            \n",
      "    "
     ],
     "language": "python",
     "metadata": {},
     "outputs": [
      {
       "output_type": "stream",
       "stream": "stderr",
       "text": [
        "  3.84s end walking through verses\n"
       ]
      },
      {
       "output_type": "stream",
       "stream": "stdout",
       "text": [
        "  1 \u05d1\u05b0\u05bc\u05e8\u05b5\u05d0\u05e9\u05b4\u05c1\u0596\u05d9\u05ea \u05d1\u05b8\u05bc\u05e8\u05b8\u05a3\u05d0 \u05d0\u05b1\u05dc\u05b9\u05d4\u05b4\u0591\u05d9\u05dd \u05d0\u05b5\u05a5\u05ea \u05d4\u05b7\u05e9\u05b8\u05bc\u05c1\u05de\u05b7\u0596\u05d9\u05b4\u05dd \u05d5\u05b0\u05d0\u05b5\u05a5\u05ea \u05d4\u05b8\u05d0\u05b8\u05bd\u05e8\u05b6\u05e5\u05c3\n",
        "  2 \u05d5\u05b0\u05d4\u05b8\u05d0\u05b8\u0597\u05e8\u05b6\u05e5 \u05d4\u05b8\u05d9\u05b0\u05ea\u05b8\u05a5\u05d4 \u05ea\u05b9\u05a8\u05d4\u05d5\u05bc\u0599 \u05d5\u05b8\u05d1\u05b9\u0594\u05d4\u05d5\u05bc \u05d5\u05b0\u05d7\u05b9\u0596\u05e9\u05b6\u05c1\u05da\u05b0 \u05e2\u05b7\u05dc\u05be\u05e4\u05b0\u05bc\u05e0\u05b5\u05a3\u05d9 \u05ea\u05b0\u05d4\u05b9\u0591\u05d5\u05dd \u05d5\u05b0\u05e8\u05a3\u05d5\u05bc\u05d7\u05b7 \u05d0\u05b1\u05dc\u05b9\u05d4\u05b4\u0594\u05d9\u05dd \u05de\u05b0\u05e8\u05b7\u05d7\u05b6\u0596\u05e4\u05b6\u05ea \u05e2\u05b7\u05dc\u05be\u05e4\u05b0\u05bc\u05e0\u05b5\u05a5\u05d9 \u05d4\u05b7\u05de\u05b8\u05bc\u05bd\u05d9\u05b4\u05dd\u05c3\n",
        "  3 \u05d5\u05b7\u05d9\u05b9\u05bc\u05a5\u05d0\u05de\u05b6\u05e8 \u05d0\u05b1\u05dc\u05b9\u05d4\u05b4\u0596\u05d9\u05dd \u05d9\u05b0\u05d4\u05b4\u05a3\u05d9 \u05d0\u05b9\u0591\u05d5\u05e8 \u05d5\u05b7\u05bd\u05d9\u05b0\u05d4\u05b4\u05d9\u05be\u05d0\u05b9\u05bd\u05d5\u05e8\u05c3\n",
        "  4 \u05d5\u05b7\u05d9\u05b7\u05bc\u05a7\u05e8\u05b0\u05d0 \u05d0\u05b1\u05dc\u05b9\u05d4\u05b4\u059b\u05d9\u05dd \u05d0\u05b6\u05ea\u05be\u05d4\u05b8\u05d0\u05b9\u0596\u05d5\u05e8 \u05db\u05b4\u05bc\u05d9\u05be\u05d8\u05b9\u0591\u05d5\u05d1 \u05d5\u05b7\u05d9\u05b7\u05bc\u05d1\u05b0\u05d3\u05b5\u05bc\u05a3\u05dc \u05d0\u05b1\u05dc\u05b9\u05d4\u05b4\u0594\u05d9\u05dd \u05d1\u05b5\u05bc\u05a5\u05d9\u05df \u05d4\u05b8\u05d0\u05b9\u0596\u05d5\u05e8 \u05d5\u05bc\u05d1\u05b5\u05a5\u05d9\u05df \u05d4\u05b7\u05d7\u05b9\u05bd\u05e9\u05b6\u05c1\u05da\u05b0\u05c3\n",
        "  5 \u05d5\u05b7\u05d9\u05b4\u05bc\u05e7\u05b0\u05e8\u05b8\u05a8\u05d0 \u05d0\u05b1\u05dc\u05b9\u05d4\u05b4\u05a4\u05d9\u05dd \u05c0 \u05dc\u05b8\u05d0\u05b9\u05d5\u05e8\u0599 \u05d9\u05b9\u0594\u05d5\u05dd \u05d5\u05b0\u05dc\u05b7\u05d7\u05b9\u0596\u05e9\u05b6\u05c1\u05da\u05b0 \u05e7\u05b8\u05a3\u05e8\u05b8\u05d0 \u05dc\u05b8\u0591\u05d9\u05b0\u05dc\u05b8\u05d4 \u05d5\u05b7\u05bd\u05d9\u05b0\u05d4\u05b4\u05d9\u05be\u05e2\u05b6\u05a5\u05e8\u05b6\u05d1 \u05d5\u05b7\u05bd\u05d9\u05b0\u05d4\u05b4\u05d9\u05be\u05d1\u05b9\u0596\u05e7\u05b6\u05e8 \u05d9\u05b9\u05a5\u05d5\u05dd \u05d0\u05b6\u05d7\u05b8\u05bd\u05d3\u05c3 \u05e4\n"
       ]
      }
     ],
     "prompt_number": 4
    },
    {
     "cell_type": "code",
     "collapsed": false,
     "input": [
      "subject_count = 0\n",
      "\n",
      "def count():\n",
      "    for key in phrase_words:\n",
      "        \n",
      "        if F.shebanq_ft_phrase_function.v(key) == \"Subj\":\n",
      "            subject_count = subject_count + 1\n",
      "            print(subject_count)\n",
      "            \n",
      "    \n",
      "            \n",
      "\n",
      "phrase_words = collections.defaultdict(list)\n",
      "cur_phrase = None\n",
      "\n",
      "for key in verses:\n",
      "    \n",
      "        \n",
      "\n",
      "    \n",
      "\n",
      "\n",
      "    "
     ],
     "language": "python",
     "metadata": {},
     "outputs": [],
     "prompt_number": 14
    },
    {
     "cell_type": "code",
     "collapsed": false,
     "input": [],
     "language": "python",
     "metadata": {},
     "outputs": [],
     "prompt_number": 35
    },
    {
     "cell_type": "code",
     "collapsed": false,
     "input": [],
     "language": "python",
     "metadata": {},
     "outputs": []
    }
   ],
   "metadata": {}
  }
 ]
}