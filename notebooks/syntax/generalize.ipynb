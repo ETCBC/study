{
 "metadata": {
  "name": ""
 },
 "nbformat": 3,
 "nbformat_minor": 0,
 "worksheets": [
  {
   "cells": [
    {
     "cell_type": "code",
     "collapsed": false,
     "input": [
      "import sys\n",
      "import collections\n",
      "\n",
      "import laf\n",
      "\n",
      "from laf.notebook import Notebook\n",
      "from etcbc import preprocess\n",
      "\n",
      "processor = Notebook()"
     ],
     "language": "python",
     "metadata": {},
     "outputs": [
      {
       "output_type": "stream",
       "stream": "stderr",
       "text": [
        "This is LAF-Fabric 3.7.0\n"
       ]
      }
     ],
     "prompt_number": 15
    },
    {
     "cell_type": "code",
     "collapsed": false,
     "input": [
      "processor.init('bhs3.txt.hdr', '--', 'subject', {\n",
      "    \"primary\": False,\n",
      "    \"xmlids\": {\n",
      "        \"node\": False,\n",
      "        \"edge\": False,\n",
      "    },\n",
      "    \"features\": {\n",
      "        \"shebanq\": {\n",
      "            \"node\": [\n",
      "                \"db.otype\",\n",
      "                \"ft.phrase_function\",\n",
      "                \"sft.book,chapter,verse,verse_label\",\n",
      "            ],\n",
      "            \"edge\": [\n",
      "            ],\n",
      "        },\n",
      "    },\n",
      "})\n",
      "\n",
      "API = processor.API()\n",
      "F = API['F']\n",
      "NN = API['NN']\n",
      "msg = API['msg']\n",
      "outfile = API['outfile']\n",
      "\n",
      "preprocess.check(API)"
     ],
     "language": "python",
     "metadata": {},
     "outputs": [
      {
       "output_type": "stream",
       "stream": "stderr",
       "text": [
        "  0.00s COMPILING source: UP TO DATE\n"
       ]
      },
      {
       "output_type": "stream",
       "stream": "stderr",
       "text": [
        "  0.00s COMPILING annox: UP TO DATE\n"
       ]
      },
      {
       "output_type": "stream",
       "stream": "stderr",
       "text": [
        "  0.00s LOADING DATA: please wait ...\n"
       ]
      },
      {
       "output_type": "stream",
       "stream": "stderr",
       "text": [
        "49m 12s END\n"
       ]
      },
      {
       "output_type": "stream",
       "stream": "stderr",
       "text": [
        "  2.18s LOADING DATA: DONE\n"
       ]
      },
      {
       "output_type": "stream",
       "stream": "stderr",
       "text": [
        "  0.00s LOGFILE=/Users/judith/bhs3.txt.hdr/subject/__log__subject.txt\n"
       ]
      },
      {
       "output_type": "stream",
       "stream": "stderr",
       "text": [
        "  0.00s BEGIN TASK=subject SOURCE=bhs3.txt.hdr\n"
       ]
      },
      {
       "output_type": "stream",
       "stream": "stderr",
       "text": [
        "  0.00s LOADING API: please wait ... \n"
       ]
      },
      {
       "output_type": "stream",
       "stream": "stderr",
       "text": [
        "  0.07s LOADING API: DONE\n"
       ]
      }
     ],
     "prompt_number": 16
    },
    {
     "cell_type": "code",
     "collapsed": false,
     "input": [
      "def verse ():\n",
      "    verses = collections.defaultdict(list)\n",
      "    cur_verse = None\n",
      "    count = 0\n",
      "\n",
      "    for node in NN(test=F.shebanq_db_otype.v, values=['book', 'chapter', 'verse', 'phrase']):\n",
      "        if F.shebanq_db_otype.v(node) == 'book':\n",
      "            the_book = F.shebanq_db_otype.v(node)\n",
      "        elif F.shebanq_db_otype.v(node) == \"chapter\":\n",
      "            the_chapter = F.shebanq_sft_chapter.v(node) \n",
      "        elif F.shebanq_db_otype.v(node) == 'verse':\n",
      "            the_verse = F.shebanq_sft_verse.v(node)\n",
      "        else:\n",
      "            if F.shebanq_db_otype.v(node) == 'phrase':\n",
      "                passage = the_book + ' ' + the_chapter + ' ' + the_verse\n",
      "                verses[passage].append(node)\n",
      "\n",
      "    return verses\n",
      "\n",
      "def chapters ():\n",
      "    chapter = collections.defaultdict(list)\n",
      "    \n",
      "    for node in NN(test=F.shebanq_db_otype.v, values=['book', 'chapter', 'phrase']):\n",
      "        if F.shebanq_db_otype.v(node) == \"book\":\n",
      "            the_book = F.shebanq_sft_book.v(node)\n",
      "        elif F.shebanq_db_otype.v(node) == \"chapter\":\n",
      "            the_chapter = F.shebanq_sft_chapter.v(node) \n",
      "        else:\n",
      "            if F.shebanq_db_otype.v(node) == 'phrase':\n",
      "                passage = the_book + ' ' + the_chapter\n",
      "                chapter[passage].append(node) \n",
      "\n",
      "    return chapter\n",
      "\n",
      "out_handle_verse = outfile(\"output-verse.txt\")\n",
      "out_handle_chapter = outfile(\"output-chapter.txt\")\n",
      "\n",
      "def output(section, ofile):\n",
      "    \n",
      "    count = 0\n",
      "    frequency = 0\n",
      "    if ofile == out_handle_verse:\n",
      "        for keys, values in section.items():\n",
      "            length = len(values)\n",
      "            for element in values:\n",
      "                if F.shebanq_ft_phrase_function.v(element) == 'Subj':\n",
      "                    count = count + 1\n",
      "                    frequency = count / length\n",
      "            ofile.write(\"{} Phrases: {} Subjects: {} Frequency {}\\n\".format(keys, length, count, frequency)) \n",
      "            count = 0\n",
      "    elif ofile == out_handle_chapter:\n",
      "        for keys, values in section.items():\n",
      "            length = len(values)\n",
      "            for element in values:\n",
      "                if F.shebanq_ft_phrase_function.v(element) == 'Subj':\n",
      "                    count = count + 1\n",
      "                    frequency = count / length\n",
      "            ofile.write(\"{} Phrases: {} Subjects: {} Frequency {}\\n\".format(keys, length, count, frequency)) \n",
      "            count = 0\n",
      "\n",
      "chapter_test = chapters()\n",
      "verse_test = verse()\n",
      "\n",
      "output(chapter_test, out_handle_chapter)\n",
      "output(verse_test, out_handle_verse)"
     ],
     "language": "python",
     "metadata": {},
     "outputs": [],
     "prompt_number": 24
    },
    {
     "cell_type": "code",
     "collapsed": false,
     "input": [],
     "language": "python",
     "metadata": {},
     "outputs": []
    }
   ],
   "metadata": {}
  }
 ]
}