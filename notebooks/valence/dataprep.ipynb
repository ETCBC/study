{
 "metadata": {
  "name": ""
 },
 "nbformat": 3,
 "nbformat_minor": 0,
 "worksheets": [
  {
   "cells": [
    {
     "cell_type": "code",
     "collapsed": false,
     "input": [
      "import re\n",
      "\n",
      "from laf.fabric import LafFabric\n",
      "fabric = LafFabric()\n",
      "from etcbc.preprocess import prepare"
     ],
     "language": "python",
     "metadata": {},
     "outputs": [
      {
       "output_type": "stream",
       "stream": "stderr",
       "text": [
        "  0.00s This is LAF-Fabric 4.0.3\n"
       ]
      }
     ],
     "prompt_number": 10
    },
    {
     "cell_type": "code",
     "collapsed": false,
     "input": [
      "fabric.load('bhs3.txt.hdr', '--', 'dataprep',\n",
      "        {\n",
      "            \"xmlids\": {\n",
      "                \"node\": False,\n",
      "                \"edge\": False,\n",
      "            },\n",
      "            \"features\": {\n",
      "                \"shebanq\": {\n",
      "                    \"node\": [\n",
      "                        \"db.otype\",\n",
      "                        \"ft.surface_consonants\",\n",
      "                        \"ft.phrase_function,locative\",\n",
      "                        \"sft.book,verse_label\",\n",
      "                    ],\n",
      "                    \"edge\": [\n",
      "                    ],\n",
      "                },\n",
      "            },\n",
      "            'prepare': prepare,\n",
      "        },\n",
      "        compile_main=False, compile_annox=False,\n",
      "        verbose='DETAIL',\n",
      "    )\n",
      "\n",
      "exec(fabric.localnames.format(var='fabric'))"
     ],
     "language": "python",
     "metadata": {},
     "outputs": [
      {
       "output_type": "stream",
       "stream": "stderr",
       "text": [
        "  0.00s LOADING API: please wait ... \n"
       ]
      },
      {
       "output_type": "stream",
       "stream": "stderr",
       "text": [
        "  0.00s DETAIL: COMPILING m: UP TO DATE\n"
       ]
      },
      {
       "output_type": "stream",
       "stream": "stderr",
       "text": [
        "  0.00s DETAIL: COMPILING a: UP TO DATE\n"
       ]
      },
      {
       "output_type": "stream",
       "stream": "stderr",
       "text": [
        "  0.00s DETAIL: load main: G.node_anchor_min\n"
       ]
      },
      {
       "output_type": "stream",
       "stream": "stderr",
       "text": [
        "  0.11s DETAIL: load main: G.node_anchor_max\n"
       ]
      },
      {
       "output_type": "stream",
       "stream": "stderr",
       "text": [
        "  0.21s DETAIL: load main: G.node_sort\n"
       ]
      },
      {
       "output_type": "stream",
       "stream": "stderr",
       "text": [
        "  0.30s DETAIL: load main: G.node_sort_inv\n"
       ]
      },
      {
       "output_type": "stream",
       "stream": "stderr",
       "text": [
        "  0.78s DETAIL: load main: G.edges_from\n"
       ]
      },
      {
       "output_type": "stream",
       "stream": "stderr",
       "text": [
        "  0.86s DETAIL: load main: G.edges_to\n"
       ]
      },
      {
       "output_type": "stream",
       "stream": "stderr",
       "text": [
        "  0.95s DETAIL: load main: F.shebanq_db_otype [node] \n"
       ]
      },
      {
       "output_type": "stream",
       "stream": "stderr",
       "text": [
        "  1.62s DETAIL: load main: F.shebanq_ft_surface_consonants [node] \n"
       ]
      },
      {
       "output_type": "stream",
       "stream": "stderr",
       "text": [
        "  1.83s DETAIL: load main: F.shebanq_ft_phrase_function [node] \n"
       ]
      },
      {
       "output_type": "stream",
       "stream": "stderr",
       "text": [
        "  1.96s DETAIL: load main: F.shebanq_ft_locative [node] \n"
       ]
      },
      {
       "output_type": "stream",
       "stream": "stderr",
       "text": [
        "  2.16s DETAIL: load main: F.shebanq_sft_book [node] \n"
       ]
      },
      {
       "output_type": "stream",
       "stream": "stderr",
       "text": [
        "  2.17s DETAIL: load main: F.shebanq_sft_verse_label [node] \n"
       ]
      },
      {
       "output_type": "stream",
       "stream": "stderr",
       "text": [
        "  2.19s LOGFILE=/Users/judith/laf-fabric-data/etcbc-bhs3/tasks/bhs3.txt.hdr/dataprep/__log__dataprep.txt\n"
       ]
      },
      {
       "output_type": "stream",
       "stream": "stderr",
       "text": [
        "  2.20s DETAIL: prep prep: G.node_sort\n"
       ]
      },
      {
       "output_type": "stream",
       "stream": "stderr",
       "text": [
        "  2.29s DETAIL: prep prep: G.node_sort_inv\n"
       ]
      },
      {
       "output_type": "stream",
       "stream": "stderr",
       "text": [
        "  2.81s INFO: DATA LOADED FROM SOURCE bhs3.txt.hdr AND ANNOX -- FOR TASK dataprep\n"
       ]
      }
     ],
     "prompt_number": 11
    },
    {
     "cell_type": "code",
     "collapsed": false,
     "input": [
      "pf_map = {\n",
      "    '': 'Unkn',\n",
      "    'Pr': 'Pred',\n",
      "    'Cj': 'Conj',\n",
      "    'Co': 'Cmpl',\n",
      "    'Su': 'Subj',\n",
      "    'Ob': 'Objc',\n",
      "    'PC': 'PreC',\n",
      "    'Aj': 'Adju',\n",
      "    'PO': 'PreO',\n",
      "    'Re': 'Rela',\n",
      "    'Ng': 'Nega',\n",
      "    'Mo': 'Modi',\n",
      "    'Ti': 'Time',\n",
      "    'Lo': 'Loca',\n",
      "    'Ij': 'Intj',\n",
      "    'Qu': 'Ques',\n",
      "    'Vo': 'Voct',\n",
      "    'Fr': 'Frnt',\n",
      "    'Ps': 'PreS',\n",
      "    'sc': 'Supp',\n",
      "    'Qs': 'IrpS',\n",
      "    'Is': 'IntS',\n",
      "    'Qp': 'IrpP',\n",
      "    'Qo': 'IrpO',\n",
      "    'po': 'PtcO',\n",
      "    'Ex': 'Exst',\n",
      "    'Ns': 'NegS',\n",
      "    'Ms': 'ModS',\n",
      "    'Qc': 'IrpC',\n",
      "    'Es': 'ExsS',\n",
      "    'ps': 'PtSp',\n",
      "}\n",
      "\n",
      "pf_map\n"
     ],
     "language": "python",
     "metadata": {},
     "outputs": [
      {
       "metadata": {},
       "output_type": "pyout",
       "prompt_number": 12,
       "text": [
        "{'': 'PtSp'}"
       ]
      }
     ],
     "prompt_number": 12
    },
    {
     "cell_type": "code",
     "collapsed": false,
     "input": [
      "handle = infile('CorrectionsFJM.txt')\n",
      "\n",
      "oldlable = re.compile('<([^> ]*)>')\n",
      "matchset = set()\n",
      "\n",
      "for line in handle:\n",
      "    matches = oldlable.findall(line)\n",
      "    print (line)\n",
      "    if matches:\n",
      "        for match in matches:\n",
      "            matchset.add(match)\n",
      "\n",
      "#matchset\n",
      "    "
     ],
     "language": "python",
     "metadata": {},
     "outputs": [
      {
       "output_type": "stream",
       "stream": "stdout",
       "text": [
        "\ufeffEXO 15,25\t[CM <Lo>]\t[FM <Pr>]\t[L +W <Co>]\t[XQ W MCPV <Ob>]\t:CHANGESTO:\t[CM <Co>]\n",
        "\n",
        "EXO 40,08\t[W <Cj>]\t[FMT <Pr>]\t[>T H XYR <Ob>]\t[SBJB <Mo>]\t:CHANGESTO:\t[SBJB <Co>]\n",
        "\n",
        "LEV 06,03\t[W <Cj>]\t[FM +W <PO>]\t[>YL H MZBX <Aj>]\t:CHANGESTO:\t[>YL H MZBX <Co>]\n",
        "\n",
        "JES 41,19\t[>FJM <Pr>]\t[B  <RBH <Lo>]\t[BRWC TDHR W T>CWR <Ob>]\t[JXDW <Mo>]\t:CHANGESTO:\t[B  <RBH <Co>]\n",
        "\n",
        "JES 42,04\t[<D <Cj>]\t[JFJM <Pr>]\t[B  >RY <Lo>]\t[MCPV <Ob>]\t:CHANGESTO:\t[B  >RY <Co>]\n",
        "\n",
        "JES 43,19\t[>P <Mo>]\t[>FJM <Pr>]\t[B  MDBR <Lo>]\t[DRK <Ob>]\t:CHANGESTO:\t[B  MDBR <Co>]\n",
        "\n",
        "JES 57,07\t[<L HR GBH W NF> <Lo>]\t[FMT <Pr>]\t[MCKB +K <Ob>]\t:CHANGESTO:\t[<L HR GBH W NF> <Co>]\n",
        "\n",
        "JES 57,08\t[W <Cj>]\t[>XR H DLT W H MZWZH <Lo>]\t[FMT <Pr>]\t[ZKRWN +K <Ob>]\t:CHANGESTO:\t[>XR H DLT W H MZWZH <Co>]\n",
        "\n",
        "EZE 20,28\t[W <Cj>]\t[JFJMW <Pr>]\t[CM <Mo>]\t[RJX NJXWXJ +HM <Ob>]\t:CHANGESTO:\t[CM <Co>]\n",
        "\n",
        "HAB 02,09\t[L FWM <Pr>]\t[B  MRWM <Lo>]\t[QN +W <Ob>]    :CHANGESTO:\t[B  MRWM <Co>]\n",
        "\n",
        "PS081,006\t[<DWT B JHWSP <Ob>]\t[FM +W <PO>]    :CHANGESTO:\t[<DWT <Ob>]\t[B JHWSP <Co>]\n",
        "\n",
        "ISAM 02,20\t[JFM <Pr>]\t[JHWH <Su>]\t[L +K <sc>]\t[ZR< MN H >CH H Z>T <Ob>]\t[TXT H C>LH <Co>]\t:CHANGESTO:\t[L +K <Aj>]\n",
        "\n",
        "IISA 14,07\t[L BLTJ FWM <Pr>]\t[L >JC +J <sc>]\t[CM W C>RJT <Ob>]\t[<L PNJ H >DMH <Co>]\t:CHANGESTO:\t[L >JC +J <Aj>]\n",
        "\n",
        "IKON08,21\t[W <Cj>]\t[>FM <Pr>]\t[CM <Co>]\t[MQWM L  >RWN <Ob>]\t:CHANGESTO:\t[MQWM <Ob> [ L  >RWN <Aj>]\n",
        "\n",
        "IKON20,34\t[W <Cj>]\t[XWYWT <Ob>]\t[TFJM <Pr>]\t[L +K <sc>]\t[B DMFQ <Co>]   :CHANGESTO:\t[L +K <Aj>]\n",
        "\n",
        "IIKON04,10\t[W <Cj>]\t[NFJM <Pr>]\t[L +W <sc>]\t[CM <Co>]\t[MVH W CLXN W KS> W MNWRH <Ob>]\t:CHANGESTO:\t[L +W <Aj>]\n",
        "\n",
        "JES 21,04\t[>T NCP XCQ +J <Ob>]\t[FM <Pr>]\t[L +J <sc>]\t[L XRDH <Co>]\t:CHANGESTO:\t[L +J <Aj>]\n",
        "\n",
        "ISAM 19,13\t[W <Cj>]\t[>T KBJR H <ZJM <Ob>]\t[FMH <Pr>]\t[MR>CTJ +W <Co>]\t:CHANGESTO:\t[MR>CTJ +W <Ob>]\n",
        "\n",
        "IIKON10,08\t[FJMW <Pr>]\t[>T +M <Ob>]\t[CNJ YBRJM <Aj>]\t[PTX H C<R <Co>]\t[<D H BQR <Ti>]\t:CHANGESTO:\t[CNJ YBRJM <Ob>]\n",
        "\n",
        "IIKON13,07\t[W <Cj>]\t[JFM +M <PO>]\t[K  <PR <Aj>]   :CHANGESTO:\t[K  <PR <Co>]\n",
        "\n",
        "JES 53,10\t[>M <Cj>]\t[TFJM <Pr>]\t[>CM <Ob>]\t[NPC +W <Su>]\t:CHANGESTO:\t[NPC +W <Ob>]\n",
        "\n",
        "JER 11,13\t[W <Cj>]\t[MSPR XYWT JRWCLM <Su>]\t[FMTM <Pr>]\t[MZBXWT <Ob>]\t[L  BCT <Co>]\t:CHANGESTO:\t[MSPR XYWT JRWCLM <Ob>]\n",
        "\n",
        "EZE 17,05\t[YPYPH <Co>]\t[FM +W <PO>]\t:CHANGESTO:\t[YPYPH <Ob>]\n",
        "\n",
        "EZE 19,05\t[KPJR <Co>]\t[FMT +HW <PO>]\t:CHANGESTO:\t[KPJR <Ob>]\n",
        "\n",
        "HOS 02,05\t[W <Cj>]\t[FMTJ +H <PO>]\t[K  MDBR <Aj>]\t:CHANGESTO:\t[K  MDBR <Co>]\n",
        "\n",
        "MICH01,07\t[W <Cj>]\t[KL <YBJ +H <Ob>]\t[>FJM <Pr>]\t[CMMH <Co>]\t:CHANGESTO:\t[CMMH <Ob>]\n",
        "\n",
        "MICH02,12\t[JXD <Mo>]\t[>FJMN +W <PO>]\t[K Y>N BYRH <Aj>]\t:CHANGESTO:\t[K Y>N BYRH <Co>]\n",
        "\n",
        "IKON20,34\t[K >CR <Cj>]\t[FM <Pr>]\t[>B +J <Su>]\t[B CMRWN <Co>]\t:CHANGESTO:\t[K <Cj>]\t[>CR <Re>]\n",
        "\n",
        "JES 28,25\t[W <Cj>]\t[FM <Pr>]\t[XVH <Ob>]\t[FWRH <Ob>]\t:CHANGESTO:\t[W <Cj>]\t[FM <Pr>]\t[XVH FWRH WF<RH NSMN WKSMT <Ob>]\t[GBLTW <Co>]\n",
        "\n",
        "IOB 24,15\t[W <Cj>]\t[STR <..>]\t[PNJM <..>]\t[JFJM <Pr>]\t:CHANGESTO:\t[W <Cj>]\t[STR PNJM <Ob>]\t[JFJM <Pr>]\n",
        "\n",
        "PS089,030\t[W <Cj>]\t[FMTJ <Pr>]\t[L <D <Co>]\t[ZR< +W <Ob>]\t:CHANGESTO:\t[L <D <Ti>]\n",
        "\n",
        "IOB 34,13\t[W <Cj>]\t[MJ <..>]\t[FM <Pr>]\t[TBL <..>]\t[KL +H <..>]\t:CHANGESTO:\t[W <Cj>]\t[MJ <Su>]\t[FM <Pr>]\t[TBL [KL +H <ap><Ob>]\n",
        "\n",
        "IOB 38,09\t[B FWM +J <PO>]\t[<NN <..>]\t[LBC +W <..>]\t:CHANGESTO:\t[B FWM +J <Ps>]\n",
        "\n",
        "*ICHR17,21\t[L FWM <Pr>]\t[L +K <..>]\t[CM <..>]\t[GDLWT <..>]\t:CHANGESTO:\t[GDLWT]\n",
        "\n",
        "*JES 25,02\t[KJ <Cj>]\t[FMT <Pr>]\t[M <JR <Aj>]\t[L  GL <Co>]\t[QRJH BYWRH <Ob>]\t:CHANGESTO:\t[KJ <Cj>]\t[FMT <Pr>]\t[M <JR <Co]\t[L  GL <Co>] Ellp\t[QRJH BYWRH <Ob>]\t[LMPLH <Co>]\n",
        "\n",
        "*JES 60,15\t [W <Cj>]\t[FMTJ +K <PO>]\t[L G>WN <WLM MFWF DWR W DWR <Co>]\t:CHANGESTO:\t[W <Cj>]\t[FMTJ +K <PO>]\t[L G>WN <WLM <Co>] Ellp\t\t[MFWF DWR W DWR <Ob>]\n",
        "\n"
       ]
      }
     ],
     "prompt_number": 19
    },
    {
     "cell_type": "markdown",
     "metadata": {},
     "source": [
      "# Specification of steps ahead\n",
      "\n",
      "1. In the file, find out which of the phrases before :CHANGESTO: has to receive a modified phrase function. This is the target phrase.\n",
      "2. Match the target phrase with a phrase occurrence in the indicated passage in the database.\n",
      "3. Produce an annoting input file, tab separated, 2 columns: the oid of the target phrase, the modified phrase_function.\n",
      "   The name of this column should be shebanq:ft.phrase_function\n",
      "4. Use the module etcbc.annotating (and the method make_form to produce a file of annotations\n",
      "5. put the file of annotations in a new annox (in the annotations directory)"
     ]
    },
    {
     "cell_type": "markdown",
     "metadata": {},
     "source": [
      "# Implementing Flow Charts\n",
      "\n",
      "1. Pick one or two flow charts by Janet.\n",
      "2. translate them in a model.\n",
      "3. Use the model to analyse relevant occurrences of phrases with verbs\n",
      "4. Produce the output of the analysis.\n"
     ]
    },
    {
     "cell_type": "code",
     "collapsed": false,
     "input": [
      "\n",
      "\n",
      "\n",
      "inpassage = False\n",
      "for n in NN():\n",
      "    otype = F.otype.v(n)\n",
      "    if otype == 'verse':\n",
      "        if F.verse_label.v(n).strip() == 'JES 43,19':\n",
      "            inpassage = True\n",
      "        else:\n",
      "            if inpassage == True: break\n",
      "    elif inpassage:\n",
      "        if otype == 'word' or otype == 'phrase':\n",
      "            msg(\"{} ({})\".format(otype, n))\n"
     ],
     "language": "python",
     "metadata": {},
     "outputs": [
      {
       "output_type": "stream",
       "stream": "stderr",
       "text": [
        "  2.37s phrase (737651)\n"
       ]
      },
      {
       "output_type": "stream",
       "stream": "stderr",
       "text": [
        "  2.37s word (227161)\n"
       ]
      },
      {
       "output_type": "stream",
       "stream": "stderr",
       "text": [
        "  2.37s phrase (737652)\n"
       ]
      },
      {
       "output_type": "stream",
       "stream": "stderr",
       "text": [
        "  2.37s word (227162)\n"
       ]
      },
      {
       "output_type": "stream",
       "stream": "stderr",
       "text": [
        "  2.37s phrase (737653)\n"
       ]
      },
      {
       "output_type": "stream",
       "stream": "stderr",
       "text": [
        "  2.37s word (227163)\n"
       ]
      },
      {
       "output_type": "stream",
       "stream": "stderr",
       "text": [
        "  2.37s phrase (737654)\n"
       ]
      },
      {
       "output_type": "stream",
       "stream": "stderr",
       "text": [
        "  2.37s word (227164)\n"
       ]
      },
      {
       "output_type": "stream",
       "stream": "stderr",
       "text": [
        "  2.37s phrase (737655)\n"
       ]
      },
      {
       "output_type": "stream",
       "stream": "stderr",
       "text": [
        "  2.37s word (227165)\n"
       ]
      },
      {
       "output_type": "stream",
       "stream": "stderr",
       "text": [
        "  2.37s phrase (737656)\n"
       ]
      },
      {
       "output_type": "stream",
       "stream": "stderr",
       "text": [
        "  2.37s word (227166)\n"
       ]
      },
      {
       "output_type": "stream",
       "stream": "stderr",
       "text": [
        "  2.37s phrase (737657)\n"
       ]
      },
      {
       "output_type": "stream",
       "stream": "stderr",
       "text": [
        "  2.37s word (227167)\n"
       ]
      },
      {
       "output_type": "stream",
       "stream": "stderr",
       "text": [
        "  2.37s phrase (737658)\n"
       ]
      },
      {
       "output_type": "stream",
       "stream": "stderr",
       "text": [
        "  2.37s word (227168)\n"
       ]
      },
      {
       "output_type": "stream",
       "stream": "stderr",
       "text": [
        "  2.37s phrase (737659)\n"
       ]
      },
      {
       "output_type": "stream",
       "stream": "stderr",
       "text": [
        "  2.37s word (227169)\n"
       ]
      },
      {
       "output_type": "stream",
       "stream": "stderr",
       "text": [
        "  2.37s phrase (737660)\n"
       ]
      },
      {
       "output_type": "stream",
       "stream": "stderr",
       "text": [
        "  2.37s word (227170)\n"
       ]
      },
      {
       "output_type": "stream",
       "stream": "stderr",
       "text": [
        "  2.37s phrase (737661)\n"
       ]
      },
      {
       "output_type": "stream",
       "stream": "stderr",
       "text": [
        "  2.38s word (227171)\n"
       ]
      },
      {
       "output_type": "stream",
       "stream": "stderr",
       "text": [
        "  2.38s word (227173)\n"
       ]
      },
      {
       "output_type": "stream",
       "stream": "stderr",
       "text": [
        "  2.38s word (227172)\n"
       ]
      },
      {
       "output_type": "stream",
       "stream": "stderr",
       "text": [
        "  2.38s phrase (737662)\n"
       ]
      },
      {
       "output_type": "stream",
       "stream": "stderr",
       "text": [
        "  2.38s word (227174)\n"
       ]
      },
      {
       "output_type": "stream",
       "stream": "stderr",
       "text": [
        "  2.38s phrase (737663)\n"
       ]
      },
      {
       "output_type": "stream",
       "stream": "stderr",
       "text": [
        "  2.38s word (227175)\n"
       ]
      },
      {
       "output_type": "stream",
       "stream": "stderr",
       "text": [
        "  2.38s word (227176)\n"
       ]
      },
      {
       "output_type": "stream",
       "stream": "stderr",
       "text": [
        "  2.38s phrase (737664)\n"
       ]
      },
      {
       "output_type": "stream",
       "stream": "stderr",
       "text": [
        "  2.38s word (227177)\n"
       ]
      }
     ],
     "prompt_number": 5
    },
    {
     "cell_type": "code",
     "collapsed": false,
     "input": [
      "cur_verse = None\n",
      "cur_phrase = [None, []]\n",
      "phrases = []\n",
      "words = []\n",
      "inpassage = False\n",
      "msg('Look for passage')\n",
      "for n in NN():\n",
      "    otype = F.otype.v(n)\n",
      "    if otype == 'verse':\n",
      "        if F.verse_label.v(n).strip() == 'JES 43,19':\n",
      "            inpassage = True\n",
      "        else:\n",
      "            if inpassage == True: break\n",
      "    elif inpassage:\n",
      "        if otype == 'word':\n",
      "            print('APPEND to {} <{}> : WORD {}'.format(cur_phrase[0], F.phrase_function.v(cur_phrase[0]), F.surface_consonants.v(n)))\n",
      "            cur_phrase[1].append(n)\n",
      "        elif otype == 'phrase':\n",
      "            if cur_phrase[0] != None:\n",
      "                phrases.append(cur_phrase)\n",
      "            cur_phrase = [n, []]\n",
      "if cur_phrase[0] != None:\n",
      "    phrases.append(cur_phrase)\n",
      "\n",
      "msg(\"End walk\")\n",
      "\n",
      "print(' '.join('[{} <{}>]'.format(' '.join([F.surface_consonants.v(y) for y in x[1]]), F.phrase_function.v(x[0])) for x in phrases))"
     ],
     "language": "python",
     "metadata": {},
     "outputs": [
      {
       "output_type": "stream",
       "stream": "stderr",
       "text": [
        "    13s Look for passage\n"
       ]
      },
      {
       "output_type": "stream",
       "stream": "stderr",
       "text": [
        "    13s End walk\n"
       ]
      },
      {
       "output_type": "stream",
       "stream": "stdout",
       "text": [
        "APPEND to 737651 <IntS> : WORD HNNJ\n",
        "APPEND to 737652 <PreC> : WORD <FH\n",
        "APPEND to 737653 <Objc> : WORD XDCH\n",
        "APPEND to 737654 <Time> : WORD <TH\n",
        "APPEND to 737655 <Pred> : WORD TYMX\n",
        "APPEND to 737656 <Ques> : WORD H\n",
        "APPEND to 737657 <Nega> : WORD LW>\n",
        "APPEND to 737658 <PreO> : WORD TD<WH\n",
        "APPEND to 737659 <Modi> : WORD >P\n",
        "APPEND to 737660 <Pred> : WORD >FJM\n",
        "APPEND to 737661 <Loca> : WORD B\n",
        "APPEND to 737661 <Loca> : WORD MDBR\n",
        "APPEND to 737661 <Loca> : WORD .\n",
        "APPEND to 737662 <Objc> : WORD DRK\n",
        "APPEND to 737663 <Loca> : WORD B\n",
        "APPEND to 737663 <Loca> : WORD JCMWN\n",
        "APPEND to 737664 <Objc> : WORD NHRWT\n",
        "[HNNJ <IntS>] [<FH <PreC>] [XDCH <Objc>] [<TH <Time>] [TYMX <Pred>] [H <Ques>] [LW> <Nega>] [TD<WH <PreO>] [>P <Modi>] [>FJM <Pred>] [B MDBR . <Loca>] [DRK <Objc>] [B JCMWN <Loca>] [NHRWT <Objc>]\n"
       ]
      }
     ],
     "prompt_number": 6
    },
    {
     "cell_type": "code",
     "collapsed": false,
     "input": [],
     "language": "python",
     "metadata": {},
     "outputs": [],
     "prompt_number": 8
    },
    {
     "cell_type": "code",
     "collapsed": false,
     "input": [],
     "language": "python",
     "metadata": {},
     "outputs": []
    }
   ],
   "metadata": {}
  }
 ]
}