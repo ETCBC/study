{
 "metadata": {
  "name": ""
 },
 "nbformat": 3,
 "nbformat_minor": 0,
 "worksheets": [
  {
   "cells": [
    {
     "cell_type": "code",
     "collapsed": false,
     "input": [
      "import sys\n",
      "import collections\n",
      "\n",
      "import laf\n",
      "from laf.fabric import LafFabric\n",
      "processor = LafFabric()"
     ],
     "language": "python",
     "metadata": {},
     "outputs": [
      {
       "output_type": "stream",
       "stream": "stderr",
       "text": [
        "  0.00s This is LAF-Fabric 3.7.0\n"
       ]
      }
     ],
     "prompt_number": 1
    },
    {
     "cell_type": "code",
     "collapsed": false,
     "input": [],
     "language": "python",
     "metadata": {},
     "outputs": [],
     "prompt_number": 80
    },
    {
     "cell_type": "code",
     "collapsed": false,
     "input": [
      "API = processor.load('bhs3.txt.hdr', '--', 'gender', {\n",
      "    \"primary\": False,\n",
      "    \"xmlids\": {\n",
      "        \"node\": False,\n",
      "        \"edge\": False,\n",
      "    },\n",
      "    \"features\": {\n",
      "        \"shebanq\": {\n",
      "            \"node\": [\n",
      "                \"db.otype\",\n",
      "                \"ft.tense\",\n",
      "                \"sft.chapter,book\",\n",
      "            ],\n",
      "            \"edge\": [\n",
      "            ],\n",
      "        },\n",
      "    },\n",
      "})"
     ],
     "language": "python",
     "metadata": {},
     "outputs": [
      {
       "output_type": "stream",
       "stream": "stderr",
       "text": [
        "  0.00s LOADING API: please wait ... \n"
       ]
      },
      {
       "output_type": "stream",
       "stream": "stderr",
       "text": [
        "  2.62s LOGFILE=/Users/dirk/laf-fabric-data/etcbc-bhs3/tasks/bhs3.txt.hdr/gender/__log__gender.txt\n"
       ]
      },
      {
       "output_type": "stream",
       "stream": "stderr",
       "text": [
        "  2.62s INFO: DATA LOADED FROM SOURCE bhs3.txt.hdr AND ANNOX -- FOR TASK gender\n"
       ]
      }
     ],
     "prompt_number": 2
    },
    {
     "cell_type": "code",
     "collapsed": false,
     "input": [
      "F = API['F']\n",
      "NN = API['NN']\n",
      "outfile = API['outfile']\n",
      "my_file = API['my_file']"
     ],
     "language": "python",
     "metadata": {},
     "outputs": [],
     "prompt_number": 12
    },
    {
     "cell_type": "code",
     "collapsed": false,
     "input": [
      "stats = [0, 0, 0, 0, 0, 0, 0, 0]\n",
      "cur_chapter = None\n",
      "cur_book = None\n",
      "ch = []\n",
      "way = []\n",
      "perf = []\n",
      "imperf = []\n",
      "imper = []\n",
      "inf = []\n",
      "part = []\n",
      "table = outfile('table.tsv')"
     ],
     "language": "python",
     "metadata": {},
     "outputs": [],
     "prompt_number": 7
    },
    {
     "cell_type": "code",
     "collapsed": false,
     "input": [],
     "language": "python",
     "metadata": {},
     "outputs": [],
     "prompt_number": 83
    },
    {
     "cell_type": "code",
     "collapsed": false,
     "input": [],
     "language": "python",
     "metadata": {},
     "outputs": [],
     "prompt_number": 83
    },
    {
     "cell_type": "code",
     "collapsed": false,
     "input": [
      "for node in NN():\n",
      "    otype = F.shebanq_db_otype.v(node)\n",
      "    if otype == \"word\":\n",
      "        stats[0] += 1\n",
      "        if F.shebanq_ft_tense.v(node) == \"wayyiqtol\":\n",
      "            stats[1] += 1\n",
      "        if F.shebanq_ft_tense.v(node) == \"perfect\":\n",
      "            stats[2] += 1\n",
      "        if F.shebanq_ft_tense.v(node) == \"imperfect\":\n",
      "            stats[3] += 1\n",
      "        if F.shebanq_ft_tense.v(node) == \"imperative\":\n",
      "            stats[4] += 1\n",
      "        if F.shebanq_ft_tense.v(node) == \"infinitive_construct\":\n",
      "            stats[5] += 1\n",
      "        if F.shebanq_ft_tense.v(node) == \"participle\":\n",
      "            stats[6] += 1\n",
      "    elif otype == \"chapter\":\n",
      "        if cur_chapter != None:\n",
      "            w = 0 if not stats[0] else 100 * float(stats[1]) / stats[0]\n",
      "            p = 0 if not stats[0] else 100 * float(stats[2]) / stats[0]\n",
      "            i = 0 if not stats[0] else 100 * float(stats[3]) / stats[0]\n",
      "            im = 0 if not stats[0] else 100 * float(stats[4]) / stats[0]\n",
      "            infi = 0 if not stats[0] else 100 * float(stats[5]) / stats[0]\n",
      "            pa = 0 if not stats[0] else 100 * float(stats[6]) / stats[0]\n",
      "            ch.append(cur_chapter)\n",
      "            way.append(w)\n",
      "            perf.append(p)\n",
      "            imperf.append(i)\n",
      "            imper.append(im)\n",
      "            inf.append(infi)\n",
      "            part.append(pa)\n",
      "            table.write(\"{},{},{},{},{},{},{}\\n\".format(cur_chapter, w, p, i, im, infi, pa))\n",
      "        else:\n",
      "            table.write(\"{},{},{},{},{},{},{}\\n\".format('book chapter', 'wayyiqtol', 'perfect', 'imperfect', 'imperative', 'infinity_construct', 'participle'))\n",
      "        this_book = F.shebanq_sft_book.v(node)\n",
      "        this_chapnum = F.shebanq_sft_chapter.v(node)\n",
      "        this_chapter = \"{} {}\".format(this_book, this_chapnum)\n",
      "        if this_book != cur_book:\n",
      "            sys.stderr.write(\"\\n{}\".format(this_book))\n",
      "            cur_book = this_book\n",
      "        sys.stderr.write(\" {}\".format(this_chapnum))\n",
      "        stats = [0, 0, 0, 0, 0, 0, 0, 0]\n",
      "        cur_chapter = this_chapter"
     ],
     "language": "python",
     "metadata": {},
     "outputs": [
      {
       "output_type": "stream",
       "stream": "stderr",
       "text": [
        "\n",
        "Genesis 1 2 3 4 5 6 7 8"
       ]
      },
      {
       "output_type": "stream",
       "stream": "stderr",
       "text": [
        " 9 10 11 12 13 14 15 16 17 18"
       ]
      },
      {
       "output_type": "stream",
       "stream": "stderr",
       "text": [
        " 19 20 21 22 23 24 25 26 27"
       ]
      },
      {
       "output_type": "stream",
       "stream": "stderr",
       "text": [
        " 28 29 30 31 32 33 34 35 36"
       ]
      },
      {
       "output_type": "stream",
       "stream": "stderr",
       "text": [
        " 37 38 39 40 41 42 43 44 45 46"
       ]
      },
      {
       "output_type": "stream",
       "stream": "stderr",
       "text": [
        " 47 48 49 50\n",
        "Exodus 1 2 3 4 5 6 7 8"
       ]
      },
      {
       "output_type": "stream",
       "stream": "stderr",
       "text": [
        " 9 10 11 12 13 14 15 16 17 18"
       ]
      },
      {
       "output_type": "stream",
       "stream": "stderr",
       "text": [
        " 19 20 21 22 23 24 25 26 27 28 29"
       ]
      },
      {
       "output_type": "stream",
       "stream": "stderr",
       "text": [
        " 30 31 32 33 34 35 36 37 38 39 40"
       ]
      },
      {
       "output_type": "stream",
       "stream": "stderr",
       "text": [
        "\n",
        "Leviticus 1 2 3 4 5 6 7 8 9 10 11 12"
       ]
      },
      {
       "output_type": "stream",
       "stream": "stderr",
       "text": [
        " 13 14 15 16 17 18 19 20"
       ]
      },
      {
       "output_type": "stream",
       "stream": "stderr",
       "text": [
        " 21 22 23 24 25 26 27\n",
        "Numbers 1 2 3"
       ]
      },
      {
       "output_type": "stream",
       "stream": "stderr",
       "text": [
        " 4 5 6 7 8 9 10 11 12"
       ]
      },
      {
       "output_type": "stream",
       "stream": "stderr",
       "text": [
        " 13 14 15 16 17 18 19 20 21 22"
       ]
      },
      {
       "output_type": "stream",
       "stream": "stderr",
       "text": [
        " 23 24 25 26 27 28 29 30 31 32 33"
       ]
      },
      {
       "output_type": "stream",
       "stream": "stderr",
       "text": [
        " 34 35 36\n",
        "Deuteronomy 1 2 3 4 5 6 7"
       ]
      },
      {
       "output_type": "stream",
       "stream": "stderr",
       "text": [
        " 8 9 10 11 12 13 14 15 16 17 18"
       ]
      },
      {
       "output_type": "stream",
       "stream": "stderr",
       "text": [
        " 19 20 21 22 23 24 25 26 27 28 29 30"
       ]
      },
      {
       "output_type": "stream",
       "stream": "stderr",
       "text": [
        " 31 32 33 34\n",
        "Joshua 1 2 3 4 5 6 7"
       ]
      },
      {
       "output_type": "stream",
       "stream": "stderr",
       "text": [
        " 8 9 10 11 12 13 14 15 16 17 18"
       ]
      },
      {
       "output_type": "stream",
       "stream": "stderr",
       "text": [
        " 19 20 21 22 23 24\n",
        "Judges 1 2 3 4 5"
       ]
      },
      {
       "output_type": "stream",
       "stream": "stderr",
       "text": [
        " 6 7 8 9 10 11 12"
       ]
      },
      {
       "output_type": "stream",
       "stream": "stderr",
       "text": [
        " 13 14 15 16 17 18 19 20 21\n",
        "I_Samuel"
       ]
      },
      {
       "output_type": "stream",
       "stream": "stderr",
       "text": [
        " 1 2 3 4 5 6 7 8 9 10 11 12"
       ]
      },
      {
       "output_type": "stream",
       "stream": "stderr",
       "text": [
        " 13 14 15 16 17 18 19 20 21"
       ]
      },
      {
       "output_type": "stream",
       "stream": "stderr",
       "text": [
        " 22 23 24 25 26 27 28 29 30 31\n",
        "II_Samuel 1 2"
       ]
      },
      {
       "output_type": "stream",
       "stream": "stderr",
       "text": [
        " 3 4 5 6 7 8 9 10 11 12 13"
       ]
      },
      {
       "output_type": "stream",
       "stream": "stderr",
       "text": [
        " 14 15 16 17 18 19 20 21 22"
       ]
      },
      {
       "output_type": "stream",
       "stream": "stderr",
       "text": [
        " 23 24\n",
        "I_Kings 1 2 3 4 5 6 7"
       ]
      },
      {
       "output_type": "stream",
       "stream": "stderr",
       "text": [
        " 8 9 10 11 12 13 14 15"
       ]
      },
      {
       "output_type": "stream",
       "stream": "stderr",
       "text": [
        " 16 17 18 19 20 21 22\n",
        "II_Kings"
       ]
      },
      {
       "output_type": "stream",
       "stream": "stderr",
       "text": [
        " 1 2 3 4 5 6 7 8 9"
       ]
      },
      {
       "output_type": "stream",
       "stream": "stderr",
       "text": [
        " 10 11 12 13 14 15 16 17 18 19"
       ]
      },
      {
       "output_type": "stream",
       "stream": "stderr",
       "text": [
        " 20 21 22 23 24 25\n",
        "Isaiah 1 2 3 4 5 6 7"
       ]
      },
      {
       "output_type": "stream",
       "stream": "stderr",
       "text": [
        " 8 9 10 11 12 13 14 15 16 17 18 19 20 21 22 23 24 25"
       ]
      },
      {
       "output_type": "stream",
       "stream": "stderr",
       "text": [
        " 26 27 28 29 30 31 32 33 34 35 36 37 38 39 40 41"
       ]
      },
      {
       "output_type": "stream",
       "stream": "stderr",
       "text": [
        " 42 43 44 45 46 47 48 49 50 51 52 53 54 55 56 57 58"
       ]
      },
      {
       "output_type": "stream",
       "stream": "stderr",
       "text": [
        " 59 60 61 62 63 64 65 66\n",
        "Jeremiah 1 2 3 4 5 6"
       ]
      },
      {
       "output_type": "stream",
       "stream": "stderr",
       "text": [
        " 7 8 9 10 11 12 13 14 15 16 17 18"
       ]
      },
      {
       "output_type": "stream",
       "stream": "stderr",
       "text": [
        " 19 20 21 22 23 24 25 26 27 28 29 30"
       ]
      },
      {
       "output_type": "stream",
       "stream": "stderr",
       "text": [
        " 31 32 33 34 35 36 37 38 39 40"
       ]
      },
      {
       "output_type": "stream",
       "stream": "stderr",
       "text": [
        " 41 42 43 44 45 46 47 48 49 50 51"
       ]
      },
      {
       "output_type": "stream",
       "stream": "stderr",
       "text": [
        " 52\n",
        "Ezekiel 1 2 3 4 5 6 7 8 9 10 11 12"
       ]
      },
      {
       "output_type": "stream",
       "stream": "stderr",
       "text": [
        " 13 14 15 16 17 18 19 20 21 22"
       ]
      },
      {
       "output_type": "stream",
       "stream": "stderr",
       "text": [
        " 23 24 25 26 27 28 29 30 31 32 33 34"
       ]
      },
      {
       "output_type": "stream",
       "stream": "stderr",
       "text": [
        " 35 36 37 38 39 40 41 42 43 44 45"
       ]
      },
      {
       "output_type": "stream",
       "stream": "stderr",
       "text": [
        " 46 47 48\n",
        "Hosea 1 2 3 4 5 6 7 8 9 10 11 12 13 14\n",
        "Joel 1 2"
       ]
      },
      {
       "output_type": "stream",
       "stream": "stderr",
       "text": [
        " 3 4\n",
        "Amos 1 2 3 4 5 6 7 8 9\n",
        "Obadiah 1\n",
        "Jonah 1 2 3 4\n",
        "Micah 1 2 3"
       ]
      },
      {
       "output_type": "stream",
       "stream": "stderr",
       "text": [
        " 4 5 6 7\n",
        "Nahum 1 2 3\n",
        "Habakkuk 1 2 3\n",
        "Zephaniah 1 2 3\n",
        "Haggai 1 2\n",
        "Zechariah 1 2"
       ]
      },
      {
       "output_type": "stream",
       "stream": "stderr",
       "text": [
        " 3 4 5 6 7 8 9 10 11 12 13 14\n",
        "Malachi 1 2 3\n",
        "Psalms 1 2 3"
       ]
      },
      {
       "output_type": "stream",
       "stream": "stderr",
       "text": [
        " 4 5 6 7 8 9 10 11 12 13 14 15 16 17 18 19 20 21 22 23 24 25 26 27 28 29 30 31 32 33 34"
       ]
      },
      {
       "output_type": "stream",
       "stream": "stderr",
       "text": [
        " 35 36 37 38 39 40 41 42 43 44 45 46 47 48 49 50 51 52 53 54 55 56 57 58 59 60 61 62"
       ]
      },
      {
       "output_type": "stream",
       "stream": "stderr",
       "text": [
        " 63 64 65 66 67 68 69 70 71 72 73 74 75 76 77 78 79 80 81 82 83 84 85"
       ]
      },
      {
       "output_type": "stream",
       "stream": "stderr",
       "text": [
        " 86 87 88 89 90 91 92 93 94 95 96 97 98 99 100 101 102 103 104 105 106 107 108 109"
       ]
      },
      {
       "output_type": "stream",
       "stream": "stderr",
       "text": [
        " 110 111 112 113 114 115 116 117 118 119 120 121 122 123 124 125 126 127 128 129 130 131 132 133 134 135 136 137 138 139 140"
       ]
      },
      {
       "output_type": "stream",
       "stream": "stderr",
       "text": [
        " 141 142 143 144 145 146 147 148 149 150\n",
        "Job 1 2 3 4 5 6 7 8 9 10 11 12 13 14 15"
       ]
      },
      {
       "output_type": "stream",
       "stream": "stderr",
       "text": [
        " 16 17 18 19 20 21 22 23 24 25 26 27 28 29 30 31 32 33 34 35 36"
       ]
      },
      {
       "output_type": "stream",
       "stream": "stderr",
       "text": [
        " 37 38 39 40 41 42\n",
        "Proverbs 1 2 3 4 5 6 7 8 9 10 11 12 13"
       ]
      },
      {
       "output_type": "stream",
       "stream": "stderr",
       "text": [
        " 14 15 16 17 18 19 20 21 22 23 24 25 26 27 28 29 30"
       ]
      },
      {
       "output_type": "stream",
       "stream": "stderr",
       "text": [
        " 31\n",
        "Ruth 1 2 3 4\n",
        "Canticles 1 2 3 4 5 6 7 8\n",
        "Ecclesiastes 1 2 3 4"
       ]
      },
      {
       "output_type": "stream",
       "stream": "stderr",
       "text": [
        " 5 6 7 8 9 10 11 12\n",
        "Lamentations 1 2 3 4 5\n",
        "Esther 1 2"
       ]
      },
      {
       "output_type": "stream",
       "stream": "stderr",
       "text": [
        " 3 4 5 6 7 8 9 10\n",
        "Daniel 1 2 3 4"
       ]
      },
      {
       "output_type": "stream",
       "stream": "stderr",
       "text": [
        " 5 6 7 8 9 10 11 12\n",
        "Ezra 1 2"
       ]
      },
      {
       "output_type": "stream",
       "stream": "stderr",
       "text": [
        " 3 4 5 6 7 8 9 10\n",
        "Nehemiah 1 2 3"
       ]
      },
      {
       "output_type": "stream",
       "stream": "stderr",
       "text": [
        " 4 5 6 7 8 9 10 11 12 13\n",
        "I_Chronicles"
       ]
      },
      {
       "output_type": "stream",
       "stream": "stderr",
       "text": [
        " 1 2 3 4 5 6 7 8 9 10"
       ]
      },
      {
       "output_type": "stream",
       "stream": "stderr",
       "text": [
        " 11 12 13 14 15 16 17 18 19 20 21 22"
       ]
      },
      {
       "output_type": "stream",
       "stream": "stderr",
       "text": [
        " 23 24 25 26 27 28 29\n",
        "II_Chronicles 1 2 3 4 5"
       ]
      },
      {
       "output_type": "stream",
       "stream": "stderr",
       "text": [
        " 6 7 8 9 10 11 12 13 14 15 16"
       ]
      },
      {
       "output_type": "stream",
       "stream": "stderr",
       "text": [
        " 17 18 19 20 21 22 23 24 25 26 27"
       ]
      },
      {
       "output_type": "stream",
       "stream": "stderr",
       "text": [
        " 28 29 30 31 32 33 34 35"
       ]
      },
      {
       "output_type": "stream",
       "stream": "stderr",
       "text": [
        " 36"
       ]
      }
     ],
     "prompt_number": 8
    },
    {
     "cell_type": "code",
     "collapsed": false,
     "input": [
      "API['close']()"
     ],
     "language": "python",
     "metadata": {},
     "outputs": [
      {
       "output_type": "stream",
       "stream": "stderr",
       "text": [
        " 1m 00s Results directory:\n",
        "/Users/dirk/laf-fabric-data/etcbc-bhs3/tasks/bhs3.txt.hdr/gender\n"
       ]
      },
      {
       "output_type": "stream",
       "stream": "stderr",
       "text": [
        "\n",
        "__log__gender.txt                       179 Fri Mar 21 16:25:18 2014\n",
        "table.tsv                            104208 Fri Mar 21 16:25:18 2014\n"
       ]
      }
     ],
     "prompt_number": 9
    },
    {
     "cell_type": "code",
     "collapsed": false,
     "input": [
      "import pandas\n",
      "import matplotlib.pyplot as plt\n",
      "from IPython.display import display\n",
      "pandas.set_option('display.notebook_repr_html', True)\n",
      "%matplotlib inline"
     ],
     "language": "python",
     "metadata": {},
     "outputs": [],
     "prompt_number": 10
    },
    {
     "cell_type": "code",
     "collapsed": false,
     "input": [
      "table_file = my_file('table.tsv')\n",
      "df = pandas.read_csv(table_file)"
     ],
     "language": "python",
     "metadata": {},
     "outputs": [],
     "prompt_number": 13
    },
    {
     "cell_type": "code",
     "collapsed": false,
     "input": [
      "df.head(10)"
     ],
     "language": "python",
     "metadata": {},
     "outputs": [
      {
       "html": [
        "<div style=\"max-height:1000px;max-width:1500px;overflow:auto;\">\n",
        "<table border=\"1\" class=\"dataframe\">\n",
        "  <thead>\n",
        "    <tr style=\"text-align: right;\">\n",
        "      <th></th>\n",
        "      <th>book chapter</th>\n",
        "      <th>wayyiqtol</th>\n",
        "      <th>perfect</th>\n",
        "      <th>imperfect</th>\n",
        "      <th>imperative</th>\n",
        "      <th>infinity_construct</th>\n",
        "      <th>participle</th>\n",
        "    </tr>\n",
        "  </thead>\n",
        "  <tbody>\n",
        "    <tr>\n",
        "      <th>0</th>\n",
        "      <td>  Genesis 1</td>\n",
        "      <td>  7.429421</td>\n",
        "      <td> 2.526003</td>\n",
        "      <td> 1.634473</td>\n",
        "      <td> 1.188707</td>\n",
        "      <td> 0.891530</td>\n",
        "      <td> 1.783061</td>\n",
        "    </tr>\n",
        "    <tr>\n",
        "      <th>1</th>\n",
        "      <td>  Genesis 2</td>\n",
        "      <td>  5.263158</td>\n",
        "      <td> 2.631579</td>\n",
        "      <td> 2.631579</td>\n",
        "      <td> 0.000000</td>\n",
        "      <td> 2.226721</td>\n",
        "      <td> 1.012146</td>\n",
        "    </tr>\n",
        "    <tr>\n",
        "      <th>2</th>\n",
        "      <td>  Genesis 3</td>\n",
        "      <td>  6.813627</td>\n",
        "      <td> 5.410822</td>\n",
        "      <td> 4.008016</td>\n",
        "      <td> 0.000000</td>\n",
        "      <td> 1.603206</td>\n",
        "      <td> 1.002004</td>\n",
        "    </tr>\n",
        "    <tr>\n",
        "      <th>3</th>\n",
        "      <td>  Genesis 4</td>\n",
        "      <td>  7.947020</td>\n",
        "      <td> 5.298013</td>\n",
        "      <td> 2.207506</td>\n",
        "      <td> 0.441501</td>\n",
        "      <td> 1.545254</td>\n",
        "      <td> 3.752759</td>\n",
        "    </tr>\n",
        "    <tr>\n",
        "      <th>4</th>\n",
        "      <td>  Genesis 5</td>\n",
        "      <td> 12.474012</td>\n",
        "      <td> 1.039501</td>\n",
        "      <td> 0.207900</td>\n",
        "      <td> 0.000000</td>\n",
        "      <td> 2.494802</td>\n",
        "      <td> 0.000000</td>\n",
        "    </tr>\n",
        "    <tr>\n",
        "      <th>5</th>\n",
        "      <td>  Genesis 6</td>\n",
        "      <td>  3.203661</td>\n",
        "      <td> 5.491991</td>\n",
        "      <td> 3.203661</td>\n",
        "      <td> 0.457666</td>\n",
        "      <td> 0.915332</td>\n",
        "      <td> 0.457666</td>\n",
        "    </tr>\n",
        "    <tr>\n",
        "      <th>6</th>\n",
        "      <td>  Genesis 7</td>\n",
        "      <td>  4.150198</td>\n",
        "      <td> 3.162055</td>\n",
        "      <td> 0.197628</td>\n",
        "      <td> 0.197628</td>\n",
        "      <td> 0.197628</td>\n",
        "      <td> 1.185771</td>\n",
        "    </tr>\n",
        "    <tr>\n",
        "      <th>7</th>\n",
        "      <td>  Genesis 8</td>\n",
        "      <td>  6.707317</td>\n",
        "      <td> 3.048780</td>\n",
        "      <td> 0.609756</td>\n",
        "      <td> 0.406504</td>\n",
        "      <td> 1.422764</td>\n",
        "      <td> 0.406504</td>\n",
        "    </tr>\n",
        "    <tr>\n",
        "      <th>8</th>\n",
        "      <td>  Genesis 9</td>\n",
        "      <td>  4.771372</td>\n",
        "      <td> 2.982107</td>\n",
        "      <td> 2.584493</td>\n",
        "      <td> 1.391650</td>\n",
        "      <td> 0.994036</td>\n",
        "      <td> 0.994036</td>\n",
        "    </tr>\n",
        "    <tr>\n",
        "      <th>9</th>\n",
        "      <td> Genesis 10</td>\n",
        "      <td>  1.170960</td>\n",
        "      <td> 3.747073</td>\n",
        "      <td> 0.234192</td>\n",
        "      <td> 0.000000</td>\n",
        "      <td> 0.936768</td>\n",
        "      <td> 0.000000</td>\n",
        "    </tr>\n",
        "  </tbody>\n",
        "</table>\n",
        "</div>"
       ],
       "metadata": {},
       "output_type": "pyout",
       "prompt_number": 88,
       "text": [
        "  book chapter  wayyiqtol   perfect  imperfect  imperative  \\\n",
        "0    Genesis 1   7.429421  2.526003   1.634473    1.188707   \n",
        "1    Genesis 2   5.263158  2.631579   2.631579    0.000000   \n",
        "2    Genesis 3   6.813627  5.410822   4.008016    0.000000   \n",
        "3    Genesis 4   7.947020  5.298013   2.207506    0.441501   \n",
        "4    Genesis 5  12.474012  1.039501   0.207900    0.000000   \n",
        "5    Genesis 6   3.203661  5.491991   3.203661    0.457666   \n",
        "6    Genesis 7   4.150198  3.162055   0.197628    0.197628   \n",
        "7    Genesis 8   6.707317  3.048780   0.609756    0.406504   \n",
        "8    Genesis 9   4.771372  2.982107   2.584493    1.391650   \n",
        "9   Genesis 10   1.170960  3.747073   0.234192    0.000000   \n",
        "\n",
        "   infinity_construct  participle  \n",
        "0            0.891530    1.783061  \n",
        "1            2.226721    1.012146  \n",
        "2            1.603206    1.002004  \n",
        "3            1.545254    3.752759  \n",
        "4            2.494802    0.000000  \n",
        "5            0.915332    0.457666  \n",
        "6            0.197628    1.185771  \n",
        "7            1.422764    0.406504  \n",
        "8            0.994036    0.994036  \n",
        "9            0.936768    0.000000  "
       ]
      }
     ],
     "prompt_number": 88
    },
    {
     "cell_type": "code",
     "collapsed": false,
     "input": [
      "x = range(len(ch))\n",
      "start = 500\n",
      "end = 550\n",
      "fig = plt.figure()\n",
      "plt.plot(x[start:end], way[start:end], 'b-', x[start:end], perf[start:end], 'r-', x[start:end], \\\n",
      "         x[start:end], imperf[start:end], 'g-', x[start:end], imper[start:end], 'c-', x[start:end], inf[start:end], 'm-', \\\n",
      "         part[start:end], 'y-')\n",
      "plt.axis([start, end, 0, 50])\n",
      "plt.xticks(x[start:end], ch[start:end], rotation='vertical')\n",
      "plt.margins(0.2)\n",
      "plt.subplots_adjust(bottom=0.15);\n",
      "plt.title('tense');"
     ],
     "language": "python",
     "metadata": {},
     "outputs": [
      {
       "metadata": {},
       "output_type": "display_data",
       "png": "[encoded data removed]",
       "text": [
        "<matplotlib.figure.Figure at 0x12e122e10>"
       ]
      }
     ],
     "prompt_number": 14
    },
    {
     "cell_type": "code",
     "collapsed": false,
     "input": [
      "fig.savefig('tense.png')"
     ],
     "language": "python",
     "metadata": {},
     "outputs": [],
     "prompt_number": 100
    },
    {
     "cell_type": "code",
     "collapsed": false,
     "input": [],
     "language": "python",
     "metadata": {},
     "outputs": [
      {
       "output_type": "stream",
       "stream": "stdout",
       "text": [
        "/bin/sh: 1: jist: not found\r\n"
       ]
      }
     ],
     "prompt_number": 101
    },
    {
     "cell_type": "code",
     "collapsed": false,
     "input": [],
     "language": "python",
     "metadata": {},
     "outputs": []
    }
   ],
   "metadata": {}
  }
 ]
}