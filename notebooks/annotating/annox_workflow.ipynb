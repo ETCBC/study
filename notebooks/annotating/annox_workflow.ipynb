{
 "metadata": {
  "name": ""
 },
 "nbformat": 3,
 "nbformat_minor": 0,
 "worksheets": [
  {
   "cells": [
    {
     "cell_type": "markdown",
     "metadata": {},
     "source": [
      "<a href=\"http://laf-fabric.readthedocs.org/en/latest/\" target=\"_blank\"><img src=\"files/images/laf-fabric-small.png\"/></a>\n",
      "<a href=\"http://www.dans.knaw.nl\" target=\"_blank\"><img src=\"files/images/DANS-small.png\"/></a>\n",
      "<a href=\"http://tla.mpi.nl\" target=\"_blank\"><img src=\"files/images/TLA-small.png\"/></a>\n",
      "<a href=\"http://www.godgeleerdheid.vu.nl/etcbc\" target=\"_blank\"><img src=\"files/images/VU-ETCBC-small.png\"/></a>"
     ]
    },
    {
     "cell_type": "heading",
     "level": 1,
     "metadata": {},
     "source": [
      "Making new annotations"
     ]
    },
    {
     "cell_type": "markdown",
     "metadata": {},
     "source": [
      "It is possible to make your own annotations to the existing nodes and edges of a LAF resource, and use them later on.\n",
      "\n",
      "This notebook shows how that can be done.\n",
      "\n",
      "**The original LAF source will not be changed**.\n",
      "\n",
      "You make your own annotations and they will be saved in a file.\n",
      "By putting this file in a location where LAF-Fabric can find it, and by instructing LAF-Fabric to include this file, you can do analysis on the original source plus your new annotations.\n",
      "\n",
      "Annotations are organized by annotation spaces. \n",
      "If you choose a space that is different from the annotation spaces inthe main source your own annotations will be distinguishable from the original annotations.\n",
      "\n",
      "But you can also choose to override original annotations with your own ones.\n",
      "In that case you have to create your annotations in the ``shebanq`` space.\n",
      "\n",
      "This notebook is not honed by practice yet. \n",
      "There are clumsy things such as manually copy files and putting them into directories, and editing certain header files.\n",
      "\n",
      "That said, this notebook performs the LAF specific things, and further adaptations do not involve deep dives into the LAF-Fabric."
     ]
    },
    {
     "cell_type": "heading",
     "level": 2,
     "metadata": {},
     "source": [
      "Preparation"
     ]
    },
    {
     "cell_type": "markdown",
     "metadata": {},
     "source": [
      "In order to run this notebook, it is necessary to have an extra annotations package called ``testannots`` on your system.\n",
      "If you have downloaded data from the given link, you have that directory."
     ]
    },
    {
     "cell_type": "code",
     "collapsed": false,
     "input": [
      "import sys\n",
      "import collections\n",
      "import laf\n",
      "from laf.notebook import Notebook\n",
      "processor = Notebook()"
     ],
     "language": "python",
     "metadata": {},
     "outputs": [],
     "prompt_number": 1
    },
    {
     "cell_type": "code",
     "collapsed": false,
     "input": [
      "processor.init('bhs3.txt.hdr', 'testannots', 'annox_workflow', {\n",
      "    \"primary\": True,\n",
      "    \"xmlids\": {\n",
      "        \"node\": True,\n",
      "        \"edge\": False,\n",
      "    },\n",
      "    \"features\": {\n",
      "        \"shebanq\": {\n",
      "            \"node\": [\n",
      "                \"db.otype,oid,monads\",\n",
      "                \"ft.text\",\n",
      "                \"sft.book,chapter,verse\",\n",
      "            ],\n",
      "            \"edge\": [\n",
      "            ],\n",
      "        },\n",
      "        \"dirk\": {\n",
      "            \"node\": [\n",
      "                \"part.intro,role\",\n",
      "            ],\n",
      "        }\n",
      "    },\n",
      "})\n",
      "API = processor.API()\n",
      "F = API['F']\n",
      "P = API['P']\n",
      "X = API['X']\n",
      "NN = API['NN']\n",
      "msg = API['msg']"
     ],
     "language": "python",
     "metadata": {},
     "outputs": [
      {
       "output_type": "stream",
       "stream": "stderr",
       "text": [
        "  0.00s COMPILING source: UP TO DATE\n"
       ]
      },
      {
       "output_type": "stream",
       "stream": "stderr",
       "text": [
        "  0.00s COMPILING annox: UP TO DATE\n"
       ]
      },
      {
       "output_type": "stream",
       "stream": "stderr",
       "text": [
        "  0.00s keeping xmlids: node ...\n"
       ]
      },
      {
       "output_type": "stream",
       "stream": "stderr",
       "text": [
        "  0.00s keeping feature: dirk:part.intro (node) ...\n"
       ]
      },
      {
       "output_type": "stream",
       "stream": "stderr",
       "text": [
        "  0.00s keeping feature: dirk:part.role (node) ...\n"
       ]
      },
      {
       "output_type": "stream",
       "stream": "stderr",
       "text": [
        "  0.00s keeping feature: shebanq:db.monads (node) ...\n"
       ]
      },
      {
       "output_type": "stream",
       "stream": "stderr",
       "text": [
        "  0.00s keeping feature: shebanq:db.oid (node) ...\n"
       ]
      },
      {
       "output_type": "stream",
       "stream": "stderr",
       "text": [
        "  0.00s keeping feature: shebanq:db.otype (node) ...\n"
       ]
      },
      {
       "output_type": "stream",
       "stream": "stderr",
       "text": [
        "  0.00s keeping feature: shebanq:ft.text (node) ...\n"
       ]
      },
      {
       "output_type": "stream",
       "stream": "stderr",
       "text": [
        "  0.01s keeping feature: shebanq:sft.book (node) ...\n"
       ]
      },
      {
       "output_type": "stream",
       "stream": "stderr",
       "text": [
        "  0.01s keeping feature: shebanq:sft.chapter (node) ...\n"
       ]
      },
      {
       "output_type": "stream",
       "stream": "stderr",
       "text": [
        "  0.01s keeping feature: shebanq:sft.verse (node) ...\n"
       ]
      },
      {
       "output_type": "stream",
       "stream": "stderr",
       "text": [
        "  0.01s keeping annox: dirk:part.intro (node) ...\n"
       ]
      },
      {
       "output_type": "stream",
       "stream": "stderr",
       "text": [
        "  0.01s keeping annox: dirk:part.role (node) ...\n"
       ]
      },
      {
       "output_type": "stream",
       "stream": "stderr",
       "text": [
        "  0.01s keeping annox: shebanq:db.monads (node) ...\n"
       ]
      },
      {
       "output_type": "stream",
       "stream": "stderr",
       "text": [
        "  0.01s keeping annox: shebanq:db.oid (node) ...\n"
       ]
      },
      {
       "output_type": "stream",
       "stream": "stderr",
       "text": [
        "  0.01s keeping annox: shebanq:db.otype (node) ...\n"
       ]
      },
      {
       "output_type": "stream",
       "stream": "stderr",
       "text": [
        "  0.01s keeping annox: shebanq:ft.text (node) ...\n"
       ]
      },
      {
       "output_type": "stream",
       "stream": "stderr",
       "text": [
        "  0.01s keeping annox: shebanq:sft.book (node) ...\n"
       ]
      },
      {
       "output_type": "stream",
       "stream": "stderr",
       "text": [
        "  0.02s keeping annox: shebanq:sft.chapter (node) ...\n"
       ]
      },
      {
       "output_type": "stream",
       "stream": "stderr",
       "text": [
        "  0.02s keeping annox: shebanq:sft.verse (node) ...\n"
       ]
      },
      {
       "output_type": "stream",
       "stream": "stderr",
       "text": [
        "  1.05s present xmlids: node\n"
       ]
      },
      {
       "output_type": "stream",
       "stream": "stderr",
       "text": [
        "  1.06s present feature: dirk:part.role (node) from annox testannots, source bhs3.txt.hdr\n"
       ]
      },
      {
       "output_type": "stream",
       "stream": "stderr",
       "text": [
        "  1.06s present feature: dirk:part.intro (node) from annox testannots, source bhs3.txt.hdr\n"
       ]
      },
      {
       "output_type": "stream",
       "stream": "stderr",
       "text": [
        "  1.06s present feature: shebanq:sft.verse (node) from annox testannots, source bhs3.txt.hdr\n"
       ]
      },
      {
       "output_type": "stream",
       "stream": "stderr",
       "text": [
        "  1.06s present feature: shebanq:db.monads (node) from annox testannots, source bhs3.txt.hdr\n"
       ]
      },
      {
       "output_type": "stream",
       "stream": "stderr",
       "text": [
        "  1.06s present feature: shebanq:db.oid (node) from annox testannots, source bhs3.txt.hdr\n"
       ]
      },
      {
       "output_type": "stream",
       "stream": "stderr",
       "text": [
        "  1.06s present feature: shebanq:sft.book (node) from annox testannots, source bhs3.txt.hdr\n"
       ]
      },
      {
       "output_type": "stream",
       "stream": "stderr",
       "text": [
        "  1.06s present feature: shebanq:db.otype (node) from annox testannots, source bhs3.txt.hdr\n"
       ]
      },
      {
       "output_type": "stream",
       "stream": "stderr",
       "text": [
        "  1.06s present feature: shebanq:sft.chapter (node) from annox testannots, source bhs3.txt.hdr\n"
       ]
      },
      {
       "output_type": "stream",
       "stream": "stderr",
       "text": [
        "  1.06s present feature: shebanq:ft.text (node) from annox testannots, source bhs3.txt.hdr\n"
       ]
      },
      {
       "output_type": "stream",
       "stream": "stderr",
       "text": [
        "  0.00s LOGFILE=/Users/dirk/Scratch/shebanq/results/bhs3.txt.hdr/annox_workflow/__log__annox_workflow.txt\n"
       ]
      },
      {
       "output_type": "stream",
       "stream": "stderr",
       "text": [
        "  0.00s BEGIN TASK=annox_workflow SOURCE=bhs3.txt.hdr\n"
       ]
      },
      {
       "output_type": "stream",
       "stream": "stderr",
       "text": [
        "  0.00s Loading API\n"
       ]
      },
      {
       "output_type": "stream",
       "stream": "stderr",
       "text": [
        "  0.26s P: Primary Data\n"
       ]
      },
      {
       "output_type": "stream",
       "stream": "stderr",
       "text": [
        "  0.27s NN, NE: Next Node and Node Events\n"
       ]
      },
      {
       "output_type": "stream",
       "stream": "stderr",
       "text": [
        "  0.27s F: Features\n"
       ]
      },
      {
       "output_type": "stream",
       "stream": "stderr",
       "text": [
        "  0.27s C, Ci: Connections\n"
       ]
      },
      {
       "output_type": "stream",
       "stream": "stderr",
       "text": [
        "  0.27s X: XML ids\n"
       ]
      },
      {
       "output_type": "stream",
       "stream": "stderr",
       "text": [
        "  0.27s API loaded\n"
       ]
      }
     ],
     "prompt_number": 32
    },
    {
     "cell_type": "heading",
     "level": 1,
     "metadata": {},
     "source": [
      "Workflow"
     ]
    },
    {
     "cell_type": "markdown",
     "metadata": {},
     "source": [
      "This is how you enter new annotation data:\n",
      "\n",
      "1. First tell LAF-Fabric to construct a spreadsheet\n",
      "2. Fill in that spreadsheet\n",
      "3. Ask LAF-Fabric to read the filled in spreadsheet and turn it into a LAF file.\n",
      "4. Place the new annotations file in the right place.\n",
      "5. Use the new annotations."
     ]
    },
    {
     "cell_type": "heading",
     "level": 2,
     "metadata": {},
     "source": [
      "Step 1: Construct a spreadsheet"
     ]
    },
    {
     "cell_type": "markdown",
     "metadata": {},
     "source": [
      "In the dictionary config below, you can specify a spreadsheet with rows and colomns.\n",
      "\n",
      "On each row you see the textual representation of the objects you specify, from the passages you specify.\n",
      "There are extra columns for new features, with names that you specify.\n",
      "\n",
      "The first column is reserved for the XML identifier in the LAF resource of the node that corresponds with the information you are looking at in that row.\n",
      "\n",
      "In this example the second column shows words, the third column shows phrases, and the fourth column shows empty cells for the new feature ``dirk_part_intro`` and the fifth column shows empty cells for the new feature ``dirk_part_role``."
     ]
    },
    {
     "cell_type": "code",
     "collapsed": false,
     "input": [
      "config = {\n",
      "    'target_types': [\n",
      "        'word',\n",
      "        'phrase',\n",
      "    ],\n",
      "    'new_features': {\n",
      "        'dirk': {\n",
      "            'node': [\n",
      "                \"part.intro,role\",\n",
      "            ],\n",
      "        },\n",
      "    },\n",
      "    'passages': {\n",
      "        'Genesis': '1-3',\n",
      "        'Isaiah': '40,66',\n",
      "    },\n",
      "}\n",
      "form_name = \"dirk_intro_role\""
     ],
     "language": "python",
     "metadata": {},
     "outputs": [],
     "prompt_number": 3
    },
    {
     "cell_type": "markdown",
     "metadata": {},
     "source": [
      "We put this information an data structures for subsequent processing."
     ]
    },
    {
     "cell_type": "code",
     "collapsed": false,
     "input": [
      "target_types = config['target_types']\n",
      "type_col = {}\n",
      "n_types = len(target_types)\n",
      "for (n, tt) in enumerate(target_types):\n",
      "    type_col[tt] = n\n",
      "\n",
      "new_features_spec = config['new_features']\n",
      "new_fqnames = []\n",
      "new_fnames = {}\n",
      "new_features = []\n",
      "for aspace in sorted(new_features_spec.keys()):\n",
      "    for kind in sorted(new_features_spec[aspace].keys()):\n",
      "        for line in new_features_spec[aspace][kind]:\n",
      "            (alabel, fnames) = line.split('.')\n",
      "            for fname in fnames.split(','):\n",
      "                fqname = \"{}:{}.{}\".format(aspace, alabel, fname)\n",
      "                new_fqnames.append(fqname)\n",
      "                new_features.append((aspace, alabel, fname))\n",
      "                new_fnames[fname] = None\n",
      "n_features = len(new_fqnames)"
     ],
     "language": "python",
     "metadata": {},
     "outputs": [],
     "prompt_number": 4
    },
    {
     "cell_type": "heading",
     "level": 3,
     "metadata": {},
     "source": [
      "The form create function"
     ]
    },
    {
     "cell_type": "code",
     "collapsed": false,
     "input": [
      "def make_form():\n",
      "    msg(\"Reading the books ...\")\n",
      "    outf = processor.add_output(\"form_{}.csv\".format(form_name))\n",
      "\n",
      "    the_book = None\n",
      "    the_chapter = None\n",
      "    the_verse = None\n",
      "    in_book = False\n",
      "    in_chapter = False\n",
      "    do_chapters = {}\n",
      "    outf.write(\"{}\\t{}\\t{}\\n\".format('passage', \"\\t\".join(target_types), \"\\t\".join(new_fqnames)))\n",
      "    for i in NN():\n",
      "        this_type = F.shebanq_db_otype.v(i)\n",
      "        if this_type in target_types:\n",
      "            if in_chapter:\n",
      "                the_xml_id = X.node.r(i)\n",
      "                the_text = \"_\".join([text for (n, text) in P.data(i)])\n",
      "                outf.write(\"{}\\t{}{}{}\\t{}\\n\".format(\n",
      "                    the_xml_id,\n",
      "                    \"\\t\" * type_col[this_type],\n",
      "                    the_text,\n",
      "                    \"\\t\" * (n_types - type_col[this_type]),\n",
      "                    \"\\t\" * n_features,\n",
      "                ))\n",
      "        elif this_type == \"book\":\n",
      "            the_book = F.shebanq_sft_book.v(i)\n",
      "            in_book = the_book in config['passages']\n",
      "            if in_book:\n",
      "                sys.stderr.write(the_book)\n",
      "                do_chapters = {}\n",
      "                chapter_ranges = config['passages'][the_book].split(',')\n",
      "                for chapter_range in chapter_ranges:\n",
      "                    boundaries = chapter_range.split('-')\n",
      "                    (b, e) = (None, None)\n",
      "                    if len(boundaries) == 1:\n",
      "                        b = int(chapter_range)\n",
      "                        e = int(chapter_range) + 1\n",
      "                    else:\n",
      "                        b = int(boundaries[0])\n",
      "                        e = int(boundaries[1]) + 1\n",
      "                    for chapter in range(b, e):\n",
      "                        do_chapters[str(chapter)] = None\n",
      "            else:\n",
      "                sys.stderr.write(\"*\")\n",
      "        elif this_type == \"chapter\":\n",
      "            if in_book:\n",
      "                the_chapter = F.shebanq_sft_chapter.v(i)\n",
      "                if the_chapter in do_chapters:\n",
      "                    sys.stderr.write(\"{},\".format(the_chapter))\n",
      "                    in_chapter = True\n",
      "                else:\n",
      "                    in_chapter = False\n",
      "            else:\n",
      "                in_chapter = False\n",
      "        elif this_type == \"verse\":\n",
      "            if in_chapter:\n",
      "                the_verse = F.shebanq_sft_verse.v(i)\n",
      "                outf.write(\"#{} {}:{}\\t{}\\t{}\\n\".format(\n",
      "                    the_book,\n",
      "                    the_chapter,\n",
      "                    the_verse,\n",
      "                    \"\\t\" * n_types,\n",
      "                    \"\\t\" * n_features,\n",
      "                ))\n",
      "    outf.close()\n",
      "    sys.stderr.write(\"\\n\")"
     ],
     "language": "python",
     "metadata": {},
     "outputs": [],
     "prompt_number": 11
    },
    {
     "cell_type": "markdown",
     "metadata": {},
     "source": [
      "Run the make_form function:"
     ]
    },
    {
     "cell_type": "code",
     "collapsed": false,
     "input": [
      "make_form()"
     ],
     "language": "python",
     "metadata": {},
     "outputs": [
      {
       "output_type": "stream",
       "stream": "stderr",
       "text": [
        "10m 35s Reading the books ...\n"
       ]
      },
      {
       "output_type": "stream",
       "stream": "stderr",
       "text": [
        "Genesis1,2,3,*"
       ]
      },
      {
       "output_type": "stream",
       "stream": "stderr",
       "text": [
        "***"
       ]
      },
      {
       "output_type": "stream",
       "stream": "stderr",
       "text": [
        "***"
       ]
      },
      {
       "output_type": "stream",
       "stream": "stderr",
       "text": [
        "***"
       ]
      },
      {
       "output_type": "stream",
       "stream": "stderr",
       "text": [
        "Isaiah40,66,"
       ]
      },
      {
       "output_type": "stream",
       "stream": "stderr",
       "text": [
        "**"
       ]
      },
      {
       "output_type": "stream",
       "stream": "stderr",
       "text": [
        "************"
       ]
      },
      {
       "output_type": "stream",
       "stream": "stderr",
       "text": [
        "**"
       ]
      },
      {
       "output_type": "stream",
       "stream": "stderr",
       "text": [
        "*****"
       ]
      },
      {
       "output_type": "stream",
       "stream": "stderr",
       "text": [
        "****"
       ]
      },
      {
       "output_type": "stream",
       "stream": "stderr",
       "text": [
        "**\n"
       ]
      }
     ],
     "prompt_number": 12
    },
    {
     "cell_type": "markdown",
     "metadata": {},
     "source": [
      "Look at the form in its text form:"
     ]
    },
    {
     "cell_type": "code",
     "collapsed": false,
     "input": [
      "!head -n 25 {processor.my_files(\"form_{}.csv\".format(form_name))}"
     ],
     "language": "python",
     "metadata": {},
     "outputs": [
      {
       "output_type": "stream",
       "stream": "stdout",
       "text": [
        "passage\tword\tphrase\tdirk:part.intro\tdirk:part.role\r\n",
        "#Genesis 1:1\t\t\t\t\t\t\r\n",
        "n59556\t\t\u05d1\u05b0\u05bc\u05e8\u05b5\u05d0\u05e9\u05b4\u05c1\u0596\u05d9\u05ea\t\t\t\t\r\n",
        "n2\t\u05d1\u05b0\u05bc\t\t\t\t\t\r\n",
        "n3\t\u05e8\u05b5\u05d0\u05e9\u05b4\u05c1\u0596\u05d9\u05ea\t\t\t\t\t\r\n",
        "n4\t\u05d1\u05b8\u05bc\u05e8\u05b8\u05a3\u05d0\t\t\t\t\t\r\n",
        "n59557\t\t\u05d1\u05b8\u05bc\u05e8\u05b8\u05a3\u05d0\t\t\t\t\r\n",
        "n5\t\u05d0\u05b1\u05dc\u05b9\u05d4\u05b4\u0591\u05d9\u05dd\t\t\t\t\t\r\n",
        "n59558\t\t\u05d0\u05b1\u05dc\u05b9\u05d4\u05b4\u0591\u05d9\u05dd\t\t\t\t\r\n",
        "n59559\t\t\u05d0\u05b5\u05a5\u05ea_\u05d4\u05b7\u05e9\u05b8\u05bc\u05c1\u05de\u05b7\u0596\u05d9\u05b4\u05dd_\u05d5\u05b0\u05d0\u05b5\u05a5\u05ea_\u05d4\u05b8\u05d0\u05b8\u05bd\u05e8\u05b6\u05e5\t\t\t\t\r\n",
        "n6\t\u05d0\u05b5\u05a5\u05ea\t\t\t\t\t\r\n",
        "n7\t\u05d4\u05b7\t\t\t\t\t\r\n",
        "n8\t\u05e9\u05b8\u05bc\u05c1\u05de\u05b7\u0596\u05d9\u05b4\u05dd\t\t\t\t\t\r\n",
        "n9\t\u05d5\u05b0\t\t\t\t\t\r\n",
        "n10\t\u05d0\u05b5\u05a5\u05ea\t\t\t\t\t\r\n",
        "n11\t\u05d4\u05b8\t\t\t\t\t\r\n",
        "n12\t\u05d0\u05b8\u05bd\u05e8\u05b6\u05e5\t\t\t\t\t\r\n",
        "#Genesis 1:2\t\t\t\t\t\t\r\n",
        "n13\t\u05d5\u05b0\t\t\t\t\t\r\n",
        "n59560\t\t\u05d5\u05b0\t\t\t\t\r\n",
        "n59561\t\t\u05d4\u05b8\u05d0\u05b8\u0597\u05e8\u05b6\u05e5\t\t\t\t\r\n",
        "n14\t\u05d4\u05b8\t\t\t\t\t\r\n",
        "n15\t\u05d0\u05b8\u0597\u05e8\u05b6\u05e5\t\t\t\t\t\r\n",
        "n16\t\u05d4\u05b8\u05d9\u05b0\u05ea\u05b8\u05a5\u05d4\t\t\t\t\t\r\n",
        "n59562\t\t\u05d4\u05b8\u05d9\u05b0\u05ea\u05b8\u05a5\u05d4\t\t\t\t\r\n"
       ]
      }
     ],
     "prompt_number": 13
    },
    {
     "cell_type": "heading",
     "level": 2,
     "metadata": {},
     "source": [
      "Step 2: Fill in the spreadsheet"
     ]
    },
    {
     "cell_type": "markdown",
     "metadata": {},
     "source": [
      "It is time to fill in your form. \n",
      "First rename it, so that when you create a new blank form, it will not overwrite any data you have already filled in.\n",
      "\n",
      "Replace the ``form`` prefix in your file name by ``data``.\n",
      "It is here: \n",
      "\n"
     ]
    },
    {
     "cell_type": "code",
     "collapsed": false,
     "input": [
      "processor.my_files(\"form_{}.csv\".format(form_name))"
     ],
     "language": "python",
     "metadata": {},
     "outputs": [
      {
       "metadata": {},
       "output_type": "pyout",
       "prompt_number": 14,
       "text": [
        "'/Users/dirk/Scratch/shebanq/results/bhs3.txt.hdr/annox-create/form_dirk_intro_role.csv'"
       ]
      }
     ],
     "prompt_number": 14
    },
    {
     "cell_type": "markdown",
     "metadata": {},
     "source": [
      "Open the ``data`` file as a spreadsheet.\n",
      "OpenOffice is recommended for that, because it handles unicode well.\n",
      "\n",
      "Fill any your feature values as desired and save."
     ]
    },
    {
     "cell_type": "heading",
     "level": 2,
     "metadata": {},
     "source": [
      "Step 3: Turn the spreadsheet into annotations"
     ]
    },
    {
     "cell_type": "markdown",
     "metadata": {},
     "source": [
      "The ``data`` file is going to be turned into an XML file with annotations to the original LAF resource.\n",
      "\n",
      "Here is the function doing that."
     ]
    },
    {
     "cell_type": "code",
     "collapsed": false,
     "input": [
      "def make_annots():\n",
      "    inp = processor.add_input(\"data_{}.csv\".format(form_name))\n",
      "    outa = processor.add_output(\"annot_{}.xml\".format(form_name))\n",
      "    outa.write('''<?xml version=\"1.0\" encoding=\"UTF-8\"?>\n",
      "<graph xmlns=\"http://www.xces.org/ns/GrAF/1.0/\" xmlns:graf=\"http://www.xces.org/ns/GrAF/1.0/\">\n",
      "<graphHeader>\n",
      "    <labelsDecl/>\n",
      "    <dependencies/>\n",
      "    <annotationSpaces/>\n",
      "</graphHeader>\n",
      "''')\n",
      "    aid = 0\n",
      "    header = True\n",
      "    features = collections.defaultdict(lambda: collections.defaultdict(lambda: collections.defaultdict(lambda: {})))\n",
      "    for line in inp:\n",
      "        if header:\n",
      "            header = False\n",
      "            continue\n",
      "        if line.startswith('#'):\n",
      "            continue\n",
      "        fields = line.rstrip().split(\"\\t\")\n",
      "        xml_id = fields[0]\n",
      "        values = fields[n_types + 1:n_types + 1 + n_features]\n",
      "        for (n, value) in enumerate(values): \n",
      "            if value == \"\":\n",
      "                continue\n",
      "            (aspace, alabel, fname) = new_features[n]\n",
      "            features[aspace][alabel][xml_id][fname] = value\n",
      "\n",
      "    for aspace in features:\n",
      "        for alabel in features[aspace]:\n",
      "            for xml_id in features[aspace][alabel]:\n",
      "                aid += 1\n",
      "                outa.write('<a xml:id=\"a{}\" as=\"{}\" label=\"{}\" ref=\"{}\"><fs>\\n'.format(aid, aspace, alabel, xml_id))\n",
      "                for fname in features[aspace][alabel][xml_id]:\n",
      "                    value = features[aspace][alabel][xml_id][fname]\n",
      "                    outa.write('\\t<f name=\"{}\" value=\"{}\"/>\\n'.format(fname, value))\n",
      "                outa.write('</fs></a>\\n')\n",
      "    outa.write(\"</graph>\\n\")\n",
      "    inp.close()\n",
      "    outa.close()"
     ],
     "language": "python",
     "metadata": {},
     "outputs": [],
     "prompt_number": 16
    },
    {
     "cell_type": "markdown",
     "metadata": {},
     "source": [
      "Run the make_annots function."
     ]
    },
    {
     "cell_type": "code",
     "collapsed": false,
     "input": [
      "make_annots()"
     ],
     "language": "python",
     "metadata": {},
     "outputs": [],
     "prompt_number": 18
    },
    {
     "cell_type": "markdown",
     "metadata": {},
     "source": [
      "Look at the freshly created annotations."
     ]
    },
    {
     "cell_type": "code",
     "collapsed": false,
     "input": [
      "!head -n 25 {processor.my_files(\"annot_{}.xml\".format(form_name))}"
     ],
     "language": "python",
     "metadata": {},
     "outputs": [
      {
       "output_type": "stream",
       "stream": "stdout",
       "text": [
        "<?xml version=\"1.0\" encoding=\"UTF-8\"?>\r\n",
        "<graph xmlns=\"http://www.xces.org/ns/GrAF/1.0/\" xmlns:graf=\"http://www.xces.org/ns/GrAF/1.0/\">\r\n",
        "<graphHeader>\r\n",
        "    <labelsDecl/>\r\n",
        "    <dependencies/>\r\n",
        "    <annotationSpaces/>\r\n",
        "</graphHeader>\r\n",
        "<a xml:id=\"a1\" as=\"dirk\" label=\"part\" ref=\"n59556\"><fs>\r\n",
        "\t<f name=\"intro\" value=\"A\"/>\r\n",
        "</fs></a>\r\n",
        "<a xml:id=\"a2\" as=\"dirk\" label=\"part\" ref=\"n3\"><fs>\r\n",
        "\t<f name=\"intro\" value=\"C\"/>\r\n",
        "\t<f name=\"role\" value=\"yy\"/>\r\n",
        "</fs></a>\r\n",
        "<a xml:id=\"a3\" as=\"dirk\" label=\"part\" ref=\"n4\"><fs>\r\n",
        "\t<f name=\"role\" value=\"zz\"/>\r\n",
        "</fs></a>\r\n",
        "<a xml:id=\"a4\" as=\"dirk\" label=\"part\" ref=\"n2\"><fs>\r\n",
        "\t<f name=\"intro\" value=\"B\"/>\r\n",
        "\t<f name=\"role\" value=\"xx\"/>\r\n",
        "</fs></a>\r\n",
        "</graph>\r\n"
       ]
      }
     ],
     "prompt_number": 19
    },
    {
     "cell_type": "heading",
     "level": 2,
     "metadata": {},
     "source": [
      "Step 4: Place the new annotation file in the right directory."
     ]
    },
    {
     "cell_type": "markdown",
     "metadata": {},
     "source": [
      "Here is the directory, we call it the *annox* directory."
     ]
    },
    {
     "cell_type": "code",
     "collapsed": false,
     "input": [
      "processor.settings.settings['locations']['annox_dir']"
     ],
     "language": "python",
     "metadata": {},
     "outputs": [
      {
       "metadata": {},
       "output_type": "pyout",
       "prompt_number": 28,
       "text": [
        "'/Users/dirk/Scratch/shebanq/results/annotations'"
       ]
      }
     ],
     "prompt_number": 28
    },
    {
     "cell_type": "markdown",
     "metadata": {},
     "source": [
      "Extra annotations are organized in packages.\n",
      "You can place multiple new annotation files in a package.\n",
      "\n",
      "Let us add this file to the existing package called ``testannots``.\n",
      "It is the *annox* directory.\n",
      "\n",
      "Put the new file in that directory.\n",
      "\n",
      "There is also a header file:"
     ]
    },
    {
     "cell_type": "raw",
     "metadata": {},
     "source": [
      "<?xml version=\"1.0\" encoding=\"UTF-8\"?>\n",
      "<documentHeader xmlns=\"http://www.xces.org/ns/GrAF/1.0/\" xmlns:graf=\"http://www.xces.org/ns/GrAF/1.0/\" docId=\"http://persistent-identifier/?identifier=urn:nbn:nl:ui:13-xxx-999\" creator=\"SHEBANQ\" date.created=\"2013-12-05\" version=\"1.0\">\n",
      "  <fileDesc>\n",
      "    <titleStmt>\n",
      "      <title>Literary annotations</title>\n",
      "    </titleStmt>\n",
      "    <extent count=\"0\" unit=\"byte\"/>\n",
      "    <sourceDesc>\n",
      "      <title>Biblia Hebraica Stuttgartentis</title>\n",
      "      <author>tradition</author>\n",
      "      <publisher>Deutsche Bibelgesellschaft</publisher>\n",
      "      <pubDate value=\"1900-00-00\">1900</pubDate>\n",
      "      <pubPlace>Germany</pubPlace>\n",
      "    </sourceDesc>\n",
      "  </fileDesc>\n",
      "  <profileDesc>\n",
      "    <primaryData f.id=\"f.primary\" loc=\"bhs3.txt\"/>\n",
      "\t<langUsage>\n",
      "\t\t<language iso639=\"hbo\"/> <!-- ancient hebrew http://www-01.sil.org/iso639-3/documentation.asp?id=hbo -->\n",
      "\t\t<language iso639=\"arc\"/> <!-- aramaic http://www-01.sil.org/iso639-3/documentation.asp?id=arc -->\n",
      "\t</langUsage>\n",
      "    <annotations>\n",
      "\t\t<annotation f.id=\"f_dirk1\" loc=\"annot_dirk_intro_role.xml\"/>\n",
      "    </annotations>\n",
      "  </profileDesc>\n",
      "</documentHeader>"
     ]
    },
    {
     "cell_type": "markdown",
     "metadata": {},
     "source": [
      "If you have more files, you can place them in the same directory, and for each file you have to add a line like the existing line, resulting in:\n",
      "\n",
      "    <annotation f.id=\"f_dirk1\" loc=\"annot_dirk_intro_role.xml\"/>\n",
      "    <annotation f.id=\"f_dirk2\" loc=\"annot_dirk_other.xml\"/>\n",
      "\n",
      "The files in the package must be mentioned in the header file, that's the point."
     ]
    },
    {
     "cell_type": "heading",
     "level": 2,
     "metadata": {},
     "source": [
      "Step 5. Use the new annotations."
     ]
    },
    {
     "cell_type": "markdown",
     "metadata": {},
     "source": [
      "You can invoke an extra annotation package by mentioning it in the statement where you initialize the processor:\n",
      "\n",
      "    processor.init('bhs3.txt.hdr', 'testannots', 'annox-create', {\n",
      "\n",
      "See above, one of the first cells.\n",
      "\n",
      "The processor looks for the package, checks whether it has to be compiled, and if so, compiles it.\n",
      "Then the data corresponding to ``testannots`` is loaded after the main source has been loaded.\n",
      "\n",
      "What ever task you perform, it will have access to the new annotations.\n",
      "\n",
      "So let us check which objects have got annotations."
     ]
    },
    {
     "cell_type": "code",
     "collapsed": false,
     "input": [],
     "language": "python",
     "metadata": {},
     "outputs": []
    }
   ],
   "metadata": {}
  }
 ]
}