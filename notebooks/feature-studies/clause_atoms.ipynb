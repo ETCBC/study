{
 "metadata": {
  "name": ""
 },
 "nbformat": 3,
 "nbformat_minor": 0,
 "worksheets": [
  {
   "cells": [
    {
     "cell_type": "markdown",
     "metadata": {},
     "source": [
      "<a href=\"http://laf-fabric.readthedocs.org/en/latest/\" target=\"_blank\"><img src=\"files/images/laf-fabric-small.png\"/></a>\n",
      "<a href=\"http://www.dans.knaw.nl\" target=\"_blank\"><img src=\"files/images/DANS-small.png\"/></a>\n",
      "<a href=\"http://tla.mpi.nl\" target=\"_blank\"><img src=\"files/images/TLA-small.png\"/></a>\n",
      "<a href=\"http://www.godgeleerdheid.vu.nl/etcbc\" target=\"_blank\"><img src=\"files/images/VU-ETCBC-small.png\"/></a>"
     ]
    },
    {
     "cell_type": "heading",
     "level": 1,
     "metadata": {},
     "source": [
      "Clause Atoms"
     ]
    },
    {
     "cell_type": "markdown",
     "metadata": {},
     "source": [
      "A quick investigation to clauses and their atoms."
     ]
    },
    {
     "cell_type": "code",
     "collapsed": false,
     "input": [
      "import sys\n",
      "import collections\n",
      "from laf.fabric import LafFabric\n",
      "processor = LafFabric()"
     ],
     "language": "python",
     "metadata": {},
     "outputs": [
      {
       "output_type": "stream",
       "stream": "stderr",
       "text": [
        "  0.00s This is LAF-Fabric 3.7.0\n"
       ]
      }
     ],
     "prompt_number": 1
    },
    {
     "cell_type": "code",
     "collapsed": false,
     "input": [
      "API = processor.load('bhs3.txt.hdr', '--', 'clauses_atoms', {\n",
      "    \"xmlids\": {\n",
      "        \"node\": False,\n",
      "        \"edge\": False,\n",
      "    },\n",
      "    \"features\": {\n",
      "        \"shebanq\": {\n",
      "            \"node\": [\n",
      "                \"db.otype\",\n",
      "                \"sft.verse_label\",\n",
      "                \"ft.text\",\n",
      "                \"ft.clause_atom_number\",\n",
      "            ],\n",
      "            \"edge\": [\n",
      "                \"parents.\",\n",
      "            ],\n",
      "        },\n",
      "    },\n",
      "    \"primary\": True,\n",
      "}, verbose='DETAIL')\n",
      "\n",
      "F = API['F']\n",
      "NN = API['NN']\n",
      "C = API['C']\n",
      "Ci = API['Ci']\n",
      "NE = API['NE']\n",
      "msg = API['msg']\n",
      "outfile = API['outfile']\n",
      "my_file = API['my_file']"
     ],
     "language": "python",
     "metadata": {},
     "outputs": [
      {
       "output_type": "stream",
       "stream": "stderr",
       "text": [
        "  0.00s LOADING API: please wait ... \n"
       ]
      },
      {
       "output_type": "stream",
       "stream": "stderr",
       "text": [
        "  0.00s DETAIL: COMPILING m: UP TO DATE\n"
       ]
      },
      {
       "output_type": "stream",
       "stream": "stderr",
       "text": [
        "  0.00s DETAIL: COMPILING a: UP TO DATE\n"
       ]
      },
      {
       "output_type": "stream",
       "stream": "stderr",
       "text": [
        "  0.01s DETAIL: load main: P.node_anchor\n"
       ]
      },
      {
       "output_type": "stream",
       "stream": "stderr",
       "text": [
        "  0.14s DETAIL: load main: P.node_anchor_items\n"
       ]
      },
      {
       "output_type": "stream",
       "stream": "stderr",
       "text": [
        "  0.68s DETAIL: load main: G.node_anchor_min\n"
       ]
      },
      {
       "output_type": "stream",
       "stream": "stderr",
       "text": [
        "  0.80s DETAIL: load main: G.node_anchor_max\n"
       ]
      },
      {
       "output_type": "stream",
       "stream": "stderr",
       "text": [
        "  0.92s DETAIL: load main: P.node_events\n"
       ]
      },
      {
       "output_type": "stream",
       "stream": "stderr",
       "text": [
        "  1.15s DETAIL: load main: P.node_events_items\n"
       ]
      },
      {
       "output_type": "stream",
       "stream": "stderr",
       "text": [
        "  1.84s DETAIL: load main: P.node_events_k\n"
       ]
      },
      {
       "output_type": "stream",
       "stream": "stderr",
       "text": [
        "  2.10s DETAIL: load main: P.node_events_n\n"
       ]
      },
      {
       "output_type": "stream",
       "stream": "stderr",
       "text": [
        "  2.52s DETAIL: load main: G.node_sort\n"
       ]
      },
      {
       "output_type": "stream",
       "stream": "stderr",
       "text": [
        "  2.65s DETAIL: load main: G.node_sort_inv\n"
       ]
      },
      {
       "output_type": "stream",
       "stream": "stderr",
       "text": [
        "  3.31s DETAIL: load main: G.edges_from\n"
       ]
      },
      {
       "output_type": "stream",
       "stream": "stderr",
       "text": [
        "  3.42s DETAIL: load main: G.edges_to\n"
       ]
      },
      {
       "output_type": "stream",
       "stream": "stderr",
       "text": [
        "  3.53s DETAIL: load main: P.primary_data\n"
       ]
      },
      {
       "output_type": "stream",
       "stream": "stderr",
       "text": [
        "  3.63s DETAIL: load main: F.shebanq_db_otype [node] \n"
       ]
      },
      {
       "output_type": "stream",
       "stream": "stderr",
       "text": [
        "  4.59s DETAIL: load main: F.shebanq_sft_verse_label [node] \n"
       ]
      },
      {
       "output_type": "stream",
       "stream": "stderr",
       "text": [
        "  4.61s DETAIL: load main: F.shebanq_ft_text [node] \n"
       ]
      },
      {
       "output_type": "stream",
       "stream": "stderr",
       "text": [
        "  5.11s DETAIL: load main: F.shebanq_ft_clause_atom_number [node] \n"
       ]
      },
      {
       "output_type": "stream",
       "stream": "stderr",
       "text": [
        "  5.18s DETAIL: load main: F.shebanq_parents_ [e] \n"
       ]
      },
      {
       "output_type": "stream",
       "stream": "stderr",
       "text": [
        "  5.54s DETAIL: load main: C.shebanq_parents_ -> \n"
       ]
      },
      {
       "output_type": "stream",
       "stream": "stderr",
       "text": [
        "  8.10s DETAIL: load main: C.shebanq_parents_ <- \n"
       ]
      },
      {
       "output_type": "stream",
       "stream": "stderr",
       "text": [
        "    11s DETAIL: load annox: F.shebanq_db_otype [node] \n"
       ]
      },
      {
       "output_type": "stream",
       "stream": "stderr",
       "text": [
        "    11s DETAIL: load annox: F.shebanq_sft_verse_label [node] \n"
       ]
      },
      {
       "output_type": "stream",
       "stream": "stderr",
       "text": [
        "    11s DETAIL: load annox: F.shebanq_ft_text [node] \n"
       ]
      },
      {
       "output_type": "stream",
       "stream": "stderr",
       "text": [
        "    11s DETAIL: load annox: F.shebanq_ft_clause_atom_number [node] \n"
       ]
      },
      {
       "output_type": "stream",
       "stream": "stderr",
       "text": [
        "    11s DETAIL: load annox: F.shebanq_parents_ [e] \n"
       ]
      },
      {
       "output_type": "stream",
       "stream": "stderr",
       "text": [
        "    11s DETAIL: load annox: C.shebanq_parents_ -> \n"
       ]
      },
      {
       "output_type": "stream",
       "stream": "stderr",
       "text": [
        "    11s DETAIL: load annox: C.shebanq_parents_ <- \n"
       ]
      },
      {
       "output_type": "stream",
       "stream": "stderr",
       "text": [
        "    11s LOGFILE=/Users/dirk/laf-fabric-data/etcbc-bhs3/tasks/bhs3.txt.hdr/clauses_atoms/__log__clauses_atoms.txt\n"
       ]
      },
      {
       "output_type": "stream",
       "stream": "stderr",
       "text": [
        "    11s INFO: DATA LOADED FROM SOURCE bhs3.txt.hdr AND ANNOX -- FOR TASK clauses_atoms\n"
       ]
      }
     ],
     "prompt_number": 2
    },
    {
     "cell_type": "heading",
     "level": 1,
     "metadata": {},
     "source": [
      "Preliminaries"
     ]
    },
    {
     "cell_type": "markdown",
     "metadata": {},
     "source": [
      "We check whether the following assertion holds: clause_atoms are always parts of clauses, where the *parts of* relation is expressed by edges from part to whole with label ``parents``."
     ]
    },
    {
     "cell_type": "code",
     "collapsed": false,
     "input": [
      "remarkable = collections.defaultdict(lambda: set())\n",
      "\n",
      "# the set of all clause nodes\n",
      "clauses = set(NN(test=F.shebanq_db_otype.v, value='clause'))\n",
      "# the set of all clause atom nodes\n",
      "clause_atoms = set(NN(test=F.shebanq_db_otype.v, value='clause_atom'))\n",
      "\n",
      "# the set of all parents nodes of clause atoms, regardless of the parent type\n",
      "clause_atom_parents = set()\n",
      "# the set of all parents nodes of clause atoms, which are themselves clauses\n",
      "clause_atom_parents_clause = set()\n",
      "\n",
      "for node in clause_atoms:\n",
      "    parents = set(C.shebanq_parents_.v(node))\n",
      "    if len(parents) == 0:\n",
      "        remarkable['!no parents'].add(node)\n",
      "    elif len(parents) > 1:\n",
      "        remarkable['!multiple parents'].add(node)\n",
      "    for parent in parents:\n",
      "        clause_atom_parents.add(parent)\n",
      "        parent_type = F.shebanq_db_otype.v(parent)\n",
      "        if parent_type != 'clause':\n",
      "            remarkable[parent_type].add(node)\n",
      "        else:\n",
      "            clause_atom_parents_clause.add(parent)\n",
      "\n",
      "print(\"Number of clauses = {}\".format(len(clauses)))\n",
      "print(\"Number of clause_atoms = {}\".format(len(clause_atoms)))\n",
      "print(\"Number of clause atom parents = {}\".format(len(clause_atom_parents)))\n",
      "print(\"Number of clause atom parents (clause) = {}\".format(len(clause_atom_parents_clause)))\n",
      "\n",
      "if not remarkable:\n",
      "    print(\"No clause atoms with multiple parents or without parents or with non-clause parents\")\n",
      "    \n",
      "for remark in sorted(remarkable):\n",
      "    print(\"{:<20}: {:>6}x\".format(remark, remarkable[remark]))"
     ],
     "language": "python",
     "metadata": {},
     "outputs": [
      {
       "output_type": "stream",
       "stream": "stdout",
       "text": [
        "Number of clauses = 88387\n",
        "Number of clause_atoms = 90061\n",
        "Number of clause atom parents = 88387\n",
        "Number of clause atom parents (clause) = 88387\n",
        "No clause atoms with multiple parents or without parents or with non-clause parents\n"
       ]
      }
     ],
     "prompt_number": 3
    },
    {
     "cell_type": "markdown",
     "metadata": {},
     "source": [
      "That looks good.\n",
      "\n",
      "The next check is whether all clause atoms have a parents link to the clause that embeds them, and not to a clause far away."
     ]
    },
    {
     "cell_type": "code",
     "collapsed": false,
     "input": [
      "select_node = collections.defaultdict(lambda: None, {\n",
      "    'clause_atom': 1,\n",
      "    'clause': 2,\n",
      "})\n",
      "\n",
      "cur_clause = None\n",
      "cur_clause_atom = None\n",
      "outside = set()\n",
      "\n",
      "msg(\"Walking through primary data\")\n",
      "\n",
      "chunk = 100000\n",
      "sc = 0\n",
      "cur_anchor = None\n",
      "\n",
      "for (anchor, events) in NE(\n",
      "    key=lambda n:select_node[F.shebanq_db_otype.v(n)],\n",
      "    simplify=lambda n:select_node[F.shebanq_db_otype.v(n)],\n",
      "):\n",
      "    cur_anchor = anchor\n",
      "    sc += 1\n",
      "    if sc == chunk:\n",
      "        sc = 0\n",
      "        msg(\"at anchor {}\".format(anchor))\n",
      "    for (node, kind) in events:\n",
      "        otype = F.shebanq_db_otype.v(node)\n",
      "        if otype == 'clause':\n",
      "            if kind > 1:\n",
      "                cur_clause = None\n",
      "                if cur_clause_atom != None:\n",
      "                    outside.add(cur_clause_atom)\n",
      "            else:\n",
      "                cur_clause = node\n",
      "        else:\n",
      "            if kind <= 1:\n",
      "                cur_clause_atom = node\n",
      "                parents = C.shebanq_parents_.v(node)\n",
      "                for parent in parents:\n",
      "                    if parent != cur_clause:\n",
      "                        outside.add(node)\n",
      "            else:\n",
      "                cur_clause_atom = None\n",
      "\n",
      "msg(\"at anchor {}\".format(cur_anchor))\n",
      "print(\"Number of clause_atoms outside their clause: {}\".format(len(outside)))"
     ],
     "language": "python",
     "metadata": {},
     "outputs": [
      {
       "output_type": "stream",
       "stream": "stderr",
       "text": [
        "    19s Walking through primary data\n"
       ]
      },
      {
       "output_type": "stream",
       "stream": "stderr",
       "text": [
        "    23s at anchor 451266\n"
       ]
      },
      {
       "output_type": "stream",
       "stream": "stderr",
       "text": [
        "    27s at anchor 913761\n"
       ]
      },
      {
       "output_type": "stream",
       "stream": "stderr",
       "text": [
        "    32s at anchor 1373408\n"
       ]
      },
      {
       "output_type": "stream",
       "stream": "stderr",
       "text": [
        "    36s at anchor 1833933\n"
       ]
      },
      {
       "output_type": "stream",
       "stream": "stderr",
       "text": [
        "    40s at anchor 2303390\n"
       ]
      },
      {
       "output_type": "stream",
       "stream": "stderr",
       "text": [
        "    44s at anchor 2779361\n"
       ]
      },
      {
       "output_type": "stream",
       "stream": "stderr",
       "text": [
        "    45s at anchor 2826228\n"
       ]
      },
      {
       "output_type": "stream",
       "stream": "stdout",
       "text": [
        "Number of clause_atoms outside their clause: 0\n"
       ]
      }
     ],
     "prompt_number": 4
    },
    {
     "cell_type": "markdown",
     "metadata": {},
     "source": [
      "Looks good!"
     ]
    },
    {
     "cell_type": "heading",
     "level": 1,
     "metadata": {},
     "source": [
      "Clause atom number"
     ]
    },
    {
     "cell_type": "markdown",
     "metadata": {},
     "source": [
      "Now we look at the clause_atom_number feature.\n",
      "We list all clauses in the form of $(i,j,k, ...)$ where the $i$, $j$, $k$ are the clause_atom_numbers of the clause atoms in the clause."
     ]
    },
    {
     "cell_type": "code",
     "collapsed": false,
     "input": [
      "has_atoms = collections.defaultdict(lambda: [])\n",
      "\n",
      "def do_clause(node):\n",
      "    children = Ci.shebanq_parents_.v(node)\n",
      "    for child in sorted(children):\n",
      "        if F.shebanq_db_otype.v(child) == 'clause_atom':\n",
      "            has_atoms[node].append(F.shebanq_ft_clause_atom_number.v(child))\n",
      "\n",
      "# we count the clauses we visit, mainly to give progress messages        \n",
      "s = 0\n",
      "sc = 0\n",
      "chunk = 10000 # we only issue a message every chunk many clauses\n",
      "\n",
      "# Walk through all clauses\n",
      "\n",
      "for node in clauses:\n",
      "    do_clause(node)\n",
      "    s += 1\n",
      "    sc += 1\n",
      "    if sc == chunk:\n",
      "        msg(\"{} clauses done\".format(s))\n",
      "        sc = 0\n",
      "    \n",
      "msg(\"{} clauses done\".format(s))"
     ],
     "language": "python",
     "metadata": {},
     "outputs": [
      {
       "output_type": "stream",
       "stream": "stderr",
       "text": [
        "    50s 10000 clauses done\n"
       ]
      },
      {
       "output_type": "stream",
       "stream": "stderr",
       "text": [
        "    50s 20000 clauses done\n"
       ]
      },
      {
       "output_type": "stream",
       "stream": "stderr",
       "text": [
        "    51s 30000 clauses done\n"
       ]
      },
      {
       "output_type": "stream",
       "stream": "stderr",
       "text": [
        "    51s 40000 clauses done\n"
       ]
      },
      {
       "output_type": "stream",
       "stream": "stderr",
       "text": [
        "    51s 50000 clauses done\n"
       ]
      },
      {
       "output_type": "stream",
       "stream": "stderr",
       "text": [
        "    51s 60000 clauses done\n"
       ]
      },
      {
       "output_type": "stream",
       "stream": "stderr",
       "text": [
        "    51s 70000 clauses done\n"
       ]
      },
      {
       "output_type": "stream",
       "stream": "stderr",
       "text": [
        "    52s 80000 clauses done\n"
       ]
      },
      {
       "output_type": "stream",
       "stream": "stderr",
       "text": [
        "    52s 88387 clauses done\n"
       ]
      }
     ],
     "prompt_number": 5
    },
    {
     "cell_type": "markdown",
     "metadata": {},
     "source": [
      "Print the clauses with verse labels to file"
     ]
    },
    {
     "cell_type": "code",
     "collapsed": false,
     "input": [
      "ca_file = outfile('clause_atom_numbers.txt')\n",
      "for node in NN(test=lambda n: n in clauses or F.shebanq_db_otype.v(n) == 'verse', value=True):\n",
      "    otype = F.shebanq_db_otype.v(node)\n",
      "    if otype == 'verse':\n",
      "        ca_file.write(\"{}\\n\".format(F.shebanq_sft_verse_label.v(node)))\n",
      "    else:\n",
      "#        ca_file.write(\"{}\\n\".format(has_atoms[node]))\n",
      "        ca_file.write(\"\\t{}\\n\".format(' '.join([\"{:>2}\".format(n) for n in has_atoms[node]])))"
     ],
     "language": "python",
     "metadata": {},
     "outputs": [],
     "prompt_number": 6
    },
    {
     "cell_type": "code",
     "collapsed": false,
     "input": [
      "API['close']()"
     ],
     "language": "python",
     "metadata": {},
     "outputs": [
      {
       "output_type": "stream",
       "stream": "stderr",
       "text": [
        " 1m 01s Results directory:\n",
        "/Users/dirk/laf-fabric-data/etcbc-bhs3/tasks/bhs3.txt.hdr/clauses_atoms\n"
       ]
      },
      {
       "output_type": "stream",
       "stream": "stderr",
       "text": [
        "\n",
        "__log__clauses_atoms.txt                660 Fri Mar 21 17:09:19 2014\n",
        "clause_atom_numbers.txt             1177102 Fri Mar 21 17:09:19 2014\n"
       ]
      }
     ],
     "prompt_number": 7
    },
    {
     "cell_type": "code",
     "collapsed": false,
     "input": [
      "!head -n 100 {my_file('clause_atom_numbers.txt')}"
     ],
     "language": "python",
     "metadata": {},
     "outputs": [
      {
       "output_type": "stream",
       "stream": "stdout",
       "text": [
        " GEN 01,01\r\n",
        "\t 1  1\r\n",
        " GEN 01,02\r\n",
        "\t 2  2\r\n",
        "\t 3  3\r\n",
        "\t 4  4\r\n",
        " GEN 01,03\r\n",
        "\t 5  5\r\n",
        "\t 6  6\r\n",
        "\t 7  7\r\n",
        " GEN 01,04\r\n",
        "\t 8  8\r\n",
        "\t 9  9\r\n",
        "\t10 10\r\n",
        " GEN 01,05\r\n",
        "\t11 11\r\n",
        "\t12 12\r\n",
        "\t13 13\r\n",
        "\t14 14\r\n",
        "\t15 15\r\n",
        " GEN 01,06\r\n",
        "\t16 16\r\n",
        "\t17 17\r\n",
        "\t18 18\r\n",
        " GEN 01,07\r\n",
        "\t19 19\r\n",
        "\t20 20 22 22\r\n",
        "\t21 21\r\n",
        "\t23 23\r\n",
        "\t24 24\r\n",
        " GEN 01,08\r\n",
        "\t25 25\r\n",
        "\t26 26\r\n",
        "\t27 27\r\n",
        "\t28 28\r\n",
        " GEN 01,09\r\n",
        "\t29 29\r\n",
        "\t30 30\r\n",
        "\t31 31\r\n",
        "\t32 32\r\n",
        " GEN 01,10\r\n",
        "\t33 33\r\n",
        "\t34 34\r\n",
        "\t35 35\r\n",
        "\t36 36\r\n",
        " GEN 01,11\r\n",
        "\t37 37\r\n",
        "\t38 38 40 40\r\n",
        "\t39 39\r\n",
        "\t41 41 43 43\r\n",
        "\t42 42\r\n",
        "\t44 44\r\n",
        " GEN 01,12\r\n",
        "\t45 45 47 47\r\n",
        "\t46 46\r\n",
        "\t48 48 50 50\r\n",
        "\t49 49\r\n",
        "\t51 51\r\n",
        "\t52 52\r\n",
        " GEN 01,13\r\n",
        "\t53 53\r\n",
        "\t54 54\r\n",
        "\t55 55\r\n",
        " GEN 01,14\r\n",
        "\t56 56\r\n",
        "\t57 57\r\n",
        "\t58 58\r\n",
        "\t59 59\r\n",
        " GEN 01,15\r\n",
        "\t60 60\r\n",
        "\t61 61\r\n",
        "\t62 62\r\n",
        " GEN 01,16\r\n",
        "\t63 63\r\n",
        "\t64 64\r\n",
        "\t65 65\r\n",
        "\t66 66\r\n",
        " GEN 01,17\r\n",
        "\t67 67\r\n",
        "\t68 68\r\n",
        " GEN 01,18\r\n",
        "\t69 69\r\n",
        "\t70 70\r\n",
        "\t71 71\r\n",
        "\t72 72\r\n",
        " GEN 01,19\r\n",
        "\t73 73\r\n",
        "\t74 74\r\n",
        "\t75 75\r\n",
        " GEN 01,20\r\n",
        "\t76 76\r\n",
        "\t77 77\r\n",
        "\t78 78\r\n",
        " GEN 01,21\r\n",
        "\t79 79 83 83\r\n",
        "\t80 80\r\n",
        "\t81 81\r\n",
        "\t82 82\r\n",
        "\t84 84\r\n",
        "\t85 85\r\n"
       ]
      }
     ],
     "prompt_number": 8
    },
    {
     "cell_type": "code",
     "collapsed": false,
     "input": [],
     "language": "python",
     "metadata": {},
     "outputs": []
    }
   ],
   "metadata": {}
  }
 ]
}