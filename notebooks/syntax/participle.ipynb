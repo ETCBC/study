{
 "metadata": {
  "name": ""
 },
 "nbformat": 3,
 "nbformat_minor": 0,
 "worksheets": [
  {
   "cells": [
    {
     "cell_type": "markdown",
     "metadata": {},
     "source": [
      "<a href=\"http://laf-fabric.readthedocs.org/en/latest/\" target=\"_blank\"><img src=\"files/images/laf-fabric-small.png\"/></a>\n",
      "<a href=\"http://www.dans.knaw.nl\" target=\"_blank\"><img src=\"files/images/DANS-small.png\"/></a>\n",
      "<a href=\"http://tla.mpi.nl\" target=\"_blank\"><img src=\"files/images/TLA-small.png\"/></a>\n",
      "<a href=\"http://www.godgeleerdheid.vu.nl/etcbc\" target=\"_blank\"><img src=\"files/images/VU-ETCBC-small.png\"/></a>"
     ]
    },
    {
     "cell_type": "heading",
     "level": 1,
     "metadata": {},
     "source": [
      "Participles in the Hebrew Bible"
     ]
    },
    {
     "cell_type": "heading",
     "level": 2,
     "metadata": {},
     "source": [
      "About"
     ]
    },
    {
     "cell_type": "markdown",
     "metadata": {},
     "source": [
      "This task gives an inventory of particples and their context.\n",
      "It is based on a request by Janet Dyk for data by which the verbal/nominal roles of particples can be studied.\n",
      "\n",
      "It is work in progress. When we started we had not yet identified the exact set of features in the database that should give us clues.\n",
      "So, in this notebook you'll find a number of attempts."
     ]
    },
    {
     "cell_type": "heading",
     "level": 2,
     "metadata": {},
     "source": [
      "Firing up LAF-Fabric"
     ]
    },
    {
     "cell_type": "markdown",
     "metadata": {},
     "source": [
      "We fire up the engine, collect data, format the data and write it to a tab delimited file.\n",
      "\n",
      "Then the LAF-Fabric task is completed.\n",
      "\n",
      "After that we play around a bit with the data, see how we can visualize it with the python module *pandas*."
     ]
    },
    {
     "cell_type": "heading",
     "level": 3,
     "metadata": {
      "slideshow": {
       "slide_type": "slide"
      }
     },
     "source": [
      "Get a LAF processor"
     ]
    },
    {
     "cell_type": "code",
     "collapsed": false,
     "input": [
      "import sys\n",
      "import collections\n",
      "import laf\n",
      "from laf.notebook import Notebook\n",
      "processor = Notebook()"
     ],
     "language": "python",
     "metadata": {},
     "outputs": [],
     "prompt_number": 1
    },
    {
     "cell_type": "heading",
     "level": 3,
     "metadata": {},
     "source": [
      "Load data for this task"
     ]
    },
    {
     "cell_type": "code",
     "collapsed": false,
     "input": [
      "processor.init('bhs3.txt.hdr', '--', 'participle', {\n",
      "    \"xmlids\": {\n",
      "        \"node\": False,\n",
      "        \"edge\": False,\n",
      "    },\n",
      "    \"features\": {\n",
      "        \"shebanq\": {\n",
      "            \"node\": [\n",
      "                \"db.otype\",\n",
      "                \"sft.book,chapter,verse,verse_label\",\n",
      "                \"ft.text,text_plain,part_of_speech,phrase_dependent_part_of_speech,tense\",\n",
      "                \"ft.clause_constituent_relation\",\n",
      "                \"ft.phrase_atom_type\",\n",
      "                \"ft.paradigmatic_pron_suffix\",\n",
      "                \"ft.paradigmatic_verbal_ending\",\n",
      "                \"ft.graphical_pron_suffix\",\n",
      "                \"ft.graphical_pron_suffix_plain\",\n",
      "            ],\n",
      "            \"edge\": [\n",
      "                \"parents.\",\n",
      "            ],\n",
      "        },\n",
      "    },\n",
      "    \"primary\": False,\n",
      "})\n",
      "\n",
      "API = processor.API()\n",
      "F = API['F']\n",
      "NN = API['NN']\n",
      "msg = API['msg']\n",
      "P = API['P']\n",
      "C = API['C']\n",
      "Ci = API['Ci']"
     ],
     "language": "python",
     "metadata": {},
     "outputs": [
      {
       "output_type": "stream",
       "stream": "stderr",
       "text": [
        "  0.00s COMPILING source: UP TO DATE\n"
       ]
      },
      {
       "output_type": "stream",
       "stream": "stderr",
       "text": [
        "  0.00s COMPILING annox: UP TO DATE\n"
       ]
      },
      {
       "output_type": "stream",
       "stream": "stderr",
       "text": [
        "  0.00s loading common: node_anchor_min ... \n"
       ]
      },
      {
       "output_type": "stream",
       "stream": "stderr",
       "text": [
        "  0.15s loading common: node_anchor_max ... \n"
       ]
      },
      {
       "output_type": "stream",
       "stream": "stderr",
       "text": [
        "  0.28s loading common: node_events ... \n"
       ]
      },
      {
       "output_type": "stream",
       "stream": "stderr",
       "text": [
        "  1.13s loading common: node_events_n ... \n"
       ]
      },
      {
       "output_type": "stream",
       "stream": "stderr",
       "text": [
        "  1.47s loading common: node_events_k ... \n"
       ]
      },
      {
       "output_type": "stream",
       "stream": "stderr",
       "text": [
        "  1.69s loading common: node_sort ... \n"
       ]
      },
      {
       "output_type": "stream",
       "stream": "stderr",
       "text": [
        "  1.81s loading common: node_out ... \n"
       ]
      },
      {
       "output_type": "stream",
       "stream": "stderr",
       "text": [
        "  2.12s loading common: node_in ... \n"
       ]
      },
      {
       "output_type": "stream",
       "stream": "stderr",
       "text": [
        "  2.42s loading common: edges_from ... \n"
       ]
      },
      {
       "output_type": "stream",
       "stream": "stderr",
       "text": [
        "  2.54s loading common: edges_to ... \n"
       ]
      },
      {
       "output_type": "stream",
       "stream": "stderr",
       "text": [
        "  2.66s loading feature: feature ('shebanq', 'ft', 'graphical_pron_suffix_plain', 'node') ... \n"
       ]
      },
      {
       "output_type": "stream",
       "stream": "stderr",
       "text": [
        "  2.85s loading feature: feature ('shebanq', 'parents', '', 'edge') ... \n"
       ]
      },
      {
       "output_type": "stream",
       "stream": "stderr",
       "text": [
        "  3.28s loading feature: feature ('shebanq', 'ft', 'clause_constituent_relation', 'node') ... \n"
       ]
      },
      {
       "output_type": "stream",
       "stream": "stderr",
       "text": [
        "  3.35s loading feature: feature ('shebanq', 'ft', 'text', 'node') ... \n"
       ]
      },
      {
       "output_type": "stream",
       "stream": "stderr",
       "text": [
        "  3.95s loading feature: feature ('shebanq', 'ft', 'phrase_dependent_part_of_speech', 'node') ... \n"
       ]
      },
      {
       "output_type": "stream",
       "stream": "stderr",
       "text": [
        "  4.34s loading feature: feature ('shebanq', 'ft', 'phrase_atom_type', 'node') ... \n"
       ]
      },
      {
       "output_type": "stream",
       "stream": "stderr",
       "text": [
        "  4.55s loading feature: feature ('shebanq', 'ft', 'paradigmatic_verbal_ending', 'node') ... \n"
       ]
      },
      {
       "output_type": "stream",
       "stream": "stderr",
       "text": [
        "  4.90s loading feature: feature ('shebanq', 'ft', 'graphical_pron_suffix', 'node') ... \n"
       ]
      },
      {
       "output_type": "stream",
       "stream": "stderr",
       "text": [
        "  5.09s loading feature: feature ('shebanq', 'sft', 'book', 'node') ... \n"
       ]
      },
      {
       "output_type": "stream",
       "stream": "stderr",
       "text": [
        "  5.12s loading feature: feature ('shebanq', 'sft', 'verse', 'node') ... \n"
       ]
      },
      {
       "output_type": "stream",
       "stream": "stderr",
       "text": [
        "  5.14s loading feature: feature ('shebanq', 'ft', 'tense', 'node') ... \n"
       ]
      },
      {
       "output_type": "stream",
       "stream": "stderr",
       "text": [
        "  5.45s loading feature: feature ('shebanq', 'ft', 'text_plain', 'node') ... \n"
       ]
      },
      {
       "output_type": "stream",
       "stream": "stderr",
       "text": [
        "  5.89s loading feature: feature ('shebanq', 'db', 'otype', 'node') ... \n"
       ]
      },
      {
       "output_type": "stream",
       "stream": "stderr",
       "text": [
        "  6.96s loading feature: feature ('shebanq', 'ft', 'paradigmatic_pron_suffix', 'node') ... \n"
       ]
      },
      {
       "output_type": "stream",
       "stream": "stderr",
       "text": [
        "  7.29s loading feature: feature ('shebanq', 'ft', 'part_of_speech', 'node') ... \n"
       ]
      },
      {
       "output_type": "stream",
       "stream": "stderr",
       "text": [
        "  7.62s loading feature: feature ('shebanq', 'sft', 'chapter', 'node') ... \n"
       ]
      },
      {
       "output_type": "stream",
       "stream": "stderr",
       "text": [
        "  7.64s loading feature: feature ('shebanq', 'sft', 'verse_label', 'node') ... \n"
       ]
      },
      {
       "output_type": "stream",
       "stream": "stderr",
       "text": [
        "  7.67s loading annox: xfeature ('shebanq', 'ft', 'graphical_pron_suffix_plain', 'node') ... \n"
       ]
      },
      {
       "output_type": "stream",
       "stream": "stderr",
       "text": [
        "  7.67s loading annox: xfeature ('shebanq', 'parents', '', 'edge') ... \n"
       ]
      },
      {
       "output_type": "stream",
       "stream": "stderr",
       "text": [
        "  7.67s loading annox: xfeature ('shebanq', 'ft', 'clause_constituent_relation', 'node') ... \n"
       ]
      },
      {
       "output_type": "stream",
       "stream": "stderr",
       "text": [
        "  7.67s loading annox: xfeature ('shebanq', 'ft', 'text', 'node') ... \n"
       ]
      },
      {
       "output_type": "stream",
       "stream": "stderr",
       "text": [
        "  7.67s loading annox: xfeature ('shebanq', 'ft', 'phrase_dependent_part_of_speech', 'node') ... \n"
       ]
      },
      {
       "output_type": "stream",
       "stream": "stderr",
       "text": [
        "  7.67s loading annox: xfeature ('shebanq', 'ft', 'phrase_atom_type', 'node') ... \n"
       ]
      },
      {
       "output_type": "stream",
       "stream": "stderr",
       "text": [
        "  7.67s loading annox: xfeature ('shebanq', 'ft', 'paradigmatic_verbal_ending', 'node') ... \n"
       ]
      },
      {
       "output_type": "stream",
       "stream": "stderr",
       "text": [
        "  7.67s loading annox: xfeature ('shebanq', 'ft', 'graphical_pron_suffix', 'node') ... \n"
       ]
      },
      {
       "output_type": "stream",
       "stream": "stderr",
       "text": [
        "  7.67s loading annox: xfeature ('shebanq', 'sft', 'book', 'node') ... \n"
       ]
      },
      {
       "output_type": "stream",
       "stream": "stderr",
       "text": [
        "  7.67s loading annox: xfeature ('shebanq', 'sft', 'verse', 'node') ... \n"
       ]
      },
      {
       "output_type": "stream",
       "stream": "stderr",
       "text": [
        "  7.68s loading annox: xfeature ('shebanq', 'ft', 'tense', 'node') ... \n"
       ]
      },
      {
       "output_type": "stream",
       "stream": "stderr",
       "text": [
        "  7.68s loading annox: xfeature ('shebanq', 'ft', 'text_plain', 'node') ... \n"
       ]
      },
      {
       "output_type": "stream",
       "stream": "stderr",
       "text": [
        "  7.68s loading annox: xfeature ('shebanq', 'db', 'otype', 'node') ... \n"
       ]
      },
      {
       "output_type": "stream",
       "stream": "stderr",
       "text": [
        "  7.68s loading annox: xfeature ('shebanq', 'ft', 'paradigmatic_pron_suffix', 'node') ... \n"
       ]
      },
      {
       "output_type": "stream",
       "stream": "stderr",
       "text": [
        "  7.68s loading annox: xfeature ('shebanq', 'ft', 'part_of_speech', 'node') ... \n"
       ]
      },
      {
       "output_type": "stream",
       "stream": "stderr",
       "text": [
        "  7.68s loading annox: xfeature ('shebanq', 'sft', 'chapter', 'node') ... \n"
       ]
      },
      {
       "output_type": "stream",
       "stream": "stderr",
       "text": [
        "  7.68s loading annox: xfeature ('shebanq', 'sft', 'verse_label', 'node') ... \n"
       ]
      },
      {
       "output_type": "stream",
       "stream": "stderr",
       "text": [
        "  8.93s present feature: shebanq:ft.text (node) from source bhs3.txt.hdr, annox --\n"
       ]
      },
      {
       "output_type": "stream",
       "stream": "stderr",
       "text": [
        "  8.93s present feature: shebanq:ft.clause_constituent_relation (node) from source bhs3.txt.hdr, annox --\n"
       ]
      },
      {
       "output_type": "stream",
       "stream": "stderr",
       "text": [
        "  8.93s present feature: shebanq:parents. (edge) from source bhs3.txt.hdr, annox --\n"
       ]
      },
      {
       "output_type": "stream",
       "stream": "stderr",
       "text": [
        "  8.93s present feature: shebanq:ft.graphical_pron_suffix_plain (node) from source bhs3.txt.hdr, annox --\n"
       ]
      },
      {
       "output_type": "stream",
       "stream": "stderr",
       "text": [
        "  8.94s present feature: shebanq:ft.phrase_dependent_part_of_speech (node) from source bhs3.txt.hdr, annox --\n"
       ]
      },
      {
       "output_type": "stream",
       "stream": "stderr",
       "text": [
        "  8.94s present feature: shebanq:ft.phrase_atom_type (node) from source bhs3.txt.hdr, annox --\n"
       ]
      },
      {
       "output_type": "stream",
       "stream": "stderr",
       "text": [
        "  8.94s present feature: shebanq:ft.paradigmatic_verbal_ending (node) from source bhs3.txt.hdr, annox --\n"
       ]
      },
      {
       "output_type": "stream",
       "stream": "stderr",
       "text": [
        "  8.94s present feature: shebanq:ft.tense (node) from source bhs3.txt.hdr, annox --\n"
       ]
      },
      {
       "output_type": "stream",
       "stream": "stderr",
       "text": [
        "  8.94s present feature: shebanq:sft.book (node) from source bhs3.txt.hdr, annox --\n"
       ]
      },
      {
       "output_type": "stream",
       "stream": "stderr",
       "text": [
        "  8.94s present feature: shebanq:ft.graphical_pron_suffix (node) from source bhs3.txt.hdr, annox --\n"
       ]
      },
      {
       "output_type": "stream",
       "stream": "stderr",
       "text": [
        "  8.94s present feature: shebanq:sft.verse (node) from source bhs3.txt.hdr, annox --\n"
       ]
      },
      {
       "output_type": "stream",
       "stream": "stderr",
       "text": [
        "  8.94s present feature: shebanq:sft.verse_label (node) from source bhs3.txt.hdr, annox --\n"
       ]
      },
      {
       "output_type": "stream",
       "stream": "stderr",
       "text": [
        "  8.94s present feature: shebanq:ft.text_plain (node) from source bhs3.txt.hdr, annox --\n"
       ]
      },
      {
       "output_type": "stream",
       "stream": "stderr",
       "text": [
        "  8.94s present feature: shebanq:db.otype (node) from source bhs3.txt.hdr, annox --\n"
       ]
      },
      {
       "output_type": "stream",
       "stream": "stderr",
       "text": [
        "  8.94s present feature: shebanq:ft.paradigmatic_pron_suffix (node) from source bhs3.txt.hdr, annox --\n"
       ]
      },
      {
       "output_type": "stream",
       "stream": "stderr",
       "text": [
        "  8.94s present feature: shebanq:ft.part_of_speech (node) from source bhs3.txt.hdr, annox --\n"
       ]
      },
      {
       "output_type": "stream",
       "stream": "stderr",
       "text": [
        "  8.94s present feature: shebanq:sft.chapter (node) from source bhs3.txt.hdr, annox --\n"
       ]
      },
      {
       "output_type": "stream",
       "stream": "stderr",
       "text": [
        "  0.00s LOGFILE=/Users/dirk/Scratch/shebanq/results/bhs3.txt.hdr/participle/__log__participle.txt\n"
       ]
      },
      {
       "output_type": "stream",
       "stream": "stderr",
       "text": [
        "  0.00s BEGIN TASK=participle SOURCE=bhs3.txt.hdr\n"
       ]
      }
     ],
     "prompt_number": 2
    },
    {
     "cell_type": "heading",
     "level": 1,
     "metadata": {},
     "source": [
      "Data exploration"
     ]
    },
    {
     "cell_type": "markdown",
     "metadata": {},
     "source": [
      "In this section we investigate the values that some features take in the database"
     ]
    },
    {
     "cell_type": "heading",
     "level": 2,
     "metadata": {},
     "source": [
      "Part of speech tags"
     ]
    },
    {
     "cell_type": "markdown",
     "metadata": {},
     "source": [
      "The following pos-tags were found in the features ``part_of_speech`` and ``phrase_dependent_part_of_speech``.\n",
      "\n",
      "For most word occurrences, these values coincide.\n",
      "Where they differ, we output both, separated by a ``~``."
     ]
    },
    {
     "cell_type": "code",
     "collapsed": true,
     "input": [
      "poss = {}\n",
      "for i in NN(test=F.shebanq_db_otype.v, values=['word']):\n",
      "    pos = F.shebanq_ft_part_of_speech.v(i)\n",
      "    pdpos = F.shebanq_ft_phrase_dependent_part_of_speech.v(i)\n",
      "    poss[pos] = None\n",
      "    poss[pdpos] = None\n",
      "poss"
     ],
     "language": "python",
     "metadata": {},
     "outputs": [
      {
       "metadata": {},
       "output_type": "pyout",
       "prompt_number": 3,
       "text": [
        "{'adjective': None,\n",
        " 'adverb': None,\n",
        " 'article': None,\n",
        " 'conjunction': None,\n",
        " 'interjection': None,\n",
        " 'interrogative': None,\n",
        " 'negative': None,\n",
        " 'noun': None,\n",
        " 'preposition': None,\n",
        " 'pronoun': None,\n",
        " 'verb': None}"
       ]
      }
     ],
     "prompt_number": 3
    },
    {
     "cell_type": "heading",
     "level": 1,
     "metadata": {},
     "source": [
      "Trees"
     ]
    },
    {
     "cell_type": "markdown",
     "metadata": {},
     "source": [
      "Construct trees according to the parent relationship.\n",
      "Make indexes for\n",
      "\n",
      "* finding the sentence above each clause\n",
      "* finding the words in each clause"
     ]
    },
    {
     "cell_type": "code",
     "collapsed": false,
     "input": [
      "top_nodes = set()\n",
      "top_node_types = collections.defaultdict(lambda: 0)\n",
      "\n",
      "msg(\"Finding top nodes ... \")\n",
      "for node in NN(test=F.shebanq_db_otype.v, value='word'):\n",
      "    startnodes = set((node,))\n",
      "    level = 0\n",
      "    while startnodes:\n",
      "        if level > 100:\n",
      "            msg('WARNING: Deep nesting. Probably endless loop. Breaking out')\n",
      "            break\n",
      "        upnodes = set()\n",
      "        for startnode in startnodes:\n",
      "            otype = F.shebanq_db_otype.v(startnode)\n",
      "            parents = C.shebanq_parents_[''][startnode]\n",
      "            upnodes |= parents\n",
      "        if not upnodes:\n",
      "            top_nodes |= startnodes\n",
      "        startnodes = upnodes\n",
      "        level += 1\n",
      "msg(\"Top nodes found: {}\".format(len(top_nodes)))"
     ],
     "language": "python",
     "metadata": {},
     "outputs": [
      {
       "output_type": "stream",
       "stream": "stderr",
       "text": [
        "    18s Finding top nodes ... \n"
       ]
      },
      {
       "output_type": "stream",
       "stream": "stderr",
       "text": [
        "    24s Top nodes found: 71354\n"
       ]
      }
     ],
     "prompt_number": 4
    },
    {
     "cell_type": "heading",
     "level": 2,
     "metadata": {},
     "source": [
      "Clause constituent relations"
     ]
    },
    {
     "cell_type": "code",
     "collapsed": false,
     "input": [
      "nodes_seen = set()\n",
      "to_sentence = {}\n",
      "clause_words = collections.defaultdict(lambda: set())\n",
      "sentence_words = collections.defaultdict(lambda: set())\n",
      "sentence_verse = {}\n",
      "verse_label = None\n",
      "\n",
      "def walk_tree(node, sentence, clause):\n",
      "    if node in nodes_seen:\n",
      "        return\n",
      "    \n",
      "    nodes_seen.add(node)\n",
      "    to_sentence[node] = sentence\n",
      "    new_clause = clause\n",
      "\n",
      "    otype = F.shebanq_db_otype.v(node)\n",
      "    if otype == 'clause':\n",
      "        new_clause = node\n",
      "    if otype == 'word':\n",
      "        clause_words[clause].add(node)\n",
      "        sentence_words[sentence].add(node)\n",
      "    \n",
      "    children = Ci.shebanq_parents_[''][node]\n",
      "    for child in children:\n",
      "        walk_tree(child, sentence, new_clause)\n",
      "\n",
      "s = 0\n",
      "sc = 0\n",
      "chunk = 10000\n",
      "\n",
      "for node in NN(test=lambda n: n in top_nodes or F.shebanq_db_otype.v(n) == 'verse', value=True):\n",
      "    if F.shebanq_db_otype.v(node) == 'verse':\n",
      "        verse_label = F.shebanq_sft_verse_label.v(node)\n",
      "        continue\n",
      "    sentence_verse[node] = verse_label\n",
      "    nodes_seen = set()\n",
      "    walk_tree(node, node, None)\n",
      "    s += 1\n",
      "    sc += 1\n",
      "    if sc == chunk:\n",
      "        msg(\"{} trees visited\".format(s))\n",
      "        sc = 0\n",
      "    \n",
      "msg(\"{} trees visited\".format(s))"
     ],
     "language": "python",
     "metadata": {},
     "outputs": [
      {
       "output_type": "stream",
       "stream": "stderr",
       "text": [
        "    28s 10000 trees visited\n"
       ]
      },
      {
       "output_type": "stream",
       "stream": "stderr",
       "text": [
        "    31s 20000 trees visited\n"
       ]
      },
      {
       "output_type": "stream",
       "stream": "stderr",
       "text": [
        "    31s 30000 trees visited\n"
       ]
      },
      {
       "output_type": "stream",
       "stream": "stderr",
       "text": [
        "    32s 40000 trees visited\n"
       ]
      },
      {
       "output_type": "stream",
       "stream": "stderr",
       "text": [
        "    33s 50000 trees visited\n"
       ]
      },
      {
       "output_type": "stream",
       "stream": "stderr",
       "text": [
        "    33s 60000 trees visited\n"
       ]
      },
      {
       "output_type": "stream",
       "stream": "stderr",
       "text": [
        "    34s 70000 trees visited\n"
       ]
      },
      {
       "output_type": "stream",
       "stream": "stderr",
       "text": [
        "    34s 71354 trees visited\n"
       ]
      }
     ],
     "prompt_number": 5
    },
    {
     "cell_type": "code",
     "collapsed": true,
     "input": [
      "rels = collections.defaultdict(int)\n",
      "verse_label = None\n",
      "nr_of_examples = 3\n",
      "examples = collections.defaultdict(lambda: set())\n",
      "for i in NN(test=F.shebanq_db_otype.v, values=['clause', 'verse']):\n",
      "    if F.shebanq_db_otype.v(i) == 'verse':\n",
      "        verse_label = F.shebanq_sft_verse_label.v(i)\n",
      "    else:\n",
      "        ccr = F.shebanq_ft_clause_constituent_relation.v(i)\n",
      "        rels[ccr] += 1\n",
      "        if len(examples[ccr]) < nr_of_examples:\n",
      "            examples[ccr].add(i)\n",
      "for ccr in rels:\n",
      "    print(\"{}: {:>6} x\".format(ccr, rels[ccr]))\n",
      "\n",
      "print(\"\\n\")\n",
      "\n",
      "for ccr in sorted(examples):\n",
      "    for clause in examples[ccr]:\n",
      "        sentence = to_sentence[clause]\n",
      "        cwords = sorted(clause_words[clause])\n",
      "        swords = sorted(sentence_words[sentence])\n",
      "        vlabel = sentence_verse[sentence]\n",
      "#        print(\"{} in {}: {}\".format(ccr, vlabel, \" \".join([x[1] for x in P.data(i)])))\n",
      "        print(\"{:<4} {:<10} {}\\n{:<16}{}\".format(\n",
      "            ccr, \n",
      "            vlabel, \n",
      "            \" \".join([F.shebanq_ft_text.v(word) for word in cwords]),\n",
      "            '',\n",
      "            \" \".join([F.shebanq_ft_text.v(word) for word in swords]),\n",
      "        ))\n",
      "        "
     ],
     "language": "python",
     "metadata": {},
     "outputs": [
      {
       "output_type": "stream",
       "stream": "stdout",
       "text": [
        "none:  75059 x\n",
        "Coor:    908 x\n",
        "RgRc:    114 x\n",
        "Resu:    976 x\n",
        "Objc:   1066 x\n",
        "Subj:    241 x\n",
        "CoVo:    143 x\n",
        "Pred:     91 x\n",
        "Adju:   4910 x\n",
        "Cmpl:     75 x\n",
        "Attr:   4804 x\n",
        "\n",
        "\n",
        "Adju  GEN 01,16 \u05dc\u05b0 \u05d4\u05b8\u05d0\u05b4\u0596\u05d9\u05e8 \u05e2\u05b7\u05dc \u05d4\u05b8 \u05d0\u05b8\u05bd\u05e8\u05b6\u05e5\n",
        "                \u05d5\u05b7 \u05d9\u05b4\u05bc\u05ea\u05b5\u05bc\u05a5\u05df \u05d0\u05b9\u05ea\u05b8\u059b\u05dd \u05d0\u05b1\u05dc\u05b9\u05d4\u05b4\u0596\u05d9\u05dd \u05d1\u05b4\u05bc \u05e8\u05b0\u05e7\u05b4\u05a3\u05d9\u05e2\u05b7 \u05d4\u05b7 \u05e9\u05b8\u05bc\u05c1\u05de\u05b8\u0591\u05d9\u05b4\u05dd \u05dc\u05b0 \u05d4\u05b8\u05d0\u05b4\u0596\u05d9\u05e8 \u05e2\u05b7\u05dc \u05d4\u05b8 \u05d0\u05b8\u05bd\u05e8\u05b6\u05e5 \u05d5\u05b0 \u05dc\u05b4 \u05de\u05b0\u05e9\u05b9\u05c1\u05dc\u0599 \u05d1\u05b7\u05bc  \u05d9\u05b9\u05bc\u05a3\u05d5\u05dd \u05d5\u05bc \u05d1\u05b7  \u05dc\u05b7\u05bc\u0594\u05d9\u05b0\u05dc\u05b8\u05d4 \u05d5\u05bc\u05bd \u05dc\u05b2 \u05d4\u05b7\u05d1\u05b0\u05d3\u05b4\u05bc\u0594\u05d9\u05dc \u05d1\u05b5\u05bc\u05a5\u05d9\u05df \u05d4\u05b8 \u05d0\u05b9\u0596\u05d5\u05e8 \u05d5\u05bc \u05d1\u05b5\u05a3\u05d9\u05df \u05d4\u05b7 \u05d7\u05b9\u0591\u05e9\u05b6\u05c1\u05da\u05b0\n",
        "Adju  GEN 01,15 \u05dc\u05b0 \u05d4\u05b8\u05d0\u05b4\u0596\u05d9\u05e8 \u05e2\u05b7\u05dc \u05d4\u05b8 \u05d0\u05b8\u0591\u05e8\u05b6\u05e5\n",
        "                \u05d5\u05b0 \u05d4\u05b8\u05d9\u05a4\u05d5\u05bc \u05dc\u05b4 \u05de\u05b0\u05d0\u05b9\u05d5\u05e8\u05b9\u05ea\u0599 \u05d1\u05b4\u05bc \u05e8\u05b0\u05e7\u05b4\u05a3\u05d9\u05e2\u05b7 \u05d4\u05b7 \u05e9\u05b8\u05bc\u05c1\u05de\u05b7\u0594\u05d9\u05b4\u05dd \u05dc\u05b0 \u05d4\u05b8\u05d0\u05b4\u0596\u05d9\u05e8 \u05e2\u05b7\u05dc \u05d4\u05b8 \u05d0\u05b8\u0591\u05e8\u05b6\u05e5\n",
        "Adju  GEN 01,14 \u05dc\u05b0 \u05d4\u05b7\u05d1\u05b0\u05d3\u05b4\u05bc\u0595\u05d9\u05dc \u05d1\u05b5\u05bc\u05a5\u05d9\u05df \u05d4\u05b7 \u05d9\u05b9\u05bc\u0596\u05d5\u05dd \u05d5\u05bc \u05d1\u05b5\u05a3\u05d9\u05df \u05d4\u05b7 \u05dc\u05b8\u05bc\u0591\u05d9\u05b0\u05dc\u05b8\u05d4\n",
        "                \u05d9\u05b0\u05d4\u05b4\u05a4\u05d9 \u05de\u05b0\u05d0\u05b9\u05e8\u05b9\u05ea\u0599 \u05d1\u05b4\u05bc \u05e8\u05b0\u05e7\u05b4\u05a3\u05d9\u05e2\u05b7 \u05d4\u05b7 \u05e9\u05b8\u05bc\u05c1\u05de\u05b7\u0594\u05d9\u05b4\u05dd \u05dc\u05b0 \u05d4\u05b7\u05d1\u05b0\u05d3\u05b4\u05bc\u0595\u05d9\u05dc \u05d1\u05b5\u05bc\u05a5\u05d9\u05df \u05d4\u05b7 \u05d9\u05b9\u05bc\u0596\u05d5\u05dd \u05d5\u05bc \u05d1\u05b5\u05a3\u05d9\u05df \u05d4\u05b7 \u05dc\u05b8\u05bc\u0591\u05d9\u05b0\u05dc\u05b8\u05d4\n",
        "Attr  GEN 01,07 \u05d0\u05b2\u05e9\u05b6\u05c1\u0596\u05e8 \u05de\u05b5 \u05e2\u05b7\u05a3\u05dc \u05dc\u05b8  \u05e8\u05b8\u05e7\u05b4\u0591\u05d9\u05e2\u05b7\n",
        "                \u05d5\u05b7 \u05d9\u05b7\u05bc\u05d1\u05b0\u05d3\u05b5\u05bc\u0597\u05dc \u05d1\u05b5\u05bc\u05a4\u05d9\u05df \u05d4\u05b7 \u05de\u05b7\u05bc\u05a8\u05d9\u05b4\u05dd\u0599 \u05d0\u05b2\u05e9\u05b6\u05c1\u05e8\u0599 \u05de\u05b4 \u05ea\u05b7\u05bc\u05a3\u05d7\u05b7\u05ea \u05dc\u05b8  \u05e8\u05b8\u05e7\u05b4\u0594\u05d9\u05e2\u05b7 \u05d5\u05bc \u05d1\u05b5\u05a3\u05d9\u05df \u05d4\u05b7 \u05de\u05b7\u05bc\u0594\u05d9\u05b4\u05dd \u05d0\u05b2\u05e9\u05b6\u05c1\u0596\u05e8 \u05de\u05b5 \u05e2\u05b7\u05a3\u05dc \u05dc\u05b8  \u05e8\u05b8\u05e7\u05b4\u0591\u05d9\u05e2\u05b7\n",
        "Attr  GEN 01,11 \u05de\u05b7\u05d6\u05b0\u05e8\u05b4\u05a3\u05d9\u05e2\u05b7 \u05d6\u05b6\u0594\u05e8\u05b7\u05e2\n",
        "                \u05ea\u05b7\u05bc\u05bd\u05d3\u05b0\u05e9\u05b5\u05c1\u05a4\u05d0 \u05d4\u05b8 \u05d0\u05b8\u05a8\u05e8\u05b6\u05e5\u0599 \u05d3\u05b6\u05bc\u0594\u05e9\u05b6\u05c1\u05d0 \u05e2\u05b5\u059a\u05e9\u05b6\u05c2\u05d1 \u05de\u05b7\u05d6\u05b0\u05e8\u05b4\u05a3\u05d9\u05e2\u05b7 \u05d6\u05b6\u0594\u05e8\u05b7\u05e2 \u05e2\u05b5\u05a3\u05e5 \u05e4\u05b0\u05bc\u05e8\u05b4\u059e\u05d9 \u05e2\u05b9\u05a4\u05e9\u05b6\u05c2\u05d4 \u05e4\u05b0\u05bc\u05e8\u05b4\u05d9\u0599 \u05dc\u05b0 \u05de\u05b4\u05d9\u05e0\u05b9\u0594\u05d5 \u05d0\u05b2\u05e9\u05b6\u05c1\u05a5\u05e8 \u05d6\u05b7\u05e8\u05b0\u05e2\u05b9\u05d5 \u05d1\u05b9\u0596\u05d5 \u05e2\u05b7\u05dc \u05d4\u05b8 \u05d0\u05b8\u0591\u05e8\u05b6\u05e5\n",
        "Attr  GEN 01,07 \u05d0\u05b2\u05e9\u05b6\u05c1\u05e8\u0599 \u05de\u05b4 \u05ea\u05b7\u05bc\u05a3\u05d7\u05b7\u05ea \u05dc\u05b8  \u05e8\u05b8\u05e7\u05b4\u0594\u05d9\u05e2\u05b7\n",
        "                \u05d5\u05b7 \u05d9\u05b7\u05bc\u05d1\u05b0\u05d3\u05b5\u05bc\u0597\u05dc \u05d1\u05b5\u05bc\u05a4\u05d9\u05df \u05d4\u05b7 \u05de\u05b7\u05bc\u05a8\u05d9\u05b4\u05dd\u0599 \u05d0\u05b2\u05e9\u05b6\u05c1\u05e8\u0599 \u05de\u05b4 \u05ea\u05b7\u05bc\u05a3\u05d7\u05b7\u05ea \u05dc\u05b8  \u05e8\u05b8\u05e7\u05b4\u0594\u05d9\u05e2\u05b7 \u05d5\u05bc \u05d1\u05b5\u05a3\u05d9\u05df \u05d4\u05b7 \u05de\u05b7\u05bc\u0594\u05d9\u05b4\u05dd \u05d0\u05b2\u05e9\u05b6\u05c1\u0596\u05e8 \u05de\u05b5 \u05e2\u05b7\u05a3\u05dc \u05dc\u05b8  \u05e8\u05b8\u05e7\u05b4\u0591\u05d9\u05e2\u05b7\n",
        "Cmpl  GEN 32,14 \u05de\u05b4\u05df \u05d4\u05b7 \u05d1\u05b8\u05bc\u05a7\u05d0 \u05d1\u05b0 \u05d9\u05b8\u05d3\u05b9\u059b\u05d5\n",
        "                \u05d5\u05b7 \u05d9\u05b4\u05bc\u05e7\u05b7\u05bc\u059e\u05d7 \u05de\u05b4\u05df \u05d4\u05b7 \u05d1\u05b8\u05bc\u05a7\u05d0 \u05d1\u05b0 \u05d9\u05b8\u05d3\u05b9\u059b\u05d5 \u05de\u05b4\u05e0\u05b0\u05d7\u05b8\u0596\u05d4 \u05dc\u05b0 \u05e2\u05b5\u05e9\u05b8\u05c2\u05a5\u05d5 \u05d0\u05b8\u05d7\u05b4\u05bd\u05d9\u05d5 \u05e2\u05b4\u05d6\u05b4\u05bc\u05a3\u05d9\u05dd \u05de\u05b8\u05d0\u05ea\u05b7\u0594\u05d9\u05b4\u05dd \u05d5\u05bc \u05ea\u05b0\u05d9\u05b8\u05e9\u05b4\u05c1\u0596\u05d9\u05dd \u05e2\u05b6\u05e9\u05b0\u05c2\u05e8\u05b4\u0591\u05d9\u05dd \u05e8\u05b0\u05d7\u05b5\u05dc\u05b4\u05a5\u05d9\u05dd \u05de\u05b8\u05d0\u05ea\u05b7\u0596\u05d9\u05b4\u05dd \u05d5\u05b0 \u05d0\u05b5\u05d9\u05dc\u05b4\u05a5\u05d9\u05dd \u05e2\u05b6\u05e9\u05b0\u05c2\u05e8\u05b4\u05bd\u05d9\u05dd \u05d2\u05b0\u05bc\u05de\u05b7\u05dc\u05b4\u05bc\u05a7\u05d9\u05dd \u05de\u05b5\u05d9\u05e0\u05b4\u05d9\u05e7\u05b9\u059b\u05d5\u05ea \u05d5\u05bc \u05d1\u05b0\u05e0\u05b5\u05d9\u05d4\u05b6\u0596\u05dd \u05e9\u05b0\u05c1\u05dc\u05b9\u05e9\u05b4\u05c1\u0591\u05d9\u05dd \u05e4\u05b8\u05bc\u05e8\u05b9\u05a4\u05d5\u05ea \u05d0\u05b7\u05e8\u05b0\u05d1\u05b8\u05bc\u05e2\u05b4\u05d9\u05dd\u0599 \u05d5\u05bc \u05e4\u05b8\u05e8\u05b4\u05a3\u05d9\u05dd \u05e2\u05b2\u05e9\u05b8\u05c2\u05e8\u05b8\u0594\u05d4 \u05d0\u05b2\u05ea\u05b9\u05e0\u05b9\u05a3\u05ea \u05e2\u05b6\u05e9\u05b0\u05c2\u05e8\u05b4\u0594\u05d9\u05dd \u05d5\u05b7 \u05e2\u05b0\u05d9\u05b8\u05e8\u05b4\u0596\u05dd \u05e2\u05b2\u05e9\u05b8\u05c2\u05e8\u05b8\u05bd\u05d4\n",
        "Cmpl  GEN 31,01 \u05d5\u05bc \u05de\u05b5 \u05d0\u05b2\u05e9\u05b6\u05c1\u05a3\u05e8 \u05dc\u05b0 \u05d0\u05b8\u05d1\u05b4\u0594\u05d9\u05e0\u05d5\u05bc\n",
        "                \u05d5\u05bc \u05de\u05b5 \u05d0\u05b2\u05e9\u05b6\u05c1\u05a3\u05e8 \u05dc\u05b0 \u05d0\u05b8\u05d1\u05b4\u0594\u05d9\u05e0\u05d5\u05bc \u05e2\u05b8\u05e9\u05b8\u05c2\u0595\u05d4 \u05d0\u05b5\u05a5\u05ea \u05db\u05b8\u05bc\u05dc \u05d4\u05b7 \u05db\u05b8\u05bc\u05d1\u05b9\u0596\u05d3 \u05d4\u05b7 \u05d6\u05b6\u05bc\u05bd\u05d4\n",
        "Cmpl  GEN 30,18 \u05d0\u05b2\u05e9\u05b6\u05c1\u05e8 \u05e0\u05b8\u05ea\u05b7\u05a5\u05ea\u05b4\u05bc\u05d9 \u05e9\u05b4\u05c1\u05e4\u05b0\u05d7\u05b8\u05ea\u05b4\u0596\u05d9 \u05dc\u05b0 \u05d0\u05b4\u05d9\u05e9\u05b4\u05c1\u0591\u05d9\n",
        "                \u05e0\u05b8\u05ea\u05b7\u05a4\u05df \u05d0\u05b1\u05dc\u05b9\u05d4\u05b4\u05d9\u05dd\u0599 \u05e9\u05b0\u05c2\u05db\u05b8\u05e8\u05b4\u0594\u05d9 \u05d0\u05b2\u05e9\u05b6\u05c1\u05e8 \u05e0\u05b8\u05ea\u05b7\u05a5\u05ea\u05b4\u05bc\u05d9 \u05e9\u05b4\u05c1\u05e4\u05b0\u05d7\u05b8\u05ea\u05b4\u0596\u05d9 \u05dc\u05b0 \u05d0\u05b4\u05d9\u05e9\u05b4\u05c1\u0591\u05d9\n",
        "CoVo  GEN 24,12 \u05d4\u05b7\u05e7\u05b0\u05e8\u05b5\u05d4 \u05e0\u05b8\u05a5\u05d0 \u05dc\u05b0 \u05e4\u05b8\u05e0\u05b7\u0596\u05d9 \u05d4\u05b7 \u05d9\u05b9\u05bc\u0591\u05d5\u05dd\n",
        "                \u05d9\u05b0\u05d4\u05d5\u05b8\u0597\u05d4 \u05d0\u05b1\u05dc\u05b9\u05d4\u05b5\u05d9\u0599 \u05d0\u05b2\u05d3\u05b9\u05e0\u05b4\u05a3\u05d9 \u05d0\u05b7\u05d1\u05b0\u05e8\u05b8\u05d4\u05b8\u0594\u05dd \u05d4\u05b7\u05e7\u05b0\u05e8\u05b5\u05d4 \u05e0\u05b8\u05a5\u05d0 \u05dc\u05b0 \u05e4\u05b8\u05e0\u05b7\u0596\u05d9 \u05d4\u05b7 \u05d9\u05b9\u05bc\u0591\u05d5\u05dd \u05d5\u05b7 \u05e2\u05b2\u05e9\u05b5\u05c2\u05d4 \u05d7\u05b6\u0595\u05e1\u05b6\u05d3 \u05e2\u05b4\u0596\u05dd \u05d0\u05b2\u05d3\u05b9\u05e0\u05b4\u05a5\u05d9 \u05d0\u05b7\u05d1\u05b0\u05e8\u05b8\u05d4\u05b8\u05bd\u05dd \u05d4\u05b4\u05e0\u05b5\u05bc\u059b\u05d4 \u05d0\u05b8\u05e0\u05b9\u05db\u05b4\u05a5\u05d9 \u05e0\u05b4\u05e6\u05b8\u05bc\u0596\u05d1 \u05e2\u05b7\u05dc \u05e2\u05b5\u05a3\u05d9\u05df \u05d4\u05b7 \u05de\u05b8\u05bc\u0591\u05d9\u05b4\u05dd\n",
        "CoVo  GEN 16,08 \u05d0\u05b5\u05bd\u05d9 \u05de\u05b4 \u05d6\u05b6\u05bc\u05a5\u05d4 \u05d1\u05b8\u0596\u05d0\u05ea\n",
        "                \u05d4\u05b8\u05d2\u05b8\u059e\u05e8 \u05e9\u05b4\u05c1\u05e4\u05b0\u05d7\u05b7\u05a5\u05ea \u05e9\u05b8\u05c2\u05e8\u05b7\u059b\u05d9 \u05d0\u05b5\u05bd\u05d9 \u05de\u05b4 \u05d6\u05b6\u05bc\u05a5\u05d4 \u05d1\u05b8\u0596\u05d0\u05ea \u05d5\u05b0 \u05d0\u05b8\u05a3\u05e0\u05b8\u05d4 \u05ea\u05b5\u05dc\u05b5\u0591\u05db\u05b4\u05d9\n",
        "CoVo  GEN 15,02 \u05de\u05b7\u05d4 \u05ea\u05b4\u05bc\u05ea\u05b6\u05bc\u05df \u05dc\u05b4\u0594\u05d9\n",
        "                \u05d0\u05b2\u05d3\u05b9\u05e0\u05b8\u05a4\u05d9 \u05d9\u05b1\u05d4\u05d5\u05b4\u05d4\u0599 \u05de\u05b7\u05d4 \u05ea\u05b4\u05bc\u05ea\u05b6\u05bc\u05df \u05dc\u05b4\u0594\u05d9 \u05d5\u05b0 \u05d0\u05b8\u05e0\u05b9\u05db\u05b4\u0596\u05d9 \u05d4\u05b9\u05d5\u05dc\u05b5\u05a3\u05da\u05b0 \u05e2\u05b2\u05e8\u05b4\u05d9\u05e8\u05b4\u0591\u05d9\n",
        "Coor  GEN 02,09 \u05d5\u05b0 \u05d8\u05b9\u05a3\u05d5\u05d1 \u05dc\u05b0 \u05de\u05b7\u05d0\u05b2\u05db\u05b8\u0591\u05dc\n",
        "                \u05d5\u05b7 \u05d9\u05b7\u05bc\u05e6\u05b0\u05de\u05b7\u059e\u05d7 \u05d9\u05b0\u05d4\u05d5\u05b8\u05a4\u05d4 \u05d0\u05b1\u05dc\u05b9\u05d4\u05b4\u05d9\u05dd\u0599 \u05de\u05b4\u05df \u05d4\u05b8\u05a3 \u05d0\u05b2\u05d3\u05b8\u05de\u05b8\u0594\u05d4 \u05db\u05b8\u05bc\u05dc \u05e2\u05b5\u059b\u05e5 \u05e0\u05b6\u05d7\u05b0\u05de\u05b8\u05a5\u05d3 \u05dc\u05b0 \u05de\u05b7\u05e8\u05b0\u05d0\u05b6\u0596\u05d4 \u05d5\u05b0 \u05d8\u05b9\u05a3\u05d5\u05d1 \u05dc\u05b0 \u05de\u05b7\u05d0\u05b2\u05db\u05b8\u0591\u05dc \u05d5\u05b0 \u05e2\u05b5\u05a4\u05e5 \u05d4\u05b7\u05bd \u05d7\u05b7\u05d9\u05b4\u05bc\u05d9\u05dd\u0599 \u05d1\u05b0\u05bc \u05ea\u05b9\u05a3\u05d5\u05da\u05b0 \u05d4\u05b7 \u05d2\u05b8\u05bc\u0594\u05df \u05d5\u05b0 \u05e2\u05b5\u0595\u05e5 \u05d4\u05b7 \u05d3\u05b7\u05bc\u0596\u05e2\u05b7\u05ea \u05d8\u05b9\u05a5\u05d5\u05d1 \u05d5\u05b8 \u05e8\u05b8\u05bd\u05e2\n",
        "Coor  GEN 01,16 \u05d5\u05b0 \u05dc\u05b4 \u05de\u05b0\u05e9\u05b9\u05c1\u05dc\u0599 \u05d1\u05b7\u05bc  \u05d9\u05b9\u05bc\u05a3\u05d5\u05dd \u05d5\u05bc \u05d1\u05b7  \u05dc\u05b7\u05bc\u0594\u05d9\u05b0\u05dc\u05b8\u05d4\n",
        "                \u05d5\u05b7 \u05d9\u05b4\u05bc\u05ea\u05b5\u05bc\u05a5\u05df \u05d0\u05b9\u05ea\u05b8\u059b\u05dd \u05d0\u05b1\u05dc\u05b9\u05d4\u05b4\u0596\u05d9\u05dd \u05d1\u05b4\u05bc \u05e8\u05b0\u05e7\u05b4\u05a3\u05d9\u05e2\u05b7 \u05d4\u05b7 \u05e9\u05b8\u05bc\u05c1\u05de\u05b8\u0591\u05d9\u05b4\u05dd \u05dc\u05b0 \u05d4\u05b8\u05d0\u05b4\u0596\u05d9\u05e8 \u05e2\u05b7\u05dc \u05d4\u05b8 \u05d0\u05b8\u05bd\u05e8\u05b6\u05e5 \u05d5\u05b0 \u05dc\u05b4 \u05de\u05b0\u05e9\u05b9\u05c1\u05dc\u0599 \u05d1\u05b7\u05bc  \u05d9\u05b9\u05bc\u05a3\u05d5\u05dd \u05d5\u05bc \u05d1\u05b7  \u05dc\u05b7\u05bc\u0594\u05d9\u05b0\u05dc\u05b8\u05d4 \u05d5\u05bc\u05bd \u05dc\u05b2 \u05d4\u05b7\u05d1\u05b0\u05d3\u05b4\u05bc\u0594\u05d9\u05dc \u05d1\u05b5\u05bc\u05a5\u05d9\u05df \u05d4\u05b8 \u05d0\u05b9\u0596\u05d5\u05e8 \u05d5\u05bc \u05d1\u05b5\u05a3\u05d9\u05df \u05d4\u05b7 \u05d7\u05b9\u0591\u05e9\u05b6\u05c1\u05da\u05b0\n",
        "Coor  GEN 01,16 \u05d5\u05bc\u05bd \u05dc\u05b2 \u05d4\u05b7\u05d1\u05b0\u05d3\u05b4\u05bc\u0594\u05d9\u05dc \u05d1\u05b5\u05bc\u05a5\u05d9\u05df \u05d4\u05b8 \u05d0\u05b9\u0596\u05d5\u05e8 \u05d5\u05bc \u05d1\u05b5\u05a3\u05d9\u05df \u05d4\u05b7 \u05d7\u05b9\u0591\u05e9\u05b6\u05c1\u05da\u05b0\n",
        "                \u05d5\u05b7 \u05d9\u05b4\u05bc\u05ea\u05b5\u05bc\u05a5\u05df \u05d0\u05b9\u05ea\u05b8\u059b\u05dd \u05d0\u05b1\u05dc\u05b9\u05d4\u05b4\u0596\u05d9\u05dd \u05d1\u05b4\u05bc \u05e8\u05b0\u05e7\u05b4\u05a3\u05d9\u05e2\u05b7 \u05d4\u05b7 \u05e9\u05b8\u05bc\u05c1\u05de\u05b8\u0591\u05d9\u05b4\u05dd \u05dc\u05b0 \u05d4\u05b8\u05d0\u05b4\u0596\u05d9\u05e8 \u05e2\u05b7\u05dc \u05d4\u05b8 \u05d0\u05b8\u05bd\u05e8\u05b6\u05e5 \u05d5\u05b0 \u05dc\u05b4 \u05de\u05b0\u05e9\u05b9\u05c1\u05dc\u0599 \u05d1\u05b7\u05bc  \u05d9\u05b9\u05bc\u05a3\u05d5\u05dd \u05d5\u05bc \u05d1\u05b7  \u05dc\u05b7\u05bc\u0594\u05d9\u05b0\u05dc\u05b8\u05d4 \u05d5\u05bc\u05bd \u05dc\u05b2 \u05d4\u05b7\u05d1\u05b0\u05d3\u05b4\u05bc\u0594\u05d9\u05dc \u05d1\u05b5\u05bc\u05a5\u05d9\u05df \u05d4\u05b8 \u05d0\u05b9\u0596\u05d5\u05e8 \u05d5\u05bc \u05d1\u05b5\u05a3\u05d9\u05df \u05d4\u05b7 \u05d7\u05b9\u0591\u05e9\u05b6\u05c1\u05da\u05b0\n",
        "Objc  GEN 01,12 \u05db\u05b4\u05bc\u05d9 \u05d8\u05b9\u05bd\u05d5\u05d1\n",
        "                \u05d5\u05b7 \u05d9\u05b7\u05bc\u05a5\u05e8\u05b0\u05d0 \u05d0\u05b1\u05dc\u05b9\u05d4\u05b4\u0596\u05d9\u05dd \u05db\u05b4\u05bc\u05d9 \u05d8\u05b9\u05bd\u05d5\u05d1\n",
        "Objc  GEN 01,04 \u05db\u05b4\u05bc\u05d9 \u05d8\u05b9\u0591\u05d5\u05d1\n",
        "                \u05d5\u05b7 \u05d9\u05b7\u05bc\u05a7\u05e8\u05b0\u05d0 \u05d0\u05b1\u05dc\u05b9\u05d4\u05b4\u059b\u05d9\u05dd \u05d0\u05b6\u05ea \u05d4\u05b8 \u05d0\u05b9\u0596\u05d5\u05e8 \u05db\u05b4\u05bc\u05d9 \u05d8\u05b9\u0591\u05d5\u05d1\n",
        "Objc  GEN 01,10 \u05db\u05b4\u05bc\u05d9 \u05d8\u05b9\u05bd\u05d5\u05d1\n",
        "                \u05d5\u05b7 \u05d9\u05b7\u05bc\u05a5\u05e8\u05b0\u05d0 \u05d0\u05b1\u05dc\u05b9\u05d4\u05b4\u0596\u05d9\u05dd \u05db\u05b4\u05bc\u05d9 \u05d8\u05b9\u05bd\u05d5\u05d1\n",
        "Pred  GEN 02,11 \u05d4\u05b7 \u05e1\u05b9\u05bc\u05d1\u05b5\u0597\u05d1 \u05d0\u05b5\u059a\u05ea \u05db\u05b8\u05bc\u05dc \u05d0\u05b6\u05a3\u05e8\u05b6\u05e5 \u05d4\u05b7\u05bd \u05d7\u05b2\u05d5\u05b4\u05d9\u05dc\u05b8\u0594\u05d4\n",
        "                \u05e9\u05b5\u05c1\u05a5\u05dd \u05d4\u05b8\u05bd \u05d0\u05b6\u05d7\u05b8\u0596\u05d3 \u05e4\u05b4\u05bc\u05d9\u05e9\u05b9\u05c1\u0591\u05d5\u05df \u05d4\u05a3\u05d5\u05bc\u05d0 \u05d4\u05b7 \u05e1\u05b9\u05bc\u05d1\u05b5\u0597\u05d1 \u05d0\u05b5\u059a\u05ea \u05db\u05b8\u05bc\u05dc \u05d0\u05b6\u05a3\u05e8\u05b6\u05e5 \u05d4\u05b7\u05bd \u05d7\u05b2\u05d5\u05b4\u05d9\u05dc\u05b8\u0594\u05d4 \u05d0\u05b2\u05e9\u05b6\u05c1\u05e8 \u05e9\u05b8\u05c1\u0596\u05dd \u05d4\u05b7 \u05d6\u05b8\u05bc\u05d4\u05b8\u05bd\u05d1\n",
        "Pred  GEN 02,14 \u05d4\u05b7\u05bd \u05d4\u05b9\u05dc\u05b5\u0596\u05da\u05b0 \u05e7\u05b4\u05d3\u05b0\u05de\u05b7\u05a3\u05ea \u05d0\u05b7\u05e9\u05bc\u05c1\u0591\u05d5\u05bc\u05e8\n",
        "                \u05d5\u05b0 \u05e9\u05b5\u05c1\u05a8\u05dd \u05d4\u05b7 \u05e0\u05b8\u05bc\u05d4\u05b8\u05a4\u05e8 \u05d4\u05b7 \u05e9\u05b0\u05bc\u05c1\u05dc\u05b4\u05d9\u05e9\u05b4\u05c1\u05d9\u0599 \u05d7\u05b4\u05d3\u05b6\u05bc\u0594\u05e7\u05b6\u05dc \u05d4\u05a5\u05d5\u05bc\u05d0 \u05d4\u05b7\u05bd \u05d4\u05b9\u05dc\u05b5\u0596\u05da\u05b0 \u05e7\u05b4\u05d3\u05b0\u05de\u05b7\u05a3\u05ea \u05d0\u05b7\u05e9\u05bc\u05c1\u0591\u05d5\u05bc\u05e8\n",
        "Pred  GEN 02,13 \u05d4\u05b7 \u05e1\u05b9\u05bc\u05d5\u05d1\u05b5\u0594\u05d1 \u05d0\u05b5\u0596\u05ea \u05db\u05b8\u05bc\u05dc \u05d0\u05b6\u05a5\u05e8\u05b6\u05e5 \u05db\u05bc\u05bd\u05d5\u05bc\u05e9\u05c1\n",
        "                \u05d5\u05b0 \u05e9\u05b5\u05bd\u05c1\u05dd \u05d4\u05b7 \u05e0\u05b8\u05bc\u05d4\u05b8\u05a5\u05e8 \u05d4\u05b7 \u05e9\u05b5\u05bc\u05c1\u05e0\u05b4\u0596\u05d9 \u05d2\u05b4\u05bc\u05d9\u05d7\u05b9\u0591\u05d5\u05df \u05d4\u05a3\u05d5\u05bc\u05d0 \u05d4\u05b7 \u05e1\u05b9\u05bc\u05d5\u05d1\u05b5\u0594\u05d1 \u05d0\u05b5\u0596\u05ea \u05db\u05b8\u05bc\u05dc \u05d0\u05b6\u05a5\u05e8\u05b6\u05e5 \u05db\u05bc\u05bd\u05d5\u05bc\u05e9\u05c1\n",
        "Resu  GEN 02,04 \u05d5\u05b0 \u05db\u05b9\u05a3\u05dc \u05e9\u05b4\u05c2\u05a3\u05d9\u05d7\u05b7 \u05d4\u05b7 \u05e9\u05b8\u05bc\u05c2\u05d3\u05b6\u0597\u05d4 \u05d8\u05b6\u059a\u05e8\u05b6\u05dd \u05d9\u05b4\u05bd\u05d4\u05b0\u05d9\u05b6\u05a3\u05d4 \u05d1\u05b8  \u05d0\u05b8\u0594\u05e8\u05b6\u05e5\n",
        "                \u05d1\u05b0\u05bc \u05d9\u05b9\u0597\u05d5\u05dd \u05e2\u05b2\u05e9\u05b9\u05c2\u059b\u05d5\u05ea \u05d9\u05b0\u05d4\u05d5\u05b8\u05a5\u05d4 \u05d0\u05b1\u05dc\u05b9\u05d4\u05b4\u0596\u05d9\u05dd \u05d0\u05b6\u05a5\u05e8\u05b6\u05e5 \u05d5\u05b0 \u05e9\u05b8\u05c1\u05de\u05b8\u05bd\u05d9\u05b4\u05dd \u05d5\u05b0 \u05db\u05b9\u05a3\u05dc \u05e9\u05b4\u05c2\u05a3\u05d9\u05d7\u05b7 \u05d4\u05b7 \u05e9\u05b8\u05bc\u05c2\u05d3\u05b6\u0597\u05d4 \u05d8\u05b6\u059a\u05e8\u05b6\u05dd \u05d9\u05b4\u05bd\u05d4\u05b0\u05d9\u05b6\u05a3\u05d4 \u05d1\u05b8  \u05d0\u05b8\u0594\u05e8\u05b6\u05e5 \u05d5\u05b0 \u05db\u05b8\u05dc \u05e2\u05b5\u05a5\u05e9\u05b6\u05c2\u05d1 \u05d4\u05b7 \u05e9\u05b8\u05bc\u05c2\u05d3\u05b6\u0596\u05d4 \u05d8\u05b6\u05a3\u05e8\u05b6\u05dd \u05d9\u05b4\u05e6\u05b0\u05de\u05b8\u0591\u05d7\n",
        "Resu  GEN 02,14 \u05d4\u05a5\u05d5\u05bc\u05d0 \u05e4\u05b0\u05e8\u05b8\u05bd\u05ea\n",
        "                \u05d5\u05b0 \u05d4\u05b7 \u05e0\u05b8\u05bc\u05d4\u05b8\u05a5\u05e8 \u05d4\u05b8\u05bd \u05e8\u05b0\u05d1\u05b4\u05d9\u05e2\u05b4\u0596\u05d9 \u05d4\u05a5\u05d5\u05bc\u05d0 \u05e4\u05b0\u05e8\u05b8\u05bd\u05ea\n",
        "Resu  GEN 02,17 \u05dc\u05b9\u05a5\u05d0 \u05ea\u05b9\u05d0\u05db\u05b7\u0596\u05dc \u05de\u05b4\u05de\u05b6\u05bc\u0591\u05e0\u05bc\u05d5\u05bc\n",
        "                \u05d5\u05bc \u05de\u05b5 \u05e2\u05b5\u0597\u05e5 \u05d4\u05b7 \u05d3\u05b7\u05bc\u05a8\u05e2\u05b7\u05ea\u0599 \u05d8\u05b9\u05a3\u05d5\u05d1 \u05d5\u05b8 \u05e8\u05b8\u0594\u05e2 \u05dc\u05b9\u05a5\u05d0 \u05ea\u05b9\u05d0\u05db\u05b7\u0596\u05dc \u05de\u05b4\u05de\u05b6\u05bc\u0591\u05e0\u05bc\u05d5\u05bc \u05db\u05b4\u05bc\u0597\u05d9 \u05d1\u05b0\u05bc \u05d9\u05b9\u059b\u05d5\u05dd \u05d0\u05b2\u05db\u05b8\u05dc\u05b0\u05da\u05b8\u05a5 \u05de\u05b4\u05de\u05b6\u05bc\u0596\u05e0\u05bc\u05d5\u05bc \u05de\u05b9\u05a5\u05d5\u05ea \u05ea\u05b8\u05bc\u05de\u05bd\u05d5\u05bc\u05ea\n",
        "RgRc  GEN 16,13 \u05e8\u05b9\u05d0\u05b4\u05bd\u05d9\n",
        "                \u05d4\u05b2 \u05d2\u05b7\u05a5\u05dd \u05d4\u05b2\u05dc\u05b9\u059b\u05dd \u05e8\u05b8\u05d0\u05b4\u0596\u05d9\u05ea\u05b4\u05d9 \u05d0\u05b7\u05d7\u05b2\u05e8\u05b5\u05a5\u05d9 \u05e8\u05b9\u05d0\u05b4\u05bd\u05d9\n",
        "RgRc  GEN 03,05 \u05d0\u05b2\u05db\u05b8\u05dc\u05b0\u05db\u05b6\u05a3\u05dd \u05de\u05b4\u05de\u05b6\u05bc\u0594\u05e0\u05bc\u05d5\u05bc\n",
        "                \u05db\u05b4\u05bc\u059a\u05d9 \u05d9\u05b9\u05d3\u05b5\u05a3\u05e2\u05b7 \u05d0\u05b1\u05dc\u05b9\u05d4\u05b4\u0594\u05d9\u05dd \u05db\u05b4\u05bc\u0597\u05d9 \u05d1\u05b0\u05bc \u05d9\u05b9\u05d5\u05dd\u0599 \u05d0\u05b2\u05db\u05b8\u05dc\u05b0\u05db\u05b6\u05a3\u05dd \u05de\u05b4\u05de\u05b6\u05bc\u0594\u05e0\u05bc\u05d5\u05bc \u05d5\u05b0 \u05e0\u05b4\u05e4\u05b0\u05e7\u05b0\u05d7\u0596\u05d5\u05bc \u05e2\u05b5\u05bd\u05d9\u05e0\u05b5\u05d9\u05db\u05b6\u0591\u05dd \u05d5\u05b4 \u05d4\u05b0\u05d9\u05b4\u05d9\u05ea\u05b6\u05dd\u0599 \u05db\u05b5\u05bc\u05bd \u05d0\u05dc\u05b9\u05d4\u05b4\u0594\u05d9\u05dd \u05d9\u05b9\u05d3\u05b0\u05e2\u05b5\u0596\u05d9 \u05d8\u05b9\u05a5\u05d5\u05d1 \u05d5\u05b8 \u05e8\u05b8\u05bd\u05e2\n",
        "RgRc  GEN 02,17 \u05d0\u05b2\u05db\u05b8\u05dc\u05b0\u05da\u05b8\u05a5 \u05de\u05b4\u05de\u05b6\u05bc\u0596\u05e0\u05bc\u05d5\u05bc\n",
        "                \u05d5\u05bc \u05de\u05b5 \u05e2\u05b5\u0597\u05e5 \u05d4\u05b7 \u05d3\u05b7\u05bc\u05a8\u05e2\u05b7\u05ea\u0599 \u05d8\u05b9\u05a3\u05d5\u05d1 \u05d5\u05b8 \u05e8\u05b8\u0594\u05e2 \u05dc\u05b9\u05a5\u05d0 \u05ea\u05b9\u05d0\u05db\u05b7\u0596\u05dc \u05de\u05b4\u05de\u05b6\u05bc\u0591\u05e0\u05bc\u05d5\u05bc \u05db\u05b4\u05bc\u0597\u05d9 \u05d1\u05b0\u05bc \u05d9\u05b9\u059b\u05d5\u05dd \u05d0\u05b2\u05db\u05b8\u05dc\u05b0\u05da\u05b8\u05a5 \u05de\u05b4\u05de\u05b6\u05bc\u0596\u05e0\u05bc\u05d5\u05bc \u05de\u05b9\u05a5\u05d5\u05ea \u05ea\u05b8\u05bc\u05de\u05bd\u05d5\u05bc\u05ea\n",
        "Subj  GEN 02,11 \u05d4\u05a3\u05d5\u05bc\u05d0\n",
        "                \u05e9\u05b5\u05c1\u05a5\u05dd \u05d4\u05b8\u05bd \u05d0\u05b6\u05d7\u05b8\u0596\u05d3 \u05e4\u05b4\u05bc\u05d9\u05e9\u05b9\u05c1\u0591\u05d5\u05df \u05d4\u05a3\u05d5\u05bc\u05d0 \u05d4\u05b7 \u05e1\u05b9\u05bc\u05d1\u05b5\u0597\u05d1 \u05d0\u05b5\u059a\u05ea \u05db\u05b8\u05bc\u05dc \u05d0\u05b6\u05a3\u05e8\u05b6\u05e5 \u05d4\u05b7\u05bd \u05d7\u05b2\u05d5\u05b4\u05d9\u05dc\u05b8\u0594\u05d4 \u05d0\u05b2\u05e9\u05b6\u05c1\u05e8 \u05e9\u05b8\u05c1\u0596\u05dd \u05d4\u05b7 \u05d6\u05b8\u05bc\u05d4\u05b8\u05bd\u05d1\n",
        "Subj  GEN 02,14 \u05d4\u05a5\u05d5\u05bc\u05d0\n",
        "                \u05d5\u05b0 \u05e9\u05b5\u05c1\u05a8\u05dd \u05d4\u05b7 \u05e0\u05b8\u05bc\u05d4\u05b8\u05a4\u05e8 \u05d4\u05b7 \u05e9\u05b0\u05bc\u05c1\u05dc\u05b4\u05d9\u05e9\u05b4\u05c1\u05d9\u0599 \u05d7\u05b4\u05d3\u05b6\u05bc\u0594\u05e7\u05b6\u05dc \u05d4\u05a5\u05d5\u05bc\u05d0 \u05d4\u05b7\u05bd \u05d4\u05b9\u05dc\u05b5\u0596\u05da\u05b0 \u05e7\u05b4\u05d3\u05b0\u05de\u05b7\u05a3\u05ea \u05d0\u05b7\u05e9\u05bc\u05c1\u0591\u05d5\u05bc\u05e8\n",
        "Subj  GEN 02,13 \u05d4\u05a3\u05d5\u05bc\u05d0\n",
        "                \u05d5\u05b0 \u05e9\u05b5\u05bd\u05c1\u05dd \u05d4\u05b7 \u05e0\u05b8\u05bc\u05d4\u05b8\u05a5\u05e8 \u05d4\u05b7 \u05e9\u05b5\u05bc\u05c1\u05e0\u05b4\u0596\u05d9 \u05d2\u05b4\u05bc\u05d9\u05d7\u05b9\u0591\u05d5\u05df \u05d4\u05a3\u05d5\u05bc\u05d0 \u05d4\u05b7 \u05e1\u05b9\u05bc\u05d5\u05d1\u05b5\u0594\u05d1 \u05d0\u05b5\u0596\u05ea \u05db\u05b8\u05bc\u05dc \u05d0\u05b6\u05a5\u05e8\u05b6\u05e5 \u05db\u05bc\u05bd\u05d5\u05bc\u05e9\u05c1\n",
        "none  GEN 01,01 \u05d1\u05b0\u05bc \u05e8\u05b5\u05d0\u05e9\u05b4\u05c1\u0596\u05d9\u05ea \u05d1\u05b8\u05bc\u05e8\u05b8\u05a3\u05d0 \u05d0\u05b1\u05dc\u05b9\u05d4\u05b4\u0591\u05d9\u05dd \u05d0\u05b5\u05a5\u05ea \u05d4\u05b7 \u05e9\u05b8\u05bc\u05c1\u05de\u05b7\u0596\u05d9\u05b4\u05dd \u05d5\u05b0 \u05d0\u05b5\u05a5\u05ea \u05d4\u05b8 \u05d0\u05b8\u05bd\u05e8\u05b6\u05e5\n",
        "                \u05d1\u05b0\u05bc \u05e8\u05b5\u05d0\u05e9\u05b4\u05c1\u0596\u05d9\u05ea \u05d1\u05b8\u05bc\u05e8\u05b8\u05a3\u05d0 \u05d0\u05b1\u05dc\u05b9\u05d4\u05b4\u0591\u05d9\u05dd \u05d0\u05b5\u05a5\u05ea \u05d4\u05b7 \u05e9\u05b8\u05bc\u05c1\u05de\u05b7\u0596\u05d9\u05b4\u05dd \u05d5\u05b0 \u05d0\u05b5\u05a5\u05ea \u05d4\u05b8 \u05d0\u05b8\u05bd\u05e8\u05b6\u05e5\n",
        "none  GEN 01,02 \u05d5\u05b0 \u05d4\u05b8 \u05d0\u05b8\u0597\u05e8\u05b6\u05e5 \u05d4\u05b8\u05d9\u05b0\u05ea\u05b8\u05a5\u05d4 \u05ea\u05b9\u05a8\u05d4\u05d5\u05bc\u0599 \u05d5\u05b8 \u05d1\u05b9\u0594\u05d4\u05d5\u05bc\n",
        "                \u05d5\u05b0 \u05d4\u05b8 \u05d0\u05b8\u0597\u05e8\u05b6\u05e5 \u05d4\u05b8\u05d9\u05b0\u05ea\u05b8\u05a5\u05d4 \u05ea\u05b9\u05a8\u05d4\u05d5\u05bc\u0599 \u05d5\u05b8 \u05d1\u05b9\u0594\u05d4\u05d5\u05bc\n",
        "none  GEN 01,02 \u05d5\u05b0 \u05d7\u05b9\u0596\u05e9\u05b6\u05c1\u05da\u05b0 \u05e2\u05b7\u05dc \u05e4\u05b0\u05bc\u05e0\u05b5\u05a3\u05d9 \u05ea\u05b0\u05d4\u05b9\u0591\u05d5\u05dd\n",
        "                \u05d5\u05b0 \u05d7\u05b9\u0596\u05e9\u05b6\u05c1\u05da\u05b0 \u05e2\u05b7\u05dc \u05e4\u05b0\u05bc\u05e0\u05b5\u05a3\u05d9 \u05ea\u05b0\u05d4\u05b9\u0591\u05d5\u05dd\n"
       ]
      }
     ],
     "prompt_number": 6
    },
    {
     "cell_type": "code",
     "collapsed": false,
     "input": [
      "ccrs = {\n",
      " 'Adju': 'adjunct clause',\n",
      " 'Attr': 'attributive clause',\n",
      " 'Cmpl': 'complement clause, but not subject or object',\n",
      " 'CoVo': 'continuation of the vocative',\n",
      " 'Coor': 'coordination',\n",
      " 'Objc': 'object clause',\n",
      " 'Pred': 'predicative clause',\n",
      " 'Resu': 'clause after resumptive extrapolated fronted element',\n",
      " 'RgRc': 'Regens rectum (governing governed)',\n",
      " 'Subj': 'subject clause',\n",
      " 'none': 'not known/not marked',\n",
      "]"
     ],
     "language": "python",
     "metadata": {},
     "outputs": []
    },
    {
     "cell_type": "markdown",
     "metadata": {},
     "source": [
      "### Subject\n",
      "clause that has the function of subject\n",
      "\n",
      "### Object\n",
      "clause that has the function of object\n",
      "\n",
      "### Complement\n",
      "clause that has a function of a verb complement, but not subject or object \n",
      "\n",
      "### Attributive\n",
      "clause that has an attributive function (often with a relative pronoun)\n",
      "\n",
      "### Adjunct\n",
      "clauses with additional information, usually without a finite verb\n",
      "\n",
      "### Predicative clause\n",
      "clause that has a predicative function\n",
      "\n",
      "### Coordination\n",
      "multiple dependent clauses coordinated (with and, or etc) to each other under the same head (a main clause or a phrase (asher))\n",
      "\n",
      "### Continuation of the vocative\n",
      "clause that follows after a vocative: *Adam*, where are you.\n",
      "\n",
      "### Resumptive\n",
      "King David, Nathan the prohpet spoke severly to *him* [here King David is *casus pendens* or extrapolated element.\n",
      "\n",
      "### Regens Rectum\n",
      "You shall reign over the birds and the animals and **all** *creeps on the face of the earth* [Here **all** governs the *reptiles*]\n",
      "\n",
      "### none\n",
      "No clause constituent relation marked.\n"
     ]
    },
    {
     "cell_type": "heading",
     "level": 2,
     "metadata": {},
     "source": [
      "Phrase atom types"
     ]
    },
    {
     "cell_type": "code",
     "collapsed": false,
     "input": [
      "pats = {}\n",
      "for i in NN(test=F.shebanq_db_otype.v, values=['phrase_atom']):\n",
      "    pat = F.shebanq_ft_phrase_atom_type.v(i)\n",
      "    pats[pat] = None\n",
      "sorted(pats.keys())"
     ],
     "language": "python",
     "metadata": {},
     "outputs": [
      {
       "metadata": {},
       "output_type": "pyout",
       "prompt_number": 32,
       "text": [
        "['AdjP',\n",
        " 'AdvP',\n",
        " 'CP',\n",
        " 'DPrP',\n",
        " 'IPrP',\n",
        " 'InjP',\n",
        " 'InrP',\n",
        " 'NP',\n",
        " 'NegP',\n",
        " 'PP',\n",
        " 'PPrP',\n",
        " 'PrNP',\n",
        " 'VP']"
       ]
      }
     ],
     "prompt_number": 32
    },
    {
     "cell_type": "heading",
     "level": 2,
     "metadata": {},
     "source": [
      "Tense"
     ]
    },
    {
     "cell_type": "code",
     "collapsed": false,
     "input": [
      "tenses = set()\n",
      "for i in NN(test=F.shebanq_db_otype.v, values=['word']):\n",
      "    tense = F.shebanq_ft_tense.v(i)\n",
      "    tenses.add(tense)\n",
      "sorted(tenses)"
     ],
     "language": "python",
     "metadata": {},
     "outputs": [
      {
       "metadata": {},
       "output_type": "pyout",
       "prompt_number": 3,
       "text": [
        "['imperative',\n",
        " 'imperfect',\n",
        " 'infinitive_absolute',\n",
        " 'infinitive_construct',\n",
        " 'none',\n",
        " 'participle',\n",
        " 'passive_participle',\n",
        " 'perfect',\n",
        " 'wayyiqtol',\n",
        " 'weyiqtol']"
       ]
      }
     ],
     "prompt_number": 3
    },
    {
     "cell_type": "heading",
     "level": 2,
     "metadata": {},
     "source": [
      "Pronominal suffixes (paradigmatic, graphical, plain)"
     ]
    },
    {
     "cell_type": "code",
     "collapsed": true,
     "input": [
      "ppss = {}\n",
      "gpss = {}\n",
      "gpps = {}\n",
      "for i in NN(test=F.shebanq_db_otype.v, values=['word']):\n",
      "    pps = F.shebanq_ft_paradigmatic_pron_suffix.v(i)\n",
      "    gps = F.shebanq_ft_graphical_pron_suffix.v(i)\n",
      "    gpp = F.shebanq_ft_graphical_pron_suffix_plain.v(i)\n",
      "    ppss[pps] = None\n",
      "    gpss[gps] = None\n",
      "    gpps[gpp] = None\n",
      "    \n",
      "output = \"paradigmatic pronoun suffix: \"\n",
      "output += \", \".join(sorted(ppss.keys()))\n",
      "output += \"\\n\" + \"graphical pronoun suffix: \"\n",
      "output += \", \".join(sorted(gpss.keys()))\n",
      "output += \"\\n\" + \"graphical pronoun suffix plain: \"\n",
      "output += \", \".join(sorted(gpps.keys()))\n",
      "output += \"\"\n",
      "print(output)\n",
      "\n",
      "paralist = {}\n",
      "for ps in ppss:\n",
      "    print(\" '{}': '{}',\".format(ps, ps))"
     ],
     "language": "python",
     "metadata": {},
     "outputs": [
      {
       "output_type": "stream",
       "stream": "stdout",
       "text": [
        "paradigmatic pronoun suffix: +H=, +HJ, +HM, +HN, +HW, +HWN, +H_Aramaic, +H_Hebrew, +J, +K, +K=, +KM, +KN, +KWN, +M, +MW, +N, +N>, +NJ, +NW, +W, Absent, Not_applicable\n",
        "graphical pronoun suffix: , \u05b0\u05bd\u05da\u05b8\u05be, \u05b0\u05d4\u05b6\u0591\u05dd, \u05b0\u05d4\u05b6\u0594\u05dd, \u05b0\u05d4\u05b6\u0594\u05df, \u05b0\u05d4\u05b6\u0596\u05dd, \u05b0\u05d4\u05b6\u0596\u05df, \u05b0\u05d4\u05b6\u0597\u05dd, \u05b0\u05d4\u05b6\u059b\u05df, \u05b0\u05d4\u05b6\u05a5\u05df, \u05b0\u05d4\u05b6\u05df\u0599, \u05b0\u05d4\u05b8, \u05b0\u05d4\u05b9\u0591\u05d5\u05df, \u05b0\u05d4\u05b9\u0591\u05dd, \u05b0\u05d4\u05b9\u0594\u05d5\u05dd, \u05b0\u05d4\u05b9\u0594\u05d5\u05df, \u05b0\u05d4\u05b9\u0594\u05dd, \u05b0\u05d4\u05b9\u0596\u05d5\u05df, \u05b0\u05d4\u05b9\u0596\u05dd, \u05b0\u05d4\u05b9\u0597\u05d5\u05df, \u05b0\u05d4\u05b9\u059b\u05d5\u05df, \u05b0\u05d4\u05b9\u059b\u05dd, \u05b0\u05d4\u05b9\u05bd\u05d5\u05df, \u05b0\u05d4\u05b9\u05d5\u05df, \u05b0\u05d4\u05b9\u05d5\u05df\u0592, \u05b0\u05d4\u05b9\u05d5\u05df\u0599, \u05b0\u05d4\u05bd\u05d5\u05bc, \u05b0\u05d4\u05d5\u05bc, \u05b0\u05d4\u05d5\u05bc\u0599, \u05b0\u05da\u05b8, \u05b0\u05da\u05b8\u0592, \u05b0\u05da\u05b8\u0593\u05c0, \u05b0\u05da\u05b8\u0594, \u05b0\u05da\u05b8\u0596, \u05b0\u05da\u05b8\u0597, \u05b0\u05da\u05b8\u0599, \u05b0\u05da\u05b8\u059b, \u05b0\u05da\u05b8\u059b\u05a9, \u05b0\u05da\u05b8\u059c, \u05b0\u05da\u05b8\u059c\u0599, \u05b0\u05da\u05b8\u059e, \u05b0\u05da\u05b8\u05a1, \u05b0\u05da\u05b8\u05a3, \u05b0\u05da\u05b8\u05a3\u05c0, \u05b0\u05da\u05b8\u05a4, \u05b0\u05da\u05b8\u05a5, \u05b0\u05da\u05b8\u05a5\u05a3, \u05b0\u05da\u05b8\u05a7, \u05b0\u05da\u05b8\u05a7\u05c0, \u05b0\u05da\u05b8\u05a8, \u05b0\u05da\u05b8\u05a8\u05c0, \u05b0\u05da\u05b8\u05a9, \u05b0\u05da\u05b8\u05aa, \u05b0\u05da\u05b8\u05ac, \u05b0\u05da\u05b8\u05ae, \u05b0\u05da\u05b8\u05bd\u05be, \u05b0\u05da\u05b8\u05be, \u05b0\u05db\u05b4\u05d9, \u05b0\u05db\u05b6\u0591\u05dd, \u05b0\u05db\u05b6\u0594\u05dd, \u05b0\u05db\u05b6\u0596\u05dd, \u05b0\u05db\u05b6\u0596\u05df, \u05b0\u05db\u05b6\u0597\u05dd, \u05b0\u05db\u05b6\u059b\u05dd, \u05b0\u05db\u05b6\u059c\u05dd, \u05b0\u05db\u05b6\u059e\u05dd, \u05b0\u05db\u05b6\u05a3\u05dd, \u05b0\u05db\u05b6\u05a3\u05dd\u05c0, \u05b0\u05db\u05b6\u05a4\u05dd, \u05b0\u05db\u05b6\u05a5\u05dd, \u05b0\u05db\u05b6\u05a8\u05dd, \u05b0\u05db\u05b6\u05a8\u05e0\u05b8\u05d4\u0599, \u05b0\u05db\u05b6\u05bd\u05dd, \u05b0\u05db\u05b6\u05bd\u05df, \u05b0\u05db\u05b6\u05bd\u05e0\u05b8\u05d4, \u05b0\u05db\u05b6\u05dd, \u05b0\u05db\u05b6\u05dd\u0592, \u05b0\u05db\u05b6\u05dd\u0599, \u05b0\u05db\u05b6\u05dd\u05ae, \u05b0\u05db\u05b8\u0594\u05d4, \u05b0\u05db\u05b8\u0596\u05d4, \u05b0\u05db\u05b8\u05a3\u05d4, \u05b0\u05db\u05b8\u05a4\u05d4, \u05b0\u05db\u05b8\u05a5\u05d4, \u05b0\u05db\u05b8\u05d4\u0599, \u05b0\u05db\u05b9\u059c\u05dd, \u05b0\u05db\u05b9\u05a3\u05dd, \u05b0\u05db\u05b9\u05a4\u05d5\u05df, \u05b0\u05de\u05b9\u05d5, \u05b0\u05e0\u059b\u05d5\u05bc, \u05b0\u05e0\u05a3\u05d5\u05bc, \u05b0\u05e0\u05a4\u05d5\u05bc, \u05b0\u05e0\u05b4\u0594\u05d9, \u05b0\u05e0\u05b4\u0595\u05d9, \u05b0\u05e0\u05b4\u0596\u05d9, \u05b0\u05e0\u05b4\u059b\u05d9, \u05b0\u05e0\u05b4\u05a3\u05d9, \u05b0\u05e0\u05b4\u05a3\u05d9\u05c0, \u05b0\u05e0\u05b4\u05a4\u05d9, \u05b0\u05e0\u05b4\u05a5\u05d9, \u05b0\u05e0\u05b4\u05a7\u05d9, \u05b0\u05e0\u05b4\u05a8\u05d9, \u05b0\u05e0\u05b4\u05d9, \u05b0\u05e0\u05b4\u05d9\u0599, \u05b0\u05e0\u05b4\u05d9\u05a9, \u05b0\u05e0\u05b4\u05d9\u05be, \u05b0\u05e0\u05d5\u05bc, \u05b0\u05e0\u05d5\u05bc\u0599, \u05b4\u0591\u05d9, \u05b4\u0591\u05da\u05b8, \u05b4\u0591\u05dd, \u05b4\u0594\u05d9, \u05b4\u0594\u05da\u05b0, \u05b4\u0594\u05da\u05b8, \u05b4\u0594\u05dd, \u05b4\u0594\u05e0\u05b4\u05d9, \u05b4\u0595\u05d9, \u05b4\u0596\u05d4\u05d5\u05bc, \u05b4\u0596\u05d9, \u05b4\u0596\u05da\u05b8, \u05b4\u0596\u05dd, \u05b4\u0596\u05e0\u05b4\u05d9, \u05b4\u0597\u05d9, \u05b4\u0597\u05da\u05b8, \u05b4\u0597\u05e0\u05b4\u05d9, \u05b4\u059b\u05d9, \u05b4\u059c\u05d9, \u05b4\u059c\u05e0\u05b4\u05d9, \u05b4\u059e\u05d9, \u05b4\u05a3\u05d4\u05bd\u05d5\u05bc, \u05b4\u05a3\u05d9, \u05b4\u05a3\u05d9\u05c0, \u05b4\u05a4\u05d9, \u05b4\u05a4\u05d9\u05c0, \u05b4\u05a5\u05d9, \u05b4\u05a7\u05d9, \u05b4\u05a8\u05d4\u05b8\u0599, \u05b4\u05a8\u05d4\u05d5\u05bc\u0599, \u05b4\u05a8\u05d9, \u05b4\u05a8\u05d9\u05c0, \u05b4\u05aa\u05d9, \u05b4\u05ab\u05d9\u05be, \u05b4\u05ac\u05d9, \u05b4\u05bd\u05d4\u05d5\u05bc, \u05b4\u05bd\u05d9, \u05b4\u05bd\u05d9\u05be, \u05b4\u05bd\u05da\u05b8, \u05b4\u05bd\u05dd, \u05b4\u05bd\u05e0\u05b4\u05d9, \u05b4\u05d9, \u05b4\u05d9\u0592, \u05b4\u05d9\u0599, \u05b4\u05d9\u05a9, \u05b4\u05d9\u05ae, \u05b4\u05d9\u05be, \u05b4\u05da, \u05b4\u05da\u05b0, \u05b4\u05da\u05b0\u0599, \u05b4\u05da\u05b0\u05ae, \u05b4\u05da\u05b8, \u05b4\u05db\u05b6\u05bc\u0591\u05dd, \u05b4\u05db\u05b6\u05bc\u0594\u05dd, \u05b4\u05db\u05b6\u05bc\u0596\u05dd, \u05b4\u05db\u05b6\u05bc\u0597\u05dd, \u05b4\u05db\u05b6\u05bc\u059b\u05dd, \u05b4\u05db\u05b6\u05bc\u059c\u05dd, \u05b4\u05db\u05b6\u05bc\u05a3\u05dd, \u05b4\u05db\u05b6\u05bc\u05a4\u05dd, \u05b4\u05db\u05b6\u05bc\u05bd\u05dd, \u05b4\u05db\u05b6\u05bc\u05dd\u0599, \u05b4\u05db\u05b6\u05bc\u05dd\u05a9, \u05b4\u05dd\u0599, \u05b4\u05e0\u05d9, \u05b5\u0591\u05d4\u05bc, \u05b5\u0591\u05d9\u05da\u05b0, \u05b5\u0591\u05d9\u05de\u05b9\u05d5, \u05b5\u0591\u05d9\u05e0\u05d5\u05bc, \u05b5\u0591\u05da\u05b0, \u05b5\u0591\u05e0\u05b4\u05d9, \u05b5\u0591\u05e0\u05b8\u05bc\u05d4, \u05b5\u0591\u05e0\u05d5\u05bc, \u05b5\u0593\u05d4\u05bc\u05c0, \u05b5\u0594\u05d4\u05bc, \u05b5\u0594\u05d9\u05e0\u05d5\u05bc, \u05b5\u0594\u05da\u05b0, \u05b5\u0594\u05e0\u05b4\u05d9, \u05b5\u0594\u05e0\u05d5\u05bc, \u05b5\u0595\u05e0\u05d5\u05bc, \u05b5\u0596\u05d4\u05bc, \u05b5\u0596\u05d4\u05d5\u05bc, \u05b5\u0596\u05d9\u05de\u05b9\u05d5, \u05b5\u0596\u05d9\u05e0\u05d5\u05bc, \u05b5\u0596\u05da\u05b0, \u05b5\u0596\u05db\u05b4\u05d9, \u05b5\u0596\u05e0\u05d5\u05bc, \u05b5\u0597\u05d4\u05bc, \u05b5\u0597\u05d9\u05de\u05b9\u05d5, \u05b5\u0597\u05d9\u05e0\u05d5\u05bc, \u05b5\u0597\u05da\u05b0, \u05b5\u0597\u05e0\u05d5\u05bc, \u05b5\u059b\u05d9\u05e0\u05d5\u05bc, \u05b5\u059b\u05da\u05b0, \u05b5\u059b\u05e0\u05d5\u05bc, \u05b5\u059c\u05d9\u05e0\u05d5\u05bc, \u05b5\u059c\u05da\u05b0, \u05b5\u059c\u05e0\u05d5\u05bc, \u05b5\u059e\u05d9\u05da\u05b0, \u05b5\u059e\u05da\u05b0, \u05b5\u05a1\u05d9\u05e0\u05d5\u05bc, \u05b5\u05a3\u05d4\u05bc, \u05b5\u05a3\u05d9\u05de\u05b9\u05d5, \u05b5\u05a3\u05d9\u05e0\u05d5\u05bc, \u05b5\u05a3\u05da\u05b0, \u05b5\u05a3\u05e0\u05b4\u05d9, \u05b5\u05a3\u05e0\u05d5\u05bc, \u05b5\u05a4\u05da\u05b0, \u05b5\u05a5\u05d4\u05bc, \u05b5\u05a5\u05d9\u05e0\u05d5\u05bc, \u05b5\u05a5\u05da\u05b0, \u05b5\u05a5\u05e0\u05d5\u05bc, \u05b5\u05a7\u05da\u05b0, \u05b5\u05a8\u05d4\u05bc, \u05b5\u05a8\u05d9\u05e0\u05d5\u05bc\u0599, \u05b5\u05a8\u05d9\u05e0\u05d5\u05bc\u05c0, \u05b5\u05a8\u05da\u05b0, \u05b5\u05a8\u05e0\u05d5\u05bc\u0599, \u05b5\u05ab\u05d4\u05b6\u05a5\u05dd, \u05b5\u05ac\u05e0\u05d5\u05bc, \u05b5\u05bd\u05d4\u05bc, \u05b5\u05bd\u05d4\u05bc\u05be, \u05b5\u05bd\u05d9\u05e0\u05d5\u05bc, \u05b5\u05bd\u05da\u05b0, \u05b5\u05bd\u05e0\u05b4\u05d9, \u05b5\u05bd\u05e0\u05d5\u05bc, \u05b5\u05d4\u05b5\u0596\u05df, \u05b5\u05d4\u05b6\u0591\u05dd, \u05b5\u05d4\u05b6\u0594\u05dd, \u05b5\u05d4\u05b6\u0594\u05df, \u05b5\u05d4\u05b6\u0596\u05dd, \u05b5\u05d4\u05b6\u0597\u05dd, \u05b5\u05d4\u05b6\u059b\u05dd, \u05b5\u05d4\u05b6\u059b\u05df, \u05b5\u05d4\u05b6\u059c\u05dd, \u05b5\u05d4\u05b6\u059e\u05dd, \u05b5\u05d4\u05b6\u05a1\u05dd, \u05b5\u05d4\u05b6\u05a3\u05dd, \u05b5\u05d4\u05b6\u05a3\u05dd\u05c0, \u05b5\u05d4\u05b6\u05a4\u05dd, \u05b5\u05d4\u05b6\u05a5\u05dd, \u05b5\u05d4\u05b6\u05a7\u05dd, \u05b5\u05d4\u05b6\u05a8\u05dd\u05c0, \u05b5\u05d4\u05b6\u05bd\u05dd, \u05b5\u05d4\u05b6\u05dd, \u05b5\u05d4\u05b6\u05dd\u0592, \u05b5\u05d4\u05b6\u05dd\u0599, \u05b5\u05d4\u05b6\u05dd\u05ae, \u05b5\u05d4\u05bc, \u05b5\u05d4\u05bc\u0592, \u05b5\u05d4\u05bc\u0599, \u05b5\u05d4\u05bc\u05be, \u05b5\u05d9\u05d4\u05b6\u0591\u05dd, \u05b5\u05d9\u05d4\u05b6\u0591\u05df, \u05b5\u05d9\u05d4\u05b6\u0594\u05dd, \u05b5\u05d9\u05d4\u05b6\u0594\u05df, \u05b5\u05d9\u05d4\u05b6\u0595\u05dd, \u05b5\u05d9\u05d4\u05b6\u0596\u05dd, \u05b5\u05d9\u05d4\u05b6\u0596\u05df, \u05b5\u05d9\u05d4\u05b6\u0597\u05dd, \u05b5\u05d9\u05d4\u05b6\u0597\u05df, \u05b5\u05d9\u05d4\u05b6\u059b\u05dd, \u05b5\u05d9\u05d4\u05b6\u059c\u05dd, \u05b5\u05d9\u05d4\u05b6\u059c\u05df, \u05b5\u05d9\u05d4\u05b6\u05a1\u05dd, \u05b5\u05d9\u05d4\u05b6\u05a3\u05dd, \u05b5\u05d9\u05d4\u05b6\u05a3\u05dd\u05c0, \u05b5\u05d9\u05d4\u05b6\u05a4\u05dd, \u05b5\u05d9\u05d4\u05b6\u05a5\u05dd, \u05b5\u05d9\u05d4\u05b6\u05a5\u05df, \u05b5\u05d9\u05d4\u05b6\u05a7\u05dd\u05c0, \u05b5\u05d9\u05d4\u05b6\u05a8\u05dd, \u05b5\u05d9\u05d4\u05b6\u05a8\u05dd\u05c0, \u05b5\u05d9\u05d4\u05b6\u05a8\u05df, \u05b5\u05d9\u05d4\u05b6\u05bd\u05dd, \u05b5\u05d9\u05d4\u05b6\u05bd\u05df, \u05b5\u05d9\u05d4\u05b6\u05dd, \u05b5\u05d9\u05d4\u05b6\u05dd\u0592, \u05b5\u05d9\u05d4\u05b6\u05dd\u0599, \u05b5\u05d9\u05d4\u05b6\u05dd\u05a9, \u05b5\u05d9\u05d4\u05b6\u05dd\u05ae, \u05b5\u05d9\u05d4\u05b9\u059c\u05d5\u05df, \u05b5\u05d9\u05d4\u05b9\u05bd\u05d5\u05df, \u05b5\u05d9\u05d4\u05b9\u05bd\u05dd, \u05b5\u05d9\u05db\u05b6\u0591\u05dd, \u05b5\u05d9\u05db\u05b6\u0594\u05dd, \u05b5\u05d9\u05db\u05b6\u0594\u05df, \u05b5\u05d9\u05db\u05b6\u0596\u05dd, \u05b5\u05d9\u05db\u05b6\u0597\u05dd, \u05b5\u05d9\u05db\u05b6\u059b\u05dd, \u05b5\u05d9\u05db\u05b6\u059c\u05dd, \u05b5\u05d9\u05db\u05b6\u05a3\u05dd, \u05b5\u05d9\u05db\u05b6\u05a4\u05dd, \u05b5\u05d9\u05db\u05b6\u05a5\u05dd, \u05b5\u05d9\u05db\u05b6\u05a7\u05dd\u05c0, \u05b5\u05d9\u05db\u05b6\u05a8\u05dd, \u05b5\u05d9\u05db\u05b6\u05bd\u05dd, \u05b5\u05d9\u05db\u05b6\u05dd, \u05b5\u05d9\u05db\u05b6\u05dd\u0592, \u05b5\u05d9\u05db\u05b6\u05dd\u0599, \u05b5\u05d9\u05db\u05b6\u05dd\u05ae, \u05b5\u05d9\u05e0\u05d5\u05bc, \u05b5\u05d9\u05e0\u05d5\u05bc\u05a9, \u05b5\u05d9\u05e0\u05d5\u05bc\u05ae, \u05b5\u05da\u05b0, \u05b5\u05da\u05b0\u0592, \u05b5\u05da\u05b0\u0599, \u05b5\u05db\u05b6\u0591\u05dd, \u05b5\u05db\u05b6\u0594\u05dd, \u05b5\u05db\u05b6\u0597\u05dd, \u05b5\u05db\u05b6\u059b\u05dd, \u05b5\u05db\u05b6\u05a4\u05dd, \u05b5\u05db\u05b6\u05dd\u0599, \u05b5\u05e0\u05d5\u05bc, \u05b5\u05e0\u05d5\u05bc\u0592, \u05b6\u0591\u05d4\u05b8, \u05b6\u0591\u05d9\u05d4\u05b8, \u05b6\u0591\u05d9\u05da\u05b8, \u05b6\u0591\u05d9\u05e0\u05b8\u05d0, \u05b6\u0591\u05da\u05b8, \u05b6\u0591\u05da\u05b8\u05bc, \u05b6\u0591\u05e0\u05b4\u05bc\u05d9, \u05b6\u0591\u05e0\u05b8\u05bc\u05d4, \u05b6\u0591\u05e0\u05bc\u05d5\u05bc, \u05b6\u0594\u05d9\u05d4\u05b8, \u05b6\u0594\u05d9\u05da\u05b8, \u05b6\u0594\u05da\u05b8, \u05b6\u0594\u05e0\u05b4\u05bc\u05d9, \u05b6\u0594\u05e0\u05b8\u05bc\u05d4, \u05b6\u0594\u05e0\u05bc\u05d5\u05bc, \u05b6\u0595\u05e0\u05bc\u05d5\u05bc, \u05b6\u0596\u05d4\u05b8, \u05b6\u0596\u05d9\u05d4\u05b8, \u05b6\u0596\u05d9\u05da\u05b8, \u05b6\u0596\u05da\u05b8, \u05b6\u0596\u05e0\u05b4\u05bc\u05d9, \u05b6\u0596\u05e0\u05b8\u05bc\u05d4, \u05b6\u0596\u05e0\u05bc\u05d5\u05bc, \u05b6\u0597\u05d9\u05d4\u05b8, \u05b6\u0597\u05d9\u05da\u05b8, \u05b6\u0597\u05da\u05b8, \u05b6\u0597\u05e0\u05b4\u05bc\u05d9, \u05b6\u0597\u05e0\u05b8\u05bc\u05d4, \u05b6\u0597\u05e0\u05bc\u05d5\u05bc, \u05b6\u059b\u05d9\u05d4\u05b8, \u05b6\u059b\u05d9\u05da\u05b8, \u05b6\u059b\u05e0\u05b4\u05bc\u05d9, \u05b6\u059b\u05e0\u05b8\u05bc\u05d4, \u05b6\u059b\u05e0\u05bc\u05d5\u05bc, \u05b6\u059c\u05d9\u05d4\u05b8, \u05b6\u059c\u05d9\u05da\u05b8, \u05b6\u059c\u05e0\u05b4\u05bc\u05d9, \u05b6\u059c\u05e0\u05b8\u05bc\u05d4, \u05b6\u059c\u05e0\u05bc\u05d5\u05bc, \u05b6\u059f\u05d9\u05da\u05b8, \u05b6\u05a1\u05d9\u05d4\u05b8, \u05b6\u05a3\u05d9\u05d4\u05b8, \u05b6\u05a3\u05d9\u05da\u05b8, \u05b6\u05a3\u05d9\u05da\u05b8\u05c0, \u05b6\u05a3\u05da\u05b8, \u05b6\u05a3\u05e0\u05b4\u05bc\u05bd\u05d9, \u05b6\u05a3\u05e0\u05b4\u05bc\u05d9, \u05b6\u05a3\u05e0\u05b8\u05bc\u05d4, \u05b6\u05a3\u05e0\u05bc\u05d5\u05bc, \u05b6\u05a4\u05d9\u05d4\u05b8, \u05b6\u05a4\u05d9\u05da\u05b8, \u05b6\u05a4\u05d9\u05da\u05b8\u05c0, \u05b6\u05a4\u05e0\u05b4\u05bc\u05d9, \u05b6\u05a4\u05e0\u05bc\u05d5\u05bc, \u05b6\u05a5\u05d9\u05d4\u05b8, \u05b6\u05a5\u05d9\u05da\u05b8, \u05b6\u05a5\u05d9\u05e0\u05b8\u05d0, \u05b6\u05a5\u05da\u05b8, \u05b6\u05a5\u05da\u05b8\u05bc, \u05b6\u05a5\u05e0\u05b4\u05bc\u05d9, \u05b6\u05a5\u05e0\u05b8\u05bc\u05d4, \u05b6\u05a5\u05e0\u05bc\u05bd\u05d5\u05bc, \u05b6\u05a5\u05e0\u05bc\u05d5\u05bc, \u05b6\u05a7\u05d9\u05d4\u05b8, \u05b6\u05a8\u05d4\u05b8\u0599, \u05b6\u05a8\u05d9\u05d4\u05b8, \u05b6\u05a8\u05d9\u05d4\u05b8\u0599, \u05b6\u05a8\u05d9\u05da\u05b8, \u05b6\u05a8\u05d9\u05da\u05b8\u0599, \u05b6\u05a8\u05d9\u05da\u05b8\u05c0, \u05b6\u05a8\u05da\u05b8\u0599, \u05b6\u05a8\u05da\u05b8\u05c0, \u05b6\u05a8\u05e0\u05b4\u05bc\u05d9\u0599, \u05b6\u05a8\u05e0\u05b8\u05bc\u05d4\u0599, \u05b6\u05a8\u05e0\u05bc\u05d5\u05bc\u0599, \u05b6\u05bd\u05d4\u05b8, \u05b6\u05bd\u05d9\u05d4\u05b8, \u05b6\u05bd\u05d9\u05da\u05b8, \u05b6\u05bd\u05d9\u05e0\u05b8\u05d0, \u05b6\u05bd\u05da\u05b8, \u05b6\u05bd\u05da\u05b8\u0592, \u05b6\u05bd\u05da\u05b8\u05bc, \u05b6\u05bd\u05db\u05b8\u05bc\u05d4, \u05b6\u05bd\u05e0\u05b8\u05d0, \u05b6\u05bd\u05e0\u05b4\u05bc\u05d9, \u05b6\u05bd\u05e0\u05b8\u05bc\u05d4, \u05b6\u05bd\u05e0\u05bc\u05d5\u05bc, \u05b6\u05d9\u05d4\u05b8, \u05b6\u05d9\u05d4\u05b8\u05ae, \u05b6\u05d9\u05da\u05b8, \u05b6\u05d9\u05da\u05b8\u0592, \u05b6\u05d9\u05da\u05b8\u05a9, \u05b6\u05d9\u05da\u05b8\u05ae, \u05b6\u05da\u05b0, \u05b6\u05da\u05b0\u0599, \u05b6\u05da\u05b8, \u05b6\u05da\u05b8\u0592, \u05b6\u05da\u05b8\u05ae, \u05b6\u05e0\u05bc\u05a4\u05d5\u05bc, \u05b6\u05e0\u05b4\u05bc\u05d9, \u05b6\u05e0\u05b4\u05bc\u05d9\u0592, \u05b6\u05e0\u05b4\u05bc\u05d9\u05ae, \u05b6\u05e0\u05b8\u05bc\u05d4, \u05b6\u05e0\u05b8\u05bc\u05d4\u05ae, \u05b6\u05e0\u05bc\u05d5\u05bc\u0592, \u05b7\u0591\u05d4\u05bc, \u05b7\u0591\u05d9, \u05b7\u0591\u05e0\u05b4\u05d9, \u05b7\u0591\u05e0\u05b8\u05d0, \u05b7\u0593\u05d9\u05c0, \u05b7\u0594\u05d4\u05bc, \u05b7\u0594\u05d9, \u05b7\u0594\u05d9\u05b4\u05da\u05b0, \u05b7\u0594\u05e0\u05b4\u05d9, \u05b7\u0595\u05d9, \u05b7\u0596\u05d4\u05bc, \u05b7\u0596\u05d9, \u05b7\u0596\u05d9\u05b4\u05da\u05b0, \u05b7\u0596\u05e0\u05b4\u05d9, \u05b7\u0596\u05e0\u05b8\u05d0, \u05b7\u0597\u05d4\u05bc, \u05b7\u0597\u05d9, \u05b7\u0597\u05d9\u05b4\u05da\u05b0, \u05b7\u0597\u05e0\u05b4\u05d9, \u05b7\u059b\u05d9, \u05b7\u059b\u05d9\u05b4\u05da\u05b0, \u05b7\u059b\u05e0\u05b4\u05d9, \u05b7\u059c\u05d9, \u05b7\u059c\u05d9\u05b4\u05da\u05b0, \u05b7\u059c\u05e0\u05b4\u05d9, \u05b7\u059e\u05d9, \u05b7\u05a1\u05d9, \u05b7\u05a1\u05d9\u05b4\u05da\u05b0, \u05b7\u05a3\u05d9, \u05b7\u05a3\u05d9\u05b4\u05da\u05b0, \u05b7\u05a3\u05d9\u05c0, \u05b7\u05a3\u05e0\u05b4\u05d9, \u05b7\u05a4\u05d9, \u05b7\u05a4\u05d9\u05b4\u05da\u05b0, \u05b7\u05a4\u05e0\u05b4\u05d9, \u05b7\u05a5\u05d9, \u05b7\u05a5\u05d9\u05b4\u05da\u05b0, \u05b7\u05a5\u05e0\u05b4\u05d9, \u05b7\u05a7\u05d9, \u05b7\u05a7\u05d9\u05b4\u05da\u05b0, \u05b7\u05a8\u05d4\u05bc, \u05b7\u05a8\u05d9, \u05b7\u05a8\u05d9\u05b4\u05da\u05b0\u0599, \u05b7\u05a8\u05d9\u05c0, \u05b7\u05a8\u05e0\u05b4\u05d9\u0599, \u05b7\u05a8\u05e0\u05b8\u05d0\u0599, \u05b7\u05aa\u05d9, \u05b7\u05bd\u05d4\u05bc, \u05b7\u05bd\u05e0\u05b4\u05d9, \u05b7\u05d4\u05bc\u0599, \u05b7\u05d4\u05bc\u05be, \u05b7\u05d9, \u05b7\u05d9\u0592, \u05b7\u05d9\u0599, \u05b7\u05d9\u05a9, \u05b7\u05d9\u05ae, \u05b7\u05d9\u05b4\u05da\u05b0, \u05b7\u05d9\u05b5\u05d4\u05bc, \u05b7\u05d9\u05b7\u05bc\u05d4\u05bc, \u05b7\u05dd, \u05b7\u05e0\u05b4\u05d9, \u05b7\u05e0\u05d5\u05bc, \u05b8\u0591\u05d4\u05bc, \u05b8\u0591\u05d9, \u05b8\u0591\u05d9\u05b4\u05da\u05b0, \u05b8\u0591\u05d9\u05d5, \u05b8\u0591\u05da\u05b0, \u05b8\u0591\u05db\u05b8\u05d4, \u05b8\u0591\u05dd, \u05b8\u0591\u05de\u05b9\u05d5, \u05b8\u0591\u05df, \u05b8\u0591\u05e0\u05b4\u05d9, \u05b8\u0591\u05e0\u05d5\u05bc, \u05b8\u0594\u05d4, \u05b8\u0594\u05d4\u05bc, \u05b8\u0594\u05d9, \u05b8\u0594\u05d9\u05d5, \u05b8\u0594\u05da\u05b0, \u05b8\u0594\u05dd, \u05b8\u0594\u05de\u05b9\u05d5, \u05b8\u0594\u05df, \u05b8\u0594\u05e0\u05b4\u05d9, \u05b8\u0594\u05e0\u05d5\u05bc, \u05b8\u0595\u05d4\u05bc, \u05b8\u0595\u05d9\u05d5, \u05b8\u0595\u05dd, \u05b8\u0595\u05df, \u05b8\u0596\u05d4, \u05b8\u0596\u05d4\u05bc, \u05b8\u0596\u05d9\u05d5, \u05b8\u0596\u05da\u05b0, \u05b8\u0596\u05dd, \u05b8\u0596\u05de\u05b9\u05d5, \u05b8\u0596\u05e0\u05b4\u05d9, \u05b8\u0596\u05e0\u05b8\u05d4, \u05b8\u0596\u05e0\u05d5\u05bc, \u05b8\u0597\u05d4\u05bc, \u05b8\u0597\u05d9\u05d5, \u05b8\u0597\u05da\u05b0, \u05b8\u0597\u05dd, \u05b8\u0597\u05de\u05b9\u05d5, \u05b8\u0597\u05df, \u05b8\u0597\u05e0\u05d5\u05bc, \u05b8\u059b\u05d4\u05bc, \u05b8\u059b\u05d9\u05d5, \u05b8\u059b\u05da\u05b0, \u05b8\u059b\u05dd, \u05b8\u059b\u05e0\u05d5\u05bc, \u05b8\u059c\u05d4\u05bc, \u05b8\u059c\u05d9\u05d5, \u05b8\u059c\u05da\u05b0, \u05b8\u059c\u05dd, \u05b8\u059c\u05e0\u05d5\u05bc, \u05b8\u059e\u05d4\u05bc, \u05b8\u059e\u05da\u05b0, \u05b8\u059e\u05dd, \u05b8\u05a1\u05d4\u05bc, \u05b8\u05a1\u05d9\u05d5, \u05b8\u05a1\u05da\u05b0, \u05b8\u05a1\u05dd, \u05b8\u05a3\u05d4\u05bc, \u05b8\u05a3\u05d4\u05bc\u05c0, \u05b8\u05a3\u05d9\u05d5, \u05b8\u05a3\u05d9\u05d5\u05c0, \u05b8\u05a3\u05da\u05b0, \u05b8\u05a3\u05da\u05b0\u05c0, \u05b8\u05a3\u05db\u05b6\u05dd, \u05b8\u05a3\u05dd, \u05b8\u05a3\u05dd\u05c0, \u05b8\u05a3\u05de\u05b9\u05d5, \u05b8\u05a3\u05e0\u05d5\u05bc, \u05b8\u05a4\u05d4\u05bc, \u05b8\u05a4\u05d9\u05d5, \u05b8\u05a4\u05da\u05b0, \u05b8\u05a4\u05dd, \u05b8\u05a4\u05e0\u05d5\u05bc, \u05b8\u05a5\u05d4\u05bc, \u05b8\u05a5\u05d4\u05bf, \u05b8\u05a5\u05d9, \u05b8\u05a5\u05d9\u05d5, \u05b8\u05a5\u05d9\u05d5\u05c0, \u05b8\u05a5\u05da\u05b0, \u05b8\u05a5\u05dd, \u05b8\u05a5\u05dd\u05c0, \u05b8\u05a5\u05de\u05b9\u05d5, \u05b8\u05a5\u05e0\u05b4\u05d9, \u05b8\u05a5\u05e0\u05d5\u05bc, \u05b8\u05a6\u05d4, \u05b8\u05a7\u05d4\u05bc, \u05b8\u05a7\u05d9\u05d5, \u05b8\u05a7\u05dd, \u05b8\u05a7\u05e0\u05d5\u05bc, \u05b8\u05a8\u05d4, \u05b8\u05a8\u05d4\u05bc, \u05b8\u05a8\u05d9\u05d5, \u05b8\u05a8\u05d9\u05d5\u05c0, \u05b8\u05a8\u05da\u05b0, \u05b8\u05a8\u05dd, \u05b8\u05a8\u05dd\u05c0, \u05b8\u05a8\u05de\u05b9\u05d5\u05c0, \u05b8\u05a8\u05e0\u05d5\u05bc, \u05b8\u05a8\u05e0\u05d5\u05bc\u0599, \u05b8\u05aa\u05d4\u05bc, \u05b8\u05ab\u05d4\u05b6\u05a5\u05dd, \u05b8\u05bd\u05d4, \u05b8\u05bd\u05d4\u05bc, \u05b8\u05bd\u05d4\u05d5\u05bc, \u05b8\u05bd\u05d9, \u05b8\u05bd\u05d9\u05b0\u05db\u05b4\u05d9, \u05b8\u05bd\u05d9\u05b4\u05da\u05b0, \u05b8\u05bd\u05d9\u05d5, \u05b8\u05bd\u05da\u05b0, \u05b8\u05bd\u05dd, \u05b8\u05bd\u05de\u05b9\u05d5, \u05b8\u05bd\u05df, \u05b8\u05bd\u05e0\u05b4\u05d9, \u05b8\u05bd\u05e0\u05b8\u05d4, \u05b8\u05bd\u05e0\u05d5\u05bc, \u05b8\u05d4, \u05b8\u05d4\u0599, \u05b8\u05d4\u05b5\u0591\u05df, \u05b8\u05d4\u05b5\u0596\u05df, \u05b8\u05d4\u05b5\u0597\u05dd, \u05b8\u05d4\u05b5\u059b\u05dd, \u05b8\u05d4\u05b5\u05a3\u05df\u05c0, \u05b8\u05d4\u05b5\u05a4\u05dd\u05c0, \u05b8\u05d4\u05b5\u05bd\u05df, \u05b8\u05d4\u05b5\u05dd\u0599, \u05b8\u05d4\u05b5\u05df\u0599, \u05b8\u05d4\u05b6\u0591\u05dd, \u05b8\u05d4\u05b6\u0594\u05dd, \u05b8\u05d4\u05b6\u0594\u05df, \u05b8\u05d4\u05b6\u0596\u05dd, \u05b8\u05d4\u05b6\u0596\u05dd\u05ae, \u05b8\u05d4\u05b6\u0596\u05df, \u05b8\u05d4\u05b6\u0597\u05dd, \u05b8\u05d4\u05b6\u0597\u05df, \u05b8\u05d4\u05b6\u059b\u05dd, \u05b8\u05d4\u05b6\u059c\u05dd, \u05b8\u05d4\u05b6\u059e\u05dd, \u05b8\u05d4\u05b6\u05a1\u05dd, \u05b8\u05d4\u05b6\u05a3\u05dd, \u05b8\u05d4\u05b6\u05a3\u05dd\u05c0, \u05b8\u05d4\u05b6\u05a4\u05dd, \u05b8\u05d4\u05b6\u05a5\u05dd, \u05b8\u05d4\u05b6\u05a5\u05df, \u05b8\u05d4\u05b6\u05a7\u05dd, \u05b8\u05d4\u05b6\u05a7\u05dd\u05c0, \u05b8\u05d4\u05b6\u05a8\u05dd, \u05b8\u05d4\u05b6\u05a8\u05dd\u05c0, \u05b8\u05d4\u05b6\u05bd\u05dd, \u05b8\u05d4\u05b6\u05bd\u05df, \u05b8\u05d4\u05b6\u05dd, \u05b8\u05d4\u05b6\u05dd\u0592, \u05b8\u05d4\u05b6\u05dd\u0599, \u05b8\u05d4\u05b6\u05dd\u05a9, \u05b8\u05d4\u05b6\u05dd\u05ae, \u05b8\u05d4\u05b6\u05df\u0599, \u05b8\u05d4\u05bc, \u05b8\u05d4\u05bc\u0592, \u05b8\u05d4\u05bc\u0599, \u05b8\u05d4\u05bc\u05a9, \u05b8\u05d4\u05bc\u05ae, \u05b8\u05d5, \u05b8\u05d5\u0599, \u05b8\u05d9\u05b4\u05dd, \u05b8\u05d9\u05d5, \u05b8\u05d9\u05d5\u0592, \u05b8\u05d9\u05d5\u0599, \u05b8\u05d9\u05d5\u05a9, \u05b8\u05d9\u05d5\u05ae, \u05b8\u05d9\u05dd, \u05b8\u05da\u05b0, \u05b8\u05da\u05b0\u0592, \u05b8\u05da\u05b0\u0599, \u05b8\u05da\u05b0\u05ae, \u05b8\u05db\u05b6\u0591\u05dd, \u05b8\u05db\u05b6\u0594\u05dd, \u05b8\u05db\u05b6\u0595\u05dd, \u05b8\u05db\u05b6\u0596\u05dd, \u05b8\u05db\u05b6\u0597\u05dd, \u05b8\u05db\u05b6\u059b\u05dd, \u05b8\u05db\u05b6\u059c\u05dd, \u05b8\u05db\u05b6\u059e\u05dd, \u05b8\u05db\u05b6\u05a3\u05dd, \u05b8\u05db\u05b6\u05a4\u05dd, \u05b8\u05db\u05b6\u05a5\u05dd, \u05b8\u05db\u05b6\u05a5\u05e0\u05b8\u05d4, \u05b8\u05db\u05b6\u05a7\u05dd, \u05b8\u05db\u05b6\u05a8\u05dd, \u05b8\u05db\u05b6\u05a8\u05dd\u05c0, \u05b8\u05db\u05b6\u05aa\u05dd, \u05b8\u05db\u05b6\u05bd\u05dd, \u05b8\u05db\u05b6\u05dd, \u05b8\u05db\u05b6\u05dd\u0592, \u05b8\u05db\u05b6\u05dd\u0599, \u05b8\u05db\u05b6\u05dd\u05a9, \u05b8\u05db\u05b6\u05dd\u05ae, \u05b8\u05dd, \u05b8\u05dd\u0592, \u05b8\u05dd\u0599, \u05b8\u05dd\u05a9, \u05b8\u05dd\u05ae, \u05b8\u05df\u0599, \u05b8\u05e0\u05d5\u05bc, \u05b8\u05e0\u05d5\u05bc\u05a9, \u05b8\u05e0\u05d5\u05bc\u05ae, \u05b9\u0591\u05d4\u05b4\u05d9, \u05b9\u0591\u05d4\u05d5\u05bc, \u05b9\u0591\u05d5, \u05b9\u0591\u05d5\u05d4\u05b4\u05d9, \u05b9\u0594\u05d4\u05d5\u05bc, \u05b9\u0594\u05d5, \u05b9\u0594\u05d5\u05d4\u05b4\u05d9, \u05b9\u0594\u05e0\u05b4\u05d9, \u05b9\u0594\u05e0\u05d5\u05bc, \u05b9\u0595\u05d5, \u05b9\u0596\u05d4\u05d5\u05bc, \u05b9\u0596\u05d5, \u05b9\u0596\u05d5\u05d4\u05b4\u05d9, \u05b9\u0596\u05db\u05b8\u05d4, \u05b9\u0596\u05e0\u05b4\u05d9, \u05b9\u0596\u05e0\u05d5\u05bc, \u05b9\u0597\u05d4\u05d5\u05bc, \u05b9\u0597\u05d5, \u05b9\u059b\u05d4\u05d5\u05bc, \u05b9\u059b\u05d5, \u05b9\u059c\u05d4\u05d5\u05bc, \u05b9\u059c\u05d5, \u05b9\u059e\u05d5, \u05b9\u05a1\u05d5, \u05b9\u05a3\u05d4\u05d5\u05bc, \u05b9\u05a3\u05d5, \u05b9\u05a3\u05d5\u05c0, \u05b9\u05a3\u05e0\u05b4\u05d9, \u05b9\u05a4\u05d5, \u05b9\u05a4\u05d5\u05c0, \u05b9\u05a4\u05db\u05b8\u05d4, \u05b9\u05a5\u05d4\u05d5\u05bc, \u05b9\u05a5\u05d5, \u05b9\u05a6\u05d5, \u05b9\u05a7\u05d5, \u05b9\u05a8\u05d4\u05d5\u05bc\u0599, \u05b9\u05a8\u05d5, \u05b9\u05a8\u05d5\u05c0, \u05b9\u05aa\u05d5, \u05b9\u05ac\u05d5, \u05b9\u05bd\u05d4, \u05b9\u05bd\u05d4\u05d5\u05bc, \u05b9\u05bd\u05d5, \u05b9\u05bd\u05d5\u05be, \u05b9\u05bd\u05d5\u05d4\u05b4\u05d9, \u05b9\u05bd\u05e0\u05b4\u05d9, \u05b9\u05d0, \u05b9\u05d4, \u05b9\u05d4\u05d5\u05bc\u05a9, \u05b9\u05d5, \u05b9\u05d5\u0592, \u05b9\u05d5\u0599, \u05b9\u05d5\u05a9, \u05b9\u05d5\u05ae, \u05b9\u05d5\u05be, \u05bb\u0591\u05d4\u05d5\u05bc, \u05bb\u0594\u05d4\u05d5\u05bc, \u05bb\u0596\u05d4\u05d5\u05bc, \u05bb\u0596\u05dd, \u05bb\u0596\u05e0\u05b4\u05d9, \u05bb\u05a8\u05e0\u05d5\u05bc\u0599, \u05bb\u05bd\u05d4\u05d5\u05bc, \u05bb\u05d4\u05d5\u05bc, \u05d0, \u05d0\u0599, \u05d0\u05c0, \u05d0\u05da\u05b8\u0599, \u05d3, \u05d4, \u05d4\u0599, \u05d4\u05ab\u05d5\u05bc, \u05d4\u05ae, \u05d4\u05b0\u05e0\u05b8\u05d4, \u05d4\u05b4\u05d9, \u05d4\u05b4\u05d9\u0599, \u05d4\u05b4\u05d9\u05a9, \u05d4\u05b5\u05a5\u05df, \u05d4\u05b5\u05a8\u05de\u05b8\u05d4, \u05d4\u05b6\u0591\u05dd, \u05d4\u05b6\u0591\u05df, \u05d4\u05b6\u0593\u05dd\u05c0, \u05d4\u05b6\u0594\u05dd, \u05d4\u05b6\u0594\u05df, \u05d4\u05b6\u0595\u05dd, \u05d4\u05b6\u0596\u05dd, \u05d4\u05b6\u0596\u05df, \u05d4\u05b6\u0597\u05dd, \u05d4\u05b6\u0597\u05df, \u05d4\u05b6\u059b\u05dd, \u05d4\u05b6\u059c\u05dd, \u05d4\u05b6\u059e\u05dd, \u05d4\u05b6\u05a1\u05dd, \u05d4\u05b6\u05a3\u05dd, \u05d4\u05b6\u05a3\u05dd\u05c0, \u05d4\u05b6\u05a3\u05df, \u05d4\u05b6\u05a4\u05dd, \u05d4\u05b6\u05a4\u05dd\u05c0, \u05d4\u05b6\u05a4\u05df, \u05d4\u05b6\u05a5\u05dd, \u05d4\u05b6\u05a5\u05df, \u05d4\u05b6\u05a7\u05dd, \u05d4\u05b6\u05a8\u05dd, \u05d4\u05b6\u05a8\u05dd\u05c0, \u05d4\u05b6\u05bd\u05dd, \u05d4\u05b6\u05bd\u05df, \u05d4\u05b6\u05bd\u05e0\u05b8\u05d4, \u05d4\u05b6\u05dd, \u05d4\u05b6\u05dd\u0592, \u05d4\u05b6\u05dd\u0599, \u05d4\u05b6\u05dd\u05a9, \u05d4\u05b6\u05dd\u05ae, \u05d4\u05b6\u05df\u0599, \u05d4\u05b7\u05dd, \u05d4\u05b8, \u05d4\u05b8\u0592, \u05d4\u05b8\u0599, \u05d4\u05b8\u05a9, \u05d4\u05b8\u05ae, \u05d4\u05b8\u05be, \u05d4\u05b8\u05c0, \u05d4\u05b8\u05d0, \u05d4\u05b9\u0591\u05d5\u05df, \u05d4\u05b9\u0594\u05d5\u05df, \u05d4\u05b9\u0596\u05d5\u05df, \u05d4\u05b9\u0596\u05dd, \u05d4\u05b9\u0597\u05d5\u05df, \u05d4\u05b9\u0597\u05dd, \u05d4\u05b9\u059e\u05d5\u05df, \u05d4\u05b9\u05a3\u05d5\u05df, \u05d4\u05b9\u05bd\u05d5\u05df, \u05d4\u05b9\u05bd\u05dd, \u05d4\u05b9\u05d5\u05df, \u05d4\u05b9\u05d5\u05df\u0599, \u05d4\u05bc, \u05d4\u05bc\u0592, \u05d4\u05bc\u0599, \u05d4\u05bc\u05a9, \u05d4\u05bc\u05ae, \u05d4\u05b6\u05bc\u0591\u05dd, \u05d4\u05bc\u05c0, \u05d4\u05bd\u05d5\u05bc, \u05d4\u05bf, \u05d4\u05c4\u05d5\u05bc\u05c4, \u05d4\u05d5\u05bc, \u05d4\u05d5\u05bc\u0592, \u05d4\u05d5\u05bc\u0599, \u05d4\u05d5\u05bc\u05a9, \u05d4\u05d5\u05bc\u05ae, \u05d4\u05d5\u05bc\u05c0, \u05d5, \u05d5\u0592, \u05d5\u0599, \u05d5\u05a9, \u05d5\u05ae, \u05d5\u05bc, \u05d5\u05bc\u0592, \u05d5\u05bc\u0599, \u05d5\u05bc\u05c0, \u05d5\u05bc\u05d4\u05b4\u05d9, \u05d5\u05bc\u05da\u05b0, \u05d5\u05bc\u05de\u05b9\u05d5, \u05d5\u05bc\u05e0\u05b4\u05d9, \u05d5\u05be, \u05d5\u05c0, \u05d5\u05d4\u05b4\u05d9, \u05d5\u05d5, \u05d5\u05e0\u05b4\u05d9, \u05d9, \u05d9\u0592, \u05d9\u0599, \u05d9\u05a9, \u05d9\u05ae, \u05d9\u05b4\u05da\u05b0, \u05d9\u05b5\u0597\u05d4\u05bc, \u05d9\u05b5\u0597\u05d4\u05d5\u05bc, \u05d9\u05b5\u05bd\u05d4\u05bc, \u05d9\u05b5\u05d4\u05bc\u0599, \u05d9\u05b7, \u05d9\u05b9\u05d5\u0599, \u05d9\u05b7\u05bc\u05d4\u05bc, \u05d9\u05be, \u05d9\u05c0, \u05d9\u05c4\u05d5\u05c4, \u05d9\u05d4, \u05d9\u05d4\u05b6\u0591\u05dd, \u05d9\u05d4\u05b6\u0591\u05df, \u05d9\u05d4\u05b6\u0594\u05dd, \u05d9\u05d4\u05b6\u0594\u05df, \u05d9\u05d4\u05b6\u0596\u05dd, \u05d9\u05d4\u05b6\u0596\u05df, \u05d9\u05d4\u05b6\u0597\u05dd, \u05d9\u05d4\u05b6\u059b\u05dd, \u05d9\u05d4\u05b6\u059b\u05df, \u05d9\u05d4\u05b6\u05a3\u05dd, \u05d9\u05d4\u05b6\u05a3\u05df, \u05d9\u05d4\u05b6\u05a4\u05dd, \u05d9\u05d4\u05b6\u05a5\u05dd, \u05d9\u05d4\u05b6\u05a5\u05df, \u05d9\u05d4\u05b6\u05a8\u05dd, \u05d9\u05d4\u05b6\u05bd\u05dd, \u05d9\u05d4\u05b6\u05bd\u05df, \u05d9\u05d4\u05b6\u05dd, \u05d9\u05d4\u05b6\u05dd\u0599, \u05d9\u05d4\u05b6\u05dd\u05ae, \u05d9\u05d4\u05b6\u05df\u0599, \u05d9\u05d4\u05b8, \u05d9\u05d4\u05b8\u0599, \u05d9\u05d4\u05b9\u05d5\u05df, \u05d9\u05d4\u05bc, \u05d9\u05d4\u05d5\u05bc, \u05d9\u05d4\u05d5\u05bc\u05ae, \u05d9\u05d5, \u05d9\u05d5\u0592, \u05d9\u05d5\u0599, \u05d9\u05d5\u05ae, \u05d9\u05da\u05b0, \u05d9\u05da\u05b0\u0599, \u05d9\u05da\u05b0\u05ae, \u05d9\u05da\u05b8, \u05d9\u05da\u05b8\u0592, \u05d9\u05da\u05b8\u0599, \u05d9\u05db\u05b6\u0591\u05dd, \u05d9\u05db\u05b6\u0594\u05dd, \u05d9\u05db\u05b6\u0594\u05df, \u05d9\u05db\u05b6\u0596\u05dd, \u05d9\u05db\u05b6\u0596\u05df, \u05d9\u05db\u05b6\u059b\u05dd, \u05d9\u05db\u05b6\u059c\u05dd, \u05d9\u05db\u05b6\u05a3\u05dd, \u05d9\u05db\u05b6\u05a4\u05dd, \u05d9\u05db\u05b6\u05a5\u05dd, \u05d9\u05db\u05b6\u05bd\u05dd, \u05d9\u05db\u05b6\u05bd\u05df, \u05d9\u05db\u05b6\u05dd, \u05d9\u05db\u05b6\u05dd\u0592, \u05d9\u05db\u05b6\u05dd\u0599, \u05d9\u05db\u05b6\u05df\u0599, \u05d9\u05e0\u05b4\u05d9, \u05d9\u05e0\u05d5\u05bc, \u05d9\u05e0\u05d5\u05bc\u0592, \u05d9\u05e0\u05d5\u05bc\u0599, \u05d9\u05e0\u05d5\u05bc\u05ae, \u05da, \u05da\u05b0, \u05da\u05b0\u0592, \u05da\u05b0\u0599, \u05da\u05b0\u05a9, \u05da\u05b0\u05c0, \u05da\u05b8, \u05da\u05b8\u0591, \u05da\u05b8\u0592, \u05da\u05b8\u0593\u05c0, \u05da\u05b8\u0594, \u05da\u05b8\u0595, \u05da\u05b8\u0596, \u05da\u05b8\u0596\u0599, \u05da\u05b8\u0596\u05a3\u05c0, \u05da\u05b8\u0597, \u05da\u05b8\u0599, \u05da\u05b8\u059b, \u05da\u05b8\u059c, \u05da\u05b8\u059c\u05a9, \u05da\u05b8\u059e, \u05da\u05b8\u05a1, \u05da\u05b8\u05a3, \u05da\u05b8\u05a3\u05c0, \u05da\u05b8\u05a4, \u05da\u05b8\u05a4\u05a8, \u05da\u05b8\u05a5, \u05da\u05b8\u05a7, \u05da\u05b8\u05a8, \u05da\u05b8\u05a8\u05c0, \u05da\u05b8\u05a9, \u05da\u05b8\u05aa, \u05da\u05b8\u05ae, \u05da\u05b8\u05bd, \u05da\u05b8\u05bd\u05a3\u05be, \u05da\u05b8\u05bd\u05be, \u05da\u05b8\u05be, \u05da\u05b8\u05c0, \u05da\u05b8\u05bc, \u05db\u05b4\u05d9, \u05db\u05b5\u05d4, \u05db\u05b5\u05d9, \u05db\u05b6\u0591\u05dd, \u05db\u05b6\u0594\u05dd, \u05db\u05b6\u0594\u05df, \u05db\u05b6\u0595\u05dd, \u05db\u05b6\u0596\u05dd, \u05db\u05b6\u0596\u05df, \u05db\u05b6\u0597\u05dd, \u05db\u05b6\u059b\u05dd, \u05db\u05b6\u059c\u05dd, \u05db\u05b6\u059e\u05dd, \u05db\u05b6\u05a1\u05dd, \u05db\u05b6\u05a3\u05dd, \u05db\u05b6\u05a3\u05dd\u05c0, \u05db\u05b6\u05a3\u05df, \u05db\u05b6\u05a4\u05dd, \u05db\u05b6\u05a5\u05dd, \u05db\u05b6\u05a7\u05dd, \u05db\u05b6\u05a8\u05dd, \u05db\u05b6\u05a8\u05dd\u05c0, \u05db\u05b6\u05a8\u05e0\u05b8\u05d4\u0599, \u05db\u05b6\u05bd\u05dd, \u05db\u05b6\u05bd\u05df, \u05db\u05b6\u05dd, \u05db\u05b6\u05dd\u0592, \u05db\u05b6\u05dd\u0599, \u05db\u05b6\u05dd\u05a9, \u05db\u05b6\u05dd\u05ae, \u05db\u05b6\u05df\u0599, \u05db\u05b8\u0594\u05d4, \u05db\u05b8\u0596\u05d4, \u05db\u05b8\u059b\u05d4, \u05db\u05b8\u059c\u05d4, \u05db\u05b8\u059e\u05d4, \u05db\u05b8\u05a3\u05d4, \u05db\u05b8\u05a5\u05d4, \u05db\u05b8\u05a8\u05d4, \u05db\u05b8\u05d4, \u05db\u05b9\u0596\u05d5\u05df, \u05db\u05b9\u0596\u05dd, \u05db\u05b9\u0597\u05d5\u05df, \u05db\u05b9\u05a3\u05d5\u05df, \u05db\u05b9\u05a5\u05d5\u05df, \u05db\u05b9\u05d5\u05df\u0599, \u05db\u05b8\u05bc\u05d4, \u05db\u05b8\u05bc\u05d4\u0599, \u05dd, \u05dd\u0592, \u05dd\u0599, \u05dd\u05a9, \u05dd\u05ae, \u05dd\u05be, \u05dd\u05c0, \u05de\u05b9\u05d5, \u05de\u05b9\u05d5\u0599, \u05de\u05b9\u05d5\u05c0, \u05de\u05d5\u05bc, \u05df, \u05e0\u05b0\u05da\u05b8\u05bc, \u05e0\u05b0\u05db\u05b9\u0596\u05d5\u05df, \u05e0\u05b0\u05db\u05b9\u05d5\u05df, \u05e0\u05b0\u05e0\u05b4\u05d9, \u05e0\u05b4\u05bd\u05d9, \u05e0\u05b4\u05d9, \u05e0\u05b4\u05d9\u0599, \u05e0\u05b4\u05d9\u05ae, \u05e0\u05b4\u05d9\u05be, \u05e0\u05b4\u05d9\u05c0, \u05e0\u05b8\u05d0, \u05e0\u05b8\u05d0\u0599, \u05e0\u05b8\u05d4, \u05e0\u05b8\u05d4\u0599, \u05e0\u05b9\u059b\u05d5, \u05e0\u05b9\u059c\u05d5, \u05e0\u05b9\u05a3\u05d5, \u05e0\u05b9\u05d5\u05be, \u05e0\u05bc\u059b\u05d5\u05bc, \u05e0\u05bc\u05a3\u05d5\u05bc, \u05e0\u05b4\u05bc\u05d9, \u05e0\u05b4\u05bc\u05d9\u05a9, \u05e0\u05b5\u05bc\u05bd\u05d4\u05bc, \u05e0\u05b7\u05bc\u0591\u05e0\u05b4\u05d9, \u05e0\u05b7\u05bc\u0594\u05e0\u05b4\u05d9, \u05e0\u05b7\u05bc\u0596\u05d4\u05bc, \u05e0\u05b7\u05bc\u05bd\u05d4\u05bc, \u05e0\u05b7\u05bc\u05bd\u05e0\u05b4\u05d9, \u05e0\u05b8\u05bc\u05bd\u05da\u05b0, \u05e0\u05b8\u05bc\u05d4, \u05e0\u05bc\u05d5\u05bc, \u05e0\u05bc\u05d5\u05bc\u0599, \u05e0\u05bc\u05d5\u05bc\u05a9, \u05e0\u05c4\u05d5\u05bc\u0599\u05c4, \u05e0\u05c4\u05d5\u05bc\u05c4, \u05e0\u05d5\u05bc, \u05e0\u05d5\u05bc\u0592, \u05e0\u05d5\u05bc\u0599, \u05e0\u05d5\u05bc\u05a9, \u05e0\u05d5\u05bc\u05ab, \u05e0\u05d5\u05bc\u05ae, \u05e0\u05d5\u05bc\u05c0\n",
        "graphical pronoun suffix plain: , \u05d0, \u05d0\u05da, \u05d3, \u05d4, \u05d4\u05be, \u05d4\u05d0, \u05d4\u05d5, \u05d4\u05d5\u05dd, \u05d4\u05d5\u05df, \u05d4\u05d9, \u05d4\u05dd, \u05d4\u05de\u05d4, \u05d4\u05df, \u05d4\u05e0\u05d4, \u05d5, \u05d5\u05be, \u05d5\u05d4\u05d9, \u05d5\u05d5, \u05d5\u05da, \u05d5\u05de\u05d5, \u05d5\u05e0\u05d9, \u05d9, \u05d9\u05be, \u05d9\u05d4, \u05d9\u05d4\u05d5, \u05d9\u05d4\u05d5\u05df, \u05d9\u05d4\u05dd, \u05d9\u05d4\u05df, \u05d9\u05d5, \u05d9\u05da, \u05d9\u05db\u05d9, \u05d9\u05db\u05dd, \u05d9\u05db\u05df, \u05d9\u05dd, \u05d9\u05de\u05d5, \u05d9\u05e0\u05d0, \u05d9\u05e0\u05d5, \u05d9\u05e0\u05d9, \u05da, \u05da\u05be, \u05db\u05d4, \u05db\u05d5\u05df, \u05db\u05d9, \u05db\u05dd, \u05db\u05df, \u05db\u05e0\u05d4, \u05dd, \u05dd\u05be, \u05de\u05d5, \u05df, \u05e0\u05d0, \u05e0\u05d4, \u05e0\u05d5, \u05e0\u05d5\u05be, \u05e0\u05d9, \u05e0\u05d9\u05be, \u05e0\u05da, \u05e0\u05db\u05d5\u05df, \u05e0\u05e0\u05d9\n",
        " '+NJ': '+NJ',\n",
        " '+MW': '+MW',\n",
        " '+W': '+W',\n",
        " '+H_Aramaic': '+H_Aramaic',\n",
        " '+KWN': '+KWN',\n",
        " '+HW': '+HW',\n",
        " '+HJ': '+HJ',\n",
        " '+HWN': '+HWN',\n",
        " '+HM': '+HM',\n",
        " '+HN': '+HN',\n",
        " 'Not_applicable': 'Not_applicable',\n",
        " '+K': '+K',\n",
        " '+J': '+J',\n",
        " '+M': '+M',\n",
        " '+NW': '+NW',\n",
        " '+KN': '+KN',\n",
        " '+H=': '+H=',\n",
        " '+KM': '+KM',\n",
        " 'Absent': 'Absent',\n",
        " '+K=': '+K=',\n",
        " '+H_Hebrew': '+H_Hebrew',\n",
        " '+N>': '+N>',\n",
        " '+N': '+N',\n"
       ]
      }
     ],
     "prompt_number": 19
    },
    {
     "cell_type": "heading",
     "level": 2,
     "metadata": {},
     "source": [
      "Verbal ending (paradigmatic)"
     ]
    },
    {
     "cell_type": "code",
     "collapsed": true,
     "input": [
      "pves = {}\n",
      "for i in NN(test=F.shebanq_db_otype.v, values=['word']):\n",
      "    pve = F.shebanq_ft_paradigmatic_verbal_ending.v(i)\n",
      "    pves[pve] = None\n",
      "sorted(pves.keys())"
     ],
     "language": "python",
     "metadata": {},
     "outputs": [
      {
       "metadata": {},
       "output_type": "pyout",
       "prompt_number": 35,
       "text": [
        "['Not_applicable',\n",
        " '[',\n",
        " '[H',\n",
        " '[H=',\n",
        " '[J',\n",
        " '[JN',\n",
        " '[N',\n",
        " '[N>',\n",
        " '[NH',\n",
        " '[NW',\n",
        " '[T',\n",
        " '[T=',\n",
        " '[T==',\n",
        " '[TH',\n",
        " '[TJ',\n",
        " '[TM',\n",
        " '[TN',\n",
        " '[TWN',\n",
        " '[W',\n",
        " '[WN']"
       ]
      }
     ],
     "prompt_number": 35
    },
    {
     "cell_type": "heading",
     "level": 1,
     "metadata": {},
     "source": [
      "Conventions for all tasks"
     ]
    },
    {
     "cell_type": "code",
     "collapsed": false,
     "input": [
      "pos_table = {\n",
      " 'adjective': 'aj',\n",
      " 'adverb': 'av',\n",
      " 'article': 'dt',\n",
      " 'conjunction': 'cj',\n",
      " 'interjection': 'ij',\n",
      " 'interrogative': 'ir',\n",
      " 'negative': 'ng',\n",
      " 'noun': 'n',\n",
      " 'preposition': 'pp',\n",
      " 'pronoun': 'pr',\n",
      " 'verb': 'vb',\n",
      "}\n",
      "\n",
      "pron_suffix_table = {\n",
      " '+NJ': '+NJ',\n",
      " '+MW': '+MW',\n",
      " '+W': '+W',\n",
      " '+H_Aramaic': '+H_Aramaic',\n",
      " '+KWN': '+KWN',\n",
      " '+HW': '+HW',\n",
      " '+HJ': '+HJ',\n",
      " '+HWN': '+HWN',\n",
      " '+HM': '+HM',\n",
      " '+HN': '+HN',\n",
      " 'Not_applicable': '!',\n",
      " '+K': '+K',\n",
      " '+J': '+J',\n",
      " '+M': '+M',\n",
      " '+NW': '+NW',\n",
      " '+KN': '+KN',\n",
      " '+H=': '+H=',\n",
      " '+KM': '+KM',\n",
      " 'Absent': '',\n",
      " '+K=': '+K=',\n",
      " '+H_Hebrew': '+H_Hebrew',\n",
      " '+N>': '+N>',\n",
      " '+N': '+N',\n",
      "}"
     ],
     "language": "python",
     "metadata": {},
     "outputs": [],
     "prompt_number": 6
    },
    {
     "cell_type": "heading",
     "level": 1,
     "metadata": {},
     "source": [
      "Task: Participles in Clause Atoms"
     ]
    },
    {
     "cell_type": "heading",
     "level": 2,
     "metadata": {},
     "source": [
      "Specification"
     ]
    },
    {
     "cell_type": "markdown",
     "metadata": {},
     "source": [
      "We want to analyse participles in their clause-*atoms*, not in their full clauses.\n",
      "We are particularly interested in verbal complements that these participles have in their clause-atom.\n",
      "\n",
      "Let us start with pronominal suffixes attached to the participle.\n",
      "\n",
      "We need to find all words marked with ``tense=participle`` or ``tense=passive_particple``.\n",
      "From there, we need all surrounding words in the same clause-*atom*.\n",
      "Of all words, we need the ``part_of_speech`` and the ``phrase_dependent_part_of_speech`` features,\n",
      "and of the participle we need the ``paradigmatic_pron_suffix`` as well.\n",
      "\n",
      "We output a tab delimited file.\n",
      "\n",
      "One row per participle, containing the following fields:\n",
      "\n",
      "sequence number | passage label | \n",
      "\n",
      "pos-tags of words before | pos tag of ptc | pronoun suffix (paradigmatic) | pos-tags of words after | \n",
      "\n",
      "plain text of words after | pronoun suffix (plain) | plain text of ptc | plain text of words before\n",
      "\n",
      "Every participle is shown within its clause-atom.\n",
      "\n",
      "If there are several participles in the same clause-atom, we put every participle in a separate row."
     ]
    },
    {
     "cell_type": "heading",
     "level": 2,
     "metadata": {},
     "source": [
      "Execute the task: data collection"
     ]
    },
    {
     "cell_type": "code",
     "collapsed": true,
     "input": [
      "msg(\"Get the participles...\")\n",
      "\n",
      "book = None\n",
      "chapter = None\n",
      "verse = None\n",
      "label = None\n",
      "\n",
      "found_total = 0\n",
      "found_in_book = 0\n",
      "found_total = 0\n",
      "clause_atoms = []\n",
      "current_clause = []\n",
      "has_participle = None\n",
      "\n",
      "for i in NN(test=F.shebanq_db_otype.v, values=['book', 'chapter', 'verse', 'clause_atom', 'word']):\n",
      "    otype = F.shebanq_db_otype.v(i)\n",
      "    if otype == 'word':\n",
      "        tense = F.shebanq_ft_tense.v(i)\n",
      "        is_participle = tense == 'participle' or tense == 'passive_participle'\n",
      "        suffix_info = ()\n",
      "        if is_participle:\n",
      "            has_participle = True\n",
      "            pron_suff_para = pron_suffix_table[F.shebanq_ft_paradigmatic_pron_suffix.v(i)]\n",
      "            pron_suff_plain = F.shebanq_ft_graphical_pron_suffix_plain.v(i)\n",
      "            suffix_info = (pron_suff_para, pron_suff_plain)\n",
      "            found_total += 1\n",
      "        pos = pos_table[F.shebanq_ft_part_of_speech.v(i)]\n",
      "        pdpos = pos_table[F.shebanq_ft_phrase_dependent_part_of_speech.v(i)]\n",
      "        rpos = pos if pos == pdpos else \"{}~{}\".format(pos, pdpos)\n",
      "        current_clause.append((\n",
      "            is_participle,\n",
      "            F.shebanq_ft_text_plain.v(i),\n",
      "            rpos,\n",
      "            suffix_info,\n",
      "        ))\n",
      "    elif otype == 'clause_atom':\n",
      "        if has_participle:\n",
      "            clause_atoms.append((label, current_clause))\n",
      "            found_in_book += 1\n",
      "        current_clause = []\n",
      "        has_participle = False\n",
      "    elif otype == 'book':\n",
      "        if book != None:\n",
      "            msg(\"{} ({})\".format(book, found_in_book), withtime=False)\n",
      "            found_in_book = 0\n",
      "        book = F.shebanq_sft_book.v(i)\n",
      "    elif otype == 'chapter':\n",
      "        chapter = F.shebanq_sft_chapter.v(i)\n",
      "    elif otype == 'verse':\n",
      "        verse = F.shebanq_sft_verse.v(i)\n",
      "        label = \"{} {}:{}\".format(book, chapter, verse)\n",
      "if has_participle:\n",
      "    clause_atoms.append((label, current_clause))\n",
      "msg(\"{} ({})\".format(book, found_in_book), withtime=False)\n",
      "\n",
      "msg(\"Found {} participles in {} clause atoms\".format(found_total, len(clause_atoms)))"
     ],
     "language": "python",
     "metadata": {},
     "outputs": [
      {
       "output_type": "stream",
       "stream": "stderr",
       "text": [
        " 5m 54s Get the participles...\n"
       ]
      },
      {
       "output_type": "stream",
       "stream": "stderr",
       "text": [
        "Genesis (354)\n"
       ]
      },
      {
       "output_type": "stream",
       "stream": "stderr",
       "text": [
        "Exodus (340)\n"
       ]
      },
      {
       "output_type": "stream",
       "stream": "stderr",
       "text": [
        "Leviticus (232)\n"
       ]
      },
      {
       "output_type": "stream",
       "stream": "stderr",
       "text": [
        "Numbers (384)\n"
       ]
      },
      {
       "output_type": "stream",
       "stream": "stderr",
       "text": [
        "Deuteronomy (435)\n"
       ]
      },
      {
       "output_type": "stream",
       "stream": "stderr",
       "text": [
        "Joshua (187)\n"
       ]
      },
      {
       "output_type": "stream",
       "stream": "stderr",
       "text": [
        "Judges (227)\n"
       ]
      },
      {
       "output_type": "stream",
       "stream": "stderr",
       "text": [
        "I_Samuel (325)\n"
       ]
      },
      {
       "output_type": "stream",
       "stream": "stderr",
       "text": [
        "II_Samuel (250)\n"
       ]
      },
      {
       "output_type": "stream",
       "stream": "stderr",
       "text": [
        "I_Kings (286)\n"
       ]
      },
      {
       "output_type": "stream",
       "stream": "stderr",
       "text": [
        "II_Kings (291)\n"
       ]
      },
      {
       "output_type": "stream",
       "stream": "stderr",
       "text": [
        "Isaiah (807)\n"
       ]
      },
      {
       "output_type": "stream",
       "stream": "stderr",
       "text": [
        "Jeremiah (743)\n"
       ]
      },
      {
       "output_type": "stream",
       "stream": "stderr",
       "text": [
        "Ezekiel (505)\n"
       ]
      },
      {
       "output_type": "stream",
       "stream": "stderr",
       "text": [
        "Hosea (71)\n"
       ]
      },
      {
       "output_type": "stream",
       "stream": "stderr",
       "text": [
        "Joel (28)\n"
       ]
      },
      {
       "output_type": "stream",
       "stream": "stderr",
       "text": [
        "Amos (79)\n"
       ]
      },
      {
       "output_type": "stream",
       "stream": "stderr",
       "text": [
        "Obadiah (7)\n"
       ]
      },
      {
       "output_type": "stream",
       "stream": "stderr",
       "text": [
        "Jonah (15)\n"
       ]
      },
      {
       "output_type": "stream",
       "stream": "stderr",
       "text": [
        "Micah (71)\n"
       ]
      },
      {
       "output_type": "stream",
       "stream": "stderr",
       "text": [
        "Nahum (48)\n"
       ]
      },
      {
       "output_type": "stream",
       "stream": "stderr",
       "text": [
        "Habakkuk (28)\n"
       ]
      },
      {
       "output_type": "stream",
       "stream": "stderr",
       "text": [
        "Zephaniah (44)\n"
       ]
      },
      {
       "output_type": "stream",
       "stream": "stderr",
       "text": [
        "Haggai (11)\n"
       ]
      },
      {
       "output_type": "stream",
       "stream": "stderr",
       "text": [
        "Zechariah (131)\n"
       ]
      },
      {
       "output_type": "stream",
       "stream": "stderr",
       "text": [
        "Malachi (51)\n"
       ]
      },
      {
       "output_type": "stream",
       "stream": "stderr",
       "text": [
        "Psalms (903)\n"
       ]
      },
      {
       "output_type": "stream",
       "stream": "stderr",
       "text": [
        "Job (217)\n"
       ]
      },
      {
       "output_type": "stream",
       "stream": "stderr",
       "text": [
        "Proverbs (489)\n"
       ]
      },
      {
       "output_type": "stream",
       "stream": "stderr",
       "text": [
        "Ruth (34)\n"
       ]
      },
      {
       "output_type": "stream",
       "stream": "stderr",
       "text": [
        "Canticles (62)\n"
       ]
      },
      {
       "output_type": "stream",
       "stream": "stderr",
       "text": [
        "Ecclesiastes (126)\n"
       ]
      },
      {
       "output_type": "stream",
       "stream": "stderr",
       "text": [
        "Lamentations (58)\n"
       ]
      },
      {
       "output_type": "stream",
       "stream": "stderr",
       "text": [
        "Esther (109)\n"
       ]
      },
      {
       "output_type": "stream",
       "stream": "stderr",
       "text": [
        "Daniel (337)\n"
       ]
      },
      {
       "output_type": "stream",
       "stream": "stderr",
       "text": [
        "Ezra (110)\n"
       ]
      },
      {
       "output_type": "stream",
       "stream": "stderr",
       "text": [
        "Nehemiah (204)\n"
       ]
      },
      {
       "output_type": "stream",
       "stream": "stderr",
       "text": [
        "I_Chronicles (193)\n"
       ]
      },
      {
       "output_type": "stream",
       "stream": "stderr",
       "text": [
        "II_Chronicles (355)\n"
       ]
      },
      {
       "output_type": "stream",
       "stream": "stderr",
       "text": [
        " 5m 57s Found 9658 participles in 9147 clause atoms\n"
       ]
      }
     ],
     "prompt_number": 9
    },
    {
     "cell_type": "heading",
     "level": 2,
     "metadata": {},
     "source": [
      "Execute the task: formatting output"
     ]
    },
    {
     "cell_type": "code",
     "collapsed": false,
     "input": [
      "split_clause_atoms = []\n",
      "for (label, clause) in clause_atoms:\n",
      "    ptcs = [n for (n, w) in enumerate(clause) if w[0]]\n",
      "    for ptc in ptcs:\n",
      "        split_clause_atoms.append((\n",
      "            label,\n",
      "            clause[0:ptc],\n",
      "            clause[ptc],\n",
      "            clause[ptc+1:len(clause)] if ptc < len(clause) - 1 else [],\n",
      "        ))"
     ],
     "language": "python",
     "metadata": {},
     "outputs": [],
     "prompt_number": 23
    },
    {
     "cell_type": "code",
     "collapsed": true,
     "input": [
      "ptc_cl_atoms = processor.add_output(\"ptc_cl_atoms.csv\")\n",
      "ptc_cl_atoms.write(\"n\\tpassage\\tp_pre\\tp_ptc\\tp_suff\\tp_post\\tt_post\\tt_suff\\tt_ptc\\tt_pre\\n\")\n",
      "for (n, (label, pre, ptc, post)) in enumerate(split_clause_atoms):\n",
      "    fields = [str(n+1), label]\n",
      "    fields.append(\"|\".join([w[2] for w in pre]))\n",
      "    fields.append(ptc[2])\n",
      "    fields.append(ptc[3][0])\n",
      "    fields.append(\"|\".join([w[2] for w in post]))\n",
      "    fields.append(\" \".join([w[1] for w in post]))\n",
      "    fields.append(ptc[3][1])\n",
      "    fields.append(ptc[1])\n",
      "    fields.append(\" \".join([w[1] for w in pre]))\n",
      "    ptc_cl_atoms.write(\"{}\\n\".format(\"\\t\".join(fields)))\n",
      "processor.final()"
     ],
     "language": "python",
     "metadata": {},
     "outputs": [
      {
       "output_type": "stream",
       "stream": "stderr",
       "text": [
        " 4h 20m 55s END TASK participle\n"
       ]
      },
      {
       "output_type": "stream",
       "stream": "stderr",
       "text": [
        " 4h 20m 55s Results directory:\n",
        "/Users/dirk/Scratch/shebanq/results/bhs3.txt.hdr/participle\n"
       ]
      },
      {
       "output_type": "stream",
       "stream": "stderr",
       "text": [
        ".DS_Store                              6148 Wed Jan 22 19:53:43 2014\n",
        "__log__participle.txt                  2007 Thu Jan 23 12:54:09 2014\n",
        "participles.txt                       11760 Thu Jan  9 14:04:43 2014\n",
        "ptc_cl_atoms.csv                     665762 Thu Jan 23 17:13:01 2014\n",
        "ptc_cls.csv                          619020 Thu Jan 23 13:02:06 2014\n",
        "ptc_tab.csv                          619020 Thu Jan 23 10:09:33 2014\n",
        "ptc_tab.ods                          258119 Thu Jan 23 10:27:12 2014\n"
       ]
      }
     ],
     "prompt_number": 27
    },
    {
     "cell_type": "heading",
     "level": 2,
     "metadata": {},
     "source": [
      "Playing with the output"
     ]
    },
    {
     "cell_type": "markdown",
     "metadata": {},
     "source": [
      "First of all: I opened the ``ptc_tab.csv`` (a tab delimited file) in OpenOffice, and there I formatted some rows and columns, defined a region, and sorted the rows. The result I saved in ``ptc_tab.ods`` (also on GitHub, same directory as this notebook).\n",
      "\n",
      "Let's get an impression of what we've got in our tab delimited file."
     ]
    },
    {
     "cell_type": "code",
     "collapsed": false,
     "input": [
      "%matplotlib inline\n",
      "import pandas\n",
      "from IPython.display import display\n",
      "pandas.set_option('display.notebook_repr_html', True)"
     ],
     "language": "python",
     "metadata": {},
     "outputs": [],
     "prompt_number": 25
    },
    {
     "cell_type": "code",
     "collapsed": false,
     "input": [
      "table_file = processor.my_files('ptc_cl_atoms.csv')\n",
      "df = pandas.read_csv(table_file, sep=\"\\t\", keep_default_na=False, na_values=[])\n",
      "df.head(10)"
     ],
     "language": "python",
     "metadata": {},
     "outputs": [
      {
       "html": [
        "<div style=\"max-height:1000px;max-width:1500px;overflow:auto;\">\n",
        "<table border=\"1\" class=\"dataframe\">\n",
        "  <thead>\n",
        "    <tr style=\"text-align: right;\">\n",
        "      <th></th>\n",
        "      <th>n</th>\n",
        "      <th>passage</th>\n",
        "      <th>p_pre</th>\n",
        "      <th>p_ptc</th>\n",
        "      <th>p_suff</th>\n",
        "      <th>p_post</th>\n",
        "      <th>t_post</th>\n",
        "      <th>t_suff</th>\n",
        "      <th>t_ptc</th>\n",
        "      <th>t_pre</th>\n",
        "    </tr>\n",
        "  </thead>\n",
        "  <tbody>\n",
        "    <tr>\n",
        "      <th>0</th>\n",
        "      <td>  1</td>\n",
        "      <td>  Genesis 1:3</td>\n",
        "      <td> cj|n|n</td>\n",
        "      <td> vb</td>\n",
        "      <td> </td>\n",
        "      <td>   pp|n|dt|n</td>\n",
        "      <td>  \u05e2\u05dc \u05e4\u05e0\u05d9 \u05d4 \u05de\u05d9\u05dd</td>\n",
        "      <td> </td>\n",
        "      <td> \u05de\u05e8\u05d7\u05e4\u05ea</td>\n",
        "      <td> \u05d5 \u05e8\u05d5\u05d7 \u05d0\u05dc\u05d4\u05d9\u05dd</td>\n",
        "    </tr>\n",
        "    <tr>\n",
        "      <th>1</th>\n",
        "      <td>  2</td>\n",
        "      <td>  Genesis 1:7</td>\n",
        "      <td>  cj|vb</td>\n",
        "      <td> vb</td>\n",
        "      <td> </td>\n",
        "      <td> n~pp|n|pp|n</td>\n",
        "      <td> \u05d1\u05d9\u05df \u05de\u05d9\u05dd \u05dc \u05de\u05d9\u05dd</td>\n",
        "      <td> </td>\n",
        "      <td> \u05de\u05d1\u05d3\u05d9\u05dc</td>\n",
        "      <td>       \u05d5 \u05d9\u05d4\u05d9</td>\n",
        "    </tr>\n",
        "    <tr>\n",
        "      <th>2</th>\n",
        "      <td>  3</td>\n",
        "      <td> Genesis 1:11</td>\n",
        "      <td>       </td>\n",
        "      <td> vb</td>\n",
        "      <td> </td>\n",
        "      <td>           n</td>\n",
        "      <td>           \u05d6\u05e8\u05e2</td>\n",
        "      <td> </td>\n",
        "      <td> \u05de\u05d6\u05e8\u05d9\u05e2</td>\n",
        "      <td>            </td>\n",
        "    </tr>\n",
        "    <tr>\n",
        "      <th>3</th>\n",
        "      <td>  4</td>\n",
        "      <td> Genesis 1:11</td>\n",
        "      <td>       </td>\n",
        "      <td> vb</td>\n",
        "      <td> </td>\n",
        "      <td>      n|pp|n</td>\n",
        "      <td>    \u05e4\u05e8\u05d9 \u05dc \u05de\u05d9\u05e0\u05d5</td>\n",
        "      <td> </td>\n",
        "      <td>  \u05e2\u05e9\u05c2\u05d4</td>\n",
        "      <td>            </td>\n",
        "    </tr>\n",
        "    <tr>\n",
        "      <th>4</th>\n",
        "      <td>  5</td>\n",
        "      <td> Genesis 1:12</td>\n",
        "      <td>       </td>\n",
        "      <td> vb</td>\n",
        "      <td> </td>\n",
        "      <td>      n|pp|n</td>\n",
        "      <td>   \u05d6\u05e8\u05e2 \u05dc \u05de\u05d9\u05e0\u05d4\u05d5</td>\n",
        "      <td> </td>\n",
        "      <td> \u05de\u05d6\u05e8\u05d9\u05e2</td>\n",
        "      <td>            </td>\n",
        "    </tr>\n",
        "    <tr>\n",
        "      <th>5</th>\n",
        "      <td>  6</td>\n",
        "      <td> Genesis 1:12</td>\n",
        "      <td>       </td>\n",
        "      <td> vb</td>\n",
        "      <td> </td>\n",
        "      <td>           n</td>\n",
        "      <td>           \u05e4\u05e8\u05d9</td>\n",
        "      <td> </td>\n",
        "      <td>  \u05e2\u05e9\u05c2\u05d4</td>\n",
        "      <td>            </td>\n",
        "    </tr>\n",
        "    <tr>\n",
        "      <th>6</th>\n",
        "      <td>  7</td>\n",
        "      <td> Genesis 1:21</td>\n",
        "      <td>  dt~cj</td>\n",
        "      <td> vb</td>\n",
        "      <td> </td>\n",
        "      <td>            </td>\n",
        "      <td>              </td>\n",
        "      <td> </td>\n",
        "      <td> \u05e8\u05de\u05e9\u05c2\u05ea</td>\n",
        "      <td>           \u05d4</td>\n",
        "    </tr>\n",
        "    <tr>\n",
        "      <th>7</th>\n",
        "      <td>  8</td>\n",
        "      <td> Genesis 1:27</td>\n",
        "      <td>  dt~cj</td>\n",
        "      <td> vb</td>\n",
        "      <td> </td>\n",
        "      <td>     pp|dt|n</td>\n",
        "      <td>      \u05e2\u05dc \u05d4 \u05d0\u05e8\u05e5</td>\n",
        "      <td> </td>\n",
        "      <td>  \u05e8\u05de\u05e9\u05c2</td>\n",
        "      <td>           \u05d4</td>\n",
        "    </tr>\n",
        "    <tr>\n",
        "      <th>8</th>\n",
        "      <td>  9</td>\n",
        "      <td> Genesis 1:29</td>\n",
        "      <td>  dt~cj</td>\n",
        "      <td> vb</td>\n",
        "      <td> </td>\n",
        "      <td>     pp|dt|n</td>\n",
        "      <td>      \u05e2\u05dc \u05d4 \u05d0\u05e8\u05e5</td>\n",
        "      <td> </td>\n",
        "      <td> \u05e8\u05de\u05e9\u05c2\u05ea</td>\n",
        "      <td>           \u05d4</td>\n",
        "    </tr>\n",
        "    <tr>\n",
        "      <th>9</th>\n",
        "      <td> 10</td>\n",
        "      <td> Genesis 1:29</td>\n",
        "      <td>       </td>\n",
        "      <td> vb</td>\n",
        "      <td> </td>\n",
        "      <td>           n</td>\n",
        "      <td>           \u05d6\u05e8\u05e2</td>\n",
        "      <td> </td>\n",
        "      <td>   \u05d6\u05e8\u05e2</td>\n",
        "      <td>            </td>\n",
        "    </tr>\n",
        "  </tbody>\n",
        "</table>\n",
        "</div>"
       ],
       "metadata": {},
       "output_type": "pyout",
       "prompt_number": 28,
       "text": [
        "    n       passage   p_pre p_ptc p_suff       p_post         t_post t_suff  \\\n",
        "0   1   Genesis 1:3  cj|n|n    vb           pp|n|dt|n   \u05e2\u05dc \u05e4\u05e0\u05d9 \u05d4 \u05de\u05d9\u05dd          \n",
        "1   2   Genesis 1:7   cj|vb    vb         n~pp|n|pp|n  \u05d1\u05d9\u05df \u05de\u05d9\u05dd \u05dc \u05de\u05d9\u05dd          \n",
        "2   3  Genesis 1:11            vb                   n            \u05d6\u05e8\u05e2          \n",
        "3   4  Genesis 1:11            vb              n|pp|n     \u05e4\u05e8\u05d9 \u05dc \u05de\u05d9\u05e0\u05d5          \n",
        "4   5  Genesis 1:12            vb              n|pp|n    \u05d6\u05e8\u05e2 \u05dc \u05de\u05d9\u05e0\u05d4\u05d5          \n",
        "5   6  Genesis 1:12            vb                   n            \u05e4\u05e8\u05d9          \n",
        "6   7  Genesis 1:21   dt~cj    vb                                             \n",
        "7   8  Genesis 1:27   dt~cj    vb             pp|dt|n       \u05e2\u05dc \u05d4 \u05d0\u05e8\u05e5          \n",
        "8   9  Genesis 1:29   dt~cj    vb             pp|dt|n       \u05e2\u05dc \u05d4 \u05d0\u05e8\u05e5          \n",
        "9  10  Genesis 1:29            vb                   n            \u05d6\u05e8\u05e2          \n",
        "\n",
        "   t_ptc        t_pre  \n",
        "0  \u05de\u05e8\u05d7\u05e4\u05ea  \u05d5 \u05e8\u05d5\u05d7 \u05d0\u05dc\u05d4\u05d9\u05dd  \n",
        "1  \u05de\u05d1\u05d3\u05d9\u05dc        \u05d5 \u05d9\u05d4\u05d9  \n",
        "2  \u05de\u05d6\u05e8\u05d9\u05e2               \n",
        "3   \u05e2\u05e9\u05c2\u05d4               \n",
        "4  \u05de\u05d6\u05e8\u05d9\u05e2               \n",
        "5   \u05e2\u05e9\u05c2\u05d4               \n",
        "6  \u05e8\u05de\u05e9\u05c2\u05ea            \u05d4  \n",
        "7   \u05e8\u05de\u05e9\u05c2            \u05d4  \n",
        "8  \u05e8\u05de\u05e9\u05c2\u05ea            \u05d4  \n",
        "9    \u05d6\u05e8\u05e2               "
       ]
      }
     ],
     "prompt_number": 28
    },
    {
     "cell_type": "heading",
     "level": 1,
     "metadata": {},
     "source": [
      "Task: Participles and phrases"
     ]
    },
    {
     "cell_type": "heading",
     "level": 2,
     "metadata": {},
     "source": [
      "Specification"
     ]
    },
    {
     "cell_type": "markdown",
     "metadata": {},
     "source": [
      "We want to analyse participles in their relationships to the phrases they govern within clause-*atoms*.\n",
      "We are particularly interested in verbal complements that these participles have in their clause-atom.\n",
      "\n",
      "We need to find all words marked with ``tense=participle``.\n",
      "From there, we need all surrounding phrases, subphrases and words in the same clause-*atom*.\n",
      "\n",
      "We output a tab delimited file.\n",
      "\n",
      "One row per participle, containing the following fields:\n",
      "\n",
      "sequence number | passage label | \n",
      "\n",
      "phrase structure of words before | pos tag of ptc | phrase structure of words after | \n",
      "\n",
      "plain text of words after | plain text of ptc | plain text of words before\n",
      "\n",
      "Every participle is shown within its clause-atom.\n",
      "\n",
      "If there are several participles in the same clause-atom, we put every participle in a separate row."
     ]
    },
    {
     "cell_type": "heading",
     "level": 2,
     "metadata": {},
     "source": [
      "Execute the task: data collection"
     ]
    },
    {
     "cell_type": "code",
     "collapsed": true,
     "input": [
      "msg(\"Get the participles...\")\n",
      "\n",
      "book = None\n",
      "chapter = None\n",
      "verse = None\n",
      "label = None\n",
      "\n",
      "found_in_book = 0\n",
      "found_total = 0\n",
      "clause_phrases = []\n",
      "current_clause = []\n",
      "has_participle = None\n",
      "\n",
      "for i in NN(test=F.shebanq_db_otype.v, values=['book', 'chapter', 'verse', 'clause_atom', 'phrase', 'subphrase', 'word']):\n",
      "    otype = F.shebanq_db_otype.v(i)\n",
      "    if otype == 'word':\n",
      "        tense = F.shebanq_ft_tense.v(i)\n",
      "        is_participle = tense == 'participle'\n",
      "        if is_participle:\n",
      "            has_participle = True\n",
      "            found_total += 1\n",
      "        pos = pos_table[F.shebanq_ft_part_of_speech.v(i)]\n",
      "        pdpos = pos_table[F.shebanq_ft_phrase_dependent_part_of_speech.v(i)]\n",
      "        rpos = pos if pos == pdpos else \"{}~{}\".format(pos, pdpos)\n",
      "        current_clause.append((\n",
      "            is_participle,\n",
      "            F.shebanq_ft_text_plain.v(i),\n",
      "            rpos,\n",
      "        ))\n",
      "    elif otype == 'phrase':\n",
      "        pass\n",
      "    elif otype == 'subphrase':\n",
      "        pass\n",
      "    elif otype == 'clause_atom':\n",
      "        if has_participle:\n",
      "            clause_phrases.append((label, current_clause))\n",
      "            found_in_book += 1\n",
      "        current_clause = []\n",
      "        has_participle = False\n",
      "    elif otype == 'book':\n",
      "        if book != None:\n",
      "            msg(\"{} ({})\".format(book, found_in_book), withtime=False)\n",
      "            found_in_book = 0\n",
      "        book = F.shebanq_sft_book.v(i)\n",
      "    elif otype == 'chapter':\n",
      "        chapter = F.shebanq_sft_chapter.v(i)\n",
      "    elif otype == 'verse':\n",
      "        verse = F.shebanq_sft_verse.v(i)\n",
      "        label = \"{} {}:{}\".format(book, chapter, verse)\n",
      "if has_participle:\n",
      "    clause_phrases.append((label, current_clause))\n",
      "msg(\"{} ({})\".format(book, found_in_book), withtime=False)\n",
      "\n",
      "msg(\"Found {} participles in {} clause atoms\".format(found_total, len(clause_atoms)))"
     ],
     "language": "python",
     "metadata": {},
     "outputs": [
      {
       "output_type": "stream",
       "stream": "stderr",
       "text": [
        " 1h 02m 56s Get the participles...\n"
       ]
      },
      {
       "output_type": "stream",
       "stream": "stderr",
       "text": [
        "Genesis (319)\n"
       ]
      },
      {
       "output_type": "stream",
       "stream": "stderr",
       "text": [
        "Exodus (271)\n"
       ]
      },
      {
       "output_type": "stream",
       "stream": "stderr",
       "text": [
        "Leviticus (205)\n"
       ]
      },
      {
       "output_type": "stream",
       "stream": "stderr",
       "text": [
        "Numbers (249)\n"
       ]
      },
      {
       "output_type": "stream",
       "stream": "stderr",
       "text": [
        "Deuteronomy (367)\n"
       ]
      },
      {
       "output_type": "stream",
       "stream": "stderr",
       "text": [
        "Joshua (164)\n"
       ]
      },
      {
       "output_type": "stream",
       "stream": "stderr",
       "text": [
        "Judges (213)\n"
       ]
      },
      {
       "output_type": "stream",
       "stream": "stderr",
       "text": [
        "I_Samuel (293)\n"
       ]
      },
      {
       "output_type": "stream",
       "stream": "stderr",
       "text": [
        "II_Samuel (221)\n"
       ]
      },
      {
       "output_type": "stream",
       "stream": "stderr",
       "text": [
        "I_Kings (225)\n"
       ]
      },
      {
       "output_type": "stream",
       "stream": "stderr",
       "text": [
        "II_Kings (234)\n"
       ]
      },
      {
       "output_type": "stream",
       "stream": "stderr",
       "text": [
        "Isaiah (713)\n"
       ]
      },
      {
       "output_type": "stream",
       "stream": "stderr",
       "text": [
        "Jeremiah (680)\n"
       ]
      },
      {
       "output_type": "stream",
       "stream": "stderr",
       "text": [
        "Ezekiel (431)\n"
       ]
      },
      {
       "output_type": "stream",
       "stream": "stderr",
       "text": [
        "Hosea (60)\n"
       ]
      },
      {
       "output_type": "stream",
       "stream": "stderr",
       "text": [
        "Joel (23)\n"
       ]
      },
      {
       "output_type": "stream",
       "stream": "stderr",
       "text": [
        "Amos (76)\n"
       ]
      },
      {
       "output_type": "stream",
       "stream": "stderr",
       "text": [
        "Obadiah (5)\n"
       ]
      },
      {
       "output_type": "stream",
       "stream": "stderr",
       "text": [
        "Jonah (14)\n"
       ]
      },
      {
       "output_type": "stream",
       "stream": "stderr",
       "text": [
        "Micah (68)\n"
       ]
      },
      {
       "output_type": "stream",
       "stream": "stderr",
       "text": [
        "Nahum (43)\n"
       ]
      },
      {
       "output_type": "stream",
       "stream": "stderr",
       "text": [
        "Habakkuk (26)\n"
       ]
      },
      {
       "output_type": "stream",
       "stream": "stderr",
       "text": [
        "Zephaniah (42)\n"
       ]
      },
      {
       "output_type": "stream",
       "stream": "stderr",
       "text": [
        "Haggai (10)\n"
       ]
      },
      {
       "output_type": "stream",
       "stream": "stderr",
       "text": [
        "Zechariah (129)\n"
       ]
      },
      {
       "output_type": "stream",
       "stream": "stderr",
       "text": [
        "Malachi (49)\n"
       ]
      },
      {
       "output_type": "stream",
       "stream": "stderr",
       "text": [
        "Psalms (824)\n"
       ]
      },
      {
       "output_type": "stream",
       "stream": "stderr",
       "text": [
        "Job (190)\n"
       ]
      },
      {
       "output_type": "stream",
       "stream": "stderr",
       "text": [
        "Proverbs (465)\n"
       ]
      },
      {
       "output_type": "stream",
       "stream": "stderr",
       "text": [
        "Ruth (31)\n"
       ]
      },
      {
       "output_type": "stream",
       "stream": "stderr",
       "text": [
        "Canticles (47)\n"
       ]
      },
      {
       "output_type": "stream",
       "stream": "stderr",
       "text": [
        "Ecclesiastes (113)\n"
       ]
      },
      {
       "output_type": "stream",
       "stream": "stderr",
       "text": [
        "Lamentations (54)\n"
       ]
      },
      {
       "output_type": "stream",
       "stream": "stderr",
       "text": [
        "Esther (95)\n"
       ]
      },
      {
       "output_type": "stream",
       "stream": "stderr",
       "text": [
        "Daniel (329)\n"
       ]
      },
      {
       "output_type": "stream",
       "stream": "stderr",
       "text": [
        "Ezra (100)\n"
       ]
      },
      {
       "output_type": "stream",
       "stream": "stderr",
       "text": [
        "Nehemiah (173)\n"
       ]
      },
      {
       "output_type": "stream",
       "stream": "stderr",
       "text": [
        "I_Chronicles (163)\n"
       ]
      },
      {
       "output_type": "stream",
       "stream": "stderr",
       "text": [
        "II_Chronicles (292)\n"
       ]
      },
      {
       "output_type": "stream",
       "stream": "stderr",
       "text": [
        " 1h 02m 59s Found 8394 participles in 8006 clause atoms\n"
       ]
      }
     ],
     "prompt_number": 22
    },
    {
     "cell_type": "heading",
     "level": 2,
     "metadata": {},
     "source": [
      "Execute the task: formatting output"
     ]
    },
    {
     "cell_type": "code",
     "collapsed": false,
     "input": [
      "split_clause_phrases = []\n",
      "for (label, clause) in clause_phrases:\n",
      "    ptcs = [n for (n, w) in enumerate(clause) if w[0]]\n",
      "    for ptc in ptcs:\n",
      "        split_clause_phrases.append((\n",
      "            label,\n",
      "            clause[0:ptc],\n",
      "            clause[ptc],\n",
      "            clause[ptc+1:len(clause)] if ptc < len(clause) - 1 else [],\n",
      "        ))"
     ],
     "language": "python",
     "metadata": {},
     "outputs": [],
     "prompt_number": 23
    },
    {
     "cell_type": "code",
     "collapsed": true,
     "input": [
      "ptc_cl_phrases = processor.add_output(\"ptc_cl_phrases.csv\")\n",
      "ptc_cl_phrases.write(\"n\\tpassage\\tp_pre\\tp_ptc\\tp_post\\tt_post\\tt_ptc\\tt_pre\\n\")\n",
      "for (n, (label, pre, ptc, post)) in enumerate(split_clause_phrases):\n",
      "    fields = [str(n+1), label]\n",
      "    fields.append(\"|\".join([w[2] for w in pre]))\n",
      "    fields.append(ptc[2])\n",
      "    fields.append(\"|\".join([w[2] for w in post]))\n",
      "    fields.append(\" \".join([w[1] for w in post]))\n",
      "    fields.append(ptc[1])\n",
      "    fields.append(\" \".join([w[1] for w in pre]))\n",
      "    ptc_cl_atoms.write(\"{}\\n\".format(\"\\t\".join(fields)))\n",
      "processor.final()"
     ],
     "language": "python",
     "metadata": {},
     "outputs": [
      {
       "output_type": "stream",
       "stream": "stderr",
       "text": [
        " 4h 20m 55s END TASK participle\n"
       ]
      },
      {
       "output_type": "stream",
       "stream": "stderr",
       "text": [
        " 4h 20m 55s Results directory:\n",
        "/Users/dirk/Scratch/shebanq/results/bhs3.txt.hdr/participle\n"
       ]
      },
      {
       "output_type": "stream",
       "stream": "stderr",
       "text": [
        ".DS_Store                              6148 Wed Jan 22 19:53:43 2014\n",
        "__log__participle.txt                  2007 Thu Jan 23 12:54:09 2014\n",
        "participles.txt                       11760 Thu Jan  9 14:04:43 2014\n",
        "ptc_cl_atoms.csv                     665762 Thu Jan 23 17:13:01 2014\n",
        "ptc_cls.csv                          619020 Thu Jan 23 13:02:06 2014\n",
        "ptc_tab.csv                          619020 Thu Jan 23 10:09:33 2014\n",
        "ptc_tab.ods                          258119 Thu Jan 23 10:27:12 2014\n"
       ]
      }
     ],
     "prompt_number": 27
    },
    {
     "cell_type": "heading",
     "level": 1,
     "metadata": {},
     "source": [
      "Task: Participles in Clauses"
     ]
    },
    {
     "cell_type": "heading",
     "level": 2,
     "metadata": {},
     "source": [
      "Specification"
     ]
    },
    {
     "cell_type": "markdown",
     "metadata": {},
     "source": [
      "We need to find all words marked with ``tense=participle``.\n",
      "From there, we need all surrounding words in the same clause.\n",
      "Of all words, we need the ``part_of_speech`` and the ``phrase_dependent_part_of_speech`` features.\n",
      "\n",
      "We output a tab delimited file.\n",
      "\n",
      "One row per participle, containing the following fields:\n",
      "\n",
      "passage label | pos-tags of words before | pos tag of ptc | pos-tags of words after | plain text of words after | plain text of ptc | plain text of words before\n",
      "\n",
      "Every participle is shown within its clause.\n",
      "\n",
      "If there are several participles in the same clause, we put every participle in a separate row."
     ]
    },
    {
     "cell_type": "heading",
     "level": 2,
     "metadata": {},
     "source": [
      "Execute the task: data collection"
     ]
    },
    {
     "cell_type": "code",
     "collapsed": false,
     "input": [
      "msg(\"Get the participles...\")\n",
      "\n",
      "book = None\n",
      "chapter = None\n",
      "verse = None\n",
      "label = None\n",
      "\n",
      "found_in_book = 0\n",
      "found_total = 0\n",
      "clauses = []\n",
      "current_clause = []\n",
      "has_participle = None\n",
      "\n",
      "for i in NN(test=F.shebanq_db_otype.v, values=['book', 'chapter', 'verse', 'clause', 'word']):\n",
      "    otype = F.shebanq_db_otype.v(i)\n",
      "    if otype == 'word':\n",
      "        tense = F.shebanq_ft_tense.v(i)\n",
      "        is_participle = tense == 'participle'\n",
      "        if is_participle:\n",
      "            has_participle = True\n",
      "            found_total += 1\n",
      "        pos = pos_table[F.shebanq_ft_part_of_speech.v(i)]\n",
      "        pdpos = pos_table[F.shebanq_ft_phrase_dependent_part_of_speech.v(i)]\n",
      "        rpos = pos if pos == pdpos else \"{}~{}\".format(pos, pdpos)\n",
      "        current_clause.append((\n",
      "            is_participle,\n",
      "            F.shebanq_ft_text_plain.v(i),\n",
      "            rpos,\n",
      "        ))\n",
      "    elif otype == 'clause':\n",
      "        if has_participle:\n",
      "            clauses.append((label, current_clause))\n",
      "            found_in_book += 1\n",
      "        current_clause = []\n",
      "        has_participle = False\n",
      "    elif otype == 'book':\n",
      "        if book != None:\n",
      "            msg(\"{} ({})\".format(book, found_in_book), withtime=False)\n",
      "            found_in_book = 0\n",
      "        book = F.shebanq_sft_book.v(i)\n",
      "    elif otype == 'chapter':\n",
      "        chapter = F.shebanq_sft_chapter.v(i)\n",
      "    elif otype == 'verse':\n",
      "        verse = F.shebanq_sft_verse.v(i)\n",
      "        label = \"{} {}:{}\".format(book, chapter, verse)\n",
      "if has_participle:\n",
      "    clauses.append((label, current_clause))\n",
      "msg(\"{} ({})\".format(book, found_in_book), withtime=False)\n",
      "\n",
      "msg(\"Found {} participles in {} clauses\".format(found_total, len(clauses)))"
     ],
     "language": "python",
     "metadata": {},
     "outputs": [
      {
       "output_type": "stream",
       "stream": "stderr",
       "text": [
        " 2m 45s Get the participles...\n"
       ]
      },
      {
       "output_type": "stream",
       "stream": "stderr",
       "text": [
        "Genesis (317)\n"
       ]
      },
      {
       "output_type": "stream",
       "stream": "stderr",
       "text": [
        "Exodus (269)\n"
       ]
      },
      {
       "output_type": "stream",
       "stream": "stderr",
       "text": [
        "Leviticus (205)\n"
       ]
      },
      {
       "output_type": "stream",
       "stream": "stderr",
       "text": [
        "Numbers (249)\n"
       ]
      },
      {
       "output_type": "stream",
       "stream": "stderr",
       "text": [
        "Deuteronomy (362)\n"
       ]
      },
      {
       "output_type": "stream",
       "stream": "stderr",
       "text": [
        "Joshua (163)\n"
       ]
      },
      {
       "output_type": "stream",
       "stream": "stderr",
       "text": [
        "Judges (213)\n"
       ]
      },
      {
       "output_type": "stream",
       "stream": "stderr",
       "text": [
        "I_Samuel (292)\n"
       ]
      },
      {
       "output_type": "stream",
       "stream": "stderr",
       "text": [
        "II_Samuel (221)\n"
       ]
      },
      {
       "output_type": "stream",
       "stream": "stderr",
       "text": [
        "I_Kings (225)\n"
       ]
      },
      {
       "output_type": "stream",
       "stream": "stderr",
       "text": [
        "II_Kings (232)\n"
       ]
      },
      {
       "output_type": "stream",
       "stream": "stderr",
       "text": [
        "Isaiah (711)\n"
       ]
      },
      {
       "output_type": "stream",
       "stream": "stderr",
       "text": [
        "Jeremiah (672)\n"
       ]
      },
      {
       "output_type": "stream",
       "stream": "stderr",
       "text": [
        "Ezekiel (430)\n"
       ]
      },
      {
       "output_type": "stream",
       "stream": "stderr",
       "text": [
        "Hosea (60)\n"
       ]
      },
      {
       "output_type": "stream",
       "stream": "stderr",
       "text": [
        "Joel (23)\n"
       ]
      },
      {
       "output_type": "stream",
       "stream": "stderr",
       "text": [
        "Amos (76)\n"
       ]
      },
      {
       "output_type": "stream",
       "stream": "stderr",
       "text": [
        "Obadiah (5)\n"
       ]
      },
      {
       "output_type": "stream",
       "stream": "stderr",
       "text": [
        "Jonah (14)\n"
       ]
      },
      {
       "output_type": "stream",
       "stream": "stderr",
       "text": [
        "Micah (68)\n"
       ]
      },
      {
       "output_type": "stream",
       "stream": "stderr",
       "text": [
        "Nahum (43)\n"
       ]
      },
      {
       "output_type": "stream",
       "stream": "stderr",
       "text": [
        "Habakkuk (26)\n"
       ]
      },
      {
       "output_type": "stream",
       "stream": "stderr",
       "text": [
        "Zephaniah (42)\n"
       ]
      },
      {
       "output_type": "stream",
       "stream": "stderr",
       "text": [
        "Haggai (10)\n"
       ]
      },
      {
       "output_type": "stream",
       "stream": "stderr",
       "text": [
        "Zechariah (129)\n"
       ]
      },
      {
       "output_type": "stream",
       "stream": "stderr",
       "text": [
        "Malachi (49)\n"
       ]
      },
      {
       "output_type": "stream",
       "stream": "stderr",
       "text": [
        "Psalms (824)\n"
       ]
      },
      {
       "output_type": "stream",
       "stream": "stderr",
       "text": [
        "Job (190)\n"
       ]
      },
      {
       "output_type": "stream",
       "stream": "stderr",
       "text": [
        "Proverbs (465)\n"
       ]
      },
      {
       "output_type": "stream",
       "stream": "stderr",
       "text": [
        "Ruth (31)\n"
       ]
      },
      {
       "output_type": "stream",
       "stream": "stderr",
       "text": [
        "Canticles (47)\n"
       ]
      },
      {
       "output_type": "stream",
       "stream": "stderr",
       "text": [
        "Ecclesiastes (113)\n"
       ]
      },
      {
       "output_type": "stream",
       "stream": "stderr",
       "text": [
        "Lamentations (54)\n"
       ]
      },
      {
       "output_type": "stream",
       "stream": "stderr",
       "text": [
        "Esther (95)\n"
       ]
      },
      {
       "output_type": "stream",
       "stream": "stderr",
       "text": [
        "Daniel (329)\n"
       ]
      },
      {
       "output_type": "stream",
       "stream": "stderr",
       "text": [
        "Ezra (100)\n"
       ]
      },
      {
       "output_type": "stream",
       "stream": "stderr",
       "text": [
        "Nehemiah (171)\n"
       ]
      },
      {
       "output_type": "stream",
       "stream": "stderr",
       "text": [
        "I_Chronicles (163)\n"
       ]
      },
      {
       "output_type": "stream",
       "stream": "stderr",
       "text": [
        "II_Chronicles (292)\n"
       ]
      },
      {
       "output_type": "stream",
       "stream": "stderr",
       "text": [
        " 2m 48s Found 8394 participles in 7980 clauses\n"
       ]
      }
     ],
     "prompt_number": 10
    },
    {
     "cell_type": "heading",
     "level": 2,
     "metadata": {},
     "source": [
      "Execute the task: formatting output"
     ]
    },
    {
     "cell_type": "code",
     "collapsed": false,
     "input": [
      "split_clauses = []\n",
      "for (label, clause) in clauses:\n",
      "    ptcs = [n for (n, w) in enumerate(clause) if w[0]]\n",
      "    for ptc in ptcs:\n",
      "        split_clauses.append((\n",
      "            label,\n",
      "            clause[0:ptc],\n",
      "            clause[ptc],\n",
      "            clause[ptc+1:len(clause)] if ptc < len(clause) - 1 else [],\n",
      "        ))"
     ],
     "language": "python",
     "metadata": {},
     "outputs": [],
     "prompt_number": 11
    },
    {
     "cell_type": "code",
     "collapsed": false,
     "input": [
      "ptc_cls = processor.add_output(\"ptc_cls.csv\")\n",
      "ptc_cls.write(\"n\\tpassage\\tp_pre\\tp_ptc\\tp_post\\tt_post\\tt_ptc\\tt_pre\\n\")\n",
      "\n",
      "for (n, (label, pre, ptc, post)) in enumerate(split_clauses):\n",
      "    fields = [str(n+1), label]\n",
      "    fields.append(\"|\".join([w[2] for w in pre]))\n",
      "    fields.append(ptc[2])\n",
      "    fields.append(\"|\".join([w[2] for w in post]))\n",
      "    fields.append(\" \".join([w[1] for w in post]))\n",
      "    fields.append(ptc[1])\n",
      "    fields.append(\" \".join([w[1] for w in pre]))\n",
      "    ptc_cls.write(\"{}\\n\".format(\"\\t\".join(fields)))\n",
      "processor.final()"
     ],
     "language": "python",
     "metadata": {},
     "outputs": [
      {
       "output_type": "stream",
       "stream": "stderr",
       "text": [
        " 4h 23m 38s END TASK participle\n"
       ]
      },
      {
       "output_type": "stream",
       "stream": "stderr",
       "text": [
        " 4h 23m 38s Results directory:\n",
        "/Users/dirk/Scratch/shebanq/results/bhs3.txt.hdr/participle\n"
       ]
      },
      {
       "output_type": "stream",
       "stream": "stderr",
       "text": [
        ".DS_Store                              6148 Wed Jan 22 19:53:43 2014\n",
        "__log__participle.txt                  2007 Thu Jan 23 12:54:09 2014\n",
        "participles.txt                       11760 Thu Jan  9 14:04:43 2014\n",
        "ptc_cl_atoms.csv                     665762 Thu Jan 23 17:13:01 2014\n",
        "ptc_cls.csv                          659931 Thu Jan 23 17:15:44 2014\n",
        "ptc_tab.csv                          619020 Thu Jan 23 10:09:33 2014\n",
        "ptc_tab.ods                          258119 Thu Jan 23 10:27:12 2014\n"
       ]
      }
     ],
     "prompt_number": 31
    },
    {
     "cell_type": "heading",
     "level": 2,
     "metadata": {},
     "source": [
      "Playing with the output"
     ]
    },
    {
     "cell_type": "markdown",
     "metadata": {},
     "source": [
      "First of all: I opened the ``ptc_tab.csv`` (a tab delimited file) in OpenOffice, and there I formatted some rows and columns, defined a region, and sorted the rows. The result I saved in ``ptc_tab.ods`` (also on GitHub, same directory as this notebook).\n",
      "\n",
      "Let's get an impression of what we've got in our tab delimited file."
     ]
    },
    {
     "cell_type": "code",
     "collapsed": false,
     "input": [
      "%matplotlib inline\n",
      "import pandas\n",
      "from IPython.display import display\n",
      "pandas.set_option('display.notebook_repr_html', True)"
     ],
     "language": "python",
     "metadata": {},
     "outputs": [],
     "prompt_number": 6
    },
    {
     "cell_type": "code",
     "collapsed": false,
     "input": [
      "table_file = processor.my_files('ptc_cls.csv')\n",
      "df = pandas.read_csv(table_file, sep=\"\\t\", keep_default_na=False, na_values=[])\n",
      "df.head(10)"
     ],
     "language": "python",
     "metadata": {},
     "outputs": [
      {
       "html": [
        "<div style=\"max-height:1000px;max-width:1500px;overflow:auto;\">\n",
        "<table border=\"1\" class=\"dataframe\">\n",
        "  <thead>\n",
        "    <tr style=\"text-align: right;\">\n",
        "      <th></th>\n",
        "      <th>n</th>\n",
        "      <th>passage</th>\n",
        "      <th>p_pre</th>\n",
        "      <th>p_ptc</th>\n",
        "      <th>p_post</th>\n",
        "      <th>t_post</th>\n",
        "      <th>t_ptc</th>\n",
        "      <th>t_pre</th>\n",
        "    </tr>\n",
        "  </thead>\n",
        "  <tbody>\n",
        "    <tr>\n",
        "      <th>0</th>\n",
        "      <td>  1</td>\n",
        "      <td>  Genesis 1:3</td>\n",
        "      <td> cj|n|n</td>\n",
        "      <td> vb</td>\n",
        "      <td>   pp|n|dt|n</td>\n",
        "      <td>     \u05e2\u05dc \u05e4\u05e0\u05d9 \u05d4 \u05de\u05d9\u05dd</td>\n",
        "      <td> \u05de\u05e8\u05d7\u05e4\u05ea</td>\n",
        "      <td> \u05d5 \u05e8\u05d5\u05d7 \u05d0\u05dc\u05d4\u05d9\u05dd</td>\n",
        "    </tr>\n",
        "    <tr>\n",
        "      <th>1</th>\n",
        "      <td>  2</td>\n",
        "      <td>  Genesis 1:7</td>\n",
        "      <td>  cj|vb</td>\n",
        "      <td> vb</td>\n",
        "      <td> n~pp|n|pp|n</td>\n",
        "      <td>    \u05d1\u05d9\u05df \u05de\u05d9\u05dd \u05dc \u05de\u05d9\u05dd</td>\n",
        "      <td> \u05de\u05d1\u05d3\u05d9\u05dc</td>\n",
        "      <td>       \u05d5 \u05d9\u05d4\u05d9</td>\n",
        "    </tr>\n",
        "    <tr>\n",
        "      <th>2</th>\n",
        "      <td>  3</td>\n",
        "      <td> Genesis 1:11</td>\n",
        "      <td>       </td>\n",
        "      <td> vb</td>\n",
        "      <td>       n|n|n</td>\n",
        "      <td>       \u05d6\u05e8\u05e2 \u05e2\u05e5 \u05e4\u05e8\u05d9</td>\n",
        "      <td> \u05de\u05d6\u05e8\u05d9\u05e2</td>\n",
        "      <td>            </td>\n",
        "    </tr>\n",
        "    <tr>\n",
        "      <th>3</th>\n",
        "      <td>  4</td>\n",
        "      <td> Genesis 1:11</td>\n",
        "      <td>       </td>\n",
        "      <td> vb</td>\n",
        "      <td>      n|pp|n</td>\n",
        "      <td>       \u05e4\u05e8\u05d9 \u05dc \u05de\u05d9\u05e0\u05d5</td>\n",
        "      <td>  \u05e2\u05e9\u05c2\u05d4</td>\n",
        "      <td>            </td>\n",
        "    </tr>\n",
        "    <tr>\n",
        "      <th>4</th>\n",
        "      <td>  5</td>\n",
        "      <td> Genesis 1:12</td>\n",
        "      <td>       </td>\n",
        "      <td> vb</td>\n",
        "      <td> n|pp|n|cj|n</td>\n",
        "      <td> \u05d6\u05e8\u05e2 \u05dc \u05de\u05d9\u05e0\u05d4\u05d5 \u05d5 \u05e2\u05e5</td>\n",
        "      <td> \u05de\u05d6\u05e8\u05d9\u05e2</td>\n",
        "      <td>            </td>\n",
        "    </tr>\n",
        "    <tr>\n",
        "      <th>5</th>\n",
        "      <td>  6</td>\n",
        "      <td> Genesis 1:12</td>\n",
        "      <td>       </td>\n",
        "      <td> vb</td>\n",
        "      <td>           n</td>\n",
        "      <td>              \u05e4\u05e8\u05d9</td>\n",
        "      <td>  \u05e2\u05e9\u05c2\u05d4</td>\n",
        "      <td>            </td>\n",
        "    </tr>\n",
        "    <tr>\n",
        "      <th>6</th>\n",
        "      <td>  7</td>\n",
        "      <td> Genesis 1:21</td>\n",
        "      <td>  dt~cj</td>\n",
        "      <td> vb</td>\n",
        "      <td>            </td>\n",
        "      <td>                 </td>\n",
        "      <td> \u05e8\u05de\u05e9\u05c2\u05ea</td>\n",
        "      <td>           \u05d4</td>\n",
        "    </tr>\n",
        "    <tr>\n",
        "      <th>7</th>\n",
        "      <td>  8</td>\n",
        "      <td> Genesis 1:27</td>\n",
        "      <td>  dt~cj</td>\n",
        "      <td> vb</td>\n",
        "      <td>     pp|dt|n</td>\n",
        "      <td>         \u05e2\u05dc \u05d4 \u05d0\u05e8\u05e5</td>\n",
        "      <td>  \u05e8\u05de\u05e9\u05c2</td>\n",
        "      <td>           \u05d4</td>\n",
        "    </tr>\n",
        "    <tr>\n",
        "      <th>8</th>\n",
        "      <td>  9</td>\n",
        "      <td> Genesis 1:29</td>\n",
        "      <td>  dt~cj</td>\n",
        "      <td> vb</td>\n",
        "      <td>     pp|dt|n</td>\n",
        "      <td>         \u05e2\u05dc \u05d4 \u05d0\u05e8\u05e5</td>\n",
        "      <td> \u05e8\u05de\u05e9\u05c2\u05ea</td>\n",
        "      <td>           \u05d4</td>\n",
        "    </tr>\n",
        "    <tr>\n",
        "      <th>9</th>\n",
        "      <td> 10</td>\n",
        "      <td> Genesis 1:29</td>\n",
        "      <td>       </td>\n",
        "      <td> vb</td>\n",
        "      <td>           n</td>\n",
        "      <td>              \u05d6\u05e8\u05e2</td>\n",
        "      <td>   \u05d6\u05e8\u05e2</td>\n",
        "      <td>            </td>\n",
        "    </tr>\n",
        "  </tbody>\n",
        "</table>\n",
        "</div>"
       ],
       "metadata": {},
       "output_type": "pyout",
       "prompt_number": 32,
       "text": [
        "    n       passage   p_pre p_ptc       p_post            t_post  t_ptc        t_pre\n",
        "0   1   Genesis 1:3  cj|n|n    vb    pp|n|dt|n      \u05e2\u05dc \u05e4\u05e0\u05d9 \u05d4 \u05de\u05d9\u05dd  \u05de\u05e8\u05d7\u05e4\u05ea  \u05d5 \u05e8\u05d5\u05d7 \u05d0\u05dc\u05d4\u05d9\u05dd\n",
        "1   2   Genesis 1:7   cj|vb    vb  n~pp|n|pp|n     \u05d1\u05d9\u05df \u05de\u05d9\u05dd \u05dc \u05de\u05d9\u05dd  \u05de\u05d1\u05d3\u05d9\u05dc        \u05d5 \u05d9\u05d4\u05d9\n",
        "2   3  Genesis 1:11            vb        n|n|n        \u05d6\u05e8\u05e2 \u05e2\u05e5 \u05e4\u05e8\u05d9  \u05de\u05d6\u05e8\u05d9\u05e2             \n",
        "3   4  Genesis 1:11            vb       n|pp|n        \u05e4\u05e8\u05d9 \u05dc \u05de\u05d9\u05e0\u05d5   \u05e2\u05e9\u05c2\u05d4             \n",
        "4   5  Genesis 1:12            vb  n|pp|n|cj|n  \u05d6\u05e8\u05e2 \u05dc \u05de\u05d9\u05e0\u05d4\u05d5 \u05d5 \u05e2\u05e5  \u05de\u05d6\u05e8\u05d9\u05e2             \n",
        "5   6  Genesis 1:12            vb            n               \u05e4\u05e8\u05d9   \u05e2\u05e9\u05c2\u05d4             \n",
        "6   7  Genesis 1:21   dt~cj    vb                                 \u05e8\u05de\u05e9\u05c2\u05ea            \u05d4\n",
        "7   8  Genesis 1:27   dt~cj    vb      pp|dt|n          \u05e2\u05dc \u05d4 \u05d0\u05e8\u05e5   \u05e8\u05de\u05e9\u05c2            \u05d4\n",
        "8   9  Genesis 1:29   dt~cj    vb      pp|dt|n          \u05e2\u05dc \u05d4 \u05d0\u05e8\u05e5  \u05e8\u05de\u05e9\u05c2\u05ea            \u05d4\n",
        "9  10  Genesis 1:29            vb            n               \u05d6\u05e8\u05e2    \u05d6\u05e8\u05e2             "
       ]
      }
     ],
     "prompt_number": 32
    },
    {
     "cell_type": "code",
     "collapsed": false,
     "input": [],
     "language": "python",
     "metadata": {},
     "outputs": []
    }
   ],
   "metadata": {}
  }
 ]
}