{
 "metadata": {
  "name": "",
  "signature": "sha256:47ae6ed40dd6a83a61f5696d1cf1e9e8f165683d4da1eb80e841007bb3fe55ce"
 },
 "nbformat": 3,
 "nbformat_minor": 0,
 "worksheets": [
  {
   "cells": [
    {
     "cell_type": "code",
     "collapsed": false,
     "input": [
      "from laf.fabric import LafFabric\n",
      "from etcbc.annotating import create_annots\n",
      "\n",
      "fabric = LafFabric()"
     ],
     "language": "python",
     "metadata": {},
     "outputs": [
      {
       "output_type": "stream",
       "stream": "stderr",
       "text": [
        "  0.00s This is LAF-Fabric 4.1.4\n",
        "http://laf-fabric.readthedocs.org/texts/API-reference.html\n"
       ]
      }
     ],
     "prompt_number": 1
    },
    {
     "cell_type": "code",
     "collapsed": false,
     "input": [
      "API = fabric.load('bhs3.txt.hdr', '--', 'annox_simple', {\n",
      "    \"primary\": False,\n",
      "    \"xmlids\": {\"node\": True, \"edge\": False},\n",
      "    \"features\": (\"\", \"\"),\n",
      "})\n",
      "exec(fabric.localnames.format(var='fabric'))"
     ],
     "language": "python",
     "metadata": {},
     "outputs": [
      {
       "output_type": "stream",
       "stream": "stderr",
       "text": [
        "  0.00s LOADING API: please wait ... \n"
       ]
      },
      {
       "output_type": "stream",
       "stream": "stderr",
       "text": [
        "  0.00s INFO: DATA COMPILED AT: 2014-04-05T09-12-34\n"
       ]
      },
      {
       "output_type": "stream",
       "stream": "stderr",
       "text": [
        "  2.58s LOGFILE=/Users/judith/laf-fabric-data/bhs3.txt.hdr/tasks/annox_simple/__log__annox_simple.txt\n"
       ]
      },
      {
       "output_type": "stream",
       "stream": "stderr",
       "text": [
        "  2.58s INFO: DATA LOADED FROM SOURCE bhs3.txt.hdr AND ANNOX -- FOR TASK annox_simple\n"
       ]
      }
     ],
     "prompt_number": 2
    },
    {
     "cell_type": "code",
     "collapsed": false,
     "input": [
      "data = (\n",
      "        (113, 'xyz', 'phrase_type'),\n",
      "        (125, 'uvw', 'clause_constituent_relation'),\n",
      "       )"
     ],
     "language": "python",
     "metadata": {},
     "outputs": [],
     "prompt_number": 3
    },
    {
     "cell_type": "code",
     "collapsed": false,
     "input": [
      "import collections\n",
      "\n",
      "def create_annots(API, data):\n",
      "    \n",
      "    result = []\n",
      "    result.append('''<?xml version=\"1.0\" encoding=\"UTF-8\"?>\n",
      "<graph xmlns=\"http://www.xces.org/ns/GrAF/1.0/\" xmlns:graf=\"http://www.xces.org/ns/GrAF/1.0/\">\n",
      "<graphHeader>\n",
      "    <labelsDecl/>\n",
      "    <dependencies/>\n",
      "    <annotationSpaces/>\n",
      "</graphHeader>''')\n",
      "    aid = 0\n",
      "    features = collections.defaultdict(lambda: collections.defaultdict(lambda: collections.defaultdict(lambda: {})))\n",
      "    \n",
      "    for line in data:\n",
      "        node = line[0]\n",
      "        value = line[1]\n",
      "        feat = line[2]\n",
      "        if len(line) > 3:\n",
      "            feat = \"{}.{}\".format(line[3], feat)\n",
      "        if len(line) > 4:\n",
      "            feat = \"{}:{}\".format(line[4], feat)\n",
      "        (aspace, alabel, fname) = API['fabric'].resolve_feature('node', feat)\n",
      "        xml_id = API['X'].r(node)\n",
      "        features[aspace][alabel][xml_id][fname] = value\n",
      "        \n",
      "    for aspace in features:\n",
      "        for alabel in features[aspace]:\n",
      "            for xml_id in features[aspace][alabel]:\n",
      "                aid += 1\n",
      "                result.append('<a xml:id=\"a{}\" as=\"{}\" label=\"{}\" ref=\"{}\"><fs>'.format(aid, aspace, alabel, xml_id))\n",
      "                for fname in features[aspace][alabel][xml_id]:\n",
      "                    value = features[aspace][alabel][xml_id][fname]\n",
      "                    result.append('\\t<f name=\"{}\" value=\"{}\"/>'.format(fname, value))\n",
      "                result.append('</fs></a>')\n",
      "    result.append(\"</graph>\")\n",
      "    return '\\n'.join(result)"
     ],
     "language": "python",
     "metadata": {},
     "outputs": [
      {
       "metadata": {},
       "output_type": "pyout",
       "prompt_number": 10,
       "text": [
        "'<?xml version=\"1.0\" encoding=\"UTF-8\"?>\\n<graph xmlns=\"http://www.xces.org/ns/GrAF/1.0/\" xmlns:graf=\"http://www.xces.org/ns/GrAF/1.0/\">\\n<graphHeader>\\n    <labelsDecl/>\\n    <dependencies/>\\n    <annotationSpaces/>\\n</graphHeader>\\n<a xml:id=\"a1\" as=\"shebanq\" label=\"ft\" ref=\"n127\"><fs>\\n\\t<f name=\"clause_constituent_relation\" value=\"uvw\"/>\\n</fs></a>\\n<a xml:id=\"a2\" as=\"shebanq\" label=\"ft\" ref=\"n115\"><fs>\\n\\t<f name=\"phrase_type\" value=\"xyz\"/>\\n</fs></a>\\n</graph>'"
       ]
      }
     ],
     "prompt_number": 10
    },
    {
     "cell_type": "code",
     "collapsed": false,
     "input": [
      "annots = create_annots(API, data)"
     ],
     "language": "python",
     "metadata": {},
     "outputs": [],
     "prompt_number": 11
    },
    {
     "cell_type": "code",
     "collapsed": false,
     "input": [
      "print(annots)"
     ],
     "language": "python",
     "metadata": {},
     "outputs": [
      {
       "output_type": "stream",
       "stream": "stdout",
       "text": [
        "<?xml version=\"1.0\" encoding=\"UTF-8\"?>\n",
        "<graph xmlns=\"http://www.xces.org/ns/GrAF/1.0/\" xmlns:graf=\"http://www.xces.org/ns/GrAF/1.0/\">\n",
        "<graphHeader>\n",
        "    <labelsDecl/>\n",
        "    <dependencies/>\n",
        "    <annotationSpaces/>\n",
        "</graphHeader>\n",
        "<a xml:id=\"a1\" as=\"shebanq\" label=\"ft\" ref=\"n127\"><fs>\n",
        "\t<f name=\"clause_constituent_relation\" value=\"uvw\"/>\n",
        "</fs></a>\n",
        "<a xml:id=\"a2\" as=\"shebanq\" label=\"ft\" ref=\"n115\"><fs>\n",
        "\t<f name=\"phrase_type\" value=\"xyz\"/>\n",
        "</fs></a>\n",
        "</graph>\n"
       ]
      }
     ],
     "prompt_number": 12
    },
    {
     "cell_type": "code",
     "collapsed": false,
     "input": [],
     "language": "python",
     "metadata": {},
     "outputs": []
    }
   ],
   "metadata": {}
  }
 ]
}