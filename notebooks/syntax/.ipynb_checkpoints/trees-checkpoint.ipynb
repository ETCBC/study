{
 "metadata": {
  "name": ""
 },
 "nbformat": 3,
 "nbformat_minor": 0,
 "worksheets": [
  {
   "cells": [
    {
     "cell_type": "markdown",
     "metadata": {},
     "source": [
      "<a href=\"http://laf-fabric.readthedocs.org/en/latest/\" target=\"_blank\"><img src=\"files/images/laf-fabric-small.png\"/></a>\n",
      "<a href=\"http://www.dans.knaw.nl\" target=\"_blank\"><img src=\"files/images/DANS-small.png\"/></a>\n",
      "<a href=\"http://tla.mpi.nl\" target=\"_blank\"><img src=\"files/images/TLA-small.png\"/></a>\n",
      "<a href=\"http://www.godgeleerdheid.vu.nl/etcbc\" target=\"_blank\"><img src=\"files/images/VU-ETCBC-small.png\"/></a>"
     ]
    },
    {
     "cell_type": "heading",
     "level": 1,
     "metadata": {},
     "source": [
      "Trees - the smooth path"
     ]
    },
    {
     "cell_type": "markdown",
     "metadata": {},
     "source": [
      "We show the embedding of nodes annotated as sentences, clauses, phrases, subphrases and words.\n",
      "We put them in a format (eventually) such that they can be read by TGREP.\n",
      "Then Rens Bod and Andreas van Cranenburgh can do interesting business with it.\n",
      "\n",
      "Method\n",
      "======\n",
      "\n",
      "We walk through all words and follow them upwards, along parents edges until there are no more outgoing edges.\n",
      "We then have the starting points for our sentences.\n",
      "\n",
      "We walk through the starting points, and for each starting point we assemble the tree hanging off that point.\n",
      "This we do by walking the parents edges in the opposite direction.\n",
      "\n",
      "We use the monad numbers (word numbers) to maintain word order.\n",
      "\n",
      "* parents links from words to phrases to clauses to sentences\n",
      "* word numbers\n",
      "\n",
      "More details will follow below, when we deal with them."
     ]
    },
    {
     "cell_type": "heading",
     "level": 1,
     "metadata": {},
     "source": [
      "Starting LAF-Fabric"
     ]
    },
    {
     "cell_type": "code",
     "collapsed": false,
     "input": [
      "import sys\n",
      "import collections\n",
      "import laf\n",
      "from laf.notebook import Notebook\n",
      "processor = Notebook()"
     ],
     "language": "python",
     "metadata": {},
     "outputs": [],
     "prompt_number": 1
    },
    {
     "cell_type": "heading",
     "level": 1,
     "metadata": {},
     "source": [
      "Declaring the features"
     ]
    },
    {
     "cell_type": "markdown",
     "metadata": {},
     "source": [
      "We use the features in our data source for establishing the trees.\n",
      "This is what we need:\n",
      "\n",
      "db.otype\n",
      "--------\n",
      "The type of a node: word, phrase, sentence, etc\n",
      "\n",
      "parents\n",
      "-------\n",
      "This is a feature by which we can identify the edges that correspond to the *parents* relationship.\n",
      "*parents* goes from lower level to higher level (word => ... => sentence).\n",
      "\n",
      "**N.B.** There are two linguistic hierarchies interwoven in this database.\n",
      "Sometimes nodes have more than one parent!\n",
      "\n",
      "db.monads, minmonad, maxmonad\n",
      "-----------------------------\n",
      "Every word has a *monad* number, it is the sequence number of the word in the complete Hebrew text.\n",
      "Every object (sentence, phrase, word, etc) knows exactly which monads belong to it.\n",
      "For convenience, there are features to get the minimal and maximal monad numbers per object.\n",
      "(Objects may have gaps).\n",
      "\n",
      "It might not be obvious why we need *minmonad* and *maxmonad*.\n",
      "It is this: when we find the children of node (along the *parents* edges),\n",
      "we do not get the order of them.\n",
      "So we have to order them ourselves.\n",
      "That's the only reason for *minmonad* and *maxmonad*.\n",
      "See later on.\n",
      "\n",
      "ft.text_plain\n",
      "-------------\n",
      "The unvocalized text of a word.\n",
      "\n",
      "ft.part_of_speech\n",
      "-----------------\n",
      "The part of speech of a word.\n",
      "\n",
      "sft.verse-label\n",
      "---------------\n",
      "Passage information: book, chapter, verse all in one feature.\n"
     ]
    },
    {
     "cell_type": "code",
     "collapsed": false,
     "input": [
      "processor.init('bhs3.txt.hdr', '--', 'trees', {\n",
      "    \"xmlids\": {\n",
      "        \"node\": False,\n",
      "        \"edge\": False,\n",
      "    },\n",
      "    \"features\": {\n",
      "        \"shebanq\": {\n",
      "            \"node\": [\n",
      "                \"db.otype,monads,minmonad,maxmonad\",\n",
      "                \"ft.text_plain,part_of_speech\",\n",
      "                \"ft.clause_constituent_relation,phrase_type\",\n",
      "                \"sft.verse_label\",\n",
      "            ],\n",
      "            \"edge\": [\n",
      "                \"parents.\",\n",
      "            ],\n",
      "        },\n",
      "    },\n",
      "})\n",
      "\n",
      "API = processor.API()"
     ],
     "language": "python",
     "metadata": {},
     "outputs": [
      {
       "output_type": "stream",
       "stream": "stderr",
       "text": [
        "  0.00s COMPILING source: UP TO DATE\n"
       ]
      },
      {
       "output_type": "stream",
       "stream": "stderr",
       "text": [
        "  0.00s COMPILING annox: UP TO DATE\n"
       ]
      },
      {
       "output_type": "stream",
       "stream": "stderr",
       "text": [
        "  0.00s keeping feature: shebanq:db.maxmonad (node) ...\n"
       ]
      },
      {
       "output_type": "stream",
       "stream": "stderr",
       "text": [
        "  0.00s keeping feature: shebanq:db.minmonad (node) ...\n"
       ]
      },
      {
       "output_type": "stream",
       "stream": "stderr",
       "text": [
        "  0.00s keeping feature: shebanq:db.monads (node) ...\n"
       ]
      },
      {
       "output_type": "stream",
       "stream": "stderr",
       "text": [
        "  0.00s keeping feature: shebanq:db.otype (node) ...\n"
       ]
      },
      {
       "output_type": "stream",
       "stream": "stderr",
       "text": [
        "  0.00s keeping feature: shebanq:ft.clause_constituent_relation (node) ...\n"
       ]
      },
      {
       "output_type": "stream",
       "stream": "stderr",
       "text": [
        "  0.00s keeping feature: shebanq:ft.part_of_speech (node) ...\n"
       ]
      },
      {
       "output_type": "stream",
       "stream": "stderr",
       "text": [
        "  0.00s keeping feature: shebanq:ft.phrase_type (node) ...\n"
       ]
      },
      {
       "output_type": "stream",
       "stream": "stderr",
       "text": [
        "  0.01s keeping feature: shebanq:ft.text_plain (node) ...\n"
       ]
      },
      {
       "output_type": "stream",
       "stream": "stderr",
       "text": [
        "  0.01s keeping feature: shebanq:parents. (edge) ...\n"
       ]
      },
      {
       "output_type": "stream",
       "stream": "stderr",
       "text": [
        "  0.01s keeping feature: shebanq:sft.verse_label (node) ...\n"
       ]
      },
      {
       "output_type": "stream",
       "stream": "stderr",
       "text": [
        "  0.01s clearing feature: feature - shebanq:mother. (edge) ...\n"
       ]
      },
      {
       "output_type": "stream",
       "stream": "stderr",
       "text": [
        "  0.02s keeping annox: shebanq:db.maxmonad (node) ...\n"
       ]
      },
      {
       "output_type": "stream",
       "stream": "stderr",
       "text": [
        "  0.02s keeping annox: shebanq:db.minmonad (node) ...\n"
       ]
      },
      {
       "output_type": "stream",
       "stream": "stderr",
       "text": [
        "  0.02s keeping annox: shebanq:db.monads (node) ...\n"
       ]
      },
      {
       "output_type": "stream",
       "stream": "stderr",
       "text": [
        "  0.02s keeping annox: shebanq:db.otype (node) ...\n"
       ]
      },
      {
       "output_type": "stream",
       "stream": "stderr",
       "text": [
        "  0.02s keeping annox: shebanq:ft.clause_constituent_relation (node) ...\n"
       ]
      },
      {
       "output_type": "stream",
       "stream": "stderr",
       "text": [
        "  0.02s keeping annox: shebanq:ft.part_of_speech (node) ...\n"
       ]
      },
      {
       "output_type": "stream",
       "stream": "stderr",
       "text": [
        "  0.02s keeping annox: shebanq:ft.phrase_type (node) ...\n"
       ]
      },
      {
       "output_type": "stream",
       "stream": "stderr",
       "text": [
        "  0.02s keeping annox: shebanq:ft.text_plain (node) ...\n"
       ]
      },
      {
       "output_type": "stream",
       "stream": "stderr",
       "text": [
        "  0.02s keeping annox: shebanq:parents. (edge) ...\n"
       ]
      },
      {
       "output_type": "stream",
       "stream": "stderr",
       "text": [
        "  0.02s keeping annox: shebanq:sft.verse_label (node) ...\n"
       ]
      },
      {
       "output_type": "stream",
       "stream": "stderr",
       "text": [
        "  0.02s clearing annox: xfeature - shebanq:mother. (edge) ...\n"
       ]
      },
      {
       "output_type": "stream",
       "stream": "stderr",
       "text": [
        "  1.00s present feature: shebanq:ft.part_of_speech (node) from source bhs3.txt.hdr, annox --\n"
       ]
      },
      {
       "output_type": "stream",
       "stream": "stderr",
       "text": [
        "  1.00s present feature: shebanq:sft.verse_label (node) from source bhs3.txt.hdr, annox --\n"
       ]
      },
      {
       "output_type": "stream",
       "stream": "stderr",
       "text": [
        "  1.00s present feature: shebanq:ft.text_plain (node) from source bhs3.txt.hdr, annox --\n"
       ]
      },
      {
       "output_type": "stream",
       "stream": "stderr",
       "text": [
        "  1.00s present feature: shebanq:db.minmonad (node) from source bhs3.txt.hdr, annox --\n"
       ]
      },
      {
       "output_type": "stream",
       "stream": "stderr",
       "text": [
        "  1.00s present feature: shebanq:ft.phrase_type (node) from source bhs3.txt.hdr, annox --\n"
       ]
      },
      {
       "output_type": "stream",
       "stream": "stderr",
       "text": [
        "  1.00s present feature: shebanq:db.otype (node) from source bhs3.txt.hdr, annox --\n"
       ]
      },
      {
       "output_type": "stream",
       "stream": "stderr",
       "text": [
        "  1.00s present feature: shebanq:db.monads (node) from source bhs3.txt.hdr, annox --\n"
       ]
      },
      {
       "output_type": "stream",
       "stream": "stderr",
       "text": [
        "  1.00s present feature: shebanq:ft.clause_constituent_relation (node) from source bhs3.txt.hdr, annox --\n"
       ]
      },
      {
       "output_type": "stream",
       "stream": "stderr",
       "text": [
        "  1.00s present feature: shebanq:db.maxmonad (node) from source bhs3.txt.hdr, annox --\n"
       ]
      },
      {
       "output_type": "stream",
       "stream": "stderr",
       "text": [
        "  1.00s present feature: shebanq:parents. (edge) from source bhs3.txt.hdr, annox --\n"
       ]
      },
      {
       "output_type": "stream",
       "stream": "stderr",
       "text": [
        "  0.00s LOGFILE=/Users/dirk/Scratch/shebanq/results/bhs3.txt.hdr/trees/__log__trees.txt\n"
       ]
      },
      {
       "output_type": "stream",
       "stream": "stderr",
       "text": [
        "  0.00s BEGIN TASK=trees SOURCE=bhs3.txt.hdr\n"
       ]
      },
      {
       "output_type": "stream",
       "stream": "stderr",
       "text": [
        "  0.00s Loading API\n"
       ]
      },
      {
       "output_type": "stream",
       "stream": "stderr",
       "text": [
        "  0.36s P: Primary Data\n"
       ]
      },
      {
       "output_type": "stream",
       "stream": "stderr",
       "text": [
        "  0.36s NN, NE: Next Node and Node Events\n"
       ]
      },
      {
       "output_type": "stream",
       "stream": "stderr",
       "text": [
        "  0.37s F: Features\n"
       ]
      },
      {
       "output_type": "stream",
       "stream": "stderr",
       "text": [
        "  0.37s C, Ci: Connections\n"
       ]
      },
      {
       "output_type": "stream",
       "stream": "stderr",
       "text": [
        "    11s X: XML ids\n"
       ]
      },
      {
       "output_type": "stream",
       "stream": "stderr",
       "text": [
        "    11s API loaded\n"
       ]
      }
     ],
     "prompt_number": 4
    },
    {
     "cell_type": "heading",
     "level": 1,
     "metadata": {},
     "source": [
      "Configuration"
     ]
    },
    {
     "cell_type": "markdown",
     "metadata": {},
     "source": [
      "Here we define the formatting of the trees.\n",
      "\n",
      "Relevant nodes\n",
      "--------------\n",
      "Not all nodes will be shown in the output.\n",
      "The nodes that are shown, have abbreviated names.\n",
      "Nodes with ``True`` will be shown, nodes with ``False`` will be suppressed.\n",
      "\n",
      "Suppressing a node leaves its children in place. Another way of looking at it, is: we replace a node by its children.\n",
      "\n",
      "Exception: when a node is visited twice, the second visit refers to the tree built by the first visit.\n",
      "In that case, we do not suppress the node.\n",
      "\n",
      "**N.B.** It turns out that the ``-atom`` nodes are never visited twice.\n",
      "\n",
      "pos_table\n",
      "---------\n",
      "We abbreviate the part-of-speech tags. \n",
      "We include the pos-info by inserting a unary node right above each word."
     ]
    },
    {
     "cell_type": "code",
     "collapsed": true,
     "input": [
      "F = API['F']\n",
      "NN = API['NN']\n",
      "C = API['C']\n",
      "Ci = API['Ci']\n",
      "msg = API['msg']\n",
      "\n",
      "relevant_nodes = [\n",
      "    (\"word\", '', True),\n",
      "    (\"subphrase\", 'SU', True),\n",
      "    (\"phrase_atom\", 'Pa', False),\n",
      "    (\"phrase\", 'P', True),\n",
      "    (\"clause_atom\", 'Ca', False),\n",
      "    (\"clause\", 'C', True),\n",
      "    (\"sentence_atom\", 'Sa', False),\n",
      "    (\"sentence\", 'S', True),\n",
      "]\n",
      "\n",
      "pos_table = {\n",
      " 'adjective': 'aj',\n",
      " 'adverb': 'av',\n",
      " 'article': 'dt',\n",
      " 'conjunction': 'cj',\n",
      " 'interjection': 'ij',\n",
      " 'interrogative': 'ir',\n",
      " 'negative': 'ng',\n",
      " 'noun': 'n',\n",
      " 'preposition': 'pp',\n",
      " 'pronoun': 'pr',\n",
      " 'verb': 'vb',\n",
      "}\n",
      "\n",
      "select_node = set()\n",
      "select_tag = collections.defaultdict(lambda: None)\n",
      "abbrev_node = collections.defaultdict(lambda: None)\n",
      "\n",
      "for (otype, abb, relevant) in relevant_nodes:\n",
      "    if relevant:\n",
      "        select_node.add(abb)\n",
      "    abbrev_node[otype] = abb if abb != None else otype"
     ],
     "language": "python",
     "metadata": {},
     "outputs": [],
     "prompt_number": 5
    },
    {
     "cell_type": "heading",
     "level": 1,
     "metadata": {},
     "source": [
      "Exploration"
     ]
    },
    {
     "cell_type": "markdown",
     "metadata": {},
     "source": [
      "Currently it is not clear to mehow to use the *mother* edges for the syntax trees.\n",
      "\n",
      "The *phrases* are a bit undifferentiated, and the clauses to.\n",
      "\n",
      "We could add the *clause_constituent_relation* to the syntax trees, and also the *phrase_type* and *phrase_function*.\n",
      "\n",
      "The *clause_constituent_relation* is explored in the notebook *clause_constituent_relation.ipynb*, and the phrase features in the notebook *phrase_typology*."
     ]
    },
    {
     "cell_type": "heading",
     "level": 1,
     "metadata": {},
     "source": [
      "Find the top nodes"
     ]
    },
    {
     "cell_type": "markdown",
     "metadata": {},
     "source": [
      "We walk through the words.\n",
      "From each word we walk along the parent edges until we cannot get further.\n",
      "All end points are top nodes. \n",
      "We put the end nodes in a set.\n",
      "We join all sets of end nodes that we have found above each word.\n",
      "\n",
      "**N.B.** In this way we encounter the top nodes many times, but it does not matter,\n",
      "because we put them all in a set, without duplicates."
     ]
    },
    {
     "cell_type": "code",
     "collapsed": false,
     "input": [
      "top_nodes = set()\n",
      "top_node_types = collections.defaultdict(lambda: 0)\n",
      "top_nodes = C.shebanq_parents__T('', set(NN(test=F.shebanq_db_otype.v, value='word')))\n",
      "\n",
      "msg(\"Top nodes found: {}\".format(len(top_nodes)))"
     ],
     "language": "python",
     "metadata": {},
     "outputs": [
      {
       "output_type": "stream",
       "stream": "stderr",
       "text": [
        " 7m 28s Top nodes found: 71354\n"
       ]
      }
     ],
     "prompt_number": 6
    },
    {
     "cell_type": "heading",
     "level": 1,
     "metadata": {},
     "source": [
      "Checking"
     ]
    },
    {
     "cell_type": "markdown",
     "metadata": {},
     "source": [
      "Let us see what the types are of all the top nodes we have found.\n",
      "\n",
      "We would like to see that they are all sentences.\n",
      "\n",
      "And are all sentences top nodes?"
     ]
    },
    {
     "cell_type": "code",
     "collapsed": false,
     "input": [
      "top_node_types = collections.defaultdict(lambda: 0)\n",
      "\n",
      "for node in NN(test=lambda n: n in top_nodes, value=True):\n",
      "    tag = abbrev_node[F.shebanq_db_otype.v(node)]\n",
      "    top_node_types[tag] += 1\n",
      "\n",
      "for (otype, tag, relevant) in relevant_nodes:\n",
      "    if top_node_types[tag]:\n",
      "        msg(\"{:<2} {} x at the top\".format(tag, top_node_types[tag]))\n",
      "\n",
      "nt = 0        \n",
      "msg(\"Non top nodes of type S:\")\n",
      "for node in NN():\n",
      "    parents = C.shebanq_parents_[''][node]\n",
      "    if parents and F.shebanq_db_otype.v(node) == 'sentence':\n",
      "        msg(\"{} \".format(node), newline=False, withtime=False)\n",
      "        nt += 1\n",
      "msg(\"Non top nodes of type S found: {}\".format(nt))"
     ],
     "language": "python",
     "metadata": {},
     "outputs": [
      {
       "output_type": "stream",
       "stream": "stderr",
       "text": [
        "    51s S  71354 x at the top\n"
       ]
      },
      {
       "output_type": "stream",
       "stream": "stderr",
       "text": [
        "    51s Non top nodes of type S:\n"
       ]
      },
      {
       "output_type": "stream",
       "stream": "stderr",
       "text": [
        "    53s Non top nodes of type S found: 0\n"
       ]
      }
     ],
     "prompt_number": 5
    },
    {
     "cell_type": "heading",
     "level": 1,
     "metadata": {},
     "source": [
      "Serializing"
     ]
    },
    {
     "cell_type": "markdown",
     "metadata": {},
     "source": [
      "For each top node, we serialize its tree along the inverse parents edges.\n",
      "There are confluences, meaning that sometimes one node has two parents.\n",
      "We detect that, and the second time we reach a node, we output a token that references to the tree we constructed in the first visit to that node.\n",
      "\n",
      "We cannot write the string immediately, because after tree creation we want to renumber referenced trees and word occurrences.\n",
      "\n",
      "Output format\n",
      "-------------\n",
      "We output the trees in the order as their texts occur in the Hebrew bible.\n",
      "The output is a text file, and every line corresponds to a exactly one tree.\n",
      "\n",
      "Every line has three tab-separated fields.\n",
      "\n",
      "* passage label\n",
      "* tree structure with placeholders for the words\n",
      "* word sequence (linking words to place holders). This sequence corresponds to the order as found in the text."
     ]
    },
    {
     "cell_type": "code",
     "collapsed": false,
     "input": [
      "trees = processor.add_output(\"trees.txt\")\n",
      "\n",
      "nodes_seen = set()\n",
      "words = []\n",
      "sequential = []\n",
      "\n",
      "def write_tree(node):\n",
      "    \n",
      "    if node in nodes_seen:\n",
      "        return\n",
      "    \n",
      "    nodes_seen.add(node)\n",
      "\n",
      "    otype = F.shebanq_db_otype.v(node)\n",
      "    tag = abbrev_node[otype]\n",
      "    relevant = tag in select_node\n",
      "\n",
      "    if tag == 'C':\n",
      "        crr = F.shebanq_ft_clause_constituent_relation.v(node)\n",
      "        if crr != 'none':\n",
      "            tag = crr\n",
      "    elif tag == 'P':\n",
      "        tag = F.shebanq_ft_phrase_type.v(node)\n",
      "    is_word = otype == 'word'\n",
      "    if is_word:\n",
      "        text = F.shebanq_ft_text_plain.v(node)\n",
      "        pos = pos_table[F.shebanq_ft_part_of_speech.v(node)]\n",
      "        monad = int(F.shebanq_db_monads.v(node))\n",
      "        sequential.append((\"W\", len(words)))\n",
      "        words.append((monad, text, pos))\n",
      "    else:\n",
      "        sequential.append((\"O\" if relevant else \"N\", tag))\n",
      "    \n",
      "    children = sorted(\n",
      "        Ci.shebanq_parents_[''][node],\n",
      "        key=lambda n: (int(F.shebanq_db_minmonad.v(n)), -int(F.shebanq_db_maxmonad.v(n)))\n",
      "    )\n",
      "    for child in children:\n",
      "        write_tree(child)\n",
      "    \n",
      "    if not is_word:\n",
      "        sequential.append((\"C\" if relevant else \"N\", tag))\n",
      "\n",
      "def do_sequential():\n",
      "    word_perm = {}\n",
      "    new_words = sorted(enumerate(words), key=lambda x: x[1][0])\n",
      "    word_rep = ''\n",
      "    for (nn, (on, (monad, text, pos))) in enumerate(new_words):\n",
      "        word_perm[on] = nn\n",
      "        word_rep += '{} '.format(text)\n",
      "                    \n",
      "    for (code, info) in sequential:\n",
      "        if code == 'O' or code == 'C':\n",
      "            if code == 'O':\n",
      "                trees.write('({}'.format(info))\n",
      "            else:\n",
      "                trees.write(')')\n",
      "        elif code == 'W':\n",
      "            nn = word_perm[info]\n",
      "            pos = words[info][2]\n",
      "            trees.write('({} {})'.format(pos, nn))\n",
      "    \n",
      "    trees.write(\"\\t{}\".format(word_rep))\n",
      "    \n",
      "msg(\"Writing trees ...\")\n",
      "verse_label = ''\n",
      "\n",
      "s = 0\n",
      "chunk = 10000\n",
      "sc = 0\n",
      "\n",
      "for node in NN(test=lambda n: n in top_nodes or F.shebanq_db_otype.v(n) == 'verse', value=True):\n",
      "    if F.shebanq_db_otype.v(node) == 'verse':\n",
      "        verse_label = F.shebanq_sft_verse_label.v(node)\n",
      "        continue\n",
      "    nodes_seen = set()\n",
      "    sequential = []\n",
      "    words = []\n",
      "    write_tree(node)\n",
      "    do_sequential()\n",
      "    trees.write(\"\\t{}\\n\".format(verse_label))\n",
      "    s += 1\n",
      "    sc += 1\n",
      "    if sc == chunk:\n",
      "        msg(\"{} trees written\".format(s))\n",
      "        sc = 0\n",
      "#    break\n",
      "    \n",
      "msg(\"{} trees written\".format(s))"
     ],
     "language": "python",
     "metadata": {},
     "outputs": [
      {
       "output_type": "stream",
       "stream": "stderr",
       "text": [
        "    55s Writing trees ...\n"
       ]
      },
      {
       "output_type": "stream",
       "stream": "stderr",
       "text": [
        "    58s 10000 trees written\n"
       ]
      },
      {
       "output_type": "stream",
       "stream": "stderr",
       "text": [
        " 1m 02s 20000 trees written\n"
       ]
      },
      {
       "output_type": "stream",
       "stream": "stderr",
       "text": [
        " 1m 05s 30000 trees written\n"
       ]
      },
      {
       "output_type": "stream",
       "stream": "stderr",
       "text": [
        " 1m 08s 40000 trees written\n"
       ]
      },
      {
       "output_type": "stream",
       "stream": "stderr",
       "text": [
        " 1m 10s 50000 trees written\n"
       ]
      },
      {
       "output_type": "stream",
       "stream": "stderr",
       "text": [
        " 1m 12s 60000 trees written\n"
       ]
      },
      {
       "output_type": "stream",
       "stream": "stderr",
       "text": [
        " 1m 14s 70000 trees written\n"
       ]
      },
      {
       "output_type": "stream",
       "stream": "stderr",
       "text": [
        " 1m 15s 71354 trees written\n"
       ]
      }
     ],
     "prompt_number": 6
    },
    {
     "cell_type": "code",
     "collapsed": false,
     "input": [
      "processor.final()"
     ],
     "language": "python",
     "metadata": {},
     "outputs": [
      {
       "output_type": "stream",
       "stream": "stderr",
       "text": [
        " 1m 17s END TASK trees\n"
       ]
      },
      {
       "output_type": "stream",
       "stream": "stderr",
       "text": [
        " 1m 17s Results directory:\n",
        "/Users/dirk/Scratch/shebanq/results/bhs3.txt.hdr/trees\n"
       ]
      },
      {
       "output_type": "stream",
       "stream": "stderr",
       "text": [
        ".DS_Store                              6148 Mon Feb 17 17:17:09 2014\n",
        "__log__trees.txt                        693 Tue Feb 18 17:07:20 2014\n",
        "anomalies.txt                         16798 Wed Jan 29 14:45:47 2014\n",
        "anomalies2014-01-28.txt               13849 Tue Jan 28 21:40:04 2014\n",
        "trees.txt                           8381583 Tue Feb 18 17:07:20 2014\n"
       ]
      }
     ],
     "prompt_number": 7
    },
    {
     "cell_type": "heading",
     "level": 1,
     "metadata": {},
     "source": [
      "Preview"
     ]
    },
    {
     "cell_type": "markdown",
     "metadata": {},
     "source": [
      "Here are the first lines of the output."
     ]
    },
    {
     "cell_type": "code",
     "collapsed": false,
     "input": [
      "!head -n 25 {processor.my_files('trees.txt')}"
     ],
     "language": "python",
     "metadata": {},
     "outputs": [
      {
       "output_type": "stream",
       "stream": "stdout",
       "text": [
        "(S(C(PP(pp 0)(n 1))(VP(vb 2))(NP(n 3))(PP(SU(pp 4)(dt 5)(n 6))(cj 7)(SU(pp 8)(dt 9)(n 10)))))\t\u05d1 \u05e8\u05d0\u05e9\u05c1\u05d9\u05ea \u05d1\u05e8\u05d0 \u05d0\u05dc\u05d4\u05d9\u05dd \u05d0\u05ea \u05d4 \u05e9\u05c1\u05de\u05d9\u05dd \u05d5 \u05d0\u05ea \u05d4 \u05d0\u05e8\u05e5 \t GEN 01,01\r\n",
        "(S(C(CP(cj 0))(NP(dt 1)(n 2))(VP(vb 3))(NP(SU(n 4))(cj 5)(SU(n 6)))))\t\u05d5 \u05d4 \u05d0\u05e8\u05e5 \u05d4\u05d9\u05ea\u05d4 \u05ea\u05d4\u05d5 \u05d5 \u05d1\u05d4\u05d5 \t GEN 01,02\r\n",
        "(S(C(CP(cj 0))(NP(n 1))(PP(pp 2)(SU(n 3))(SU(n 4)))))\t\u05d5 \u05d7\u05e9\u05c1\u05da \u05e2\u05dc \u05e4\u05e0\u05d9 \u05ea\u05d4\u05d5\u05dd \t GEN 01,02\r\n",
        "(S(C(CP(cj 0))(NP(SU(n 1))(SU(n 2)))(VP(vb 3))(PP(pp 4)(SU(n 5))(SU(dt 6)(n 7)))))\t\u05d5 \u05e8\u05d5\u05d7 \u05d0\u05dc\u05d4\u05d9\u05dd \u05de\u05e8\u05d7\u05e4\u05ea \u05e2\u05dc \u05e4\u05e0\u05d9 \u05d4 \u05de\u05d9\u05dd \t GEN 01,02\r\n",
        "(S(C(CP(cj 0))(VP(vb 1))(NP(n 2))))\t\u05d5 \u05d9\u05d0\u05de\u05e8 \u05d0\u05dc\u05d4\u05d9\u05dd \t GEN 01,03\r\n",
        "(S(C(VP(vb 0))(NP(n 1))))\t\u05d9\u05d4\u05d9 \u05d0\u05d5\u05e8 \t GEN 01,03\r\n",
        "(S(C(CP(cj 0))(VP(vb 1))(NP(n 2))))\t\u05d5 \u05d9\u05d4\u05d9 \u05d0\u05d5\u05e8 \t GEN 01,03\r\n",
        "(S(C(CP(cj 0))(VP(vb 1))(NP(n 2))(PP(pp 3)(dt 4)(n 5)))(Objc(CP(cj 6))(VP(vb 7))))\t\u05d5 \u05d9\u05e8\u05d0 \u05d0\u05dc\u05d4\u05d9\u05dd \u05d0\u05ea \u05d4 \u05d0\u05d5\u05e8 \u05db\u05d9 \u05d8\u05d5\u05d1 \t GEN 01,04\r\n",
        "(S(C(CP(cj 0))(VP(vb 1))(NP(n 2))(PP(SU(n 3)(dt 4)(n 5))(cj 6)(SU(n 7)(dt 8)(n 9)))))\t\u05d5 \u05d9\u05d1\u05d3\u05dc \u05d0\u05dc\u05d4\u05d9\u05dd \u05d1\u05d9\u05df \u05d4 \u05d0\u05d5\u05e8 \u05d5 \u05d1\u05d9\u05df \u05d4 \u05d7\u05e9\u05c1\u05da \t GEN 01,04\r\n",
        "(S(C(CP(cj 0))(VP(vb 1))(NP(n 2))(PP(pp 3)(dt 4)(n 5))(NP(n 6))))\t\u05d5 \u05d9\u05e7\u05e8\u05d0 \u05d0\u05dc\u05d4\u05d9\u05dd \u05dc  \u05d0\u05d5\u05e8 \u05d9\u05d5\u05dd \t GEN 01,05\r\n",
        "(S(C(CP(cj 0))(PP(pp 1)(dt 2)(n 3))(VP(vb 4))(NP(n 5))))\t\u05d5 \u05dc  \u05d7\u05e9\u05c1\u05da \u05e7\u05e8\u05d0 \u05dc\u05d9\u05dc\u05d4 \t GEN 01,05\r\n",
        "(S(C(CP(cj 0))(VP(vb 1))(NP(n 2))))\t\u05d5 \u05d9\u05d4\u05d9 \u05e2\u05e8\u05d1 \t GEN 01,05\r\n",
        "(S(C(CP(cj 0))(VP(vb 1))(NP(n 2))))\t\u05d5 \u05d9\u05d4\u05d9 \u05d1\u05e7\u05e8 \t GEN 01,05\r\n",
        "(S(C(NP(SU(n 0))(SU(n 1)))))\t\u05d9\u05d5\u05dd \u05d0\u05d7\u05d3 \t GEN 01,05\r\n",
        "(S(C(CP(cj 0))(VP(vb 1))(NP(n 2))))\t\u05d5 \u05d9\u05d0\u05de\u05e8 \u05d0\u05dc\u05d4\u05d9\u05dd \t GEN 01,06\r\n",
        "(S(C(VP(vb 0))(NP(n 1))(PP(pp 2)(SU(n 3))(SU(dt 4)(n 5)))))\t\u05d9\u05d4\u05d9 \u05e8\u05e7\u05d9\u05e2 \u05d1 \u05ea\u05d5\u05da \u05d4 \u05de\u05d9\u05dd \t GEN 01,06\r\n",
        "(S(C(CP(cj 0))(VP(vb 1))(VP(vb 2))(PP(n 3)(n 4)(pp 5)(n 6))))\t\u05d5 \u05d9\u05d4\u05d9 \u05de\u05d1\u05d3\u05d9\u05dc \u05d1\u05d9\u05df \u05de\u05d9\u05dd \u05dc \u05de\u05d9\u05dd \t GEN 01,06\r\n",
        "(S(C(CP(cj 0))(VP(vb 1))(NP(n 2))(PP(pp 3)(dt 4)(n 5))))\t\u05d5 \u05d9\u05e2\u05e9\u05c2 \u05d0\u05dc\u05d4\u05d9\u05dd \u05d0\u05ea \u05d4 \u05e8\u05e7\u05d9\u05e2 \t GEN 01,07\r\n",
        "(S(C(CP(cj 0))(VP(vb 1))(PP(n 2)(dt 3)(n 4))(CP(cj 11))(PP(n 12)(dt 13)(n 14)))(Attr(CP(cj 5))(PP(pp 6)(n 7)(pp 8)(dt 9)(n 10)))(Attr(CP(cj 15))(PP(pp 16)(pp 17)(pp 18)(dt 19)(n 20))))\t\u05d5 \u05d9\u05d1\u05d3\u05dc \u05d1\u05d9\u05df \u05d4 \u05de\u05d9\u05dd \u05d0\u05e9\u05c1\u05e8 \u05de \u05ea\u05d7\u05ea \u05dc  \u05e8\u05e7\u05d9\u05e2 \u05d5 \u05d1\u05d9\u05df \u05d4 \u05de\u05d9\u05dd \u05d0\u05e9\u05c1\u05e8 \u05de \u05e2\u05dc \u05dc  \u05e8\u05e7\u05d9\u05e2 \t GEN 01,07\r\n",
        "(S(C(CP(cj 0))(VP(vb 1))(AdvP(av 2))))\t\u05d5 \u05d9\u05d4\u05d9 \u05db\u05df \t GEN 01,07\r\n",
        "(S(C(CP(cj 0))(VP(vb 1))(NP(n 2))(PP(pp 3)(dt 4)(n 5))(NP(n 6))))\t\u05d5 \u05d9\u05e7\u05e8\u05d0 \u05d0\u05dc\u05d4\u05d9\u05dd \u05dc  \u05e8\u05e7\u05d9\u05e2 \u05e9\u05c1\u05de\u05d9\u05dd \t GEN 01,08\r\n",
        "(S(C(CP(cj 0))(VP(vb 1))(NP(n 2))))\t\u05d5 \u05d9\u05d4\u05d9 \u05e2\u05e8\u05d1 \t GEN 01,08\r\n",
        "(S(C(CP(cj 0))(VP(vb 1))(NP(n 2))))\t\u05d5 \u05d9\u05d4\u05d9 \u05d1\u05e7\u05e8 \t GEN 01,08\r\n",
        "(S(C(NP(SU(n 0))(SU(aj 1)))))\t\u05d9\u05d5\u05dd \u05e9\u05c1\u05e0\u05d9 \t GEN 01,08\r\n",
        "(S(C(CP(cj 0))(VP(vb 1))(NP(n 2))))\t\u05d5 \u05d9\u05d0\u05de\u05e8 \u05d0\u05dc\u05d4\u05d9\u05dd \t GEN 01,09\r\n"
       ]
      }
     ],
     "prompt_number": 8
    },
    {
     "cell_type": "code",
     "collapsed": false,
     "input": [
      "!grep -c '<' {processor.my_files('trees.txt')}"
     ],
     "language": "python",
     "metadata": {},
     "outputs": [
      {
       "output_type": "stream",
       "stream": "stdout",
       "text": [
        "225\r\n"
       ]
      }
     ],
     "prompt_number": 10
    },
    {
     "cell_type": "code",
     "collapsed": false,
     "input": [
      "!grep '<' {processor.my_files('trees.txt')}"
     ],
     "language": "python",
     "metadata": {},
     "outputs": [
      {
       "output_type": "stream",
       "stream": "stdout",
       "text": [
        " GEN 01,29\t(S(C(P(ij #0))(P(vb #1))(P(pp #2))(*1 P(pp #3)(SU(n #4))(SU(n #5))(cj #14)(pp #15)(SU(n #16))(SU(dt #17)(n #18)))<*1>)(C(P(vb #6))(P(n #7)))(C(P(cj #8))(P(pp #9)(SU(n #10))(SU(SU(n #11))(SU(dt #12)(n #13)))))(C(P(cj #19))(P(pp #20))(P(SU(n #21))(SU(n #22))))(C(P(vb #23))(P(n #24)))(C(P(cj #25))(P(SU(pp #26)(SU(n #27))(SU(SU(n #28))(SU(dt #29)(n #30))))(cj #31)(SU(pp #32)(SU(n #33))(SU(SU(n #34))(SU(dt #35)(n #36))))(cj #37)(pp #38)(SU(n #39))(SU(vb #40))(pp #41)(dt #42)(n #43))(P(pp #48)(SU(n #49))(SU(SU(n #50))(SU(n #51))))(P(pp #52)(n #53)))(C(P(cj #44))(P(pp #45))(P(SU(n #46))(SU(aj #47)))))\t\u05d4\u05e0\u05d4 \u05e0\u05ea\u05ea\u05d9 \u05dc\u05db\u05dd \u05d0\u05ea \u05db\u05dc \u05e2\u05e9\u05c2\u05d1 \u05d6\u05e8\u05e2 \u05d6\u05e8\u05e2 \u05d0\u05e9\u05c1\u05e8 \u05e2\u05dc \u05e4\u05e0\u05d9 \u05db\u05dc \u05d4 \u05d0\u05e8\u05e5 \u05d5 \u05d0\u05ea \u05db\u05dc \u05d4 \u05e2\u05e5 \u05d0\u05e9\u05c1\u05e8 \u05d1\u05d5 \u05e4\u05e8\u05d9 \u05e2\u05e5 \u05d6\u05e8\u05e2 \u05d6\u05e8\u05e2 \u05d5 \u05dc \u05db\u05dc \u05d7\u05d9\u05ea \u05d4 \u05d0\u05e8\u05e5 \u05d5 \u05dc \u05db\u05dc \u05e2\u05d5\u05e3 \u05d4 \u05e9\u05c1\u05de\u05d9\u05dd \u05d5 \u05dc \u05db\u05dc \u05e8\u05d5\u05de\u05e9\u05c2 \u05e2\u05dc \u05d4 \u05d0\u05e8\u05e5 \u05d0\u05e9\u05c1\u05e8 \u05d1\u05d5 \u05e0\u05e4\u05e9\u05c1 \u05d7\u05d9\u05d4 \u05d0\u05ea \u05db\u05dc \u05d9\u05e8\u05e7 \u05e2\u05e9\u05c2\u05d1 \u05dc \u05d0\u05db\u05dc\u05d4 \r\n",
        " GEN 07,12\t(S(C(P(pp #0)(SU(n #1))(SU(SU(dt #2)(n #3))(SU(dt #4)(pr #5))))(P(vb #6))(P(SU(SU(SU(n #7))(cj #8)(SU(n #9)))(cj #10)(SU(n #11)))(cj #12)(SU(n #13))(SU(n #14))(SU(n #15))(cj #16)(SU(n #17)(n #18))(cj #19)(SU(SU(n #20))(SU(SU(n #21))(SU(n #22))))(pp #23))(P(pp #24)(dt #25)(n #26)))(C(*1 P(SU(pr #27))(cj #28)(SU(SU(n #29))(SU(dt #30)(n #31)))(pp #32)(n #33)(cj #34)(SU(n #35))(SU(dt #36)(n #37))(pp #38)(n #39)(cj #40)(SU(n #41))(SU(dt #42)(n #43))(pp #49)(n #50)(cj #51)(SU(n #52))(SU(dt #53)(n #54))(pp #55)(n #56)(SU(n #57))(SU(SU(n #58))(SU(SU(n #59))(SU(n #60)))))<*1>)(C(P(dt #44))(P(vb #45))(P(pp #46)(dt #47)(n #48))))\t\u05d1 \u05e2\u05e6\u05dd \u05d4 \u05d9\u05d5\u05dd \u05d4 \u05d6\u05d4 \u05d1\u05d0 \u05e0\u05d7 \u05d5 \u05e9\u05c1\u05dd \u05d5 \u05d7\u05dd \u05d5 \u05d9\u05e4\u05ea \u05d1\u05e0\u05d9 \u05e0\u05d7 \u05d5 \u05d0\u05e9\u05c1\u05ea \u05e0\u05d7 \u05d5 \u05e9\u05c1\u05dc\u05e9\u05c1\u05ea \u05e0\u05e9\u05c1\u05d9 \u05d1\u05e0\u05d9\u05d5 \u05d0\u05ea\u05dd \u05d0\u05dc \u05d4 \u05ea\u05d1\u05d4 \u05d4\u05de\u05d4 \u05d5 \u05db\u05dc \u05d4 \u05d7\u05d9\u05d4 \u05dc \u05de\u05d9\u05e0\u05d4 \u05d5 \u05db\u05dc \u05d4 \u05d1\u05d4\u05de\u05d4 \u05dc \u05de\u05d9\u05e0\u05d4 \u05d5 \u05db\u05dc \u05d4 \u05e8\u05de\u05e9\u05c2 \u05d4 \u05e8\u05de\u05e9\u05c2 \u05e2\u05dc \u05d4 \u05d0\u05e8\u05e5 \u05dc \u05de\u05d9\u05e0\u05d4\u05d5 \u05d5 \u05db\u05dc \u05d4 \u05e2\u05d5\u05e3 \u05dc \u05de\u05d9\u05e0\u05d4\u05d5 \u05db\u05dc \u05e6\u05e4\u05d5\u05e8 \u05db\u05dc \u05db\u05e0\u05e3 \r\n",
        " GEN 07,21\t(S(C(P(cj #0))(P(vb #1))(*1 P(SU(n #2))(SU(n #3))(cj #30)(SU(n #31))(SU(dt #32)(n #33)))(P(SU(SU(SU(pp #9)(dt #10)(n #11))(cj #12)(SU(pp #13)(dt #14)(n #15)))(cj #16)(SU(pp #17)(dt #18)(n #19)))(cj #20)(SU(pp #21)(SU(n #22))(SU(dt #23)(n #24))))<*1>)(C(P(dt #4))(P(vb #5))(P(pp #6)(dt #7)(n #8)))(C(P(dt #25))(P(vb #26))(P(pp #27)(dt #28)(n #29))))\t\u05d5 \u05d9\u05d2\u05d5\u05e2 \u05db\u05dc \u05d1\u05e9\u05c2\u05e8 \u05d4 \u05e8\u05de\u05e9\u05c2 \u05e2\u05dc \u05d4 \u05d0\u05e8\u05e5 \u05d1  \u05e2\u05d5\u05e3 \u05d5 \u05d1  \u05d1\u05d4\u05de\u05d4 \u05d5 \u05d1  \u05d7\u05d9\u05d4 \u05d5 \u05d1 \u05db\u05dc \u05d4 \u05e9\u05c1\u05e8\u05e5 \u05d4 \u05e9\u05c1\u05e8\u05e5 \u05e2\u05dc \u05d4 \u05d0\u05e8\u05e5 \u05d5 \u05db\u05dc \u05d4 \u05d0\u05d3\u05dd \r\n",
        " GEN 12,05\t(S(C(P(cj #0))(P(vb #1))(P(n #2))(*1 P(pp #3)(n #4)(n #5)(cj #6)(pp #7)(n #8)(SU(n #9))(SU(n #10))(cj #11)(pp #12)(SU(n #13))(SU(n #14))(cj #17)(pp #18)(dt #19)(n #20))<*1>)(C(P(cj #15))(P(vb #16)))(C(P(cj #21))(P(vb #22))(P(pp #23)(n #24))))\t\u05d5 \u05d9\u05e7\u05d7 \u05d0\u05d1\u05e8\u05dd \u05d0\u05ea \u05e9\u05c2\u05e8\u05d9 \u05d0\u05e9\u05c1\u05ea\u05d5 \u05d5 \u05d0\u05ea \u05dc\u05d5\u05d8 \u05d1\u05df \u05d0\u05d7\u05d9\u05d5 \u05d5 \u05d0\u05ea \u05db\u05dc \u05e8\u05db\u05d5\u05e9\u05c1\u05dd \u05d0\u05e9\u05c1\u05e8 \u05e8\u05db\u05e9\u05c1\u05d5 \u05d5 \u05d0\u05ea \u05d4 \u05e0\u05e4\u05e9\u05c1 \u05d0\u05e9\u05c1\u05e8 \u05e2\u05e9\u05c2\u05d5 \u05d1 \u05d7\u05e8\u05df \r\n",
        " GEN 22,02\t(S(C(P(vb #0))(P(ij #1))(*1 P(pp #2)(n #3)(pp #4)(aj #5)(pp #8)(n #9))<*1>)(C(P(cj #6))(P(vb #7))))\t\u05e7\u05d7 \u05e0\u05d0 \u05d0\u05ea \u05d1\u05e0\u05da \u05d0\u05ea \u05d9\u05d7\u05d9\u05d3\u05da \u05d0\u05e9\u05c1\u05e8 \u05d0\u05d4\u05d1\u05ea \u05d0\u05ea \u05d9\u05e6\u05d7\u05e7 \r\n",
        " GEN 35,06\t(S(C(P(cj #0))(P(vb #1))(*1 P(n #2)(SU(pr #10))(cj #11)(SU(SU(n #12))(SU(dt #13)(n #14))))(P(n #3))<*1>)(C(P(cj #4))(P(pp #5)(SU(n #6))(SU(n #7))))(C(P(pr #8))(P(n #9)))(C(P(cj #15))(P(pp #16))))\t\u05d5 \u05d9\u05d1\u05d0 \u05d9\u05e2\u05e7\u05d1 \u05dc\u05d5\u05d6\u05d4 \u05d0\u05e9\u05c1\u05e8 \u05d1 \u05d0\u05e8\u05e5 \u05db\u05e0\u05e2\u05df \u05d4\u05d5\u05d0 \u05d1\u05d9\u05ea\u05be\u05d0\u05dc \u05d4\u05d5\u05d0 \u05d5 \u05db\u05dc \u05d4 \u05e2\u05dd \u05d0\u05e9\u05c1\u05e8 \u05e2\u05de\u05d5 \r\n",
        " GEN 40,05\t(S(C(P(cj #0))(P(vb #1))(P(n #2))(*1 P(n #3)(SU(dt #13)(vb #14))(cj #15)(SU(dt #16)(n #17)))<*1>)(C(P(n #4))(P(n #5))(P(pp #6)(SU(n #7))(SU(n #8))))(C(P(n #9))(P(pp #10)(SU(n #11))(SU(n #12))))(C(P(cj #18))(P(pp #19)(SU(n #20))(SU(n #21))))(C(P(cj #22))(P(vb #23))(P(pp #24)(SU(n #25))(SU(dt #26)(n #27)))))\t\u05d5 \u05d9\u05d7\u05dc\u05de\u05d5 \u05d7\u05dc\u05d5\u05dd \u05e9\u05c1\u05e0\u05d9\u05d4\u05dd \u05d0\u05d9\u05e9\u05c1 \u05d7\u05dc\u05de\u05d5 \u05d1 \u05dc\u05d9\u05dc\u05d4 \u05d0\u05d7\u05d3 \u05d0\u05d9\u05e9\u05c1 \u05db \u05e4\u05ea\u05e8\u05d5\u05df \u05d7\u05dc\u05de\u05d5 \u05d4 \u05de\u05e9\u05c1\u05e7\u05d4 \u05d5 \u05d4 \u05d0\u05e4\u05d4 \u05d0\u05e9\u05c1\u05e8 \u05dc \u05de\u05dc\u05da \u05de\u05e6\u05e8\u05d9\u05dd \u05d0\u05e9\u05c1\u05e8 \u05d0\u05e1\u05d5\u05e8\u05d9\u05dd \u05d1 \u05d1\u05d9\u05ea \u05d4 \u05e1\u05d4\u05e8 \r\n",
        " GEN 48,15\t(S(C(*1 P(dt #0)(n #1)(dt #10)(n #11)(dt #22)(n #23))<*1><*1>(P(vb #30))(P(pp #31)(dt #32)(n #33)))(C(P(cj #2))(P(vb #3))(P(n #4)(SU(n #7))(cj #8)(SU(n #9)))(P(pp #5)(n #6)))(C(P(dt #12))(P(vb #13))(P(pp #14))(P(pp #15)(n #16))(P(pp #17)(SU(dt #18)(n #19))(SU(dt #20)(pr #21))))(C(P(dt #24))(P(vb #25))(P(pp #26))(P(pp #27)(SU(n #28))(SU(aj #29)))))\t\u05d4 \u05d0\u05dc\u05d4\u05d9\u05dd \u05d0\u05e9\u05c1\u05e8 \u05d4\u05ea\u05d4\u05dc\u05db\u05d5 \u05d0\u05d1\u05ea\u05d9 \u05dc \u05e4\u05e0\u05d9\u05d5 \u05d0\u05d1\u05e8\u05d4\u05dd \u05d5 \u05d9\u05e6\u05d7\u05e7 \u05d4 \u05d0\u05dc\u05d4\u05d9\u05dd \u05d4 \u05e8\u05e2\u05d4 \u05d0\u05ea\u05d9 \u05de \u05e2\u05d5\u05d3\u05d9 \u05e2\u05d3 \u05d4 \u05d9\u05d5\u05dd \u05d4 \u05d6\u05d4 \u05d4 \u05de\u05dc\u05d0\u05da \u05d4 \u05d2\u05d0\u05dc \u05d0\u05ea\u05d9 \u05de \u05db\u05dc \u05e8\u05e2 \u05d9\u05d1\u05e8\u05da \u05d0\u05ea \u05d4 \u05e0\u05e2\u05e8\u05d9\u05dd \r\n",
        " EXO 05,16\t(S(*1 C(P(cj #0))(P(n #1))(P(vb #2)))<*1>)\t\u05d5 \u05dc\u05d1\u05e0\u05d9\u05dd \u05e2\u05e9\u05c2\u05d5 \r\n",
        " EXO 09,03\t(S(C(P(ij #0))(P(SU(n #1))(SU(n #2)))(P(vb #3))(*1 P(pp #4)(n #5)(SU(SU(SU(SU(pp #10)(dt #11)(n #12))(pp #13)(SU(dt #14)(n #15)))(pp #16)(SU(dt #17)(n #18)))(pp #19)(SU(dt #20)(n #21)))(cj #22)(SU(pp #23)(dt #24)(n #25)))<*1>)(C(P(cj #6))(P(pp #7)(dt #8)(n #9)))(C(P(SU(n #26))(SU(SU(aj #27))(SU(n #28))))))\t\u05d4\u05e0\u05d4 \u05d9\u05d3 \u05d9\u05d4\u05d5\u05d4 \u05d4\u05d5\u05d9\u05d4 \u05d1 \u05de\u05e7\u05e0\u05da \u05d0\u05e9\u05c1\u05e8 \u05d1  \u05e9\u05c2\u05d3\u05d4 \u05d1  \u05e1\u05d5\u05e1\u05d9\u05dd \u05d1  \u05d7\u05de\u05e8\u05d9\u05dd \u05d1  \u05d2\u05de\u05dc\u05d9\u05dd \u05d1  \u05d1\u05e7\u05e8 \u05d5 \u05d1  \u05e6\u05d0\u05df \u05d3\u05d1\u05e8 \u05db\u05d1\u05d3 \u05de\u05d0\u05d3 \r\n",
        " EXO 09,25\t(S(C(P(cj #0))(P(vb #1))(P(dt #2)(n #3))(P(pp #4)(SU(n #5))(SU(SU(n #6))(SU(n #7))))(*1 P(pp #8)(n #9)(SU(pp #14)(n #15))(cj #16)(SU(pp #17)(n #18)))<*1>)(C(P(cj #10))(P(pp #11)(dt #12)(n #13))))\t\u05d5 \u05d9\u05da \u05d4 \u05d1\u05e8\u05d3 \u05d1 \u05db\u05dc \u05d0\u05e8\u05e5 \u05de\u05e6\u05e8\u05d9\u05dd \u05d0\u05ea \u05db\u05dc \u05d0\u05e9\u05c1\u05e8 \u05d1  \u05e9\u05c2\u05d3\u05d4 \u05de \u05d0\u05d3\u05dd \u05d5 \u05e2\u05d3 \u05d1\u05d4\u05de\u05d4 \r\n",
        " EXO 13,05\t(S(C(P(cj #0))(P(vb #1))(P(n #2))(*1 P(pp #3)(SU(n #4))(SU(SU(SU(SU(SU(dt #5)(aj #6))(cj #7)(SU(dt #8)(aj #9)))(cj #10)(SU(dt #11)(aj #12)))(cj #13)(SU(dt #14)(aj #15)))(cj #16)(SU(dt #17)(aj #18)))(SU(n #26))(SU(SU(vb #27))(SU(SU(n #28))(cj #29)(SU(n #30)))))<*1>)(C(P(cj #19))(P(vb #20))(P(pp #21)(n #22)))(C(P(pp #23)(vb #24))(P(pp #25))))\t\u05db\u05d9 \u05d9\u05d1\u05d9\u05d0\u05da \u05d9\u05d4\u05d5\u05d4 \u05d0\u05dc \u05d0\u05e8\u05e5 \u05d4 \u05db\u05e0\u05e2\u05e0\u05d9 \u05d5 \u05d4 \u05d7\u05ea\u05d9 \u05d5 \u05d4 \u05d0\u05de\u05e8\u05d9 \u05d5 \u05d4 \u05d7\u05d5\u05d9 \u05d5 \u05d4 \u05d9\u05d1\u05d5\u05e1\u05d9 \u05d0\u05e9\u05c1\u05e8 \u05e0\u05e9\u05c1\u05d1\u05e2 \u05dc \u05d0\u05d1\u05ea\u05d9\u05da \u05dc \u05ea\u05ea \u05dc\u05da \u05d0\u05e8\u05e5 \u05d6\u05d1\u05ea \u05d7\u05dc\u05d1 \u05d5 \u05d3\u05d1\u05e9\u05c1 \r\n",
        " EXO 15,17\t(S(C(P(cj #0))(P(vb #1))(P(pp #2)(SU(n #3))(SU(n #4))))(C(*1 P(n #5)(n #10))<*1>)(C(P(pp #6)(vb #7))(P(vb #8)))(C(P(n #9)))(C(P(n #11)))(C(P(vb #12))(P(n #13))))\t\u05d5 \u05ea\u05d8\u05e2\u05de\u05d5 \u05d1 \u05d4\u05e8 \u05e0\u05d7\u05dc\u05ea\u05da \u05de\u05db\u05d5\u05df \u05dc \u05e9\u05c1\u05d1\u05ea\u05da \u05e4\u05e2\u05dc\u05ea \u05d9\u05d4\u05d5\u05d4 \u05de\u05e7\u05d3\u05e9\u05c1 \u05d0\u05d3\u05e0\u05d9 \u05db\u05d5\u05e0\u05e0\u05d5 \u05d9\u05d3\u05d9\u05da \r\n",
        " EXO 30,14\t(S(C(*1 P(n #0)(SU(pp #6)(SU(n #7))(SU(SU(n #8))(SU(n #9))))(cj #10)(SU(n #11)))<*1>(P(vb #12))(P(SU(n #13))(SU(n #14))))(C(P(dt #1))(P(vb #2))(P(pp #3)(dt #4)(vb #5))))\t\u05db\u05dc \u05d4 \u05e2\u05d1\u05e8 \u05e2\u05dc \u05d4 \u05e4\u05e7\u05d3\u05d9\u05dd \u05de \u05d1\u05df \u05e2\u05e9\u05c2\u05e8\u05d9\u05dd \u05e9\u05c1\u05e0\u05d4 \u05d5 \u05de\u05e2\u05dc\u05d4 \u05d9\u05ea\u05df \u05ea\u05e8\u05d5\u05de\u05ea \u05d9\u05d4\u05d5\u05d4 \r\n",
        " EXO 31,06\t(S(C(P(cj #0))(P(vb #1))(P(pp #2)(n #3)))(C(P(cj #4))(P(vb #5)))(C(*1 P(SU(pp #6)(SU(n #7))(SU(n #8)))(cj #9)(SU(pp #10)(dt #11)(n #12))(cj #16)(pp #17)(dt #18)(n #19)(cj #22)(pp #23)(SU(n #24))(SU(SU(n #25))(SU(dt #26)(n #27))))(P(pp #13)(dt #14)(n #15))<*1>)(C(P(cj #20))(P(pp #21)))(C(P(cj #28))(P(SU(SU(pp #29)(dt #30)(n #31))(cj #32)(SU(pp #33)(n #34)))(cj #35)(SU(SU(SU(pp #36)(SU(dt #37)(n #38))(SU(dt #39)(aj #40)))(cj #41)(SU(pp #42)(SU(n #43))(SU(n #44))))(cj #45)(SU(pp #46)(SU(n #47))(SU(dt #48)(n #49))))))(C(P(cj #50))(P(SU(SU(pp #51)(SU(n #52))(SU(dt #53)(n #54)))(cj #55)(SU(pp #56)(SU(n #57))(SU(n #58))))(cj #59)(SU(SU(pp #60)(dt #61)(n #62))(cj #63)(SU(pp #64)(n #65)))))(C(P(cj #66))(P(SU(pp #67)(SU(n #68))(SU(dt #69)(n #70)))(cj #71)(SU(pp #72)(SU(n #73))(SU(dt #74)(n #75)))(cj #80)(pp #81)(SU(n #82))(SU(n #83)))(P(pp #76)(n #77)(dt #78)(n #79)))(C(P(pp #84)(vb #85)))(C(P(cj #86))(P(SU(pp #87)(SU(n #88))(SU(dt #89)(n #90)))(cj #91)(SU(pp #92)(SU(n #93))(SU(dt #94)(n #95))))(P(pp #96)(dt #97)(n #98))))\t\u05d5 \u05e2\u05e9\u05c2\u05d5 \u05d0\u05ea \u05db\u05dc \u05d0\u05e9\u05c1\u05e8 \u05e6\u05d5\u05d9\u05ea\u05da \u05d0\u05ea \u05d0\u05d4\u05dc \u05de\u05d5\u05e2\u05d3 \u05d5 \u05d0\u05ea \u05d4 \u05d0\u05e8\u05df \u05dc  \u05e2\u05d3\u05ea \u05d5 \u05d0\u05ea \u05d4 \u05db\u05e4\u05e8\u05ea \u05d0\u05e9\u05c1\u05e8 \u05e2\u05dc\u05d9\u05d5 \u05d5 \u05d0\u05ea \u05db\u05dc \u05db\u05dc\u05d9 \u05d4 \u05d0\u05d4\u05dc \u05d5 \u05d0\u05ea \u05d4 \u05e9\u05c1\u05dc\u05d7\u05df \u05d5 \u05d0\u05ea \u05db\u05dc\u05d9\u05d5 \u05d5 \u05d0\u05ea \u05d4 \u05de\u05e0\u05e8\u05d4 \u05d4 \u05d8\u05d4\u05e8\u05d4 \u05d5 \u05d0\u05ea \u05db\u05dc \u05db\u05dc\u05d9\u05d4 \u05d5 \u05d0\u05ea \u05de\u05d6\u05d1\u05d7 \u05d4 \u05e7\u05d8\u05e8\u05ea \u05d5 \u05d0\u05ea \u05de\u05d6\u05d1\u05d7 \u05d4 \u05e2\u05dc\u05d4 \u05d5 \u05d0\u05ea \u05db\u05dc \u05db\u05dc\u05d9\u05d5 \u05d5 \u05d0\u05ea \u05d4 \u05db\u05d9\u05d5\u05e8 \u05d5 \u05d0\u05ea \u05db\u05e0\u05d5 \u05d5 \u05d0\u05ea \u05d1\u05d2\u05d3\u05d9 \u05d4 \u05e9\u05c2\u05e8\u05d3 \u05d5 \u05d0\u05ea \u05d1\u05d2\u05d3\u05d9 \u05d4 \u05e7\u05d3\u05e9\u05c1 \u05dc \u05d0\u05d4\u05e8\u05df \u05d4 \u05db\u05d4\u05df \u05d5 \u05d0\u05ea \u05d1\u05d2\u05d3\u05d9 \u05d1\u05e0\u05d9\u05d5 \u05dc \u05db\u05d4\u05df \u05d5 \u05d0\u05ea \u05e9\u05c1\u05de\u05df \u05d4 \u05de\u05e9\u05c1\u05d7\u05d4 \u05d5 \u05d0\u05ea \u05e7\u05d8\u05e8\u05ea \u05d4 \u05e1\u05de\u05d9\u05dd \u05dc  \u05e7\u05d3\u05e9\u05c1 \r\n",
        " EXO 35,09\t(S(C(P(cj #0))(P(SU(n #1))(SU(SU(aj #2))(SU(n #3))))(P(pp #4)))(C(P(vb #5)))(C(P(cj #6))(P(vb #7))(P(pp #8)(n #9)))(C(P(cj #10))(P(vb #11))(P(n #12)))(C(P(SU(SU(SU(SU(SU(SU(SU(pp #13)(dt #14)(n #15))(pp #16)(SU(n #17)))(cj #18)(SU(pp #19)(n #20)))(pp #21)(SU(n #22)))(cj #23)(SU(pp #24)(n #25)))(pp #26)(SU(n #27)))(pp #28)(SU(n #29)))(cj #30)(SU(pp #31)(n #32))))(C(P(SU(SU(SU(pp #33)(dt #34)(n #35))(cj #36)(SU(pp #37)(n #38)))(pp #39)(SU(dt #40)(n #41)))(cj #42)(SU(pp #43)(SU(n #44))(SU(dt #45)(n #46)))))(C(P(SU(SU(SU(pp #47)(dt #48)(n #49))(cj #50)(SU(pp #51)(n #52)))(cj #53)(SU(pp #54)(SU(n #55))(SU(n #56))))(cj #57)(SU(pp #58)(SU(n #59))(SU(dt #60)(n #61)))))(C(P(cj #62))(P(SU(SU(SU(pp #63)(SU(n #64))(SU(dt #65)(n #66)))(cj #67)(SU(pp #68)(n #69)))(cj #70)(SU(pp #71)(n #72)))(cj #73)(SU(pp #74)(SU(n #75))(SU(dt #76)(n #77)))))(C(P(cj #78))(P(SU(SU(SU(SU(pp #79)(SU(n #80))(SU(dt #81)(n #82)))(cj #83)(SU(pp #84)(n #85)))(cj #86)(SU(pp #87)(SU(n #88))(SU(dt #89)(n #90))))(cj #91)(SU(pp #92)(SU(n #93))(SU(dt #94)(n #95))))(cj #96)(SU(pp #97)(SU(n #98))(SU(dt #99)(n #100)))(pp #101)(SU(n #102))(SU(dt #103)(n #104))))(C(*1 P(SU(pp #105)(SU(n #106))(SU(dt #107)(n #108)))(cj #109)(SU(pp #110)(SU(n #111))(SU(dt #112)(n #113)))(SU(SU(pp #116)(n #117))(cj #118)(SU(pp #119)(SU(n #120))(SU(n #121))))(pp #122)(SU(SU(dt #123)(n #124))(cj #125)(SU(pp #126)(n #127))))<*1>)(C(P(cj #114))(P(pp #115)))(C(P(SU(SU(SU(pp #128)(SU(n #129))(SU(dt #130)(n #131)))(pp #132)(SU(n #133)))(cj #134)(SU(pp #135)(n #136)))(cj #137)(SU(pp #138)(SU(n #139))(SU(SU(n #140))(SU(dt #141)(n #142))))))(C(P(SU(SU(pp #143)(SU(n #144))(SU(dt #145)(n #146)))(cj #147)(SU(pp #148)(SU(n #149))(SU(dt #150)(n #151))))(cj #152)(SU(pp #153)(n #154))))(C(*2 P(pp #155)(SU(n #156))(SU(dt #157)(n #158))(pp #164)(SU(n #165))(SU(dt #166)(n #167))(pp #168)(n #169)(dt #170)(n #171)(cj #172)(pp #173)(SU(n #174))(SU(n #175)))<*2>)(C(P(pp #159)(vb #160))(P(pp #161)(dt #162)(n #163)))(C(P(pp #176)(vb #177))))\t\u05d5 \u05db\u05dc \u05d7\u05db\u05dd \u05dc\u05d1 \u05d1\u05db\u05dd \u05d9\u05d1\u05d0\u05d5 \u05d5 \u05d9\u05e2\u05e9\u05c2\u05d5 \u05d0\u05ea \u05db\u05dc \u05d0\u05e9\u05c1\u05e8 \u05e6\u05d5\u05d4 \u05d9\u05d4\u05d5\u05d4 \u05d0\u05ea \u05d4 \u05de\u05e9\u05c1\u05db\u05df \u05d0\u05ea \u05d0\u05d4\u05dc\u05d5 \u05d5 \u05d0\u05ea \u05de\u05db\u05e1\u05d4\u05d5 \u05d0\u05ea \u05e7\u05e8\u05e1\u05d9\u05d5 \u05d5 \u05d0\u05ea \u05e7\u05e8\u05e9\u05c1\u05d9\u05d5 \u05d0\u05ea \u05d1\u05e8\u05d9\u05d7\u05d5 \u05d0\u05ea \u05e2\u05de\u05d3\u05d9\u05d5 \u05d5 \u05d0\u05ea \u05d0\u05d3\u05e0\u05d9\u05d5 \u05d0\u05ea \u05d4 \u05d0\u05e8\u05df \u05d5 \u05d0\u05ea \u05d1\u05d3\u05d9\u05d5 \u05d0\u05ea \u05d4 \u05db\u05e4\u05e8\u05ea \u05d5 \u05d0\u05ea \u05e4\u05e8\u05db\u05ea \u05d4 \u05de\u05e1\u05da \u05d0\u05ea \u05d4 \u05e9\u05c1\u05dc\u05d7\u05df \u05d5 \u05d0\u05ea \u05d1\u05d3\u05d9\u05d5 \u05d5 \u05d0\u05ea \u05db\u05dc \u05db\u05dc\u05d9\u05d5 \u05d5 \u05d0\u05ea \u05dc\u05d7\u05dd \u05d4 \u05e4\u05e0\u05d9\u05dd \u05d5 \u05d0\u05ea \u05de\u05e0\u05e8\u05ea \u05d4 \u05de\u05d0\u05d5\u05e8 \u05d5 \u05d0\u05ea \u05db\u05dc\u05d9\u05d4 \u05d5 \u05d0\u05ea \u05e0\u05e8\u05ea\u05d9\u05d4 \u05d5 \u05d0\u05ea \u05e9\u05c1\u05de\u05df \u05d4 \u05de\u05d0\u05d5\u05e8 \u05d5 \u05d0\u05ea \u05de\u05d6\u05d1\u05d7 \u05d4 \u05e7\u05d8\u05e8\u05ea \u05d5 \u05d0\u05ea \u05d1\u05d3\u05d9\u05d5 \u05d5 \u05d0\u05ea \u05e9\u05c1\u05de\u05df \u05d4 \u05de\u05e9\u05c1\u05d7\u05d4 \u05d5 \u05d0\u05ea \u05e7\u05d8\u05e8\u05ea \u05d4 \u05e1\u05de\u05d9\u05dd \u05d5 \u05d0\u05ea \u05de\u05e1\u05da \u05d4 \u05e4\u05ea\u05d7 \u05dc \u05e4\u05ea\u05d7 \u05d4 \u05de\u05e9\u05c1\u05db\u05df \u05d0\u05ea \u05de\u05d6\u05d1\u05d7 \u05d4 \u05e2\u05dc\u05d4 \u05d5 \u05d0\u05ea \u05de\u05db\u05d1\u05e8 \u05d4 \u05e0\u05d7\u05e9\u05c1\u05ea \u05d0\u05e9\u05c1\u05e8 \u05dc\u05d5 \u05d0\u05ea \u05d1\u05d3\u05d9\u05d5 \u05d5 \u05d0\u05ea \u05db\u05dc \u05db\u05dc\u05d9\u05d5 \u05d0\u05ea \u05d4 \u05db\u05d9\u05e8 \u05d5 \u05d0\u05ea \u05db\u05e0\u05d5 \u05d0\u05ea \u05e7\u05dc\u05e2\u05d9 \u05d4 \u05d7\u05e6\u05e8 \u05d0\u05ea \u05e2\u05de\u05d3\u05d9\u05d5 \u05d5 \u05d0\u05ea \u05d0\u05d3\u05e0\u05d9\u05d4 \u05d5 \u05d0\u05ea \u05de\u05e1\u05da \u05e9\u05c1\u05e2\u05e8 \u05d4 \u05d7\u05e6\u05e8 \u05d0\u05ea \u05d9\u05ea\u05d3\u05ea \u05d4 \u05de\u05e9\u05c1\u05db\u05df \u05d5 \u05d0\u05ea \u05d9\u05ea\u05d3\u05ea \u05d4 \u05d7\u05e6\u05e8 \u05d5 \u05d0\u05ea \u05de\u05d9\u05ea\u05e8\u05d9\u05d4\u05dd \u05d0\u05ea \u05d1\u05d2\u05d3\u05d9 \u05d4 \u05e9\u05c2\u05e8\u05d3 \u05dc \u05e9\u05c1\u05e8\u05ea \u05d1  \u05e7\u05d3\u05e9\u05c1 \u05d0\u05ea \u05d1\u05d2\u05d3\u05d9 \u05d4 \u05e7\u05d3\u05e9\u05c1 \u05dc \u05d0\u05d4\u05e8\u05df \u05d4 \u05db\u05d4\u05df \u05d5 \u05d0\u05ea \u05d1\u05d2\u05d3\u05d9 \u05d1\u05e0\u05d9\u05d5 \u05dc \u05db\u05d4\u05df \r\n",
        " EXO 36,02\t(S(C(P(cj #0))(P(vb #1))(P(n #2))(*1 P(SU(SU(pp #3)(n #4))(cj #5)(SU(pp #6)(n #7)))(cj #8)(SU(pp #9)(SU(SU(n #10))(SU(n #11)))(SU(SU(aj #12))(SU(n #13))))(n #20))<*1>)(C(P(cj #14))(P(vb #15))(P(n #16))(P(n #17))(P(pp #18)(n #19)))(C(P(cj #21))(P(vb #22))(P(n #23)))(C(P(pp #24)(vb #25))(P(pp #26)(dt #27)(n #28)))(C(P(pp #29)(vb #30))(P(pp #31))))\t\u05d5 \u05d9\u05e7\u05e8\u05d0 \u05de\u05e9\u05c1\u05d4 \u05d0\u05dc \u05d1\u05e6\u05dc\u05d0\u05dc \u05d5 \u05d0\u05dc \u05d0\u05d4\u05dc\u05d9\u05d0\u05d1 \u05d5 \u05d0\u05dc \u05db\u05dc \u05d0\u05d9\u05e9\u05c1 \u05d7\u05db\u05dd \u05dc\u05d1 \u05d0\u05e9\u05c1\u05e8 \u05e0\u05ea\u05df \u05d9\u05d4\u05d5\u05d4 \u05d7\u05db\u05de\u05d4 \u05d1 \u05dc\u05d1\u05d5 \u05db\u05dc \u05d0\u05e9\u05c1\u05e8 \u05e0\u05e9\u05c2\u05d0\u05d5 \u05dc\u05d1\u05d5 \u05dc \u05e7\u05e8\u05d1\u05d4 \u05d0\u05dc \u05d4 \u05de\u05dc\u05d0\u05db\u05d4 \u05dc \u05e2\u05e9\u05c2\u05ea \u05d0\u05ea\u05d4 \r\n",
        " EXO 36,04\t(S(C(P(cj #0))(P(vb #1))(*1 P(SU(n #2))(SU(dt #3)(aj #4))(SU(n #12))(SU(n #13)))<*1>(P(pp #14)(n #15)))(C(P(dt #5))(P(vb #6))(P(pp #7)(SU(n #8))(SU(SU(n #9))(SU(dt #10)(n #11)))))(C(P(cj #16))(P(pr #17))(P(vb #18))))\t\u05d5 \u05d9\u05d1\u05d0\u05d5 \u05db\u05dc \u05d4 \u05d7\u05db\u05de\u05d9\u05dd \u05d4 \u05e2\u05e9\u05c2\u05d9\u05dd \u05d0\u05ea \u05db\u05dc \u05de\u05dc\u05d0\u05db\u05ea \u05d4 \u05e7\u05d3\u05e9\u05c1 \u05d0\u05d9\u05e9\u05c1 \u05d0\u05d9\u05e9\u05c1 \u05de \u05de\u05dc\u05d0\u05db\u05ea\u05d5 \u05d0\u05e9\u05c1\u05e8 \u05d4\u05de\u05d4 \u05e2\u05e9\u05c2\u05d9\u05dd \r\n",
        " EXO 37,16\t(S(C(P(cj #0))(P(vb #1))(*1 P(pp #2)(dt #3)(n #4)(SU(SU(SU(pp #9)(n #10))(cj #11)(SU(pp #12)(n #13)))(cj #14)(SU(pp #15)(n #16)))(cj #17)(SU(pp #18)(dt #19)(n #20)))<*1>(P(SU(n #24))(SU(aj #25))))(C(P(cj #5))(P(pp #6)(dt #7)(n #8)))(C(P(cj #21))(P(vb #22))(P(pp #23))))\t\u05d5 \u05d9\u05e2\u05e9\u05c2 \u05d0\u05ea \u05d4 \u05db\u05dc\u05d9\u05dd \u05d0\u05e9\u05c1\u05e8 \u05e2\u05dc \u05d4 \u05e9\u05c1\u05dc\u05d7\u05df \u05d0\u05ea \u05e7\u05e2\u05e8\u05ea\u05d9\u05d5 \u05d5 \u05d0\u05ea \u05db\u05e4\u05ea\u05d9\u05d5 \u05d5 \u05d0\u05ea \u05de\u05e0\u05e7\u05d9\u05ea\u05d9\u05d5 \u05d5 \u05d0\u05ea \u05d4 \u05e7\u05e9\u05c2\u05d5\u05ea \u05d0\u05e9\u05c1\u05e8 \u05d9\u05e1\u05da \u05d1\u05d4\u05df \u05d6\u05d4\u05d1 \u05d8\u05d4\u05d5\u05e8 \r\n",
        " EXO 38,29\t(S(C(P(cj #0))(P(vb #1))(P(pp #2))(*1 P(SU(SU(pp #3)(SU(n #4))(SU(SU(n #5))(SU(n #6)(n #7))))(cj #8)(SU(pp #9)(SU(n #10))(SU(dt #11)(n #12))))(cj #13)(SU(pp #14)(SU(n #15))(SU(dt #16)(n #17)))(cj #20)(pp #21)(SU(n #22))(SU(SU(n #23))(SU(dt #24)(n #25))))<*1>)(C(P(cj #18))(P(pp #19)))(C(P(cj #26))(P(pp #27)(SU(n #28))(SU(dt #29)(n #30))(n #31)(cj #32)(SU(SU(pp #33)(SU(n #34))(SU(SU(n #35))(SU(dt #36)(n #37))))(cj #38)(SU(pp #39)(SU(n #40))(SU(n #41)(dt #42)(n #43))))(cj #44)(SU(pp #45)(SU(n #46))(SU(SU(n #47))(SU(dt #48)(n #49))))(n #50))))\t\u05d5 \u05d9\u05e2\u05e9\u05c2 \u05d1\u05d4 \u05d0\u05ea \u05d0\u05d3\u05e0\u05d9 \u05e4\u05ea\u05d7 \u05d0\u05d4\u05dc \u05de\u05d5\u05e2\u05d3 \u05d5 \u05d0\u05ea \u05de\u05d6\u05d1\u05d7 \u05d4 \u05e0\u05d7\u05e9\u05c1\u05ea \u05d5 \u05d0\u05ea \u05de\u05db\u05d1\u05e8 \u05d4 \u05e0\u05d7\u05e9\u05c1\u05ea \u05d0\u05e9\u05c1\u05e8 \u05dc\u05d5 \u05d5 \u05d0\u05ea \u05db\u05dc \u05db\u05dc\u05d9 \u05d4 \u05de\u05d6\u05d1\u05d7 \u05d5 \u05d0\u05ea \u05d0\u05d3\u05e0\u05d9 \u05d4 \u05d7\u05e6\u05e8 \u05e1\u05d1\u05d9\u05d1 \u05d5 \u05d0\u05ea \u05d0\u05d3\u05e0\u05d9 \u05e9\u05c1\u05e2\u05e8 \u05d4 \u05d7\u05e6\u05e8 \u05d5 \u05d0\u05ea \u05db\u05dc \u05d9\u05ea\u05d3\u05ea \u05d4 \u05de\u05e9\u05c1\u05db\u05df \u05d5 \u05d0\u05ea \u05db\u05dc \u05d9\u05ea\u05d3\u05ea \u05d4 \u05d7\u05e6\u05e8 \u05e1\u05d1\u05d9\u05d1 \r\n",
        " EXO 39,32\t(S(C(P(cj #0))(P(vb #1))(P(pp #2)(dt #3)(n #4)(SU(pp #7)(dt #8)(n #9))(cj #10)(SU(pp #11)(SU(n #12))(SU(n #13)))(SU(SU(SU(SU(n #14))(SU(n #15)))(SU(n #16)))(cj #17)(SU(n #18)))(cj #19)(SU(n #20)))(P(pp #5)(n #6)))(C(P(cj #21))(P(SU(SU(pp #22)(SU(SU(n #23))(SU(SU(n #24))(SU(dt #25)(n #26))))(SU(dt #27)(vb #28)))(cj #29)(SU(pp #30)(SU(n #31))(SU(n #32)(dt #33)(n #34))))(cj #35)(SU(pp #36)(SU(n #37))(SU(dt #38)(n #39)))))(C(P(SU(SU(pp #40)(SU(n #41))(SU(dt #42)(n #43)))(cj #44)(SU(pp #45)(n #46)))(cj #47)(SU(pp #48)(dt #49)(n #50))))(C(P(SU(SU(pp #51)(dt #52)(n #53))(pp #54)(SU(SU(n #55))(SU(n #56))))(cj #57)(SU(pp #58)(SU(n #59))(SU(dt #60)(n #61)))))(C(P(SU(SU(SU(pp #62)(SU(SU(dt #63)(n #64))(SU(dt #65)(aj #66))(pp #67)(SU(n #68))))(SU(SU(n #69))(SU(dt #70)(n #71))))(cj #72)(SU(pp #73)(SU(n #74))(SU(n #75))))(cj #76)(SU(pp #77)(SU(n #78))(SU(dt #79)(n #80)))))(C(P(cj #81))(P(SU(SU(SU(pp #82)(SU(n #83))(SU(dt #84)(n #85)))(cj #86)(SU(pp #87)(SU(n #88))(SU(dt #89)(n #90))))(cj #91)(SU(pp #92)(SU(n #93))(SU(dt #94)(n #95))))(cj #96)(SU(pp #97)(SU(n #98))(SU(SU(n #99))(SU(dt #100)(n #101))))))(C(P(SU(pp #102)(SU(n #103))(SU(dt #104)(n #105)))(cj #106)(SU(pp #107)(SU(n #108))(SU(dt #109)(n #110))))(P(SU(SU(pp #113)(n #114))(cj #115)(SU(pp #116)(SU(n #117))(SU(n #118))))(pp #119)(SU(SU(dt #120)(n #121))(cj #122)(SU(pp #123)(n #124)))))(C(P(cj #111))(P(pp #112)))(C(P(SU(SU(SU(pp #125)(SU(n #126))(SU(dt #127)(n #128)))(pp #129)(SU(n #130)))(cj #131)(SU(pp #132)(n #133)))(cj #134)(SU(pp #135)(dt #136)(n #137))(pp #138)(SU(n #139))(SU(dt #140)(n #141))(SU(SU(pp #142)(n #143))(cj #144)(SU(n #145)))(cj #146)(SU(pp #147)(SU(n #148))(SU(SU(n #149))(SU(n #150)(dt #151)(n #152))))(pp #153)(SU(n #154))(SU(n #155))))(C(*1 P(pp #156)(SU(n #157))(SU(dt #158)(n #159))(pp #165)(SU(n #166))(SU(dt #167)(n #168))(pp #169)(n #170)(dt #171)(n #172)(cj #173)(pp #174)(SU(n #175))(SU(n #176)))<*1>)(C(P(pp #160)(vb #161))(P(pp #162)(dt #163)(n #164)))(C(P(pp #177)(vb #178))))\t\u05d5 \u05d9\u05d1\u05d9\u05d0\u05d5 \u05d0\u05ea \u05d4 \u05de\u05e9\u05c1\u05db\u05df \u05d0\u05dc \u05de\u05e9\u05c1\u05d4 \u05d0\u05ea \u05d4 \u05d0\u05d4\u05dc \u05d5 \u05d0\u05ea \u05db\u05dc \u05db\u05dc\u05d9\u05d5 \u05e7\u05e8\u05e1\u05d9\u05d5 \u05e7\u05e8\u05e9\u05c1\u05d9\u05d5 \u05d1\u05e8\u05d9\u05d7\u05d5 \u05d5 \u05e2\u05de\u05d3\u05d9\u05d5 \u05d5 \u05d0\u05d3\u05e0\u05d9\u05d5 \u05d5 \u05d0\u05ea \u05de\u05db\u05e1\u05d4 \u05e2\u05d5\u05e8\u05ea \u05d4 \u05d0\u05d9\u05dc\u05dd \u05d4 \u05de\u05d0\u05d3\u05de\u05d9\u05dd \u05d5 \u05d0\u05ea \u05de\u05db\u05e1\u05d4 \u05e2\u05e8\u05ea \u05d4 \u05ea\u05d7\u05e9\u05c1\u05d9\u05dd \u05d5 \u05d0\u05ea \u05e4\u05e8\u05db\u05ea \u05d4 \u05de\u05e1\u05da \u05d0\u05ea \u05d0\u05e8\u05df \u05d4 \u05e2\u05d3\u05ea \u05d5 \u05d0\u05ea \u05d1\u05d3\u05d9\u05d5 \u05d5 \u05d0\u05ea \u05d4 \u05db\u05e4\u05e8\u05ea \u05d0\u05ea \u05d4 \u05e9\u05c1\u05dc\u05d7\u05df \u05d0\u05ea \u05db\u05dc \u05db\u05dc\u05d9\u05d5 \u05d5 \u05d0\u05ea \u05dc\u05d7\u05dd \u05d4 \u05e4\u05e0\u05d9\u05dd \u05d0\u05ea \u05d4 \u05de\u05e0\u05e8\u05d4 \u05d4 \u05d8\u05d4\u05e8\u05d4 \u05d0\u05ea \u05e0\u05e8\u05ea\u05d9\u05d4 \u05e0\u05e8\u05ea \u05d4 \u05de\u05e2\u05e8\u05db\u05d4 \u05d5 \u05d0\u05ea \u05db\u05dc \u05db\u05dc\u05d9\u05d4 \u05d5 \u05d0\u05ea \u05e9\u05c1\u05de\u05df \u05d4 \u05de\u05d0\u05d5\u05e8 \u05d5 \u05d0\u05ea \u05de\u05d6\u05d1\u05d7 \u05d4 \u05d6\u05d4\u05d1 \u05d5 \u05d0\u05ea \u05e9\u05c1\u05de\u05df \u05d4 \u05de\u05e9\u05c1\u05d7\u05d4 \u05d5 \u05d0\u05ea \u05e7\u05d8\u05e8\u05ea \u05d4 \u05e1\u05de\u05d9\u05dd \u05d5 \u05d0\u05ea \u05de\u05e1\u05da \u05e4\u05ea\u05d7 \u05d4 \u05d0\u05d4\u05dc \u05d0\u05ea \u05de\u05d6\u05d1\u05d7 \u05d4 \u05e0\u05d7\u05e9\u05c1\u05ea \u05d5 \u05d0\u05ea \u05de\u05db\u05d1\u05e8 \u05d4 \u05e0\u05d7\u05e9\u05c1\u05ea \u05d0\u05e9\u05c1\u05e8 \u05dc\u05d5 \u05d0\u05ea \u05d1\u05d3\u05d9\u05d5 \u05d5 \u05d0\u05ea \u05db\u05dc \u05db\u05dc\u05d9\u05d5 \u05d0\u05ea \u05d4 \u05db\u05d9\u05e8 \u05d5 \u05d0\u05ea \u05db\u05e0\u05d5 \u05d0\u05ea \u05e7\u05dc\u05e2\u05d9 \u05d4 \u05d7\u05e6\u05e8 \u05d0\u05ea \u05e2\u05de\u05d3\u05d9\u05d4 \u05d5 \u05d0\u05ea \u05d0\u05d3\u05e0\u05d9\u05d4 \u05d5 \u05d0\u05ea \u05d4 \u05de\u05e1\u05da \u05dc \u05e9\u05c1\u05e2\u05e8 \u05d4 \u05d7\u05e6\u05e8 \u05d0\u05ea \u05de\u05d9\u05ea\u05e8\u05d9\u05d5 \u05d5 \u05d9\u05ea\u05d3\u05ea\u05d9\u05d4 \u05d5 \u05d0\u05ea \u05db\u05dc \u05db\u05dc\u05d9 \u05e2\u05d1\u05d3\u05ea \u05d4 \u05de\u05e9\u05c1\u05db\u05df \u05dc \u05d0\u05d4\u05dc \u05de\u05d5\u05e2\u05d3 \u05d0\u05ea \u05d1\u05d2\u05d3\u05d9 \u05d4 \u05e9\u05c2\u05e8\u05d3 \u05dc \u05e9\u05c1\u05e8\u05ea \u05d1  \u05e7\u05d3\u05e9\u05c1 \u05d0\u05ea \u05d1\u05d2\u05d3\u05d9 \u05d4 \u05e7\u05d3\u05e9\u05c1 \u05dc \u05d0\u05d4\u05e8\u05df \u05d4 \u05db\u05d4\u05df \u05d5 \u05d0\u05ea \u05d1\u05d2\u05d3\u05d9 \u05d1\u05e0\u05d9\u05d5 \u05dc \u05db\u05d4\u05df \r\n",
        " LEV 07,09\t(S(C(P(cj #0))(*1 P(SU(n #1))(SU(n #2))(cj #8)(n #9))<*1>(P(pp #17)(dt #18)(n #19)))(C(P(cj #3))(P(vb #4))(P(pp #5)(dt #6)(n #7)))(C(P(vb #10))(P(SU(pp #11)(dt #12)(n #13))(cj #14)(SU(pp #15)(n #16))))(C(P(dt #20))(P(vb #21))(P(pp #22))))\t\u05d5 \u05db\u05dc \u05de\u05e0\u05d7\u05d4 \u05d0\u05e9\u05c1\u05e8 \u05ea\u05d0\u05e4\u05d4 \u05d1  \u05ea\u05e0\u05d5\u05e8 \u05d5 \u05db\u05dc \u05e0\u05e2\u05e9\u05c2\u05d4 \u05d1  \u05de\u05e8\u05d7\u05e9\u05c1\u05ea \u05d5 \u05e2\u05dc \u05de\u05d7\u05d1\u05ea \u05dc  \u05db\u05d4\u05df \u05d4 \u05de\u05e7\u05e8\u05d9\u05d1 \u05d0\u05ea\u05d4 \r\n",
        " LEV 11,09\t(S(C(P(cj #0))(*1 P(n #1)(SU(pp #15)(SU(n #16))(SU(SU(n #17))(SU(dt #18)(n #19))))(cj #20)(SU(pp #21)(SU(SU(n #22))(SU(n #23)))(SU(dt #24)(aj #25))))<*1>)(C(P(cj #2))(P(n #3))(P(pp #4))(P(SU(n #5))(cj #6)(SU(n #7)))(P(SU(pp #8)(dt #9)(n #10))(cj #11)(SU(pp #12)(dt #13)(n #14))))(C(P(cj #26))(P(pp #27)(dt #28)(n #29)))(C(P(n #30))(P(pr #31))(P(pp #32)))(C(P(cj #33))(P(n #34))(P(vb #35))(P(pp #36)))(C(P(pp #37)(n #38))(P(ng #39))(P(vb #40))))\t\u05d5 \u05db\u05dc \u05d0\u05e9\u05c1\u05e8 \u05d0\u05d9\u05df \u05dc\u05d5 \u05e1\u05e0\u05e4\u05d9\u05e8 \u05d5 \u05e7\u05e9\u05c2\u05e7\u05e9\u05c2\u05ea \u05d1  \u05d9\u05de\u05d9\u05dd \u05d5 \u05d1  \u05e0\u05d7\u05dc\u05d9\u05dd \u05de \u05db\u05dc \u05e9\u05c1\u05e8\u05e5 \u05d4 \u05de\u05d9\u05dd \u05d5 \u05de \u05db\u05dc \u05e0\u05e4\u05e9\u05c1 \u05d4 \u05d7\u05d9\u05d4 \u05d0\u05e9\u05c1\u05e8 \u05d1  \u05de\u05d9\u05dd \u05e9\u05c1\u05e7\u05e5 \u05d4\u05dd \u05dc\u05db\u05dd \u05d5 \u05e9\u05c1\u05e7\u05e5 \u05d9\u05d4\u05d9\u05d5 \u05dc\u05db\u05dd \u05de \u05d1\u05e9\u05c2\u05e8\u05dd \u05dc\u05d0 \u05ea\u05d0\u05db\u05dc\u05d5 \r\n",
        " LEV 11,12\t(S(C(*1 P(n #0)(pp #7)(dt #8)(n #9))<*1>)(C(P(cj #1))(P(n #2))(P(pp #3))(P(SU(n #4))(cj #5)(SU(n #6))))(C(P(n #10))(P(pr #11))(P(pp #12))))\t\u05db\u05dc \u05d0\u05e9\u05c1\u05e8 \u05d0\u05d9\u05df \u05dc\u05d5 \u05e1\u05e0\u05e4\u05d9\u05e8 \u05d5 \u05e7\u05e9\u05c2\u05e7\u05e9\u05c2\u05ea \u05d1  \u05de\u05d9\u05dd \u05e9\u05c1\u05e7\u05e5 \u05d4\u05d5\u05d0 \u05dc\u05db\u05dd \r\n",
        " LEV 11,27\t(S(C(P(cj #0))(*1 P(n #1)(pp #5)(SU(n #6))(SU(dt #7)(n #8)))<*1>)(C(P(vb #2))(P(pp #3)(n #4)))(C(P(dt #9))(P(vb #10))(P(pp #11)(n #12)))(C(P(aj #13))(P(pr #14))(P(pp #15)))(C(P(n #16))(P(vb #21))(P(pp #22)(dt #23)(n #24)))(C(P(dt #17))(P(vb #18))(P(pp #19)(n #20))))\t\u05d5 \u05db\u05dc \u05d4\u05d5\u05dc\u05da \u05e2\u05dc \u05db\u05e4\u05d9\u05d5 \u05d1 \u05db\u05dc \u05d4 \u05d7\u05d9\u05d4 \u05d4 \u05d4\u05dc\u05db\u05ea \u05e2\u05dc \u05d0\u05e8\u05d1\u05e2 \u05d8\u05de\u05d0\u05d9\u05dd \u05d4\u05dd \u05dc\u05db\u05dd \u05db\u05dc \u05d4 \u05e0\u05d2\u05e2 \u05d1 \u05e0\u05d1\u05dc\u05ea\u05dd \u05d9\u05d8\u05de\u05d0 \u05e2\u05d3 \u05d4 \u05e2\u05e8\u05d1 \r\n",
        " LEV 11,32\t(S(C(P(cj #0))(*1 P(n #1)(pp #9)(SU(n #10))(SU(SU(SU(SU(SU(n #11))(SU(n #12)))(cj #13)(SU(n #14)))(cj #15)(SU(n #16)))(cj #17)(SU(n #18))))<*1>(P(vb #8)))(C(P(cj #2))(P(vb #3))(P(pp #4))(P(pp #5))(P(pp #6)(n #7))))\t\u05d5 \u05db\u05dc \u05d0\u05e9\u05c1\u05e8 \u05d9\u05e4\u05dc \u05e2\u05dc\u05d9\u05d5 \u05de\u05d4\u05dd \u05d1 \u05de\u05ea\u05dd \u05d9\u05d8\u05de\u05d0 \u05de \u05db\u05dc \u05db\u05dc\u05d9 \u05e2\u05e5 \u05d0\u05d5 \u05d1\u05d2\u05d3 \u05d0\u05d5 \u05e2\u05d5\u05e8 \u05d0\u05d5 \u05e9\u05c2\u05e7 \r\n",
        " LEV 11,41\t(S(C(*1 P(n #0)(cj #4)(n #5)(pp #9)(n #10))<*1><*1>)(C(P(vb #1))(P(pp #2)(n #3)))(C(P(vb #6))(P(pp #7)(n #8)))(C(P(vb #11))(P(n #12))(P(pp #13)(SU(n #14))(SU(dt #15)(n #16))))(C(P(dt #17))(P(vb #18))(P(pp #19)(dt #20)(n #21)))(C(P(ng #22))(P(vb #23)))(C(P(cj #24))(P(n #25))(P(pr #26)))(C(P(ng #27))(P(vb #28))(P(pp #29)(n #30))(P(pp #31)(SU(n #32))(SU(dt #33)(n #34))))(C(P(dt #35))(P(vb #36))))\t\u05db\u05dc \u05d4\u05d5\u05dc\u05da \u05e2\u05dc \u05d2\u05d7\u05d5\u05df \u05d5 \u05db\u05dc \u05d4\u05d5\u05dc\u05da \u05e2\u05dc \u05d0\u05e8\u05d1\u05e2 \u05e2\u05d3 \u05db\u05dc \u05de\u05e8\u05d1\u05d4 \u05e8\u05d2\u05dc\u05d9\u05dd \u05dc \u05db\u05dc \u05d4 \u05e9\u05c1\u05e8\u05e5 \u05d4 \u05e9\u05c1\u05e8\u05e5 \u05e2\u05dc \u05d4 \u05d0\u05e8\u05e5 \u05dc\u05d0 \u05ea\u05d0\u05db\u05dc\u05d5\u05dd \u05db\u05d9 \u05e9\u05c1\u05e7\u05e5 \u05d4\u05dd \u05d0\u05dc \u05ea\u05e9\u05c1\u05e7\u05e6\u05d5 \u05d0\u05ea \u05e0\u05e4\u05e9\u05c1\u05ea\u05d9\u05db\u05dd \u05d1 \u05db\u05dc \u05d4 \u05e9\u05c1\u05e8\u05e5 \u05d4 \u05e9\u05c1\u05e8\u05e5 \r\n",
        " LEV 14,13\t(S(C(P(cj #0))(P(vb #1))(P(pp #2)(dt #3)(n #4))(*1 P(pp #5)(n #6)(pp #16)(SU(n #17))(SU(dt #18)(n #19)))<*1>)(C(P(cj #7))(P(vb #8))(P(SU(pp #9)(dt #10)(n #11))(cj #12)(SU(pp #13)(dt #14)(n #15)))))\t\u05d5 \u05e9\u05c1\u05d7\u05d8 \u05d0\u05ea \u05d4 \u05db\u05d1\u05e9\u05c2 \u05d1 \u05de\u05e7\u05d5\u05dd \u05d0\u05e9\u05c1\u05e8 \u05d9\u05e9\u05c1\u05d7\u05d8 \u05d0\u05ea \u05d4 \u05d7\u05d8\u05d0\u05ea \u05d5 \u05d0\u05ea \u05d4 \u05e2\u05dc\u05d4 \u05d1 \u05de\u05e7\u05d5\u05dd \u05d4 \u05e7\u05d3\u05e9\u05c1 \r\n",
        " LEV 17,15\t(S(C(P(cj #0))(*1 P(SU(n #1))(SU(n #2))(SU(pp #8)(dt #9)(n #10))(cj #11)(SU(pp #12)(dt #13)(n #14)))<*1>)(C(P(cj #3))(P(vb #4))(P(SU(n #5))(cj #6)(SU(n #7))))(C(P(cj #15))(P(vb #16))(P(n #17)))(C(P(cj #18))(P(vb #19))(P(pp #20)(dt #21)(n #22))))\t\u05d5 \u05db\u05dc \u05e0\u05e4\u05e9\u05c1 \u05d0\u05e9\u05c1\u05e8 \u05ea\u05d0\u05db\u05dc \u05e0\u05d1\u05dc\u05d4 \u05d5 \u05d8\u05e8\u05e4\u05d4 \u05d1  \u05d0\u05d6\u05e8\u05d7 \u05d5 \u05d1  \u05d2\u05e8 \u05d5 \u05db\u05d1\u05e1 \u05d1\u05d2\u05d3\u05d9\u05d5 \u05d5 \u05e8\u05d7\u05e5 \u05d1  \u05de\u05d9\u05dd \r\n",
        " LEV 21,01\t(S(C(P(pp #0)(n #1))(P(ng #2))(P(vb #3))(P(pp #4)(n #5)))(C(P(cj #6)(cj #7))(*1 P(pp #8)(n #9)(SU(SU(SU(pp #13)(n #14))(cj #15)(SU(pp #16)(n #17)))(cj #18)(SU(SU(pp #19)(n #20))(cj #21)(SU(pp #22)(n #23))))(cj #24)(SU(pp #25)(n #26)))<*1>)(C(P(dt #10))(P(aj #11))(P(pp #12))))\t\u05dc \u05e0\u05e4\u05e9\u05c1 \u05dc\u05d0 \u05d9\u05d8\u05de\u05d0 \u05d1 \u05e2\u05de\u05d9\u05d5 \u05db\u05d9 \u05d0\u05dd \u05dc \u05e9\u05c1\u05d0\u05e8\u05d5 \u05d4 \u05e7\u05e8\u05d1 \u05d0\u05dc\u05d9\u05d5 \u05dc \u05d0\u05de\u05d5 \u05d5 \u05dc \u05d0\u05d1\u05d9\u05d5 \u05d5 \u05dc \u05d1\u05e0\u05d5 \u05d5 \u05dc \u05d1\u05ea\u05d5 \u05d5 \u05dc \u05d0\u05d7\u05d9\u05d5 \r\n",
        " LEV 21,17\t(S(C(P(cj #0))(*1 P(SU(n #1))(SU(n #2))(SU(n #8))(SU(SU(aj #9))(cj #10)(SU(SU(SU(aj #11)))(cj #12)(SU(vb #13)))(cj #14)(SU(vb #15))))<*1>(P(ng #6))(P(vb #7)))(C(P(cj #3))(P(pp #4))(P(n #5)))(C(P(cj #16))(P(n #17)))(C(P(cj #18))(P(vb #19))(P(pp #20))(P(SU(SU(n #21))(SU(n #22)))(cj #23)(SU(SU(n #24))(SU(n #25)))))(C(P(cj #26))(P(SU(SU(aj #27))(cj #28)(SU(aj #29)))(cj #30)(SU(n #31))(pp #32)(n #33)(cj #34)(SU(SU(n #35))(cj #36)(SU(n #37)))(cj #38)(SU(SU(aj #39))(SU(n #40))))))\t\u05db\u05d9 \u05db\u05dc \u05d0\u05d9\u05e9\u05c1 \u05d0\u05e9\u05c1\u05e8 \u05d1\u05d5 \u05de\u05d5\u05dd \u05dc\u05d0 \u05d9\u05e7\u05e8\u05d1 \u05d0\u05d9\u05e9\u05c1 \u05e2\u05d5\u05e8 \u05d0\u05d5 \u05e4\u05e1\u05d7 \u05d0\u05d5 \u05d7\u05e8\u05dd \u05d0\u05d5 \u05e9\u05c2\u05e8\u05d5\u05e2 \u05d0\u05d5 \u05d0\u05d9\u05e9\u05c1 \u05d0\u05e9\u05c1\u05e8 \u05d9\u05d4\u05d9\u05d4 \u05d1\u05d5 \u05e9\u05c1\u05d1\u05e8 \u05e8\u05d2\u05dc \u05d0\u05d5 \u05e9\u05c1\u05d1\u05e8 \u05d9\u05d3 \u05d0\u05d5 \u05d2\u05d1\u05df \u05d0\u05d5 \u05d3\u05e7 \u05d0\u05d5 \u05ea\u05d1\u05dc\u05dc \u05d1 \u05e2\u05d9\u05e0\u05d5 \u05d0\u05d5 \u05d2\u05e8\u05d1 \u05d0\u05d5 \u05d9\u05dc\u05e4\u05ea \u05d0\u05d5 \u05de\u05e8\u05d5\u05d7 \u05d0\u05e9\u05c1\u05da \r\n",
        " LEV 21,21\t(S(C(*1 P(SU(n #0))(SU(n #1))(pp #5)(SU(n #6))(SU(n #7))(dt #8)(n #9))<*1>(P(ng #10))(P(vb #11)))(C(P(cj #2))(P(pp #3))(P(n #4)))(C(P(pp #12)(vb #13))(P(pp #14)(SU(n #15))(SU(n #16)))))\t\u05db\u05dc \u05d0\u05d9\u05e9\u05c1 \u05d0\u05e9\u05c1\u05e8 \u05d1\u05d5 \u05de\u05d5\u05dd \u05de \u05d6\u05e8\u05e2 \u05d0\u05d4\u05e8\u05df \u05d4 \u05db\u05d4\u05df \u05dc\u05d0 \u05d9\u05d2\u05e9\u05c1 \u05dc \u05d4\u05e7\u05e8\u05d9\u05d1 \u05d0\u05ea \u05d0\u05e9\u05c1\u05d9 \u05d9\u05d4\u05d5\u05d4 \r\n",
        " LEV 22,03\t(S(C(P(pp #0)(n #1))(*1 P(SU(n #2))(SU(n #3))(pp #6)(SU(n #7))(SU(n #8)))<*1>)(C(P(cj #4))(P(vb #5))(P(pp #9)(dt #10)(n #11)))(C(P(cj #12))(P(vb #13))(P(SU(n #14))(SU(n #15)))(P(pp #16)(n #17)))(C(P(cj #18))(P(n #19))(P(pp #20)))(C(P(cj #21))(P(vb #22))(P(SU(dt #23)(n #24))(SU(dt #25)(pr #26)))(P(pp #27)(pp #28)(n #29)))(C(P(pr #30))(P(n #31))))\t\u05dc \u05d3\u05e8\u05ea\u05d9\u05db\u05dd \u05db\u05dc \u05d0\u05d9\u05e9\u05c1 \u05d0\u05e9\u05c1\u05e8 \u05d9\u05e7\u05e8\u05d1 \u05de \u05db\u05dc \u05d6\u05e8\u05e2\u05db\u05dd \u05d0\u05dc \u05d4 \u05e7\u05d3\u05e9\u05c1\u05d9\u05dd \u05d0\u05e9\u05c1\u05e8 \u05d9\u05e7\u05d3\u05d9\u05e9\u05c1\u05d5 \u05d1\u05e0\u05d9 \u05d9\u05e9\u05c2\u05e8\u05d0\u05dc \u05dc \u05d9\u05d4\u05d5\u05d4 \u05d5 \u05d8\u05de\u05d0\u05ea\u05d5 \u05e2\u05dc\u05d9\u05d5 \u05d5 \u05e0\u05db\u05e8\u05ea\u05d4 \u05d4 \u05e0\u05e4\u05e9\u05c1 \u05d4 \u05d4\u05d5\u05d0 \u05de \u05dc \u05e4\u05e0\u05d9 \u05d0\u05e0\u05d9 \u05d9\u05d4\u05d5\u05d4 \r\n",
        " LEV 27,26\t(S(C(P(av #0))(*1 P(n #1)(pp #6)(n #7))<*1>)(C(P(cj #2))(P(vb #3))(P(pp #4)(n #5)))(C(P(ng #8))(P(vb #9))(P(n #10))(P(pp #11)))(C(P(cj #12))(P(SU(n #13))(cj #14)(SU(n #15)))))\t\u05d0\u05da \u05d1\u05db\u05d5\u05e8 \u05d0\u05e9\u05c1\u05e8 \u05d9\u05d1\u05db\u05e8 \u05dc \u05d9\u05d4\u05d5\u05d4 \u05d1 \u05d1\u05d4\u05de\u05d4 \u05dc\u05d0 \u05d9\u05e7\u05d3\u05d9\u05e9\u05c1 \u05d0\u05d9\u05e9\u05c1 \u05d0\u05ea\u05d5 \u05d0\u05dd \u05e9\u05c1\u05d5\u05e8 \u05d0\u05dd \u05e9\u05c2\u05d4 \r\n",
        " LEV 27,28\t(S(C(P(av #0))(*1 P(SU(n #1))(SU(n #2))(pp #8)(n #9)(SU(SU(pp #12)(n #13))(cj #14)(SU(n #15)))(cj #16)(SU(pp #17)(SU(n #18))(SU(n #19))))<*1><*1>)(C(P(cj #3))(P(vb #4))(P(n #5))(P(pp #6)(n #7)))(C(P(cj #10))(P(pp #11)))(C(P(ng #20))(P(vb #21)))(C(P(cj #22))(P(ng #23))(P(vb #24))))\t\u05d0\u05da \u05db\u05dc \u05d7\u05e8\u05dd \u05d0\u05e9\u05c1\u05e8 \u05d9\u05d7\u05e8\u05dd \u05d0\u05d9\u05e9\u05c1 \u05dc \u05d9\u05d4\u05d5\u05d4 \u05de \u05db\u05dc \u05d0\u05e9\u05c1\u05e8 \u05dc\u05d5 \u05de \u05d0\u05d3\u05dd \u05d5 \u05d1\u05d4\u05de\u05d4 \u05d5 \u05de \u05e9\u05c2\u05d3\u05d4 \u05d0\u05d7\u05d6\u05ea\u05d5 \u05dc\u05d0 \u05d9\u05de\u05db\u05e8 \u05d5 \u05dc\u05d0 \u05d9\u05d2\u05d0\u05dc \r\n",
        " NUM 03,24\t(S(C(P(cj #0))(P(SU(n #1))(SU(SU(n #2))(SU(n #3)))(pp #4)(SU(n #5))(SU(n #6)))(P(SU(SU(SU(dt #7)(n #8))(cj #9)(SU(dt #10)(n #11)))(SU(n #12)))(cj #13)(SU(SU(n #14))(SU(SU(n #15))(SU(n #16)(n #17))))))(C(P(cj #18))(*1 P(SU(SU(n #19))(SU(dt #20)(n #21)))(cj #22)(SU(pp #23)(SU(n #24))(SU(SU(n #25))(SU(dt #26)(n #27))))(cj #37)(pp #38)(n #39)(pp #40)(SU(n #41))(SU(n #42)))<*1>)(C(P(cj #28))(P(SU(pp #29)(dt #30)(n #31))(cj #32)(SU(pp #33)(dt #34)(n #35)))(P(n #36))))\t\u05d5 \u05de\u05e9\u05c1\u05de\u05e8\u05ea \u05d1\u05e0\u05d9 \u05d2\u05e8\u05e9\u05c1\u05d5\u05df \u05d1 \u05d0\u05d4\u05dc \u05de\u05d5\u05e2\u05d3 \u05d4 \u05de\u05e9\u05c1\u05db\u05df \u05d5 \u05d4 \u05d0\u05d4\u05dc \u05de\u05db\u05e1\u05d4\u05d5 \u05d5 \u05de\u05e1\u05da \u05e4\u05ea\u05d7 \u05d0\u05d4\u05dc \u05de\u05d5\u05e2\u05d3 \u05d5 \u05e7\u05dc\u05e2\u05d9 \u05d4 \u05d7\u05e6\u05e8 \u05d5 \u05d0\u05ea \u05de\u05e1\u05da \u05e4\u05ea\u05d7 \u05d4 \u05d7\u05e6\u05e8 \u05d0\u05e9\u05c1\u05e8 \u05e2\u05dc \u05d4 \u05de\u05e9\u05c1\u05db\u05df \u05d5 \u05e2\u05dc \u05d4 \u05de\u05d6\u05d1\u05d7 \u05e1\u05d1\u05d9\u05d1 \u05d5 \u05d0\u05ea \u05de\u05d9\u05ea\u05e8\u05d9\u05d5 \u05dc \u05db\u05dc \u05e2\u05d1\u05d3\u05ea\u05d5 \r\n",
        " NUM 03,31\t(S(C(P(cj #0))(P(n #1))(*1 P(SU(SU(SU(SU(dt #2)(n #3))(cj #4)(SU(dt #5)(n #6)))(cj #7)(SU(dt #8)(n #9)))(cj #10)(SU(dt #11)(n #12)))(cj #13)(SU(SU(n #14))(SU(dt #15)(n #16)))(cj #20)(SU(dt #21)(n #22))(cj #23)(SU(SU(n #24))(SU(n #25))))<*1>)(C(P(cj #17))(P(vb #18))(P(pp #19))))\t\u05d5 \u05de\u05e9\u05c1\u05de\u05e8\u05ea\u05dd \u05d4 \u05d0\u05e8\u05df \u05d5 \u05d4 \u05e9\u05c1\u05dc\u05d7\u05df \u05d5 \u05d4 \u05de\u05e0\u05e8\u05d4 \u05d5 \u05d4 \u05de\u05d6\u05d1\u05d7\u05ea \u05d5 \u05db\u05dc\u05d9 \u05d4 \u05e7\u05d3\u05e9\u05c1 \u05d0\u05e9\u05c1\u05e8 \u05d9\u05e9\u05c1\u05e8\u05ea\u05d5 \u05d1\u05d4\u05dd \u05d5 \u05d4 \u05de\u05e1\u05da \u05d5 \u05db\u05dc \u05e2\u05d1\u05d3\u05ea\u05d5 \r\n",
        " NUM 03,39\t(S(C(*1 P(SU(n #0))(SU(SU(vb #1))(SU(dt #2)(aj #3)))(SU(n #14))(SU(aj #15))(pp #16)(SU(n #17))(SU(SU(n #18))(cj #19)(SU(n #20))))<*1>(P(SU(SU(n #21))(cj #22)(SU(n #23)))(SU(n #24))))(C(P(cj #4))(P(vb #5))(P(SU(n #6))(cj #7)(SU(n #8)))(P(pp #9)(SU(n #10))(SU(n #11)))(P(pp #12)(n #13))))\t\u05db\u05dc \u05e4\u05e7\u05d5\u05d3\u05d9 \u05d4 \u05dc\u05d5\u05d9\u05dd \u05d0\u05e9\u05c1\u05e8 \u05e4\u05e7\u05d3 \u05de\u05e9\u05c1\u05d4 \u05d5 \u05d0\u05d4\u05e8\u05df \u05e2\u05dc \u05e4\u05d9 \u05d9\u05d4\u05d5\u05d4 \u05dc \u05de\u05e9\u05c1\u05e4\u05d7\u05ea\u05dd \u05db\u05dc \u05d6\u05db\u05e8 \u05de \u05d1\u05df \u05d7\u05d3\u05e9\u05c1 \u05d5 \u05de\u05e2\u05dc\u05d4 \u05e9\u05c1\u05e0\u05d9\u05dd \u05d5 \u05e2\u05e9\u05c2\u05e8\u05d9\u05dd \u05d0\u05dc\u05e3 \r\n",
        " NUM 04,14\t(S(C(P(cj #0))(P(vb #1))(P(pp #2))(*1 P(pp #3)(SU(n #4))(SU(n #5))(SU(SU(SU(pp #10)(dt #11)(n #12))(pp #13)(SU(dt #14)(n #15)))(cj #16)(SU(pp #17)(dt #18)(n #19)))(cj #20)(SU(pp #21)(dt #22)(n #23))(SU(n #24))(SU(SU(n #25))(SU(dt #26)(n #27))))<*1>)(C(P(cj #6))(P(vb #7))(P(pp #8))(P(pp #9))))\t\u05d5 \u05e0\u05ea\u05e0\u05d5 \u05e2\u05dc\u05d9\u05d5 \u05d0\u05ea \u05db\u05dc \u05db\u05dc\u05d9\u05d5 \u05d0\u05e9\u05c1\u05e8 \u05d9\u05e9\u05c1\u05e8\u05ea\u05d5 \u05e2\u05dc\u05d9\u05d5 \u05d1\u05d4\u05dd \u05d0\u05ea \u05d4 \u05de\u05d7\u05ea\u05ea \u05d0\u05ea \u05d4 \u05de\u05d6\u05dc\u05d2\u05ea \u05d5 \u05d0\u05ea \u05d4 \u05d9\u05e2\u05d9\u05dd \u05d5 \u05d0\u05ea \u05d4 \u05de\u05d6\u05e8\u05e7\u05ea \u05db\u05dc \u05db\u05dc\u05d9 \u05d4 \u05de\u05d6\u05d1\u05d7 \r\n",
        " NUM 04,24\t(S(C(P(cj #0))(P(vb #1))(*1 P(SU(pp #2)(SU(n #3))(SU(dt #4)(n #5)))(cj #6)(SU(pp #7)(SU(n #8))(SU(n #9)))(SU(n #10))(cj #11)(SU(SU(n #12))(SU(dt #13)(n #14)))(cj #20)(pp #21)(SU(n #22))(SU(SU(n #23))(SU(SU(n #24))(SU(n #25)))))<*1>)(C(P(cj #15))(P(pp #16))(P(pp #17)(pp #18)(n #19)))(C(P(cj #26))(*2 P(SU(pp #27)(SU(n #28))(SU(dt #29)(n #30)))(cj #31)(SU(pp #32)(SU(n #33))(SU(SU(n #34))(SU(n #35)(dt #36)(n #37))))(cj #47)(SU(SU(pp #48)(n #49))(cj #50)(SU(pp #51)(SU(n #52))(SU(n #53)(n #54))))(cj #55)(SU(pp #56)(n #57)))<*2>)(C(P(cj #38))(P(SU(pp #39)(dt #40)(n #41))(cj #42)(SU(pp #43)(dt #44)(n #45)))(P(n #46)))(C(P(cj #58))(P(vb #59))(P(pp #60))))\t\u05d5 \u05e0\u05e9\u05c2\u05d0\u05d5 \u05d0\u05ea \u05d9\u05e8\u05d9\u05e2\u05ea \u05d4 \u05de\u05e9\u05c1\u05db\u05df \u05d5 \u05d0\u05ea \u05d0\u05d4\u05dc \u05de\u05d5\u05e2\u05d3 \u05de\u05db\u05e1\u05d4\u05d5 \u05d5 \u05de\u05db\u05e1\u05d4 \u05d4 \u05ea\u05d7\u05e9\u05c1 \u05d0\u05e9\u05c1\u05e8 \u05e2\u05dc\u05d9\u05d5 \u05de \u05dc \u05de\u05e2\u05dc\u05d4 \u05d5 \u05d0\u05ea \u05de\u05e1\u05da \u05e4\u05ea\u05d7 \u05d0\u05d4\u05dc \u05de\u05d5\u05e2\u05d3 \u05d5 \u05d0\u05ea \u05e7\u05dc\u05e2\u05d9 \u05d4 \u05d7\u05e6\u05e8 \u05d5 \u05d0\u05ea \u05de\u05e1\u05da \u05e4\u05ea\u05d7 \u05e9\u05c1\u05e2\u05e8 \u05d4 \u05d7\u05e6\u05e8 \u05d0\u05e9\u05c1\u05e8 \u05e2\u05dc \u05d4 \u05de\u05e9\u05c1\u05db\u05df \u05d5 \u05e2\u05dc \u05d4 \u05de\u05d6\u05d1\u05d7 \u05e1\u05d1\u05d9\u05d1 \u05d5 \u05d0\u05ea \u05de\u05d9\u05ea\u05e8\u05d9\u05d4\u05dd \u05d5 \u05d0\u05ea \u05db\u05dc \u05db\u05dc\u05d9 \u05e2\u05d1\u05d3\u05ea\u05dd \u05d5 \u05d0\u05ea \u05db\u05dc \u05d0\u05e9\u05c1\u05e8 \u05d9\u05e2\u05e9\u05c2\u05d4 \u05dc\u05d4\u05dd \r\n",
        " NUM 07,12\t(S(C(P(cj #0))(P(n #1))(*1 P(SU(n #2))(SU(SU(n #3))(SU(n #4)))(SU(n #9))(SU(SU(n #10))(SU(n #11)))(SU(n #12))(SU(n #13))(pp #14)(SU(n #15))(SU(dt #16)(n #17)))<*1>(P(pp #25)(n #26)))(C(P(SU(n #5))(cj #6)(SU(n #7)))(P(n #8)))(C(P(n #18))(P(aj #19))(P(n #20)))(C(P(vb #21))(P(pp #22)(dt #23)(n #24)))(C(*2 P(SU(n #27))(SU(n #28))(SU(n #29))(SU(n #30))(SU(n #33))(SU(n #34))(SU(n #35))(SU(n #36))(SU(SU(n #37))(SU(n #38)))(SU(SU(n #39))(SU(n #40)))(SU(n #41))(SU(n #42)))<*2>(P(pp #43)(n #44)))(C(P(aj #31))(P(n #32)))(C(P(SU(n #45))(SU(SU(n #46))(SU(n #47))))(P(pp #48)(n #49)))(C(P(cj #50))(P(pp #51)(SU(n #52))(SU(dt #53)(n #54)))(P(SU(SU(SU(SU(n #55))(SU(n #56)))(SU(SU(n #57))(SU(n #58))))(SU(SU(n #59))(SU(n #60))))(SU(n #61))(SU(n #62))(SU(n #63))(n #64))))\t\u05d5 \u05e7\u05e8\u05d1\u05e0\u05d5 \u05e7\u05e2\u05e8\u05ea \u05db\u05e1\u05e3 \u05d0\u05d7\u05ea \u05e9\u05c1\u05dc\u05e9\u05c1\u05d9\u05dd \u05d5 \u05de\u05d0\u05d4 \u05de\u05e9\u05c1\u05e7\u05dc\u05d4 \u05de\u05d6\u05e8\u05e7 \u05d0\u05d7\u05d3 \u05db\u05e1\u05e3 \u05e9\u05c1\u05d1\u05e2\u05d9\u05dd \u05e9\u05c1\u05e7\u05dc \u05d1 \u05e9\u05c1\u05e7\u05dc \u05d4 \u05e7\u05d3\u05e9\u05c1 \u05e9\u05c1\u05e0\u05d9\u05d4\u05dd \u05de\u05dc\u05d0\u05d9\u05dd \u05e1\u05dc\u05ea \u05d1\u05dc\u05d5\u05dc\u05d4 \u05d1  \u05e9\u05c1\u05de\u05df \u05dc \u05de\u05e0\u05d7\u05d4 \u05db\u05e3 \u05d0\u05d7\u05ea \u05e2\u05e9\u05c2\u05e8\u05d4 \u05d6\u05d4\u05d1 \u05de\u05dc\u05d0\u05d4 \u05e7\u05d8\u05e8\u05ea \u05e4\u05e8 \u05d0\u05d7\u05d3 \u05d1\u05df \u05d1\u05e7\u05e8 \u05d0\u05d9\u05dc \u05d0\u05d7\u05d3 \u05db\u05d1\u05e9\u05c2 \u05d0\u05d7\u05d3 \u05d1\u05df \u05e9\u05c1\u05e0\u05ea\u05d5 \u05dc \u05e2\u05dc\u05d4 \u05e9\u05c2\u05e2\u05d9\u05e8 \u05e2\u05d6\u05d9\u05dd \u05d0\u05d7\u05d3 \u05dc \u05d7\u05d8\u05d0\u05ea \u05d5 \u05dc \u05d6\u05d1\u05d7 \u05d4 \u05e9\u05c1\u05dc\u05de\u05d9\u05dd \u05d1\u05e7\u05e8 \u05e9\u05c1\u05e0\u05d9\u05dd \u05d0\u05d9\u05dc\u05dd \u05d7\u05de\u05e9\u05c1\u05d4 \u05e2\u05ea\u05d5\u05d3\u05d9\u05dd \u05d7\u05de\u05e9\u05c1\u05d4 \u05db\u05d1\u05e9\u05c2\u05d9\u05dd \u05d1\u05e0\u05d9 \u05e9\u05c1\u05e0\u05d4 \u05d7\u05de\u05e9\u05c1\u05d4 \r\n",
        " NUM 07,18\t(S(C(P(vb #0))(P(pp #1)(n #2))(*1 P(SU(n #3))(SU(SU(n #4))(SU(n #5)))(SU(n #10))(SU(SU(n #11))(SU(n #12)))(SU(n #13))(SU(n #14))(pp #15)(SU(n #16))(SU(dt #17)(n #18)))<*1>(P(pp #26)(n #27)))(C(P(SU(n #6))(cj #7)(SU(n #8)))(P(n #9)))(C(P(n #19))(P(aj #20))(P(n #21)))(C(P(vb #22))(P(pp #23)(dt #24)(n #25)))(C(*2 P(SU(n #28))(SU(n #29))(SU(n #30))(SU(n #31))(SU(n #34))(SU(n #35))(SU(n #36))(SU(n #37))(SU(SU(n #38))(SU(n #39)))(SU(SU(n #40))(SU(n #41)))(SU(n #42))(SU(n #43)))<*2>(P(pp #44)(n #45)))(C(P(aj #32))(P(n #33)))(C(P(SU(n #46))(SU(SU(n #47))(SU(n #48))))(P(pp #49)(n #50))))\t\u05d4\u05e7\u05e8\u05d1 \u05d0\u05ea \u05e7\u05e8\u05d1\u05e0\u05d5 \u05e7\u05e2\u05e8\u05ea \u05db\u05e1\u05e3 \u05d0\u05d7\u05ea \u05e9\u05c1\u05dc\u05e9\u05c1\u05d9\u05dd \u05d5 \u05de\u05d0\u05d4 \u05de\u05e9\u05c1\u05e7\u05dc\u05d4 \u05de\u05d6\u05e8\u05e7 \u05d0\u05d7\u05d3 \u05db\u05e1\u05e3 \u05e9\u05c1\u05d1\u05e2\u05d9\u05dd \u05e9\u05c1\u05e7\u05dc \u05d1 \u05e9\u05c1\u05e7\u05dc \u05d4 \u05e7\u05d3\u05e9\u05c1 \u05e9\u05c1\u05e0\u05d9\u05d4\u05dd \u05de\u05dc\u05d0\u05d9\u05dd \u05e1\u05dc\u05ea \u05d1\u05dc\u05d5\u05dc\u05d4 \u05d1  \u05e9\u05c1\u05de\u05df \u05dc \u05de\u05e0\u05d7\u05d4 \u05db\u05e3 \u05d0\u05d7\u05ea \u05e2\u05e9\u05c2\u05e8\u05d4 \u05d6\u05d4\u05d1 \u05de\u05dc\u05d0\u05d4 \u05e7\u05d8\u05e8\u05ea \u05e4\u05e8 \u05d0\u05d7\u05d3 \u05d1\u05df \u05d1\u05e7\u05e8 \u05d0\u05d9\u05dc \u05d0\u05d7\u05d3 \u05db\u05d1\u05e9\u05c2 \u05d0\u05d7\u05d3 \u05d1\u05df \u05e9\u05c1\u05e0\u05ea\u05d5 \u05dc \u05e2\u05dc\u05d4 \u05e9\u05c2\u05e2\u05d9\u05e8 \u05e2\u05d6\u05d9\u05dd \u05d0\u05d7\u05d3 \u05dc \u05d7\u05d8\u05d0\u05ea \r\n",
        " NUM 07,24\t(S(C(P(n #0))(*1 P(SU(n #1))(SU(SU(n #2))(SU(n #3)))(SU(n #8))(SU(SU(n #9))(SU(n #10)))(SU(n #11))(SU(n #12))(pp #13)(SU(n #14))(SU(dt #15)(n #16)))<*1>(P(pp #24)(n #25)))(C(P(SU(n #4))(cj #5)(SU(n #6)))(P(n #7)))(C(P(n #17))(P(aj #18))(P(n #19)))(C(P(vb #20))(P(pp #21)(dt #22)(n #23)))(C(*2 P(SU(n #26))(SU(n #27))(SU(n #28))(SU(n #29))(SU(n #32))(SU(n #33))(SU(n #34))(SU(n #35))(SU(SU(n #36))(SU(n #37)))(SU(SU(n #38))(SU(n #39)))(SU(n #40))(SU(n #41)))<*2>(P(pp #42)(n #43)))(C(P(aj #30))(P(n #31)))(C(P(SU(n #44))(SU(SU(n #45))(SU(n #46))))(P(pp #47)(n #48))))\t\u05e7\u05e8\u05d1\u05e0\u05d5 \u05e7\u05e2\u05e8\u05ea \u05db\u05e1\u05e3 \u05d0\u05d7\u05ea \u05e9\u05c1\u05dc\u05e9\u05c1\u05d9\u05dd \u05d5 \u05de\u05d0\u05d4 \u05de\u05e9\u05c1\u05e7\u05dc\u05d4 \u05de\u05d6\u05e8\u05e7 \u05d0\u05d7\u05d3 \u05db\u05e1\u05e3 \u05e9\u05c1\u05d1\u05e2\u05d9\u05dd \u05e9\u05c1\u05e7\u05dc \u05d1 \u05e9\u05c1\u05e7\u05dc \u05d4 \u05e7\u05d3\u05e9\u05c1 \u05e9\u05c1\u05e0\u05d9\u05d4\u05dd \u05de\u05dc\u05d0\u05d9\u05dd \u05e1\u05dc\u05ea \u05d1\u05dc\u05d5\u05dc\u05d4 \u05d1  \u05e9\u05c1\u05de\u05df \u05dc \u05de\u05e0\u05d7\u05d4 \u05db\u05e3 \u05d0\u05d7\u05ea \u05e2\u05e9\u05c2\u05e8\u05d4 \u05d6\u05d4\u05d1 \u05de\u05dc\u05d0\u05d4 \u05e7\u05d8\u05e8\u05ea \u05e4\u05e8 \u05d0\u05d7\u05d3 \u05d1\u05df \u05d1\u05e7\u05e8 \u05d0\u05d9\u05dc \u05d0\u05d7\u05d3 \u05db\u05d1\u05e9\u05c2 \u05d0\u05d7\u05d3 \u05d1\u05df \u05e9\u05c1\u05e0\u05ea\u05d5 \u05dc \u05e2\u05dc\u05d4 \u05e9\u05c2\u05e2\u05d9\u05e8 \u05e2\u05d6\u05d9\u05dd \u05d0\u05d7\u05d3 \u05dc \u05d7\u05d8\u05d0\u05ea \r\n",
        " NUM 07,30\t(S(C(P(n #0))(*1 P(SU(n #1))(SU(SU(n #2))(SU(n #3)))(SU(n #8))(SU(SU(n #9))(SU(n #10)))(SU(n #11))(SU(n #12))(pp #13)(SU(n #14))(SU(dt #15)(n #16)))<*1>(P(pp #24)(n #25)))(C(P(SU(n #4))(cj #5)(SU(n #6)))(P(n #7)))(C(P(n #17))(P(aj #18))(P(n #19)))(C(P(vb #20))(P(pp #21)(dt #22)(n #23)))(C(*2 P(SU(n #26))(SU(n #27))(SU(n #28))(SU(n #29))(SU(n #32))(SU(n #33))(SU(n #34))(SU(n #35))(SU(SU(n #36))(SU(n #37)))(SU(SU(n #38))(SU(n #39)))(SU(n #40))(SU(n #41)))<*2>(P(pp #42)(n #43)))(C(P(aj #30))(P(n #31)))(C(P(SU(n #44))(SU(SU(n #45))(SU(n #46))))(P(pp #47)(n #48))))\t\u05e7\u05e8\u05d1\u05e0\u05d5 \u05e7\u05e2\u05e8\u05ea \u05db\u05e1\u05e3 \u05d0\u05d7\u05ea \u05e9\u05c1\u05dc\u05e9\u05c1\u05d9\u05dd \u05d5 \u05de\u05d0\u05d4 \u05de\u05e9\u05c1\u05e7\u05dc\u05d4 \u05de\u05d6\u05e8\u05e7 \u05d0\u05d7\u05d3 \u05db\u05e1\u05e3 \u05e9\u05c1\u05d1\u05e2\u05d9\u05dd \u05e9\u05c1\u05e7\u05dc \u05d1 \u05e9\u05c1\u05e7\u05dc \u05d4 \u05e7\u05d3\u05e9\u05c1 \u05e9\u05c1\u05e0\u05d9\u05d4\u05dd \u05de\u05dc\u05d0\u05d9\u05dd \u05e1\u05dc\u05ea \u05d1\u05dc\u05d5\u05dc\u05d4 \u05d1  \u05e9\u05c1\u05de\u05df \u05dc \u05de\u05e0\u05d7\u05d4 \u05db\u05e3 \u05d0\u05d7\u05ea \u05e2\u05e9\u05c2\u05e8\u05d4 \u05d6\u05d4\u05d1 \u05de\u05dc\u05d0\u05d4 \u05e7\u05d8\u05e8\u05ea \u05e4\u05e8 \u05d0\u05d7\u05d3 \u05d1\u05df \u05d1\u05e7\u05e8 \u05d0\u05d9\u05dc \u05d0\u05d7\u05d3 \u05db\u05d1\u05e9\u05c2 \u05d0\u05d7\u05d3 \u05d1\u05df \u05e9\u05c1\u05e0\u05ea\u05d5 \u05dc \u05e2\u05dc\u05d4 \u05e9\u05c2\u05e2\u05d9\u05e8 \u05e2\u05d6\u05d9\u05dd \u05d0\u05d7\u05d3 \u05dc \u05d7\u05d8\u05d0\u05ea \r\n",
        " NUM 07,36\t(S(C(P(n #0))(*1 P(SU(n #1))(SU(SU(n #2))(SU(n #3)))(SU(n #8))(SU(SU(n #9))(SU(n #10)))(SU(n #11))(SU(n #12))(pp #13)(SU(n #14))(SU(dt #15)(n #16)))<*1>(P(pp #24)(n #25)))(C(P(SU(n #4))(cj #5)(SU(n #6)))(P(n #7)))(C(P(n #17))(P(aj #18))(P(n #19)))(C(P(vb #20))(P(pp #21)(dt #22)(n #23)))(C(*2 P(SU(n #26))(SU(n #27))(SU(n #28))(SU(n #29))(SU(n #32))(SU(n #33))(SU(n #34))(SU(n #35))(SU(SU(n #36))(SU(n #37)))(SU(SU(n #38))(SU(n #39)))(SU(n #40))(SU(n #41)))<*2>(P(pp #42)(n #43)))(C(P(aj #30))(P(n #31)))(C(P(SU(n #44))(SU(SU(n #45))(SU(n #46))))(P(pp #47)(n #48))))\t\u05e7\u05e8\u05d1\u05e0\u05d5 \u05e7\u05e2\u05e8\u05ea \u05db\u05e1\u05e3 \u05d0\u05d7\u05ea \u05e9\u05c1\u05dc\u05e9\u05c1\u05d9\u05dd \u05d5 \u05de\u05d0\u05d4 \u05de\u05e9\u05c1\u05e7\u05dc\u05d4 \u05de\u05d6\u05e8\u05e7 \u05d0\u05d7\u05d3 \u05db\u05e1\u05e3 \u05e9\u05c1\u05d1\u05e2\u05d9\u05dd \u05e9\u05c1\u05e7\u05dc \u05d1 \u05e9\u05c1\u05e7\u05dc \u05d4 \u05e7\u05d3\u05e9\u05c1 \u05e9\u05c1\u05e0\u05d9\u05d4\u05dd \u05de\u05dc\u05d0\u05d9\u05dd \u05e1\u05dc\u05ea \u05d1\u05dc\u05d5\u05dc\u05d4 \u05d1  \u05e9\u05c1\u05de\u05df \u05dc \u05de\u05e0\u05d7\u05d4 \u05db\u05e3 \u05d0\u05d7\u05ea \u05e2\u05e9\u05c2\u05e8\u05d4 \u05d6\u05d4\u05d1 \u05de\u05dc\u05d0\u05d4 \u05e7\u05d8\u05e8\u05ea \u05e4\u05e8 \u05d0\u05d7\u05d3 \u05d1\u05df \u05d1\u05e7\u05e8 \u05d0\u05d9\u05dc \u05d0\u05d7\u05d3 \u05db\u05d1\u05e9\u05c2 \u05d0\u05d7\u05d3 \u05d1\u05df \u05e9\u05c1\u05e0\u05ea\u05d5 \u05dc \u05e2\u05dc\u05d4 \u05e9\u05c2\u05e2\u05d9\u05e8 \u05e2\u05d6\u05d9\u05dd \u05d0\u05d7\u05d3 \u05dc \u05d7\u05d8\u05d0\u05ea \r\n",
        " NUM 07,42\t(S(C(P(n #0))(*1 P(SU(n #1))(SU(SU(n #2))(SU(n #3)))(SU(n #8))(SU(SU(n #9))(SU(n #10)))(SU(n #11))(SU(n #12))(pp #13)(SU(n #14))(SU(dt #15)(n #16)))<*1>(P(pp #24)(n #25)))(C(P(SU(n #4))(cj #5)(SU(n #6)))(P(n #7)))(C(P(n #17))(P(aj #18))(P(n #19)))(C(P(vb #20))(P(pp #21)(dt #22)(n #23)))(C(*2 P(SU(n #26))(SU(n #27))(SU(n #28))(SU(n #29))(SU(n #32))(SU(n #33))(SU(n #34))(SU(n #35))(SU(SU(n #36))(SU(n #37)))(SU(SU(n #38))(SU(n #39)))(SU(n #40))(SU(n #41)))<*2>(P(pp #42)(n #43)))(C(P(aj #30))(P(n #31)))(C(P(SU(n #44))(SU(SU(n #45))(SU(n #46))))(P(pp #47)(n #48))))\t\u05e7\u05e8\u05d1\u05e0\u05d5 \u05e7\u05e2\u05e8\u05ea \u05db\u05e1\u05e3 \u05d0\u05d7\u05ea \u05e9\u05c1\u05dc\u05e9\u05c1\u05d9\u05dd \u05d5 \u05de\u05d0\u05d4 \u05de\u05e9\u05c1\u05e7\u05dc\u05d4 \u05de\u05d6\u05e8\u05e7 \u05d0\u05d7\u05d3 \u05db\u05e1\u05e3 \u05e9\u05c1\u05d1\u05e2\u05d9\u05dd \u05e9\u05c1\u05e7\u05dc \u05d1 \u05e9\u05c1\u05e7\u05dc \u05d4 \u05e7\u05d3\u05e9\u05c1 \u05e9\u05c1\u05e0\u05d9\u05d4\u05dd \u05de\u05dc\u05d0\u05d9\u05dd \u05e1\u05dc\u05ea \u05d1\u05dc\u05d5\u05dc\u05d4 \u05d1  \u05e9\u05c1\u05de\u05df \u05dc \u05de\u05e0\u05d7\u05d4 \u05db\u05e3 \u05d0\u05d7\u05ea \u05e2\u05e9\u05c2\u05e8\u05d4 \u05d6\u05d4\u05d1 \u05de\u05dc\u05d0\u05d4 \u05e7\u05d8\u05e8\u05ea \u05e4\u05e8 \u05d0\u05d7\u05d3 \u05d1\u05df \u05d1\u05e7\u05e8 \u05d0\u05d9\u05dc \u05d0\u05d7\u05d3 \u05db\u05d1\u05e9\u05c2 \u05d0\u05d7\u05d3 \u05d1\u05df \u05e9\u05c1\u05e0\u05ea\u05d5 \u05dc \u05e2\u05dc\u05d4 \u05e9\u05c2\u05e2\u05d9\u05e8 \u05e2\u05d6\u05d9\u05dd \u05d0\u05d7\u05d3 \u05dc \u05d7\u05d8\u05d0\u05ea \r\n",
        " NUM 07,48\t(S(C(P(n #0))(*1 P(SU(n #1))(SU(SU(n #2))"
       ]
      },
      {
       "output_type": "stream",
       "stream": "stdout",
       "text": [
        "(SU(n #3)))(SU(n #8))(SU(SU(n #9))(SU(n #10)))(SU(n #11))(SU(n #12))(pp #13)(SU(n #14))(SU(dt #15)(n #16)))<*1>(P(pp #24)(n #25)))(C(P(SU(n #4))(cj #5)(SU(n #6)))(P(n #7)))(C(P(n #17))(P(aj #18))(P(n #19)))(C(P(vb #20))(P(pp #21)(dt #22)(n #23)))(C(*2 P(SU(n #26))(SU(n #27))(SU(n #28))(SU(n #29))(SU(n #32))(SU(n #33))(SU(n #34))(SU(n #35))(SU(SU(n #36))(SU(n #37)))(SU(SU(n #38))(SU(n #39)))(SU(n #40))(SU(n #41)))<*2>(P(pp #42)(n #43)))(C(P(aj #30))(P(n #31)))(C(P(SU(n #44))(SU(SU(n #45))(SU(n #46))))(P(pp #47)(n #48))))\t\u05e7\u05e8\u05d1\u05e0\u05d5 \u05e7\u05e2\u05e8\u05ea \u05db\u05e1\u05e3 \u05d0\u05d7\u05ea \u05e9\u05c1\u05dc\u05e9\u05c1\u05d9\u05dd \u05d5 \u05de\u05d0\u05d4 \u05de\u05e9\u05c1\u05e7\u05dc\u05d4 \u05de\u05d6\u05e8\u05e7 \u05d0\u05d7\u05d3 \u05db\u05e1\u05e3 \u05e9\u05c1\u05d1\u05e2\u05d9\u05dd \u05e9\u05c1\u05e7\u05dc \u05d1 \u05e9\u05c1\u05e7\u05dc \u05d4 \u05e7\u05d3\u05e9\u05c1 \u05e9\u05c1\u05e0\u05d9\u05d4\u05dd \u05de\u05dc\u05d0\u05d9\u05dd \u05e1\u05dc\u05ea \u05d1\u05dc\u05d5\u05dc\u05d4 \u05d1  \u05e9\u05c1\u05de\u05df \u05dc \u05de\u05e0\u05d7\u05d4 \u05db\u05e3 \u05d0\u05d7\u05ea \u05e2\u05e9\u05c2\u05e8\u05d4 \u05d6\u05d4\u05d1 \u05de\u05dc\u05d0\u05d4 \u05e7\u05d8\u05e8\u05ea \u05e4\u05e8 \u05d0\u05d7\u05d3 \u05d1\u05df \u05d1\u05e7\u05e8 \u05d0\u05d9\u05dc \u05d0\u05d7\u05d3 \u05db\u05d1\u05e9\u05c2 \u05d0\u05d7\u05d3 \u05d1\u05df \u05e9\u05c1\u05e0\u05ea\u05d5 \u05dc \u05e2\u05dc\u05d4 \u05e9\u05c2\u05e2\u05d9\u05e8 \u05e2\u05d6\u05d9\u05dd \u05d0\u05d7\u05d3 \u05dc \u05d7\u05d8\u05d0\u05ea \r\n",
        " NUM 07,54\t(S(C(P(n #0))(*1 P(SU(n #1))(SU(SU(n #2))(SU(n #3)))(SU(n #8))(SU(SU(n #9))(SU(n #10)))(SU(n #11))(SU(n #12))(pp #13)(SU(n #14))(SU(dt #15)(n #16)))<*1>(P(pp #24)(n #25)))(C(P(SU(n #4))(cj #5)(SU(n #6)))(P(n #7)))(C(P(n #17))(P(aj #18))(P(n #19)))(C(P(vb #20))(P(pp #21)(dt #22)(n #23)))(C(*2 P(SU(n #26))(SU(n #27))(SU(n #28))(SU(n #29))(SU(n #32))(SU(n #33))(SU(n #34))(SU(n #35))(SU(SU(n #36))(SU(n #37)))(SU(SU(n #38))(SU(n #39)))(SU(n #40))(SU(n #41)))<*2>(P(pp #42)(n #43)))(C(P(aj #30))(P(n #31)))(C(P(SU(n #44))(SU(SU(n #45))(SU(n #46))))(P(pp #47)(n #48))))\t\u05e7\u05e8\u05d1\u05e0\u05d5 \u05e7\u05e2\u05e8\u05ea \u05db\u05e1\u05e3 \u05d0\u05d7\u05ea \u05e9\u05c1\u05dc\u05e9\u05c1\u05d9\u05dd \u05d5 \u05de\u05d0\u05d4 \u05de\u05e9\u05c1\u05e7\u05dc\u05d4 \u05de\u05d6\u05e8\u05e7 \u05d0\u05d7\u05d3 \u05db\u05e1\u05e3 \u05e9\u05c1\u05d1\u05e2\u05d9\u05dd \u05e9\u05c1\u05e7\u05dc \u05d1 \u05e9\u05c1\u05e7\u05dc \u05d4 \u05e7\u05d3\u05e9\u05c1 \u05e9\u05c1\u05e0\u05d9\u05d4\u05dd \u05de\u05dc\u05d0\u05d9\u05dd \u05e1\u05dc\u05ea \u05d1\u05dc\u05d5\u05dc\u05d4 \u05d1  \u05e9\u05c1\u05de\u05df \u05dc \u05de\u05e0\u05d7\u05d4 \u05db\u05e3 \u05d0\u05d7\u05ea \u05e2\u05e9\u05c2\u05e8\u05d4 \u05d6\u05d4\u05d1 \u05de\u05dc\u05d0\u05d4 \u05e7\u05d8\u05e8\u05ea \u05e4\u05e8 \u05d0\u05d7\u05d3 \u05d1\u05df \u05d1\u05e7\u05e8 \u05d0\u05d9\u05dc \u05d0\u05d7\u05d3 \u05db\u05d1\u05e9\u05c2 \u05d0\u05d7\u05d3 \u05d1\u05df \u05e9\u05c1\u05e0\u05ea\u05d5 \u05dc \u05e2\u05dc\u05d4 \u05e9\u05c2\u05e2\u05d9\u05e8 \u05e2\u05d6\u05d9\u05dd \u05d0\u05d7\u05d3 \u05dc \u05d7\u05d8\u05d0\u05ea \r\n",
        " NUM 07,60\t(S(C(P(n #0))(*1 P(SU(n #1))(SU(SU(n #2))(SU(n #3)))(SU(n #8))(SU(SU(n #9))(SU(n #10)))(SU(n #11))(SU(n #12))(pp #13)(SU(n #14))(SU(dt #15)(n #16)))<*1>(P(pp #24)(n #25)))(C(P(SU(n #4))(cj #5)(SU(n #6)))(P(n #7)))(C(P(n #17))(P(aj #18))(P(n #19)))(C(P(vb #20))(P(pp #21)(dt #22)(n #23)))(C(*2 P(SU(n #26))(SU(n #27))(SU(n #28))(SU(n #29))(SU(n #32))(SU(n #33))(SU(n #34))(SU(n #35))(SU(SU(n #36))(SU(n #37)))(SU(SU(n #38))(SU(n #39)))(SU(n #40))(SU(n #41)))<*2>(P(pp #42)(n #43)))(C(P(aj #30))(P(n #31)))(C(P(SU(n #44))(SU(SU(n #45))(SU(n #46))))(P(pp #47)(n #48))))\t\u05e7\u05e8\u05d1\u05e0\u05d5 \u05e7\u05e2\u05e8\u05ea \u05db\u05e1\u05e3 \u05d0\u05d7\u05ea \u05e9\u05c1\u05dc\u05e9\u05c1\u05d9\u05dd \u05d5 \u05de\u05d0\u05d4 \u05de\u05e9\u05c1\u05e7\u05dc\u05d4 \u05de\u05d6\u05e8\u05e7 \u05d0\u05d7\u05d3 \u05db\u05e1\u05e3 \u05e9\u05c1\u05d1\u05e2\u05d9\u05dd \u05e9\u05c1\u05e7\u05dc \u05d1 \u05e9\u05c1\u05e7\u05dc \u05d4 \u05e7\u05d3\u05e9\u05c1 \u05e9\u05c1\u05e0\u05d9\u05d4\u05dd \u05de\u05dc\u05d0\u05d9\u05dd \u05e1\u05dc\u05ea \u05d1\u05dc\u05d5\u05dc\u05d4 \u05d1  \u05e9\u05c1\u05de\u05df \u05dc \u05de\u05e0\u05d7\u05d4 \u05db\u05e3 \u05d0\u05d7\u05ea \u05e2\u05e9\u05c2\u05e8\u05d4 \u05d6\u05d4\u05d1 \u05de\u05dc\u05d0\u05d4 \u05e7\u05d8\u05e8\u05ea \u05e4\u05e8 \u05d0\u05d7\u05d3 \u05d1\u05df \u05d1\u05e7\u05e8 \u05d0\u05d9\u05dc \u05d0\u05d7\u05d3 \u05db\u05d1\u05e9\u05c2 \u05d0\u05d7\u05d3 \u05d1\u05df \u05e9\u05c1\u05e0\u05ea\u05d5 \u05dc \u05e2\u05dc\u05d4 \u05e9\u05c2\u05e2\u05d9\u05e8 \u05e2\u05d6\u05d9\u05dd \u05d0\u05d7\u05d3 \u05dc \u05d7\u05d8\u05d0\u05ea \r\n",
        " NUM 07,66\t(S(C(P(n #0))(*1 P(SU(n #1))(SU(SU(n #2))(SU(n #3)))(SU(n #8))(SU(SU(n #9))(SU(n #10)))(SU(n #11))(SU(n #12))(pp #13)(SU(n #14))(SU(dt #15)(n #16)))<*1>(P(pp #24)(n #25)))(C(P(SU(n #4))(cj #5)(SU(n #6)))(P(n #7)))(C(P(n #17))(P(aj #18))(P(n #19)))(C(P(vb #20))(P(pp #21)(dt #22)(n #23)))(C(*2 P(SU(n #26))(SU(n #27))(SU(n #28))(SU(n #29))(SU(n #32))(SU(n #33))(SU(n #34))(SU(n #35))(SU(SU(n #36))(SU(n #37)))(SU(SU(n #38))(SU(n #39)))(SU(n #40))(SU(n #41)))<*2>(P(pp #42)(n #43)))(C(P(aj #30))(P(n #31)))(C(P(SU(n #44))(SU(SU(n #45))(SU(n #46))))(P(pp #47)(n #48))))\t\u05e7\u05e8\u05d1\u05e0\u05d5 \u05e7\u05e2\u05e8\u05ea \u05db\u05e1\u05e3 \u05d0\u05d7\u05ea \u05e9\u05c1\u05dc\u05e9\u05c1\u05d9\u05dd \u05d5 \u05de\u05d0\u05d4 \u05de\u05e9\u05c1\u05e7\u05dc\u05d4 \u05de\u05d6\u05e8\u05e7 \u05d0\u05d7\u05d3 \u05db\u05e1\u05e3 \u05e9\u05c1\u05d1\u05e2\u05d9\u05dd \u05e9\u05c1\u05e7\u05dc \u05d1 \u05e9\u05c1\u05e7\u05dc \u05d4 \u05e7\u05d3\u05e9\u05c1 \u05e9\u05c1\u05e0\u05d9\u05d4\u05dd \u05de\u05dc\u05d0\u05d9\u05dd \u05e1\u05dc\u05ea \u05d1\u05dc\u05d5\u05dc\u05d4 \u05d1  \u05e9\u05c1\u05de\u05df \u05dc \u05de\u05e0\u05d7\u05d4 \u05db\u05e3 \u05d0\u05d7\u05ea \u05e2\u05e9\u05c2\u05e8\u05d4 \u05d6\u05d4\u05d1 \u05de\u05dc\u05d0\u05d4 \u05e7\u05d8\u05e8\u05ea \u05e4\u05e8 \u05d0\u05d7\u05d3 \u05d1\u05df \u05d1\u05e7\u05e8 \u05d0\u05d9\u05dc \u05d0\u05d7\u05d3 \u05db\u05d1\u05e9\u05c2 \u05d0\u05d7\u05d3 \u05d1\u05df \u05e9\u05c1\u05e0\u05ea\u05d5 \u05dc \u05e2\u05dc\u05d4 \u05e9\u05c2\u05e2\u05d9\u05e8 \u05e2\u05d6\u05d9\u05dd \u05d0\u05d7\u05d3 \u05dc \u05d7\u05d8\u05d0\u05ea \r\n",
        " NUM 07,72\t(S(C(P(n #0))(*1 P(SU(n #1))(SU(SU(n #2))(SU(n #3)))(SU(n #8))(SU(SU(n #9))(SU(n #10)))(SU(n #11))(SU(n #12))(pp #13)(SU(n #14))(SU(dt #15)(n #16)))<*1>(P(pp #24)(n #25)))(C(P(SU(n #4))(cj #5)(SU(n #6)))(P(n #7)))(C(P(n #17))(P(aj #18))(P(n #19)))(C(P(vb #20))(P(pp #21)(dt #22)(n #23)))(C(*2 P(SU(n #26))(SU(n #27))(SU(n #28))(SU(n #29))(SU(n #32))(SU(n #33))(SU(n #34))(SU(n #35))(SU(SU(n #36))(SU(n #37)))(SU(SU(n #38))(SU(n #39)))(SU(n #40))(SU(n #41)))<*2>(P(pp #42)(n #43)))(C(P(aj #30))(P(n #31)))(C(P(SU(n #44))(SU(SU(n #45))(SU(n #46))))(P(pp #47)(n #48))))\t\u05e7\u05e8\u05d1\u05e0\u05d5 \u05e7\u05e2\u05e8\u05ea \u05db\u05e1\u05e3 \u05d0\u05d7\u05ea \u05e9\u05c1\u05dc\u05e9\u05c1\u05d9\u05dd \u05d5 \u05de\u05d0\u05d4 \u05de\u05e9\u05c1\u05e7\u05dc\u05d4 \u05de\u05d6\u05e8\u05e7 \u05d0\u05d7\u05d3 \u05db\u05e1\u05e3 \u05e9\u05c1\u05d1\u05e2\u05d9\u05dd \u05e9\u05c1\u05e7\u05dc \u05d1 \u05e9\u05c1\u05e7\u05dc \u05d4 \u05e7\u05d3\u05e9\u05c1 \u05e9\u05c1\u05e0\u05d9\u05d4\u05dd \u05de\u05dc\u05d0\u05d9\u05dd \u05e1\u05dc\u05ea \u05d1\u05dc\u05d5\u05dc\u05d4 \u05d1  \u05e9\u05c1\u05de\u05df \u05dc \u05de\u05e0\u05d7\u05d4 \u05db\u05e3 \u05d0\u05d7\u05ea \u05e2\u05e9\u05c2\u05e8\u05d4 \u05d6\u05d4\u05d1 \u05de\u05dc\u05d0\u05d4 \u05e7\u05d8\u05e8\u05ea \u05e4\u05e8 \u05d0\u05d7\u05d3 \u05d1\u05df \u05d1\u05e7\u05e8 \u05d0\u05d9\u05dc \u05d0\u05d7\u05d3 \u05db\u05d1\u05e9\u05c2 \u05d0\u05d7\u05d3 \u05d1\u05df \u05e9\u05c1\u05e0\u05ea\u05d5 \u05dc \u05e2\u05dc\u05d4 \u05e9\u05c2\u05e2\u05d9\u05e8 \u05e2\u05d6\u05d9\u05dd \u05d0\u05d7\u05d3 \u05dc \u05d7\u05d8\u05d0\u05ea \r\n",
        " NUM 07,78\t(S(C(P(n #0))(*1 P(SU(n #1))(SU(SU(n #2))(SU(n #3)))(SU(n #8))(SU(SU(n #9))(SU(n #10)))(SU(n #11))(SU(n #12))(pp #13)(SU(n #14))(SU(dt #15)(n #16)))<*1>(P(pp #24)(n #25)))(C(P(SU(n #4))(cj #5)(SU(n #6)))(P(n #7)))(C(P(n #17))(P(aj #18))(P(n #19)))(C(P(vb #20))(P(pp #21)(dt #22)(n #23)))(C(*2 P(SU(n #26))(SU(n #27))(SU(n #28))(SU(n #29))(SU(n #32))(SU(n #33))(SU(n #34))(SU(n #35))(SU(SU(n #36))(SU(n #37)))(SU(SU(n #38))(SU(n #39)))(SU(n #40))(SU(n #41)))<*2>(P(pp #42)(n #43)))(C(P(aj #30))(P(n #31)))(C(P(SU(n #44))(SU(SU(n #45))(SU(n #46))))(P(pp #47)(n #48))))\t\u05e7\u05e8\u05d1\u05e0\u05d5 \u05e7\u05e2\u05e8\u05ea \u05db\u05e1\u05e3 \u05d0\u05d7\u05ea \u05e9\u05c1\u05dc\u05e9\u05c1\u05d9\u05dd \u05d5 \u05de\u05d0\u05d4 \u05de\u05e9\u05c1\u05e7\u05dc\u05d4 \u05de\u05d6\u05e8\u05e7 \u05d0\u05d7\u05d3 \u05db\u05e1\u05e3 \u05e9\u05c1\u05d1\u05e2\u05d9\u05dd \u05e9\u05c1\u05e7\u05dc \u05d1 \u05e9\u05c1\u05e7\u05dc \u05d4 \u05e7\u05d3\u05e9\u05c1 \u05e9\u05c1\u05e0\u05d9\u05d4\u05dd \u05de\u05dc\u05d0\u05d9\u05dd \u05e1\u05dc\u05ea \u05d1\u05dc\u05d5\u05dc\u05d4 \u05d1  \u05e9\u05c1\u05de\u05df \u05dc \u05de\u05e0\u05d7\u05d4 \u05db\u05e3 \u05d0\u05d7\u05ea \u05e2\u05e9\u05c2\u05e8\u05d4 \u05d6\u05d4\u05d1 \u05de\u05dc\u05d0\u05d4 \u05e7\u05d8\u05e8\u05ea \u05e4\u05e8 \u05d0\u05d7\u05d3 \u05d1\u05df \u05d1\u05e7\u05e8 \u05d0\u05d9\u05dc \u05d0\u05d7\u05d3 \u05db\u05d1\u05e9\u05c2 \u05d0\u05d7\u05d3 \u05d1\u05df \u05e9\u05c1\u05e0\u05ea\u05d5 \u05dc \u05e2\u05dc\u05d4 \u05e9\u05c2\u05e2\u05d9\u05e8 \u05e2\u05d6\u05d9\u05dd \u05d0\u05d7\u05d3 \u05dc \u05d7\u05d8\u05d0\u05ea \r\n",
        " NUM 09,10\t(S(C(*1 P(n #0)(n #1)(pp #11)(cj #12)(pp #13)(n #14))<*1>)(C(P(cj #2))(P(vb #3))(P(aj #4))(P(pp #5)(n #6)))(C(P(cj #7))(P(pp #8)(SU(n #9))(SU(aj #10))))(C(P(cj #15))(P(vb #16))(P(n #17))(P(pp #18)(n #19)))(C(P(SU(pp #20)(n #21))(cj #22)(SU(aj #23)))(P(vb #24)))(C(P(ng #25))(P(vb #26))(P(pp #27))(P(pp #28)(n #29))))\t\u05d0\u05d9\u05e9\u05c1 \u05d0\u05d9\u05e9\u05c1 \u05db\u05d9 \u05d9\u05d4\u05d9\u05d4 \u05d8\u05de\u05d0 \u05dc \u05e0\u05e4\u05e9\u05c1 \u05d0\u05d5 \u05d1 \u05d3\u05e8\u05da \u05e8\u05d7\u05e7\u05d4 \u05dc\u05db\u05dd \u05d0\u05d5 \u05dc \u05d3\u05e8\u05ea\u05d9\u05db\u05dd \u05d5 \u05e2\u05e9\u05c2\u05d4 \u05e4\u05e1\u05d7 \u05dc \u05d9\u05d4\u05d5\u05d4 \u05e2\u05dc \u05de\u05e6\u05d5\u05ea \u05d5 \u05de\u05e8\u05e8\u05d9\u05dd \u05d9\u05d0\u05db\u05dc\u05d4\u05d5 \u05dc\u05d0 \u05d9\u05e9\u05c1\u05d0\u05d9\u05e8\u05d5 \u05de\u05de\u05e0\u05d5 \u05e2\u05d3 \u05d1\u05e7\u05e8 \r\n",
        " NUM 15,30\t(S(C(P(cj #0))(*1 P(dt #1)(n #2)(SU(pp #8)(dt #9)(n #10))(cj #11)(SU(pp #12)(dt #13)(n #14)))<*1>)(C(P(cj #3))(P(vb #4))(P(pp #5)(SU(n #6))(SU(vb #7))))(C(P(pp #15)(n #16))(P(pr #17))(P(vb #18)))(C(P(cj #19))(P(vb #20))(P(SU(dt #21)(n #22))(SU(dt #23)(pr #24)))(P(pp #25)(SU(n #26))(SU(n #27)))))\t\u05d5 \u05d4 \u05e0\u05e4\u05e9\u05c1 \u05d0\u05e9\u05c1\u05e8 \u05ea\u05e2\u05e9\u05c2\u05d4 \u05d1 \u05d9\u05d3 \u05e8\u05de\u05d4 \u05de\u05df \u05d4 \u05d0\u05d6\u05e8\u05d7 \u05d5 \u05de\u05df \u05d4 \u05d2\u05e8 \u05d0\u05ea \u05d9\u05d4\u05d5\u05d4 \u05d4\u05d5\u05d0 \u05de\u05d2\u05d3\u05e3 \u05d5 \u05e0\u05db\u05e8\u05ea\u05d4 \u05d4 \u05e0\u05e4\u05e9\u05c1 \u05d4 \u05d4\u05d5\u05d0 \u05de \u05e7\u05e8\u05d1 \u05e2\u05de\u05d4 \r\n",
        " NUM 19,14\t(S(C(P(n #0)))(C(P(cj #1))(P(vb #2))(P(pp #3)(n #4)))(C(*1 P(n #5)(cj #11)(n #12))<*1>(P(vb #17))(P(SU(n #18))(SU(n #19))))(C(P(dt #6))(P(vb #7))(P(pp #8)(dt #9)(n #10)))(C(P(cj #13))(P(pp #14)(dt #15)(n #16)))(C(P(cj #20))(P(vb #21))(P(pp #22)(dt #23)(aj #24))(P(pp #25)(SU(n #26))(SU(SU(n #27))(SU(dt #28)(n #29)))))(C(P(cj #30))(P(vb #31))(P(pp #32))(P(SU(n #33))(SU(aj #34)))(P(pp #35)(n #36))))\t\u05d0\u05d3\u05dd \u05db\u05d9 \u05d9\u05de\u05d5\u05ea \u05d1 \u05d0\u05d4\u05dc \u05db\u05dc \u05d4 \u05d1\u05d0 \u05d0\u05dc \u05d4 \u05d0\u05d4\u05dc \u05d5 \u05db\u05dc \u05d0\u05e9\u05c1\u05e8 \u05d1  \u05d0\u05d4\u05dc \u05d9\u05d8\u05de\u05d0 \u05e9\u05c1\u05d1\u05e2\u05ea \u05d9\u05de\u05d9\u05dd \u05d5 \u05dc\u05e7\u05d7\u05d5 \u05dc  \u05d8\u05de\u05d0 \u05de \u05e2\u05e4\u05e8 \u05e9\u05c2\u05e8\u05e4\u05ea \u05d4 \u05d7\u05d8\u05d0\u05ea \u05d5 \u05e0\u05ea\u05df \u05e2\u05dc\u05d9\u05d5 \u05de\u05d9\u05dd \u05d7\u05d9\u05d9\u05dd \u05d0\u05dc \u05db\u05dc\u05d9 \r\n",
        " NUM 21,33\t(S(C(P(cj #0))(P(vb #1))(*1 P(n #2)(SU(n #3))(SU(dt #4)(n #5))(SU(pr #8))(cj #9)(SU(SU(n #10))(SU(n #11))))<*1>(P(pp #12)(dt #13)(n #14))(P(n #15)))(C(P(pp #6)(vb #7))))\t\u05d5 \u05d9\u05e6\u05d0 \u05e2\u05d5\u05d2 \u05de\u05dc\u05da \u05d4 \u05d1\u05e9\u05c1\u05df \u05dc \u05e7\u05e8\u05d0\u05ea\u05dd \u05d4\u05d5\u05d0 \u05d5 \u05db\u05dc \u05e2\u05de\u05d5 \u05dc  \u05de\u05dc\u05d7\u05de\u05d4 \u05d0\u05d3\u05e8\u05e2\u05d9 \r\n",
        " NUM 25,15\t(S(C(P(cj #0))(*1 P(SU(n #1))(SU(dt #2)(n #3))(dt #6)(aj #7))<*1>(P(n #8)(SU(n #9))(SU(n #10))))(C(P(dt #4))(P(vb #5))))\t\u05d5 \u05e9\u05c1\u05dd \u05d4 \u05d0\u05e9\u05c1\u05d4 \u05d4 \u05de\u05db\u05d4 \u05d4 \u05de\u05d3\u05d9\u05e0\u05d9\u05ea \u05db\u05d6\u05d1\u05d9 \u05d1\u05ea \u05e6\u05d5\u05e8 \r\n",
        " NUM 31,19\t(S(C(*1 P(n #0)(cj #3)(n #4))<*1>)(C(P(vb #1))(P(n #2)))(C(P(vb #5))(P(pp #6)(dt #7)(aj #8)))(C(P(vb #9))(P(SU(pp #10)(SU(dt #11)(n #12))(SU(dt #13)(aj #14)))(cj #15)(SU(pp #16)(SU(dt #17)(n #18))(SU(dt #19)(aj #20))))(P(SU(pr #21))(cj #22)(SU(n #23))))(C(P(cj #24))(P(SU(SU(SU(SU(n #25))(SU(n #26)))(cj #27)(SU(SU(n #28))(SU(n #29)(n #30))))(cj #31)(SU(SU(n #32))(SU(n #33)(n #34))))(cj #35)(SU(SU(n #36))(SU(SU(n #37))(SU(n #38)))))(P(vb #39))))\t\u05db\u05dc \u05d4\u05e8\u05d2 \u05e0\u05e4\u05e9\u05c1 \u05d5 \u05db\u05dc \u05e0\u05d2\u05e2 \u05d1  \u05d7\u05dc\u05dc \u05ea\u05ea\u05d7\u05d8\u05d0\u05d5 \u05d1  \u05d9\u05d5\u05dd \u05d4 \u05e9\u05c1\u05dc\u05d9\u05e9\u05c1\u05d9 \u05d5 \u05d1  \u05d9\u05d5\u05dd \u05d4 \u05e9\u05c1\u05d1\u05d9\u05e2\u05d9 \u05d0\u05ea\u05dd \u05d5 \u05e9\u05c1\u05d1\u05d9\u05db\u05dd \u05d5 \u05db\u05dc \u05d1\u05d2\u05d3 \u05d5 \u05db\u05dc \u05db\u05dc\u05d9 \u05e2\u05d5\u05e8 \u05d5 \u05db\u05dc \u05de\u05e2\u05e9\u05c2\u05d4 \u05e2\u05d6\u05d9\u05dd \u05d5 \u05db\u05dc \u05db\u05dc\u05d9 \u05e2\u05e5 \u05ea\u05ea\u05d7\u05d8\u05d0\u05d5 \r\n",
        " NUM 31,48\t(S(C(P(cj #0))(P(vb #1))(P(pp #2)(n #3))(*1 P(dt #4)(vb #5)(SU(SU(n #11))(SU(dt #12)(n #13)))(cj #14)(SU(SU(n #15))(SU(dt #16)(n #17))))<*1>)(C(P(cj #6))(P(pp #7)(SU(n #8))(SU(dt #9)(n #10)))))\t\u05d5 \u05d9\u05e7\u05e8\u05d1\u05d5 \u05d0\u05dc \u05de\u05e9\u05c1\u05d4 \u05d4 \u05e4\u05e7\u05d3\u05d9\u05dd \u05d0\u05e9\u05c1\u05e8 \u05dc \u05d0\u05dc\u05e4\u05d9 \u05d4 \u05e6\u05d1\u05d0 \u05e9\u05c2\u05e8\u05d9 \u05d4 \u05d0\u05dc\u05e4\u05d9\u05dd \u05d5 \u05e9\u05c2\u05e8\u05d9 \u05d4 \u05de\u05d0\u05d5\u05ea \r\n",
        " NUM 32,10\t(S(C(P(cj #0))(P(vb #1))(*1 P(dt #2)(n #3)(SU(pp #8)(SU(n #9))(SU(SU(n #10))(SU(n #11))))(cj #12)(SU(n #13)))<*1>(P(pp #14)(dt #15)(n #16)))(C(P(dt #4))(P(vb #5))(P(pp #6)(n #7)))(C(P(cj #17))(P(vb #18))(P(SU(SU(pp #19)(n #20))(pp #21)(SU(n #22)))(cj #23)(SU(pp #24)(n #25))))(C(P(cj #26))(P(ng #27))(P(vb #28))(P(n #29)))(C(P(SU(n #30))(SU(n #31))(SU(n #32))(SU(n #33))(dt #34)(aj #35)(cj #36)(n #37)(SU(n #38))(SU(n #39)))))\t\u05d0\u05dd \u05d9\u05e8\u05d0\u05d5 \u05d4 \u05d0\u05e0\u05e9\u05c1\u05d9\u05dd \u05d4 \u05e2\u05dc\u05d9\u05dd \u05de \u05de\u05e6\u05e8\u05d9\u05dd \u05de \u05d1\u05df \u05e2\u05e9\u05c2\u05e8\u05d9\u05dd \u05e9\u05c1\u05e0\u05d4 \u05d5 \u05de\u05e2\u05dc\u05d4 \u05d0\u05ea \u05d4 \u05d0\u05d3\u05de\u05d4 \u05d0\u05e9\u05c1\u05e8 \u05e0\u05e9\u05c1\u05d1\u05e2\u05ea\u05d9 \u05dc \u05d0\u05d1\u05e8\u05d4\u05dd \u05dc \u05d9\u05e6\u05d7\u05e7 \u05d5 \u05dc \u05d9\u05e2\u05e7\u05d1 \u05db\u05d9 \u05dc\u05d0 \u05de\u05dc\u05d0\u05d5 \u05d0\u05d7\u05e8\u05d9 \u05d1\u05dc\u05ea\u05d9 \u05db\u05dc\u05d1 \u05d1\u05df \u05d9\u05e4\u05e0\u05d4 \u05d4 \u05e7\u05e0\u05d6\u05d9 \u05d5 \u05d9\u05d4\u05d5\u05e9\u05c1\u05e2 \u05d1\u05df \u05e0\u05d5\u05df \r\n",
        " NUM 32,36\t(S(C(P(cj #0))(P(SU(n #1))(SU(n #2)))(P(vb #3))(P(SU(SU(pp #4)(n #5))(cj #6)(SU(pp #7)(n #8)))(cj #9)(SU(pp #10)(n #11))))(C(P(cj #12))(*1 P(SU(pp #13)(n #14))(cj #15)(SU(pp #16)(n #17))(cj #20)(pp #21)(n #22))<*1>)(C(P(vb #18))(P(n #19))))\t\u05d5 \u05d1\u05e0\u05d9 \u05e8\u05d0\u05d5\u05d1\u05df \u05d1\u05e0\u05d5 \u05d0\u05ea \u05d7\u05e9\u05c1\u05d1\u05d5\u05df \u05d5 \u05d0\u05ea \u05d0\u05dc\u05e2\u05dc\u05d0 \u05d5 \u05d0\u05ea \u05e7\u05e8\u05d9\u05ea\u05d9\u05dd \u05d5 \u05d0\u05ea \u05e0\u05d1\u05d5 \u05d5 \u05d0\u05ea \u05d1\u05e2\u05dc \u05de\u05e2\u05d5\u05df \u05de\u05d5\u05e1\u05d1\u05ea \u05e9\u05c1\u05dd \u05d5 \u05d0\u05ea \u05e9\u05c2\u05d1\u05de\u05d4 \r\n",
        " NUM 33,38\t(S(C(P(cj #0))(P(vb #1))(P(av #2))(*1 P(pp #3)(SU(n #4))(SU(dt #5)(n #6))(pp #14)(SU(dt #15)(n #16))(SU(dt #17)(aj #18))(pp #19)(n #20)(pp #21)(dt #22)(n #23))<*1>)(C(P(pp #7)(vb #8))(P(SU(n #9))(SU(n #10)))(P(pp #11)(SU(n #12))(SU(n #13)))))\t\u05d5 \u05d9\u05de\u05ea \u05e9\u05c1\u05dd \u05d1 \u05e9\u05c1\u05e0\u05ea \u05d4 \u05d0\u05e8\u05d1\u05e2\u05d9\u05dd \u05dc \u05e6\u05d0\u05ea \u05d1\u05e0\u05d9 \u05d9\u05e9\u05c2\u05e8\u05d0\u05dc \u05de \u05d0\u05e8\u05e5 \u05de\u05e6\u05e8\u05d9\u05dd \u05d1  \u05d7\u05d3\u05e9\u05c1 \u05d4 \u05d7\u05de\u05d9\u05e9\u05c1\u05d9 \u05d1 \u05d0\u05d7\u05d3 \u05dc  \u05d7\u05d3\u05e9\u05c1 \r\n",
        " DEUT02,28\t(S(C(P(av #0))(P(vb #1))(P(pp #2)(n #3)))(C(P(pp #4)(cj #5))(P(vb #6))(P(pp #7))(*1 P(SU(n #8))(SU(n #9))(cj #14)(dt #15)(aj #16))<*1>)(C(P(dt #10))(P(vb #11))(P(pp #12)(n #13)))(C(P(dt #17))(P(vb #18))(P(pp #19)(n #20)))(C(P(pp #21)(cj #22))(P(vb #23))(P(pp #24)(dt #25)(n #26))(P(pp #27)(dt #28)(n #29)))(C(P(cj #30))(P(n #31)(n #32))(P(vb #33))(P(pp #34))))\t\u05e8\u05e7 \u05d0\u05e2\u05d1\u05e8\u05d4 \u05d1 \u05e8\u05d2\u05dc\u05d9 \u05db \u05d0\u05e9\u05c1\u05e8 \u05e2\u05e9\u05c2\u05d5 \u05dc\u05d9 \u05d1\u05e0\u05d9 \u05e2\u05e9\u05c2\u05d5 \u05d4 \u05d9\u05e9\u05c1\u05d1\u05d9\u05dd \u05d1 \u05e9\u05c2\u05e2\u05d9\u05e8 \u05d5 \u05d4 \u05de\u05d5\u05d0\u05d1\u05d9\u05dd \u05d4 \u05d9\u05e9\u05c1\u05d1\u05d9\u05dd \u05d1 \u05e2\u05e8 \u05e2\u05d3 \u05d0\u05e9\u05c1\u05e8 \u05d0\u05e2\u05d1\u05e8 \u05d0\u05ea \u05d4 \u05d9\u05e8\u05d3\u05df \u05d0\u05dc \u05d4 \u05d0\u05e8\u05e5 \u05d0\u05e9\u05c1\u05e8 \u05d9\u05d4\u05d5\u05d4 \u05d0\u05dc\u05d4\u05d9\u05e0\u05d5 \u05e0\u05ea\u05df \u05dc\u05e0\u05d5 \r\n",
        " DEUT02,32\t(S(C(P(cj #0))(P(vb #1))(*1 P(n #2)(SU(pr #5))(cj #6)(SU(SU(n #7))(SU(n #8))))<*1>(P(pp #9)(dt #10)(n #11))(P(n #12)))(C(P(pp #3)(vb #4))))\t\u05d5 \u05d9\u05e6\u05d0 \u05e1\u05d9\u05d7\u05df \u05dc \u05e7\u05e8\u05d0\u05ea\u05e0\u05d5 \u05d4\u05d5\u05d0 \u05d5 \u05db\u05dc \u05e2\u05de\u05d5 \u05dc  \u05de\u05dc\u05d7\u05de\u05d4 \u05d9\u05d4\u05e6\u05d4 \r\n",
        " DEUT03,01\t(S(C(P(cj #0))(P(vb #1))(*1 P(n #2)(SU(n #3))(SU(dt #4)(n #5))(SU(pr #8))(cj #9)(SU(SU(n #10))(SU(n #11))))<*1>(P(pp #12)(dt #13)(n #14))(P(n #15)))(C(P(pp #6)(vb #7))))\t\u05d5 \u05d9\u05e6\u05d0 \u05e2\u05d5\u05d2 \u05de\u05dc\u05da \u05d4 \u05d1\u05e9\u05c1\u05df \u05dc \u05e7\u05e8\u05d0\u05ea\u05e0\u05d5 \u05d4\u05d5\u05d0 \u05d5 \u05db\u05dc \u05e2\u05de\u05d5 \u05dc  \u05de\u05dc\u05d7\u05de\u05d4 \u05d0\u05d3\u05e8\u05e2\u05d9 \r\n",
        " DEUT03,25\t(S(C(P(cj #0))(P(vb #1))(*1 P(pp #2)(SU(dt #3)(n #4))(SU(dt #5)(aj #6))(SU(SU(SU(dt #12)(n #13)))(SU(SU(dt #14)(aj #15))(dt #16)(pr #17)))(cj #18)(SU(dt #19)(n #20)))<*1>)(C(P(cj #7))(P(pp #8)(SU(n #9))(SU(dt #10)(n #11)))))\t\u05d5 \u05d0\u05e8\u05d0\u05d4 \u05d0\u05ea \u05d4 \u05d0\u05e8\u05e5 \u05d4 \u05d8\u05d5\u05d1\u05d4 \u05d0\u05e9\u05c1\u05e8 \u05d1 \u05e2\u05d1\u05e8 \u05d4 \u05d9\u05e8\u05d3\u05df \u05d4 \u05d4\u05e8 \u05d4 \u05d8\u05d5\u05d1 \u05d4 \u05d6\u05d4 \u05d5 \u05d4 \u05dc\u05d1\u05e0\u05d5\u05df \r\n",
        " DEUT04,13\t(S(C(P(cj #0))(P(vb #1))(P(pp #2))(*1 P(pp #3)(n #4)(SU(n #10))(SU(dt #11)(n #12)))<*1>)(C(P(cj #5))(P(vb #6))(P(pp #7)))(C(P(pp #8)(vb #9))))\t\u05d5 \u05d9\u05d2\u05d3 \u05dc\u05db\u05dd \u05d0\u05ea \u05d1\u05e8\u05d9\u05ea\u05d5 \u05d0\u05e9\u05c1\u05e8 \u05e6\u05d5\u05d4 \u05d0\u05ea\u05db\u05dd \u05dc \u05e2\u05e9\u05c2\u05d5\u05ea \u05e2\u05e9\u05c2\u05e8\u05ea \u05d4 \u05d3\u05d1\u05e8\u05d9\u05dd \r\n",
        " DEUT04,32\t(S(C(P(cj #0))(P(vb #1))(P(ij #2))(*1 P(pp #3)(SU(n #4))(SU(aj #5))(pp #10)(pp #11)(dt #12)(n #13)(cj #21)(pp #22)(pp #23)(SU(n #24))(SU(dt #25)(n #26))(cj #27)(pp #28)(SU(n #29))(SU(dt #30)(n #31)))<*1><*1>)(C(P(cj #6))(P(vb #7))(P(pp #8)(n #9)))(C(P(cj #14))(P(vb #15))(P(n #16))(P(n #17))(P(pp #18)(dt #19)(n #20))))\t\u05db\u05d9 \u05e9\u05c1\u05d0\u05dc \u05e0\u05d0 \u05dc \u05d9\u05de\u05d9\u05dd \u05e8\u05d0\u05e9\u05c1\u05e0\u05d9\u05dd \u05d0\u05e9\u05c1\u05e8 \u05d4\u05d9\u05d5 \u05dc \u05e4\u05e0\u05d9\u05da \u05dc \u05de\u05df \u05d4 \u05d9\u05d5\u05dd \u05d0\u05e9\u05c1\u05e8 \u05d1\u05e8\u05d0 \u05d0\u05dc\u05d4\u05d9\u05dd \u05d0\u05d3\u05dd \u05e2\u05dc \u05d4 \u05d0\u05e8\u05e5 \u05d5 \u05dc \u05de \u05e7\u05e6\u05d4 \u05d4 \u05e9\u05c1\u05de\u05d9\u05dd \u05d5 \u05e2\u05d3 \u05e7\u05e6\u05d4 \u05d4 \u05e9\u05c1\u05de\u05d9\u05dd \r\n",
        " DEUT09,21\t(S(C(P(cj #0))(*1 P(pp #1)(n #2)(pp #5)(dt #6)(n #7))<*1>(P(vb #8)))(C(P(cj #3))(P(vb #4))))\t\u05d5 \u05d0\u05ea \u05d7\u05d8\u05d0\u05ea\u05db\u05dd \u05d0\u05e9\u05c1\u05e8 \u05e2\u05e9\u05c2\u05d9\u05ea\u05dd \u05d0\u05ea \u05d4 \u05e2\u05d2\u05dc \u05dc\u05e7\u05d7\u05ea\u05d9 \r\n",
        " DEUT12,11\t(S(C(P(dt #0)(n #1)))(C(P(cj #2))(P(vb #3))(P(n #4)(n #5))(P(pp #6)))(C(P(pp #7)(vb #8))(P(n #9))(P(av #10)))(C(P(av #11))(P(vb #12))(*1 P(pp #13)(n #14)(SU(SU(n #19))(cj #20)(SU(n #21)))(SU(SU(n #22))(cj #23)(SU(SU(SU(n #24))(SU(n #25))))(cj #26)(SU(SU(n #27))(SU(n #28)(n #29)))))<*1>)(C(P(cj #15))(P(pr #16))(P(vb #17))(P(pp #18)))(C(P(cj #30))(P(vb #31))(P(pp #32)(n #33))))\t\u05d4 \u05de\u05e7\u05d5\u05dd \u05d0\u05e9\u05c1\u05e8 \u05d9\u05d1\u05d7\u05e8 \u05d9\u05d4\u05d5\u05d4 \u05d0\u05dc\u05d4\u05d9\u05db\u05dd \u05d1\u05d5 \u05dc \u05e9\u05c1\u05db\u05df \u05e9\u05c1\u05de\u05d5 \u05e9\u05c1\u05dd \u05e9\u05c1\u05de\u05d4 \u05ea\u05d1\u05d9\u05d0\u05d5 \u05d0\u05ea \u05db\u05dc \u05d0\u05e9\u05c1\u05e8 \u05d0\u05e0\u05db\u05d9 \u05de\u05e6\u05d5\u05d4 \u05d0\u05ea\u05db\u05dd \u05e2\u05d5\u05dc\u05ea\u05d9\u05db\u05dd \u05d5 \u05d6\u05d1\u05d7\u05d9\u05db\u05dd \u05de\u05e2\u05e9\u05c2\u05e8\u05ea\u05d9\u05db\u05dd \u05d5 \u05ea\u05e8\u05de\u05ea \u05d9\u05d3\u05db\u05dd \u05d5 \u05db\u05dc \u05de\u05d1\u05d7\u05e8 \u05e0\u05d3\u05e8\u05d9\u05db\u05dd \u05d0\u05e9\u05c1\u05e8 \u05ea\u05d3\u05e8\u05d5 \u05dc \u05d9\u05d4\u05d5\u05d4 \r\n",
        " DEUT14,29\t(S(C(P(cj #0))(P(vb #1))(*1 P(dt #2)(aj #3)(cj #11)(SU(SU(dt #12)(n #13))(cj #14)(SU(dt #15)(n #16)))(cj #17)(SU(dt #18)(n #19)))<*1>)(C(P(cj #4))(P(n #5))(P(pp #6))(P(SU(n #7))(cj #8)(SU(n #9)))(P(pp #10)))(C(P(cj #20))(P(pp #21)(n #22))))\t\u05d5 \u05d1\u05d0 \u05d4 \u05dc\u05d5\u05d9 \u05db\u05d9 \u05d0\u05d9\u05df \u05dc\u05d5 \u05d7\u05dc\u05e7 \u05d5 \u05e0\u05d7\u05dc\u05d4 \u05e2\u05de\u05da \u05d5 \u05d4 \u05d2\u05e8 \u05d5 \u05d4 \u05d9\u05ea\u05d5\u05dd \u05d5 \u05d4 \u05d0\u05dc\u05de\u05e0\u05d4 \u05d0\u05e9\u05c1\u05e8 \u05d1 \u05e9\u05c1\u05e2\u05e8\u05d9\u05da \r\n",
        " DEUT16,11\t(S(C(P(cj #0))(P(vb #1))(P(pp #2)(SU(n #3))(SU(n #4))(n #5))(*1 P(SU(SU(SU(pr #6))(cj #7)(SU(SU(n #8))(cj #9)(SU(SU(n #10))(cj #11)(SU(n #12))(cj #13)(SU(n #14))))))(cj #15)(SU(dt #16)(aj #17))(cj #21)(SU(SU(dt #22)(n #23))(cj #24)(SU(dt #25)(n #26)))(cj #27)(SU(dt #28)(n #29)))<*1>(P(pp #33)(dt #34)(n #35)))(C(P(cj #18))(P(pp #19)(n #20)))(C(P(cj #30))(P(pp #31)(n #32)))(C(P(cj #36))(P(vb #37))(P(n #38)(n #39)))(C(P(pp #40)(vb #41))(P(n #42))(P(av #43))))\t\u05d5 \u05e9\u05c2\u05de\u05d7\u05ea \u05dc \u05e4\u05e0\u05d9 \u05d9\u05d4\u05d5\u05d4 \u05d0\u05dc\u05d4\u05d9\u05da \u05d0\u05ea\u05d4 \u05d5 \u05d1\u05e0\u05da \u05d5 \u05d1\u05ea\u05da \u05d5 \u05e2\u05d1\u05d3\u05da \u05d5 \u05d0\u05de\u05ea\u05da \u05d5 \u05d4 \u05dc\u05d5\u05d9 \u05d0\u05e9\u05c1\u05e8 \u05d1 \u05e9\u05c1\u05e2\u05e8\u05d9\u05da \u05d5 \u05d4 \u05d2\u05e8 \u05d5 \u05d4 \u05d9\u05ea\u05d5\u05dd \u05d5 \u05d4 \u05d0\u05dc\u05de\u05e0\u05d4 \u05d0\u05e9\u05c1\u05e8 \u05d1 \u05e7\u05e8\u05d1\u05da \u05d1  \u05de\u05e7\u05d5\u05dd \u05d0\u05e9\u05c1\u05e8 \u05d9\u05d1\u05d7\u05e8 \u05d9\u05d4\u05d5\u05d4 \u05d0\u05dc\u05d4\u05d9\u05da \u05dc \u05e9\u05c1\u05db\u05df \u05e9\u05c1\u05de\u05d5 \u05e9\u05c1\u05dd \r\n",
        " DEUT18,05\t(S(C(P(cj #0))(P(pp #1))(P(vb #2))(*1 P(n #3)(n #4)(SU(pr #15))(cj #16)(SU(n #17)))(P(pp #5)(SU(n #6))(SU(n #7)))<*1>(P(SU(n #18))(SU(dt #19)(n #20))))(C(P(pp #8)(vb #9)))(C(P(pp #10)(vb #11))(P(pp #12)(SU(n #13))(SU(n #14)))))\t\u05db\u05d9 \u05d1\u05d5 \u05d1\u05d7\u05e8 \u05d9\u05d4\u05d5\u05d4 \u05d0\u05dc\u05d4\u05d9\u05da \u05de \u05db\u05dc \u05e9\u05c1\u05d1\u05d8\u05d9\u05da \u05dc \u05e2\u05de\u05d3 \u05dc \u05e9\u05c1\u05e8\u05ea \u05d1 \u05e9\u05c1\u05dd \u05d9\u05d4\u05d5\u05d4 \u05d4\u05d5\u05d0 \u05d5 \u05d1\u05e0\u05d9\u05d5 \u05db\u05dc \u05d4 \u05d9\u05de\u05d9\u05dd \r\n",
        " DEUT22,09\t(S(C(P(cj #0))(P(vb #1))(P(dt #2)(n #3)))(C(*1 P(dt #4)(n #5)(cj #8)(SU(n #9))(SU(dt #10)(n #11)))<*1>)(C(P(cj #6))(P(vb #7))))\t\u05e4\u05df \u05ea\u05e7\u05d3\u05e9\u05c1 \u05d4 \u05de\u05dc\u05d0\u05d4 \u05d4 \u05d6\u05e8\u05e2 \u05d0\u05e9\u05c1\u05e8 \u05ea\u05d6\u05e8\u05e2 \u05d5 \u05ea\u05d1\u05d5\u05d0\u05ea \u05d4 \u05db\u05e8\u05dd \r\n",
        " DEUT22,22\t(S(C(P(cj #0))(P(vb #1))(P(av #2))(P(n #3)))(C(*1 P(dt #4)(n #5)(cj #11)(dt #12)(n #13))<*1>)(C(P(dt #6))(P(vb #7))(P(pp #8)(dt #9)(n #10))))\t\u05d5 \u05de\u05ea\u05d5 \u05d2\u05dd \u05e9\u05c1\u05e0\u05d9\u05d4\u05dd \u05d4 \u05d0\u05d9\u05e9\u05c1 \u05d4 \u05e9\u05c1\u05db\u05d1 \u05e2\u05dd \u05d4 \u05d0\u05e9\u05c1\u05d4 \u05d5 \u05d4 \u05d0\u05e9\u05c1\u05d4 \r\n",
        " DEUT28,55\t(S(C(P(dt #0))(P(aj #1))(P(pp #2)))(C(P(cj #3))(P(dt #4))(P(aj #5)))(C(P(cj #6))(P(ng #7))(P(vb #8))(P(SU(n #9))(SU(n #10))))(C(P(vb #11))(P(pp #12)(dt #13)(n #14)))(C(P(pp #15)(vb #16)))(C(P(cj #17))(P(pp #18)(n #19)))(C(P(vb #20))(P(n #21))(P(SU(SU(pp #22)(SU(n #23))(SU(n #24)))(cj #25)(SU(pp #26)(n #27)))(cj #28)(SU(pp #29)(n #30))))(C(P(cj #31))(*1 P(pp #32)(n #33)(cj #39)(pp #40)(n #41))<*1>)(C(P(dt #34))(P(vb #35))(P(pp #36)(n #37)(n #38)))(C(P(cj #42))(P(vb #43))))\t\u05d4 \u05e8\u05db\u05d4 \u05d1\u05da \u05d5 \u05d4 \u05e2\u05e0\u05d2\u05d4 \u05d0\u05e9\u05c1\u05e8 \u05dc\u05d0 \u05e0\u05e1\u05ea\u05d4 \u05db\u05e3 \u05e8\u05d2\u05dc\u05d4 \u05d4\u05e6\u05d2 \u05e2\u05dc \u05d4 \u05d0\u05e8\u05e5 \u05de \u05d4\u05ea\u05e2\u05e0\u05d2 \u05d5 \u05de \u05e8\u05da \u05ea\u05e8\u05e2 \u05e2\u05d9\u05e0\u05d4 \u05d1 \u05d0\u05d9\u05e9\u05c1 \u05d7\u05d9\u05e7\u05d4 \u05d5 \u05d1 \u05d1\u05e0\u05d4 \u05d5 \u05d1 \u05d1\u05ea\u05d4 \u05d5 \u05d1 \u05e9\u05c1\u05dc\u05d9\u05ea\u05d4 \u05d4 \u05d9\u05d5\u05e6\u05ea \u05de \u05d1\u05d9\u05df \u05e8\u05d2\u05dc\u05d9\u05d4 \u05d5 \u05d1 \u05d1\u05e0\u05d9\u05d4 \u05d0\u05e9\u05c1\u05e8 \u05ea\u05dc\u05d3 \r\n",
        " DEUT28,67\t(S(C(P(pp #0)(dt #1)(n #2))(P(vb #3)))(C(*1 P(pp #4)(SU(n #5))(SU(n #6))(cj #9)(pp #10)(SU(n #11))(SU(n #12)))<*1>)(C(P(cj #7))(P(vb #8)))(C(P(cj #13))(P(vb #14))))\t\u05d1  \u05d1\u05e7\u05e8 \u05ea\u05d0\u05de\u05e8 \u05de \u05e4\u05d7\u05d3 \u05dc\u05d1\u05d1\u05da \u05d0\u05e9\u05c1\u05e8 \u05ea\u05e4\u05d7\u05d3 \u05d5 \u05de \u05de\u05e8\u05d0\u05d4 \u05e2\u05d9\u05e0\u05d9\u05da \u05d0\u05e9\u05c1\u05e8 \u05ea\u05e8\u05d0\u05d4 \r\n",
        " DEUT29,01\t(S(C(P(pr #0))(P(vb #1))(P(pp #2)(n #3))(*1 P(SU(dt #22)(n #23))(SU(dt #24)(aj #25))(SU(dt #29)(n #30))(cj #31)(SU(SU(SU(dt #32)(n #33)))(SU(SU(dt #34)(aj #35))(dt #36)(pr #37))))<*1>)(C(P(cj #4))(P(vb #5))(P(n #6))(P(pp #7)(n #8))(P(pp #9)(SU(n #10))(SU(n #11)))(P(SU(SU(pp #12)(n #13))(cj #14)(SU(pp #15)(SU(n #16))(SU(n #17))))(cj #18)(SU(pp #19)(SU(n #20))(SU(n #21)))))(C(P(cj #26))(P(vb #27))(P(n #28))))\t\u05d0\u05ea\u05dd \u05e8\u05d0\u05d9\u05ea\u05dd \u05d0\u05ea \u05db\u05dc \u05d0\u05e9\u05c1\u05e8 \u05e2\u05e9\u05c2\u05d4 \u05d9\u05d4\u05d5\u05d4 \u05dc \u05e2\u05d9\u05e0\u05d9\u05db\u05dd \u05d1 \u05d0\u05e8\u05e5 \u05de\u05e6\u05e8\u05d9\u05dd \u05dc \u05e4\u05e8\u05e2\u05d4 \u05d5 \u05dc \u05db\u05dc \u05e2\u05d1\u05d3\u05d9\u05d5 \u05d5 \u05dc \u05db\u05dc \u05d0\u05e8\u05e6\u05d5 \u05d4 \u05de\u05e1\u05d5\u05ea \u05d4 \u05d2\u05d3\u05dc\u05ea \u05d0\u05e9\u05c1\u05e8 \u05e8\u05d0\u05d5 \u05e2\u05d9\u05e0\u05d9\u05da \u05d4 \u05d0\u05ea\u05ea \u05d5 \u05d4 \u05de\u05e4\u05ea\u05d9\u05dd \u05d4 \u05d2\u05d3\u05dc\u05d9\u05dd \u05d4 \u05d4\u05dd \r\n",
        " DEUT29,20\t(S(C(P(cj #0))(P(vb #1))(*1 P(SU(dt #2)(n #3))(SU(dt #4)(aj #5))(n #6)(cj #11)(dt #12)(aj #13))<*1>)(C(P(cj #7))(P(vb #8))(P(pp #9)(n #10)))(C(P(cj #14))(P(vb #15))(P(pp #16)(SU(n #17))(SU(aj #18))))(C(P(cj #19))(P(vb #20))(P(SU(pp #21)(SU(SU(n #22))(SU(dt #23)(n #24)))(SU(dt #25)(pr #26)))(cj #27)(SU(pp #28)(n #29))))(C(P(cj #30))(P(vb #31))(P(n #32))(P(pp #33)))(C(P(SU(n #34))(cj #35)(SU(n #36)))))\t\u05d5 \u05d0\u05de\u05e8 \u05d4 \u05d3\u05d5\u05e8 \u05d4 \u05d0\u05d7\u05e8\u05d5\u05df \u05d1\u05e0\u05d9\u05db\u05dd \u05d0\u05e9\u05c1\u05e8 \u05d9\u05e7\u05d5\u05de\u05d5 \u05de \u05d0\u05d7\u05e8\u05d9\u05db\u05dd \u05d5 \u05d4 \u05e0\u05db\u05e8\u05d9 \u05d0\u05e9\u05c1\u05e8 \u05d9\u05d1\u05d0 \u05de \u05d0\u05e8\u05e5 \u05e8\u05d7\u05d5\u05e7\u05d4 \u05d5 \u05e8\u05d0\u05d5 \u05d0\u05ea \u05de\u05db\u05d5\u05ea \u05d4 \u05d0\u05e8\u05e5 \u05d4 \u05d4\u05d5\u05d0 \u05d5 \u05d0\u05ea \u05ea\u05d7\u05dc\u05d0\u05d9\u05d4 \u05d0\u05e9\u05c1\u05e8 \u05d7\u05dc\u05d4 \u05d9\u05d4\u05d5\u05d4 \u05d1\u05d4 \u05d2\u05e4\u05e8\u05d9\u05ea \u05d5 \u05de\u05dc\u05d7 \r\n",
        " DEUT29,25\t(S(C(P(cj #0))(P(vb #1))(*1 P(SU(n #2))(SU(aj #3))(n #7))<*1>)(C(P(cj #4))(P(vb #5))(P(pp #6)))(C(P(cj #8))(P(ng #9))(P(vb #10)))(C(P(cj #11))(P(ng #12))(P(vb #13))(P(pp #14))))\t\u05d5 \u05d9\u05e2\u05d1\u05d3\u05d5 \u05d0\u05dc\u05d4\u05d9\u05dd \u05d0\u05d7\u05e8\u05d9\u05dd \u05d5 \u05d9\u05e9\u05c1\u05ea\u05d7\u05d5\u05d5 \u05dc\u05d4\u05dd \u05d0\u05dc\u05d4\u05d9\u05dd \u05d0\u05e9\u05c1\u05e8 \u05dc\u05d0 \u05d9\u05d3\u05e2\u05d5\u05dd \u05d5 \u05dc\u05d0 \u05d7\u05dc\u05e7 \u05dc\u05d4\u05dd \r\n",
        " DEUT32,17\t(S(C(P(ng #0))(P(n #1)))(C(*1 P(n #2)(aj #5))<*1>)(C(P(ng #3))(P(vb #4)))(C(P(pp #6)(aj #7))(P(vb #8)))(C(P(ng #9))(P(vb #10))(P(n #11))))\t\u05dc\u05d0 \u05d0\u05dc\u05d4 \u05d0\u05dc\u05d4\u05d9\u05dd \u05dc\u05d0 \u05d9\u05d3\u05e2\u05d5\u05dd \u05d7\u05d3\u05e9\u05c1\u05d9\u05dd \u05de \u05e7\u05e8\u05d1 \u05d1\u05d0\u05d5 \u05dc\u05d0 \u05e9\u05c2\u05e2\u05e8\u05d5\u05dd \u05d0\u05d1\u05ea\u05d9\u05db\u05dd \r\n",
        " JOZ 02,10\t(S(C(P(cj #0))(P(vb #1)))(C(P(pp #2)(cj #3))(P(vb #4))(P(n #5))(P(pp #6)(SU(n #7))(SU(SU(n #8))(SU(n #9))))(P(pp #10)(n #11)))(C(P(pp #12)(vb #13))(P(pp #14)(n #15)))(C(P(cj #16)(cj #17))(P(vb #18))(*1 P(pp #19)(SU(n #20))(SU(n #21))(dt #22)(aj #23)(SU(pp #29)(n #30))(cj #31)(SU(pp #32)(n #33)))<*1>)(C(P(cj #24))(P(pp #25)(SU(n #26))(SU(dt #27)(n #28))))(C(P(cj #34))(P(vb #35))(P(pp #36))))\t\u05db\u05d9 \u05e9\u05c1\u05de\u05e2\u05e0\u05d5 \u05d0\u05ea \u05d0\u05e9\u05c1\u05e8 \u05d4\u05d5\u05d1\u05d9\u05e9\u05c1 \u05d9\u05d4\u05d5\u05d4 \u05d0\u05ea \u05de\u05d9 \u05d9\u05dd \u05e1\u05d5\u05e3 \u05de \u05e4\u05e0\u05d9\u05db\u05dd \u05d1 \u05e6\u05d0\u05ea\u05db\u05dd \u05de \u05de\u05e6\u05e8\u05d9\u05dd \u05d5 \u05d0\u05e9\u05c1\u05e8 \u05e2\u05e9\u05c2\u05d9\u05ea\u05dd \u05dc \u05e9\u05c1\u05e0\u05d9 \u05de\u05dc\u05db\u05d9 \u05d4 \u05d0\u05de\u05e8\u05d9 \u05d0\u05e9\u05c1\u05e8 \u05d1 \u05e2\u05d1\u05e8 \u05d4 \u05d9\u05e8\u05d3\u05df \u05dc \u05e1\u05d9\u05d7\u05df \u05d5 \u05dc \u05e2\u05d5\u05d2 \u05d0\u05e9\u05c1\u05e8 \u05d4\u05d7\u05e8\u05de\u05ea\u05dd \u05d0\u05d5\u05ea\u05dd \r\n",
        " JOZ 04,04\t(S(C(P(cj #0))(P(vb #1))(P(n #2))(*1 P(pp #3)(SU(n #4))(SU(SU(dt #5)(n #6))(SU(n #7)))(pp #10)(SU(n #11))(SU(n #12))(SU(n #13))(SU(SU(n #14))(SU(SU(n #15))(SU(n #16))))(pp #17)(n #18))<*1>)(C(P(cj #8))(P(vb #9))))\t\u05d5 \u05d9\u05e7\u05e8\u05d0 \u05d9\u05d4\u05d5\u05e9\u05c1\u05e2 \u05d0\u05dc \u05e9\u05c1\u05e0\u05d9\u05dd \u05d4 \u05e2\u05e9\u05c2\u05e8 \u05d0\u05d9\u05e9\u05c1 \u05d0\u05e9\u05c1\u05e8 \u05d4\u05db\u05d9\u05df \u05de \u05d1\u05e0\u05d9 \u05d9\u05e9\u05c2\u05e8\u05d0\u05dc \u05d0\u05d9\u05e9\u05c1 \u05d0\u05d7\u05d3 \u05d0\u05d9\u05e9\u05c1 \u05d0\u05d7\u05d3 \u05de \u05e9\u05c1\u05d1\u05d8 \r\n",
        " JOZ 05,01\t(S(C(P(cj #0))(P(vb #1)))(C(P(pp #2)(vb #3))(*1 P(SU(n #4))(SU(SU(n #5))(SU(dt #6)(aj #7)))(cj #14)(SU(n #15))(SU(SU(n #16))(SU(dt #17)(aj #18))))<*1>)(C(P(cj #8))(P(pp #9)(SU(n #10))(SU(dt #11)(n #12)))(P(n #13)))(C(P(cj #19))(P(pp #20)(dt #21)(n #22)))(C(P(pp #23)(cj #24))(P(vb #25))(P(n #26))(P(pp #27)(SU(n #28))(SU(dt #29)(n #30)))(P(pp #31)(SU(n #32))(SU(SU(n #33))(SU(n #34)))))(C(P(pp #35)(vb #36))))\t\u05d5 \u05d9\u05d4\u05d9 \u05db \u05e9\u05c1\u05de\u05e2 \u05db\u05dc \u05de\u05dc\u05db\u05d9 \u05d4 \u05d0\u05de\u05e8\u05d9 \u05d0\u05e9\u05c1\u05e8 \u05d1 \u05e2\u05d1\u05e8 \u05d4 \u05d9\u05e8\u05d3\u05df \u05d9\u05de\u05d4 \u05d5 \u05db\u05dc \u05de\u05dc\u05db\u05d9 \u05d4 \u05db\u05e0\u05e2\u05e0\u05d9 \u05d0\u05e9\u05c1\u05e8 \u05e2\u05dc \u05d4 \u05d9\u05dd \u05d0\u05ea \u05d0\u05e9\u05c1\u05e8 \u05d4\u05d5\u05d1\u05d9\u05e9\u05c1 \u05d9\u05d4\u05d5\u05d4 \u05d0\u05ea \u05de\u05d9 \u05d4 \u05d9\u05e8\u05d3\u05df \u05de \u05e4\u05e0\u05d9 \u05d1\u05e0\u05d9 \u05d9\u05e9\u05c2\u05e8\u05d0\u05dc \u05e2\u05d3 \u05e2\u05d1\u05e8\u05e0\u05d5 \r\n",
        " JOZ 05,04\t(S(C(*1 P(SU(n #0))(SU(dt #1)(n #2))(dt #7)(aj #8))<*1>)(C(P(dt #3))(P(vb #4))(P(pp #5)(n #6)))(C(P(SU(n #9))(SU(SU(n #10))(SU(dt #11)(n #12))))(P(vb #13))(P(pp #14)(dt #15)(n #16)(pp #17)(dt #18)(n #19)))(C(P(pp #20)(vb #21))(P(pp #22)(n #23)))(C(P(cj #24))(P(vb #25))(P(vb #26))(P(SU(n #27))(SU(dt #28)(n #29))))(C(P(dt #30))(P(vb #31)))(C(P(cj #32))(P(SU(n #33))(SU(dt #34)(n #35)))(P(ng #48))(P(vb #49)))(C(P(dt #36))(P(aj #37))(P(pp #38)(dt #39)(n #40)(pp #41)(dt #42)(n #43)))(C(P(pp #44)(vb #45))(P(pp #46)(n #47)))(C(P(cj #50))(P(SU(n #51))(SU(n #52)))(P(vb #53))(P(SU(n #54))(SU(n #55)))(P(pp #56)(dt #57)(n #58)))(C(P(pp #59)(vb #60))(P(SU(n #61))(SU(dt #62)(n #63))(SU(n #64))(SU(dt #65)(n #66))))(C(P(dt #67))(P(vb #68))(P(pp #69)(n #70)))(C(P(cj #71))(P(ng #72))(P(vb #73))(P(pp #74)(SU(n #75))(SU(n #76))))(C(P(cj #77))(P(vb #78))(P(n #79))(P(pp #80)))(C(P(pp #81)(n #82))(P(vb #83))(*2 P(pp #84)(dt #85)(n #86)(SU(n #95))(SU(SU(vb #96))(SU(SU(n #97))(cj #98)(SU(n #99)))))<*2>)(C(P(cj #87))(P(vb #88))(P(n #89))(P(pp #90)(n #91)))(C(P(pp #92)(vb #93))(P(pp #94))))\t\u05db\u05dc \u05d4 \u05e2\u05dd \u05d4 \u05d9\u05e6\u05d0 \u05de \u05de\u05e6\u05e8\u05d9\u05dd \u05d4 \u05d6\u05db\u05e8\u05d9\u05dd \u05db\u05dc \u05d0\u05e0\u05e9\u05c1\u05d9 \u05d4 \u05de\u05dc\u05d7\u05de\u05d4 \u05de\u05ea\u05d5 \u05d1  \u05de\u05d3\u05d1\u05e8 \u05d1  \u05d3\u05e8\u05da \u05d1 \u05e6\u05d0\u05ea\u05dd \u05de \u05de\u05e6\u05e8\u05d9\u05dd \u05db\u05d9 \u05de\u05dc\u05d9\u05dd \u05d4\u05d9\u05d5 \u05db\u05dc \u05d4 \u05e2\u05dd \u05d4 \u05d9\u05e6\u05d0\u05d9\u05dd \u05d5 \u05db\u05dc \u05d4 \u05e2\u05dd \u05d4 \u05d9\u05dc\u05d3\u05d9\u05dd \u05d1  \u05de\u05d3\u05d1\u05e8 \u05d1  \u05d3\u05e8\u05da \u05d1 \u05e6\u05d0\u05ea\u05dd \u05de \u05de\u05e6\u05e8\u05d9\u05dd \u05dc\u05d0 \u05de\u05dc\u05d5 \u05db\u05d9 \u05d0\u05e8\u05d1\u05e2\u05d9\u05dd \u05e9\u05c1\u05e0\u05d4 \u05d4\u05dc\u05db\u05d5 \u05d1\u05e0\u05d9 \u05d9\u05e9\u05c2\u05e8\u05d0\u05dc \u05d1  \u05de\u05d3\u05d1\u05e8 \u05e2\u05d3 \u05ea\u05dd \u05db\u05dc \u05d4 \u05d2\u05d5\u05d9 \u05d0\u05e0\u05e9\u05c1\u05d9 \u05d4 \u05de\u05dc\u05d7\u05de\u05d4 \u05d4 \u05d9\u05e6\u05d0\u05d9\u05dd \u05de \u05de\u05e6\u05e8\u05d9\u05dd \u05d0\u05e9\u05c1\u05e8 \u05dc\u05d0 \u05e9\u05c1\u05de\u05e2\u05d5 \u05d1 \u05e7\u05d5\u05dc \u05d9\u05d4\u05d5\u05d4 \u05d0\u05e9\u05c1\u05e8 \u05e0\u05e9\u05c1\u05d1\u05e2 \u05d9\u05d4\u05d5\u05d4 \u05dc\u05d4\u05dd \u05dc \u05d1\u05dc\u05ea\u05d9 \u05d4\u05e8\u05d0\u05d5\u05ea\u05dd \u05d0\u05ea \u05d4 \u05d0\u05e8\u05e5 \u05d0\u05e9\u05c1\u05e8 \u05e0\u05e9\u05c1\u05d1\u05e2 \u05d9\u05d4\u05d5\u05d4 \u05dc \u05d0\u05d1\u05d5\u05ea\u05dd \u05dc \u05ea\u05ea \u05dc\u05e0\u05d5 \u05d0\u05e8\u05e5 \u05d6\u05d1\u05ea \u05d7\u05dc\u05d1 \u05d5 \u05d3\u05d1\u05e9\u05c1 \r\n",
        " JOZ 07,24\t(S(C(P(cj #0))(P(vb #1))(*1 P(n #2)(cj #43)(SU(n #44))(SU(n #45))(pp #46))(P(pp #3)(n #4)(SU(n #5))(SU(n #6))(cj #7)(SU(SU(SU(SU(SU(SU(SU(SU(SU(pp #8)(dt #9)(n #10))(cj #11)(SU(pp #12)(dt #13)(n #14)))(cj #15)(SU(pp #16)(SU(n #17))(SU(dt #18)(n #19))))(cj #20)(SU(pp #21)(n #22)))(cj #23)(SU(pp #24)(n #25)))(cj #26)(SU(pp #27)(n #28)))(cj #29)(SU(pp #30)(n #31)))(cj #32)(SU(pp #33)(n #34)))(cj #35)(SU(pp #36)(n #37)))(cj #38)(SU(pp #39)(n #40)))<*1>)(C(P(cj #41))(P(pp #42))))\t\u05d5 \u05d9\u05e7\u05d7 \u05d9\u05d4\u05d5\u05e9\u05c1\u05e2 \u05d0\u05ea \u05e2\u05db\u05df \u05d1\u05df \u05d6\u05e8\u05d7 \u05d5 \u05d0\u05ea \u05d4 \u05db\u05e1\u05e3 \u05d5 \u05d0\u05ea \u05d4 \u05d0\u05d3\u05e8\u05ea \u05d5 \u05d0\u05ea \u05dc\u05e9\u05c1\u05d5\u05df \u05d4 \u05d6\u05d4\u05d1 \u05d5 \u05d0\u05ea \u05d1\u05e0\u05d9\u05d5 \u05d5 \u05d0\u05ea \u05d1\u05e0\u05ea\u05d9\u05d5 \u05d5 \u05d0\u05ea \u05e9\u05c1\u05d5\u05e8\u05d5 \u05d5 \u05d0\u05ea \u05d7\u05de\u05e8\u05d5 \u05d5 \u05d0\u05ea \u05e6\u05d0\u05e0\u05d5 \u05d5 \u05d0\u05ea \u05d0\u05d4\u05dc\u05d5 \u05d5 \u05d0\u05ea \u05db\u05dc \u05d0\u05e9\u05c1\u05e8 \u05dc\u05d5 \u05d5 \u05db\u05dc \u05d9\u05e9\u05c2\u05e8\u05d0\u05dc \u05e2\u05de\u05d5 \r\n",
        " JOZ 08,25\t(S(C(P(cj #0))(P(vb #1))(*1 P(n #2)(SU(pp #10)(n #11))(cj #12)(SU(pp #13)(n #14)))<*1>(P(SU(n #15))(SU(SU(n #16))(SU(n #17)))(SU(n #18))(SU(SU(n #19))(SU(dt #20)(n #21)))))(C(P(dt #3))(P(vb #4))(P(pp #5)(SU(dt #6)(n #7))(SU(dt #8)(pr #9)))))\t\u05d5 \u05d9\u05d4\u05d9 \u05db\u05dc \u05d4 \u05e0\u05e4\u05dc\u05d9\u05dd \u05d1  \u05d9\u05d5\u05dd \u05d4 \u05d4\u05d5\u05d0 \u05de \u05d0\u05d9\u05e9\u05c1 \u05d5 \u05e2\u05d3 \u05d0\u05e9\u05c1\u05d4 \u05e9\u05c1\u05e0\u05d9\u05dd \u05e2\u05e9\u05c2\u05e8 \u05d0\u05dc\u05e3 \u05db\u05dc \u05d0\u05e0\u05e9\u05c1\u05d9 \u05d4 \u05e2\u05d9 \r\n",
        " JOZ 12,09\t(S(C(*1 P(SU(n #0))(SU(dt #1)(n #2))(n #7))<*1>)(C(P(cj #3))(P(pp #4)(SU(n #5))(SU(n #6)))))\t\u05de\u05dc\u05da \u05d4 \u05e2\u05d9 \u05d0\u05e9\u05c1\u05e8 \u05de \u05e6\u05d3 \u05d1\u05d9\u05ea\u05be\u05d0\u05dc \u05d0\u05d7\u05d3 \r\n",
        " JOZ 13,09\t(S(C(*1 P(pp #0)(n #1)(cj #7)(dt #8)(n #9)(cj #15)(SU(n #16))(SU(dt #17)(n #18))(n #19))<*1><*1>(P(pp #20)(n #21)))(C(P(cj #2))(P(pp #3)(SU(n #4))(SU(SU(n #5))(SU(n #6)))))(C(P(cj #10))(P(pp #11)(SU(n #12))(SU(dt #13)(n #14)))))\t\u05de \u05e2\u05e8\u05d5\u05e2\u05e8 \u05d0\u05e9\u05c1\u05e8 \u05e2\u05dc \u05e9\u05c2\u05e4\u05ea \u05e0\u05d7\u05dc \u05d0\u05e8\u05e0\u05d5\u05df \u05d5 \u05d4 \u05e2\u05d9\u05e8 \u05d0\u05e9\u05c1\u05e8 \u05d1 \u05ea\u05d5\u05da \u05d4 \u05e0\u05d7\u05dc \u05d5 \u05db\u05dc \u05d4 \u05de\u05d9\u05e9\u05c1\u05e8 \u05de\u05d9\u05d3\u05d1\u05d0 \u05e2\u05d3 \u05d3\u05d9\u05d1\u05d5\u05df \r\n",
        " JOZ 13,16\t(S(C(P(cj #0))(P(vb #1))(P(pp #2))(*1 P(dt #3)(n #4)(cj #12)(dt #13)(n #14))(P(pp #5)(n #6))<*1>)(C(P(cj #7))(P(pp #8)(SU(n #9))(SU(SU(n #10))(SU(n #11)))))(C(P(cj #15))(P(pp #16)(SU(n #17))(SU(dt #18)(n #19)))))\t\u05d5 \u05d9\u05d4\u05d9 \u05dc\u05d4\u05dd \u05d4 \u05d2\u05d1\u05d5\u05dc \u05de \u05e2\u05e8\u05d5\u05e2\u05e8 \u05d0\u05e9\u05c1\u05e8 \u05e2\u05dc \u05e9\u05c2\u05e4\u05ea \u05e0\u05d7\u05dc \u05d0\u05e8\u05e0\u05d5\u05df \u05d5 \u05d4 \u05e2\u05d9\u05e8 \u05d0\u05e9\u05c1\u05e8 \u05d1 \u05ea\u05d5\u05da \u05d4 \u05e0\u05d7\u05dc \r\n",
        " JOZ 20,07\t(S(C(P(cj #0))(P(vb #1))(*1 P(pp #2)(n #3)(pp #4)(dt #5)(n #6)(pp #7)(SU(n #8))(SU(n #9))(cj #10)(pp #11)(n #12)(pp #13)(SU(n #14))(SU(n #15))(cj #16)(pp #17)(n #18)(pp #21)(SU(n #22))(SU(n #23)))<*1>)(C(P(pr #19))(P(n #20))))\t\u05d5 \u05d9\u05e7\u05d3\u05e9\u05c1\u05d5 \u05d0\u05ea \u05e7\u05d3\u05e9\u05c1 \u05d1  \u05d2\u05dc\u05d9\u05dc \u05d1 \u05d4\u05e8 \u05e0\u05e4\u05ea\u05dc\u05d9 \u05d5 \u05d0\u05ea \u05e9\u05c1\u05db\u05dd \u05d1 \u05d4\u05e8 \u05d0\u05e4\u05e8\u05d9\u05dd \u05d5 \u05d0\u05ea \u05e7\u05e8\u05d9\u05ea \u05d0\u05e8\u05d1\u05e2 \u05d4\u05d9\u05d0 \u05d7\u05d1\u05e8\u05d5\u05df \u05d1 \u05d4\u05e8 \u05d9\u05d4\u05d5\u05d3\u05d4 \r\n",
        "RICHT03,09\t(S(C(P(cj #0))(P(vb #1))(P(n #2))(*1 P(vb #3)(pp #9)(n #10)(n #11)(n #12)(n #13)(n #14))(P(pp #4)(SU(n #5))(SU(n #6)))<*1>)(C(P(cj #7))(P(vb #8)))(C(P(dt #15))(P(aj #16))(P(pp #17))))\t\u05d5 \u05d9\u05e7\u05dd \u05d9\u05d4\u05d5\u05d4 \u05de\u05d5\u05e9\u05c1\u05d9\u05e2 \u05dc \u05d1\u05e0\u05d9 \u05d9\u05e9\u05c2\u05e8\u05d0\u05dc \u05d5 \u05d9\u05d5\u05e9\u05c1\u05d9\u05e2\u05dd \u05d0\u05ea \u05e2\u05ea\u05e0\u05d9\u05d0\u05dc \u05d1\u05df \u05e7\u05e0\u05d6 \u05d0\u05d7\u05d9 \u05db\u05dc\u05d1 \u05d4 \u05e7\u05d8\u05df \u05de\u05de\u05e0\u05d5 \r\n",
        "RICHT06,25\t(S(C(P(vb #0))(*1 P(pp #1)(SU(n #2))(SU(dt #3)(n #4))(cj #8)(SU(n #9))(SU(dt #10)(aj #11))(SU(n #12))(SU(n #13)))<*1>)(C(P(cj #5))(P(pp #6)(n #7))))\t\u05e7\u05d7 \u05d0\u05ea \u05e4\u05e8 \u05d4 \u05e9\u05c1\u05d5\u05e8 \u05d0\u05e9\u05c1\u05e8 \u05dc \u05d0\u05d1\u05d9\u05da \u05d5 \u05e4\u05e8 \u05d4 \u05e9\u05c1\u05e0\u05d9 \u05e9\u05c1\u05d1\u05e2 \u05e9\u05c1\u05e0\u05d9\u05dd \r\n",
        "RICHT07,01\t(S(C(P(cj #0))(P(vb #1))(*1 P(n #2)(cj #5)(SU(n #6))(SU(dt #7)(n #8)))<*1>)(C(P(pr #3))(P(n #4)))(C(P(cj #9))(P(pp #10))))\t\u05d5 \u05d9\u05e9\u05c1\u05db\u05dd \u05d9\u05e8\u05d1\u05e2\u05dc \u05d4\u05d5\u05d0 \u05d2\u05d3\u05e2\u05d5\u05df \u05d5 \u05db\u05dc \u05d4 \u05e2\u05dd \u05d0\u05e9\u05c1\u05e8 \u05d0\u05ea\u05d5 \r\n",
        "RICHT19,09\t(S(C(P(cj #0))(P(vb #1))(*1 P(dt #2)(n #3)(SU(SU(pr #6))(cj #7)(SU(n #8)))(cj #9)(SU(n #10)))<*1>)(C(P(pp #4)(vb #5))))\t\u05d5 \u05d9\u05e7\u05dd \u05d4 \u05d0\u05d9\u05e9\u05c1 \u05dc \u05dc\u05db\u05ea \u05d4\u05d5\u05d0 \u05d5 \u05e4\u05d9\u05dc\u05d2\u05e9\u05c1\u05d5 \u05d5 \u05e0\u05e2\u05e8\u05d5 \r\n",
        "RICHT21,05\t(S(C(*1 P(pr #0)(pp #7)(SU(n #8))(SU(SU(n #9))(SU(n #10))))<*1>)(C(P(cj #1))(P(ng #2))(P(vb #3))(P(pp #4)(dt #5)(n #6))))\t\u05de\u05d9 \u05d0\u05e9\u05c1\u05e8 \u05dc\u05d0 \u05e2\u05dc\u05d4 \u05d1  \u05e7\u05d4\u05dc \u05de \u05db\u05dc \u05e9\u05c1\u05d1\u05d8\u05d9 \u05d9\u05e9\u05c2\u05e8\u05d0\u05dc \r\n",
        "ISAM 13,05\t(S(C(P(cj #0))(P(aj #1))(P(vb #2))(*1 P(SU(SU(SU(n #7))(SU(SU(n #8))(SU(n #9))))(cj #10)(SU(SU(SU(n #11))(SU(n #12)))(SU(n #13))))(cj #14)(SU(n #15))(pp #16)(dt #17)(n #18)(pp #24)(n #25))<*1>)(C(P(pp #3)(vb #4))(P(pp #5)(n #6)))(C(P(cj #19))(P(pp #20)(SU(n #21))(SU(dt #22)(n #23)))))\t\u05d5 \u05e4\u05dc\u05e9\u05c1\u05ea\u05d9\u05dd \u05e0\u05d0\u05e1\u05e4\u05d5 \u05dc \u05d4\u05dc\u05d7\u05dd \u05e2\u05dd \u05d9\u05e9\u05c2\u05e8\u05d0\u05dc \u05e9\u05c1\u05dc\u05e9\u05c1\u05d9\u05dd \u05d0\u05dc\u05e3 \u05e8\u05db\u05d1 \u05d5 \u05e9\u05c1\u05e9\u05c1\u05ea \u05d0\u05dc\u05e4\u05d9\u05dd \u05e4\u05e8\u05e9\u05c1\u05d9\u05dd \u05d5 \u05e2\u05dd \u05db  \u05d7\u05d5\u05dc \u05d0\u05e9\u05c1\u05e8 \u05e2\u05dc \u05e9\u05c2\u05e4\u05ea \u05d4 \u05d9\u05dd \u05dc \u05e8\u05d1 \r\n",
        "ISAM 22,02\t(S(C(P(cj #0))(P(vb #1))(P(pp #2))(*1 P(SU(SU(SU(n #3))(SU(n #4)))(SU(n #5)))(cj #6)(SU(SU(n #7))(SU(n #8)))(cj #12)(SU(SU(n #13))(SU(n #14))(aj #15))(SU(n #16)))<*1>)(C(P(cj #9))(P(pp #10))(P(vb #11))))\t\u05d5 \u05d9\u05ea\u05e7\u05d1\u05e6\u05d5 \u05d0\u05dc\u05d9\u05d5 \u05db\u05dc \u05d0\u05d9\u05e9\u05c1 \u05de\u05e6\u05d5\u05e7 \u05d5 \u05db\u05dc \u05d0\u05d9\u05e9\u05c1 \u05d0\u05e9\u05c1\u05e8 \u05dc\u05d5 \u05e0\u05e9\u05c1\u05d0 \u05d5 \u05db\u05dc \u05d0\u05d9\u05e9\u05c1 \u05de\u05e8 \u05e0\u05e4\u05e9\u05c1 \r\n",
        "ISAM 26,11\t(S(C(P(vb #0))(P(ij #1))(*1 P(pp #2)(dt #3)(n #4)(cj #7)(pp #8)(SU(n #9))(SU(dt #10)(n #11)))<*1>)(C(P(cj #5))(P(n #6))))\t\u05e7\u05d7 \u05e0\u05d0 \u05d0\u05ea \u05d4 \u05d7\u05e0\u05d9\u05ea \u05d0\u05e9\u05c1\u05e8 \u05de\u05e8\u05d0\u05e9\u05c1\u05ea\u05d5 \u05d5 \u05d0\u05ea \u05e6\u05e4\u05d7\u05ea \u05d4 \u05de\u05d9\u05dd \r\n",
        "ISAM 30,02\t(S(C(P(cj #0))(P(vb #1))(*1 P(pp #2)(dt #3)(n #4)(SU(pp #7)(aj #8))(cj #9)(SU(pp #10)(aj #11)))<*1>)(C(P(cj #5))(P(pp #6))))\t\u05d5 \u05d9\u05e9\u05c1\u05d1\u05d5 \u05d0\u05ea \u05d4 \u05e0\u05e9\u05c1\u05d9\u05dd \u05d0\u05e9\u05c1\u05e8 \u05d1\u05d4 \u05de \u05e7\u05d8\u05df \u05d5 \u05e2\u05d3 \u05d2\u05d3\u05d5\u05dc \r\n",
        "IISA 07,06\t(S(C(P(cj #0))(P(ng #1))(P(vb #2))(P(pp #3)(n #4))(*1 P(pp #5)(pp #6)(n #7)(cj #14)(pp #15)(SU(dt #16)(n #17))(SU(dt #18)(pr #19)))<*1>)(C(P(vb #8))(P(pp #9)(SU(n #10))(SU(n #11)))(P(pp #12)(n #13))))\t\u05db\u05d9 \u05dc\u05d0 \u05d9\u05e9\u05c1\u05d1\u05ea\u05d9 \u05d1 \u05d1\u05d9\u05ea \u05dc \u05de \u05d9\u05d5\u05dd \u05d4\u05e2\u05dc\u05ea\u05d9 \u05d0\u05ea \u05d1\u05e0\u05d9 \u05d9\u05e9\u05c2\u05e8\u05d0\u05dc \u05de \u05de\u05e6\u05e8\u05d9\u05dd \u05d5 \u05e2\u05d3 \u05d4 \u05d9\u05d5\u05dd \u05d4 \u05d6\u05d4 \r\n",
        "IISA 17,11\t(S(C(P(vb #0))(P(vb #1))(P(pp #2))(P(SU(n #3))(SU(n #4))(SU(pp #5)(n #6))(cj #7)(SU(pp #8)(n #9)))(*1 P(pp #10)(dt #11)(n #12)(pp #17)(n #18))<*1>)(C(P(cj #13))(P(pp #14)(dt #15)(n #16))))\t\u05d4\u05d0\u05e1\u05e3 \u05d9\u05d0\u05e1\u05e3 \u05e2\u05dc\u05d9\u05da \u05db\u05dc \u05d9\u05e9\u05c2\u05e8\u05d0\u05dc \u05de \u05d3\u05df \u05d5 \u05e2\u05d3 \u05d1\u05d0\u05e8 \u05e9\u05c1\u05d1\u05e2 \u05db  \u05d7\u05d5\u05dc \u05d0\u05e9\u05c1\u05e8 \u05e2\u05dc \u05d4 \u05d9\u05dd \u05dc \u05e8\u05d1 \r\n",
        "IISA 21,04\t(S(C(P(cj #0))(P(n #1))(P(pp #2))(*1 P(n #3)(pp #6)(n #7))<*1>)(C(P(pp #4)(vb #5))))\t\u05d5 \u05d0\u05d9\u05df \u05dc\u05e0\u05d5 \u05d0\u05d9\u05e9\u05c1 \u05dc \u05d4\u05de\u05d9\u05ea \u05d1 \u05d9\u05e9\u05c2\u05e8\u05d0\u05dc \r\n",
        "IISA 21,08\t(S(C(P(cj #0))(P(vb #1))(P(dt #2)(n #3))(*1 P(pp #4)(SU(n #5))(SU(SU(n #6))(SU(n #7)))(SU(n #8))(SU(n #9))(SU(pp #14)(n #15))(cj #16)(SU(pp #17)(n #18)))<*1>)(C(P(cj #10))(P(vb #11))(P(pp #12)(n #13))))\t\u05d5 \u05d9\u05e7\u05d7 \u05d4 \u05de\u05dc\u05da \u05d0\u05ea \u05e9\u05c1\u05e0\u05d9 \u05d1\u05e0\u05d9 \u05e8\u05e6\u05e4\u05d4 \u05d1\u05ea \u05d0\u05d9\u05d4 \u05d0\u05e9\u05c1\u05e8 \u05d9\u05dc\u05d3\u05d4 \u05dc \u05e9\u05c1\u05d0\u05d5\u05dc \u05d0\u05ea \u05d0\u05e8\u05de\u05e0\u05d9 \u05d5 \u05d0\u05ea \u05de\u05e4\u05d1\u05e9\u05c1\u05ea \r\n",
        "IISA 21,10\t(S(C(P(cj #0))(P(ng #1))(P(vb #2))(*1 P(SU(n #3))(SU(dt #4)(n #5))(cj #10)(pp #11)(SU(n #12))(SU(dt #13)(n #14)))<*1>(P(n #15)))(C(P(pp #6)(vb #7))(P(pp #8))(P(av #9))))\t\u05d5 \u05dc\u05d0 \u05e0\u05ea\u05e0\u05d4 \u05e2\u05d5\u05e3 \u05d4 \u05e9\u05c1\u05de\u05d9\u05dd \u05dc \u05e0\u05d5\u05d7 \u05e2\u05dc\u05d9\u05d4\u05dd \u05d9\u05d5\u05de\u05dd \u05d5 \u05d0\u05ea \u05d7\u05d9\u05ea \u05d4 \u05e9\u05c2\u05d3\u05d4 \u05dc\u05d9\u05dc\u05d4 \r\n",
        "IISA 23,01\t(S(C(*1 P(SU(n #0))(SU(n #1))(SU(n #2))(SU(n #3))(cj #4)(SU(n #5))(SU(dt #6)(n #7))(SU(SU(n #10))(SU(SU(n #11))(SU(n #12))))(cj #13)(SU(SU(aj #14))(SU(SU(n #15))(SU(n #16)))))<*1>)(C(P(vb #8))(P(n #9))))\t\u05e0\u05d0\u05dd \u05d3\u05d5\u05d3 \u05d1\u05df \u05d9\u05e9\u05c1\u05d9 \u05d5 \u05e0\u05d0\u05dd \u05d4 \u05d2\u05d1\u05e8 \u05d4\u05e7\u05dd \u05e2\u05dc \u05de\u05e9\u05c1\u05d9\u05d7 \u05d0\u05dc\u05d4\u05d9 \u05d9\u05e2\u05e7\u05d1 \u05d5 \u05e0\u05e2\u05d9\u05dd \u05d6\u05de\u05e8\u05d5\u05ea \u05d9\u05e9\u05c2\u05e8\u05d0\u05dc \r\n",
        "IISA 23,03\t(S(C(P(vb #0)(pp #1)(dt #2)(n #3))(P(aj #4)))(C(P(cj #5))(*1 P(pp #6)(SU(n #7))(SU(n #8))(n #11))<*1>)(C(P(vb #9))(P(n #10)))(C(P(ng #12))(P(n #13))))\t\u05de\u05d5\u05e9\u05c1\u05dc \u05d1  \u05d0\u05d3\u05dd \u05e6\u05d3\u05d9\u05e7 \u05d5 \u05db \u05d0\u05d5\u05e8 \u05d1\u05e7\u05e8 \u05d9\u05d6\u05e8\u05d7 \u05e9\u05c1\u05de\u05e9\u05c1 \u05d1\u05e7\u05e8 \u05dc\u05d0 \u05e2\u05d1\u05d5\u05ea \r\n",
        " IKON03,08\t(S(C(P(cj #0))(P(n #1))(*1 P(pp #2)(SU(n #3))(SU(n #4))(SU(n #7))(SU(aj #8)))<*1>)(C(P(cj #5))(P(vb #6)))(C(P(cj #9))(P(ng #10))(P(vb #11)))(C(P(cj #12))(P(ng #13))(P(vb #14))(P(pp #15)(n #16))))\t\u05d5 \u05e2\u05d1\u05d3\u05da \u05d1 \u05ea\u05d5\u05da \u05e2\u05de\u05da \u05d0\u05e9\u05c1\u05e8 \u05d1\u05d7\u05e8\u05ea \u05e2\u05dd \u05e8\u05d1 \u05d0\u05e9\u05c1\u05e8 \u05dc\u05d0 \u05d9\u05de\u05e0\u05d4 \u05d5 \u05dc\u05d0 \u05d9\u05e1\u05e4\u05e8 \u05de \u05e8\u05d1 \r\n",
        " IKON04,12\t(S(C(P(n #0)(SU(n #1))(SU(n #2)))(*1 P(SU(SU(n #3))(cj #4)(SU(n #5)))(cj #6)(SU(SU(n #7))(SU(n #8)))(pp #12)(n #13)(pp #14)(n #15)(pp #16)(n #17)(pp #18)(n #19)(pp #20)(pp #21)(n #22)(pp #23)(n #24))<*1>)(C(P(cj #9))(P(n #10)(n #11))))\t\u05d1\u05e2\u05e0\u05d0 \u05d1\u05df \u05d0\u05d7\u05d9\u05dc\u05d5\u05d3 \u05ea\u05e2\u05e0\u05da \u05d5 \u05de\u05d2\u05d3\u05d5 \u05d5 \u05db\u05dc \u05d1\u05d9\u05ea \u05e9\u05c1\u05d0\u05df \u05d0\u05e9\u05c1\u05e8 \u05d0\u05e6\u05dc \u05e6\u05e8\u05ea\u05e0\u05d4 \u05de \u05ea\u05d7\u05ea \u05dc \u05d9\u05d6\u05e8\u05e2\u05d0\u05dc \u05de \u05d1\u05d9\u05ea \u05e9\u05c1\u05d0\u05df \u05e2\u05d3 \u05d0\u05d1\u05dc \u05de\u05d7\u05d5\u05dc\u05d4 \u05e2\u05d3 \u05de \u05e2\u05d1\u05e8 \u05dc \u05d9\u05e7\u05de\u05e2\u05dd \r\n",
        " IKON04,20\t(S(C(P(SU(n #0))(cj #1)(SU(n #2)))(P(aj #3))(*1 P(pp #4)(dt #5)(n #6)(pp #11)(n #12))<*1>)(C(P(cj #7))(P(pp #8)(dt #9)(n #10))))\t\u05d9\u05d4\u05d5\u05d3\u05d4 \u05d5 \u05d9\u05e9\u05c2\u05e8\u05d0\u05dc \u05e8\u05d1\u05d9\u05dd \u05db  \u05d7\u05d5\u05dc \u05d0\u05e9\u05c1\u05e8 \u05e2\u05dc \u05d4 \u05d9\u05dd \u05dc \u05e8\u05d1 \r\n",
        " IKON05,07\t(S(C(P(cj #0))(P(vb #1))(P(SU(dt #2)(vb #3))(SU(dt #4)(pr #5)))(*1 P(pp #6)(dt #7)(n #8)(n #9)(cj #10)(pp #11)(n #12)(n #20))<*1>(P(n #21)))(C(P(dt #13))(P(aj #14))(P(pp #15)(SU(n #16))(SU(dt #17)(n #18))(n #19))))\t\u05d5 \u05db\u05dc\u05db\u05dc\u05d5 \u05d4 \u05e0\u05e6\u05d1\u05d9\u05dd \u05d4 \u05d0\u05dc\u05d4 \u05d0\u05ea \u05d4 \u05de\u05dc\u05da \u05e9\u05c1\u05dc\u05de\u05d4 \u05d5 \u05d0\u05ea \u05db\u05dc \u05d4 \u05e7\u05e8\u05d1 \u05d0\u05dc \u05e9\u05c1\u05dc\u05d7\u05df \u05d4 \u05de\u05dc\u05da \u05e9\u05c1\u05dc\u05de\u05d4 \u05d0\u05d9\u05e9\u05c1 \u05d7\u05d3\u05e9\u05c1\u05d5 \r\n",
        " IKON05,13\t(S(C(P(cj #0))(P(vb #1))(*1 P(pp #2)(dt #3)(n #4)(pp #5)(dt #6)(n #7)(cj #12)(pp #13)(dt #14)(n #15))<*1>)(C(P(cj #8))(P(pp #9)(dt #10)(n #11)))(C(P(cj #16))(P(vb #17))(P(pp #18)(dt #19)(n #20))))\t\u05d5 \u05d9\u05d3\u05d1\u05e8 \u05e2\u05dc \u05d4 \u05e2\u05e6\u05d9\u05dd \u05de\u05df \u05d4 \u05d0\u05e8\u05d6 \u05d0\u05e9\u05c1\u05e8 \u05d1  \u05dc\u05d1\u05e0\u05d5\u05df \u05d5 \u05e2\u05d3 \u05d4 \u05d0\u05d6\u05d5\u05d1 \u05d0\u05e9\u05c1\u05e8 \u05d9\u05e6\u05d0 \u05d1  \u05e7\u05d9\u05e8 \r\n",
        " IKON05,14\t(S(C(P(cj #0))(P(vb #1))(*1 P(pp #2)(SU(n #3))(SU(dt #4)(n #5))(pp #11)(pp #12)(SU(n #13)(n #14))(SU(dt #15)(n #16)))<*1>)(C(P(pp #6)(vb #7))(P(pp #8)(SU(n #9))(SU(n #10))))(C(P(cj #17))(P(vb #18))(P(pp #19)(n #20))))\t\u05d5 \u05d9\u05d1\u05d0\u05d5 \u05de \u05db\u05dc \u05d4 \u05e2\u05de\u05d9\u05dd \u05dc \u05e9\u05c1\u05de\u05e2 \u05d0\u05ea \u05d7\u05db\u05de\u05ea \u05e9\u05c1\u05dc\u05de\u05d4 \u05de \u05d0\u05ea \u05db\u05dc \u05de\u05dc\u05db\u05d9 \u05d4 \u05d0\u05e8\u05e5 \u05d0\u05e9\u05c1\u05e8 \u05e9\u05c1\u05de\u05e2\u05d5 \u05d0\u05ea \u05d7\u05db\u05de\u05ea\u05d5 \r\n",
        " IKON05,28\t(S(C(P(cj #0))(P(vb #1))(P(pp #2)(n #3))(*1 P(SU(n #4))(SU(n #5))(cj #8)(SU(n #9))(SU(n #10)))<*1>)(C(P(vb #6))(P(n #7)))(C(P(vb #11))(P(pp #12)(dt #13)(n #14)))(C(P(pp #15)(SU(n #16))(SU(pp #17)(SU(n #18))(SU(dt #19)(vb #20)))(pp #21)(n #22)))(C(P(cj #23))(P(pp #24)(dt #25)(n #26)))(C(P(SU(SU(n #27))(SU(n #28)))(cj #29)(SU(SU(n #30))(SU(n #31)))))(C(P(dt #32))(P(vb #33))(P(pp #34)(dt #35)(n #36)))(C(P(dt #37))(P(vb #38))(P(pp #39)(dt #40)(n #41))))\t\u05d5 \u05d9\u05d4\u05d9 \u05dc \u05e9\u05c1\u05dc\u05de\u05d4 \u05e9\u05c1\u05d1\u05e2\u05d9\u05dd \u05d0\u05dc\u05e3 \u05e0\u05e9\u05c2\u05d0 \u05e1\u05d1\u05dc \u05d5 \u05e9\u05c1\u05de\u05e0\u05d9\u05dd \u05d0\u05dc\u05e3 \u05d7\u05e6\u05d1 \u05d1  \u05d4\u05e8 \u05dc \u05d1\u05d3 \u05de \u05e9\u05c2\u05e8\u05d9 \u05d4 \u05e0\u05e6\u05d1\u05d9\u05dd \u05dc \u05e9\u05c1\u05dc\u05de\u05d4 \u05d0\u05e9\u05c1\u05e8 \u05e2\u05dc \u05d4 \u05de\u05dc\u05d0\u05db\u05d4 \u05e9\u05c1\u05dc\u05e9\u05c1\u05ea \u05d0\u05dc\u05e4\u05d9\u05dd \u05d5 \u05e9\u05c1\u05dc\u05e9\u05c1 \u05de\u05d0\u05d5\u05ea \u05d4 \u05e8\u05d3\u05d9\u05dd \u05d1  \u05e2\u05dd \u05d4 \u05e2\u05e9\u05c2\u05d9\u05dd \u05d1  \u05de\u05dc\u05d0\u05db\u05d4 \r\n",
        " IKON05,31\t(S(C(P(cj #0))(P(vb #1))(*1 P(SU(n #2))(SU(aj #3))(SU(n #4))(SU(aj #5))(SU(n #10))(SU(n #11)))<*1>)(C(P(pp #6)(vb #7))(P(dt #8)(n #9))))\t\u05d5 \u05d9\u05e1\u05e2\u05d5 \u05d0\u05d1\u05e0\u05d9\u05dd \u05d2\u05d3\u05dc\u05d5\u05ea \u05d0\u05d1\u05e0\u05d9\u05dd \u05d9\u05e7\u05e8\u05d5\u05ea \u05dc \u05d9\u05e1\u05d3 \u05d4 \u05d1\u05d9\u05ea \u05d0\u05d1\u05e0\u05d9 \u05d2\u05d6\u05d9\u05ea \r\n",
        " IKON08,63\t(S(C(P(cj #0))(P(vb #1))(P(n #2))(*1 P(pp #3)(SU(n #4))(SU(dt #5)(n #6))(SU(SU(n #11))(SU(SU(n #12))(cj #13)(SU(SU(n #14)))(SU(n #15))))(cj #16)(SU(SU(n #17))(SU(SU(n #18))(cj #19)(SU(SU(n #20)))(SU(n #21)))))<*1>)(C(P(cj #7))(P(vb #8))(P(pp #9)(n #10))))\t\u05d5 \u05d9\u05d6\u05d1\u05d7 \u05e9\u05c1\u05dc\u05de\u05d4 \u05d0\u05ea \u05d6\u05d1\u05d7 \u05d4 \u05e9\u05c1\u05dc\u05de\u05d9\u05dd \u05d0\u05e9\u05c1\u05e8 \u05d6\u05d1\u05d7 \u05dc \u05d9\u05d4\u05d5\u05d4 \u05d1\u05e7\u05e8 \u05e2\u05e9\u05c2\u05e8\u05d9\u05dd \u05d5 \u05e9\u05c1\u05e0\u05d9\u05dd \u05d0\u05dc\u05e3 \u05d5 \u05e6\u05d0\u05df \u05de\u05d0\u05d4 \u05d5 \u05e2\u05e9\u05c2\u05e8\u05d9\u05dd \u05d0\u05dc\u05e3 \r\n",
        " IKON11,40\t(S(C(P(cj #0))(*1 P(SU(SU(n #1))(SU(SU(n #2))(SU(n #3))))(cj #4)(SU(n #5))(cj #8)(n #9))<*1>)(C(P(cj #6))(P(vb #7)))(C(P(ir #10))(P(ng #11))(P(pr #12))(P(vb #13))(P(pp #14)(SU(n #15))(SU(SU(n #16))(SU(n #17)))))(C(P(cj #18))(P(dt #19)(n #20))(P(SU(n #29))(SU(n #30))))(C(P(cj #21))(P(vb #22))(P(n #23))(P(pp #24)(n #25))(P(pp #26)(SU(n #27))(SU(n #28)))))\t\u05d5 \u05d9\u05ea\u05e8 \u05d3\u05d1\u05e8\u05d9 \u05e9\u05c1\u05dc\u05de\u05d4 \u05d5 \u05db\u05dc \u05d0\u05e9\u05c1\u05e8 \u05e2\u05e9\u05c2\u05d4 \u05d5 \u05d7\u05db\u05de\u05ea\u05d5 \u05d4 \u05dc\u05d5\u05d0 \u05d4\u05dd \u05db\u05ea\u05d1\u05d9\u05dd \u05e2\u05dc \u05e1\u05e4\u05e8 \u05d3\u05d1\u05e8\u05d9 \u05e9\u05c1\u05dc\u05de\u05d4 \u05d5 \u05d4 \u05d9\u05de\u05d9\u05dd \u05d0\u05e9\u05c1\u05e8 \u05de\u05dc\u05da \u05e9\u05c1\u05dc\u05de\u05d4 \u05d1 \u05d9\u05e8\u05d5\u05e9\u05c1\u05dc\u05dd \u05e2\u05dc \u05db\u05dc \u05d9\u05e9\u05c2\u05e8\u05d0\u05dc \u05d0\u05e8\u05d1\u05e2\u05d9\u05dd \u05e9\u05c1\u05e0\u05d4 \r\n",
        " IKON16,05\t(S(C(P(cj #0))(*1 P(SU(n #1))(SU(SU(n #2))(SU(n #3)))(cj #7)(n #8))<*1>)(C(P(cj #4))(P(cj #5))(P(vb #6)))(C(P(ir #9))(P(ng #10))(P(pr #11))(P(vb #12))(P(pp #13)(SU(n #14))(SU(SU(n #15))(SU(dt #16)(n #17)))(pp #18)(SU(n #19))(SU(n #20)))))\t\u05d5 \u05d9\u05ea\u05e8 \u05d3\u05d1\u05e8\u05d9 \u05d1\u05e2\u05e9\u05c1\u05d0 \u05d5 \u05d0\u05e9\u05c1\u05e8 \u05e2\u05e9\u05c2\u05d4 \u05d5 \u05d2\u05d1\u05d5\u05e8\u05ea\u05d5 \u05d4 \u05dc\u05d0 \u05d4\u05dd \u05db\u05ea\u05d5\u05d1\u05d9\u05dd \u05e2\u05dc \u05e1\u05e4\u05e8 \u05d3\u05d1\u05e8\u05d9 \u05d4 \u05d9\u05de\u05d9\u05dd \u05dc \u05de\u05dc\u05db\u05d9 \u05d9\u05e9\u05c2\u05e8\u05d0\u05dc \r\n",
        " IKON16,07\t(S(C(P(cj #0))(P(av #1))(P(pp #2)(SU(n #3))(SU(n #4))(SU(n #5))(SU(n #6))(dt #7)(n #8))(P(SU(n #9))(SU(n #10)))(P(vb #11))(*1 P(SU(pp #12)(n #13))(cj #14)(SU(pp #15)(n #16))(cj #17)(pp #18)(SU(n #19))(SU(dt #20)(n #21))(pp #24)(SU(n #25))(SU(n #26)))<*1>)(C(P(cj #22))(P(vb #23)))(C(P(pp #27)(vb #28))(P(pp #29)(SU(n #30))(SU(n #31))))(C(P(pp #32)(vb #33))(P(pp #34)(SU(n #35))(SU(n #36))))(C(P(cj #37))(P(pp #38)(cj #39))(P(vb #40))(P(pp #41))))\t\u05d5 \u05d2\u05dd \u05d1 \u05d9\u05d3 \u05d9\u05d4\u05d5\u05d0 \u05d1\u05df \u05d7\u05e0\u05e0\u05d9 \u05d4 \u05e0\u05d1\u05d9\u05d0 \u05d3\u05d1\u05e8 \u05d9\u05d4\u05d5\u05d4 \u05d4\u05d9\u05d4 \u05d0\u05dc \u05d1\u05e2\u05e9\u05c1\u05d0 \u05d5 \u05d0\u05dc \u05d1\u05d9\u05ea\u05d5 \u05d5 \u05e2\u05dc \u05db\u05dc \u05d4 \u05e8\u05e2\u05d4 \u05d0\u05e9\u05c1\u05e8 \u05e2\u05e9\u05c2\u05d4 \u05d1 \u05e2\u05d9\u05e0\u05d9 \u05d9\u05d4\u05d5\u05d4 \u05dc \u05d4\u05db\u05e2\u05d9\u05e1\u05d5 \u05d1 \u05de\u05e2\u05e9\u05c2\u05d4 \u05d9\u05d3\u05d9\u05d5 \u05dc \u05d4\u05d9\u05d5\u05ea \u05db \u05d1\u05d9\u05ea \u05d9\u05e8\u05d1\u05e2\u05dd \u05d5 \u05e2\u05dc \u05d0\u05e9\u05c1\u05e8 \u05d4\u05db\u05d4 \u05d0\u05ea\u05d5 \r\n",
        " IKON16,26\t(S(C(P(cj #0))(*1 P(SU(n #1))(SU(SU(n #2))(SU(n #3)))(cj #6)(n #7))<*1>)(C(P(cj #4))(P(vb #5)))(C(P(cj #8))(P(vb #9)))(C(P(ir #10))(P(ng #11))(P(pr #12))(P(vb #13))(P(pp #14)(SU(n #15))(SU(SU(n #16))(SU(dt #17)(n #18)))(pp #19)(SU(n #20))(SU(n #21))))(C(P(cj #22))(P(vb #23))(P(n #24))(P(pp #25)(n #26))))\t\u05d5 \u05d9\u05ea\u05e8 \u05d3\u05d1\u05e8\u05d9 \u05e2\u05de\u05e8\u05d9 \u05d0\u05e9\u05c1\u05e8 \u05e2\u05e9\u05c2\u05d4 \u05d5 \u05d2\u05d1\u05d5\u05e8\u05ea\u05d5 \u05d0\u05e9\u05c1\u05e8 \u05e2\u05e9\u05c2\u05d4 \u05d4 \u05dc\u05d0 \u05d4\u05dd \u05db\u05ea\u05d5\u05d1\u05d9\u05dd \u05e2\u05dc \u05e1\u05e4\u05e8 \u05d3\u05d1\u05e8\u05d9 \u05d4 \u05d9\u05de\u05d9\u05dd \u05dc \u05de\u05dc\u05db\u05d9 \u05d9\u05e9\u05c2\u05e8\u05d0\u05dc \u05d5 \u05d9\u05e9\u05c1\u05db\u05d1 \u05e2\u05de\u05e8\u05d9 \u05e2\u05dd \u05d0\u05d1\u05ea\u05d9\u05d5 \r\n",
        "IIKON10,32\t(S(C(P(cj #0))(P(vb #1))(P(n #2))(P(pp #3)(SU(n #4))(SU(SU(n #5))(SU(n #6)))))(C(P(pp #7)(dt #8)(n #9)(SU(n #10))(SU(dt #11)(n #12))))(C(P(pp #13)(SU(n #14))(SU(SU(n #15))(SU(dt #16)(n #17)))(SU(SU(dt #18)(aj #19))(cj #20)(SU(dt #21)(aj #22)))(cj #23)(SU(dt #24)(aj #25))))(C(*1 P(pp #26)(n #27)(cj #32)(SU(dt #33)(n #34))(cj #35)(SU(dt #36)(n #37)))<*1>)(C(P(cj #28))(P(pp #29)(SU(n #30))(SU(n #31)))))\t\u05d5 \u05d9\u05db\u05dd \u05d7\u05d6\u05d0\u05dc \u05d1 \u05db\u05dc \u05d2\u05d1\u05d5\u05dc \u05d9\u05e9\u05c2\u05e8\u05d0\u05dc \u05de\u05df \u05d4 \u05d9\u05e8\u05d3\u05df \u05de\u05d6\u05e8\u05d7 \u05d4 \u05e9\u05c1\u05de\u05e9\u05c1 \u05d0\u05ea \u05db\u05dc \u05d0\u05e8\u05e5 \u05d4 \u05d2\u05dc\u05e2\u05d3 \u05d4 \u05d2\u05d3\u05d9 \u05d5 \u05d4 \u05e8\u05d0\u05d5\u05d1\u05e0\u05d9 \u05d5 \u05d4 \u05de\u05e0\u05e9\u05c1\u05d9 \u05de \u05e2\u05e8\u05e2\u05e8 \u05d0\u05e9\u05c1\u05e8 \u05e2\u05dc \u05e0\u05d7\u05dc \u05d0\u05e8\u05e0\u05df \u05d5 \u05d4 \u05d2\u05dc\u05e2\u05d3 \u05d5 \u05d4 \u05d1\u05e9\u05c1\u05df \r\n",
        "IIKON13,08\t(S(C(P(cj #0))(*1 P(SU(SU(n #1))(SU(SU(n #2))(SU(n #3))))(cj #4)(SU(n #5))(cj #8)(n #9))<*1>)(C(P(cj #6))(P(vb #7)))(C(P(ir #10))(P(ng #11))(P(pr #12))(P(vb #13))(P(pp #14)(SU(n #15))(SU(SU(n #16))(SU(dt #17)(n #18)))(pp #19)(SU(n #20))(SU(n #21)))))\t\u05d5 \u05d9\u05ea\u05e8 \u05d3\u05d1\u05e8\u05d9 \u05d9\u05d4\u05d5\u05d0\u05d7\u05d6 \u05d5 \u05db\u05dc \u05d0\u05e9\u05c1\u05e8 \u05e2\u05e9\u05c2\u05d4 \u05d5 \u05d2\u05d1\u05d5\u05e8\u05ea\u05d5 \u05d4 \u05dc\u05d5\u05d0 \u05d4\u05dd \u05db\u05ea\u05d5\u05d1\u05d9\u05dd \u05e2\u05dc \u05e1\u05e4\u05e8 \u05d3\u05d1\u05e8\u05d9 \u05d4 \u05d9\u05de\u05d9\u05dd \u05dc \u05de\u05dc\u05db\u05d9 \u05d9\u05e9\u05c2\u05e8\u05d0\u05dc \r\n",
        "IIKON13,12\t(S(C(P(cj #0))(*1 P(SU(SU(n #1))(SU(SU(n #2))(SU(n #3))))(cj #4)(SU(n #5))(cj #8)(n #9))<*1>)(C(P(cj #6))(P(vb #7)))(C(P(cj #10))(P(vb #11))(P(pp #12)(n #13)(SU(n #14))(SU(n #15))))(C(P(ir #16))(P(ng #17))(P(pr #18))(P(vb #19))(P(pp #20)(SU(n #21))(SU(SU(n #22))(SU(dt #23)(n #24)))(pp #25)(SU(n #26))(SU(n #27)))))\t\u05d5 \u05d9\u05ea\u05e8 \u05d3\u05d1\u05e8\u05d9 \u05d9\u05d5\u05d0\u05e9\u05c1 \u05d5 \u05db\u05dc \u05d0\u05e9\u05c1\u05e8 \u05e2\u05e9\u05c2\u05d4 \u05d5 \u05d2\u05d1\u05d5\u05e8\u05ea\u05d5 \u05d0\u05e9\u05c1\u05e8 \u05e0\u05dc\u05d7\u05dd \u05e2\u05dd \u05d0\u05de\u05e6\u05d9\u05d4 \u05de\u05dc\u05da \u05d9\u05d4\u05d5\u05d3\u05d4 \u05d4 \u05dc\u05d5\u05d0 \u05d4\u05dd \u05db\u05ea\u05d5\u05d1\u05d9\u05dd \u05e2\u05dc \u05e1\u05e4\u05e8 \u05d3\u05d1\u05e8\u05d9 \u05d4 \u05d9\u05de\u05d9\u05dd \u05dc \u05de\u05dc\u05db\u05d9 \u05d9\u05e9\u05c2\u05e8\u05d0\u05dc \r\n",
        "IIKON14,15\t(S(C(P(cj #0))(*1 P(SU(n #1))(SU(SU(n #2))(SU(n #3)))(cj #6)(n #7))<*1>)(C(P(cj #4))(P(vb #5)))(C(P(ir #8))(P(ng #9))(P(pr #10))(P(vb #11))(P(pp #12)(SU(n #13))(SU(SU(n #14))(SU(dt #15)(n #16)))(pp #17)(SU(n #18))(SU(n #19)))))\t\u05d5 \u05d9\u05ea\u05e8 \u05d3\u05d1\u05e8\u05d9 \u05d9\u05d4\u05d5\u05d0\u05e9\u05c1 \u05d0\u05e9\u05c1\u05e8 \u05e2\u05e9\u05c2\u05d4 \u05d5 \u05d2\u05d1\u05d5\u05e8\u05ea\u05d5 \u05d4 \u05dc\u05d0 \u05d4\u05dd \u05db\u05ea\u05d5\u05d1\u05d9\u05dd \u05e2\u05dc \u05e1\u05e4\u05e8 \u05d3\u05d1\u05e8\u05d9 \u05d4 \u05d9\u05de\u05d9\u05dd \u05dc \u05de\u05dc\u05db\u05d9 \u05d9\u05e9\u05c2\u05e8\u05d0\u05dc \r\n",
        "IIKON14,28\t(S(C(P(cj #0))(*1 P(SU(SU(n #1))(SU(SU(n #2))(SU(n #3))))(cj #4)(SU(n #5))(cj #8)(n #9))<*1>)(C(P(cj #6))(P(vb #7)))(C(P(cj #10))(P(vb #11)))(C(P(cj #12))(P(cj #13))(P(vb #14))(P(SU(pp #15)(n #16))(cj #17)(SU(pp #18)(n #19))(pp #20)(n #21))(P(pp #22)(n #23)))(C(P(ir #24))(P(ng #25))(P(pr #26))(P(vb #27))(P(pp #28)(SU(n #29))(SU(SU(n #30))(SU(dt #31)(n #32)))(pp #33)(SU(n #34))(SU(n #35)))))\t\u05d5 \u05d9\u05ea\u05e8 \u05d3\u05d1\u05e8\u05d9 \u05d9\u05e8\u05d1\u05e2\u05dd \u05d5 \u05db\u05dc \u05d0\u05e9\u05c1\u05e8 \u05e2\u05e9\u05c2\u05d4 \u05d5 \u05d2\u05d1\u05d5\u05e8\u05ea\u05d5 \u05d0\u05e9\u05c1\u05e8 \u05e0\u05dc\u05d7\u05dd \u05d5 \u05d0\u05e9\u05c1\u05e8 \u05d4\u05e9\u05c1\u05d9\u05d1 \u05d0\u05ea \u05d3\u05de\u05e9\u05c2\u05e7 \u05d5 \u05d0\u05ea \u05d7\u05de\u05ea \u05dc \u05d9\u05d4\u05d5\u05d3\u05d4 \u05d1 \u05d9\u05e9\u05c2\u05e8\u05d0\u05dc \u05d4 \u05dc\u05d0 \u05d4\u05dd \u05db\u05ea\u05d5\u05d1\u05d9\u05dd \u05e2\u05dc \u05e1\u05e4\u05e8 \u05d3\u05d1\u05e8\u05d9 \u05d4 \u05d9\u05de\u05d9\u05dd \u05dc \u05de\u05dc\u05db\u05d9 \u05d9\u05e9\u05c2\u05e8\u05d0\u05dc \r\n",
        "IIKON17,08\t(S(C(P(cj #0))(P(vb #1))(*1 P(pp #2)(SU(n #3))(SU(dt #4)(n #5))(cj #13)(SU(n #14))(SU(n #15)))<*1>)(C(P(cj #6))(P(vb #7))(P(n #8))(P(pp #9)(SU(n #10))(SU(SU(n #11))(SU(n #12)))))(C(P(cj #16))(P(vb #17))))\t\u05d5 \u05d9\u05dc\u05db\u05d5 \u05d1 \u05d7\u05e7\u05d5\u05ea \u05d4 \u05d2\u05d5\u05d9\u05dd \u05d0\u05e9\u05c1\u05e8 \u05d4\u05d5\u05e8\u05d9\u05e9\u05c1 \u05d9\u05d4\u05d5\u05d4 \u05de \u05e4\u05e0\u05d9 \u05d1\u05e0\u05d9 \u05d9\u05e9\u05c2\u05e8\u05d0\u05dc \u05d5 \u05de\u05dc\u05db\u05d9 \u05d9\u05e9\u05c2\u05e8\u05d0\u05dc \u05d0\u05e9\u05c1\u05e8 \u05e2\u05e9\u05c2\u05d5 \r\n",
        "IIKON17,15\t(S(C(P(cj #0))(P(vb #1))(*1 P(SU(pp #2)(n #3))(cj #4)(SU(pp #5)(n #6))(cj #11)(pp #12)(n #13))<*1>)(C(P(cj #7))(P(vb #8))(P(pp #9)(n #10)))(C(P(cj #14))(P(vb #15))(P(pp #16))))\t\u05d5 \u05d9\u05de\u05d0\u05e1\u05d5 \u05d0\u05ea \u05d7\u05e7\u05d9\u05d5 \u05d5 \u05d0\u05ea \u05d1\u05e8\u05d9\u05ea\u05d5 \u05d0\u05e9\u05c1\u05e8 \u05db\u05e8\u05ea \u05d0\u05ea \u05d0\u05d1\u05d5\u05ea\u05dd \u05d5 \u05d0\u05ea \u05e2\u05d3\u05d5\u05ea\u05d9\u05d5 \u05d0\u05e9\u05c1\u05e8 \u05d4\u05e2\u05d9\u05d3 \u05d1\u05dd \r\n",
        "IIKON18,18\t(S(C(P(cj #0))(P(vb #1))(P(pp #2))(*1 P(n #3)(SU(n #4))(SU(n #5))(n #11)(dt #12)(n #13)(n #15)(SU(n #16))(SU(n #17))(dt #18)(vb #19))<*1>(P(cj #10))(P(cj #14)))(C(P(cj #6))(P(pp #7)(dt #8)(n #9))))\t\u05d5 \u05d9\u05e6\u05d0 \u05d0\u05dc\u05d4\u05dd \u05d0\u05dc\u05d9\u05e7\u05d9\u05dd \u05d1\u05df \u05d7\u05dc\u05e7\u05d9\u05d4\u05d5 \u05d0\u05e9\u05c1\u05e8 \u05e2\u05dc \u05d4 \u05d1\u05d9\u05ea \u05d5 \u05e9\u05c1\u05d1\u05e0\u05d4 \u05d4 \u05e1\u05e4\u05e8 \u05d5 \u05d9\u05d5\u05d0\u05d7 \u05d1\u05df \u05d0\u05e1\u05e3 \u05d4 \u05de\u05d6\u05db\u05d9\u05e8 \r\n",
        "IIKON18,37\t(S(C(P(cj #0))(P(vb #1))(*1 P(n #2)(SU(n #3))(SU(n #4))(cj #9)(n #10)(dt #11)(n #12)(cj #13)(n #14)(SU(n #15))(SU(n #16))(dt #17)(vb #18))<*1>(P(pp #19)(n #20))(P(SU(vb #21))(SU(n #22))))(C(P(cj #5))(P(pp #6)(dt #7)(n #8))))\t\u05d5 \u05d9\u05d1\u05d0 \u05d0\u05dc\u05d9\u05e7\u05d9\u05dd \u05d1\u05df \u05d7\u05dc\u05e7\u05d9\u05d4 \u05d0\u05e9\u05c1\u05e8 \u05e2\u05dc \u05d4 \u05d1\u05d9\u05ea \u05d5 \u05e9\u05c1\u05d1\u05e0\u05d0 \u05d4 \u05e1\u05e4\u05e8 \u05d5 \u05d9\u05d5\u05d0\u05d7 \u05d1\u05df \u05d0\u05e1\u05e3 \u05d4 \u05de\u05d6\u05db\u05d9\u05e8 \u05d0\u05dc \u05d7\u05d6\u05e7\u05d9\u05d4\u05d5 \u05e7\u05e8\u05d5\u05e2\u05d9 \u05d1\u05d2\u05d3\u05d9\u05dd \r\n",
        "IIKON19,02\t(S(C(P(cj #0))(P(vb #1))(*1 P(pp #2)(n #3)(cj #8)(n #9)(dt #10)(n #11)(cj #12)(pp #13)(SU(aj #14))(SU(dt #15)(n #16)))<*1>(P(pp #21)(n #22)(dt #23)(n #24)(SU(n #25))(SU(n #26))))(C(P(cj #4))(P(pp #5)(dt #6)(n #7)))(C(P(vb #17))(P(pp #18)(dt #19)(n #20))))\t\u05d5 \u05d9\u05e9\u05c1\u05dc\u05d7 \u05d0\u05ea \u05d0\u05dc\u05d9\u05e7\u05d9\u05dd \u05d0\u05e9\u05c1\u05e8 \u05e2\u05dc \u05d4 \u05d1\u05d9\u05ea \u05d5 \u05e9\u05c1\u05d1\u05e0\u05d0 \u05d4 \u05e1\u05e4\u05e8 \u05d5 \u05d0\u05ea \u05d6\u05e7\u05e0\u05d9 \u05d4 \u05db\u05d4\u05e0\u05d9\u05dd \u05de\u05ea\u05db\u05e1\u05d9\u05dd \u05d1  \u05e9\u05c2\u05e7\u05d9\u05dd \u05d0\u05dc \u05d9\u05e9\u05c1\u05e2\u05d9\u05d4\u05d5 \u05d4 \u05e0\u05d1\u05d9\u05d0 \u05d1\u05df \u05d0\u05de\u05d5\u05e5 \r\n",
        "IIKON19,12\t(S(C(P(ir #0))(P(vb #1))(P(pp #2))(*1 P(SU(n #3))(SU(dt #4)(n #5))(SU(pp #9)(n #10))(cj #11)(SU(pp #12)(n #13))(cj #14)(SU(n #15))(cj #16)(SU(SU(n #17))(SU(n #18))))<*1>)(C(P(cj #6))(P(vb #7))(P(n #8)))(C(P(cj #19))(P(pp #20)(n #21))))\t\u05d4 \u05d4\u05e6\u05d9\u05dc\u05d5 \u05d0\u05ea\u05dd \u05d0\u05dc\u05d4\u05d9 \u05d4 \u05d2\u05d5\u05d9\u05dd \u05d0\u05e9\u05c1\u05e8 \u05e9\u05c1\u05d7\u05ea\u05d5 \u05d0\u05d1\u05d5\u05ea\u05d9 \u05d0\u05ea \u05d2\u05d5\u05d6\u05df \u05d5 \u05d0\u05ea \u05d7\u05e8\u05df \u05d5 \u05e8\u05e6\u05e3 \u05d5 \u05d1\u05e0\u05d9 \u05e2\u05d3\u05df \u05d0\u05e9\u05c1\u05e8 \u05d1 \u05ea\u05dc\u05d0\u05e9\u05c2\u05e8 \r\n",
        "IIKON21,17\t(S(C(P(cj #0))(*1 P(SU(SU(n #1))(SU(SU(n #2))(SU(n #3))))(cj #4)(SU(n #5))(cj #8)(n #9))<*1>)(C(P(cj #6))(P(vb #7)))(C(P(cj #10))(P(vb #11)))(C(P(ir #12))(P(ng #13))(P(pr #14))(P(vb #15))(P(pp #16)(SU(n #17))(SU(SU(n #18))(SU(dt #19)(n #20)))(pp #21)(SU(n #22))(SU(n #23)))))\t\u05d5 \u05d9\u05ea\u05e8 \u05d3\u05d1\u05e8\u05d9 \u05de\u05e0\u05e9\u05c1\u05d4 \u05d5 \u05db\u05dc \u05d0\u05e9\u05c1\u05e8 \u05e2\u05e9\u05c2\u05d4 \u05d5 \u05d7\u05d8\u05d0\u05ea\u05d5 \u05d0\u05e9\u05c1\u05e8 \u05d7\u05d8\u05d0 \u05d4 \u05dc\u05d0 \u05d4\u05dd \u05db\u05ea\u05d5\u05d1\u05d9\u05dd \u05e2\u05dc \u05e1\u05e4\u05e8 \u05d3\u05d1\u05e8\u05d9 \u05d4 \u05d9\u05de\u05d9\u05dd \u05dc \u05de\u05dc\u05db\u05d9 \u05d9\u05d4\u05d5\u05d3\u05d4 \r\n"
       ]
      },
      {
       "output_type": "stream",
       "stream": "stdout",
       "text": [
        "IIKON23,15\t(S(C(P(cj #0))(P(av #1))(*1 P(pp #2)(dt #3)(n #4)(dt #8)(n #9))<*1>)(C(P(cj #5))(P(pp #6)(n #7)))(C(P(cj #10))(P(vb #11))(P(n #12)(SU(n #13))(SU(n #14))))(C(P(cj #15))(P(vb #16))(P(pp #17)(n #18)))(C(P(av #19))(P(SU(pp #20)(SU(dt #21)(n #22))(SU(dt #23)(pr #24)))(cj #25)(SU(pp #26)(dt #27)(n #28)))(P(vb #29)))(C(P(cj #30))(P(vb #31))(P(pp #32)(dt #33)(n #34)))(C(P(vb #35))(P(pp #36)(n #37))))\t\u05d5 \u05d2\u05dd \u05d0\u05ea \u05d4 \u05de\u05d6\u05d1\u05d7 \u05d0\u05e9\u05c1\u05e8 \u05d1 \u05d1\u05d9\u05ea\u05be\u05d0\u05dc \u05d4 \u05d1\u05de\u05d4 \u05d0\u05e9\u05c1\u05e8 \u05e2\u05e9\u05c2\u05d4 \u05d9\u05e8\u05d1\u05e2\u05dd \u05d1\u05df \u05e0\u05d1\u05d8 \u05d0\u05e9\u05c1\u05e8 \u05d4\u05d7\u05d8\u05d9\u05d0 \u05d0\u05ea \u05d9\u05e9\u05c2\u05e8\u05d0\u05dc \u05d2\u05dd \u05d0\u05ea \u05d4 \u05de\u05d6\u05d1\u05d7 \u05d4 \u05d4\u05d5\u05d0 \u05d5 \u05d0\u05ea \u05d4 \u05d1\u05de\u05d4 \u05e0\u05ea\u05e5 \u05d5 \u05d9\u05e9\u05c2\u05e8\u05e3 \u05d0\u05ea \u05d4 \u05d1\u05de\u05d4 \u05d4\u05d3\u05e7 \u05dc \u05e2\u05e4\u05e8 \r\n",
        " JES 07,17\t(S(C(P(vb #0))(P(n #1))(P(SU(SU(pp #2))(cj #3)(SU(pp #4)(n #5)))(cj #6)(SU(pp #7)(SU(n #8))(SU(n #9))))(*1 P(n #10)(pp #22)(SU(n #23))(SU(n #24)))<*1>)(C(P(cj #11))(P(ng #12))(P(vb #13))(P(pp #14)(pp #15)(n #16)))(C(P(vb #17))(P(n #18))(P(pp #19)(pp #20)(n #21))))\t\u05d9\u05d1\u05d9\u05d0 \u05d9\u05d4\u05d5\u05d4 \u05e2\u05dc\u05d9\u05da \u05d5 \u05e2\u05dc \u05e2\u05de\u05da \u05d5 \u05e2\u05dc \u05d1\u05d9\u05ea \u05d0\u05d1\u05d9\u05da \u05d9\u05de\u05d9\u05dd \u05d0\u05e9\u05c1\u05e8 \u05dc\u05d0 \u05d1\u05d0\u05d5 \u05dc \u05de \u05d9\u05d5\u05dd \u05e1\u05d5\u05e8 \u05d0\u05e4\u05e8\u05d9\u05dd \u05de \u05e2\u05dc \u05d9\u05d4\u05d5\u05d3\u05d4 \u05d0\u05ea \u05de\u05dc\u05da \u05d0\u05e9\u05c1\u05d5\u05e8 \r\n",
        " JES 07,18\t(S(C(P(vb #0))(P(n #1))(*1 P(pp #2)(dt #3)(n #4)(cj #10)(pp #11)(dt #12)(n #13))<*1>)(C(P(cj #5))(P(pp #6)(SU(n #7))(SU(SU(n #8))(SU(n #9)))))(C(P(cj #14))(P(pp #15)(SU(n #16))(SU(n #17)))))\t\u05d9\u05e9\u05c1\u05e8\u05e7 \u05d9\u05d4\u05d5\u05d4 \u05dc  \u05d6\u05d1\u05d5\u05d1 \u05d0\u05e9\u05c1\u05e8 \u05d1 \u05e7\u05e6\u05d4 \u05d9\u05d0\u05e8\u05d9 \u05de\u05e6\u05e8\u05d9\u05dd \u05d5 \u05dc  \u05d3\u05d1\u05d5\u05e8\u05d4 \u05d0\u05e9\u05c1\u05e8 \u05d1 \u05d0\u05e8\u05e5 \u05d0\u05e9\u05c1\u05d5\u05e8 \r\n",
        " JES 08,19\t(S(*1 C(P(cj #0))(P(ir #4))(P(ng #5))(P(n #6))(P(pp #7)(n #8))(P(vb #9)))(C(P(cj #1))(P(vb #2))(P(pp #3)))<*1>(C(P(n #10)(dt #11)(aj #12))(P(pp #13)(dt #14)(vb #15))))\t\u05d5 \u05db\u05d9 \u05d9\u05d0\u05de\u05e8\u05d5 \u05d0\u05dc\u05d9\u05db\u05dd \u05d4 \u05dc\u05d5\u05d0 \u05e2\u05dd \u05d0\u05dc \u05d0\u05dc\u05d4\u05d9\u05d5 \u05d9\u05d3\u05e8\u05e9\u05c1 \u05d1\u05e2\u05d3 \u05d4 \u05d7\u05d9\u05d9\u05dd \u05d0\u05dc \u05d4 \u05de\u05ea\u05d9\u05dd \r\n",
        " JES 15,06\t(S(C(P(pp #0)(av #1))(*1 P(n #2)(cj #4)(n #5))<*1>)(C(P(vb #3)))(C(P(pp #6)(SU(n #7))(SU(dt #8)(n #9)))(P(vb #10)))(C(P(cj #11))(P(vb #12))(P(dt #13)(n #14))(P(pp #15)(SU(n #16))(SU(n #17)))))\t\u05e2\u05dc \u05db\u05df \u05d9\u05ea\u05e8\u05d4 \u05e2\u05e9\u05c2\u05d4 \u05d5 \u05e4\u05e7\u05d3\u05ea\u05dd \u05e2\u05dc \u05e0\u05d7\u05dc \u05d4 \u05e2\u05e8\u05d1\u05d9\u05dd \u05d9\u05e9\u05c2\u05d0\u05d5\u05dd \u05db\u05d9 \u05d4\u05e7\u05d9\u05e4\u05d4 \u05d4 \u05d6\u05e2\u05e7\u05d4 \u05d0\u05ea \u05d2\u05d1\u05d5\u05dc \u05de\u05d5\u05d0\u05d1 \r\n",
        " JES 16,06\t(S(C(P(vb #0))(*1 P(SU(n #1))(SU(n #2))(SU(SU(n #5))(cj #6)(SU(n #7)))(cj #8)(SU(n #9)))<*1>)(C(P(aj #3))(P(n #4)))(C(P(ng #10))(P(av #11))(P(n #12))))\t\u05e9\u05c1\u05de\u05e2\u05e0\u05d5 \u05d2\u05d0\u05d5\u05df \u05de\u05d5\u05d0\u05d1 \u05d2\u05d0 \u05de\u05d0\u05d3 \u05d2\u05d0\u05d5\u05ea\u05d5 \u05d5 \u05d2\u05d0\u05d5\u05e0\u05d5 \u05d5 \u05e2\u05d1\u05e8\u05ea\u05d5 \u05dc\u05d0 \u05db\u05df \u05d1\u05d3\u05d9\u05d5 \r\n",
        " JES 18,02\t(S(C(P(vb #0))(P(pp #3)(SU(n #4))(SU(SU(vb #5))(cj #6)(SU(vb #7)))))(C(P(SU(n #1))(SU(aj #2))))(C(*1 P(pp #8)(n #9)(SU(n #15))(SU(SU(SU(n #16))(SU(n #17)))(cj #18)(SU(n #19))))<*1>)(C(P(vb #10))(P(pp #11)(pr #12)(cj #13)(av #14)))(C(P(cj #20))(P(vb #21))(P(n #22))(P(n #23))))\t\u05dc\u05db\u05d5 \u05de\u05dc\u05d0\u05db\u05d9\u05dd \u05e7\u05dc\u05d9\u05dd \u05d0\u05dc \u05d2\u05d5\u05d9 \u05de\u05de\u05e9\u05c1\u05da \u05d5 \u05de\u05d5\u05e8\u05d8 \u05d0\u05dc \u05e2\u05dd \u05e0\u05d5\u05e8\u05d0 \u05de\u05df \u05d4\u05d5\u05d0 \u05d5 \u05d4\u05dc\u05d0\u05d4 \u05d2\u05d5\u05d9 \u05e7\u05d5 \u05e7\u05d5 \u05d5 \u05de\u05d1\u05d5\u05e1\u05d4 \u05d0\u05e9\u05c1\u05e8 \u05d1\u05d6\u05d0\u05d5 \u05e0\u05d4\u05e8\u05d9\u05dd \u05d0\u05e8\u05e6\u05d5 \r\n",
        " JES 18,07\t(S(C(P(pp #0)(SU(dt #1)(n #2))(SU(dt #3)(pr #4)))(P(vb #5))(P(n #6))(P(pp #7)(SU(n #8))(SU(n #9))))(C(P(SU(n #10))(SU(SU(vb #11))(cj #12)(SU(vb #13)))))(C(P(cj #14))(*1 P(pp #15)(n #16)(SU(n #22))(SU(SU(SU(n #23))(SU(n #24)))(cj #25)(SU(n #26))))<*1>(P(pp #31)(SU(n #32))(SU(SU(n #33))(SU(SU(n #34))(SU(n #35))))(SU(n #36))(SU(n #37))))(C(P(vb #17))(P(pp #18)(pr #19)(cj #20)(av #21)))(C(P(cj #27))(P(vb #28))(P(n #29))(P(n #30))))\t\u05d1  \u05e2\u05ea \u05d4 \u05d4\u05d9\u05d0 \u05d9\u05d5\u05d1\u05dc \u05e9\u05c1\u05d9 \u05dc \u05d9\u05d4\u05d5\u05d4 \u05e6\u05d1\u05d0\u05d5\u05ea \u05e2\u05dd \u05de\u05de\u05e9\u05c1\u05da \u05d5 \u05de\u05d5\u05e8\u05d8 \u05d5 \u05de \u05e2\u05dd \u05e0\u05d5\u05e8\u05d0 \u05de\u05df \u05d4\u05d5\u05d0 \u05d5 \u05d4\u05dc\u05d0\u05d4 \u05d2\u05d5\u05d9 \u05e7\u05d5 \u05e7\u05d5 \u05d5 \u05de\u05d1\u05d5\u05e1\u05d4 \u05d0\u05e9\u05c1\u05e8 \u05d1\u05d6\u05d0\u05d5 \u05e0\u05d4\u05e8\u05d9\u05dd \u05d0\u05e8\u05e6\u05d5 \u05d0\u05dc \u05de\u05e7\u05d5\u05dd \u05e9\u05c1\u05dd \u05d9\u05d4\u05d5\u05d4 \u05e6\u05d1\u05d0\u05d5\u05ea \u05d4\u05e8 \u05e6\u05d9\u05d5\u05df \r\n",
        " JES 28,01\t(S(C(P(ij #0))(P(SU(n #1))(SU(n #2))(SU(aj #3))(SU(n #4))))(C(P(cj #5))(*1 P(SU(n #6))(SU(vb #7))(SU(n #8))(SU(n #9))(SU(vb #15))(SU(n #16)))<*1>)(C(P(cj #10))(P(pp #11)(SU(n #12))(SU(SU(n #13))(SU(aj #14))))))\t\u05d4\u05d5\u05d9 \u05e2\u05d8\u05e8\u05ea \u05d2\u05d0\u05d5\u05ea \u05e9\u05c1\u05db\u05e8\u05d9 \u05d0\u05e4\u05e8\u05d9\u05dd \u05d5 \u05e6\u05d9\u05e5 \u05e0\u05d1\u05dc \u05e6\u05d1\u05d9 \u05ea\u05e4\u05d0\u05e8\u05ea\u05d5 \u05d0\u05e9\u05c1\u05e8 \u05e2\u05dc \u05e8\u05d0\u05e9\u05c1 \u05d2\u05d9\u05d0 \u05e9\u05c1\u05de\u05e0\u05d9\u05dd \u05d4\u05dc\u05d5\u05de\u05d9 \u05d9\u05d9\u05df \r\n",
        " JES 30,23\t(S(C(P(cj #0))(P(vb #1))(*1 P(SU(n #2))(SU(n #3))(cj #9)(n #10)(SU(n #11))(SU(dt #12)(n #13)))<*1>)(C(P(cj #4))(P(vb #5))(P(pp #6)(dt #7)(n #8))))\t\u05d5 \u05e0\u05ea\u05df \u05de\u05d8\u05e8 \u05d6\u05e8\u05e2\u05da \u05d0\u05e9\u05c1\u05e8 \u05ea\u05d6\u05e8\u05e2 \u05d0\u05ea \u05d4 \u05d0\u05d3\u05de\u05d4 \u05d5 \u05dc\u05d7\u05dd \u05ea\u05d1\u05d5\u05d0\u05ea \u05d4 \u05d0\u05d3\u05de\u05d4 \r\n",
        " JES 36,03\t(S(C(P(cj #0))(P(vb #1))(P(pp #2))(*1 P(n #3)(SU(n #4))(SU(n #5))(cj #10)(n #11)(dt #12)(n #13)(cj #14)(n #15)(SU(n #16))(SU(n #17))(dt #18)(vb #19))<*1>)(C(P(cj #6))(P(pp #7)(dt #8)(n #9))))\t\u05d5 \u05d9\u05e6\u05d0 \u05d0\u05dc\u05d9\u05d5 \u05d0\u05dc\u05d9\u05e7\u05d9\u05dd \u05d1\u05df \u05d7\u05dc\u05e7\u05d9\u05d4\u05d5 \u05d0\u05e9\u05c1\u05e8 \u05e2\u05dc \u05d4 \u05d1\u05d9\u05ea \u05d5 \u05e9\u05c1\u05d1\u05e0\u05d0 \u05d4 \u05e1\u05e4\u05e8 \u05d5 \u05d9\u05d5\u05d0\u05d7 \u05d1\u05df \u05d0\u05e1\u05e3 \u05d4 \u05de\u05d6\u05db\u05d9\u05e8 \r\n",
        " JES 36,22\t(S(C(P(cj #0))(P(vb #1))(*1 P(n #2)(SU(n #3))(SU(n #4))(cj #9)(n #10)(dt #11)(n #12)(cj #13)(n #14)(SU(n #15))(SU(n #16))(dt #17)(vb #18))<*1>(P(pp #19)(n #20))(P(SU(vb #21))(SU(n #22))))(C(P(cj #5))(P(pp #6)(dt #7)(n #8))))\t\u05d5 \u05d9\u05d1\u05d0 \u05d0\u05dc\u05d9\u05e7\u05d9\u05dd \u05d1\u05df \u05d7\u05dc\u05e7\u05d9\u05d4\u05d5 \u05d0\u05e9\u05c1\u05e8 \u05e2\u05dc \u05d4 \u05d1\u05d9\u05ea \u05d5 \u05e9\u05c1\u05d1\u05e0\u05d0 \u05d4 \u05e1\u05d5\u05e4\u05e8 \u05d5 \u05d9\u05d5\u05d0\u05d7 \u05d1\u05df \u05d0\u05e1\u05e3 \u05d4 \u05de\u05d6\u05db\u05d9\u05e8 \u05d0\u05dc \u05d7\u05d6\u05e7\u05d9\u05d4\u05d5 \u05e7\u05e8\u05d5\u05e2\u05d9 \u05d1\u05d2\u05d3\u05d9\u05dd \r\n",
        " JES 37,02\t(S(C(P(cj #0))(P(vb #1))(*1 P(pp #2)(n #3)(cj #8)(pp #9)(n #10)(dt #11)(n #12)(cj #13)(pp #14)(SU(aj #15))(SU(dt #16)(n #17)))<*1>(P(pp #22)(n #23)(SU(n #24))(SU(n #25))(dt #26)(n #27)))(C(P(cj #4))(P(pp #5)(dt #6)(n #7)))(C(P(vb #18))(P(pp #19)(dt #20)(n #21))))\t\u05d5 \u05d9\u05e9\u05c1\u05dc\u05d7 \u05d0\u05ea \u05d0\u05dc\u05d9\u05e7\u05d9\u05dd \u05d0\u05e9\u05c1\u05e8 \u05e2\u05dc \u05d4 \u05d1\u05d9\u05ea \u05d5 \u05d0\u05ea \u05e9\u05c1\u05d1\u05e0\u05d0 \u05d4 \u05e1\u05d5\u05e4\u05e8 \u05d5 \u05d0\u05ea \u05d6\u05e7\u05e0\u05d9 \u05d4 \u05db\u05d4\u05e0\u05d9\u05dd \u05de\u05ea\u05db\u05e1\u05d9\u05dd \u05d1  \u05e9\u05c2\u05e7\u05d9\u05dd \u05d0\u05dc \u05d9\u05e9\u05c1\u05e2\u05d9\u05d4\u05d5 \u05d1\u05df \u05d0\u05de\u05d5\u05e5 \u05d4 \u05e0\u05d1\u05d9\u05d0 \r\n",
        " JES 37,12\t(S(C(P(ir #0))(P(vb #1))(*1 P(pp #2)(SU(SU(SU(pp #9)(n #10))(cj #11)(SU(pp #12)(n #13)))(cj #14)(SU(n #15)))(cj #16)(SU(SU(n #17))(SU(n #18))))(P(SU(n #3))(SU(dt #4)(n #5)))<*1>)(C(P(cj #6))(P(vb #7))(P(n #8)))(C(P(cj #19))(P(pp #20)(n #21))))\t\u05d4 \u05d4\u05e6\u05d9\u05dc\u05d5 \u05d0\u05d5\u05ea\u05dd \u05d0\u05dc\u05d4\u05d9 \u05d4 \u05d2\u05d5\u05d9\u05dd \u05d0\u05e9\u05c1\u05e8 \u05d4\u05e9\u05c1\u05d7\u05d9\u05ea\u05d5 \u05d0\u05d1\u05d5\u05ea\u05d9 \u05d0\u05ea \u05d2\u05d5\u05d6\u05df \u05d5 \u05d0\u05ea \u05d7\u05e8\u05df \u05d5 \u05e8\u05e6\u05e3 \u05d5 \u05d1\u05e0\u05d9 \u05e2\u05d3\u05df \u05d0\u05e9\u05c1\u05e8 \u05d1 \u05ea\u05dc\u05e9\u05c2\u05e8 \r\n",
        " JES 43,01\t(S(C(P(cj #0))(P(av #1))(P(av #2))(P(vb #3))(*1 P(n #4)(vb #5)(cj #7)(vb #8))<*1>)(C(P(n #6)))(C(P(n #9))))\t\u05d5 \u05e2\u05ea\u05d4 \u05db\u05d4 \u05d0\u05de\u05e8 \u05d9\u05d4\u05d5\u05d4 \u05d1\u05e8\u05d0\u05da \u05d9\u05e2\u05e7\u05d1 \u05d5 \u05d9\u05e6\u05e8\u05da \u05d9\u05e9\u05c2\u05e8\u05d0\u05dc \r\n",
        " JES 43,07\t(S(C(P(vb #0))(*1 P(SU(n #1))(SU(aj #2))(cj #6)(aj #7))<*1>)(C(P(cj #3))(P(n #4))(P(n #5)))(C(P(cj #8))(P(n #9))(P(pp #10)))(C(P(SU(n #11))(SU(dt #12)(n #13)))(P(vb #14))(P(av #15))))\t\u05d4\u05d5\u05e6\u05d9\u05d0 \u05e2\u05dd \u05e2\u05d5\u05e8 \u05d5 \u05e2\u05d9\u05e0\u05d9\u05dd \u05d9\u05e9\u05c1 \u05d5 \u05d7\u05e8\u05e9\u05c1\u05d9\u05dd \u05d5 \u05d0\u05d6\u05e0\u05d9\u05dd \u05dc\u05de\u05d5 \u05db\u05dc \u05d4 \u05d2\u05d5\u05d9\u05dd \u05e0\u05e7\u05d1\u05e6\u05d5 \u05d9\u05d7\u05d3\u05d5 \r\n",
        " JES 51,19\t(S(C(*1 P(n #0)(pr #1)(SU(SU(SU(dt #6)(n #7))(cj #8)(SU(dt #9)(n #10)))(cj #11)(SU(dt #12)(n #13)))(cj #14)(SU(dt #15)(n #16)))(P(vb #2))<*1>)(C(P(pr #3))(P(vb #4))(P(pp #5))))\t\u05e9\u05c1\u05ea\u05d9\u05dd \u05d4\u05e0\u05d4 \u05e7\u05e8\u05d0\u05ea\u05d9\u05da \u05de\u05d9 \u05d9\u05e0\u05d5\u05d3 \u05dc\u05da \u05d4 \u05e9\u05c1\u05d3 \u05d5 \u05d4 \u05e9\u05c1\u05d1\u05e8 \u05d5 \u05d4 \u05e8\u05e2\u05d1 \u05d5 \u05d4 \u05d7\u05e8\u05d1 \r\n",
        " JES 59,21\t(S(C(*1 P(n #0)(cj #3)(n #4))<*1>(P(ng #9))(P(vb #10))(P(SU(SU(pp #11)(n #12))(cj #13)(SU(pp #14)(SU(n #15))(SU(n #16))))(cj #17)(SU(pp #18)(SU(n #19))(SU(SU(n #20))(SU(n #21)))))(P(pp #24)(av #25)(cj #26)(pp #27)(n #28)))(C(P(cj #1))(P(pp #2)))(C(P(cj #5))(P(vb #6))(P(pp #7)(n #8)))(C(P(vb #22))(P(n #23))))\t\u05e8\u05d5\u05d7\u05d9 \u05d0\u05e9\u05c1\u05e8 \u05e2\u05dc\u05d9\u05da \u05d5 \u05d3\u05d1\u05e8\u05d9 \u05d0\u05e9\u05c1\u05e8 \u05e9\u05c2\u05de\u05ea\u05d9 \u05d1 \u05e4\u05d9\u05da \u05dc\u05d0 \u05d9\u05de\u05d5\u05e9\u05c1\u05d5 \u05de \u05e4\u05d9\u05da \u05d5 \u05de \u05e4\u05d9 \u05d6\u05e8\u05e2\u05da \u05d5 \u05de \u05e4\u05d9 \u05d6\u05e8\u05e2 \u05d6\u05e8\u05e2\u05da \u05d0\u05de\u05e8 \u05d9\u05d4\u05d5\u05d4 \u05de \u05e2\u05ea\u05d4 \u05d5 \u05e2\u05d3 \u05e2\u05d5\u05dc\u05dd \r\n",
        " JES 61,11\t(S(C(P(cj #0))(*1 P(pp #1)(dt #2)(n #3)(cj #6)(pp #7)(n #8))<*1>(P(av #11))(P(SU(n #12))(SU(n #13)))(P(vb #14))(P(SU(n #15))(cj #16)(SU(n #17)))(P(SU(n #18))(SU(SU(n #19))(SU(dt #20)(n #21)))))(C(P(vb #4))(P(n #5)))(C(P(n #9))(P(vb #10))))\t\u05db\u05d9 \u05db  \u05d0\u05e8\u05e5 \u05ea\u05d5\u05e6\u05d9\u05d0 \u05e6\u05de\u05d7\u05d4 \u05d5 \u05db \u05d2\u05e0\u05d4 \u05d6\u05e8\u05d5\u05e2\u05d9\u05d4 \u05ea\u05e6\u05de\u05d9\u05d7 \u05db\u05df \u05d0\u05d3\u05e0\u05d9 \u05d9\u05d4\u05d5\u05d4 \u05d9\u05e6\u05de\u05d9\u05d7 \u05e6\u05d3\u05e7\u05d4 \u05d5 \u05ea\u05d4\u05dc\u05d4 \u05e0\u05d2\u05d3 \u05db\u05dc \u05d4 \u05d2\u05d5\u05d9\u05dd \r\n",
        " JES 65,01\t(S(*1 C(P(vb #0))(P(pp #1)(n #2)))<*1>(C(P(ng #3))(P(vb #4))(P(pp #5)(n #6))))\t\u05d0\u05de\u05e8\u05ea\u05d9 \u05d0\u05dc \u05d2\u05d5\u05d9 \u05dc\u05d0 \u05e7\u05e8\u05d0 \u05d1 \u05e9\u05c1\u05de\u05d9 \r\n",
        " JES 66,22\t(S(*1 C(P(cj #0))(P(av #18))(P(vb #19))(P(SU(n #20))(cj #21)(SU(n #22))))(C(P(pp #1)(cj #2))(P(SU(SU(dt #3)(n #4))(SU(dt #5)(aj #6)))(cj #7)(SU(SU(dt #8)(n #9))(SU(dt #10)(aj #11))))(P(vb #15))(P(pp #16)(n #17)))(C(P(cj #12))(P(pr #13))(P(vb #14)))<*1>)\t\u05db\u05d9 \u05db \u05d0\u05e9\u05c1\u05e8 \u05d4 \u05e9\u05c1\u05de\u05d9\u05dd \u05d4 \u05d7\u05d3\u05e9\u05c1\u05d9\u05dd \u05d5 \u05d4 \u05d0\u05e8\u05e5 \u05d4 \u05d7\u05d3\u05e9\u05c1\u05d4 \u05d0\u05e9\u05c1\u05e8 \u05d0\u05e0\u05d9 \u05e2\u05e9\u05c2\u05d4 \u05e2\u05de\u05d3\u05d9\u05dd \u05dc \u05e4\u05e0\u05d9 \u05db\u05df \u05d9\u05e2\u05de\u05d3 \u05d6\u05e8\u05e2\u05db\u05dd \u05d5 \u05e9\u05c1\u05de\u05db\u05dd \r\n",
        " JER 05,02\t(S(*1 C(P(cj #0)(cj #1))(P(vb #2)))<*1>)\t\u05d5 \u05d0\u05dd \u05d9\u05d0\u05de\u05e8\u05d5 \r\n",
        " JER 07,25\t(S(C(*1 P(pp #0)(pp #1)(dt #2)(n #3)(pp #10)(SU(dt #11)(n #12))(SU(dt #13)(pr #14)))<*1>)(C(P(cj #4))(P(vb #5))(P(n #6))(P(pp #7)(SU(n #8))(SU(n #9))))(C(P(cj #15))(P(vb #16))(P(pp #17))(P(pp #18)(SU(n #19))(SU(n #20))(dt #21)(n #22)))(C(P(n #23))(P(vb #24)))(C(P(cj #25))(P(vb #26))))\t\u05dc \u05de\u05df \u05d4 \u05d9\u05d5\u05dd \u05d0\u05e9\u05c1\u05e8 \u05d9\u05e6\u05d0\u05d5 \u05d0\u05d1\u05d5\u05ea\u05d9\u05db\u05dd \u05de \u05d0\u05e8\u05e5 \u05de\u05e6\u05e8\u05d9\u05dd \u05e2\u05d3 \u05d4 \u05d9\u05d5\u05dd \u05d4 \u05d6\u05d4 \u05d5 \u05d0\u05e9\u05c1\u05dc\u05d7 \u05d0\u05dc\u05d9\u05db\u05dd \u05d0\u05ea \u05db\u05dc \u05e2\u05d1\u05d3\u05d9 \u05d4 \u05e0\u05d1\u05d9\u05d0\u05d9\u05dd \u05d9\u05d5\u05dd \u05d4\u05e9\u05c1\u05db\u05dd \u05d5 \u05e9\u05c1\u05dc\u05d7 \r\n",
        " JER 11,07\t(S(C(P(cj #0))(P(vb #1))(P(vb #2))(P(pp #3)(n #4))(*1 P(pp #5)(n #6)(cj #12)(pp #13)(SU(dt #14)(n #15))(SU(dt #16)(pr #17)))<*1>)(C(P(vb #7))(P(pp #8))(P(pp #9)(SU(n #10))(SU(n #11))))(C(P(vb #18)))(C(P(cj #19))(P(vb #20)))(C(P(pp #21)(vb #22))))\t\u05db\u05d9 \u05d4\u05e2\u05d3 \u05d4\u05e2\u05d3\u05ea\u05d9 \u05d1 \u05d0\u05d1\u05d5\u05ea\u05d9\u05db\u05dd \u05d1 \u05d9\u05d5\u05dd \u05d4\u05e2\u05dc\u05d5\u05ea\u05d9 \u05d0\u05d5\u05ea\u05dd \u05de \u05d0\u05e8\u05e5 \u05de\u05e6\u05e8\u05d9\u05dd \u05d5 \u05e2\u05d3 \u05d4 \u05d9\u05d5\u05dd \u05d4 \u05d6\u05d4 \u05d4\u05e9\u05c1\u05db\u05dd \u05d5 \u05d4\u05e2\u05d3 \u05dc \u05d0\u05de\u05e8 \r\n",
        " JER 13,13\t(S(C(P(ij #0))(P(vb #1))(P(pp #2)(SU(n #3))(SU(SU(vb #4))(SU(SU(dt #5)(n #6))(SU(dt #7)(pr #8))))))(C(P(cj #9))(*1 P(pp #10)(dt #11)(n #12)(cj #19)(SU(pp #20)(dt #21)(n #22))(cj #23)(SU(SU(pp #24)(dt #25)(n #26)))(cj #27)(SU(pp #28)(SU(n #29))(SU(SU(vb #30))(SU(n #31)))))<*1>(P(n #32)))(C(P(dt #13))(P(vb #14))(P(pp #15)(n #16))(P(pp #17)(n #18))))\t\u05d4\u05e0\u05e0\u05d9 \u05de\u05de\u05dc\u05d0 \u05d0\u05ea \u05db\u05dc \u05d9\u05e9\u05c1\u05d1\u05d9 \u05d4 \u05d0\u05e8\u05e5 \u05d4 \u05d6\u05d0\u05ea \u05d5 \u05d0\u05ea \u05d4 \u05de\u05dc\u05db\u05d9\u05dd \u05d4 \u05d9\u05e9\u05c1\u05d1\u05d9\u05dd \u05dc \u05d3\u05d5\u05d3 \u05e2\u05dc \u05db\u05e1\u05d0\u05d5 \u05d5 \u05d0\u05ea \u05d4 \u05db\u05d4\u05e0\u05d9\u05dd \u05d5 \u05d0\u05ea \u05d4 \u05e0\u05d1\u05d9\u05d0\u05d9\u05dd \u05d5 \u05d0\u05ea \u05db\u05dc \u05d9\u05e9\u05c1\u05d1\u05d9 \u05d9\u05e8\u05d5\u05e9\u05c1\u05dc\u05dd \u05e9\u05c1\u05db\u05e8\u05d5\u05df \r\n",
        " JER 16,03\t(S(C(P(cj #0))(P(av #1))(P(vb #2))(P(n #3))(*1 P(SU(pp #4)(dt #5)(n #6))(cj #7)(SU(pp #8)(dt #9)(n #10))(cj #18)(pp #19)(n #20)(cj #24)(pp #25)(n #26))<*1><*1>)(C(P(dt #11))(P(aj #12))(P(pp #13)(SU(dt #14)(n #15))(SU(dt #16)(pr #17))))(C(P(dt #21))(P(vb #22))(P(pp #23)))(C(P(dt #27))(P(vb #28))(P(pp #29))(P(pp #30)(SU(dt #31)(n #32))(SU(dt #33)(pr #34)))))\t\u05db\u05d9 \u05db\u05d4 \u05d0\u05de\u05e8 \u05d9\u05d4\u05d5\u05d4 \u05e2\u05dc \u05d4 \u05d1\u05e0\u05d9\u05dd \u05d5 \u05e2\u05dc \u05d4 \u05d1\u05e0\u05d5\u05ea \u05d4 \u05d9\u05dc\u05d5\u05d3\u05d9\u05dd \u05d1  \u05de\u05e7\u05d5\u05dd \u05d4 \u05d6\u05d4 \u05d5 \u05e2\u05dc \u05d0\u05de\u05ea\u05dd \u05d4 \u05d9\u05dc\u05d3\u05d5\u05ea \u05d0\u05d5\u05ea\u05dd \u05d5 \u05e2\u05dc \u05d0\u05d1\u05d5\u05ea\u05dd \u05d4 \u05de\u05d5\u05dc\u05d3\u05d9\u05dd \u05d0\u05d5\u05ea\u05dd \u05d1  \u05d0\u05e8\u05e5 \u05d4 \u05d6\u05d0\u05ea \r\n",
        " JER 19,12\t(S(C(P(av #0))(P(vb #1))(*1 P(pp #2)(SU(dt #3)(n #4))(SU(dt #5)(pr #6))(cj #9)(pp #10)(vb #11))<*1>)(C(P(SU(n #7))(SU(n #8))))(C(P(cj #12))(P(pp #13)(vb #14))(P(pp #15)(SU(dt #16)(n #17))(SU(dt #18)(pr #19)))(P(pp #20)(n #21))))\t\u05db\u05df \u05d0\u05e2\u05e9\u05c2\u05d4 \u05dc  \u05de\u05e7\u05d5\u05dd \u05d4 \u05d6\u05d4 \u05e0\u05d0\u05dd \u05d9\u05d4\u05d5\u05d4 \u05d5 \u05dc \u05d9\u05d5\u05e9\u05c1\u05d1\u05d9\u05d5 \u05d5 \u05dc \u05ea\u05ea \u05d0\u05ea \u05d4 \u05e2\u05d9\u05e8 \u05d4 \u05d6\u05d0\u05ea \u05db \u05ea\u05e4\u05ea \r\n",
        " JER 20,06\t(S(C(P(cj #0))(*1 P(pr #1)(cj #3)(SU(n #4))(SU(SU(vb #5))(SU(n #6))))<*1>(P(vb #7))(P(pp #8)(dt #9)(n #10)))(C(P(n #2))))\t\u05d5 \u05d0\u05ea\u05d4 \u05e4\u05e9\u05c1\u05d7\u05d5\u05e8 \u05d5 \u05db\u05dc \u05d9\u05e9\u05c1\u05d1\u05d9 \u05d1\u05d9\u05ea\u05da \u05ea\u05dc\u05db\u05d5 \u05d1  \u05e9\u05c1\u05d1\u05d9 \r\n",
        " JER 22,04\t(S(C(P(cj #0))(P(vb #1))(P(pp #2)(SU(n #3))(SU(SU(dt #4)(n #5))(SU(dt #6)(pr #7))))(*1 P(n #8)(SU(pr #22))(cj #23)(SU(SU(n #24)))(cj #25)(SU(n #26)))<*1>)(C(P(vb #9))(P(pp #10)(n #11))(P(pp #12)(n #13)))(C(P(vb #14))(P(SU(pp #15)(dt #16)(n #17))(cj #18)(SU(pp #19)(dt #20)(n #21)))))\t\u05d5 \u05d1\u05d0\u05d5 \u05d1 \u05e9\u05c1\u05e2\u05e8\u05d9 \u05d4 \u05d1\u05d9\u05ea \u05d4 \u05d6\u05d4 \u05de\u05dc\u05db\u05d9\u05dd \u05d9\u05e9\u05c1\u05d1\u05d9\u05dd \u05dc \u05d3\u05d5\u05d3 \u05e2\u05dc \u05db\u05e1\u05d0\u05d5 \u05e8\u05db\u05d1\u05d9\u05dd \u05d1  \u05e8\u05db\u05d1 \u05d5 \u05d1  \u05e1\u05d5\u05e1\u05d9\u05dd \u05d4\u05d5\u05d0 \u05d5 \u05e2\u05d1\u05d3\u05d5 \u05d5 \u05e2\u05de\u05d5 \r\n",
        " JER 22,17\t(S(C(P(cj #0))(P(n #1))(P(SU(n #2))(cj #3)(SU(n #4))))(C(P(cj #5)(cj #6))(*1 P(SU(pp #7)(n #8))(cj #9)(SU(pp #10)(SU(n #11))(SU(dt #12)(aj #13)))(cj #16)(SU(pp #17)(dt #18)(n #19))(cj #20)(SU(pp #21)(dt #22)(n #23)))<*1>)(C(P(pp #14)(vb #15)))(C(P(pp #24)(vb #25))))\t\u05db\u05d9 \u05d0\u05d9\u05df \u05e2\u05d9\u05e0\u05d9\u05da \u05d5 \u05dc\u05d1\u05da \u05db\u05d9 \u05d0\u05dd \u05e2\u05dc \u05d1\u05e6\u05e2\u05da \u05d5 \u05e2\u05dc \u05d3\u05dd \u05d4 \u05e0\u05e7\u05d9 \u05dc \u05e9\u05c1\u05e4\u05d5\u05da \u05d5 \u05e2\u05dc \u05d4 \u05e2\u05e9\u05c1\u05e7 \u05d5 \u05e2\u05dc \u05d4 \u05de\u05e8\u05d5\u05e6\u05d4 \u05dc \u05e2\u05e9\u05c2\u05d5\u05ea \r\n",
        " JER 22,25\t(S(C(P(cj #0))(P(vb #1))(*1 P(SU(pp #2)(SU(n #3))(SU(SU(vb #4))(SU(n #5))))(cj #6)(SU(pp #7)(n #8))(cj #14)(pp #15)(SU(n #16))(SU(n #17))(SU(n #18))(SU(n #19))(cj #20)(pp #21)(SU(n #22))(SU(dt #23)(n #24)))<*1>)(C(P(cj #9))(P(pr #10))(P(aj #11))(P(pp #12)(n #13))))\t\u05d5 \u05e0\u05ea\u05ea\u05d9\u05da \u05d1 \u05d9\u05d3 \u05de\u05d1\u05e7\u05e9\u05c1\u05d9 \u05e0\u05e4\u05e9\u05c1\u05da \u05d5 \u05d1 \u05d9\u05d3 \u05d0\u05e9\u05c1\u05e8 \u05d0\u05ea\u05d4 \u05d9\u05d2\u05d5\u05e8 \u05de \u05e4\u05e0\u05d9\u05d4\u05dd \u05d5 \u05d1 \u05d9\u05d3 \u05e0\u05d1\u05d5\u05db\u05d3\u05e8\u05d0\u05e6\u05e8 \u05de\u05dc\u05da \u05d1\u05d1\u05dc \u05d5 \u05d1 \u05d9\u05d3 \u05d4 \u05db\u05e9\u05c2\u05d3\u05d9\u05dd \r\n",
        " JER 23,38\t(S(*1 C(P(cj #0)(cj #1))(P(vb #2)))<*1>)\t\u05d5 \u05d0\u05dd \u05ea\u05d0\u05de\u05e8\u05d5 \r\n",
        " JER 24,08\t(S(C(P(av #0))(P(vb #1))(*1 P(pp #2)(n #3)(SU(n #4))(SU(n #5))(cj #6)(SU(pp #7)(n #8))(cj #9)(SU(pp #10)(SU(n #11))(SU(n #12)))(cj #20)(dt #21)(vb #22)(pp #23)(SU(n #24))(SU(n #25)))<*1>)(C(P(dt #13))(P(vb #14))(P(pp #15)(SU(dt #16)(n #17))(SU(dt #18)(pr #19)))))\t\u05db\u05df \u05d0\u05ea\u05df \u05d0\u05ea \u05e6\u05d3\u05e7\u05d9\u05d4\u05d5 \u05de\u05dc\u05da \u05d9\u05d4\u05d5\u05d3\u05d4 \u05d5 \u05d0\u05ea \u05e9\u05c2\u05e8\u05d9\u05d5 \u05d5 \u05d0\u05ea \u05e9\u05c1\u05d0\u05e8\u05d9\u05ea \u05d9\u05e8\u05d5\u05e9\u05c1\u05dc\u05dd \u05d4 \u05e0\u05e9\u05c1\u05d0\u05e8\u05d9\u05dd \u05d1  \u05d0\u05e8\u05e5 \u05d4 \u05d6\u05d0\u05ea \u05d5 \u05d4 \u05d9\u05e9\u05c1\u05d1\u05d9\u05dd \u05d1 \u05d0\u05e8\u05e5 \u05de\u05e6\u05e8\u05d9\u05dd \r\n",
        " JER 26,15\t(S(C(P(av #0))(P(vb #1))(P(vb #2)))(C(*1 P(cj #3)(cj #8))<*1>(P(SU(n #9))(SU(aj #10)))(P(pr #11))(P(vb #12))(P(pp #13)(cj #14)(SU(pp #15)(SU(dt #16)(n #17))(SU(dt #18)(pr #19)))(cj #20)(SU(pp #21)(vb #22))))(C(P(cj #4))(P(vb #5))(P(pr #6))(P(pp #7))))\t\u05d0\u05da \u05d9\u05d3\u05e2 \u05ea\u05d3\u05e2\u05d5 \u05db\u05d9 \u05d0\u05dd \u05de\u05de\u05ea\u05d9\u05dd \u05d0\u05ea\u05dd \u05d0\u05ea\u05d9 \u05db\u05d9 \u05d3\u05dd \u05e0\u05e7\u05d9 \u05d0\u05ea\u05dd \u05e0\u05ea\u05e0\u05d9\u05dd \u05e2\u05dc\u05d9\u05db\u05dd \u05d5 \u05d0\u05dc \u05d4 \u05e2\u05d9\u05e8 \u05d4 \u05d6\u05d0\u05ea \u05d5 \u05d0\u05dc \u05d9\u05e9\u05c1\u05d1\u05d9\u05d4 \r\n",
        " JER 29,08\t(S(C(P(ng #0))(P(vb #1))(P(pp #2))(*1 P(n #3)(cj #7)(vb #8))<*1>)(C(P(cj #4))(P(pp #5)(n #6))))\t\u05d0\u05dc \u05d9\u05e9\u05c1\u05d9\u05d0\u05d5 \u05dc\u05db\u05dd \u05e0\u05d1\u05d9\u05d0\u05d9\u05db\u05dd \u05d0\u05e9\u05c1\u05e8 \u05d1 \u05e7\u05e8\u05d1\u05db\u05dd \u05d5 \u05e7\u05e1\u05de\u05d9\u05db\u05dd \r\n",
        " JER 29,16\t(S(C(P(cj #0))(P(av #1))(P(vb #2))(P(n #3))(*1 P(pp #4)(dt #5)(n #6)(cj #12)(pp #13)(SU(n #14))(SU(dt #15)(n #16))(n #24))<*1><*1>)(C(P(dt #7))(P(vb #8))(P(pp #9)(SU(n #10))(SU(n #11))))(C(P(dt #17))(P(vb #18))(P(pp #19)(SU(dt #20)(n #21))(SU(dt #22)(pr #23))))(C(P(cj #25))(P(ng #26))(P(vb #27))(P(pp #28))(P(pp #29)(dt #30)(n #31))))\t\u05db\u05d9 \u05db\u05d4 \u05d0\u05de\u05e8 \u05d9\u05d4\u05d5\u05d4 \u05d0\u05dc \u05d4 \u05de\u05dc\u05da \u05d4 \u05d9\u05d5\u05e9\u05c1\u05d1 \u05d0\u05dc \u05db\u05e1\u05d0 \u05d3\u05d5\u05d3 \u05d5 \u05d0\u05dc \u05db\u05dc \u05d4 \u05e2\u05dd \u05d4 \u05d9\u05d5\u05e9\u05c1\u05d1 \u05d1  \u05e2\u05d9\u05e8 \u05d4 \u05d6\u05d0\u05ea \u05d0\u05d7\u05d9\u05db\u05dd \u05d0\u05e9\u05c1\u05e8 \u05dc\u05d0 \u05d9\u05e6\u05d0\u05d5 \u05d0\u05ea\u05db\u05dd \u05d1  \u05d2\u05d5\u05dc\u05d4 \r\n",
        " JER 29,25\t(S(C(P(n #0)(cj #1))(P(pr #2))(P(vb #3))(P(pp #4)(n #5))(P(n #6))(*1 P(pp #7)(SU(n #8))(SU(dt #9)(n #10))(cj #14)(pp #15)(n #16)(n #17)(n #18)(dt #19)(n #20)(cj #21)(pp #22)(SU(n #23))(SU(dt #24)(n #25)))<*1>)(C(P(cj #11))(P(pp #12)(n #13)))(C(P(pp #26)(vb #27))))\t\u05d9\u05e2\u05df \u05d0\u05e9\u05c1\u05e8 \u05d0\u05ea\u05d4 \u05e9\u05c1\u05dc\u05d7\u05ea \u05d1 \u05e9\u05c1\u05de\u05db\u05d4 \u05e1\u05e4\u05e8\u05d9\u05dd \u05d0\u05dc \u05db\u05dc \u05d4 \u05e2\u05dd \u05d0\u05e9\u05c1\u05e8 \u05d1 \u05d9\u05e8\u05d5\u05e9\u05c1\u05dc\u05dd \u05d5 \u05d0\u05dc \u05e6\u05e4\u05e0\u05d9\u05d4 \u05d1\u05df \u05de\u05e2\u05e9\u05c2\u05d9\u05d4 \u05d4 \u05db\u05d4\u05df \u05d5 \u05d0\u05dc \u05db\u05dc \u05d4 \u05db\u05d4\u05e0\u05d9\u05dd \u05dc \u05d0\u05de\u05e8 \r\n",
        " JER 32,29\t(S(C(P(cj #0))(P(vb #1))(*1 P(pp #2)(SU(dt #3)(n #4))(SU(dt #5)(pr #6))(cj #12)(pp #13)(dt #14)(n #15))(P(pp #7)(dt #8)(n #9))<*1>)(C(P(cj #10))(P(vb #11)))(C(P(cj #16))(P(vb #17))(P(pp #18)(n #19))(P(pp #20)(dt #21)(n #22)))(C(P(cj #23))(P(vb #24))(P(n #25))(P(pp #26)(SU(n #27))(SU(aj #28))))(C(P(pp #29)(vb #30))))\t\u05d5 \u05d4\u05e6\u05d9\u05ea\u05d5 \u05d0\u05ea \u05d4 \u05e2\u05d9\u05e8 \u05d4 \u05d6\u05d0\u05ea \u05d1  \u05d0\u05e9\u05c1 \u05d5 \u05e9\u05c2\u05e8\u05e4\u05d5\u05d4 \u05d5 \u05d0\u05ea \u05d4 \u05d1\u05ea\u05d9\u05dd \u05d0\u05e9\u05c1\u05e8 \u05e7\u05d8\u05e8\u05d5 \u05e2\u05dc \u05d2\u05d2\u05d5\u05ea\u05d9\u05d4\u05dd \u05dc  \u05d1\u05e2\u05dc \u05d5 \u05d4\u05e1\u05db\u05d5 \u05e0\u05e1\u05db\u05d9\u05dd \u05dc \u05d0\u05dc\u05d4\u05d9\u05dd \u05d0\u05d7\u05e8\u05d9\u05dd \u05dc\u05de\u05e2\u05df \u05d4\u05db\u05e2\u05e1\u05e0\u05d9 \r\n",
        " JER 32,30\t(S(C(P(cj #0))(P(SU(pp #1)(n #2))(cj #3)(SU(pp #4)(n #5)))(P(vb #6))(P(pp #7))(P(SU(dt #8)(n #9))(SU(dt #10)(pr #11)))(*1 P(pp #12)(pp #13)(dt #14)(n #15)(cj #19)(pp #20)(SU(dt #21)(n #22))(SU(dt #23)(pr #24)))<*1>)(C(P(cj #16))(P(vb #17))(P(pp #18)))(C(P(pp #25)(vb #26))(P(pp #27)(pp #28)(n #29)))(C(P(pp #30)(SU(n #31))(SU(SU(SU(n #32))(SU(SU(n #33))(SU(n #34))))(cj #35)(SU(SU(n #36))(SU(n #37))))))(C(P(cj #38))(P(vb #39))(P(SU(SU(pr #42))(SU(SU(n #43)))(SU(SU(n #44)))(SU(SU(n #45))(cj #46)(SU(n #47))))(cj #48)(SU(SU(SU(n #49))(SU(n #50)))(cj #51)(SU(SU(vb #52))(SU(n #53))))))(C(P(pp #40)(vb #41))))\t\u05db\u05d9 \u05e2\u05dc \u05d0\u05e4\u05d9 \u05d5 \u05e2\u05dc \u05d7\u05de\u05ea\u05d9 \u05d4\u05d9\u05ea\u05d4 \u05dc\u05d9 \u05d4 \u05e2\u05d9\u05e8 \u05d4 \u05d6\u05d0\u05ea \u05dc \u05de\u05df \u05d4 \u05d9\u05d5\u05dd \u05d0\u05e9\u05c1\u05e8 \u05d1\u05e0\u05d5 \u05d0\u05d5\u05ea\u05d4 \u05d5 \u05e2\u05d3 \u05d4 \u05d9\u05d5\u05dd \u05d4 \u05d6\u05d4 \u05dc \u05d4\u05e1\u05d9\u05e8\u05d4 \u05de \u05e2\u05dc \u05e4\u05e0\u05d9 \u05e2\u05dc \u05db\u05dc \u05e8\u05e2\u05ea \u05d1\u05e0\u05d9 \u05d9\u05e9\u05c2\u05e8\u05d0\u05dc \u05d5 \u05d1\u05e0\u05d9 \u05d9\u05d4\u05d5\u05d3\u05d4 \u05d0\u05e9\u05c1\u05e8 \u05e2\u05e9\u05c2\u05d5 \u05dc \u05d4\u05db\u05e2\u05e1\u05e0\u05d9 \u05d4\u05de\u05d4 \u05de\u05dc\u05db\u05d9\u05d4\u05dd \u05e9\u05c2\u05e8\u05d9\u05d4\u05dd \u05db\u05d4\u05e0\u05d9\u05d4\u05dd \u05d5 \u05e0\u05d1\u05d9\u05d0\u05d9\u05d4\u05dd \u05d5 \u05d0\u05d9\u05e9\u05c1 \u05d9\u05d4\u05d5\u05d3\u05d4 \u05d5 \u05d9\u05e9\u05c1\u05d1\u05d9 \u05d9\u05e8\u05d5\u05e9\u05c1\u05dc\u05dd \r\n",
        " JER 33,10\t(S(*1 C(P(n #0))(P(vb #1))(P(pp #2)(SU(dt #3)(n #4))(SU(dt #5)(pr #6)))(P(SU(pp #10)(SU(n #11))(SU(n #12)))(cj #13)(SU(pp #14)(SU(n #15))(SU(n #16)))))(C(P(cj #7))(P(pr #8))(P(vb #9)))<*1>(C(P(dt #17))(P(vb #18)))(C(P(pp #19)(n #20))(P(n #21)))(C(P(cj #22))(P(pp #23)(n #24))(P(vb #25)))(C(P(cj #26))(P(pp #27)(n #28))(P(n #29)))(C(P(SU(SU(SU(n #30))(SU(n #31)))(cj #32)(SU(SU(n #33))(SU(n #34)))(SU(SU(n #35))(SU(n #36)))(cj #37)(SU(SU(n #38))(SU(n #39))))(SU(SU(n #40))(SU(vb #41)))))(C(P(vb #42))(P(n #43))(P(SU(n #44))(SU(n #45)))))\t\u05e2\u05d5\u05d3 \u05d9\u05e9\u05c1\u05de\u05e2 \u05d1  \u05de\u05e7\u05d5\u05dd \u05d4 \u05d6\u05d4 \u05d0\u05e9\u05c1\u05e8 \u05d0\u05ea\u05dd \u05d0\u05de\u05e8\u05d9\u05dd \u05d1 \u05e2\u05e8\u05d9 \u05d9\u05d4\u05d5\u05d3\u05d4 \u05d5 \u05d1 \u05d7\u05e6\u05d5\u05ea \u05d9\u05e8\u05d5\u05e9\u05c1\u05dc\u05dd \u05d4 \u05e0\u05e9\u05c1\u05de\u05d5\u05ea \u05de \u05d0\u05d9\u05df \u05d0\u05d3\u05dd \u05d5 \u05de \u05d0\u05d9\u05df \u05d9\u05d5\u05e9\u05c1\u05d1 \u05d5 \u05de \u05d0\u05d9\u05df \u05d1\u05d4\u05de\u05d4 \u05e7\u05d5\u05dc \u05e9\u05c2\u05e9\u05c2\u05d5\u05df \u05d5 \u05e7\u05d5\u05dc \u05e9\u05c2\u05de\u05d7\u05d4 \u05e7\u05d5\u05dc \u05d7\u05ea\u05df \u05d5 \u05e7\u05d5\u05dc \u05db\u05dc\u05d4 \u05e7\u05d5\u05dc \u05d0\u05de\u05e8\u05d9\u05dd \u05de\u05d1\u05d0\u05d9\u05dd \u05ea\u05d5\u05d3\u05d4 \u05d1\u05d9\u05ea \u05d9\u05d4\u05d5\u05d4 \r\n",
        " JER 33,12\t(S(C(P(n #0))(P(vb #1))(*1 P(pp #2)(SU(dt #3)(n #4))(SU(dt #5)(pr #6))(cj #15)(pp #16)(SU(n #17))(SU(n #18)))<*1>(P(SU(n #19))(SU(vb #20))))(C(P(dt #7))(P(aj #8)))(C(P(pp #9)(n #10))(P(n #11)(cj #12)(pp #13)(n #14)))(C(P(vb #21))(P(n #22))))\t\u05e2\u05d5\u05d3 \u05d9\u05d4\u05d9\u05d4 \u05d1  \u05de\u05e7\u05d5\u05dd \u05d4 \u05d6\u05d4 \u05d4 \u05d7\u05e8\u05d1 \u05de \u05d0\u05d9\u05df \u05d0\u05d3\u05dd \u05d5 \u05e2\u05d3 \u05d1\u05d4\u05de\u05d4 \u05d5 \u05d1 \u05db\u05dc \u05e2\u05e8\u05d9\u05d5 \u05e0\u05d5\u05d4 \u05e8\u05e2\u05d9\u05dd \u05de\u05e8\u05d1\u05e6\u05d9\u05dd \u05e6\u05d0\u05df \r\n",
        " JER 35,05\t(S(C(P(cj #0))(P(vb #1))(P(pp #2)(SU(n #3))(SU(SU(n #4))(SU(SU(n #5))(SU(dt #6)(aj #7)))))(*1 P(n #8)(cj #11)(n #12))<*1>)(C(P(aj #9))(P(n #10))))\t\u05d5 \u05d0\u05ea\u05df \u05dc \u05e4\u05e0\u05d9 \u05d1\u05e0\u05d9 \u05d1\u05d9\u05ea \u05d4 \u05e8\u05db\u05d1\u05d9\u05dd \u05d2\u05d1\u05e2\u05d9\u05dd \u05de\u05dc\u05d0\u05d9\u05dd \u05d9\u05d9\u05df \u05d5 \u05db\u05e1\u05d5\u05ea \r\n",
        " JER 38,04\t(S(C(P(cj #0))(P(pp #1)(av #2))(P(pr #3))(P(vb #4))(*1 P(pp #5)(SU(n #6))(SU(SU(n #7))(SU(dt #8)(n #9)))(cj #17)(pp #18)(SU(n #19))(SU(SU(n #20))(SU(dt #21)(n #22))))<*1>)(C(P(dt #10))(P(vb #11))(P(pp #12)(SU(dt #13)(n #14))(SU(dt #15)(pr #16))))(C(P(pp #23)(vb #24))(P(pp #25))(P(pp #26)(SU(dt #27)(n #28))(SU(dt #29)(pr #30)))))\t\u05db\u05d9 \u05e2\u05dc \u05db\u05df \u05d4\u05d5\u05d0 \u05de\u05e8\u05e4\u05d0 \u05d0\u05ea \u05d9\u05d3\u05d9 \u05d0\u05e0\u05e9\u05c1\u05d9 \u05d4 \u05de\u05dc\u05d7\u05de\u05d4 \u05d4 \u05e0\u05e9\u05c1\u05d0\u05e8\u05d9\u05dd \u05d1  \u05e2\u05d9\u05e8 \u05d4 \u05d6\u05d0\u05ea \u05d5 \u05d0\u05ea \u05d9\u05d3\u05d9 \u05db\u05dc \u05d4 \u05e2\u05dd \u05dc \u05d3\u05d1\u05e8 \u05d0\u05dc\u05d9\u05d4\u05dd \u05db  \u05d3\u05d1\u05e8\u05d9\u05dd \u05d4 \u05d0\u05dc\u05d4 \r\n",
        " JER 39,03\t(S(C(P(cj #0))(P(vb #1))(*1 P(SU(n #2))(SU(SU(n #3))(SU(SU(n #4))(SU(n #5))))(SU(n #12))(SU(SU(n #13)))(SU(n #14))(SU(n #15))(SU(n #16))(n #17)(n #18)(n #19)(cj #20)(SU(n #21))(SU(SU(n #22))(SU(SU(n #23))(SU(n #24)(n #25)))))<*1>)(C(P(cj #6))(P(vb #7))(P(pp #8)(SU(n #9))(SU(dt #10)(n #11)))))\t\u05d5 \u05d9\u05d1\u05d0\u05d5 \u05db\u05dc \u05e9\u05c2\u05e8\u05d9 \u05de\u05dc\u05da \u05d1\u05d1\u05dc \u05d5 \u05d9\u05e9\u05c1\u05d1\u05d5 \u05d1 \u05e9\u05c1\u05e2\u05e8 \u05d4 \u05ea\u05d5\u05da \u05e0\u05e8\u05d2\u05dc \u05e9\u05c2\u05e8\u05be\u05d0\u05e6\u05e8 \u05e1\u05de\u05d2\u05e8\u05be\u05e0\u05d1\u05d5 \u05e9\u05c2\u05e8\u05be\u05e1\u05db\u05d9\u05dd \u05e8\u05d1 \u05e1\u05e8\u05d9\u05e1 \u05e0\u05e8\u05d2\u05dc \u05e9\u05c2\u05e8\u05be\u05d0\u05e6\u05e8 \u05e8\u05d1 \u05de\u05d2 \u05d5 \u05db\u05dc \u05e9\u05c1\u05d0\u05e8\u05d9\u05ea \u05e9\u05c2\u05e8\u05d9 \u05de\u05dc\u05da \u05d1\u05d1\u05dc \r\n",
        " JER 39,09\t(S(C(P(cj #0))(*1 P(pp #1)(SU(n #2))(SU(dt #3)(n #4))(cj #10)(pp #11)(dt #12)(vb #13)(cj #17)(pp #18)(SU(n #19))(SU(dt #20)(n #21)))<*1><*1>(P(vb #24))(P(n #25)(n #26)(n #27))(P(n #28)))(C(P(dt #5))(P(vb #6))(P(pp #7)(dt #8)(n #9)))(C(P(cj #14))(P(vb #15))(P(pp #16)))(C(P(dt #22))(P(vb #23))))\t\u05d5 \u05d0\u05ea \u05d9\u05ea\u05e8 \u05d4 \u05e2\u05dd \u05d4 \u05e0\u05e9\u05c1\u05d0\u05e8\u05d9\u05dd \u05d1  \u05e2\u05d9\u05e8 \u05d5 \u05d0\u05ea \u05d4 \u05e0\u05e4\u05dc\u05d9\u05dd \u05d0\u05e9\u05c1\u05e8 \u05e0\u05e4\u05dc\u05d5 \u05e2\u05dc\u05d9\u05d5 \u05d5 \u05d0\u05ea \u05d9\u05ea\u05e8 \u05d4 \u05e2\u05dd \u05d4 \u05e0\u05e9\u05c1\u05d0\u05e8\u05d9\u05dd \u05d4\u05d2\u05dc\u05d4 \u05e0\u05d1\u05d5\u05d6\u05e8\u05be\u05d0\u05d3\u05df \u05e8\u05d1 \u05d8\u05d1\u05d7\u05d9\u05dd \u05d1\u05d1\u05dc \r\n",
        " JER 40,07\t(S(C(P(cj #0))(P(vb #1))(*1 P(SU(n #2))(SU(SU(n #3))(SU(dt #4)(n #5)))(SU(pr #10))(cj #11)(SU(n #12)))<*1>)(C(P(cj #6))(P(pp #7)(dt #8)(n #9)))(C(P(cj #13))(P(vb #14))(P(SU(n #15))(SU(n #16)))(P(pp #17)(n #18)(SU(n #19))(SU(n #20)))(P(pp #21)(dt #22)(n #23)))(C(P(cj #24))(P(cj #25))(P(vb #26))(P(pp #27))(P(SU(n #28))(cj #29)(SU(SU(n #30)))(cj #31)(SU(n #32))(cj #33)(pp #34)(SU(n #35))(SU(dt #36)(n #37))))(C(P(pp #38)(cj #39))(P(ng #40))(P(vb #41))(P(n #42))))\t\u05d5 \u05d9\u05e9\u05c1\u05de\u05e2\u05d5 \u05db\u05dc \u05e9\u05c2\u05e8\u05d9 \u05d4 \u05d7\u05d9\u05dc\u05d9\u05dd \u05d0\u05e9\u05c1\u05e8 \u05d1  \u05e9\u05c2\u05d3\u05d4 \u05d4\u05de\u05d4 \u05d5 \u05d0\u05e0\u05e9\u05c1\u05d9\u05d4\u05dd \u05db\u05d9 \u05d4\u05e4\u05e7\u05d9\u05d3 \u05de\u05dc\u05da \u05d1\u05d1\u05dc \u05d0\u05ea \u05d2\u05d3\u05dc\u05d9\u05d4\u05d5 \u05d1\u05df \u05d0\u05d7\u05d9\u05e7\u05dd \u05d1  \u05d0\u05e8\u05e5 \u05d5 \u05db\u05d9 \u05d4\u05e4\u05e7\u05d9\u05d3 \u05d0\u05ea\u05d5 \u05d0\u05e0\u05e9\u05c1\u05d9\u05dd \u05d5 \u05e0\u05e9\u05c1\u05d9\u05dd \u05d5 \u05d8\u05e3 \u05d5 \u05de \u05d3\u05dc\u05ea \u05d4 \u05d0\u05e8\u05e5 \u05de \u05d0\u05e9\u05c1\u05e8 \u05dc\u05d0 \u05d4\u05d2\u05dc\u05d5 \u05d1\u05d1\u05dc\u05d4 \r\n",
        " JER 41,03\t(S(C(P(cj #0))(*1 P(pp #1)(SU(n #2))(SU(dt #3)(aj #4))(cj #13)(pp #14)(dt #15)(n #16)(pp #20)(SU(n #21))(SU(dt #22)(n #23)))<*1><*1>(P(vb #24))(P(n #25)))(C(P(cj #5))(P(vb #6))(P(pp #7)(pp #8)(n #9)(pp #10)(dt #11)(n #12)))(C(P(cj #17))(P(vb #18))(P(av #19))))\t\u05d5 \u05d0\u05ea \u05db\u05dc \u05d4 \u05d9\u05d4\u05d5\u05d3\u05d9\u05dd \u05d0\u05e9\u05c1\u05e8 \u05d4\u05d9\u05d5 \u05d0\u05ea\u05d5 \u05d0\u05ea \u05d2\u05d3\u05dc\u05d9\u05d4\u05d5 \u05d1  \u05de\u05e6\u05e4\u05d4 \u05d5 \u05d0\u05ea \u05d4 \u05db\u05e9\u05c2\u05d3\u05d9\u05dd \u05d0\u05e9\u05c1\u05e8 \u05e0\u05de\u05e6\u05d0\u05d5 \u05e9\u05c1\u05dd \u05d0\u05ea \u05d0\u05e0\u05e9\u05c1\u05d9 \u05d4 \u05de\u05dc\u05d7\u05de\u05d4 \u05d4\u05db\u05d4 \u05d9\u05e9\u05c1\u05de\u05e2\u05d0\u05dc \r\n",
        " JER 41,10\t(S(C(P(cj #0))(P(vb #1))(P(n #2))(*1 P(pp #3)(SU(n #4))(SU(SU(n #5))(SU(dt #6)(n #7)))(SU(pp #12)(SU(n #13))(SU(dt #14)(n #15)))(cj #16)(SU(pp #17)(SU(n #18))(SU(dt #19)(n #20))))<*1>)(C(P(cj #8))(P(pp #9)(dt #10)(n #11)))(C(P(dt #21))(P(vb #22))(P(pp #23)(dt #24)(n #25)))(C(P(cj #26))(P(vb #27))(P(n #28)(n #29)(n #30))(P(pp #31)(n #32)(SU(n #33))(SU(n #34)))))\t\u05d5 \u05d9\u05e9\u05c1\u05d1 \u05d9\u05e9\u05c1\u05de\u05e2\u05d0\u05dc \u05d0\u05ea \u05db\u05dc \u05e9\u05c1\u05d0\u05e8\u05d9\u05ea \u05d4 \u05e2\u05dd \u05d0\u05e9\u05c1\u05e8 \u05d1  \u05de\u05e6\u05e4\u05d4 \u05d0\u05ea \u05d1\u05e0\u05d5\u05ea \u05d4 \u05de\u05dc\u05da \u05d5 \u05d0\u05ea \u05db\u05dc \u05d4 \u05e2\u05dd \u05d4 \u05e0\u05e9\u05c1\u05d0\u05e8\u05d9\u05dd \u05d1  \u05de\u05e6\u05e4\u05d4 \u05d0\u05e9\u05c1\u05e8 \u05d4\u05e4\u05e7\u05d9\u05d3 \u05e0\u05d1\u05d5\u05d6\u05e8\u05d0\u05d3\u05df \u05e8\u05d1 \u05d8\u05d1\u05d7\u05d9\u05dd \u05d0\u05ea \u05d2\u05d3\u05dc\u05d9\u05d4\u05d5 \u05d1\u05df \u05d0\u05d7\u05d9\u05e7\u05dd \r\n",
        " JER 42,08\t(S(C(P(cj #0))(P(vb #1))(*1 P(pp #2)(n #3)(SU(n #4))(SU(n #5))(cj #6)(pp #7)(SU(n #8))(SU(SU(n #9))(SU(dt #10)(n #11)))(cj #14)(pp #15)(SU(n #16))(SU(dt #17)(n #18))(pp #19)(pp #20)(aj #21)(cj #22)(pp #23)(aj #24))<*1>)(C(P(cj #12))(P(pp #13))))\t\u05d5 \u05d9\u05e7\u05e8\u05d0 \u05d0\u05dc \u05d9\u05d5\u05d7\u05e0\u05df \u05d1\u05df \u05e7\u05e8\u05d7 \u05d5 \u05d0\u05dc \u05db\u05dc \u05e9\u05c2\u05e8\u05d9 \u05d4 \u05d7\u05d9\u05dc\u05d9\u05dd \u05d0\u05e9\u05c1\u05e8 \u05d0\u05ea\u05d5 \u05d5 \u05dc \u05db\u05dc \u05d4 \u05e2\u05dd \u05dc \u05de \u05e7\u05d8\u05df \u05d5 \u05e2\u05d3 \u05d2\u05d3\u05d5\u05dc \r\n",
        " JER 43,04\t(S(C(P(cj #0))(P(vb #1))(P(n #2)(SU(n #3))(SU(n #4))(cj #5)(SU(n #6))(SU(SU(n #7))(SU(dt #8)(n #9))))(P(pp #10)(SU(n #11))(SU(SU(n #12))(SU(n #13))))(*1 P(SU(pp #28)(dt #29)(n #30))(cj #31)(SU(SU(pp #32)(dt #33)(n #34)))(cj #35)(SU(SU(pp #36)(dt #37)(n #38)))(SU(cj #39)(SU(pp #40)(SU(n #41))(SU(dt #42)(n #43))))(cj #44)(SU(pp #45)(SU(n #46))(SU(dt #47)(n #48)))(cj #60)(pp #61)(n #62)(dt #63)(n #64)(cj #65)(pp #66)(n #67)(n #68)(n #69))<*1>)(C(P(cj #14))(P(vb #15))(P(pp #16)(SU(n #17))(SU(dt #18)(n #19))))(C(P(cj #20))(P(vb #21))(P(av #22)))(C(P(pp #23)(vb #24))(P(pp #25)(SU(n #26))(SU(n #27))))(C(P(cj #49))(P(vb #50))(P(n #51)(n #52)(n #53))(P(pp #54)(n #55)(SU(n #56))(SU(n #57))(SU(n #58))(SU(n #59)))))\t\u05d5 \u05d9\u05e7\u05d7 \u05d9\u05d5\u05d7\u05e0\u05df \u05d1\u05df \u05e7\u05e8\u05d7 \u05d5 \u05db\u05dc \u05e9\u05c2\u05e8\u05d9 \u05d4 \u05d7\u05d9\u05dc\u05d9\u05dd \u05d0\u05ea \u05db\u05dc \u05e9\u05c1\u05d0\u05e8\u05d9\u05ea \u05d9\u05d4\u05d5\u05d3\u05d4 \u05d0\u05e9\u05c1\u05e8 \u05e9\u05c1\u05d1\u05d5 \u05de \u05db\u05dc \u05d4 \u05d2\u05d5\u05d9\u05dd \u05d0\u05e9\u05c1\u05e8 \u05e0\u05d3\u05d7\u05d5 \u05e9\u05c1\u05dd \u05dc \u05d2\u05d5\u05e8 \u05d1 \u05d0\u05e8\u05e5 \u05d9\u05d4\u05d5\u05d3\u05d4 \u05d0\u05ea \u05d4 \u05d2\u05d1\u05e8\u05d9\u05dd \u05d5 \u05d0\u05ea \u05d4 \u05e0\u05e9\u05c1\u05d9\u05dd \u05d5 \u05d0\u05ea \u05d4 \u05d8\u05e3 \u05d5 \u05d0\u05ea \u05d1\u05e0\u05d5\u05ea \u05d4 \u05de\u05dc\u05da \u05d5 \u05d0\u05ea \u05db\u05dc \u05d4 \u05e0\u05e4\u05e9\u05c1 \u05d0\u05e9\u05c1\u05e8 \u05d4\u05e0\u05d9\u05d7 \u05e0\u05d1\u05d5\u05d6\u05e8\u05d0\u05d3\u05df \u05e8\u05d1 \u05d8\u05d1\u05d7\u05d9\u05dd \u05d0\u05ea \u05d2\u05d3\u05dc\u05d9\u05d4\u05d5 \u05d1\u05df \u05d0\u05d7\u05d9\u05e7\u05dd \u05d1\u05df \u05e9\u05c1\u05e4\u05df \u05d5 \u05d0\u05ea \u05d9\u05e8\u05de\u05d9\u05d4\u05d5 \u05d4 \u05e0\u05d1\u05d9\u05d0 \u05d5 \u05d0\u05ea \u05d1\u05e8\u05d5\u05da \u05d1\u05df \u05e0\u05e8\u05d9\u05d4\u05d5 \r\n",
        " JER 44,15\t(S(C(P(cj #0))(P(vb #1))(P(pp #2)(n #3))(*1 P(SU(n #4))(SU(dt #5)(n #6))(cj #15)(SU(n #16))(SU(dt #17)(n #18))(SU(n #21))(SU(aj #22))(cj #23)(SU(n #24))(SU(dt #25)(n #26)))<*1><*1>)(C(P(dt #7))(P(vb #8)))(C(P(cj #9))(P(vb #10))(P(n #11))(P(pp #12)(SU(n #13))(SU(aj #14))))(C(P(dt #19))(P(vb #20)))(C(P(dt #27))(P(vb #28))(P(pp #29)(SU(n #30))(SU(n #31)))(P(pp #32)(n #33)))(C(P(pp #34)(vb #35))))\t\u05d5 \u05d9\u05e2\u05e0\u05d5 \u05d0\u05ea \u05d9\u05e8\u05de\u05d9\u05d4\u05d5 \u05db\u05dc \u05d4 \u05d0\u05e0\u05e9\u05c1\u05d9\u05dd \u05d4 \u05d9\u05d3\u05e2\u05d9\u05dd \u05db\u05d9 \u05de\u05e7\u05d8\u05e8\u05d5\u05ea \u05e0\u05e9\u05c1\u05d9\u05d4\u05dd \u05dc \u05d0\u05dc\u05d4\u05d9\u05dd \u05d0\u05d7\u05e8\u05d9\u05dd \u05d5 \u05db\u05dc \u05d4 \u05e0\u05e9\u05c1\u05d9\u05dd \u05d4 \u05e2\u05de\u05d3\u05d5\u05ea \u05e7\u05d4\u05dc \u05d2\u05d3\u05d5\u05dc \u05d5 \u05db\u05dc \u05d4 \u05e2\u05dd \u05d4 \u05d9\u05e9\u05c1\u05d1\u05d9\u05dd \u05d1 \u05d0\u05e8\u05e5 \u05de\u05e6\u05e8\u05d9\u05dd \u05d1 \u05e4\u05ea\u05e8\u05d5\u05e1 \u05dc \u05d0\u05de\u05e8 \r\n",
        " JER 44,26\t(S(C(P(cj #0))(P(vb #1))(P(n #2))(P(n #3)))(*1 C(P(vb #4))(P(pp #5)(SU(n #6))(SU(SU(n #7))(SU(SU(n #8))(SU(n #9)))))(P(pp #11)(SU(n #12))(SU(SU(n #13))(SU(n #14)))))(C(P(vb #10)))<*1>)\t\u05d0\u05dd \u05d9\u05d4\u05d9\u05d4 \u05e2\u05d5\u05d3 \u05e9\u05c1\u05de\u05d9 \u05e0\u05e7\u05e8\u05d0 \u05d1 \u05e4\u05d9 \u05db\u05dc \u05d0\u05d9\u05e9\u05c1 \u05d9\u05d4\u05d5\u05d3\u05d4 \u05d0\u05de\u05e8 \u05d1 \u05db\u05dc \u05d0\u05e8\u05e5 \u05de\u05e6\u05e8\u05d9\u05dd \r\n",
        " JER 51,60\t(S(C(P(cj #0))(P(vb #1))(P(n #2))(*1 P(pp #3)(SU(n #4))(SU(dt #5)(n #6))(pp #14)(SU(n #15))(SU(SU(dt #16)(n #17))(SU(dt #18)(pr #19))))<*1>(P(pp #11)(SU(n #12))(SU(n #13))))(C(P(cj #7))(P(vb #8))(P(pp #9)(n #10)))(C(P(dt #20))(P(vb #21))(P(pp #22)(n #23))))\t\u05d5 \u05d9\u05db\u05ea\u05d1 \u05d9\u05e8\u05de\u05d9\u05d4\u05d5 \u05d0\u05ea \u05db\u05dc \u05d4 \u05e8\u05e2\u05d4 \u05d0\u05e9\u05c1\u05e8 \u05ea\u05d1\u05d5\u05d0 \u05d0\u05dc \u05d1\u05d1\u05dc \u05d0\u05dc \u05e1\u05e4\u05e8 \u05d0\u05d7\u05d3 \u05d0\u05ea \u05db\u05dc \u05d4 \u05d3\u05d1\u05e8\u05d9\u05dd \u05d4 \u05d0\u05dc\u05d4 \u05d4 \u05db\u05ea\u05d1\u05d9\u05dd \u05d0\u05dc \u05d1\u05d1\u05dc \r\n",
        " JER 52,03\t(S(C(P(cj #0))(P(vb #1))(*1 P(pp #2)(SU(dt #3)(n #4))(SU(dt #5)(aj #6))(pp #9)(SU(dt #10)(n #11))(SU(dt #12)(aj #13))(pp #14)(dt #15)(n #16)(pp #17)(dt #18)(n #19))<*1>)(C(P(pp #7)(vb #8)))(C(P(pp #20)(SU(dt #21)(n #22))(SU(dt #23)(aj #24))(pp #25)(n #26)(pp #27)(dt #28)(n #29))))\t\u05d5 \u05d9\u05d4\u05d9 \u05d1  \u05e9\u05c1\u05e0\u05d4 \u05d4 \u05ea\u05e9\u05c1\u05e2\u05d9\u05ea \u05dc \u05de\u05dc\u05db\u05d5 \u05d1  \u05d7\u05d3\u05e9\u05c1 \u05d4 \u05e2\u05e9\u05c2\u05d9\u05e8\u05d9 \u05d1  \u05e2\u05e9\u05c2\u05d5\u05e8 \u05dc  \u05d7\u05d3\u05e9\u05c1 \u05d1  \u05d7\u05d3\u05e9\u05c1 \u05d4 \u05e8\u05d1\u05d9\u05e2\u05d9 \u05d1 \u05ea\u05e9\u05c1\u05e2\u05d4 \u05dc  \u05d7\u05d3\u05e9\u05c1 \r\n",
        " JER 52,15\t(S(C(P(cj #0))(*1 P(pp #1)(SU(n #2))(SU(dt #3)(n #4))(cj #5)(pp #6)(SU(n #7))(SU(dt #8)(n #9))(cj #15)(pp #16)(dt #17)(vb #18)(cj #24)(pp #25)(SU(n #26))(SU(dt #27)(n #28)))<*1><*1>(P(vb #29))(P(n #30)(n #31)(n #32)))(C(P(dt #10))(P(vb #11))(P(pp #12)(dt #13)(n #14)))(C(P(cj #19))(P(vb #20))(P(pp #21)(SU(n #22))(SU(n #23)))))\t\u05d5 \u05de \u05d3\u05dc\u05d5\u05ea \u05d4 \u05e2\u05dd \u05d5 \u05d0\u05ea \u05d9\u05ea\u05e8 \u05d4 \u05e2\u05dd \u05d4 \u05e0\u05e9\u05c1\u05d0\u05e8\u05d9\u05dd \u05d1  \u05e2\u05d9\u05e8 \u05d5 \u05d0\u05ea \u05d4 \u05e0\u05e4\u05dc\u05d9\u05dd \u05d0\u05e9\u05c1\u05e8 \u05e0\u05e4\u05dc\u05d5 \u05d0\u05dc \u05de\u05dc\u05da \u05d1\u05d1\u05dc \u05d5 \u05d0\u05ea \u05d9\u05ea\u05e8 \u05d4 \u05d0\u05de\u05d5\u05df \u05d4\u05d2\u05dc\u05d4 \u05e0\u05d1\u05d5\u05d6\u05e8\u05d0\u05d3\u05df \u05e8\u05d1 \u05d8\u05d1\u05d7\u05d9\u05dd \r\n",
        " JER 52,17\t(S(C(P(cj #0))(*1 P(pp #1)(SU(n #2))(SU(dt #3)(n #4))(cj #9)(SU(pp #10)(dt #11)(n #12))(cj #13)(SU(pp #14)(SU(n #15))(SU(dt #16)(n #17))))<*1>(P(vb #22))(P(n #23)))(C(P(cj #5))(P(pp #6)(SU(n #7))(SU(n #8))))(C(P(cj #18))(P(pp #19)(SU(n #20))(SU(n #21)))))\t\u05d5 \u05d0\u05ea \u05e2\u05de\u05d5\u05d3\u05d9 \u05d4 \u05e0\u05d7\u05e9\u05c1\u05ea \u05d0\u05e9\u05c1\u05e8 \u05dc \u05d1\u05d9\u05ea \u05d9\u05d4\u05d5\u05d4 \u05d5 \u05d0\u05ea \u05d4 \u05de\u05db\u05e0\u05d5\u05ea \u05d5 \u05d0\u05ea \u05d9\u05dd \u05d4 \u05e0\u05d7\u05e9\u05c1\u05ea \u05d0\u05e9\u05c1\u05e8 \u05d1 \u05d1\u05d9\u05ea \u05d9\u05d4\u05d5\u05d4 \u05e9\u05c1\u05d1\u05e8\u05d5 \u05db\u05e9\u05c2\u05d3\u05d9\u05dd \r\n",
        " JER 52,25\t(S(C(P(cj #0))(P(pp #1)(dt #2)(n #3))(P(vb #4))(*1 P(SU(n #5))(SU(n #6))(cj #14)(SU(n #15))(SU(n #16))(pp #17)(SU(vb #18))(SU(SU(n #19))(SU(dt #20)(n #21)))(cj #27)(pp #28)(SU(n #29))(SU(SU(n #30))(SU(dt #31)(n #32)))(cj #39)(SU(n #40))(SU(n #41))(pp #42)(SU(n #43))(SU(dt #44)(n #45)))<*1><*1><*1>)(C(P(cj #7))(P(vb #8))(P(n #9)(pp #10)(SU(n #11))(SU(dt #12)(n #13))))(C(P(cj #22))(P(vb #23))(P(pp #24)(dt #25)(n #26)))(C(P(dt #33))(P(vb #34))(P(pp #35)(SU(n #36))(SU(dt #37)(n #38))))(C(P(dt #46))(P(vb #47))(P(pp #48)(SU(n #49))(SU(dt #50)(n #51)))))\t\u05d5 \u05de\u05df \u05d4 \u05e2\u05d9\u05e8 \u05dc\u05e7\u05d7 \u05e1\u05e8\u05d9\u05e1 \u05d0\u05d7\u05d3 \u05d0\u05e9\u05c1\u05e8 \u05d4\u05d9\u05d4 \u05e4\u05e7\u05d9\u05d3 \u05e2\u05dc \u05d0\u05e0\u05e9\u05c1\u05d9 \u05d4 \u05de\u05dc\u05d7\u05de\u05d4 \u05d5 \u05e9\u05c1\u05d1\u05e2\u05d4 \u05d0\u05e0\u05e9\u05c1\u05d9\u05dd \u05de \u05e8\u05d0\u05d9 \u05e4\u05e0\u05d9 \u05d4 \u05de\u05dc\u05da \u05d0\u05e9\u05c1\u05e8 \u05e0\u05de\u05e6\u05d0\u05d5 \u05d1  \u05e2\u05d9\u05e8 \u05d5 \u05d0\u05ea \u05e1\u05e4\u05e8 \u05e9\u05c2\u05e8 \u05d4 \u05e6\u05d1\u05d0 \u05d4 \u05de\u05e6\u05d1\u05d0 \u05d0\u05ea \u05e2\u05dd \u05d4 \u05d0\u05e8\u05e5 \u05d5 \u05e9\u05c1\u05e9\u05c1\u05d9\u05dd \u05d0\u05d9\u05e9\u05c1 \u05de \u05e2\u05dd \u05d4 \u05d0\u05e8\u05e5 \u05d4 \u05e0\u05de\u05e6\u05d0\u05d9\u05dd \u05d1 \u05ea\u05d5\u05da \u05d4 \u05e2\u05d9\u05e8 \r\n",
        " EZE 12,14\t(S(C(P(cj #0))(*1 P(n #1)(SU(n #4))(cj #5)(SU(SU(n #6))(SU(n #7))))<*1>(P(vb #8))(P(pp #9)(SU(n #10))(SU(n #11))))(C(P(cj #2))(P(n #3))))\t\u05d5 \u05db\u05dc \u05d0\u05e9\u05c1\u05e8 \u05e1\u05d1\u05d9\u05d1\u05ea\u05d9\u05d5 \u05e2\u05d6\u05e8\u05d4 \u05d5 \u05db\u05dc \u05d0\u05d2\u05e4\u05d9\u05d5 \u05d0\u05d6\u05e8\u05d4 \u05dc \u05db\u05dc \u05e8\u05d5\u05d7 \r\n",
        " EZE 36,04\t(S(C(P(av #0))(P(vb #1))(P(SU(n #2))(SU(n #3)))(*1 P(SU(SU(SU(pp #4)(dt #5)(n #6))(cj #7)(SU(pp #8)(dt #9)(n #10)))(pp #11)(SU(SU(dt #12)(n #13))(cj #14)(SU(pp #15)(dt #16)(n #17))))(cj #18)(SU(pp #19)(dt #20)(n #21))(cj #24)(pp #25)(dt #26)(n #27))<*1>)(C(P(dt #22))(P(vb #23)))(C(P(dt #28))(P(vb #29)))(C(P(cj #30))(P(vb #31))(P(SU(pp #32)(n #33))(cj #34)(SU(pp #35)(n #36)))(P(pp #37)(SU(n #38))(SU(dt #39)(n #40))))(C(P(cj #41))(P(pp #42)(n #43))))\t\u05db\u05d4 \u05d0\u05de\u05e8 \u05d0\u05d3\u05e0\u05d9 \u05d9\u05d4\u05d5\u05d4 \u05dc  \u05d4\u05e8\u05d9\u05dd \u05d5 \u05dc  \u05d2\u05d1\u05e2\u05d5\u05ea \u05dc  \u05d0\u05e4\u05d9\u05e7\u05d9\u05dd \u05d5 \u05dc  \u05d2\u05d0\u05d9\u05d5\u05ea \u05d5 \u05dc  \u05d7\u05e8\u05d1\u05d5\u05ea \u05d4 \u05e9\u05c1\u05de\u05de\u05d5\u05ea \u05d5 \u05dc  \u05e2\u05e8\u05d9\u05dd \u05d4 \u05e0\u05e2\u05d6\u05d1\u05d5\u05ea \u05d0\u05e9\u05c1\u05e8 \u05d4\u05d9\u05d5 \u05dc \u05d1\u05d6 \u05d5 \u05dc \u05dc\u05e2\u05d2 \u05dc \u05e9\u05c1\u05d0\u05e8\u05d9\u05ea \u05d4 \u05d2\u05d5\u05d9\u05dd \u05d0\u05e9\u05c1\u05e8 \u05de \u05e1\u05d1\u05d9\u05d1 \r\n",
        " EZE 37,17\t(S(*1 C(P(cj #0))(P(vb #9))(P(pp #10)))(C(P(pp #1)(cj #2))(P(vb #3))(P(pp #4))(P(SU(n #5))(SU(n #6))))(C(P(pp #7)(vb #8)))<*1>)\t\u05d5 \u05db \u05d0\u05e9\u05c1\u05e8 \u05d9\u05d0\u05de\u05e8\u05d5 \u05d0\u05dc\u05d9\u05da \u05d1\u05e0\u05d9 \u05e2\u05de\u05da \u05dc \u05d0\u05de\u05e8 \u05d3\u05d1\u05e8 \u05d0\u05dc\u05d4\u05dd \r\n",
        " EZE 37,19\t(S(C(P(ij #0))(P(pr #1))(P(vb #2))(*1 P(pp #3)(SU(n #4))(SU(n #5))(cj #10)(SU(n #11))(SU(n #12))(n #13))<*1>)(C(P(cj #6))(P(pp #7)(SU(n #8))(SU(n #9)))))\t\u05d4\u05e0\u05d4 \u05d0\u05e0\u05d9 \u05dc\u05e7\u05d7 \u05d0\u05ea \u05e2\u05e5 \u05d9\u05d5\u05e1\u05e3 \u05d0\u05e9\u05c1\u05e8 \u05d1 \u05d9\u05d3 \u05d0\u05e4\u05e8\u05d9\u05dd \u05d5 \u05e9\u05c1\u05d1\u05d8\u05d9 \u05d9\u05e9\u05c2\u05e8\u05d0\u05dc \u05d7\u05d1\u05e8\u05d5 \r\n",
        " EZE 38,04\t(S(C(P(cj #0))(P(vb #1))(*1 P(SU(pp #2))(cj #3)(SU(pp #4)(SU(n #5))(SU(n #6)))(SU(n #7))(cj #8)(SU(n #9))(SU(n #13))(SU(aj #14))(SU(n #15))(cj #16)(SU(n #17)))<*1>)(C(P(SU(aj #10))(SU(n #11)))(P(n #12)))(C(P(SU(vb #18))(SU(n #19)))(P(n #20))))\t\u05d5 \u05d4\u05d5\u05e6\u05d0\u05ea\u05d9 \u05d0\u05d5\u05ea\u05da \u05d5 \u05d0\u05ea \u05db\u05dc \u05d7\u05d9\u05dc\u05da \u05e1\u05d5\u05e1\u05d9\u05dd \u05d5 \u05e4\u05e8\u05e9\u05c1\u05d9\u05dd \u05dc\u05d1\u05e9\u05c1\u05d9 \u05de\u05db\u05dc\u05d5\u05dc \u05db\u05dc\u05dd \u05e7\u05d4\u05dc \u05e8\u05d1 \u05e6\u05e0\u05d4 \u05d5 \u05de\u05d2\u05df \u05ea\u05e4\u05e9\u05c2\u05d9 \u05d7\u05e8\u05d1\u05d5\u05ea \u05db\u05dc\u05dd \r\n",
        " EZE 38,15\t(S(C(P(cj #0))(P(vb #1))(P(pp #2)(n #3)(pp #4)(SU(n #5))(SU(n #6)))(*1 P(pr #7)(cj #8)(SU(n #9))(SU(aj #10))(pp #11)(SU(SU(n #15))(SU(aj #16)))(cj #17)(SU(SU(n #18))(SU(aj #19))))<*1>)(C(P(SU(vb #12))(SU(n #13)))(P(n #14))))\t\u05d5 \u05d1\u05d0\u05ea \u05de \u05de\u05e7\u05d5\u05de\u05da \u05de \u05d9\u05e8\u05db\u05ea\u05d9 \u05e6\u05e4\u05d5\u05df \u05d0\u05ea\u05d4 \u05d5 \u05e2\u05de\u05d9\u05dd \u05e8\u05d1\u05d9\u05dd \u05d0\u05ea\u05da \u05e8\u05db\u05d1\u05d9 \u05e1\u05d5\u05e1\u05d9\u05dd \u05db\u05dc\u05dd \u05e7\u05d4\u05dc \u05d2\u05d3\u05d5\u05dc \u05d5 \u05d7\u05d9\u05dc \u05e8\u05d1 \r\n",
        " EZE 38,20\t(S(C(P(cj #0))(P(vb #1))(P(pp #2)(n #3))(*1 P(SU(SU(n #4))(SU(dt #5)(n #6)))(cj #7)(SU(SU(SU(n #8))(SU(dt #9)(n #10))))(cj #11)(SU(SU(SU(n #12))(SU(dt #13)(n #14))))(cj #15)(SU(SU(n #16))(SU(dt #17)(n #18)))(cj #24)(SU(n #25))(SU(dt #26)(n #27)))<*1>)(C(P(dt #19))(P(vb #20))(P(pp #21)(dt #22)(n #23)))(C(P(cj #28))(P(pp #29)(SU(n #30))(SU(dt #31)(n #32)))))\t\u05d5 \u05e8\u05e2\u05e9\u05c1\u05d5 \u05de \u05e4\u05e0\u05d9 \u05d3\u05d2\u05d9 \u05d4 \u05d9\u05dd \u05d5 \u05e2\u05d5\u05e3 \u05d4 \u05e9\u05c1\u05de\u05d9\u05dd \u05d5 \u05d7\u05d9\u05ea \u05d4 \u05e9\u05c2\u05d3\u05d4 \u05d5 \u05db\u05dc \u05d4 \u05e8\u05de\u05e9\u05c2 \u05d4 \u05e8\u05de\u05e9\u05c2 \u05e2\u05dc \u05d4 \u05d0\u05d3\u05de\u05d4 \u05d5 \u05db\u05dc \u05d4 \u05d0\u05d3\u05dd \u05d0\u05e9\u05c1\u05e8 \u05e2\u05dc \u05e4\u05e0\u05d9 \u05d4 \u05d0\u05d3\u05de\u05d4 \r\n",
        " EZE 39,21\t(S(C(P(cj #0))(P(vb #1))(P(SU(n #2))(SU(dt #3)(n #4)))(*1 P(pp #5)(n #6)(cj #9)(pp #10)(n #11))<*1>)(C(P(cj #7))(P(vb #8)))(C(P(cj #12))(P(vb #13))(P(pp #14))))\t\u05d5 \u05e8\u05d0\u05d5 \u05db\u05dc \u05d4 \u05d2\u05d5\u05d9\u05dd \u05d0\u05ea \u05de\u05e9\u05c1\u05e4\u05d8\u05d9 \u05d0\u05e9\u05c1\u05e8 \u05e2\u05e9\u05c2\u05d9\u05ea\u05d9 \u05d5 \u05d0\u05ea \u05d9\u05d3\u05d9 \u05d0\u05e9\u05c1\u05e8 \u05e9\u05c2\u05de\u05ea\u05d9 \u05d1\u05d4\u05dd \r\n",
        " HOS 02,01\t(S(*1 C(P(pp #0)(n #1))(P(vb #5))(P(pp #6)))(C(P(cj #2))(P(vb #3))(P(pp #4)))<*1>)\t\u05d1 \u05de\u05e7\u05d5\u05dd \u05d0\u05e9\u05c1\u05e8 \u05d9\u05d0\u05de\u05e8 \u05dc\u05d4\u05dd \u05d9\u05d0\u05de\u05e8 \u05dc\u05d4\u05dd \r\n",
        " HOS 04,18\t(S(*1 C(P(vb #0))(P(aj #1)))<*1>)\t\u05d0\u05d4\u05d1\u05d5 \u05de\u05d2\u05e0\u05d9\u05d4 \r\n",
        " HOS 14,04\t(S(*1 C(P(cj #0))(P(ng #1))(P(vb #2))(P(n #3))(P(pp #4)(SU(n #5))(SU(n #6))))<*1>)\t\u05d5 \u05dc\u05d0 \u05e0\u05d0\u05de\u05e8 \u05e2\u05d5\u05d3 \u05dc \u05de\u05e2\u05e9\u05c2\u05d4 \u05d9\u05d3\u05d9\u05e0\u05d5 \r\n",
        "JONA 04,11\t(S(C(P(cj #0))(P(pr #1)))(C(P(ng #2))(P(vb #3))(P(pp #4)(n #5)(SU(dt #6)(n #7))(SU(dt #8)(aj #9))))(C(P(cj #10))(P(n #11))(P(pp #12)))(C(P(vb #13))(P(pp #14)(SU(n #15))(SU(SU(n #16))(SU(n #17))))(*1 P(n #18)(cj #26)(SU(n #27))(SU(aj #28)))<*1>)(C(P(cj #19))(P(ng #20))(P(vb #21))(P(SU(n #22))(SU(n #23)))(P(pp #24)(n #25))))\t\u05d5 \u05d0\u05e0\u05d9 \u05dc\u05d0 \u05d0\u05d7\u05d5\u05e1 \u05e2\u05dc \u05e0\u05d9\u05e0\u05d5\u05d4 \u05d4 \u05e2\u05d9\u05e8 \u05d4 \u05d2\u05d3\u05d5\u05dc\u05d4 \u05d0\u05e9\u05c1\u05e8 \u05d9\u05e9\u05c1 \u05d1\u05d4 \u05d4\u05e8\u05d1\u05d4 \u05de \u05e9\u05c1\u05ea\u05d9\u05dd \u05e2\u05e9\u05c2\u05e8\u05d4 \u05e8\u05d1\u05d5 \u05d0\u05d3\u05dd \u05d0\u05e9\u05c1\u05e8 \u05dc\u05d0 \u05d9\u05d3\u05e2 \u05d1\u05d9\u05df \u05d9\u05de\u05d9\u05e0\u05d5 \u05dc \u05e9\u05c2\u05de\u05d0\u05dc\u05d5 \u05d5 \u05d1\u05d4\u05de\u05d4 \u05e8\u05d1\u05d4 \r\n",
        " PS023,004\t(S(*1 C(P(av #0))(P(ng #1))(P(vb #2))(P(aj #3)))<*1>)\t\u05d2\u05dd \u05dc\u05d0 \u05d0\u05d9\u05e8\u05d0 \u05e8\u05e2 \r\n",
        " IOB 31,30\t(S(*1 C(P(cj #0))(P(ng #1))(P(vb #2))(P(n #3)))<*1>)\t\u05d5 \u05dc\u05d0 \u05e0\u05ea\u05ea\u05d9 \u05d7\u05db\u05d9 \r\n"
       ]
      },
      {
       "output_type": "stream",
       "stream": "stdout",
       "text": [
        " RUTH01,01\t(S(C(P(cj #0))(P(vb #1))(*1 P(n #2)(pp #3)(SU(n #4))(SU(n #5))(SU(SU(pr #11))(cj #12)(SU(n #13)))(cj #14)(SU(SU(n #15))(SU(n #16))))<*1>)(C(P(pp #6)(vb #7))(P(pp #8)(SU(n #9))(SU(n #10)))))\t\u05d5 \u05d9\u05dc\u05da \u05d0\u05d9\u05e9\u05c1 \u05de \u05d1\u05d9\u05ea \u05dc\u05d7\u05dd \u05d9\u05d4\u05d5\u05d3\u05d4 \u05dc \u05d2\u05d5\u05e8 \u05d1 \u05e9\u05c2\u05d3\u05d9 \u05de\u05d5\u05d0\u05d1 \u05d4\u05d5\u05d0 \u05d5 \u05d0\u05e9\u05c1\u05ea\u05d5 \u05d5 \u05e9\u05c1\u05e0\u05d9 \u05d1\u05e0\u05d9\u05d5 \r\n",
        " RUTH04,11\t(S(C(P(cj #0))(P(vb #1))(*1 P(SU(n #2))(SU(dt #3)(n #4))(cj #9)(dt #10)(aj #11))<*1>)(C(P(cj #5))(P(pp #6)(dt #7)(n #8))))\t\u05d5 \u05d9\u05d0\u05de\u05e8\u05d5 \u05db\u05dc \u05d4 \u05e2\u05dd \u05d0\u05e9\u05c1\u05e8 \u05d1  \u05e9\u05c1\u05e2\u05e8 \u05d5 \u05d4 \u05d6\u05e7\u05e0\u05d9\u05dd \r\n",
        " QOH 11,08\t(S(*1 C(P(cj #0))(P(pp #1)(n #2))(P(vb #3)))<*1>)\t\u05db\u05d9 \u05d1 \u05db\u05dc\u05dd \u05d9\u05e9\u05c2\u05de\u05d7 \r\n",
        " THR 01,09\t(S(*1 C(P(vb #0))(P(pp #1)(n #2)))<*1>)\t\u05e8\u05d0\u05d4 \u05d0\u05ea \u05e2\u05e0\u05d9\u05d9 \r\n",
        " THR 05,21\t(S(*1 C(P(vb #0))(P(pp #1)))<*1>)\t\u05d4\u05e9\u05c1\u05d9\u05d1\u05e0\u05d5 \u05d0\u05dc\u05d9\u05da \r\n",
        " EST 02,07\t(S(C(P(vb #0))(*1 P(pp #1)(n #2)(SU(n #5))(SU(n #6)))<*1>)(C(P(pr #3))(P(n #4))))\t\u05d0\u05de\u05df \u05d0\u05ea \u05d4\u05d3\u05e1\u05d4 \u05d4\u05d9\u05d0 \u05d0\u05e1\u05ea\u05e8 \u05d1\u05ea \u05d3\u05d3\u05d5 \r\n",
        " EST 03,06\t(S(C(P(cj #0))(P(vb #1))(P(n #2)))(C(P(pp #3)(vb #4))(*1 P(pp #5)(SU(n #6))(SU(dt #7)(aj #8))(SU(n #14))(SU(n #15)))<*1>)(C(P(cj #9))(P(pp #10)(SU(n #11))(SU(SU(n #12))(SU(n #13))))))\t\u05d5 \u05d9\u05d1\u05e7\u05e9\u05c1 \u05d4\u05de\u05df \u05dc \u05d4\u05e9\u05c1\u05de\u05d9\u05d3 \u05d0\u05ea \u05db\u05dc \u05d4 \u05d9\u05d4\u05d5\u05d3\u05d9\u05dd \u05d0\u05e9\u05c1\u05e8 \u05d1 \u05db\u05dc \u05de\u05dc\u05db\u05d5\u05ea \u05d0\u05d7\u05e9\u05c1\u05d5\u05e8\u05d5\u05e9\u05c1 \u05e2\u05dd \u05de\u05e8\u05d3\u05db\u05d9 \r\n",
        " ESR 06,21\t(S(C(P(cj #0))(P(vb #1))(*1 P(SU(n #2))(SU(n #3))(cj #9)(n #10))<*1>)(C(P(dt #4))(P(vb #5))(P(pp #6)(dt #7)(n #8))))\t\u05d5 \u05d9\u05d0\u05db\u05dc\u05d5 \u05d1\u05e0\u05d9 \u05d9\u05e9\u05c2\u05e8\u05d0\u05dc \u05d4 \u05e9\u05c1\u05d1\u05d9\u05dd \u05de \u05d4 \u05d2\u05d5\u05dc\u05d4 \u05d5 \u05db\u05dc \r\n",
        " NEH 01,02\t(S(C(P(cj #0))(P(vb #1))(*1 P(pp #2)(dt #3)(aj #4)(dt #5)(n #6)(cj #12)(pp #13)(n #14))<*1>)(C(P(cj #7))(P(vb #8))(P(pp #9)(dt #10)(n #11))))\t\u05d5 \u05d0\u05e9\u05c1\u05d0\u05dc\u05dd \u05e2\u05dc \u05d4 \u05d9\u05d4\u05d5\u05d3\u05d9\u05dd \u05d4 \u05e4\u05dc\u05d9\u05d8\u05d4 \u05d0\u05e9\u05c1\u05e8 \u05e0\u05e9\u05c1\u05d0\u05e8\u05d5 \u05de\u05df \u05d4 \u05e9\u05c1\u05d1\u05d9 \u05d5 \u05e2\u05dc \u05d9\u05e8\u05d5\u05e9\u05c1\u05dc\u05dd \r\n",
        " NEH 03,16\t(S(C(P(n #0))(P(vb #1))(P(n #2)(SU(n #3))(SU(n #4))(SU(n #5))(SU(SU(n #6))(SU(SU(n #7))(SU(n #8)))))(*1 P(SU(pp #9)(n #10)(SU(n #11))(SU(n #12)))(cj #13)(SU(pp #14)(dt #15)(n #16))(cj #19)(pp #20)(SU(n #21))(SU(dt #22)(n #23)))<*1>)(C(P(dt #17))(P(vb #18))))\t\u05d0\u05d7\u05e8\u05d9\u05d5 \u05d4\u05d7\u05d6\u05d9\u05e7 \u05e0\u05d7\u05de\u05d9\u05d4 \u05d1\u05df \u05e2\u05d6\u05d1\u05d5\u05e7 \u05e9\u05c2\u05e8 \u05d7\u05e6\u05d9 \u05e4\u05dc\u05da \u05d1\u05d9\u05ea\u05be\u05e6\u05d5\u05e8 \u05e2\u05d3 \u05e0\u05d2\u05d3 \u05e7\u05d1\u05e8\u05d9 \u05d3\u05d5\u05d9\u05d3 \u05d5 \u05e2\u05d3 \u05d4 \u05d1\u05e8\u05db\u05d4 \u05d4 \u05e2\u05e9\u05c2\u05d5\u05d9\u05d4 \u05d5 \u05e2\u05d3 \u05d1\u05d9\u05ea \u05d4 \u05d2\u05d1\u05e8\u05d9\u05dd \r\n",
        " NEH 03,25\t(S(C(P(n #0)(SU(n #1))(SU(n #2)))(*1 P(SU(pp #3)(SU(n #4))(SU(dt #5)(n #6)))(cj #7)(SU(dt #8)(n #9))(dt #16)(aj #17))<*1>)(C(P(dt #10))(P(vb #11))(P(pp #12)(SU(n #13))(SU(dt #14)(n #15))))(C(P(cj #18))(P(pp #19)(SU(n #20))(SU(dt #21)(n #22)))))\t\u05e4\u05dc\u05dc \u05d1\u05df \u05d0\u05d5\u05d6\u05d9 \u05de \u05e0\u05d2\u05d3 \u05d4 \u05de\u05e7\u05e6\u05d5\u05e2 \u05d5 \u05d4 \u05de\u05d2\u05d3\u05dc \u05d4 \u05d9\u05d5\u05e6\u05d0 \u05de \u05d1\u05d9\u05ea \u05d4 \u05de\u05dc\u05da \u05d4 \u05e2\u05dc\u05d9\u05d5\u05df \u05d0\u05e9\u05c1\u05e8 \u05dc \u05d7\u05e6\u05e8 \u05d4 \u05de\u05d8\u05e8\u05d4 \r\n",
        " NEH 03,25\t(S(*1 C(P(n #0))(P(n #1)(SU(n #2))(SU(n #3)))(P(pp #4)(SU(n #5))(SU(SU(n #6))(SU(dt #7)(n #8))))(P(pp #9)(dt #10)(n #11)(cj #12)(dt #13)(n #14)))<*1>(C(P(dt #15))(P(vb #16))))\t\u05d0\u05d7\u05e8\u05d9\u05d5 \u05e4\u05d3\u05d9\u05d4 \u05d1\u05df \u05e4\u05e8\u05e2\u05e9\u05c1 \u05e2\u05d3 \u05e0\u05d2\u05d3 \u05e9\u05c1\u05e2\u05e8 \u05d4 \u05de\u05d9\u05dd \u05dc  \u05de\u05d6\u05e8\u05d7 \u05d5 \u05d4 \u05de\u05d2\u05d3\u05dc \u05d4 \u05d9\u05d5\u05e6\u05d0 \r\n",
        " NEH 03,27\t(S(C(P(n #0))(P(vb #1))(P(dt #2)(aj #3))(P(SU(n #4))(SU(aj #5)))(*1 P(pp #6)(SU(n #7))(SU(SU(dt #8)(n #9))(SU(dt #10)(aj #11)))(cj #14)(pp #15)(SU(n #16))(SU(dt #17)(n #18)))<*1>)(C(P(dt #12))(P(vb #13))))\t\u05d0\u05d7\u05e8\u05d9\u05d5 \u05d4\u05d7\u05d6\u05d9\u05e7\u05d5 \u05d4 \u05ea\u05e7\u05e2\u05d9\u05dd \u05de\u05d3\u05d4 \u05e9\u05c1\u05e0\u05d9\u05ea \u05de \u05e0\u05d2\u05d3 \u05d4 \u05de\u05d2\u05d3\u05dc \u05d4 \u05d2\u05d3\u05d5\u05dc \u05d4 \u05d9\u05d5\u05e6\u05d0 \u05d5 \u05e2\u05d3 \u05d7\u05d5\u05de\u05ea \u05d4 \u05e2\u05e4\u05dc \r\n",
        " NEH 08,09\t(S(C(P(cj #0))(P(vb #1))(*1 P(n #2)(cj #6)(n #7)(dt #8)(n #9)(dt #10)(n #11)(cj #12)(dt #13)(aj #14))<*1>(P(pp #20)(SU(n #21))(SU(dt #22)(n #23))))(C(P(pr #3))(P(dt #4)(n #5)))(C(P(dt #15))(P(vb #16))(P(pp #17)(dt #18)(n #19))))\t\u05d5 \u05d9\u05d0\u05de\u05e8 \u05e0\u05d7\u05de\u05d9\u05d4 \u05d4\u05d5\u05d0 \u05d4 \u05ea\u05e8\u05e9\u05c1\u05ea\u05d0 \u05d5 \u05e2\u05d6\u05e8\u05d0 \u05d4 \u05db\u05d4\u05df \u05d4 \u05e1\u05e4\u05e8 \u05d5 \u05d4 \u05dc\u05d5\u05d9\u05dd \u05d4 \u05de\u05d1\u05d9\u05e0\u05d9\u05dd \u05d0\u05ea \u05d4 \u05e2\u05dd \u05dc \u05db\u05dc \u05d4 \u05e2\u05dd \r\n",
        " NEH 09,25\t(S(C(P(cj #0))(P(vb #1))(*1 P(n #2)(SU(SU(SU(n #6))(SU(vb #7)))(SU(SU(n #8))(cj #9)(SU(n #10))))(cj #11)(SU(SU(n #12))(SU(n #13))))<*1>(P(pp #14)(n #15)))(C(P(aj #3))(P(SU(n #4))(SU(n #5)))))\t\u05d5 \u05d9\u05d9\u05e8\u05e9\u05c1\u05d5 \u05d1\u05ea\u05d9\u05dd \u05de\u05dc\u05d0\u05d9\u05dd \u05db\u05dc \u05d8\u05d5\u05d1 \u05d1\u05e8\u05d5\u05ea \u05d7\u05e6\u05d5\u05d1\u05d9\u05dd \u05db\u05e8\u05de\u05d9\u05dd \u05d5 \u05d6\u05d9\u05ea\u05d9\u05dd \u05d5 \u05e2\u05e5 \u05de\u05d0\u05db\u05dc \u05dc \u05e8\u05d1 \r\n",
        " NEH 09,35\t(S(C(P(cj #0))(P(pr #1)))(C(*1 P(SU(pp #2)(n #3))(cj #4)(SU(pp #5)(SU(n #6))(SU(dt #7)(aj #8)))(cj #12)(pp #13)(SU(n #14))(SU(SU(dt #15)(aj #16))(cj #17)(SU(dt #18)(aj #19))))<*1>(P(ng #24))(P(vb #25)))(C(P(cj #9))(P(vb #10))(P(pp #11)))(C(P(cj #20))(P(vb #21))(P(pp #22)(n #23))))\t\u05d5 \u05d4\u05dd \u05d1 \u05de\u05dc\u05db\u05d5\u05ea\u05dd \u05d5 \u05d1 \u05d8\u05d5\u05d1\u05da \u05d4 \u05e8\u05d1 \u05d0\u05e9\u05c1\u05e8 \u05e0\u05ea\u05ea \u05dc\u05d4\u05dd \u05d5 \u05d1 \u05d0\u05e8\u05e5 \u05d4 \u05e8\u05d7\u05d1\u05d4 \u05d5 \u05d4 \u05e9\u05c1\u05de\u05e0\u05d4 \u05d0\u05e9\u05c1\u05e8 \u05e0\u05ea\u05ea \u05dc \u05e4\u05e0\u05d9\u05d4\u05dd \u05dc\u05d0 \u05e2\u05d1\u05d3\u05d5\u05da \r\n",
        " NEH 10,28\t(S(C(P(cj #0))(*1 P(SU(SU(SU(SU(SU(SU(SU(n #1))(SU(dt #2)(n #3)))(SU(dt #4)(n #5)))(SU(dt #6)(aj #7)))(SU(dt #8)(n #9)))(SU(dt #10)(vb #11)))(SU(dt #12)(n #13)))(cj #14)(SU(n #15))(SU(SU(n #26))(SU(n #27)))(cj #28)(SU(n #29))(n #30))<*1>)(C(P(dt #16))(P(vb #17))(P(pp #18)(SU(n #19))(SU(dt #20)(n #21)))(P(pp #22)(SU(n #23))(SU(dt #24)(n #25))))(C(P(vb #31)))(C(P(vb #32)))(C(P(vb #33))(P(pp #34)(n #35)(aj #36))))\t\u05d5 \u05e9\u05c1\u05d0\u05e8 \u05d4 \u05e2\u05dd \u05d4 \u05db\u05d4\u05e0\u05d9\u05dd \u05d4 \u05dc\u05d5\u05d9\u05dd \u05d4 \u05e9\u05c1\u05d5\u05e2\u05e8\u05d9\u05dd \u05d4 \u05de\u05e9\u05c1\u05e8\u05e8\u05d9\u05dd \u05d4 \u05e0\u05ea\u05d9\u05e0\u05d9\u05dd \u05d5 \u05db\u05dc \u05d4 \u05e0\u05d1\u05d3\u05dc \u05de \u05e2\u05de\u05d9 \u05d4 \u05d0\u05e8\u05e6\u05d5\u05ea \u05d0\u05dc \u05ea\u05d5\u05e8\u05ea \u05d4 \u05d0\u05dc\u05d4\u05d9\u05dd \u05e0\u05e9\u05c1\u05d9\u05d4\u05dd \u05d1\u05e0\u05d9\u05d4\u05dd \u05d5 \u05d1\u05e0\u05ea\u05d9\u05d4\u05dd \u05db\u05dc \u05d9\u05d5\u05d3\u05e2 \u05de\u05d1\u05d9\u05df \u05de\u05d7\u05d6\u05d9\u05e7\u05d9\u05dd \u05e2\u05dc \u05d0\u05d7\u05d9\u05d4\u05dd \u05d0\u05d3\u05d9\u05e8\u05d9\u05d4\u05dd \r\n",
        " NEH 10,34\t(S(C(*1 P(SU(SU(SU(SU(SU(pp #0)(SU(n #1))(SU(dt #2)(n #3)))(cj #4)(SU(SU(n #5))(SU(dt #6)(n #7))))(cj #8)(SU(SU(SU(pp #9)(SU(n #10))(SU(dt #11)(n #12)))(SU(dt #13)(n #14)))(SU(dt #15)(n #16))))(pp #17)(SU(dt #18)(n #19)))(cj #20)(SU(pp #21)(dt #22)(n #23)))(cj #24)(SU(pp #25)(dt #26)(n #27))(cj #32)(SU(n #33))(SU(SU(n #34))(SU(SU(n #35))(SU(n #36)))))<*1>)(C(P(pp #28)(vb #29))(P(pp #30)(n #31))))\t\u05dc \u05dc\u05d7\u05dd \u05d4 \u05de\u05e2\u05e8\u05db\u05ea \u05d5 \u05de\u05e0\u05d7\u05ea \u05d4 \u05ea\u05de\u05d9\u05d3 \u05d5 \u05dc \u05e2\u05d5\u05dc\u05ea \u05d4 \u05ea\u05de\u05d9\u05d3 \u05d4 \u05e9\u05c1\u05d1\u05ea\u05d5\u05ea \u05d4 \u05d7\u05d3\u05e9\u05c1\u05d9\u05dd \u05dc  \u05de\u05d5\u05e2\u05d3\u05d9\u05dd \u05d5 \u05dc  \u05e7\u05d3\u05e9\u05c1\u05d9\u05dd \u05d5 \u05dc  \u05d7\u05d8\u05d0\u05d5\u05ea \u05dc \u05db\u05e4\u05e8 \u05e2\u05dc \u05d9\u05e9\u05c2\u05e8\u05d0\u05dc \u05d5 \u05db\u05dc \u05de\u05dc\u05d0\u05db\u05ea \u05d1\u05d9\u05ea \u05d0\u05dc\u05d4\u05d9\u05e0\u05d5 \r\n",
        " NEH 10,37\t(S(C(P(cj #0))(*1 P(pp #1)(SU(n #2))(SU(SU(n #3))(cj #4)(SU(n #5)))(cj #12)(pp #13)(SU(n #14))(SU(SU(n #15))(cj #16)(SU(n #17))))<*1>)(C(P(pp #6)(dt #7))(P(vb #8))(P(pp #9)(dt #10)(n #11)))(C(P(pp #18)(vb #19))(P(pp #20)(SU(n #21))(SU(n #22)))(P(pp #23)(dt #24)(n #25)))(C(P(dt #26))(P(vb #27))(P(pp #28)(SU(n #29))(SU(n #30)))))\t\u05d5 \u05d0\u05ea \u05d1\u05db\u05e8\u05d5\u05ea \u05d1\u05e0\u05d9\u05e0\u05d5 \u05d5 \u05d1\u05d4\u05de\u05ea\u05d9\u05e0\u05d5 \u05db  \u05db\u05ea\u05d5\u05d1 \u05d1  \u05ea\u05d5\u05e8\u05d4 \u05d5 \u05d0\u05ea \u05d1\u05db\u05d5\u05e8\u05d9 \u05d1\u05e7\u05e8\u05d9\u05e0\u05d5 \u05d5 \u05e6\u05d0\u05e0\u05d9\u05e0\u05d5 \u05dc \u05d4\u05d1\u05d9\u05d0 \u05dc \u05d1\u05d9\u05ea \u05d0\u05dc\u05d4\u05d9\u05e0\u05d5 \u05dc  \u05db\u05d4\u05e0\u05d9\u05dd \u05d4 \u05de\u05e9\u05c1\u05e8\u05ea\u05d9\u05dd \u05d1 \u05d1\u05d9\u05ea \u05d0\u05dc\u05d4\u05d9\u05e0\u05d5 \r\n",
        " NEH 10,40\t(S(C(P(cj #0))(P(av #1))(*1 P(SU(SU(n #2))(SU(dt #3)(n #4)))(cj #5)(SU(dt #6)(n #7))(cj #10)(SU(dt #11)(n #12))(cj #13)(SU(dt #14)(vb #15)))<*1>)(C(P(dt #8))(P(vb #9))))\t\u05d5 \u05e9\u05c1\u05dd \u05db\u05dc\u05d9 \u05d4 \u05de\u05e7\u05d3\u05e9\u05c1 \u05d5 \u05d4 \u05db\u05d4\u05e0\u05d9\u05dd \u05d4 \u05de\u05e9\u05c1\u05e8\u05ea\u05d9\u05dd \u05d5 \u05d4 \u05e9\u05c1\u05d5\u05e2\u05e8\u05d9\u05dd \u05d5 \u05d4 \u05de\u05e9\u05c1\u05e8\u05e8\u05d9\u05dd \r\n",
        " NEH 11,15\t(S(C(P(n #0)(SU(n #1))(SU(n #2))(SU(n #3))(SU(n #4))(SU(n #5))(SU(n #6))(SU(n #7))(SU(n #8))))(C(P(cj #9))(*1 P(SU(n #10))(cj #11)(SU(n #12))(pp #22)(SU(n #23))(SU(dt #24)(aj #25)))<*1>)(C(P(pp #13)(SU(dt #14)(n #15))(SU(dt #16)(aj #17)))(P(pp #18)(SU(n #19))(SU(dt #20)(n #21))))(C(P(cj #26))(*2 P(n #27)(SU(n #28))(SU(n #29))(SU(n #30))(SU(n #31))(SU(n #32))(SU(n #33))(cj #41)(n #42)(cj #46)(n #47)(SU(n #48))(SU(n #49))(SU(n #50))(SU(n #51))(SU(n #52))(SU(n #53)))(P(SU(n #34))(SU(dt #35)(n #36)))<*2><*2>)(C(P(vb #37))(P(pp #38)(dt #39)(n #40)))(C(P(n #43))(P(pp #44)(n #45))))\t\u05e9\u05c1\u05de\u05e2\u05d9\u05d4 \u05d1\u05df \u05d7\u05e9\u05c1\u05d5\u05d1 \u05d1\u05df \u05e2\u05d6\u05e8\u05d9\u05e7\u05dd \u05d1\u05df \u05d7\u05e9\u05c1\u05d1\u05d9\u05d4 \u05d1\u05df \u05d1\u05d5\u05e0\u05d9 \u05d5 \u05e9\u05c1\u05d1\u05ea\u05d9 \u05d5 \u05d9\u05d5\u05d6\u05d1\u05d3 \u05e2\u05dc \u05d4 \u05de\u05dc\u05d0\u05db\u05d4 \u05d4 \u05d7\u05d9\u05e6\u05e0\u05d4 \u05dc \u05d1\u05d9\u05ea \u05d4 \u05d0\u05dc\u05d4\u05d9\u05dd \u05de \u05e8\u05d0\u05e9\u05c1\u05d9 \u05d4 \u05dc\u05d5\u05d9\u05dd \u05d5 \u05de\u05ea\u05e0\u05d9\u05d4 \u05d1\u05df \u05de\u05d9\u05db\u05d4 \u05d1\u05df \u05d6\u05d1\u05d3\u05d9 \u05d1\u05df \u05d0\u05e1\u05e3 \u05e8\u05d0\u05e9\u05c1 \u05d4 \u05ea\u05d7\u05dc\u05d4 \u05d9\u05d4\u05d5\u05d3\u05d4 \u05dc  \u05ea\u05e4\u05dc\u05d4 \u05d5 \u05d1\u05e7\u05d1\u05e7\u05d9\u05d4 \u05de\u05e9\u05c1\u05e0\u05d4 \u05de \u05d0\u05d7\u05d9\u05d5 \u05d5 \u05e2\u05d1\u05d3\u05d0 \u05d1\u05df \u05e9\u05c1\u05de\u05d5\u05e2 \u05d1\u05df \u05d2\u05dc\u05dc \u05d1\u05df \u05d9\u05d3\u05d9\u05ea\u05d5\u05df \r\n",
        " ICHR21,29\t(S(C(P(cj #0))(*1 P(SU(n #1))(SU(n #2))(cj #9)(SU(n #10))(SU(dt #11)(n #12)))<*1>(P(pp #13)(SU(dt #14)(n #15))(SU(dt #16)(pr #17)))(P(pp #18)(dt #19)(n #20)(pp #21)(n #22)))(C(P(cj #3))(P(vb #4))(P(n #5))(P(pp #6)(dt #7)(n #8))))\t\u05d5 \u05de\u05e9\u05c1\u05db\u05df \u05d9\u05d4\u05d5\u05d4 \u05d0\u05e9\u05c1\u05e8 \u05e2\u05e9\u05c2\u05d4 \u05de\u05e9\u05c1\u05d4 \u05d1  \u05de\u05d3\u05d1\u05e8 \u05d5 \u05de\u05d6\u05d1\u05d7 \u05d4 \u05e2\u05d5\u05dc\u05d4 \u05d1  \u05e2\u05ea \u05d4 \u05d4\u05d9\u05d0 \u05d1  \u05d1\u05de\u05d4 \u05d1 \u05d2\u05d1\u05e2\u05d5\u05df \r\n"
       ]
      }
     ],
     "prompt_number": 10
    },
    {
     "cell_type": "code",
     "collapsed": false,
     "input": [
      "%config"
     ],
     "language": "python",
     "metadata": {},
     "outputs": [
      {
       "output_type": "stream",
       "stream": "stdout",
       "text": [
        "Available objects for config:\n",
        "     ZMQInteractiveShell\n",
        "     HistoryManager\n",
        "     PrefilterManager\n",
        "     AliasManager\n",
        "     IPCompleter\n",
        "     PromptManager\n",
        "     DisplayFormatter\n",
        "     LaTeXTool\n",
        "     MagicsManager\n",
        "     IPKernelApp\n",
        "     StoreMagics\n"
       ]
      }
     ],
     "prompt_number": 23
    },
    {
     "cell_type": "code",
     "collapsed": false,
     "input": [],
     "language": "python",
     "metadata": {},
     "outputs": []
    }
   ],
   "metadata": {}
  }
 ]
}