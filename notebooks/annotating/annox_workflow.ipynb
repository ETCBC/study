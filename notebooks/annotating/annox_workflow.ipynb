{
 "metadata": {
  "name": ""
 },
 "nbformat": 3,
 "nbformat_minor": 0,
 "worksheets": [
  {
   "cells": [
    {
     "cell_type": "markdown",
     "metadata": {},
     "source": [
      "<a href=\"http://laf-fabric.readthedocs.org/en/latest/\" target=\"_blank\"><img src=\"files/images/laf-fabric-small.png\"/></a>\n",
      "<a href=\"http://www.dans.knaw.nl\" target=\"_blank\"><img src=\"files/images/DANS-small.png\"/></a>\n",
      "<a href=\"http://tla.mpi.nl\" target=\"_blank\"><img src=\"files/images/TLA-small.png\"/></a>\n",
      "<a href=\"http://www.godgeleerdheid.vu.nl/etcbc\" target=\"_blank\"><img src=\"files/images/VU-ETCBC-small.png\"/></a>"
     ]
    },
    {
     "cell_type": "heading",
     "level": 1,
     "metadata": {},
     "source": [
      "Making new annotations"
     ]
    },
    {
     "cell_type": "markdown",
     "metadata": {},
     "source": [
      "It is possible to make your own annotations to the existing nodes and edges of a LAF resource, and use them later on.\n",
      "\n",
      "This notebook shows how that can be done.\n",
      "\n",
      "**The original LAF source will not be changed**.\n",
      "\n",
      "You make your own annotations and they will be saved in a file.\n",
      "By putting this file in a location where LAF-Fabric can find it, and by instructing LAF-Fabric to include this file, you can do analysis on the original source plus your new annotations.\n",
      "\n",
      "Annotations are organized by annotation spaces. \n",
      "If you choose a space that is different from the annotation spaces inthe main source your own annotations will be distinguishable from the original annotations.\n",
      "\n",
      "But you can also choose to override original annotations with your own ones.\n",
      "In that case you have to create your annotations in the ``shebanq`` space.\n",
      "\n",
      "This notebook is not honed by practice yet. \n",
      "There are clumsy things such as manually copy files and putting them into directories, and editing certain header files.\n",
      "\n",
      "That said, this notebook performs the LAF specific things, and further adaptations do not involve deep dives into the LAF-Fabric."
     ]
    },
    {
     "cell_type": "heading",
     "level": 2,
     "metadata": {},
     "source": [
      "Preparation"
     ]
    },
    {
     "cell_type": "markdown",
     "metadata": {},
     "source": [
      "In order to run this notebook, it is necessary to have an extra annotations package called ``testannots`` on your system.\n",
      "If you have downloaded data from the given link, you have that directory."
     ]
    },
    {
     "cell_type": "code",
     "collapsed": false,
     "input": [
      "import sys\n",
      "import collections\n",
      "import shutil\n",
      "\n",
      "import pandas\n",
      "from IPython.display import display\n",
      "pandas.set_option('display.notebook_repr_html', True)\n",
      "\n",
      "from laf.fabric import LafFabric\n",
      "from etcbc.annotating import GenForm\n",
      "\n",
      "fabric = LafFabric()"
     ],
     "language": "python",
     "metadata": {},
     "outputs": [
      {
       "output_type": "stream",
       "stream": "stderr",
       "text": [
        "  0.00s This is LAF-Fabric 4.0.3\n"
       ]
      }
     ],
     "prompt_number": 1
    },
    {
     "cell_type": "code",
     "collapsed": false,
     "input": [
      "API = fabric.load('bhs3.txt.hdr', '--', 'annox_workflow', {\n",
      "    \"primary\": True,\n",
      "    \"xmlids\": {\n",
      "        \"node\": True,\n",
      "        \"edge\": False,\n",
      "    },\n",
      "    \"features\": {\n",
      "        \"shebanq\": {\n",
      "            \"node\": [\n",
      "                \"db.otype,oid,monads\",\n",
      "                \"ft.phrase_type,part_of_speech\",\n",
      "                \"sft.book,chapter,verse\",\n",
      "            ],\n",
      "            \"edge\": [\n",
      "            ],\n",
      "        },\n",
      "    },\n",
      "}, verbose='DETAIL')\n",
      "exec(fabric.localnames.format(var='fabric'))"
     ],
     "language": "python",
     "metadata": {},
     "outputs": [
      {
       "output_type": "stream",
       "stream": "stderr",
       "text": [
        "  0.00s LOADING API: please wait ... \n"
       ]
      },
      {
       "output_type": "stream",
       "stream": "stderr",
       "text": [
        "  0.00s DETAIL: COMPILING m: UP TO DATE\n"
       ]
      },
      {
       "output_type": "stream",
       "stream": "stderr",
       "text": [
        "  0.00s DETAIL: COMPILING a: UP TO DATE\n"
       ]
      },
      {
       "output_type": "stream",
       "stream": "stderr",
       "text": [
        "  0.00s DETAIL: load main: P.node_anchor\n"
       ]
      },
      {
       "output_type": "stream",
       "stream": "stderr",
       "text": [
        "  0.12s DETAIL: load main: P.node_anchor_items\n"
       ]
      },
      {
       "output_type": "stream",
       "stream": "stderr",
       "text": [
        "  0.51s DETAIL: load main: G.node_anchor_min\n"
       ]
      },
      {
       "output_type": "stream",
       "stream": "stderr",
       "text": [
        "  0.60s DETAIL: load main: G.node_anchor_max\n"
       ]
      },
      {
       "output_type": "stream",
       "stream": "stderr",
       "text": [
        "  0.70s DETAIL: load main: P.node_events\n"
       ]
      },
      {
       "output_type": "stream",
       "stream": "stderr",
       "text": [
        "  0.87s DETAIL: load main: P.node_events_items\n"
       ]
      },
      {
       "output_type": "stream",
       "stream": "stderr",
       "text": [
        "  1.35s DETAIL: load main: P.node_events_k\n"
       ]
      },
      {
       "output_type": "stream",
       "stream": "stderr",
       "text": [
        "  1.51s DETAIL: load main: P.node_events_n\n"
       ]
      },
      {
       "output_type": "stream",
       "stream": "stderr",
       "text": [
        "  1.78s DETAIL: load main: G.node_sort\n"
       ]
      },
      {
       "output_type": "stream",
       "stream": "stderr",
       "text": [
        "  1.87s DETAIL: load main: G.node_sort_inv\n"
       ]
      },
      {
       "output_type": "stream",
       "stream": "stderr",
       "text": [
        "  2.51s DETAIL: load main: G.edges_from\n"
       ]
      },
      {
       "output_type": "stream",
       "stream": "stderr",
       "text": [
        "  2.61s DETAIL: load main: G.edges_to\n"
       ]
      },
      {
       "output_type": "stream",
       "stream": "stderr",
       "text": [
        "  2.72s DETAIL: load main: P.primary_data\n"
       ]
      },
      {
       "output_type": "stream",
       "stream": "stderr",
       "text": [
        "  2.80s DETAIL: load main: X. [node]  -> \n"
       ]
      },
      {
       "output_type": "stream",
       "stream": "stderr",
       "text": [
        "  3.92s DETAIL: load main: X. [node]  <- \n"
       ]
      },
      {
       "output_type": "stream",
       "stream": "stderr",
       "text": [
        "  4.68s DETAIL: load main: F.shebanq_db_otype [node] \n"
       ]
      },
      {
       "output_type": "stream",
       "stream": "stderr",
       "text": [
        "  5.35s DETAIL: load main: F.shebanq_db_oid [node] \n"
       ]
      },
      {
       "output_type": "stream",
       "stream": "stderr",
       "text": [
        "  6.10s DETAIL: load main: F.shebanq_db_monads [node] \n"
       ]
      },
      {
       "output_type": "stream",
       "stream": "stderr",
       "text": [
        "  6.97s DETAIL: load main: F.shebanq_ft_phrase_type [node] \n"
       ]
      },
      {
       "output_type": "stream",
       "stream": "stderr",
       "text": [
        "  7.09s DETAIL: load main: F.shebanq_ft_part_of_speech [node] \n"
       ]
      },
      {
       "output_type": "stream",
       "stream": "stderr",
       "text": [
        "  7.29s DETAIL: load main: F.shebanq_sft_book [node] \n"
       ]
      },
      {
       "output_type": "stream",
       "stream": "stderr",
       "text": [
        "  7.31s DETAIL: load main: F.shebanq_sft_chapter [node] \n"
       ]
      },
      {
       "output_type": "stream",
       "stream": "stderr",
       "text": [
        "  7.32s DETAIL: load main: F.shebanq_sft_verse [node] \n"
       ]
      },
      {
       "output_type": "stream",
       "stream": "stderr",
       "text": [
        "  7.33s LOGFILE=/Users/judith/laf-fabric-data/etcbc-bhs3/tasks/bhs3.txt.hdr/annox_workflow/__log__annox_workflow.txt\n"
       ]
      },
      {
       "output_type": "stream",
       "stream": "stderr",
       "text": [
        "  7.34s INFO: DATA LOADED FROM SOURCE bhs3.txt.hdr AND ANNOX -- FOR TASK annox_workflow\n"
       ]
      }
     ],
     "prompt_number": 2
    },
    {
     "cell_type": "heading",
     "level": 1,
     "metadata": {},
     "source": [
      "Workflow"
     ]
    },
    {
     "cell_type": "markdown",
     "metadata": {},
     "source": [
      "This is the workflow for new annotation data:\n",
      "\n",
      "1. First tell LAF-Fabric to construct a spreadsheet\n",
      "2. Fill in that spreadsheet\n",
      "3. Ask LAF-Fabric to read the filled in spreadsheet and turn it into a LAF file.\n",
      "4. Place the new annotations file in the right place.\n",
      "5. Use the new annotations."
     ]
    },
    {
     "cell_type": "heading",
     "level": 2,
     "metadata": {},
     "source": [
      "Step 1: Construct a spreadsheet"
     ]
    },
    {
     "cell_type": "markdown",
     "metadata": {},
     "source": [
      "In the dictionary config below, you can specify a spreadsheet with rows and colomns.\n",
      "\n",
      "On each row you see the textual representation of the objects you specify, from the passages you specify.\n",
      "You can also ask for other columns with feature information for reference.\n",
      "There are extra columns for new features, with names that you specify.\n",
      "\n",
      "The columns contain the following information\n",
      "\n",
      "1. the corresponding XML identifier in the LAF resource\n",
      "2. words\n",
      "3. phrases\n",
      "4. phrase_type values\n",
      "5. part_of_speech values\n",
      "6. empty cells for ``dirk_part_intro``\n",
      "7. empty cells for ``dirk_part_role``"
     ]
    },
    {
     "cell_type": "code",
     "collapsed": false,
     "input": [
      "form = GenForm(API, \"dirk_intro_role\", {\n",
      "    'target_types': [\n",
      "        'word',\n",
      "        'phrase',\n",
      "    ],\n",
      "    'show_features': {\n",
      "        'shebanq': {\n",
      "            'node': [\n",
      "                \"ft.phrase_type,part_of_speech\",\n",
      "            ],\n",
      "        },\n",
      "    },\n",
      "    'new_features': {\n",
      "        'dirk': {\n",
      "            'node': [\n",
      "                \"part.intro,role\",\n",
      "            ],\n",
      "        },\n",
      "    },\n",
      "    'passages': {\n",
      "        'Genesis': '1-3',\n",
      "        'Isaiah': '40,66',\n",
      "    },\n",
      "})"
     ],
     "language": "python",
     "metadata": {},
     "outputs": [],
     "prompt_number": 3
    },
    {
     "cell_type": "heading",
     "level": 3,
     "metadata": {},
     "source": [
      "The form create function"
     ]
    },
    {
     "cell_type": "markdown",
     "metadata": {},
     "source": [
      "Run the make_form function:"
     ]
    },
    {
     "cell_type": "code",
     "collapsed": false,
     "input": [
      "form.make_form()"
     ],
     "language": "python",
     "metadata": {},
     "outputs": [
      {
       "output_type": "stream",
       "stream": "stderr",
       "text": [
        "    12s Reading the data ...\n"
       ]
      },
      {
       "output_type": "stream",
       "stream": "stderr",
       "text": [
        "Genesis1,2,3,*"
       ]
      },
      {
       "output_type": "stream",
       "stream": "stderr",
       "text": [
        "***"
       ]
      },
      {
       "output_type": "stream",
       "stream": "stderr",
       "text": [
        "***"
       ]
      },
      {
       "output_type": "stream",
       "stream": "stderr",
       "text": [
        "***"
       ]
      },
      {
       "output_type": "stream",
       "stream": "stderr",
       "text": [
        "Isaiah40,66,"
       ]
      },
      {
       "output_type": "stream",
       "stream": "stderr",
       "text": [
        "**"
       ]
      },
      {
       "output_type": "stream",
       "stream": "stderr",
       "text": [
        "************"
       ]
      },
      {
       "output_type": "stream",
       "stream": "stderr",
       "text": [
        "**"
       ]
      },
      {
       "output_type": "stream",
       "stream": "stderr",
       "text": [
        "******"
       ]
      },
      {
       "output_type": "stream",
       "stream": "stderr",
       "text": [
        "****"
       ]
      },
      {
       "output_type": "stream",
       "stream": "stderr",
       "text": [
        "*    13s Done\n"
       ]
      }
     ],
     "prompt_number": 4
    },
    {
     "cell_type": "markdown",
     "metadata": {},
     "source": [
      "Look at the form in its text form:"
     ]
    },
    {
     "cell_type": "code",
     "collapsed": false,
     "input": [
      "form_data = pandas.read_csv(my_file(\"form_{}.csv\".format(form.name)), sep='\\t', na_filter=False)\n",
      "form_data.head(15)"
     ],
     "language": "python",
     "metadata": {},
     "outputs": [
      {
       "html": [
        "<div style=\"max-height:1000px;max-width:1500px;overflow:auto;\">\n",
        "<table border=\"1\" class=\"dataframe\">\n",
        "  <thead>\n",
        "    <tr style=\"text-align: right;\">\n",
        "      <th></th>\n",
        "      <th>passage</th>\n",
        "      <th>word</th>\n",
        "      <th>phrase</th>\n",
        "      <th>phrase type</th>\n",
        "      <th>part of speech</th>\n",
        "      <th>dirk:part.intro</th>\n",
        "      <th>dirk:part.role</th>\n",
        "    </tr>\n",
        "  </thead>\n",
        "  <tbody>\n",
        "    <tr>\n",
        "      <th>0 </th>\n",
        "      <td> #Genesis 1:1</td>\n",
        "      <td>           </td>\n",
        "      <td>                                  </td>\n",
        "      <td>   </td>\n",
        "      <td>            </td>\n",
        "      <td> </td>\n",
        "      <td> </td>\n",
        "    </tr>\n",
        "    <tr>\n",
        "      <th>1 </th>\n",
        "      <td>       n59556</td>\n",
        "      <td>           </td>\n",
        "      <td>                      \u05d1\u05b0\u05bc\u05e8\u05b5\u05d0\u05e9\u05b4\u05c1\u0596\u05d9\u05ea</td>\n",
        "      <td> PP</td>\n",
        "      <td>            </td>\n",
        "      <td> </td>\n",
        "      <td> </td>\n",
        "    </tr>\n",
        "    <tr>\n",
        "      <th>2 </th>\n",
        "      <td>           n2</td>\n",
        "      <td>        \u05d1\u05b0\u05bc</td>\n",
        "      <td>                                  </td>\n",
        "      <td>   </td>\n",
        "      <td> preposition</td>\n",
        "      <td> </td>\n",
        "      <td> </td>\n",
        "    </tr>\n",
        "    <tr>\n",
        "      <th>3 </th>\n",
        "      <td>           n3</td>\n",
        "      <td>  \u05e8\u05b5\u05d0\u05e9\u05b4\u05c1\u0596\u05d9\u05ea</td>\n",
        "      <td>                                  </td>\n",
        "      <td>   </td>\n",
        "      <td>        noun</td>\n",
        "      <td> </td>\n",
        "      <td> </td>\n",
        "    </tr>\n",
        "    <tr>\n",
        "      <th>4 </th>\n",
        "      <td>           n4</td>\n",
        "      <td>    \u05d1\u05b8\u05bc\u05e8\u05b8\u05a3\u05d0</td>\n",
        "      <td>                                  </td>\n",
        "      <td>   </td>\n",
        "      <td>        verb</td>\n",
        "      <td> </td>\n",
        "      <td> </td>\n",
        "    </tr>\n",
        "    <tr>\n",
        "      <th>5 </th>\n",
        "      <td>       n59557</td>\n",
        "      <td>           </td>\n",
        "      <td>                           \u05d1\u05b8\u05bc\u05e8\u05b8\u05a3\u05d0</td>\n",
        "      <td> VP</td>\n",
        "      <td>            </td>\n",
        "      <td> </td>\n",
        "      <td> </td>\n",
        "    </tr>\n",
        "    <tr>\n",
        "      <th>6 </th>\n",
        "      <td>           n5</td>\n",
        "      <td>  \u05d0\u05b1\u05dc\u05b9\u05d4\u05b4\u0591\u05d9\u05dd</td>\n",
        "      <td>                                  </td>\n",
        "      <td>   </td>\n",
        "      <td>        noun</td>\n",
        "      <td> </td>\n",
        "      <td> </td>\n",
        "    </tr>\n",
        "    <tr>\n",
        "      <th>7 </th>\n",
        "      <td>       n59558</td>\n",
        "      <td>           </td>\n",
        "      <td>                         \u05d0\u05b1\u05dc\u05b9\u05d4\u05b4\u0591\u05d9\u05dd</td>\n",
        "      <td> NP</td>\n",
        "      <td>            </td>\n",
        "      <td> </td>\n",
        "      <td> </td>\n",
        "    </tr>\n",
        "    <tr>\n",
        "      <th>8 </th>\n",
        "      <td>       n59559</td>\n",
        "      <td>           </td>\n",
        "      <td> \u05d0\u05b5\u05a5\u05ea \u05d4\u05b7\u05e9\u05b8\u05bc\u05c1\u05de\u05b7\u0596\u05d9\u05b4\u05dd \u05d5\u05b0\u05d0\u05b5\u05a5\u05ea \u05d4\u05b8\u05d0\u05b8\u05bd\u05e8\u05b6\u05e5</td>\n",
        "      <td> PP</td>\n",
        "      <td>            </td>\n",
        "      <td> </td>\n",
        "      <td> </td>\n",
        "    </tr>\n",
        "    <tr>\n",
        "      <th>9 </th>\n",
        "      <td>           n6</td>\n",
        "      <td>       \u05d0\u05b5\u05a5\u05ea</td>\n",
        "      <td>                                  </td>\n",
        "      <td>   </td>\n",
        "      <td> preposition</td>\n",
        "      <td> </td>\n",
        "      <td> </td>\n",
        "    </tr>\n",
        "    <tr>\n",
        "      <th>10</th>\n",
        "      <td>           n7</td>\n",
        "      <td>         \u05d4\u05b7</td>\n",
        "      <td>                                  </td>\n",
        "      <td>   </td>\n",
        "      <td>     article</td>\n",
        "      <td> </td>\n",
        "      <td> </td>\n",
        "    </tr>\n",
        "    <tr>\n",
        "      <th>11</th>\n",
        "      <td>           n8</td>\n",
        "      <td> \u05e9\u05b8\u05bc\u05c1\u05de\u05b7\u0596\u05d9\u05b4\u05dd</td>\n",
        "      <td>                                  </td>\n",
        "      <td>   </td>\n",
        "      <td>        noun</td>\n",
        "      <td> </td>\n",
        "      <td> </td>\n",
        "    </tr>\n",
        "    <tr>\n",
        "      <th>12</th>\n",
        "      <td>           n9</td>\n",
        "      <td>         \u05d5\u05b0</td>\n",
        "      <td>                                  </td>\n",
        "      <td>   </td>\n",
        "      <td> conjunction</td>\n",
        "      <td> </td>\n",
        "      <td> </td>\n",
        "    </tr>\n",
        "    <tr>\n",
        "      <th>13</th>\n",
        "      <td>          n10</td>\n",
        "      <td>       \u05d0\u05b5\u05a5\u05ea</td>\n",
        "      <td>                                  </td>\n",
        "      <td>   </td>\n",
        "      <td> preposition</td>\n",
        "      <td> </td>\n",
        "      <td> </td>\n",
        "    </tr>\n",
        "    <tr>\n",
        "      <th>14</th>\n",
        "      <td>          n11</td>\n",
        "      <td>         \u05d4\u05b8</td>\n",
        "      <td>                                  </td>\n",
        "      <td>   </td>\n",
        "      <td>     article</td>\n",
        "      <td> </td>\n",
        "      <td> </td>\n",
        "    </tr>\n",
        "  </tbody>\n",
        "</table>\n",
        "<p>15 rows \u00d7 7 columns</p>\n",
        "</div>"
       ],
       "metadata": {},
       "output_type": "pyout",
       "prompt_number": 6,
       "text": [
        "         passage        word                             phrase phrase type  \\\n",
        "0   #Genesis 1:1                                                              \n",
        "1         n59556                                   \u05d1\u05b0\u05bc\u05e8\u05b5\u05d0\u05e9\u05b4\u05c1\u0596\u05d9\u05ea          PP   \n",
        "2             n2         \u05d1\u05b0\u05bc                                                  \n",
        "3             n3   \u05e8\u05b5\u05d0\u05e9\u05b4\u05c1\u0596\u05d9\u05ea                                                  \n",
        "4             n4     \u05d1\u05b8\u05bc\u05e8\u05b8\u05a3\u05d0                                                  \n",
        "5         n59557                                        \u05d1\u05b8\u05bc\u05e8\u05b8\u05a3\u05d0          VP   \n",
        "6             n5   \u05d0\u05b1\u05dc\u05b9\u05d4\u05b4\u0591\u05d9\u05dd                                                  \n",
        "7         n59558                                      \u05d0\u05b1\u05dc\u05b9\u05d4\u05b4\u0591\u05d9\u05dd          NP   \n",
        "8         n59559              \u05d0\u05b5\u05a5\u05ea \u05d4\u05b7\u05e9\u05b8\u05bc\u05c1\u05de\u05b7\u0596\u05d9\u05b4\u05dd \u05d5\u05b0\u05d0\u05b5\u05a5\u05ea \u05d4\u05b8\u05d0\u05b8\u05bd\u05e8\u05b6\u05e5          PP   \n",
        "9             n6        \u05d0\u05b5\u05a5\u05ea                                                  \n",
        "10            n7          \u05d4\u05b7                                                  \n",
        "11            n8  \u05e9\u05b8\u05bc\u05c1\u05de\u05b7\u0596\u05d9\u05b4\u05dd                                                  \n",
        "12            n9          \u05d5\u05b0                                                  \n",
        "13           n10        \u05d0\u05b5\u05a5\u05ea                                                  \n",
        "14           n11          \u05d4\u05b8                                                  \n",
        "\n",
        "   part of speech dirk:part.intro dirk:part.role  \n",
        "0                                                 \n",
        "1                                                 \n",
        "2     preposition                                 \n",
        "3            noun                                 \n",
        "4            verb                                 \n",
        "5                                                 \n",
        "6            noun                                 \n",
        "7                                                 \n",
        "8                                                 \n",
        "9     preposition                                 \n",
        "10        article                                 \n",
        "11           noun                                 \n",
        "12    conjunction                                 \n",
        "13    preposition                                 \n",
        "14        article                                 \n",
        "\n",
        "[15 rows x 7 columns]"
       ]
      }
     ],
     "prompt_number": 6
    },
    {
     "cell_type": "heading",
     "level": 2,
     "metadata": {},
     "source": [
      "Step 2: Fill in the spreadsheet"
     ]
    },
    {
     "cell_type": "markdown",
     "metadata": {},
     "source": [
      "It is time to fill in your form. \n",
      "First we rename it, so that when you create a new blank form, it will not overwrite any data you have already filled in.\n",
      "\n",
      "We replace the ``form`` prefix in your file name by ``data``."
     ]
    },
    {
     "cell_type": "code",
     "collapsed": false,
     "input": [
      "shutil.move(\n",
      "    my_file(\"form_{}.csv\".format(form.name)),\n",
      "    my_file(\"data_{}.csv\".format(form.name))\n",
      ")"
     ],
     "language": "python",
     "metadata": {},
     "outputs": [
      {
       "metadata": {},
       "output_type": "pyout",
       "prompt_number": 7,
       "text": [
        "'/Users/dirk/laf-fabric-data/etcbc-bhs3/tasks/bhs3.txt.hdr/annox_workflow/data_dirk_intro_role.csv'"
       ]
      }
     ],
     "prompt_number": 7
    },
    {
     "cell_type": "markdown",
     "metadata": {},
     "source": [
      "Open the ``data`` file as a spreadsheet.\n",
      "OpenOffice is recommended for that, because it handles unicode well.\n",
      "\n",
      "Fill any your feature values as desired and save.\n",
      "\n",
      "On *Mac OS X* we can open the spreadsheet straight away:"
     ]
    },
    {
     "cell_type": "code",
     "collapsed": false,
     "input": [
      "!open /Applications/OpenOffice.app --args {my_file(\"data_{}.csv\".format(form.name))}"
     ],
     "language": "python",
     "metadata": {},
     "outputs": [],
     "prompt_number": 10
    },
    {
     "cell_type": "markdown",
     "metadata": {},
     "source": [
      "Here you see the latest content of the form:"
     ]
    },
    {
     "cell_type": "code",
     "collapsed": false,
     "input": [
      "form_data = pandas.read_csv(my_file(\"data_{}.csv\".format(form.name)), sep='\\t', na_filter=False)\n",
      "form_data.head(15)"
     ],
     "language": "python",
     "metadata": {},
     "outputs": [
      {
       "html": [
        "<div style=\"max-height:1000px;max-width:1500px;overflow:auto;\">\n",
        "<table border=\"1\" class=\"dataframe\">\n",
        "  <thead>\n",
        "    <tr style=\"text-align: right;\">\n",
        "      <th></th>\n",
        "      <th>passage</th>\n",
        "      <th>word</th>\n",
        "      <th>phrase</th>\n",
        "      <th>phrase type</th>\n",
        "      <th>part of speech</th>\n",
        "      <th>dirk:part.intro</th>\n",
        "      <th>dirk:part.role</th>\n",
        "    </tr>\n",
        "  </thead>\n",
        "  <tbody>\n",
        "    <tr>\n",
        "      <th>0 </th>\n",
        "      <td> #Genesis 1:1</td>\n",
        "      <td>           </td>\n",
        "      <td>                                  </td>\n",
        "      <td>   </td>\n",
        "      <td>            </td>\n",
        "      <td>     </td>\n",
        "      <td>     </td>\n",
        "    </tr>\n",
        "    <tr>\n",
        "      <th>1 </th>\n",
        "      <td>       n59556</td>\n",
        "      <td>           </td>\n",
        "      <td>                      \u05d1\u05b0\u05bc\u05e8\u05b5\u05d0\u05e9\u05b4\u05c1\u0596\u05d9\u05ea</td>\n",
        "      <td> PP</td>\n",
        "      <td>            </td>\n",
        "      <td>     </td>\n",
        "      <td>     </td>\n",
        "    </tr>\n",
        "    <tr>\n",
        "      <th>2 </th>\n",
        "      <td>           n2</td>\n",
        "      <td>        \u05d1\u05b0\u05bc</td>\n",
        "      <td>                                  </td>\n",
        "      <td>   </td>\n",
        "      <td> preposition</td>\n",
        "      <td> dddd</td>\n",
        "      <td>     </td>\n",
        "    </tr>\n",
        "    <tr>\n",
        "      <th>3 </th>\n",
        "      <td>           n3</td>\n",
        "      <td>  \u05e8\u05b5\u05d0\u05e9\u05b4\u05c1\u0596\u05d9\u05ea</td>\n",
        "      <td>                                  </td>\n",
        "      <td>   </td>\n",
        "      <td>        noun</td>\n",
        "      <td>     </td>\n",
        "      <td> eeee</td>\n",
        "    </tr>\n",
        "    <tr>\n",
        "      <th>4 </th>\n",
        "      <td>           n4</td>\n",
        "      <td>    \u05d1\u05b8\u05bc\u05e8\u05b8\u05a3\u05d0</td>\n",
        "      <td>                                  </td>\n",
        "      <td>   </td>\n",
        "      <td>        verb</td>\n",
        "      <td> 3333</td>\n",
        "      <td> 4444</td>\n",
        "    </tr>\n",
        "    <tr>\n",
        "      <th>5 </th>\n",
        "      <td>       n59557</td>\n",
        "      <td>           </td>\n",
        "      <td>                           \u05d1\u05b8\u05bc\u05e8\u05b8\u05a3\u05d0</td>\n",
        "      <td> VP</td>\n",
        "      <td>            </td>\n",
        "      <td>     </td>\n",
        "      <td>     </td>\n",
        "    </tr>\n",
        "    <tr>\n",
        "      <th>6 </th>\n",
        "      <td>           n5</td>\n",
        "      <td>  \u05d0\u05b1\u05dc\u05b9\u05d4\u05b4\u0591\u05d9\u05dd</td>\n",
        "      <td>                                  </td>\n",
        "      <td>   </td>\n",
        "      <td>        noun</td>\n",
        "      <td>     </td>\n",
        "      <td>     </td>\n",
        "    </tr>\n",
        "    <tr>\n",
        "      <th>7 </th>\n",
        "      <td>       n59558</td>\n",
        "      <td>           </td>\n",
        "      <td>                         \u05d0\u05b1\u05dc\u05b9\u05d4\u05b4\u0591\u05d9\u05dd</td>\n",
        "      <td> NP</td>\n",
        "      <td>            </td>\n",
        "      <td>     </td>\n",
        "      <td>     </td>\n",
        "    </tr>\n",
        "    <tr>\n",
        "      <th>8 </th>\n",
        "      <td>       n59559</td>\n",
        "      <td>           </td>\n",
        "      <td> \u05d0\u05b5\u05a5\u05ea \u05d4\u05b7\u05e9\u05b8\u05bc\u05c1\u05de\u05b7\u0596\u05d9\u05b4\u05dd \u05d5\u05b0\u05d0\u05b5\u05a5\u05ea \u05d4\u05b8\u05d0\u05b8\u05bd\u05e8\u05b6\u05e5</td>\n",
        "      <td> PP</td>\n",
        "      <td>            </td>\n",
        "      <td>     </td>\n",
        "      <td>     </td>\n",
        "    </tr>\n",
        "    <tr>\n",
        "      <th>9 </th>\n",
        "      <td>           n6</td>\n",
        "      <td>       \u05d0\u05b5\u05a5\u05ea</td>\n",
        "      <td>                                  </td>\n",
        "      <td>   </td>\n",
        "      <td> preposition</td>\n",
        "      <td>     </td>\n",
        "      <td>     </td>\n",
        "    </tr>\n",
        "    <tr>\n",
        "      <th>10</th>\n",
        "      <td>           n7</td>\n",
        "      <td>         \u05d4\u05b7</td>\n",
        "      <td>                                  </td>\n",
        "      <td>   </td>\n",
        "      <td>     article</td>\n",
        "      <td>     </td>\n",
        "      <td>     </td>\n",
        "    </tr>\n",
        "    <tr>\n",
        "      <th>11</th>\n",
        "      <td>           n8</td>\n",
        "      <td> \u05e9\u05b8\u05bc\u05c1\u05de\u05b7\u0596\u05d9\u05b4\u05dd</td>\n",
        "      <td>                                  </td>\n",
        "      <td>   </td>\n",
        "      <td>        noun</td>\n",
        "      <td>     </td>\n",
        "      <td>     </td>\n",
        "    </tr>\n",
        "    <tr>\n",
        "      <th>12</th>\n",
        "      <td>           n9</td>\n",
        "      <td>         \u05d5\u05b0</td>\n",
        "      <td>                                  </td>\n",
        "      <td>   </td>\n",
        "      <td> conjunction</td>\n",
        "      <td>     </td>\n",
        "      <td>     </td>\n",
        "    </tr>\n",
        "    <tr>\n",
        "      <th>13</th>\n",
        "      <td>          n10</td>\n",
        "      <td>       \u05d0\u05b5\u05a5\u05ea</td>\n",
        "      <td>                                  </td>\n",
        "      <td>   </td>\n",
        "      <td> preposition</td>\n",
        "      <td>     </td>\n",
        "      <td>     </td>\n",
        "    </tr>\n",
        "    <tr>\n",
        "      <th>14</th>\n",
        "      <td>          n11</td>\n",
        "      <td>         \u05d4\u05b8</td>\n",
        "      <td>                                  </td>\n",
        "      <td>   </td>\n",
        "      <td>     article</td>\n",
        "      <td>     </td>\n",
        "      <td>     </td>\n",
        "    </tr>\n",
        "  </tbody>\n",
        "</table>\n",
        "<p>15 rows \u00d7 7 columns</p>\n",
        "</div>"
       ],
       "metadata": {},
       "output_type": "pyout",
       "prompt_number": 11,
       "text": [
        "         passage        word                             phrase phrase type  \\\n",
        "0   #Genesis 1:1                                                              \n",
        "1         n59556                                   \u05d1\u05b0\u05bc\u05e8\u05b5\u05d0\u05e9\u05b4\u05c1\u0596\u05d9\u05ea          PP   \n",
        "2             n2         \u05d1\u05b0\u05bc                                                  \n",
        "3             n3   \u05e8\u05b5\u05d0\u05e9\u05b4\u05c1\u0596\u05d9\u05ea                                                  \n",
        "4             n4     \u05d1\u05b8\u05bc\u05e8\u05b8\u05a3\u05d0                                                  \n",
        "5         n59557                                        \u05d1\u05b8\u05bc\u05e8\u05b8\u05a3\u05d0          VP   \n",
        "6             n5   \u05d0\u05b1\u05dc\u05b9\u05d4\u05b4\u0591\u05d9\u05dd                                                  \n",
        "7         n59558                                      \u05d0\u05b1\u05dc\u05b9\u05d4\u05b4\u0591\u05d9\u05dd          NP   \n",
        "8         n59559              \u05d0\u05b5\u05a5\u05ea \u05d4\u05b7\u05e9\u05b8\u05bc\u05c1\u05de\u05b7\u0596\u05d9\u05b4\u05dd \u05d5\u05b0\u05d0\u05b5\u05a5\u05ea \u05d4\u05b8\u05d0\u05b8\u05bd\u05e8\u05b6\u05e5          PP   \n",
        "9             n6        \u05d0\u05b5\u05a5\u05ea                                                  \n",
        "10            n7          \u05d4\u05b7                                                  \n",
        "11            n8  \u05e9\u05b8\u05bc\u05c1\u05de\u05b7\u0596\u05d9\u05b4\u05dd                                                  \n",
        "12            n9          \u05d5\u05b0                                                  \n",
        "13           n10        \u05d0\u05b5\u05a5\u05ea                                                  \n",
        "14           n11          \u05d4\u05b8                                                  \n",
        "\n",
        "   part of speech dirk:part.intro dirk:part.role  \n",
        "0                                                 \n",
        "1                                                 \n",
        "2     preposition            dddd                 \n",
        "3            noun                           eeee  \n",
        "4            verb            3333           4444  \n",
        "5                                                 \n",
        "6            noun                                 \n",
        "7                                                 \n",
        "8                                                 \n",
        "9     preposition                                 \n",
        "10        article                                 \n",
        "11           noun                                 \n",
        "12    conjunction                                 \n",
        "13    preposition                                 \n",
        "14        article                                 \n",
        "\n",
        "[15 rows x 7 columns]"
       ]
      }
     ],
     "prompt_number": 11
    },
    {
     "cell_type": "heading",
     "level": 2,
     "metadata": {},
     "source": [
      "Step 3: Turn the spreadsheet into annotations"
     ]
    },
    {
     "cell_type": "markdown",
     "metadata": {},
     "source": [
      "The ``data`` file is going to be turned into an XML file with annotations to the original LAF resource.\n",
      "\n",
      "Here is the function doing that."
     ]
    },
    {
     "cell_type": "code",
     "collapsed": false,
     "input": [
      "form.make_annots()"
     ],
     "language": "python",
     "metadata": {},
     "outputs": [],
     "prompt_number": 12
    },
    {
     "cell_type": "markdown",
     "metadata": {},
     "source": [
      "Look at the freshly created annotations."
     ]
    },
    {
     "cell_type": "code",
     "collapsed": false,
     "input": [
      "!cat {my_file(\"annot_{}.xml\".format(form.name))}"
     ],
     "language": "python",
     "metadata": {},
     "outputs": [
      {
       "output_type": "stream",
       "stream": "stdout",
       "text": [
        "<?xml version=\"1.0\" encoding=\"UTF-8\"?>\r\n",
        "    <graph xmlns=\"http://www.xces.org/ns/GrAF/1.0/\" xmlns:graf=\"http://www.xces.org/ns/GrAF/1.0/\">\r\n",
        "    <graphHeader>\r\n",
        "        <labelsDecl/>\r\n",
        "        <dependencies/>\r\n",
        "        <annotationSpaces/>\r\n",
        "    </graphHeader>\r\n",
        "    <a xml:id=\"a1\" as=\"dirk\" label=\"part\" ref=\"n59560\"><fs>\r\n",
        "\t<f name=\"intro\" value=\"11111\"/>\r\n",
        "\t<f name=\"role\" value=\"22222\"/>\r\n",
        "</fs></a>\r\n",
        "<a xml:id=\"a2\" as=\"dirk\" label=\"part\" ref=\"n3\"><fs>\r\n",
        "\t<f name=\"role\" value=\"eeee\"/>\r\n",
        "</fs></a>\r\n",
        "<a xml:id=\"a3\" as=\"dirk\" label=\"part\" ref=\"n2\"><fs>\r\n",
        "\t<f name=\"intro\" value=\"dddd\"/>\r\n",
        "</fs></a>\r\n",
        "<a xml:id=\"a4\" as=\"dirk\" label=\"part\" ref=\"n4\"><fs>\r\n",
        "\t<f name=\"intro\" value=\"3333\"/>\r\n",
        "\t<f name=\"role\" value=\"4444\"/>\r\n",
        "</fs></a>\r\n",
        "<a xml:id=\"a5\" as=\"dirk\" label=\"part\" ref=\"n13\"><fs>\r\n",
        "\t<f name=\"role\" value=\"bbbbb\"/>\r\n",
        "</fs></a>\r\n",
        "</graph>\r\n"
       ]
      }
     ],
     "prompt_number": 13
    },
    {
     "cell_type": "heading",
     "level": 2,
     "metadata": {},
     "source": [
      "Step 4: Place the new annotation file in the right directory."
     ]
    },
    {
     "cell_type": "markdown",
     "metadata": {},
     "source": [
      "Here is the directory, we call it the *annox* directory."
     ]
    },
    {
     "cell_type": "code",
     "collapsed": false,
     "input": [
      "fabric.lafapi.names.env['a_source_dir'][0:-3]"
     ],
     "language": "python",
     "metadata": {},
     "outputs": [
      {
       "metadata": {},
       "output_type": "pyout",
       "prompt_number": 15,
       "text": [
        "'/Users/dirk/laf-fabric-data/etcbc-bhs3/annotations'"
       ]
      }
     ],
     "prompt_number": 15
    },
    {
     "cell_type": "markdown",
     "metadata": {},
     "source": [
      "Extra annotations are organized in packages.\n",
      "You can place multiple new annotation files in a package.\n",
      "\n",
      "Let us add this file to the existing package called ``testannots``.\n",
      "It is the *annox* directory.\n",
      "\n",
      "We put the new file in this directory:"
     ]
    },
    {
     "cell_type": "code",
     "collapsed": false,
     "input": [
      "shutil.copy(\n",
      "    my_file(\"annot_{}.xml\".format(form.name)),\n",
      "    \"{}/testparticipants\".format(fabric.lafapi.names.env['a_source_dir'][0:-3])\n",
      ")"
     ],
     "language": "python",
     "metadata": {},
     "outputs": [
      {
       "metadata": {},
       "output_type": "pyout",
       "prompt_number": 16,
       "text": [
        "'/Users/dirk/laf-fabric-data/etcbc-bhs3/annotations/testparticipants/annot_dirk_intro_role.xml'"
       ]
      }
     ],
     "prompt_number": 16
    },
    {
     "cell_type": "markdown",
     "metadata": {},
     "source": [
      "If you have more files, you can place them in the same directory, and for each file you have to add a line to the *header file* in that directory, like the existing line, resulting in:\n",
      "\n",
      "    <annotation f.id=\"f_dirk1\" loc=\"annot_dirk_intro_role.xml\"/>\n",
      "    <annotation f.id=\"f_dirk2\" loc=\"annot_dirk_other.xml\"/>\n",
      "\n",
      "The files in the package must be mentioned in the header file, that's the point."
     ]
    },
    {
     "cell_type": "heading",
     "level": 2,
     "metadata": {},
     "source": [
      "Step 5. Use the new annotations."
     ]
    },
    {
     "cell_type": "markdown",
     "metadata": {},
     "source": [
      "You can invoke an extra annotation package by mentioning it in the statement where you initialize the processor.\n",
      "\n",
      "The processor looks for the package, checks whether it has to be compiled, and if so, compiles it.\n",
      "Then the data corresponding to ``testannots`` is loaded after the main source has been loaded.\n",
      "\n",
      "What ever task you perform, it will have access to the new annotations."
     ]
    },
    {
     "cell_type": "code",
     "collapsed": false,
     "input": [
      "fabric.load('bhs3.txt.hdr', 'testparticipants', 'annox_workflow', {\n",
      "    \"primary\": True,\n",
      "    \"xmlids\": {\n",
      "        \"node\": True,\n",
      "        \"edge\": False,\n",
      "    },\n",
      "    \"features\": {\n",
      "        \"shebanq\": {\n",
      "            \"node\": [\n",
      "                \"db.otype\",\n",
      "                \"sft.verse_label\",\n",
      "            ],\n",
      "            \"edge\": [\n",
      "            ],\n",
      "        },\n",
      "        \"dirk\": {\n",
      "            \"node\": [\n",
      "                \"part.intro,role\",\n",
      "            ],\n",
      "        }\n",
      "    },\n",
      "})\n",
      "exec(fabric.localnames.format(var='fabric'))"
     ],
     "language": "python",
     "metadata": {},
     "outputs": [
      {
       "output_type": "stream",
       "stream": "stderr",
       "text": [
        "  0.00s LOADING API: please wait ... \n"
       ]
      },
      {
       "output_type": "stream",
       "stream": "stderr",
       "text": [
        "  0.00s DETAIL: COMPILING m: UP TO DATE\n"
       ]
      },
      {
       "output_type": "stream",
       "stream": "stderr",
       "text": [
        "  0.00s BEGIN COMPILE a: testparticipants\n"
       ]
      },
      {
       "output_type": "stream",
       "stream": "stderr",
       "text": [
        "  0.00s DETAIL: load main: X. [node]  -> \n"
       ]
      },
      {
       "output_type": "stream",
       "stream": "stderr",
       "text": [
        "  1.63s DETAIL: load main: X. [e]  -> \n"
       ]
      },
      {
       "output_type": "stream",
       "stream": "stderr",
       "text": [
        "  3.61s DETAIL: load main: G.node_anchor_min\n"
       ]
      },
      {
       "output_type": "stream",
       "stream": "stderr",
       "text": [
        "  3.73s DETAIL: load main: G.node_anchor_max\n"
       ]
      },
      {
       "output_type": "stream",
       "stream": "stderr",
       "text": [
        "  3.86s DETAIL: load main: G.node_sort\n"
       ]
      },
      {
       "output_type": "stream",
       "stream": "stderr",
       "text": [
        "  3.98s DETAIL: load main: G.node_sort_inv\n"
       ]
      },
      {
       "output_type": "stream",
       "stream": "stderr",
       "text": [
        "  4.92s DETAIL: load main: G.edges_from\n"
       ]
      },
      {
       "output_type": "stream",
       "stream": "stderr",
       "text": [
        "  5.04s DETAIL: load main: G.edges_to\n"
       ]
      },
      {
       "output_type": "stream",
       "stream": "stderr",
       "text": [
        "  5.16s LOGFILE=/Users/dirk/laf-fabric-data/etcbc-bhs3/bin/bhs3.txt.hdr/A/testparticipants/__log__compile__.txt\n"
       ]
      },
      {
       "output_type": "stream",
       "stream": "stderr",
       "text": [
        "  5.16s PARSING ANNOTATION FILES\n"
       ]
      },
      {
       "output_type": "stream",
       "stream": "stderr",
       "text": [
        "  5.17s INFO: parsing intro.xml\n"
       ]
      },
      {
       "output_type": "stream",
       "stream": "stderr",
       "text": [
        "  5.17s INFO: parsing verses.xml\n"
       ]
      },
      {
       "output_type": "stream",
       "stream": "stderr",
       "text": [
        "  5.17s INFO: parsing annot_dirk_intro_role.xml\n"
       ]
      },
      {
       "output_type": "stream",
       "stream": "stderr",
       "text": [
        "  5.17s INFO: END PARSING\n",
        "         0 good   regions  and     0 faulty ones\n",
        "         0 linked nodes    and     0 unlinked ones\n",
        "         0 good   edges    and     0 faulty ones\n",
        "        20 good   annots   and     0 faulty ones\n",
        "        26 good   features and     0 faulty ones\n",
        "        20 distinct xml identifiers\n",
        "\n"
       ]
      },
      {
       "output_type": "stream",
       "stream": "stderr",
       "text": [
        "  5.17s MODELING RESULT FILES\n"
       ]
      },
      {
       "output_type": "stream",
       "stream": "stderr",
       "text": [
        "  5.17s INFO: CONNECTIVITY\n"
       ]
      },
      {
       "output_type": "stream",
       "stream": "stderr",
       "text": [
        "  5.33s WRITING RESULT FILES for a\n"
       ]
      },
      {
       "output_type": "stream",
       "stream": "stderr",
       "text": [
        "  5.33s DETAIL: write annox: C.__y <- \n"
       ]
      },
      {
       "output_type": "stream",
       "stream": "stderr",
       "text": [
        "  5.33s DETAIL: write annox: C.dirk_part_sectioning <- \n"
       ]
      },
      {
       "output_type": "stream",
       "stream": "stderr",
       "text": [
        "  5.33s DETAIL: write annox: C.__y -> \n"
       ]
      },
      {
       "output_type": "stream",
       "stream": "stderr",
       "text": [
        "  5.33s DETAIL: write annox: C.dirk_part_sectioning -> \n"
       ]
      },
      {
       "output_type": "stream",
       "stream": "stderr",
       "text": [
        "  5.33s DETAIL: write annox: F.dirk_part_sectioning [e] \n"
       ]
      },
      {
       "output_type": "stream",
       "stream": "stderr",
       "text": [
        "  5.33s DETAIL: write annox: F.dirk_part_intro [node] \n"
       ]
      },
      {
       "output_type": "stream",
       "stream": "stderr",
       "text": [
        "  5.33s DETAIL: write annox: F.dirk_part_role [node] \n"
       ]
      },
      {
       "output_type": "stream",
       "stream": "stderr",
       "text": [
        "  5.34s END   COMPILE a: testparticipants\n"
       ]
      },
      {
       "output_type": "stream",
       "stream": "stderr",
       "text": [
        "  5.34s DETAIL: keep main: P.node_anchor\n"
       ]
      },
      {
       "output_type": "stream",
       "stream": "stderr",
       "text": [
        "  5.34s DETAIL: keep main: P.node_anchor_items\n"
       ]
      },
      {
       "output_type": "stream",
       "stream": "stderr",
       "text": [
        "  5.34s DETAIL: keep main: G.node_anchor_min\n"
       ]
      },
      {
       "output_type": "stream",
       "stream": "stderr",
       "text": [
        "  5.34s DETAIL: keep main: G.node_anchor_max\n"
       ]
      },
      {
       "output_type": "stream",
       "stream": "stderr",
       "text": [
        "  5.34s DETAIL: keep main: P.node_events\n"
       ]
      },
      {
       "output_type": "stream",
       "stream": "stderr",
       "text": [
        "  5.34s DETAIL: keep main: P.node_events_items\n"
       ]
      },
      {
       "output_type": "stream",
       "stream": "stderr",
       "text": [
        "  5.34s DETAIL: keep main: P.node_events_k\n"
       ]
      },
      {
       "output_type": "stream",
       "stream": "stderr",
       "text": [
        "  5.34s DETAIL: keep main: P.node_events_n\n"
       ]
      },
      {
       "output_type": "stream",
       "stream": "stderr",
       "text": [
        "  5.34s DETAIL: keep main: G.node_sort\n"
       ]
      },
      {
       "output_type": "stream",
       "stream": "stderr",
       "text": [
        "  5.34s DETAIL: keep main: G.node_sort_inv\n"
       ]
      },
      {
       "output_type": "stream",
       "stream": "stderr",
       "text": [
        "  5.35s DETAIL: keep main: G.edges_from\n"
       ]
      },
      {
       "output_type": "stream",
       "stream": "stderr",
       "text": [
        "  5.35s DETAIL: keep main: G.edges_to\n"
       ]
      },
      {
       "output_type": "stream",
       "stream": "stderr",
       "text": [
        "  5.35s DETAIL: keep main: P.primary_data\n"
       ]
      },
      {
       "output_type": "stream",
       "stream": "stderr",
       "text": [
        "  5.35s DETAIL: keep main: X. [node]  -> \n"
       ]
      },
      {
       "output_type": "stream",
       "stream": "stderr",
       "text": [
        "  5.35s DETAIL: keep main: X. [node]  <- \n"
       ]
      },
      {
       "output_type": "stream",
       "stream": "stderr",
       "text": [
        "  5.35s DETAIL: keep main: F.shebanq_db_otype [node] \n"
       ]
      },
      {
       "output_type": "stream",
       "stream": "stderr",
       "text": [
        "  5.36s DETAIL: clear main: F.shebanq_db_oid [node] \n"
       ]
      },
      {
       "output_type": "stream",
       "stream": "stderr",
       "text": [
        "  5.36s DETAIL: clear main: F.shebanq_db_monads [node] \n"
       ]
      },
      {
       "output_type": "stream",
       "stream": "stderr",
       "text": [
        "  5.36s DETAIL: clear main: F.shebanq_ft_phrase_type [node] \n"
       ]
      },
      {
       "output_type": "stream",
       "stream": "stderr",
       "text": [
        "  5.36s DETAIL: clear main: F.shebanq_ft_part_of_speech [node] \n"
       ]
      },
      {
       "output_type": "stream",
       "stream": "stderr",
       "text": [
        "  5.36s DETAIL: clear main: F.shebanq_sft_book [node] \n"
       ]
      },
      {
       "output_type": "stream",
       "stream": "stderr",
       "text": [
        "  5.36s DETAIL: clear main: F.shebanq_sft_chapter [node] \n"
       ]
      },
      {
       "output_type": "stream",
       "stream": "stderr",
       "text": [
        "  5.36s DETAIL: clear main: F.shebanq_sft_verse [node] \n"
       ]
      },
      {
       "output_type": "stream",
       "stream": "stderr",
       "text": [
        "  5.36s DETAIL: load main: F.dirk_part_intro [node] \n"
       ]
      },
      {
       "output_type": "stream",
       "stream": "stderr",
       "text": [
        "  5.36s DETAIL: load main: F.dirk_part_role [node] \n"
       ]
      },
      {
       "output_type": "stream",
       "stream": "stderr",
       "text": [
        "  5.36s DETAIL: load main: F.shebanq_sft_verse_label [node] \n"
       ]
      },
      {
       "output_type": "stream",
       "stream": "stderr",
       "text": [
        "  5.39s DETAIL: load annox: F.dirk_part_intro [node] \n"
       ]
      },
      {
       "output_type": "stream",
       "stream": "stderr",
       "text": [
        "  5.39s DETAIL: load annox: F.dirk_part_role [node] \n"
       ]
      },
      {
       "output_type": "stream",
       "stream": "stderr",
       "text": [
        "  5.39s DETAIL: load annox: F.shebanq_db_otype [node] \n"
       ]
      },
      {
       "output_type": "stream",
       "stream": "stderr",
       "text": [
        "  5.39s DETAIL: load annox: F.shebanq_sft_verse_label [node] \n"
       ]
      },
      {
       "output_type": "stream",
       "stream": "stderr",
       "text": [
        "  5.39s LOGFILE=/Users/dirk/laf-fabric-data/etcbc-bhs3/tasks/bhs3.txt.hdr/annox_workflow/__log__annox_workflow.txt\n"
       ]
      },
      {
       "output_type": "stream",
       "stream": "stderr",
       "text": [
        "  5.40s INFO: DATA LOADED FROM SOURCE bhs3.txt.hdr AND ANNOX testparticipants FOR TASK annox_workflow\n"
       ]
      }
     ],
     "prompt_number": 17
    },
    {
     "cell_type": "markdown",
     "metadata": {},
     "source": [
      "So let us check which objects have got annotations.\n",
      "\n",
      "For every object we show its type, its XML id in the LAF source, its primary data and the two new feature values, if applicable."
     ]
    },
    {
     "cell_type": "code",
     "collapsed": false,
     "input": [
      "msg(\"Looking for fresh annotations ...\")\n",
      "cur_verse = None\n",
      "\n",
      "for node in NN():\n",
      "    otype = F.shebanq_db_otype.v(node)\n",
      "    if otype == 'verse':\n",
      "        cur_verse = node\n",
      "        continue\n",
      "    intro = F.dirk_part_intro.v(node)\n",
      "    role = F.dirk_part_role.v(node)\n",
      "    if intro != None or role != None:\n",
      "        verse = F.shebanq_sft_verse_label.v(cur_verse)\n",
      "        text = \" \".join([txt for (n, txt) in P.data(node)])\n",
      "        xmlid = X.r(node)\n",
      "        print(\"{:<12} {:<6} id={:<8} {:<17}{:<16} {:<20}\".format(\n",
      "            verse,\n",
      "            otype, \n",
      "            xmlid, \n",
      "            \"intro={:<10} \".format(intro) if intro != None else '',\n",
      "            \"role={:<10} \".format(role) if role != None else '',\n",
      "            text,\n",
      "        ))\n",
      "msg(\"Done\")"
     ],
     "language": "python",
     "metadata": {},
     "outputs": [
      {
       "output_type": "stream",
       "stream": "stderr",
       "text": [
        "  5.94s Looking for fresh annotations ...\n"
       ]
      },
      {
       "output_type": "stream",
       "stream": "stderr",
       "text": [
        "    10s Done\n"
       ]
      },
      {
       "output_type": "stream",
       "stream": "stdout",
       "text": [
        " GEN 01,01   phrase id=n59556   intro=QQQQ                        \u05d1\u05b0\u05bc\u05e8\u05b5\u05d0\u05e9\u05b4\u05c1\u0596\u05d9\u05ea        \n",
        " GEN 01,01   word   id=n2       intro=ppp        role=X-x-x-x     \u05d1\u05b0\u05bc                 \n",
        " GEN 01,01   word   id=n3       intro=AAAAAA                      \u05e8\u05b5\u05d0\u05e9\u05b4\u05c1\u0596\u05d9\u05ea           \n",
        " GEN 01,01   word   id=n4       intro=VVVVVV                      \u05d1\u05b8\u05bc\u05e8\u05b8\u05a3\u05d0             \n",
        " GEN 01,01   phrase id=n59557   intro=FFFF                        \u05d1\u05b8\u05bc\u05e8\u05b8\u05a3\u05d0             \n",
        " GEN 01,01   word   id=n5       intro=BBBBBB                      \u05d0\u05b1\u05dc\u05b9\u05d4\u05b4\u0591\u05d9\u05dd           \n",
        " GEN 01,01   phrase id=n59558   intro=GGGG       role=T-t-t-t-t   \u05d0\u05b1\u05dc\u05b9\u05d4\u05b4\u0591\u05d9\u05dd           \n",
        " GEN 01,01   word   id=n6       intro=QWX        role=Y-y-y-y     \u05d0\u05b5\u05a5\u05ea                \n",
        " GEN 01,01   word   id=n7                        role=12345       \u05d4\u05b7                  \n",
        " GEN 01,01   word   id=n8       intro=CCCCCC                      \u05e9\u05b8\u05bc\u05c1\u05de\u05b7\u0596\u05d9\u05b4\u05dd          \n",
        " GEN 01,01   word   id=n9       intro=AXRT                        \u05d5\u05b0                  \n",
        " GEN 01,01   subphrase id=n77638   intro=RRRR       role=V-v-v-v     \u05d0\u05b5\u05a5\u05ea \u05d4\u05b8\u05d0\u05b8\u05bd\u05e8\u05b6\u05e5       \n",
        " GEN 01,01   word   id=n10                       role=CREWQ       \u05d0\u05b5\u05a5\u05ea                \n",
        " GEN 01,01   word   id=n11      intro=UUUUUU     role=H-h-h       \u05d4\u05b8                  \n",
        " GEN 01,02   phrase id=n59561   intro=12365      role=A56T        \u05d4\u05b8\u05d0\u05b8\u0597\u05e8\u05b6\u05e5            \n",
        " GEN 01,02   word   id=n16      intro=GOLL       role=PRLOG       \u05d4\u05b8\u05d9\u05b0\u05ea\u05b8\u05a5\u05d4            \n"
       ]
      }
     ],
     "prompt_number": 14
    },
    {
     "cell_type": "code",
     "collapsed": false,
     "input": [],
     "language": "python",
     "metadata": {},
     "outputs": []
    }
   ],
   "metadata": {}
  }
 ]
}