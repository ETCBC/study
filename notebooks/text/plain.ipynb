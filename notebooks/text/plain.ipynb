{
 "metadata": {
  "name": ""
 },
 "nbformat": 3,
 "nbformat_minor": 0,
 "worksheets": [
  {
   "cells": [
    {
     "cell_type": "markdown",
     "metadata": {},
     "source": [
      "<a href=\"http://laf-fabric.readthedocs.org/en/latest/\" target=\"_blank\"><img src=\"files/images/laf-fabric-small.png\"/></a>\n",
      "<a href=\"http://www.dans.knaw.nl\" target=\"_blank\"><img src=\"files/images/DANS-small.png\"/></a>\n",
      "<a href=\"http://tla.mpi.nl\" target=\"_blank\"><img src=\"files/images/TLA-small.png\"/></a>\n",
      "<a href=\"http://www.godgeleerdheid.vu.nl/etcbc\" target=\"_blank\"><img src=\"files/images/VU-ETCBC-small.png\"/></a>"
     ]
    },
    {
     "cell_type": "heading",
     "level": 1,
     "metadata": {},
     "source": [
      "Plain Text"
     ]
    },
    {
     "cell_type": "heading",
     "level": 1,
     "metadata": {},
     "source": [
      "Text from features"
     ]
    },
    {
     "cell_type": "markdown",
     "metadata": {},
     "source": [
      "Here comes the plain text of the Hebrew Bible.\n",
      "\n",
      "You can retrieve a text that is identical to the primary data of the LAF resource.\n",
      "So what is the use?\n",
      "\n",
      "* You can use it as a check that the LAF-Fabric machinery works correct\n",
      "* You can make text selections that interest you\n",
      "* You can ask for the unvocalized text\n",
      "\n",
      "The text is obtained by walking all word nodes and concatenate their ``text`` or ``text_plain`` and ``suffix`` features.\n",
      "\n",
      "The ``text`` feature contains the unicode representation of the vocalized text of the word.\n",
      "\n",
      "The ``text_plain`` feature contains the unicode representation of the consonantal text of the word.\n",
      "\n",
      "The ``suffix`` feature contains the unicode representation of material that follows the word,\n",
      "but does not belong to the word and neither to the following word. \n",
      "It may be empty, a space, punctuation, or certain other textual marks."
     ]
    },
    {
     "cell_type": "code",
     "collapsed": false,
     "input": [
      "import sys\n",
      "import collections\n",
      "\n",
      "import laf\n",
      "from laf.notebook import Notebook\n",
      "\n",
      "processor = Notebook()"
     ],
     "language": "python",
     "metadata": {},
     "outputs": [
      {
       "output_type": "stream",
       "stream": "stderr",
       "text": [
        "This is LAF-Fabric 3.6.0\n"
       ]
      }
     ],
     "prompt_number": 1
    },
    {
     "cell_type": "code",
     "collapsed": false,
     "input": [
      "processor.init('bhs3.txt.hdr', '--', 'plain', {\n",
      "    \"xmlids\": {\n",
      "        \"node\": False,\n",
      "        \"edge\": False,\n",
      "    },\n",
      "    \"features\": {\n",
      "        \"shebanq\": {\n",
      "            \"node\": [\n",
      "                \"db.otype\",\n",
      "                \"ft.text,text_plain,suffix\",\n",
      "                \"ft.graphical_word,surface_consonants\",\n",
      "                \"ft.lexeme_utf8,part_of_speech\",\n",
      "                \"sft.book,chapter,verse,verse_label\",\n",
      "            ],\n",
      "            \"edge\": [\n",
      "            ],\n",
      "        },\n",
      "    },\n",
      "    \"primary\": True,\n",
      "})\n",
      "\n",
      "API = processor.API()\n",
      "F = API['F']\n",
      "NN = API['NN']\n",
      "P = API['P']\n",
      "msg = API['msg']\n",
      "outfile = API['outfile']\n",
      "my_file = API['my_file']"
     ],
     "language": "python",
     "metadata": {},
     "outputs": [
      {
       "output_type": "stream",
       "stream": "stderr",
       "text": [
        "  0.00s COMPILING source: UP TO DATE\n"
       ]
      },
      {
       "output_type": "stream",
       "stream": "stderr",
       "text": [
        "  0.00s COMPILING annox: UP TO DATE\n"
       ]
      },
      {
       "output_type": "stream",
       "stream": "stderr",
       "text": [
        "  0.00s LOADING DATA: please wait ...\n"
       ]
      },
      {
       "output_type": "stream",
       "stream": "stderr",
       "text": [
        "  8.04s LOADING DATA: DONE\n"
       ]
      },
      {
       "output_type": "stream",
       "stream": "stderr",
       "text": [
        "  0.00s LOGFILE=/Users/dirk/Scratch/laf-fabric-data/bhs3.txt.hdr/plain/__log__plain.txt\n"
       ]
      },
      {
       "output_type": "stream",
       "stream": "stderr",
       "text": [
        "  0.00s BEGIN TASK=plain SOURCE=bhs3.txt.hdr\n"
       ]
      },
      {
       "output_type": "stream",
       "stream": "stderr",
       "text": [
        "  0.00s LOADING API: please wait ... \n"
       ]
      },
      {
       "output_type": "stream",
       "stream": "stderr",
       "text": [
        "  0.30s LOADING API: DONE\n"
       ]
      }
     ],
     "prompt_number": 2
    },
    {
     "cell_type": "heading",
     "level": 2,
     "metadata": {},
     "source": [
      "Suffix"
     ]
    },
    {
     "cell_type": "markdown",
     "metadata": {},
     "source": [
      "Before we generate the text, let's list all the different suffixes and their number of occurrences."
     ]
    },
    {
     "cell_type": "code",
     "collapsed": false,
     "input": [
      "suffix = collections.defaultdict(int)\n",
      "\n",
      "for node in NN(test=F.shebanq_db_otype.v, value='word'):\n",
      "    suffix[F.shebanq_ft_suffix.v(node)] += 1\n",
      "\n",
      "suffix_file = outfile('suffixes.txt')\n",
      "for (suff, n) in sorted(suffix.items(), key=lambda x: (-x[1], x[0])):\n",
      "    suffix_file.write(\"{:>7} x [{}]\\n\".format(n, suff))\n",
      "suffix_file.close()"
     ],
     "language": "python",
     "metadata": {},
     "outputs": [
      {
       "output_type": "stream",
       "stream": "stderr",
       "text": [
        "  4.95s Sort order of nodes back to original\n"
       ]
      }
     ],
     "prompt_number": 3
    },
    {
     "cell_type": "code",
     "collapsed": false,
     "input": [
      "cat {my_file('suffixes.txt')}"
     ],
     "language": "python",
     "metadata": {},
     "outputs": [
      {
       "output_type": "stream",
       "stream": "stdout",
       "text": [
        " 237049 x [ ]\r\n",
        " 121775 x []\r\n",
        "  42216 x [\u05be]\r\n",
        "  20039 x [\u05c3]\r\n",
        "   2266 x [ \u05c0 ]\r\n",
        "   1892 x [\u05c3 \u05e1]\r\n",
        "   1164 x [\u05c3 \u05e4]\r\n",
        "     76 x [ \u05e1]\r\n",
        "     13 x [ \u05e4]\r\n",
        "      7 x [\u05c3 \u05c6]\r\n",
        "      1 x [\u05c3 \u05c6 \u05e1]\r\n",
        "      1 x [\u05c3 \u05c6 \u05e4]\r\n"
       ]
      }
     ],
     "prompt_number": 4
    },
    {
     "cell_type": "heading",
     "level": 2,
     "metadata": {},
     "source": [
      "Vocalized text versus consonantal text, Hebrew Unicode versus Transliteration"
     ]
    },
    {
     "cell_type": "markdown",
     "metadata": {},
     "source": [
      "Now the complete text, note that we insert some newlines.\n",
      "\n",
      "If you want the consonantal text, use the feature ``text`` by ``text_plain``.\n",
      "\n",
      "In many cases the use of Hebrew Unicode characters, however pleasing to the eye, is not preferred.\n",
      "Often the Hebrew occurrs embedded in non-Hebrew text, or under tree structures where the Hebrew right-to-left writing\n",
      "direction does not play nice with the context.\n",
      "Moreover, rendering software such as text editor, command prompts and browsers solve the puzzle of multiple writing directions\n",
      "in unpredictable ways.\n",
      "\n",
      "In those cases you can resort to a *transliteration*, with or without vowels.\n",
      "Use the features ``graphical_word`` and ``surface_consonants``."
     ]
    },
    {
     "cell_type": "code",
     "collapsed": false,
     "input": [
      "plain_file = processor.add_output(\"bhs3_plain.txt\")\n",
      "plainc_file = processor.add_output(\"bhs3_plainc.txt\")\n",
      "plaint_file = processor.add_output(\"bhs3_plaint.txt\")\n",
      "plaintc_file = processor.add_output(\"bhs3_plaintc.txt\")\n",
      "\n",
      "for i in F.shebanq_db_otype.s('word'):\n",
      "    the_text = F.shebanq_ft_text.v(i)\n",
      "    the_textc = F.shebanq_ft_text_plain.v(i)\n",
      "    the_textt = F.shebanq_ft_graphical_word.v(i)\n",
      "    the_texttc = F.shebanq_ft_surface_consonants.v(i)\n",
      "    the_suffix = F.shebanq_ft_suffix.v(i)\n",
      "    the_newline = \"\\n\" if '\u05c3' in the_suffix else \"\"\n",
      "    plain_file.write(the_text + the_suffix + the_newline)\n",
      "    plainc_file.write(the_textc + the_suffix + the_newline)\n",
      "    plaint_file.write(the_textt + \" \" + the_newline)\n",
      "    plaintc_file.write(the_texttc + \" \" + the_newline)\n",
      "\n",
      "plain_file.close()\n",
      "plainc_file.close()\n",
      "plaint_file.close()\n",
      "plaintc_file.close()"
     ],
     "language": "python",
     "metadata": {},
     "outputs": [],
     "prompt_number": 13
    },
    {
     "cell_type": "code",
     "collapsed": true,
     "input": [
      "!head -n 10 {my_file('bhs3_plain.txt')}"
     ],
     "language": "python",
     "metadata": {},
     "outputs": [
      {
       "output_type": "stream",
       "stream": "stdout",
       "text": [
        "\u05d1\u05b0\u05bc\u05e8\u05b5\u05d0\u05e9\u05b4\u05c1\u0596\u05d9\u05ea \u05d1\u05b8\u05bc\u05e8\u05b8\u05a3\u05d0 \u05d0\u05b1\u05dc\u05b9\u05d4\u05b4\u0591\u05d9\u05dd \u05d0\u05b5\u05a5\u05ea \u05d4\u05b7\u05e9\u05b8\u05bc\u05c1\u05de\u05b7\u0596\u05d9\u05b4\u05dd \u05d5\u05b0\u05d0\u05b5\u05a5\u05ea \u05d4\u05b8\u05d0\u05b8\u05bd\u05e8\u05b6\u05e5\u05c3\r\n",
        "\u05d5\u05b0\u05d4\u05b8\u05d0\u05b8\u0597\u05e8\u05b6\u05e5 \u05d4\u05b8\u05d9\u05b0\u05ea\u05b8\u05a5\u05d4 \u05ea\u05b9\u05a8\u05d4\u05d5\u05bc\u0599 \u05d5\u05b8\u05d1\u05b9\u0594\u05d4\u05d5\u05bc \u05d5\u05b0\u05d7\u05b9\u0596\u05e9\u05b6\u05c1\u05da\u05b0 \u05e2\u05b7\u05dc\u05be\u05e4\u05b0\u05bc\u05e0\u05b5\u05a3\u05d9 \u05ea\u05b0\u05d4\u05b9\u0591\u05d5\u05dd \u05d5\u05b0\u05e8\u05a3\u05d5\u05bc\u05d7\u05b7 \u05d0\u05b1\u05dc\u05b9\u05d4\u05b4\u0594\u05d9\u05dd \u05de\u05b0\u05e8\u05b7\u05d7\u05b6\u0596\u05e4\u05b6\u05ea \u05e2\u05b7\u05dc\u05be\u05e4\u05b0\u05bc\u05e0\u05b5\u05a5\u05d9 \u05d4\u05b7\u05de\u05b8\u05bc\u05bd\u05d9\u05b4\u05dd\u05c3\r\n",
        "\u05d5\u05b7\u05d9\u05b9\u05bc\u05a5\u05d0\u05de\u05b6\u05e8 \u05d0\u05b1\u05dc\u05b9\u05d4\u05b4\u0596\u05d9\u05dd \u05d9\u05b0\u05d4\u05b4\u05a3\u05d9 \u05d0\u05b9\u0591\u05d5\u05e8 \u05d5\u05b7\u05bd\u05d9\u05b0\u05d4\u05b4\u05d9\u05be\u05d0\u05b9\u05bd\u05d5\u05e8\u05c3\r\n",
        "\u05d5\u05b7\u05d9\u05b7\u05bc\u05a7\u05e8\u05b0\u05d0 \u05d0\u05b1\u05dc\u05b9\u05d4\u05b4\u059b\u05d9\u05dd \u05d0\u05b6\u05ea\u05be\u05d4\u05b8\u05d0\u05b9\u0596\u05d5\u05e8 \u05db\u05b4\u05bc\u05d9\u05be\u05d8\u05b9\u0591\u05d5\u05d1 \u05d5\u05b7\u05d9\u05b7\u05bc\u05d1\u05b0\u05d3\u05b5\u05bc\u05a3\u05dc \u05d0\u05b1\u05dc\u05b9\u05d4\u05b4\u0594\u05d9\u05dd \u05d1\u05b5\u05bc\u05a5\u05d9\u05df \u05d4\u05b8\u05d0\u05b9\u0596\u05d5\u05e8 \u05d5\u05bc\u05d1\u05b5\u05a5\u05d9\u05df \u05d4\u05b7\u05d7\u05b9\u05bd\u05e9\u05b6\u05c1\u05da\u05b0\u05c3\r\n",
        "\u05d5\u05b7\u05d9\u05b4\u05bc\u05e7\u05b0\u05e8\u05b8\u05a8\u05d0 \u05d0\u05b1\u05dc\u05b9\u05d4\u05b4\u05a4\u05d9\u05dd \u05c0 \u05dc\u05b8\u05d0\u05b9\u05d5\u05e8\u0599 \u05d9\u05b9\u0594\u05d5\u05dd \u05d5\u05b0\u05dc\u05b7\u05d7\u05b9\u0596\u05e9\u05b6\u05c1\u05da\u05b0 \u05e7\u05b8\u05a3\u05e8\u05b8\u05d0 \u05dc\u05b8\u0591\u05d9\u05b0\u05dc\u05b8\u05d4 \u05d5\u05b7\u05bd\u05d9\u05b0\u05d4\u05b4\u05d9\u05be\u05e2\u05b6\u05a5\u05e8\u05b6\u05d1 \u05d5\u05b7\u05bd\u05d9\u05b0\u05d4\u05b4\u05d9\u05be\u05d1\u05b9\u0596\u05e7\u05b6\u05e8 \u05d9\u05b9\u05a5\u05d5\u05dd \u05d0\u05b6\u05d7\u05b8\u05bd\u05d3\u05c3 \u05e4\r\n",
        "\u05d5\u05b7\u05d9\u05b9\u05bc\u05a3\u05d0\u05de\u05b6\u05e8 \u05d0\u05b1\u05dc\u05b9\u05d4\u05b4\u0594\u05d9\u05dd \u05d9\u05b0\u05d4\u05b4\u05a5\u05d9 \u05e8\u05b8\u05e7\u05b4\u0596\u05d9\u05e2\u05b7 \u05d1\u05b0\u05bc\u05ea\u05b9\u05a3\u05d5\u05da\u05b0 \u05d4\u05b7\u05de\u05b8\u05bc\u0591\u05d9\u05b4\u05dd \u05d5\u05b4\u05d9\u05d4\u05b4\u05a3\u05d9 \u05de\u05b7\u05d1\u05b0\u05d3\u05b4\u05bc\u0594\u05d9\u05dc \u05d1\u05b5\u05bc\u05a5\u05d9\u05df \u05de\u05b7\u0596\u05d9\u05b4\u05dd \u05dc\u05b8\u05de\u05b8\u05bd\u05d9\u05b4\u05dd\u05c3\r\n",
        "\u05d5\u05b7\u05d9\u05b7\u05bc\u05a3\u05e2\u05b7\u05e9\u05c2 \u05d0\u05b1\u05dc\u05b9\u05d4\u05b4\u05d9\u05dd\u05ae \u05d0\u05b6\u05ea\u05be\u05d4\u05b8\u05e8\u05b8\u05e7\u05b4\u05d9\u05e2\u05b7\u0592 \u05d5\u05b7\u05d9\u05b7\u05bc\u05d1\u05b0\u05d3\u05b5\u05bc\u0597\u05dc \u05d1\u05b5\u05bc\u05a4\u05d9\u05df \u05d4\u05b7\u05de\u05b7\u05bc\u05a8\u05d9\u05b4\u05dd\u0599 \u05d0\u05b2\u05e9\u05b6\u05c1\u05e8\u0599 \u05de\u05b4\u05ea\u05b7\u05bc\u05a3\u05d7\u05b7\u05ea \u05dc\u05b8\u05e8\u05b8\u05e7\u05b4\u0594\u05d9\u05e2\u05b7 \u05d5\u05bc\u05d1\u05b5\u05a3\u05d9\u05df \u05d4\u05b7\u05de\u05b7\u05bc\u0594\u05d9\u05b4\u05dd \u05d0\u05b2\u05e9\u05b6\u05c1\u0596\u05e8 \u05de\u05b5\u05e2\u05b7\u05a3\u05dc \u05dc\u05b8\u05e8\u05b8\u05e7\u05b4\u0591\u05d9\u05e2\u05b7 \u05d5\u05b7\u05bd\u05d9\u05b0\u05d4\u05b4\u05d9\u05be\u05db\u05b5\u05bd\u05df\u05c3\r\n",
        "\u05d5\u05b7\u05d9\u05b4\u05bc\u05e7\u05b0\u05e8\u05b8\u05a7\u05d0 \u05d0\u05b1\u05dc\u05b9\u05d4\u05b4\u059b\u05d9\u05dd \u05dc\u05b8\u05bd\u05e8\u05b8\u05e7\u05b4\u0596\u05d9\u05e2\u05b7 \u05e9\u05b8\u05c1\u05de\u05b8\u0591\u05d9\u05b4\u05dd \u05d5\u05b7\u05bd\u05d9\u05b0\u05d4\u05b4\u05d9\u05be\u05e2\u05b6\u05a5\u05e8\u05b6\u05d1 \u05d5\u05b7\u05bd\u05d9\u05b0\u05d4\u05b4\u05d9\u05be\u05d1\u05b9\u0596\u05e7\u05b6\u05e8 \u05d9\u05b9\u05a5\u05d5\u05dd \u05e9\u05b5\u05c1\u05e0\u05b4\u05bd\u05d9\u05c3 \u05e4\r\n",
        "\u05d5\u05b7\u05d9\u05b9\u05bc\u05a3\u05d0\u05de\u05b6\u05e8 \u05d0\u05b1\u05dc\u05b9\u05d4\u05b4\u0597\u05d9\u05dd \u05d9\u05b4\u05e7\u05b8\u05bc\u05d5\u05a8\u05d5\u05bc \u05d4\u05b7\u05de\u05b7\u05bc\u059c\u05d9\u05b4\u05dd \u05de\u05b4\u05ea\u05b7\u05bc\u05a4\u05d7\u05b7\u05ea \u05d4\u05b7\u05e9\u05b8\u05bc\u05c1\u05de\u05b7\u05a8\u05d9\u05b4\u05dd\u0599 \u05d0\u05b6\u05dc\u05be\u05de\u05b8\u05e7\u05b9\u05a3\u05d5\u05dd \u05d0\u05b6\u05d7\u05b8\u0594\u05d3 \u05d5\u05b0\u05ea\u05b5\u05e8\u05b8\u05d0\u05b6\u0596\u05d4 \u05d4\u05b7\u05d9\u05b7\u05bc\u05d1\u05b8\u05bc\u05e9\u05b8\u05c1\u0591\u05d4 \u05d5\u05b7\u05bd\u05d9\u05b0\u05d4\u05b4\u05d9\u05be\u05db\u05b5\u05bd\u05df\u05c3\r\n",
        "\u05d5\u05b7\u05d9\u05b4\u05bc\u05e7\u05b0\u05e8\u05b8\u05a8\u05d0 \u05d0\u05b1\u05dc\u05b9\u05d4\u05b4\u05a4\u05d9\u05dd \u05c0 \u05dc\u05b7\u05d9\u05b7\u05bc\u05d1\u05b8\u05bc\u05e9\u05b8\u05c1\u05d4\u0599 \u05d0\u05b6\u0594\u05e8\u05b6\u05e5 \u05d5\u05bc\u05dc\u05b0\u05de\u05b4\u05e7\u05b0\u05d5\u05b5\u05a5\u05d4 \u05d4\u05b7\u05de\u05b7\u05bc\u0596\u05d9\u05b4\u05dd \u05e7\u05b8\u05e8\u05b8\u05a3\u05d0 \u05d9\u05b7\u05de\u05b4\u05bc\u0591\u05d9\u05dd \u05d5\u05b7\u05d9\u05b7\u05bc\u05a5\u05e8\u05b0\u05d0 \u05d0\u05b1\u05dc\u05b9\u05d4\u05b4\u0596\u05d9\u05dd \u05db\u05b4\u05bc\u05d9\u05be\u05d8\u05b9\u05bd\u05d5\u05d1\u05c3\r\n"
       ]
      }
     ],
     "prompt_number": 10
    },
    {
     "cell_type": "code",
     "collapsed": true,
     "input": [
      "!head -n 10 {my_file('bhs3_plainc.txt')}"
     ],
     "language": "python",
     "metadata": {},
     "outputs": [
      {
       "output_type": "stream",
       "stream": "stdout",
       "text": [
        "\u05d1\u05e8\u05d0\u05e9\u05c1\u05d9\u05ea \u05d1\u05e8\u05d0 \u05d0\u05dc\u05d4\u05d9\u05dd \u05d0\u05ea \u05d4\u05e9\u05c1\u05de\u05d9\u05dd \u05d5\u05d0\u05ea \u05d4\u05d0\u05e8\u05e5\u05c3\r\n",
        "\u05d5\u05d4\u05d0\u05e8\u05e5 \u05d4\u05d9\u05ea\u05d4 \u05ea\u05d4\u05d5 \u05d5\u05d1\u05d4\u05d5 \u05d5\u05d7\u05e9\u05c1\u05da \u05e2\u05dc\u05be\u05e4\u05e0\u05d9 \u05ea\u05d4\u05d5\u05dd \u05d5\u05e8\u05d5\u05d7 \u05d0\u05dc\u05d4\u05d9\u05dd \u05de\u05e8\u05d7\u05e4\u05ea \u05e2\u05dc\u05be\u05e4\u05e0\u05d9 \u05d4\u05de\u05d9\u05dd\u05c3\r\n",
        "\u05d5\u05d9\u05d0\u05de\u05e8 \u05d0\u05dc\u05d4\u05d9\u05dd \u05d9\u05d4\u05d9 \u05d0\u05d5\u05e8 \u05d5\u05d9\u05d4\u05d9\u05be\u05d0\u05d5\u05e8\u05c3\r\n",
        "\u05d5\u05d9\u05e8\u05d0 \u05d0\u05dc\u05d4\u05d9\u05dd \u05d0\u05ea\u05be\u05d4\u05d0\u05d5\u05e8 \u05db\u05d9\u05be\u05d8\u05d5\u05d1 \u05d5\u05d9\u05d1\u05d3\u05dc \u05d0\u05dc\u05d4\u05d9\u05dd \u05d1\u05d9\u05df \u05d4\u05d0\u05d5\u05e8 \u05d5\u05d1\u05d9\u05df \u05d4\u05d7\u05e9\u05c1\u05da\u05c3\r\n",
        "\u05d5\u05d9\u05e7\u05e8\u05d0 \u05d0\u05dc\u05d4\u05d9\u05dd \u05c0 \u05dc\u05d0\u05d5\u05e8 \u05d9\u05d5\u05dd \u05d5\u05dc\u05d7\u05e9\u05c1\u05da \u05e7\u05e8\u05d0 \u05dc\u05d9\u05dc\u05d4 \u05d5\u05d9\u05d4\u05d9\u05be\u05e2\u05e8\u05d1 \u05d5\u05d9\u05d4\u05d9\u05be\u05d1\u05e7\u05e8 \u05d9\u05d5\u05dd \u05d0\u05d7\u05d3\u05c3 \u05e4\r\n",
        "\u05d5\u05d9\u05d0\u05de\u05e8 \u05d0\u05dc\u05d4\u05d9\u05dd \u05d9\u05d4\u05d9 \u05e8\u05e7\u05d9\u05e2 \u05d1\u05ea\u05d5\u05da \u05d4\u05de\u05d9\u05dd \u05d5\u05d9\u05d4\u05d9 \u05de\u05d1\u05d3\u05d9\u05dc \u05d1\u05d9\u05df \u05de\u05d9\u05dd \u05dc\u05de\u05d9\u05dd\u05c3\r\n",
        "\u05d5\u05d9\u05e2\u05e9\u05c2 \u05d0\u05dc\u05d4\u05d9\u05dd \u05d0\u05ea\u05be\u05d4\u05e8\u05e7\u05d9\u05e2 \u05d5\u05d9\u05d1\u05d3\u05dc \u05d1\u05d9\u05df \u05d4\u05de\u05d9\u05dd \u05d0\u05e9\u05c1\u05e8 \u05de\u05ea\u05d7\u05ea \u05dc\u05e8\u05e7\u05d9\u05e2 \u05d5\u05d1\u05d9\u05df \u05d4\u05de\u05d9\u05dd \u05d0\u05e9\u05c1\u05e8 \u05de\u05e2\u05dc \u05dc\u05e8\u05e7\u05d9\u05e2 \u05d5\u05d9\u05d4\u05d9\u05be\u05db\u05df\u05c3\r\n",
        "\u05d5\u05d9\u05e7\u05e8\u05d0 \u05d0\u05dc\u05d4\u05d9\u05dd \u05dc\u05e8\u05e7\u05d9\u05e2 \u05e9\u05c1\u05de\u05d9\u05dd \u05d5\u05d9\u05d4\u05d9\u05be\u05e2\u05e8\u05d1 \u05d5\u05d9\u05d4\u05d9\u05be\u05d1\u05e7\u05e8 \u05d9\u05d5\u05dd \u05e9\u05c1\u05e0\u05d9\u05c3 \u05e4\r\n",
        "\u05d5\u05d9\u05d0\u05de\u05e8 \u05d0\u05dc\u05d4\u05d9\u05dd \u05d9\u05e7\u05d5\u05d5 \u05d4\u05de\u05d9\u05dd \u05de\u05ea\u05d7\u05ea \u05d4\u05e9\u05c1\u05de\u05d9\u05dd \u05d0\u05dc\u05be\u05de\u05e7\u05d5\u05dd \u05d0\u05d7\u05d3 \u05d5\u05ea\u05e8\u05d0\u05d4 \u05d4\u05d9\u05d1\u05e9\u05c1\u05d4 \u05d5\u05d9\u05d4\u05d9\u05be\u05db\u05df\u05c3\r\n",
        "\u05d5\u05d9\u05e7\u05e8\u05d0 \u05d0\u05dc\u05d4\u05d9\u05dd \u05c0 \u05dc\u05d9\u05d1\u05e9\u05c1\u05d4 \u05d0\u05e8\u05e5 \u05d5\u05dc\u05de\u05e7\u05d5\u05d4 \u05d4\u05de\u05d9\u05dd \u05e7\u05e8\u05d0 \u05d9\u05de\u05d9\u05dd \u05d5\u05d9\u05e8\u05d0 \u05d0\u05dc\u05d4\u05d9\u05dd \u05db\u05d9\u05be\u05d8\u05d5\u05d1\u05c3\r\n"
       ]
      }
     ],
     "prompt_number": 11
    },
    {
     "cell_type": "code",
     "collapsed": true,
     "input": [
      "!head -n 10 {my_file('bhs3_plaint.txt')}"
     ],
     "language": "python",
     "metadata": {},
     "outputs": [
      {
       "output_type": "stream",
       "stream": "stdout",
       "text": [
        "B.:- R;>CI73JT B.@R@74> >:ELOHI92Jm >;71T HA- C.@MA73JIm W:- >;71T H@- >@75REy00 \r\n",
        "W:- H@- >@81REy H@J:T@71H TO33HW.03 W@- BO80HW. W:- XO73CEk: <AL& P.:N;74J T:HO92Wm W:- R74W.XA >:ELOHI80Jm M:RAXE73PET <AL& P.:N;71J HA- M.@75JIm00 \r\n",
        "WA- J.O71>MER >:ELOHI73Jm J:HI74J >O92WR WA75- J:HIJ& >O75WR00 \r\n",
        "WA- J.A94R:> >:ELOHI91Jm >ET& H@- >O73WR K.IJ& VO92WB WA- J.AB:D.;74L >:ELOHI80Jm B.;71Jn H@- >O73WR W.- B;71Jn HA- XO75CEk:00 \r\n",
        "WA- J.IQ:R@63> >:ELOHI70Jm05 L@- >OWR03 - JO80Wm W:- LA- XO73CEk: - Q@74R@> L@92J:L@H WA75- J:HIJ& <E71REB WA75- J:HIJ& BO73QER JO71Wm >EX@75D00_P \r\n",
        "WA- J.O74>MER >:ELOHI80Jm J:HI71J R@QI73J<A B.:- TO74Wk: HA- M.@92JIm WI- JHI74J MAB:D.I80JL B.;71Jn MA73JIm L@- M@75JIm00 \r\n",
        "WA- J.A74<AF >:ELOHIJm02 >ET& H@- R@QIJ<A01 WA- J.AB:D.;81L B.;70Jn HA- M.A33JIm03 >:ACER03 MI- T.A74XAT L@- R@QI80J<A - W.- B;74Jn HA- M.A80JIm >:ACE73R M;- <A74L L@- R@QI92J<A - WA75- J:HIJ& K;75n00 \r\n",
        "WA- J.IQ:R@94> >:ELOHI91Jm L@75- R@QI73J<A - C@M@92JIm WA75- J:HIJ& <E71REB WA75- J:HIJ& BO73QER JO71Wm C;NI75J00_P \r\n",
        "WA- J.O74>MER >:ELOHI81Jm JIQ.@W63W. HA- M.A61JIm MI- T.A70XAT HA- C.@MA33JIm03 >EL& M@QO74Wm >EX@80D W:- T;R@>E73H HA- J.AB.@C@92H WA75- J:HIJ& K;75n00 \r\n",
        "WA- J.IQ:R@63> >:ELOHI70Jm05 LA- J.AB.@C@H03 - >E80REy W.- L:- MIQ:W;71H HA- M.A73JIm Q@R@74> JAM.I92Jm WA- J.A71R:> >:ELOHI73Jm K.IJ& VO75WB00 \r\n"
       ]
      }
     ],
     "prompt_number": 14
    },
    {
     "cell_type": "code",
     "collapsed": true,
     "input": [
      "!head -n 10 {my_file('bhs3_plaintc.txt')}"
     ],
     "language": "python",
     "metadata": {},
     "outputs": [
      {
       "output_type": "stream",
       "stream": "stdout",
       "text": [
        "B R>CJT BR> >LHJM >T H CMJM W >T H >RY \r\n",
        "W H >RY HJTH THW W BHW W XCK <L PNJ THWM W RWX >LHJM MRXPT <L PNJ H MJM \r\n",
        "W J>MR >LHJM JHJ >WR W JHJ >WR \r\n",
        "W JR> >LHJM >T H >WR KJ VWB W JBDL >LHJM BJN H >WR W BJN H XCK \r\n",
        "W JQR> >LHJM L >WR . JWM W L XCK . QR> LJLH W JHJ <RB W JHJ BQR JWM >XD \r\n",
        "W J>MR >LHJM JHJ RQJ< B TWK H MJM W JHJ MBDJL BJN MJM L MJM \r\n",
        "W J<F >LHJM >T H RQJ< W JBDL BJN H MJM >CR M TXT L RQJ< . W BJN H MJM >CR M <L L RQJ< . W JHJ KN \r\n",
        "W JQR> >LHJM L RQJ< . CMJM W JHJ <RB W JHJ BQR JWM CNJ \r\n",
        "W J>MR >LHJM JQWW H MJM M TXT H CMJM >L MQWM >XD W TR>H H JBCH W JHJ KN \r\n",
        "W JQR> >LHJM L JBCH . >RY W L MQWH H MJM QR> JMJM W JR> >LHJM KJ VWB \r\n"
       ]
      }
     ],
     "prompt_number": 15
    },
    {
     "cell_type": "heading",
     "level": 2,
     "metadata": {},
     "source": [
      "Passage indicators"
     ]
    },
    {
     "cell_type": "markdown",
     "metadata": {},
     "source": [
      "If you want books, chapters and verses marked, you can achieve it in the following way:"
     ]
    },
    {
     "cell_type": "code",
     "collapsed": false,
     "input": [
      "plainx_file = processor.add_output(\"bhs3_plainx.txt\")\n",
      "\n",
      "the_book = None\n",
      "the_chapter = None\n",
      "the_verse = None\n",
      "\n",
      "for i in NN():\n",
      "    this_type = F.shebanq_db_otype.v(i)\n",
      "    if this_type == \"word\":\n",
      "        the_text = F.shebanq_ft_text.v(i)\n",
      "        the_suffix = F.shebanq_ft_suffix.v(i)\n",
      "        plainx_file.write(the_text + the_suffix)\n",
      "    elif this_type == \"book\":\n",
      "        the_book = F.shebanq_sft_book.v(i)\n",
      "        sys.stderr.write(\"\\r{:>6} {:<30}\".format(i, the_book)) \n",
      "        plainx_file.write(\"\\n{}\".format(the_book))\n",
      "    elif this_type == \"chapter\":\n",
      "        the_chapter = F.shebanq_sft_chapter.v(i)\n",
      "        plainx_file.write(\"\\n{} {}\".format(the_book, the_chapter))\n",
      "    elif this_type == \"verse\":\n",
      "        the_verse = F.shebanq_sft_verse.v(i)\n",
      "        plainx_file.write(\"\\n{}:{} \".format(the_chapter, the_verse))\n",
      "sys.stderr.write(\"\\n\")\n",
      "\n",
      "plainx_file.close()"
     ],
     "language": "python",
     "metadata": {},
     "outputs": [
      {
       "output_type": "stream",
       "stream": "stderr",
       "text": [
        "\r",
        "1384311 Genesis                       \r",
        "1384312 Exodus                        "
       ]
      },
      {
       "output_type": "stream",
       "stream": "stderr",
       "text": [
        "\r",
        "1384313 Leviticus                     \r",
        "1384314 Numbers                       "
       ]
      },
      {
       "output_type": "stream",
       "stream": "stderr",
       "text": [
        "\r",
        "1384315 Deuteronomy                   \r",
        "1384316 Joshua                        "
       ]
      },
      {
       "output_type": "stream",
       "stream": "stderr",
       "text": [
        "\r",
        "1384317 Judges                        \r",
        "1384318 I_Samuel                      "
       ]
      },
      {
       "output_type": "stream",
       "stream": "stderr",
       "text": [
        "\r",
        "1384319 II_Samuel                     \r",
        "1384320 I_Kings                       "
       ]
      },
      {
       "output_type": "stream",
       "stream": "stderr",
       "text": [
        "\r",
        "1384321 II_Kings                      \r",
        "1384322 Isaiah                        "
       ]
      },
      {
       "output_type": "stream",
       "stream": "stderr",
       "text": [
        "\r",
        "1384323 Jeremiah                      \r",
        "1384324 Ezekiel                       "
       ]
      },
      {
       "output_type": "stream",
       "stream": "stderr",
       "text": [
        "\r",
        "1384325 Hosea                         \r",
        "1384326 Joel                          \r",
        "1384327 Amos                          \r",
        "1384328 Obadiah                       \r",
        "1384329 Jonah                         \r",
        "1384330 Micah                         \r",
        "1384331 Nahum                         "
       ]
      },
      {
       "output_type": "stream",
       "stream": "stderr",
       "text": [
        "\r",
        "1384332 Habakkuk                      \r",
        "1384333 Zephaniah                     \r",
        "1384334 Haggai                        \r",
        "1384335 Zechariah                     \r",
        "1384336 Malachi                       \r",
        "1384337 Psalms                        "
       ]
      },
      {
       "output_type": "stream",
       "stream": "stderr",
       "text": [
        "\r",
        "1384338 Job                           \r",
        "1384339 Proverbs                      "
       ]
      },
      {
       "output_type": "stream",
       "stream": "stderr",
       "text": [
        "\r",
        "1384340 Ruth                          \r",
        "1384341 Canticles                     \r",
        "1384342 Ecclesiastes                  \r",
        "1384343 Lamentations                  \r",
        "1384344 Esther                        "
       ]
      },
      {
       "output_type": "stream",
       "stream": "stderr",
       "text": [
        "\r",
        "1384345 Daniel                        \r",
        "1384346 Ezra                          \r",
        "1384347 Nehemiah                      "
       ]
      },
      {
       "output_type": "stream",
       "stream": "stderr",
       "text": [
        "\r",
        "1384348 I_Chronicles                  \r",
        "1384349 II_Chronicles                 "
       ]
      },
      {
       "output_type": "stream",
       "stream": "stderr",
       "text": [
        "\n"
       ]
      }
     ],
     "prompt_number": 42
    },
    {
     "cell_type": "code",
     "collapsed": false,
     "input": [
      "!head -n 10 {my_file('bhs3_plainx.txt')}"
     ],
     "language": "python",
     "metadata": {},
     "outputs": [
      {
       "output_type": "stream",
       "stream": "stdout",
       "text": [
        "\r\n",
        "Genesis\r\n",
        "Genesis 1\r\n",
        "1:1 \u05d1\u05b0\u05bc\u05e8\u05b5\u05d0\u05e9\u05b4\u05c1\u0596\u05d9\u05ea \u05d1\u05b8\u05bc\u05e8\u05b8\u05a3\u05d0 \u05d0\u05b1\u05dc\u05b9\u05d4\u05b4\u0591\u05d9\u05dd \u05d0\u05b5\u05a5\u05ea \u05d4\u05b7\u05e9\u05b8\u05bc\u05c1\u05de\u05b7\u0596\u05d9\u05b4\u05dd \u05d5\u05b0\u05d0\u05b5\u05a5\u05ea \u05d4\u05b8\u05d0\u05b8\u05bd\u05e8\u05b6\u05e5\u05c3\r\n",
        "1:2 \u05d5\u05b0\u05d4\u05b8\u05d0\u05b8\u0597\u05e8\u05b6\u05e5 \u05d4\u05b8\u05d9\u05b0\u05ea\u05b8\u05a5\u05d4 \u05ea\u05b9\u05a8\u05d4\u05d5\u05bc\u0599 \u05d5\u05b8\u05d1\u05b9\u0594\u05d4\u05d5\u05bc \u05d5\u05b0\u05d7\u05b9\u0596\u05e9\u05b6\u05c1\u05da\u05b0 \u05e2\u05b7\u05dc\u05be\u05e4\u05b0\u05bc\u05e0\u05b5\u05a3\u05d9 \u05ea\u05b0\u05d4\u05b9\u0591\u05d5\u05dd \u05d5\u05b0\u05e8\u05a3\u05d5\u05bc\u05d7\u05b7 \u05d0\u05b1\u05dc\u05b9\u05d4\u05b4\u0594\u05d9\u05dd \u05de\u05b0\u05e8\u05b7\u05d7\u05b6\u0596\u05e4\u05b6\u05ea \u05e2\u05b7\u05dc\u05be\u05e4\u05b0\u05bc\u05e0\u05b5\u05a5\u05d9 \u05d4\u05b7\u05de\u05b8\u05bc\u05bd\u05d9\u05b4\u05dd\u05c3\r\n",
        "1:3 \u05d5\u05b7\u05d9\u05b9\u05bc\u05a5\u05d0\u05de\u05b6\u05e8 \u05d0\u05b1\u05dc\u05b9\u05d4\u05b4\u0596\u05d9\u05dd \u05d9\u05b0\u05d4\u05b4\u05a3\u05d9 \u05d0\u05b9\u0591\u05d5\u05e8 \u05d5\u05b7\u05bd\u05d9\u05b0\u05d4\u05b4\u05d9\u05be\u05d0\u05b9\u05bd\u05d5\u05e8\u05c3\r\n",
        "1:4 \u05d5\u05b7\u05d9\u05b7\u05bc\u05a7\u05e8\u05b0\u05d0 \u05d0\u05b1\u05dc\u05b9\u05d4\u05b4\u059b\u05d9\u05dd \u05d0\u05b6\u05ea\u05be\u05d4\u05b8\u05d0\u05b9\u0596\u05d5\u05e8 \u05db\u05b4\u05bc\u05d9\u05be\u05d8\u05b9\u0591\u05d5\u05d1 \u05d5\u05b7\u05d9\u05b7\u05bc\u05d1\u05b0\u05d3\u05b5\u05bc\u05a3\u05dc \u05d0\u05b1\u05dc\u05b9\u05d4\u05b4\u0594\u05d9\u05dd \u05d1\u05b5\u05bc\u05a5\u05d9\u05df \u05d4\u05b8\u05d0\u05b9\u0596\u05d5\u05e8 \u05d5\u05bc\u05d1\u05b5\u05a5\u05d9\u05df \u05d4\u05b7\u05d7\u05b9\u05bd\u05e9\u05b6\u05c1\u05da\u05b0\u05c3\r\n",
        "1:5 \u05d5\u05b7\u05d9\u05b4\u05bc\u05e7\u05b0\u05e8\u05b8\u05a8\u05d0 \u05d0\u05b1\u05dc\u05b9\u05d4\u05b4\u05a4\u05d9\u05dd \u05c0 \u05dc\u05b8\u05d0\u05b9\u05d5\u05e8\u0599 \u05d9\u05b9\u0594\u05d5\u05dd \u05d5\u05b0\u05dc\u05b7\u05d7\u05b9\u0596\u05e9\u05b6\u05c1\u05da\u05b0 \u05e7\u05b8\u05a3\u05e8\u05b8\u05d0 \u05dc\u05b8\u0591\u05d9\u05b0\u05dc\u05b8\u05d4 \u05d5\u05b7\u05bd\u05d9\u05b0\u05d4\u05b4\u05d9\u05be\u05e2\u05b6\u05a5\u05e8\u05b6\u05d1 \u05d5\u05b7\u05bd\u05d9\u05b0\u05d4\u05b4\u05d9\u05be\u05d1\u05b9\u0596\u05e7\u05b6\u05e8 \u05d9\u05b9\u05a5\u05d5\u05dd \u05d0\u05b6\u05d7\u05b8\u05bd\u05d3\u05c3 \u05e4\r\n",
        "1:6 \u05d5\u05b7\u05d9\u05b9\u05bc\u05a3\u05d0\u05de\u05b6\u05e8 \u05d0\u05b1\u05dc\u05b9\u05d4\u05b4\u0594\u05d9\u05dd \u05d9\u05b0\u05d4\u05b4\u05a5\u05d9 \u05e8\u05b8\u05e7\u05b4\u0596\u05d9\u05e2\u05b7 \u05d1\u05b0\u05bc\u05ea\u05b9\u05a3\u05d5\u05da\u05b0 \u05d4\u05b7\u05de\u05b8\u05bc\u0591\u05d9\u05b4\u05dd \u05d5\u05b4\u05d9\u05d4\u05b4\u05a3\u05d9 \u05de\u05b7\u05d1\u05b0\u05d3\u05b4\u05bc\u0594\u05d9\u05dc \u05d1\u05b5\u05bc\u05a5\u05d9\u05df \u05de\u05b7\u0596\u05d9\u05b4\u05dd \u05dc\u05b8\u05de\u05b8\u05bd\u05d9\u05b4\u05dd\u05c3\r\n",
        "1:7 \u05d5\u05b7\u05d9\u05b7\u05bc\u05a3\u05e2\u05b7\u05e9\u05c2 \u05d0\u05b1\u05dc\u05b9\u05d4\u05b4\u05d9\u05dd\u05ae \u05d0\u05b6\u05ea\u05be\u05d4\u05b8\u05e8\u05b8\u05e7\u05b4\u05d9\u05e2\u05b7\u0592 \u05d5\u05b7\u05d9\u05b7\u05bc\u05d1\u05b0\u05d3\u05b5\u05bc\u0597\u05dc \u05d1\u05b5\u05bc\u05a4\u05d9\u05df \u05d4\u05b7\u05de\u05b7\u05bc\u05a8\u05d9\u05b4\u05dd\u0599 \u05d0\u05b2\u05e9\u05b6\u05c1\u05e8\u0599 \u05de\u05b4\u05ea\u05b7\u05bc\u05a3\u05d7\u05b7\u05ea \u05dc\u05b8\u05e8\u05b8\u05e7\u05b4\u0594\u05d9\u05e2\u05b7 \u05d5\u05bc\u05d1\u05b5\u05a3\u05d9\u05df \u05d4\u05b7\u05de\u05b7\u05bc\u0594\u05d9\u05b4\u05dd \u05d0\u05b2\u05e9\u05b6\u05c1\u0596\u05e8 \u05de\u05b5\u05e2\u05b7\u05a3\u05dc \u05dc\u05b8\u05e8\u05b8\u05e7\u05b4\u0591\u05d9\u05e2\u05b7 \u05d5\u05b7\u05bd\u05d9\u05b0\u05d4\u05b4\u05d9\u05be\u05db\u05b5\u05bd\u05df\u05c3\r\n"
       ]
      }
     ],
     "prompt_number": 43
    },
    {
     "cell_type": "heading",
     "level": 2,
     "metadata": {},
     "source": [
      "Verse list"
     ]
    },
    {
     "cell_type": "markdown",
     "metadata": {},
     "source": [
      "We can get the text in a quite different way: just read it from the *primary data*.\n",
      "\n",
      "Let us do that per verse."
     ]
    },
    {
     "cell_type": "code",
     "collapsed": false,
     "input": [
      "verse_file = processor.add_output(\"bhs3_verses.txt\")\n",
      "\n",
      "for i in F.shebanq_db_otype.s('verse'):\n",
      "    the_text = ''.join([txt for (j, txt) in P.data(i)])\n",
      "    the_verse = F.shebanq_sft_verse_label.v(i)\n",
      "    verse_file.write(\"{}\\n{}\\n\".format(the_verse, the_text))\n",
      "\n",
      "verse_file.close()"
     ],
     "language": "python",
     "metadata": {},
     "outputs": [],
     "prompt_number": 44
    },
    {
     "cell_type": "code",
     "collapsed": false,
     "input": [
      "!head -n 10 {my_file('bhs3_verses.txt')}"
     ],
     "language": "python",
     "metadata": {},
     "outputs": [
      {
       "output_type": "stream",
       "stream": "stdout",
       "text": [
        " GEN 01,01\r\n",
        "\u05d1\u05b0\u05bc\u05e8\u05b5\u05d0\u05e9\u05b4\u05c1\u0596\u05d9\u05ea \u05d1\u05b8\u05bc\u05e8\u05b8\u05a3\u05d0 \u05d0\u05b1\u05dc\u05b9\u05d4\u05b4\u0591\u05d9\u05dd \u05d0\u05b5\u05a5\u05ea \u05d4\u05b7\u05e9\u05b8\u05bc\u05c1\u05de\u05b7\u0596\u05d9\u05b4\u05dd \u05d5\u05b0\u05d0\u05b5\u05a5\u05ea \u05d4\u05b8\u05d0\u05b8\u05bd\u05e8\u05b6\u05e5\u05c3\r\n",
        " GEN 01,02\r\n",
        "\u05d5\u05b0\u05d4\u05b8\u05d0\u05b8\u0597\u05e8\u05b6\u05e5 \u05d4\u05b8\u05d9\u05b0\u05ea\u05b8\u05a5\u05d4 \u05ea\u05b9\u05a8\u05d4\u05d5\u05bc\u0599 \u05d5\u05b8\u05d1\u05b9\u0594\u05d4\u05d5\u05bc \u05d5\u05b0\u05d7\u05b9\u0596\u05e9\u05b6\u05c1\u05da\u05b0 \u05e2\u05b7\u05dc\u05be\u05e4\u05b0\u05bc\u05e0\u05b5\u05a3\u05d9 \u05ea\u05b0\u05d4\u05b9\u0591\u05d5\u05dd \u05d5\u05b0\u05e8\u05a3\u05d5\u05bc\u05d7\u05b7 \u05d0\u05b1\u05dc\u05b9\u05d4\u05b4\u0594\u05d9\u05dd \u05de\u05b0\u05e8\u05b7\u05d7\u05b6\u0596\u05e4\u05b6\u05ea \u05e2\u05b7\u05dc\u05be\u05e4\u05b0\u05bc\u05e0\u05b5\u05a5\u05d9 \u05d4\u05b7\u05de\u05b8\u05bc\u05bd\u05d9\u05b4\u05dd\u05c3\r\n",
        " GEN 01,03\r\n",
        "\u05d5\u05b7\u05d9\u05b9\u05bc\u05a5\u05d0\u05de\u05b6\u05e8 \u05d0\u05b1\u05dc\u05b9\u05d4\u05b4\u0596\u05d9\u05dd \u05d9\u05b0\u05d4\u05b4\u05a3\u05d9 \u05d0\u05b9\u0591\u05d5\u05e8 \u05d5\u05b7\u05bd\u05d9\u05b0\u05d4\u05b4\u05d9\u05be\u05d0\u05b9\u05bd\u05d5\u05e8\u05c3\r\n",
        " GEN 01,04\r\n",
        "\u05d5\u05b7\u05d9\u05b7\u05bc\u05a7\u05e8\u05b0\u05d0 \u05d0\u05b1\u05dc\u05b9\u05d4\u05b4\u059b\u05d9\u05dd \u05d0\u05b6\u05ea\u05be\u05d4\u05b8\u05d0\u05b9\u0596\u05d5\u05e8 \u05db\u05b4\u05bc\u05d9\u05be\u05d8\u05b9\u0591\u05d5\u05d1 \u05d5\u05b7\u05d9\u05b7\u05bc\u05d1\u05b0\u05d3\u05b5\u05bc\u05a3\u05dc \u05d0\u05b1\u05dc\u05b9\u05d4\u05b4\u0594\u05d9\u05dd \u05d1\u05b5\u05bc\u05a5\u05d9\u05df \u05d4\u05b8\u05d0\u05b9\u0596\u05d5\u05e8 \u05d5\u05bc\u05d1\u05b5\u05a5\u05d9\u05df \u05d4\u05b7\u05d7\u05b9\u05bd\u05e9\u05b6\u05c1\u05da\u05b0\u05c3\r\n",
        " GEN 01,05\r\n",
        "\u05d5\u05b7\u05d9\u05b4\u05bc\u05e7\u05b0\u05e8\u05b8\u05a8\u05d0 \u05d0\u05b1\u05dc\u05b9\u05d4\u05b4\u05a4\u05d9\u05dd \u05c0 \u05dc\u05b8\u05d0\u05b9\u05d5\u05e8\u0599 \u05d9\u05b9\u0594\u05d5\u05dd \u05d5\u05b0\u05dc\u05b7\u05d7\u05b9\u0596\u05e9\u05b6\u05c1\u05da\u05b0 \u05e7\u05b8\u05a3\u05e8\u05b8\u05d0 \u05dc\u05b8\u0591\u05d9\u05b0\u05dc\u05b8\u05d4 \u05d5\u05b7\u05bd\u05d9\u05b0\u05d4\u05b4\u05d9\u05be\u05e2\u05b6\u05a5\u05e8\u05b6\u05d1 \u05d5\u05b7\u05bd\u05d9\u05b0\u05d4\u05b4\u05d9\u05be\u05d1\u05b9\u0596\u05e7\u05b6\u05e8 \u05d9\u05b9\u05a5\u05d5\u05dd \u05d0\u05b6\u05d7\u05b8\u05bd\u05d3\u05c3 \u05e4\r\n"
       ]
      }
     ],
     "prompt_number": 45
    },
    {
     "cell_type": "heading",
     "level": 2,
     "metadata": {},
     "source": [
      "Empty words"
     ]
    },
    {
     "cell_type": "markdown",
     "metadata": {},
     "source": [
      "There are words that have an empty representation.\n",
      "\n",
      "Let us have a closer look.\n",
      "How frequent are they and to what lexemes do they correspond, and what is their part of speech?"
     ]
    },
    {
     "cell_type": "code",
     "collapsed": false,
     "input": [
      "ewords = collections.defaultdict(lambda: [])\n",
      "verse = None\n",
      "\n",
      "for i in NN(test=F.shebanq_db_otype.v, values=['verse', 'word']):\n",
      "    if F.shebanq_db_otype.v(i) == 'verse':\n",
      "        verse = i\n",
      "        continue\n",
      "    text = F.shebanq_ft_text.v(i)\n",
      "    if text == '':\n",
      "        lex = F.shebanq_ft_lexeme_utf8.v(i)\n",
      "        pos = F.shebanq_ft_part_of_speech.v(i)\n",
      "        ewords[(lex, pos)].append(verse)\n",
      "\n",
      "for (item, occs) in sorted(ewords.items(), key=lambda x: (-len(x[1]), x[0][1], x[0][0])):\n",
      "    print(\"{:>6} x {:<15} = {:>10} in {}{}\".format(\n",
      "        len(occs), \n",
      "        item[1], \n",
      "        item[0], \n",
      "        \"; \".join([F.shebanq_sft_verse_label.v(j) for j in occs][0:5]),\n",
      "        ' ...' if len(occs) > 20 else '',\n",
      "    ))"
     ],
     "language": "python",
     "metadata": {},
     "outputs": [
      {
       "output_type": "stream",
       "stream": "stdout",
       "text": [
        "  6463 x article         =          \u05d4 in  GEN 01,05;  GEN 01,05;  GEN 01,07;  GEN 01,07;  GEN 01,08 ...\n",
        "    12 x conjunction     =          \u05d5 in IIKON04,07;  JES 55,13;  IOB 02,07;  PRO 23,24;  PRO 27,24\n",
        "     2 x noun            =         \u05d1\u05e0 in RICHT20,13; IIKON19,37\n",
        "     2 x preposition     =         \u05d0\u05dc in  RUTH03,05;  RUTH03,17\n",
        "     1 x adverb          =         \u05db\u05e0 in IISA 18,20\n",
        "     1 x noun            =       \u05d0\u05d9\u05e9\u05c1 in IISA 16,23\n",
        "     1 x noun            =         \u05db\u05dc in  EZE 09,11\n",
        "     1 x noun            =        \u05e4\u05e8\u05ea in IISA 08,03\n",
        "     1 x noun            =        \u05e6\u05d1\u05d0 in IIKON19,31\n",
        "     1 x preposition     =          \u05d1 in IISA 21,09\n",
        "     1 x preposition     =          \u05dc in  JER 50,29\n",
        "     1 x verb            =        \u05d1\u05d5\u05d0 in  JER 31,38\n"
       ]
      }
     ],
     "prompt_number": 46
    },
    {
     "cell_type": "code",
     "collapsed": false,
     "input": [
      "processor.final()"
     ],
     "language": "python",
     "metadata": {},
     "outputs": [
      {
       "output_type": "stream",
       "stream": "stderr",
       "text": [
        "    52s END TASK plain\n"
       ]
      },
      {
       "output_type": "stream",
       "stream": "stderr",
       "text": [
        "    52s Results directory:\n",
        "/Users/dirk/Scratch/laf-fabric-data/bhs3.txt.hdr/plain\n"
       ]
      },
      {
       "output_type": "stream",
       "stream": "stderr",
       "text": [
        "__log__plain.txt                        220 Sat Mar  1 07:55:35 2014\n",
        "bhs3_plain.txt                      5384161 Sat Mar  1 07:54:56 2014\n",
        "bhs3_plainc.txt                     2920809 Sat Mar  1 07:54:56 2014\n",
        "bhs3_plainx.txt                     5519720 Sat Mar  1 07:55:08 2014\n",
        "bhs3_verses.txt                     5639613 Sat Mar  1 07:55:22 2014\n",
        "suffixes.txt                            202 Sat Mar  1 07:54:48 2014\n"
       ]
      }
     ],
     "prompt_number": 47
    },
    {
     "cell_type": "code",
     "collapsed": false,
     "input": [],
     "language": "python",
     "metadata": {},
     "outputs": []
    }
   ],
   "metadata": {}
  }
 ]
}